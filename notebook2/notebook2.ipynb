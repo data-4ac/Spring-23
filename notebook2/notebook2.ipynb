{
 "cells": [
  {
   "cell_type": "markdown",
   "metadata": {
    "#student": false
   },
   "source": [
    "# Notebook 2: Japanese-American Incarceration During World War II\n",
    "\n",
    "Executive Order 9066 was signed and issued by President Franklin Roosevelt on February 19, 1942. This order gave the U.S. army authorization to evacuate any individual considered a threat to national security from designated military exclusion zones along the West Coast to internment camps further inland. The passing of this executive order began the process of funneling Japanese-Americans into intermediate assembly centers and finally permanent internment centers. \n",
    "\n",
    "By working through this notebook, you will be able to visualize the forced movement of Japanese-Americans, from the West Coast of the United States, to scattered detainment camps, and eventually to cities throughout the country. \n",
    "\n",
    "This module is a living document. Please fill out the module feedback survey if you think there are ways we can improve it. To learn more about the vocabulary used visit the [Densho website](https://densho.org/terminology/). We encourage you to listen to [narratives of survivors](https://densho.org/campu/) to learn more about their lives during incarceration. \n",
    "\n",
    "### Learning Outcomes\n",
    "After completing this notebook, you will learn about:\n",
    "- The displacement of Japanese-Americans before and after incarceration\n",
    "- Basic data cleaning and exploratory data analysis\n",
    "- Recognizing how data can restrict the types of analysis we can perform\n",
    "- Using different visualizations to discover traits about our data\n",
    "\n",
    "---\n",
    "\n",
    "### Table of Contents\n",
    "1. [Section 1: The Data Science Lifecycle](#dslifecycle)\n",
    "2. [Section 2: The Data](#data)\n",
    "3. [Section 3: Data Exploration and Visualization](#eda)\n",
    "4. [Section 4: Assembly Centers and Internment Centers](#section4)\n",
    "5. [Section 5: Mapping and Movement](#section5)\n",
    "\n",
    "**Dependencies**"
   ]
  },
  {
   "cell_type": "code",
   "execution_count": 1,
   "metadata": {
    "#student": false,
    "execution": {
     "iopub.execute_input": "2022-10-25T19:29:26.063152Z",
     "iopub.status.busy": "2022-10-25T19:29:26.046397Z",
     "iopub.status.idle": "2022-10-25T19:29:40.063113Z",
     "shell.execute_reply": "2022-10-25T19:29:40.060874Z",
     "shell.execute_reply.started": "2022-10-25T19:29:26.052849Z"
    }
   },
   "outputs": [
    {
     "name": "stderr",
     "output_type": "stream",
     "text": [
      "/Library/Frameworks/Python.framework/Versions/3.10/lib/python3.10/site-packages/IPython/core/interactiveshell.py:3553: FutureWarning: The error_bad_lines argument has been deprecated and will be removed in a future version.\n",
      "\n",
      "\n",
      "  exec(code_obj, self.user_global_ns, self.user_ns)\n"
     ]
    }
   ],
   "source": [
    "# Run this cell!\n",
    "import otter\n",
    "from IPython.display import HTML\n",
    "import pandas as pd\n",
    "import numpy as np\n",
    "import matplotlib.pyplot as plt\n",
    "import seaborn as sns\n",
    "import folium\n",
    "import plotly.express as px\n",
    "import plotly.figure_factory as ff\n",
    "import ipywidgets as widgets\n",
    "from ipywidgets import interact, interactive, fixed, interact_manual\n",
    "\n",
    "generator = otter.Notebook()\n",
    "\n",
    "relocations_cities = pd.read_csv(\"data/RelocationDestinations_Cities_LL.csv\")\n"
   ]
  },
  {
   "cell_type": "markdown",
   "metadata": {
    "#student": false
   },
   "source": [
    "---\n",
    "\n",
    "## Section 1: The Data Science Lifecycle<a id='dslifecycle'></a>\n",
    "\n",
    "\n",
    "In data science, we utilize large and diverse datasets to make conclusions and predictions about the world we live in. Doing so involves a process called the data science lifecycle, which is a high-level description of the stages of work that data scientists perform as they work on a data science project. There are a number of data science lifecycles that people have developed and use to learn and practice data science. The lifecycle that we will be working with in DATA-4AC is a newly updated lifecycle that considers the human contexts and ethics of data at every stage. \n",
    "\n",
    "\n",
    "<img src=\"images/dsethoslifecycle.png\" width=\"450\">\n",
    "\n",
    "This process is often iterated as new questions and problems emerge after the last step that enable data practitioners  to learn more about the characteristics and patterns of the world, which in turn informs the kinds of questions that are asked.\n",
    "\n",
    "In this notebook, we'll focus on stages 2 and 3. We'll first introduce the data sets used in this notebook and then take a deeper look into the data through exploratory data analysis (EDA). We perform EDA to uncover any patterns or features from the data and better understand the underlying structure. EDA can involve looking for outliers or anomalies, identifying important variables, and data visualization. "
   ]
  },
  {
   "cell_type": "markdown",
   "metadata": {
    "cell_id": "00003-d8788f7f-97b3-4d3a-882e-04f016c8ca26"
   },
   "source": [
    "----\n",
    "\n",
    "## Section 2: Data Discovery - What is our data? Where does it come from? What is in it? <a id='data'></a>\n",
    "\n",
    "\n",
    "We will be working with a dataset that was manually digitized from tables in \n",
    "*The Evacuated People: A Quantitative Description*, a report published by the War \n",
    "Relocation Authority (WRA) in 1946. The WRA was the government agency that oversaw the \n",
    "forced relocation of Japanese-Americans and was first established via Executive Order 9102 \n",
    "on March 18, 1942.  *The Evacuated People* contains statistics and more than 100 tables \n",
    "concerning the 120,313 Japanese Americans that were under the authority of the WRA. The WRA created the data as part of and in order to pursue its \"program\" of detaining Japanese-Americans.\n",
    "\n",
    "\n",
    "The tables in this report were transcribed  manually because the results from automatic scraping (using a computer program to extract the data) contained too many errors  (a person named [Cooper Thomas created the dataset](https://data.world/infinitecoop/japanese-internment-camps/) we will be using). Thus, there may still be some human error. The datasets include the populations of each camp by month, the relocation destinations of those who were incarcerated, and the Japanese-American population in the United States before and during the war. Take a look at the full dataset [here](https://data.world/infinitecoop/japanese-internment-camps/).\n",
    "\n",
    "The second dataset we're working with is from the story map \"Behind Barbed Wire,\" created by the Library of Congress. The data comes from newspapers that were produced by Japanese-American detainees while they lived in the camps. Camp newspapers circulated administrative announcements, events, vital statistics, news from other camps, and other information about daily camp life. They also included [comics](https://www.loc.gov/resource/sn84024049/1942-11-18/ed-1/?sp=7), opinion pieces, job opportunities, and even results from baseball games. These newspapers helped maintain a sense of normalcy for their detained authors and readers, something that the WRA tables do not reflect. You can access the data and read about the newspapers [here](https://tinyurl.com/y4g5kq77). \n",
    "Note that this dataset provides similar data, though not at the same scope as the data from the WRA report - we will discuss more in section 3. Data scientists will often use multiple data sets to build a clearer picture by combining them or analyzing both in parallel."
   ]
  },
  {
   "cell_type": "markdown",
   "metadata": {},
   "source": [
    "\n",
    "<!-- BEGIN QUESTION -->\n",
    "\n",
    "<div class=\"alert alert-block alert-info\">\n",
    "<b>Question 2a:</b> Considering the context in which a dataset was produced is critical to beginning to make sense of the human contexts and ethics of a data science project. In this notebook, we are using two datasets with very different contexts for our analysis. Take a moment to review the contexts of the two datasets.\n",
    "    \n",
    "- Who created each? What was the purpose for the creation of each? How was each dataset used? By whom? \n",
    "- How might this context bear upon the data categories and values in each dataset? \n",
    "\n",
    "Hint: You can consider issues like comprehensibility or accuracy.\n",
    "</div>\n",
    "\n",
    "<!--\n",
    "BEGIN QUESTION\n",
    "name: q2a\n",
    "points: 1\n",
    "manual: true\n",
    "-->"
   ]
  },
  {
   "cell_type": "markdown",
   "metadata": {},
   "source": [
    "**Answer:** YOUR ANSWER HERE"
   ]
  },
  {
   "cell_type": "markdown",
   "metadata": {},
   "source": [
    "<!-- END QUESTION -->\n",
    "\n",
    "\n",
    "<img src=\"images/Posted_Japanese_American_Exclusion_Order.png\" width=\"450\">\n",
    "<center> This image is available from the United States Library of Congress's Prints and Photographs division.\n",
    "\n",
    "Below, we are loading in two datasets and doing a bit of data cleaning, which is the process of fixing or removing missing, incorrect, duplicate, or improperly formatted data. The first dataset is from the manually transcribed WRA tables of the camp populations from each month and we are converting the data type of the `date` column into something easier for us to work with. The second dataset is from \"Behind Barbed Wire\" concerning the location of each internment camp and its maximum population. The maximum population is tweaked to change it to a number rather than a string."
   ]
  },
  {
   "cell_type": "code",
   "execution_count": 2,
   "metadata": {
    "#student": false,
    "execution": {
     "iopub.execute_input": "2022-10-25T19:29:40.070287Z",
     "iopub.status.busy": "2022-10-25T19:29:40.068075Z",
     "iopub.status.idle": "2022-10-25T19:29:40.164221Z",
     "shell.execute_reply": "2022-10-25T19:29:40.163196Z",
     "shell.execute_reply.started": "2022-10-25T19:29:40.070251Z"
    }
   },
   "outputs": [],
   "source": [
    "pop_by_month = pd.read_csv(\"data/CampPopulationsByMonth.csv\", thousands = ',')\n",
    "pop_by_month['Date']= pd.to_datetime(pop_by_month['Date']) \n",
    "\n",
    "camps = pd.read_csv('data/BehindBarbedWire_StoryMap_InternmentCampLocationsMap_Data.csv')\n",
    "camps[\"Maximum Population\"] = camps[\"Maximum Population\"].str.replace(',', '')\n",
    "camps['Maximum Population'] = camps['Maximum Population'].astype(float)"
   ]
  },
  {
   "cell_type": "markdown",
   "metadata": {
    "#student": false
   },
   "source": [
    "We'll first look at the `pop_by_month` table, which has the population of each of the ten camps at the start of every month."
   ]
  },
  {
   "cell_type": "code",
   "execution_count": 3,
   "metadata": {
    "#student": false,
    "execution": {
     "iopub.execute_input": "2022-10-25T19:29:40.182313Z",
     "iopub.status.busy": "2022-10-25T19:29:40.179478Z",
     "iopub.status.idle": "2022-10-25T19:29:40.263598Z",
     "shell.execute_reply": "2022-10-25T19:29:40.259169Z",
     "shell.execute_reply.started": "2022-10-25T19:29:40.181970Z"
    }
   },
   "outputs": [
    {
     "data": {
      "text/html": [
       "<div>\n",
       "<style scoped>\n",
       "    .dataframe tbody tr th:only-of-type {\n",
       "        vertical-align: middle;\n",
       "    }\n",
       "\n",
       "    .dataframe tbody tr th {\n",
       "        vertical-align: top;\n",
       "    }\n",
       "\n",
       "    .dataframe thead th {\n",
       "        text-align: right;\n",
       "    }\n",
       "</style>\n",
       "<table border=\"1\" class=\"dataframe\">\n",
       "  <thead>\n",
       "    <tr style=\"text-align: right;\">\n",
       "      <th></th>\n",
       "      <th>Date</th>\n",
       "      <th>Total</th>\n",
       "      <th>Topaz/Central Utah</th>\n",
       "      <th>Poston/Colorado River</th>\n",
       "      <th>Gila River</th>\n",
       "      <th>Granada</th>\n",
       "      <th>Heart Mountain</th>\n",
       "      <th>Jerome</th>\n",
       "      <th>Manzanar</th>\n",
       "      <th>Minidoka</th>\n",
       "      <th>Rohwer</th>\n",
       "      <th>Tule Lake</th>\n",
       "    </tr>\n",
       "  </thead>\n",
       "  <tbody>\n",
       "    <tr>\n",
       "      <th>0</th>\n",
       "      <td>1942-06-01</td>\n",
       "      <td>17393</td>\n",
       "      <td>0</td>\n",
       "      <td>7281</td>\n",
       "      <td>0</td>\n",
       "      <td>0</td>\n",
       "      <td>0</td>\n",
       "      <td>0</td>\n",
       "      <td>9666</td>\n",
       "      <td>0</td>\n",
       "      <td>0</td>\n",
       "      <td>446</td>\n",
       "    </tr>\n",
       "    <tr>\n",
       "      <th>1</th>\n",
       "      <td>1942-07-01</td>\n",
       "      <td>27633</td>\n",
       "      <td>0</td>\n",
       "      <td>8755</td>\n",
       "      <td>0</td>\n",
       "      <td>0</td>\n",
       "      <td>0</td>\n",
       "      <td>0</td>\n",
       "      <td>9840</td>\n",
       "      <td>0</td>\n",
       "      <td>0</td>\n",
       "      <td>9038</td>\n",
       "    </tr>\n",
       "    <tr>\n",
       "      <th>2</th>\n",
       "      <td>1942-08-01</td>\n",
       "      <td>40316</td>\n",
       "      <td>0</td>\n",
       "      <td>13262</td>\n",
       "      <td>2106</td>\n",
       "      <td>0</td>\n",
       "      <td>0</td>\n",
       "      <td>0</td>\n",
       "      <td>9928</td>\n",
       "      <td>0</td>\n",
       "      <td>0</td>\n",
       "      <td>15020</td>\n",
       "    </tr>\n",
       "    <tr>\n",
       "      <th>3</th>\n",
       "      <td>1942-09-01</td>\n",
       "      <td>63031</td>\n",
       "      <td>0</td>\n",
       "      <td>17818</td>\n",
       "      <td>9150</td>\n",
       "      <td>212</td>\n",
       "      <td>5758</td>\n",
       "      <td>0</td>\n",
       "      <td>10072</td>\n",
       "      <td>4840</td>\n",
       "      <td>0</td>\n",
       "      <td>15181</td>\n",
       "    </tr>\n",
       "    <tr>\n",
       "      <th>4</th>\n",
       "      <td>1942-10-01</td>\n",
       "      <td>90499</td>\n",
       "      <td>5806</td>\n",
       "      <td>17847</td>\n",
       "      <td>11555</td>\n",
       "      <td>7480</td>\n",
       "      <td>10813</td>\n",
       "      <td>0</td>\n",
       "      <td>10256</td>\n",
       "      <td>9200</td>\n",
       "      <td>2265</td>\n",
       "      <td>15277</td>\n",
       "    </tr>\n",
       "  </tbody>\n",
       "</table>\n",
       "</div>"
      ],
      "text/plain": [
       "        Date  Total  Topaz/Central Utah  Poston/Colorado River  Gila River  \\\n",
       "0 1942-06-01  17393                   0                   7281           0   \n",
       "1 1942-07-01  27633                   0                   8755           0   \n",
       "2 1942-08-01  40316                   0                  13262        2106   \n",
       "3 1942-09-01  63031                   0                  17818        9150   \n",
       "4 1942-10-01  90499                5806                  17847       11555   \n",
       "\n",
       "   Granada  Heart Mountain  Jerome  Manzanar  Minidoka  Rohwer  Tule Lake  \n",
       "0        0               0       0      9666         0       0        446  \n",
       "1        0               0       0      9840         0       0       9038  \n",
       "2        0               0       0      9928         0       0      15020  \n",
       "3      212            5758       0     10072      4840       0      15181  \n",
       "4     7480           10813       0     10256      9200    2265      15277  "
      ]
     },
     "execution_count": 3,
     "metadata": {},
     "output_type": "execute_result"
    }
   ],
   "source": [
    "pop_by_month.head()"
   ]
  },
  {
   "cell_type": "markdown",
   "metadata": {
    "#student": false
   },
   "source": [
    "The `camps` table from \"Behind Barbed Wire\" contains the information on the internment camp's, name, city location, state location, latitude, longitude, opening date, closing date, and their maximum populations."
   ]
  },
  {
   "cell_type": "code",
   "execution_count": 4,
   "metadata": {
    "#student": false,
    "execution": {
     "iopub.execute_input": "2022-10-25T19:29:40.273619Z",
     "iopub.status.busy": "2022-10-25T19:29:40.272892Z",
     "iopub.status.idle": "2022-10-25T19:29:40.319783Z",
     "shell.execute_reply": "2022-10-25T19:29:40.315880Z",
     "shell.execute_reply.started": "2022-10-25T19:29:40.273578Z"
    }
   },
   "outputs": [
    {
     "data": {
      "text/html": [
       "<div>\n",
       "<style scoped>\n",
       "    .dataframe tbody tr th:only-of-type {\n",
       "        vertical-align: middle;\n",
       "    }\n",
       "\n",
       "    .dataframe tbody tr th {\n",
       "        vertical-align: top;\n",
       "    }\n",
       "\n",
       "    .dataframe thead th {\n",
       "        text-align: right;\n",
       "    }\n",
       "</style>\n",
       "<table border=\"1\" class=\"dataframe\">\n",
       "  <thead>\n",
       "    <tr style=\"text-align: right;\">\n",
       "      <th></th>\n",
       "      <th>Internment Camp Name</th>\n",
       "      <th>Location</th>\n",
       "      <th>State</th>\n",
       "      <th>Latitude</th>\n",
       "      <th>Longitude</th>\n",
       "      <th>Opened</th>\n",
       "      <th>Closed</th>\n",
       "      <th>Maximum Population</th>\n",
       "    </tr>\n",
       "  </thead>\n",
       "  <tbody>\n",
       "    <tr>\n",
       "      <th>0</th>\n",
       "      <td>Gila River Relocation Center</td>\n",
       "      <td>Rivers</td>\n",
       "      <td>Arizona</td>\n",
       "      <td>33.065083</td>\n",
       "      <td>-111.830528</td>\n",
       "      <td>20-Jul-42</td>\n",
       "      <td>16-Nov-45</td>\n",
       "      <td>13348.0</td>\n",
       "    </tr>\n",
       "    <tr>\n",
       "      <th>1</th>\n",
       "      <td>Poston Relocation Center</td>\n",
       "      <td>Parker</td>\n",
       "      <td>Arizona</td>\n",
       "      <td>33.987500</td>\n",
       "      <td>-114.401111</td>\n",
       "      <td>2-Jun-42</td>\n",
       "      <td>28-Nov-45</td>\n",
       "      <td>17814.0</td>\n",
       "    </tr>\n",
       "    <tr>\n",
       "      <th>2</th>\n",
       "      <td>Jerome Relocation Center</td>\n",
       "      <td>Denson</td>\n",
       "      <td>Arkansas</td>\n",
       "      <td>33.411667</td>\n",
       "      <td>-91.461111</td>\n",
       "      <td>6-Oct-42</td>\n",
       "      <td>30-Jun-44</td>\n",
       "      <td>8497.0</td>\n",
       "    </tr>\n",
       "    <tr>\n",
       "      <th>3</th>\n",
       "      <td>Rohwer Relocation Center</td>\n",
       "      <td>McGehee</td>\n",
       "      <td>Arkansas</td>\n",
       "      <td>33.766297</td>\n",
       "      <td>-91.280158</td>\n",
       "      <td>18-Sep-42</td>\n",
       "      <td>30-Nov-45</td>\n",
       "      <td>8475.0</td>\n",
       "    </tr>\n",
       "    <tr>\n",
       "      <th>4</th>\n",
       "      <td>Manzanar Relocation Center</td>\n",
       "      <td>Manzanar</td>\n",
       "      <td>California</td>\n",
       "      <td>36.728333</td>\n",
       "      <td>-118.154444</td>\n",
       "      <td>2-Jun-42</td>\n",
       "      <td>21-Nov-45</td>\n",
       "      <td>10046.0</td>\n",
       "    </tr>\n",
       "    <tr>\n",
       "      <th>5</th>\n",
       "      <td>Tule Lake Relocation Center</td>\n",
       "      <td>Newell</td>\n",
       "      <td>California</td>\n",
       "      <td>41.889444</td>\n",
       "      <td>-121.374722</td>\n",
       "      <td>27-May-42</td>\n",
       "      <td>20-Mar-46</td>\n",
       "      <td>18789.0</td>\n",
       "    </tr>\n",
       "    <tr>\n",
       "      <th>6</th>\n",
       "      <td>Granada Relocation Center</td>\n",
       "      <td>Amache</td>\n",
       "      <td>Colorado</td>\n",
       "      <td>38.049444</td>\n",
       "      <td>-102.328611</td>\n",
       "      <td>27-Aug-42</td>\n",
       "      <td>15-Oct-45</td>\n",
       "      <td>7318.0</td>\n",
       "    </tr>\n",
       "    <tr>\n",
       "      <th>7</th>\n",
       "      <td>Minidoka Relocation Center</td>\n",
       "      <td>Hunt</td>\n",
       "      <td>Idaho</td>\n",
       "      <td>42.679000</td>\n",
       "      <td>-114.244000</td>\n",
       "      <td>10-Aug-42</td>\n",
       "      <td>28-Oct-45</td>\n",
       "      <td>9397.0</td>\n",
       "    </tr>\n",
       "    <tr>\n",
       "      <th>8</th>\n",
       "      <td>Topaz Relocation Center</td>\n",
       "      <td>Topaz</td>\n",
       "      <td>Utah</td>\n",
       "      <td>39.418336</td>\n",
       "      <td>-112.708750</td>\n",
       "      <td>11-Sep-42</td>\n",
       "      <td>31-Oct-45</td>\n",
       "      <td>8130.0</td>\n",
       "    </tr>\n",
       "    <tr>\n",
       "      <th>9</th>\n",
       "      <td>Heart Mountain Relocation Center</td>\n",
       "      <td>Heart Mountain</td>\n",
       "      <td>Wyoming</td>\n",
       "      <td>44.671667</td>\n",
       "      <td>-108.946389</td>\n",
       "      <td>12-Aug-42</td>\n",
       "      <td>10-Nov-45</td>\n",
       "      <td>343.0</td>\n",
       "    </tr>\n",
       "  </tbody>\n",
       "</table>\n",
       "</div>"
      ],
      "text/plain": [
       "               Internment Camp Name        Location       State   Latitude  \\\n",
       "0      Gila River Relocation Center          Rivers     Arizona  33.065083   \n",
       "1          Poston Relocation Center          Parker     Arizona  33.987500   \n",
       "2          Jerome Relocation Center          Denson    Arkansas  33.411667   \n",
       "3          Rohwer Relocation Center         McGehee    Arkansas  33.766297   \n",
       "4        Manzanar Relocation Center        Manzanar  California  36.728333   \n",
       "5       Tule Lake Relocation Center          Newell  California  41.889444   \n",
       "6         Granada Relocation Center          Amache    Colorado  38.049444   \n",
       "7        Minidoka Relocation Center            Hunt       Idaho  42.679000   \n",
       "8           Topaz Relocation Center           Topaz        Utah  39.418336   \n",
       "9  Heart Mountain Relocation Center  Heart Mountain     Wyoming  44.671667   \n",
       "\n",
       "    Longitude     Opened     Closed  Maximum Population  \n",
       "0 -111.830528  20-Jul-42  16-Nov-45             13348.0  \n",
       "1 -114.401111   2-Jun-42  28-Nov-45             17814.0  \n",
       "2  -91.461111   6-Oct-42  30-Jun-44              8497.0  \n",
       "3  -91.280158  18-Sep-42  30-Nov-45              8475.0  \n",
       "4 -118.154444   2-Jun-42  21-Nov-45             10046.0  \n",
       "5 -121.374722  27-May-42  20-Mar-46             18789.0  \n",
       "6 -102.328611  27-Aug-42  15-Oct-45              7318.0  \n",
       "7 -114.244000  10-Aug-42  28-Oct-45              9397.0  \n",
       "8 -112.708750  11-Sep-42  31-Oct-45              8130.0  \n",
       "9 -108.946389  12-Aug-42  10-Nov-45               343.0  "
      ]
     },
     "execution_count": 4,
     "metadata": {},
     "output_type": "execute_result"
    }
   ],
   "source": [
    "camps"
   ]
  },
  {
   "cell_type": "markdown",
   "metadata": {
    "#student": false
   },
   "source": [
    "The `assembly` table from \"Behind Barbed Wire\" contains the locations of each assembly center (city, state, latitude, and longitude), as well as the number of people that were processed through each one."
   ]
  },
  {
   "cell_type": "code",
   "execution_count": 5,
   "metadata": {
    "#student": false,
    "execution": {
     "iopub.execute_input": "2022-10-25T19:29:40.331086Z",
     "iopub.status.busy": "2022-10-25T19:29:40.325964Z",
     "iopub.status.idle": "2022-10-25T19:29:40.517432Z",
     "shell.execute_reply": "2022-10-25T19:29:40.512717Z",
     "shell.execute_reply.started": "2022-10-25T19:29:40.330877Z"
    }
   },
   "outputs": [
    {
     "name": "stderr",
     "output_type": "stream",
     "text": [
      "/Library/Frameworks/Python.framework/Versions/3.10/lib/python3.10/site-packages/IPython/core/interactiveshell.py:3553: FutureWarning: The error_bad_lines argument has been deprecated and will be removed in a future version.\n",
      "\n",
      "\n",
      "  exec(code_obj, self.user_global_ns, self.user_ns)\n"
     ]
    },
    {
     "data": {
      "text/html": [
       "<div>\n",
       "<style scoped>\n",
       "    .dataframe tbody tr th:only-of-type {\n",
       "        vertical-align: middle;\n",
       "    }\n",
       "\n",
       "    .dataframe tbody tr th {\n",
       "        vertical-align: top;\n",
       "    }\n",
       "\n",
       "    .dataframe thead th {\n",
       "        text-align: right;\n",
       "    }\n",
       "</style>\n",
       "<table border=\"1\" class=\"dataframe\">\n",
       "  <thead>\n",
       "    <tr style=\"text-align: right;\">\n",
       "      <th></th>\n",
       "      <th>Location</th>\n",
       "      <th>State</th>\n",
       "      <th>Number of People</th>\n",
       "      <th>Latitude</th>\n",
       "      <th>Longitude</th>\n",
       "    </tr>\n",
       "  </thead>\n",
       "  <tbody>\n",
       "    <tr>\n",
       "      <th>0</th>\n",
       "      <td>Sacramento (Walerga)</td>\n",
       "      <td>California</td>\n",
       "      <td>4598.0</td>\n",
       "      <td>38.566700</td>\n",
       "      <td>-121.483300</td>\n",
       "    </tr>\n",
       "    <tr>\n",
       "      <th>2</th>\n",
       "      <td>Manzanar (Up to 6/1/42)</td>\n",
       "      <td>California</td>\n",
       "      <td>9564.0</td>\n",
       "      <td>36.728333</td>\n",
       "      <td>-118.154444</td>\n",
       "    </tr>\n",
       "    <tr>\n",
       "      <th>3</th>\n",
       "      <td>Fresno</td>\n",
       "      <td>California</td>\n",
       "      <td>5069.0</td>\n",
       "      <td>36.733300</td>\n",
       "      <td>-119.766700</td>\n",
       "    </tr>\n",
       "    <tr>\n",
       "      <th>4</th>\n",
       "      <td>Marysville (Arboga)</td>\n",
       "      <td>California</td>\n",
       "      <td>2406.0</td>\n",
       "      <td>39.050000</td>\n",
       "      <td>-121.550050</td>\n",
       "    </tr>\n",
       "    <tr>\n",
       "      <th>5</th>\n",
       "      <td>Mayer</td>\n",
       "      <td>Arizona</td>\n",
       "      <td>249.0</td>\n",
       "      <td>34.383300</td>\n",
       "      <td>-112.233300</td>\n",
       "    </tr>\n",
       "    <tr>\n",
       "      <th>6</th>\n",
       "      <td>Merced</td>\n",
       "      <td>California</td>\n",
       "      <td>4081.0</td>\n",
       "      <td>37.300000</td>\n",
       "      <td>-120.466700</td>\n",
       "    </tr>\n",
       "    <tr>\n",
       "      <th>7</th>\n",
       "      <td>Pinedale</td>\n",
       "      <td>California</td>\n",
       "      <td>4664.0</td>\n",
       "      <td>36.840000</td>\n",
       "      <td>-119.800000</td>\n",
       "    </tr>\n",
       "    <tr>\n",
       "      <th>8</th>\n",
       "      <td>Pomona</td>\n",
       "      <td>California</td>\n",
       "      <td>5272.0</td>\n",
       "      <td>34.050000</td>\n",
       "      <td>-117.750000</td>\n",
       "    </tr>\n",
       "    <tr>\n",
       "      <th>9</th>\n",
       "      <td>Portland (Pacific Int. Exposition Ground)</td>\n",
       "      <td>Oregon</td>\n",
       "      <td>3667.0</td>\n",
       "      <td>45.516700</td>\n",
       "      <td>-122.666700</td>\n",
       "    </tr>\n",
       "    <tr>\n",
       "      <th>10</th>\n",
       "      <td>Puyallup</td>\n",
       "      <td>Washington</td>\n",
       "      <td>7348.0</td>\n",
       "      <td>47.183300</td>\n",
       "      <td>-122.283300</td>\n",
       "    </tr>\n",
       "    <tr>\n",
       "      <th>11</th>\n",
       "      <td>Salinas</td>\n",
       "      <td>California</td>\n",
       "      <td>3555.0</td>\n",
       "      <td>36.666700</td>\n",
       "      <td>-121.650000</td>\n",
       "    </tr>\n",
       "    <tr>\n",
       "      <th>12</th>\n",
       "      <td>Santa Anita</td>\n",
       "      <td>California</td>\n",
       "      <td>18424.0</td>\n",
       "      <td>34.133300</td>\n",
       "      <td>-118.033300</td>\n",
       "    </tr>\n",
       "    <tr>\n",
       "      <th>13</th>\n",
       "      <td>Stockton</td>\n",
       "      <td>California</td>\n",
       "      <td>4178.0</td>\n",
       "      <td>37.950000</td>\n",
       "      <td>-121.283300</td>\n",
       "    </tr>\n",
       "    <tr>\n",
       "      <th>14</th>\n",
       "      <td>Tanforan</td>\n",
       "      <td>California</td>\n",
       "      <td>7694.0</td>\n",
       "      <td>37.616700</td>\n",
       "      <td>-122.400000</td>\n",
       "    </tr>\n",
       "    <tr>\n",
       "      <th>15</th>\n",
       "      <td>Tulare</td>\n",
       "      <td>California</td>\n",
       "      <td>4915.0</td>\n",
       "      <td>36.200000</td>\n",
       "      <td>-119.333300</td>\n",
       "    </tr>\n",
       "    <tr>\n",
       "      <th>16</th>\n",
       "      <td>Turlock</td>\n",
       "      <td>California</td>\n",
       "      <td>3553.0</td>\n",
       "      <td>37.483300</td>\n",
       "      <td>-120.833300</td>\n",
       "    </tr>\n",
       "  </tbody>\n",
       "</table>\n",
       "</div>"
      ],
      "text/plain": [
       "                                     Location       State  Number of People  \\\n",
       "0                        Sacramento (Walerga)  California            4598.0   \n",
       "2                     Manzanar (Up to 6/1/42)  California            9564.0   \n",
       "3                                      Fresno  California            5069.0   \n",
       "4                         Marysville (Arboga)  California            2406.0   \n",
       "5                                       Mayer     Arizona             249.0   \n",
       "6                                      Merced  California            4081.0   \n",
       "7                                    Pinedale  California            4664.0   \n",
       "8                                      Pomona  California            5272.0   \n",
       "9   Portland (Pacific Int. Exposition Ground)      Oregon            3667.0   \n",
       "10                                   Puyallup  Washington            7348.0   \n",
       "11                                    Salinas  California            3555.0   \n",
       "12                                Santa Anita  California           18424.0   \n",
       "13                                   Stockton  California            4178.0   \n",
       "14                                   Tanforan  California            7694.0   \n",
       "15                                     Tulare  California            4915.0   \n",
       "16                                    Turlock  California            3553.0   \n",
       "\n",
       "     Latitude   Longitude  \n",
       "0   38.566700 -121.483300  \n",
       "2   36.728333 -118.154444  \n",
       "3   36.733300 -119.766700  \n",
       "4   39.050000 -121.550050  \n",
       "5   34.383300 -112.233300  \n",
       "6   37.300000 -120.466700  \n",
       "7   36.840000 -119.800000  \n",
       "8   34.050000 -117.750000  \n",
       "9   45.516700 -122.666700  \n",
       "10  47.183300 -122.283300  \n",
       "11  36.666700 -121.650000  \n",
       "12  34.133300 -118.033300  \n",
       "13  37.950000 -121.283300  \n",
       "14  37.616700 -122.400000  \n",
       "15  36.200000 -119.333300  \n",
       "16  37.483300 -120.833300  "
      ]
     },
     "execution_count": 5,
     "metadata": {},
     "output_type": "execute_result"
    }
   ],
   "source": [
    "assembly = pd.read_csv('data/BehindBarbedWire_StoryMap_AssemblyCentersMap_Data.csv')\n",
    "assembly = assembly.dropna(subset=['Latitude', 'Longitude']).dropna(axis = 1)\n",
    "assembly['Number of People'] = assembly['Number of People'].astype(float)\n",
    "assembly"
   ]
  },
  {
   "cell_type": "markdown",
   "metadata": {
    "#student": false,
    "cell_id": "00011-65cb812e-55e0-45dd-bc32-f233d86cd6bd"
   },
   "source": [
    "The `population1940_1945` table contains a list of counties that Japanese Americans lived in in 1940 and 1945, collected by the WRA. An additional column calculates the percent that returned to the county that they were from."
   ]
  },
  {
   "cell_type": "code",
   "execution_count": 6,
   "metadata": {
    "#student": false,
    "cell_id": "00012-9415e581-9a09-42aa-a235-f60f64149171",
    "execution": {
     "iopub.execute_input": "2022-10-25T19:29:40.524699Z",
     "iopub.status.busy": "2022-10-25T19:29:40.523677Z",
     "iopub.status.idle": "2022-10-25T19:29:40.581166Z",
     "shell.execute_reply": "2022-10-25T19:29:40.578568Z",
     "shell.execute_reply.started": "2022-10-25T19:29:40.524663Z"
    }
   },
   "outputs": [
    {
     "name": "stderr",
     "output_type": "stream",
     "text": [
      "/Library/Frameworks/Python.framework/Versions/3.10/lib/python3.10/site-packages/IPython/core/interactiveshell.py:3553: FutureWarning: The error_bad_lines argument has been deprecated and will be removed in a future version.\n",
      "\n",
      "\n",
      "  exec(code_obj, self.user_global_ns, self.user_ns)\n"
     ]
    },
    {
     "data": {
      "text/html": [
       "<div>\n",
       "<style scoped>\n",
       "    .dataframe tbody tr th:only-of-type {\n",
       "        vertical-align: middle;\n",
       "    }\n",
       "\n",
       "    .dataframe tbody tr th {\n",
       "        vertical-align: top;\n",
       "    }\n",
       "\n",
       "    .dataframe thead th {\n",
       "        text-align: right;\n",
       "    }\n",
       "</style>\n",
       "<table border=\"1\" class=\"dataframe\">\n",
       "  <thead>\n",
       "    <tr style=\"text-align: right;\">\n",
       "      <th></th>\n",
       "      <th>County</th>\n",
       "      <th>State</th>\n",
       "      <th>1940</th>\n",
       "      <th>1945</th>\n",
       "      <th>% returned</th>\n",
       "      <th>Latitude</th>\n",
       "      <th>Longitude</th>\n",
       "    </tr>\n",
       "  </thead>\n",
       "  <tbody>\n",
       "    <tr>\n",
       "      <th>0</th>\n",
       "      <td>Alameda</td>\n",
       "      <td>CA</td>\n",
       "      <td>5167</td>\n",
       "      <td>2703</td>\n",
       "      <td>52.3</td>\n",
       "      <td>37.779872</td>\n",
       "      <td>-122.282185</td>\n",
       "    </tr>\n",
       "    <tr>\n",
       "      <th>1</th>\n",
       "      <td>Amador</td>\n",
       "      <td>CA</td>\n",
       "      <td>2</td>\n",
       "      <td>0</td>\n",
       "      <td>0.0</td>\n",
       "      <td>37.667910</td>\n",
       "      <td>-121.873914</td>\n",
       "    </tr>\n",
       "    <tr>\n",
       "      <th>2</th>\n",
       "      <td>Butte</td>\n",
       "      <td>CA</td>\n",
       "      <td>216</td>\n",
       "      <td>107</td>\n",
       "      <td>49.5</td>\n",
       "      <td>46.003823</td>\n",
       "      <td>-112.534778</td>\n",
       "    </tr>\n",
       "    <tr>\n",
       "      <th>3</th>\n",
       "      <td>Calaveras</td>\n",
       "      <td>CA</td>\n",
       "      <td>6</td>\n",
       "      <td>0</td>\n",
       "      <td>0.0</td>\n",
       "      <td>36.159706</td>\n",
       "      <td>-95.958341</td>\n",
       "    </tr>\n",
       "    <tr>\n",
       "      <th>4</th>\n",
       "      <td>Colusa</td>\n",
       "      <td>CA</td>\n",
       "      <td>155</td>\n",
       "      <td>48</td>\n",
       "      <td>31.0</td>\n",
       "      <td>39.214334</td>\n",
       "      <td>-122.009417</td>\n",
       "    </tr>\n",
       "    <tr>\n",
       "      <th>5</th>\n",
       "      <td>Contra Costa</td>\n",
       "      <td>CA</td>\n",
       "      <td>829</td>\n",
       "      <td>622</td>\n",
       "      <td>75.0</td>\n",
       "      <td>37.853409</td>\n",
       "      <td>-121.901795</td>\n",
       "    </tr>\n",
       "    <tr>\n",
       "      <th>6</th>\n",
       "      <td>El Dorado</td>\n",
       "      <td>CA</td>\n",
       "      <td>3</td>\n",
       "      <td>13</td>\n",
       "      <td>0.0</td>\n",
       "      <td>37.816756</td>\n",
       "      <td>-96.886996</td>\n",
       "    </tr>\n",
       "    <tr>\n",
       "      <th>7</th>\n",
       "      <td>Fresno</td>\n",
       "      <td>CA</td>\n",
       "      <td>4527</td>\n",
       "      <td>4296</td>\n",
       "      <td>94.9</td>\n",
       "      <td>36.737798</td>\n",
       "      <td>-119.787125</td>\n",
       "    </tr>\n",
       "    <tr>\n",
       "      <th>8</th>\n",
       "      <td>Glenn</td>\n",
       "      <td>CA</td>\n",
       "      <td>0</td>\n",
       "      <td>65</td>\n",
       "      <td>0.0</td>\n",
       "      <td>33.757020</td>\n",
       "      <td>-84.393041</td>\n",
       "    </tr>\n",
       "    <tr>\n",
       "      <th>9</th>\n",
       "      <td>Humboldt</td>\n",
       "      <td>CA</td>\n",
       "      <td>0</td>\n",
       "      <td>2</td>\n",
       "      <td>0.0</td>\n",
       "      <td>40.745005</td>\n",
       "      <td>-123.869509</td>\n",
       "    </tr>\n",
       "  </tbody>\n",
       "</table>\n",
       "</div>"
      ],
      "text/plain": [
       "         County State  1940  1945  % returned   Latitude   Longitude\n",
       "0       Alameda    CA  5167  2703        52.3  37.779872 -122.282185\n",
       "1        Amador    CA     2     0         0.0  37.667910 -121.873914\n",
       "2         Butte    CA   216   107        49.5  46.003823 -112.534778\n",
       "3     Calaveras    CA     6     0         0.0  36.159706  -95.958341\n",
       "4        Colusa    CA   155    48        31.0  39.214334 -122.009417\n",
       "5  Contra Costa    CA   829   622        75.0  37.853409 -121.901795\n",
       "6     El Dorado    CA     3    13         0.0  37.816756  -96.886996\n",
       "7        Fresno    CA  4527  4296        94.9  36.737798 -119.787125\n",
       "8         Glenn    CA     0    65         0.0  33.757020  -84.393041\n",
       "9      Humboldt    CA     0     2         0.0  40.745005 -123.869509"
      ]
     },
     "execution_count": 6,
     "metadata": {},
     "output_type": "execute_result"
    }
   ],
   "source": [
    "population1940_1945 = pd.read_csv(\"data/JapaneseAmericanPopulation_1940_1945_LL.csv\")\n",
    "population1940_1945.head(10)"
   ]
  },
  {
   "cell_type": "markdown",
   "metadata": {
    "#student": false
   },
   "source": [
    "----\n",
    "## Section 3: Exploratory Data Analysis<a id='eda'></a>\n",
    "\n",
    "Now that we've obtained our data, we can try to find interesting properties of our datasets and make visualizations to ultimately understand our data better and the stories behind the data. Keep in mind the *granularity* of our datasets, i.e. the level of detail the data describes (how fine or coarse-grained is it?). The data we're working with is at the \"camp\" level and so we aren't looking further into individual Japanese-Americans within these internment camps.\n",
    "\n",
    "<div class=\"alert alert-block alert-danger\">\n",
    "    <b>HEC Connection:</b> It is important to remember the serious limitations of telling this story through this data. The data doesn't include perspectives of the people who were subjected to these camps. We cannot, for example, look into the number of people who were employed by or studying within the UC system at the Tule Lake camp. This dataset also does not include information on the living conditions at each camp.\n",
    "</div>"
   ]
  },
  {
   "cell_type": "markdown",
   "metadata": {},
   "source": [
    "<!-- BEGIN QUESTION -->\n",
    "\n",
    "<div class=\"alert alert-block alert-info\">\n",
    "<b>Question 3a:</b> What kinds of events, trends, or patterns might we be able to observe from data at this particular granularity?\n",
    "</div>\n",
    "\n",
    "<!--\n",
    "BEGIN QUESTION\n",
    "name: q3a\n",
    "points: 1\n",
    "manual: true\n",
    "-->"
   ]
  },
  {
   "cell_type": "markdown",
   "metadata": {},
   "source": [
    "**Answer:** YOUR ANSWER HERE"
   ]
  },
  {
   "cell_type": "markdown",
   "metadata": {},
   "source": [
    "<!-- END QUESTION -->\n",
    "\n",
    "Sometimes numbers don't always add up. We have two separate tables with data about the internment camps; one by the WRA and one with numbers reported in the newspapers from each camp. Say we try to compare the maximum population of the Manzanar camps from both tables."
   ]
  },
  {
   "cell_type": "code",
   "execution_count": 7,
   "metadata": {
    "#student": false,
    "execution": {
     "iopub.execute_input": "2022-10-25T19:29:48.732555Z",
     "iopub.status.busy": "2022-10-25T19:29:48.731726Z",
     "iopub.status.idle": "2022-10-25T19:29:48.753165Z",
     "shell.execute_reply": "2022-10-25T19:29:48.752254Z",
     "shell.execute_reply.started": "2022-10-25T19:29:48.732504Z"
    }
   },
   "outputs": [
    {
     "name": "stdout",
     "output_type": "stream",
     "text": [
      "Maximum Population at Manzanar\n",
      "Population by Month Data (WRA): 10256\n",
      "Camps Data (BBW): 10046\n"
     ]
    }
   ],
   "source": [
    "print('Maximum Population at Manzanar')\n",
    "pop_by_month_max = pop_by_month['Manzanar'].max()\n",
    "print('Population by Month Data (WRA):' ,  pop_by_month_max)\n",
    "\n",
    "camps_max = int(camps[camps['Internment Camp Name'] == 'Manzanar Relocation Center']['Maximum Population'])\n",
    "print('Camps Data (BBW):',  camps_max)"
   ]
  },
  {
   "cell_type": "markdown",
   "metadata": {
    "#student": false
   },
   "source": [
    "We see that the two numbers don't match up. The `pop_by_month` table says that the maximum population of Manzanar was 10,256, while the camps table says that the maximum was 10,046 people. While this isn't a huge difference, it's important to remember that there can be inconsistency of values among your datasets, and not to take any one dataset as complete and accurate. \n",
    "\n"
   ]
  },
  {
   "cell_type": "markdown",
   "metadata": {},
   "source": [
    "<!-- BEGIN QUESTION -->\n",
    "<div class=\"alert alert-block alert-info\">\n",
    "<b>Question 3b:</b>What factors might contribute to this inconsistency?\n",
    "</div>\n",
    "\n",
    "<!--\n",
    "BEGIN QUESTION\n",
    "name: q3b\n",
    "points: 1\n",
    "manual: true\n",
    "-->"
   ]
  },
  {
   "cell_type": "markdown",
   "metadata": {},
   "source": [
    "**Answer:** YOUR ANSWER HERE"
   ]
  },
  {
   "cell_type": "markdown",
   "metadata": {},
   "source": [
    "<!-- END QUESTION -->\n",
    "\n",
    "Below, we create barplots to  compare the populations at each camp given by the two different data sets `pop_by_month` and `camps`. Selecting a camp in the dropdown menu will update the barplot and display the maximum populations reported from each dataset."
   ]
  },
  {
   "cell_type": "code",
   "execution_count": 9,
   "metadata": {
    "execution": {
     "iopub.execute_input": "2022-10-25T19:30:12.902702Z",
     "iopub.status.busy": "2022-10-25T19:30:12.901935Z",
     "iopub.status.idle": "2022-10-25T19:30:13.800405Z",
     "shell.execute_reply": "2022-10-25T19:30:13.796464Z",
     "shell.execute_reply.started": "2022-10-25T19:30:12.902646Z"
    },
    "tags": []
   },
   "outputs": [
    {
     "data": {
      "application/vnd.jupyter.widget-view+json": {
       "model_id": "58ea973162c84a558968a4966bd89886",
       "version_major": 2,
       "version_minor": 0
      },
      "text/plain": [
       "interactive(children=(Dropdown(description='location', options=('Gila River Relocation Center', 'Poston Reloca…"
      ]
     },
     "metadata": {},
     "output_type": "display_data"
    }
   ],
   "source": [
    "location_dict = {'Topaz Relocation Center':'Topaz/Central Utah', \n",
    "                 'Poston Relocation Center':'Poston/Colorado River',\n",
    "                 'Gila River Relocation Center':'Gila River', \n",
    "                 'Granada Relocation Center': 'Granada', \n",
    "                 'Heart Mountain Relocation Center':'Heart Mountain', \n",
    "                 'Jerome Relocation Center':'Jerome', \n",
    "                 'Manzanar Relocation Center':'Manzanar',\n",
    "                 'Minidoka Relocation Center':'Minidoka', \n",
    "                 'Rohwer Relocation Center':'Rohwer', \n",
    "                 'Tule Lake Relocation Center':'Tule Lake'} \n",
    "def pop_diff(location):\n",
    "    plt.subplots(dpi=250)\n",
    "    sns.set(font_scale=.8)\n",
    "    pbm_max = pop_by_month[location_dict[location]].max()\n",
    "    camps_max = camps[camps['Internment Camp Name'] == location]['Maximum Population'].iloc[0]\n",
    "    bar = sns.barplot(x =['camps df', 'pop_by_month df'], y=[camps_max, pbm_max]);\n",
    "    \n",
    "Location = interact(pop_diff, location=camps['Internment Camp Name'].values);"
   ]
  },
  {
   "cell_type": "markdown",
   "metadata": {},
   "source": [
    "<!-- BEGIN QUESTION -->\n",
    "\n",
    "<div class=\"alert alert-block alert-info\">\n",
    "<b>Question 3c:</b> Consider the visualization above. Identify a flaw (if any) and give a recommendation on how to improve it. Is there another type of visualization you can think of that can portray the differences in population?\n",
    "</div>\n",
    "\n",
    "<!--\n",
    "BEGIN QUESTION\n",
    "name: q3c\n",
    "points: 1\n",
    "manual: true\n",
    "-->"
   ]
  },
  {
   "cell_type": "markdown",
   "metadata": {},
   "source": [
    "**Answer:** YOUR ANSWER HERE"
   ]
  },
  {
   "cell_type": "markdown",
   "metadata": {},
   "source": [
    "<!-- END QUESTION -->\n",
    "\n",
    "Next, we'll visualize the monthly population change of each camp using an overlaid line plot. Using an overlaid line plot can make it easier to identify any relationships that may exist in the data, and more generally if any events coincide with the population of each camp reported by the WRA."
   ]
  },
  {
   "cell_type": "code",
   "execution_count": 28,
   "metadata": {
    "#student": false,
    "execution": {
     "iopub.execute_input": "2022-10-25T20:57:17.801310Z",
     "iopub.status.busy": "2022-10-25T20:57:17.799121Z",
     "iopub.status.idle": "2022-10-25T20:57:19.522949Z",
     "shell.execute_reply": "2022-10-25T20:57:19.521917Z",
     "shell.execute_reply.started": "2022-10-25T20:57:17.801226Z"
    }
   },
   "outputs": [
    {
     "data": {
      "application/vnd.plotly.v1+json": {
       "config": {
        "plotlyServerURL": "https://plot.ly"
       },
       "data": [
        {
         "hovertemplate": "Camp=Topaz/Central Utah<br>Date=%{x}<br>Population=%{y}<extra></extra>",
         "legendgroup": "Topaz/Central Utah",
         "line": {
          "color": "#636efa",
          "dash": "solid"
         },
         "marker": {
          "symbol": "circle"
         },
         "mode": "lines",
         "name": "Topaz/Central Utah",
         "orientation": "v",
         "showlegend": true,
         "type": "scatter",
         "x": [
          "1942-06-01T00:00:00",
          "1942-07-01T00:00:00",
          "1942-08-01T00:00:00",
          "1942-09-01T00:00:00",
          "1942-10-01T00:00:00",
          "1942-11-01T00:00:00",
          "1942-12-01T00:00:00",
          "1943-01-01T00:00:00",
          "1943-02-01T00:00:00",
          "1943-03-01T00:00:00",
          "1943-04-01T00:00:00",
          "1943-05-01T00:00:00",
          "1943-06-01T00:00:00",
          "1943-07-01T00:00:00",
          "1943-08-01T00:00:00",
          "1943-09-01T00:00:00",
          "1943-10-01T00:00:00",
          "1943-11-01T00:00:00",
          "1943-12-01T00:00:00",
          "1944-01-01T00:00:00",
          "1944-02-01T00:00:00",
          "1944-03-01T00:00:00",
          "1944-04-01T00:00:00",
          "1944-05-01T00:00:00",
          "1944-06-01T00:00:00",
          "1944-07-01T00:00:00",
          "1944-08-01T00:00:00",
          "1944-09-01T00:00:00",
          "1944-10-01T00:00:00",
          "1944-11-01T00:00:00",
          "1944-12-01T00:00:00",
          "1945-01-01T00:00:00",
          "1945-02-01T00:00:00",
          "1945-03-01T00:00:00",
          "1945-04-01T00:00:00",
          "1945-05-01T00:00:00",
          "1945-06-01T00:00:00",
          "1945-07-01T00:00:00",
          "1945-08-01T00:00:00",
          "1945-09-01T00:00:00",
          "1945-10-01T00:00:00",
          "1945-11-01T00:00:00",
          "1945-12-01T00:00:00",
          "1946-01-01T00:00:00",
          "1946-02-01T00:00:00",
          "1946-03-01T00:00:00"
         ],
         "xaxis": "x",
         "y": [
          0,
          0,
          0,
          0,
          5806,
          8320,
          8294,
          8232,
          8214,
          8152,
          8332,
          8189,
          8018,
          7862,
          7809,
          7682,
          7608,
          7554,
          7585,
          7559,
          7438,
          7350,
          7227,
          7084,
          6879,
          6727,
          6621,
          6426,
          6280,
          6125,
          6026,
          5984,
          5883,
          5742,
          5589,
          5413,
          5165,
          4645,
          4176,
          3339,
          1899,
          0,
          0,
          0,
          0,
          0
         ],
         "yaxis": "y"
        },
        {
         "hovertemplate": "Camp=Poston/Colorado River<br>Date=%{x}<br>Population=%{y}<extra></extra>",
         "legendgroup": "Poston/Colorado River",
         "line": {
          "color": "#EF553B",
          "dash": "solid"
         },
         "marker": {
          "symbol": "circle"
         },
         "mode": "lines",
         "name": "Poston/Colorado River",
         "orientation": "v",
         "showlegend": true,
         "type": "scatter",
         "x": [
          "1942-06-01T00:00:00",
          "1942-07-01T00:00:00",
          "1942-08-01T00:00:00",
          "1942-09-01T00:00:00",
          "1942-10-01T00:00:00",
          "1942-11-01T00:00:00",
          "1942-12-01T00:00:00",
          "1943-01-01T00:00:00",
          "1943-02-01T00:00:00",
          "1943-03-01T00:00:00",
          "1943-04-01T00:00:00",
          "1943-05-01T00:00:00",
          "1943-06-01T00:00:00",
          "1943-07-01T00:00:00",
          "1943-08-01T00:00:00",
          "1943-09-01T00:00:00",
          "1943-10-01T00:00:00",
          "1943-11-01T00:00:00",
          "1943-12-01T00:00:00",
          "1944-01-01T00:00:00",
          "1944-02-01T00:00:00",
          "1944-03-01T00:00:00",
          "1944-04-01T00:00:00",
          "1944-05-01T00:00:00",
          "1944-06-01T00:00:00",
          "1944-07-01T00:00:00",
          "1944-08-01T00:00:00",
          "1944-09-01T00:00:00",
          "1944-10-01T00:00:00",
          "1944-11-01T00:00:00",
          "1944-12-01T00:00:00",
          "1945-01-01T00:00:00",
          "1945-02-01T00:00:00",
          "1945-03-01T00:00:00",
          "1945-04-01T00:00:00",
          "1945-05-01T00:00:00",
          "1945-06-01T00:00:00",
          "1945-07-01T00:00:00",
          "1945-08-01T00:00:00",
          "1945-09-01T00:00:00",
          "1945-10-01T00:00:00",
          "1945-11-01T00:00:00",
          "1945-12-01T00:00:00",
          "1946-01-01T00:00:00",
          "1946-02-01T00:00:00",
          "1946-03-01T00:00:00"
         ],
         "xaxis": "x",
         "y": [
          7281,
          8755,
          13262,
          17818,
          17847,
          17877,
          17965,
          8039,
          18025,
          17984,
          17941,
          17741,
          17406,
          16995,
          16671,
          16279,
          16013,
          14470,
          14372,
          14295,
          14109,
          13876,
          13453,
          13241,
          13021,
          12725,
          12517,
          12152,
          12059,
          11881,
          11751,
          11710,
          11480,
          11251,
          10828,
          10421,
          9979,
          9386,
          8750,
          6828,
          2730,
          1088,
          0,
          0,
          0,
          0
         ],
         "yaxis": "y"
        },
        {
         "hovertemplate": "Camp=Gila River<br>Date=%{x}<br>Population=%{y}<extra></extra>",
         "legendgroup": "Gila River",
         "line": {
          "color": "#00cc96",
          "dash": "solid"
         },
         "marker": {
          "symbol": "circle"
         },
         "mode": "lines",
         "name": "Gila River",
         "orientation": "v",
         "showlegend": true,
         "type": "scatter",
         "x": [
          "1942-06-01T00:00:00",
          "1942-07-01T00:00:00",
          "1942-08-01T00:00:00",
          "1942-09-01T00:00:00",
          "1942-10-01T00:00:00",
          "1942-11-01T00:00:00",
          "1942-12-01T00:00:00",
          "1943-01-01T00:00:00",
          "1943-02-01T00:00:00",
          "1943-03-01T00:00:00",
          "1943-04-01T00:00:00",
          "1943-05-01T00:00:00",
          "1943-06-01T00:00:00",
          "1943-07-01T00:00:00",
          "1943-08-01T00:00:00",
          "1943-09-01T00:00:00",
          "1943-10-01T00:00:00",
          "1943-11-01T00:00:00",
          "1943-12-01T00:00:00",
          "1944-01-01T00:00:00",
          "1944-02-01T00:00:00",
          "1944-03-01T00:00:00",
          "1944-04-01T00:00:00",
          "1944-05-01T00:00:00",
          "1944-06-01T00:00:00",
          "1944-07-01T00:00:00",
          "1944-08-01T00:00:00",
          "1944-09-01T00:00:00",
          "1944-10-01T00:00:00",
          "1944-11-01T00:00:00",
          "1944-12-01T00:00:00",
          "1945-01-01T00:00:00",
          "1945-02-01T00:00:00",
          "1945-03-01T00:00:00",
          "1945-04-01T00:00:00",
          "1945-05-01T00:00:00",
          "1945-06-01T00:00:00",
          "1945-07-01T00:00:00",
          "1945-08-01T00:00:00",
          "1945-09-01T00:00:00",
          "1945-10-01T00:00:00",
          "1945-11-01T00:00:00",
          "1945-12-01T00:00:00",
          "1946-01-01T00:00:00",
          "1946-02-01T00:00:00",
          "1946-03-01T00:00:00"
         ],
         "xaxis": "x",
         "y": [
          0,
          0,
          2106,
          9150,
          11555,
          13368,
          13368,
          13420,
          13411,
          13374,
          13372,
          13224,
          12954,
          12683,
          12542,
          12251,
          12056,
          10017,
          9898,
          9869,
          9800,
          9655,
          9419,
          9199,
          8788,
          10531,
          10291,
          9951,
          9651,
          9550,
          9534,
          9550,
          9432,
          9207,
          8988,
          8716,
          8319,
          7684,
          6765,
          5141,
          2760,
          754,
          0,
          0,
          0,
          0
         ],
         "yaxis": "y"
        },
        {
         "hovertemplate": "Camp=Granada<br>Date=%{x}<br>Population=%{y}<extra></extra>",
         "legendgroup": "Granada",
         "line": {
          "color": "#ab63fa",
          "dash": "solid"
         },
         "marker": {
          "symbol": "circle"
         },
         "mode": "lines",
         "name": "Granada",
         "orientation": "v",
         "showlegend": true,
         "type": "scatter",
         "x": [
          "1942-06-01T00:00:00",
          "1942-07-01T00:00:00",
          "1942-08-01T00:00:00",
          "1942-09-01T00:00:00",
          "1942-10-01T00:00:00",
          "1942-11-01T00:00:00",
          "1942-12-01T00:00:00",
          "1943-01-01T00:00:00",
          "1943-02-01T00:00:00",
          "1943-03-01T00:00:00",
          "1943-04-01T00:00:00",
          "1943-05-01T00:00:00",
          "1943-06-01T00:00:00",
          "1943-07-01T00:00:00",
          "1943-08-01T00:00:00",
          "1943-09-01T00:00:00",
          "1943-10-01T00:00:00",
          "1943-11-01T00:00:00",
          "1943-12-01T00:00:00",
          "1944-01-01T00:00:00",
          "1944-02-01T00:00:00",
          "1944-03-01T00:00:00",
          "1944-04-01T00:00:00",
          "1944-05-01T00:00:00",
          "1944-06-01T00:00:00",
          "1944-07-01T00:00:00",
          "1944-08-01T00:00:00",
          "1944-09-01T00:00:00",
          "1944-10-01T00:00:00",
          "1944-11-01T00:00:00",
          "1944-12-01T00:00:00",
          "1945-01-01T00:00:00",
          "1945-02-01T00:00:00",
          "1945-03-01T00:00:00",
          "1945-04-01T00:00:00",
          "1945-05-01T00:00:00",
          "1945-06-01T00:00:00",
          "1945-07-01T00:00:00",
          "1945-08-01T00:00:00",
          "1945-09-01T00:00:00",
          "1945-10-01T00:00:00",
          "1945-11-01T00:00:00",
          "1945-12-01T00:00:00",
          "1946-01-01T00:00:00",
          "1946-02-01T00:00:00",
          "1946-03-01T00:00:00"
         ],
         "xaxis": "x",
         "y": [
          0,
          0,
          0,
          212,
          7480,
          7654,
          7651,
          7656,
          7622,
          7619,
          7476,
          7222,
          7016,
          6931,
          3876,
          6764,
          7494,
          7368,
          7393,
          7355,
          7176,
          6983,
          6786,
          6685,
          6424,
          6816,
          6664,
          6490,
          6403,
          6371,
          6311,
          6255,
          6177,
          6035,
          5805,
          5411,
          4980,
          4256,
          3758,
          3155,
          1379,
          0,
          0,
          0,
          0,
          0
         ],
         "yaxis": "y"
        },
        {
         "hovertemplate": "Camp=Heart Mountain<br>Date=%{x}<br>Population=%{y}<extra></extra>",
         "legendgroup": "Heart Mountain",
         "line": {
          "color": "#FFA15A",
          "dash": "solid"
         },
         "marker": {
          "symbol": "circle"
         },
         "mode": "lines",
         "name": "Heart Mountain",
         "orientation": "v",
         "showlegend": true,
         "type": "scatter",
         "x": [
          "1942-06-01T00:00:00",
          "1942-07-01T00:00:00",
          "1942-08-01T00:00:00",
          "1942-09-01T00:00:00",
          "1942-10-01T00:00:00",
          "1942-11-01T00:00:00",
          "1942-12-01T00:00:00",
          "1943-01-01T00:00:00",
          "1943-02-01T00:00:00",
          "1943-03-01T00:00:00",
          "1943-04-01T00:00:00",
          "1943-05-01T00:00:00",
          "1943-06-01T00:00:00",
          "1943-07-01T00:00:00",
          "1943-08-01T00:00:00",
          "1943-09-01T00:00:00",
          "1943-10-01T00:00:00",
          "1943-11-01T00:00:00",
          "1943-12-01T00:00:00",
          "1944-01-01T00:00:00",
          "1944-02-01T00:00:00",
          "1944-03-01T00:00:00",
          "1944-04-01T00:00:00",
          "1944-05-01T00:00:00",
          "1944-06-01T00:00:00",
          "1944-07-01T00:00:00",
          "1944-08-01T00:00:00",
          "1944-09-01T00:00:00",
          "1944-10-01T00:00:00",
          "1944-11-01T00:00:00",
          "1944-12-01T00:00:00",
          "1945-01-01T00:00:00",
          "1945-02-01T00:00:00",
          "1945-03-01T00:00:00",
          "1945-04-01T00:00:00",
          "1945-05-01T00:00:00",
          "1945-06-01T00:00:00",
          "1945-07-01T00:00:00",
          "1945-08-01T00:00:00",
          "1945-09-01T00:00:00",
          "1945-10-01T00:00:00",
          "1945-11-01T00:00:00",
          "1945-12-01T00:00:00",
          "1946-01-01T00:00:00",
          "1946-02-01T00:00:00",
          "1946-03-01T00:00:00"
         ],
         "xaxis": "x",
         "y": [
          0,
          0,
          0,
          5758,
          10813,
          11107,
          11105,
          11062,
          11006,
          10959,
          10886,
          10724,
          10520,
          10307,
          10178,
          10073,
          10509,
          10426,
          10406,
          10388,
          10242,
          10112,
          9962,
          9760,
          9420,
          9712,
          9433,
          9241,
          9035,
          8886,
          8669,
          8537,
          8445,
          8213,
          7997,
          7556,
          7084,
          6325,
          5714,
          4611,
          3312,
          1156,
          0,
          0,
          0,
          0
         ],
         "yaxis": "y"
        },
        {
         "hovertemplate": "Camp=Jerome<br>Date=%{x}<br>Population=%{y}<extra></extra>",
         "legendgroup": "Jerome",
         "line": {
          "color": "#19d3f3",
          "dash": "solid"
         },
         "marker": {
          "symbol": "circle"
         },
         "mode": "lines",
         "name": "Jerome",
         "orientation": "v",
         "showlegend": true,
         "type": "scatter",
         "x": [
          "1942-06-01T00:00:00",
          "1942-07-01T00:00:00",
          "1942-08-01T00:00:00",
          "1942-09-01T00:00:00",
          "1942-10-01T00:00:00",
          "1942-11-01T00:00:00",
          "1942-12-01T00:00:00",
          "1943-01-01T00:00:00",
          "1943-02-01T00:00:00",
          "1943-03-01T00:00:00",
          "1943-04-01T00:00:00",
          "1943-05-01T00:00:00",
          "1943-06-01T00:00:00",
          "1943-07-01T00:00:00",
          "1943-08-01T00:00:00",
          "1943-09-01T00:00:00",
          "1943-10-01T00:00:00",
          "1943-11-01T00:00:00",
          "1943-12-01T00:00:00",
          "1944-01-01T00:00:00",
          "1944-02-01T00:00:00",
          "1944-03-01T00:00:00",
          "1944-04-01T00:00:00",
          "1944-05-01T00:00:00",
          "1944-06-01T00:00:00",
          "1944-07-01T00:00:00",
          "1944-08-01T00:00:00",
          "1944-09-01T00:00:00",
          "1944-10-01T00:00:00",
          "1944-11-01T00:00:00",
          "1944-12-01T00:00:00",
          "1945-01-01T00:00:00",
          "1945-02-01T00:00:00",
          "1945-03-01T00:00:00",
          "1945-04-01T00:00:00",
          "1945-05-01T00:00:00",
          "1945-06-01T00:00:00",
          "1945-07-01T00:00:00",
          "1945-08-01T00:00:00",
          "1945-09-01T00:00:00",
          "1945-10-01T00:00:00",
          "1945-11-01T00:00:00",
          "1945-12-01T00:00:00",
          "1946-01-01T00:00:00",
          "1946-02-01T00:00:00",
          "1946-03-01T00:00:00"
         ],
         "xaxis": "x",
         "y": [
          0,
          0,
          0,
          0,
          0,
          7039,
          7925,
          7932,
          8354,
          8587,
          8526,
          8350,
          8182,
          7972,
          7808,
          7649,
          6899,
          6787,
          6726,
          6700,
          6632,
          6537,
          6529,
          6467,
          5601,
          4,
          4,
          4,
          3,
          3,
          3,
          3,
          2,
          2,
          0,
          0,
          0,
          0,
          0,
          0,
          0,
          0,
          0,
          0,
          0,
          0
         ],
         "yaxis": "y"
        },
        {
         "hovertemplate": "Camp=Manzanar<br>Date=%{x}<br>Population=%{y}<extra></extra>",
         "legendgroup": "Manzanar",
         "line": {
          "color": "#FF6692",
          "dash": "solid"
         },
         "marker": {
          "symbol": "circle"
         },
         "mode": "lines",
         "name": "Manzanar",
         "orientation": "v",
         "showlegend": true,
         "type": "scatter",
         "x": [
          "1942-06-01T00:00:00",
          "1942-07-01T00:00:00",
          "1942-08-01T00:00:00",
          "1942-09-01T00:00:00",
          "1942-10-01T00:00:00",
          "1942-11-01T00:00:00",
          "1942-12-01T00:00:00",
          "1943-01-01T00:00:00",
          "1943-02-01T00:00:00",
          "1943-03-01T00:00:00",
          "1943-04-01T00:00:00",
          "1943-05-01T00:00:00",
          "1943-06-01T00:00:00",
          "1943-07-01T00:00:00",
          "1943-08-01T00:00:00",
          "1943-09-01T00:00:00",
          "1943-10-01T00:00:00",
          "1943-11-01T00:00:00",
          "1943-12-01T00:00:00",
          "1944-01-01T00:00:00",
          "1944-02-01T00:00:00",
          "1944-03-01T00:00:00",
          "1944-04-01T00:00:00",
          "1944-05-01T00:00:00",
          "1944-06-01T00:00:00",
          "1944-07-01T00:00:00",
          "1944-08-01T00:00:00",
          "1944-09-01T00:00:00",
          "1944-10-01T00:00:00",
          "1944-11-01T00:00:00",
          "1944-12-01T00:00:00",
          "1945-01-01T00:00:00",
          "1945-02-01T00:00:00",
          "1945-03-01T00:00:00",
          "1945-04-01T00:00:00",
          "1945-05-01T00:00:00",
          "1945-06-01T00:00:00",
          "1945-07-01T00:00:00",
          "1945-08-01T00:00:00",
          "1945-09-01T00:00:00",
          "1945-10-01T00:00:00",
          "1945-11-01T00:00:00",
          "1945-12-01T00:00:00",
          "1946-01-01T00:00:00",
          "1946-02-01T00:00:00",
          "1946-03-01T00:00:00"
         ],
         "xaxis": "x",
         "y": [
          9666,
          9840,
          9928,
          10072,
          10256,
          10181,
          10177,
          10121,
          10079,
          9796,
          9707,
          9496,
          9272,
          9197,
          9163,
          9105,
          9045,
          8701,
          8621,
          8643,
          8580,
          6655,
          6565,
          6456,
          6341,
          6232,
          6138,
          6057,
          5939,
          5836,
          5668,
          5588,
          5522,
          5435,
          5298,
          5030,
          4658,
          4248,
          3994,
          3552,
          2891,
          1146,
          0,
          0,
          0,
          0
         ],
         "yaxis": "y"
        },
        {
         "hovertemplate": "Camp=Minidoka<br>Date=%{x}<br>Population=%{y}<extra></extra>",
         "legendgroup": "Minidoka",
         "line": {
          "color": "#B6E880",
          "dash": "solid"
         },
         "marker": {
          "symbol": "circle"
         },
         "mode": "lines",
         "name": "Minidoka",
         "orientation": "v",
         "showlegend": true,
         "type": "scatter",
         "x": [
          "1942-06-01T00:00:00",
          "1942-07-01T00:00:00",
          "1942-08-01T00:00:00",
          "1942-09-01T00:00:00",
          "1942-10-01T00:00:00",
          "1942-11-01T00:00:00",
          "1942-12-01T00:00:00",
          "1943-01-01T00:00:00",
          "1943-02-01T00:00:00",
          "1943-03-01T00:00:00",
          "1943-04-01T00:00:00",
          "1943-05-01T00:00:00",
          "1943-06-01T00:00:00",
          "1943-07-01T00:00:00",
          "1943-08-01T00:00:00",
          "1943-09-01T00:00:00",
          "1943-10-01T00:00:00",
          "1943-11-01T00:00:00",
          "1943-12-01T00:00:00",
          "1944-01-01T00:00:00",
          "1944-02-01T00:00:00",
          "1944-03-01T00:00:00",
          "1944-04-01T00:00:00",
          "1944-05-01T00:00:00",
          "1944-06-01T00:00:00",
          "1944-07-01T00:00:00",
          "1944-08-01T00:00:00",
          "1944-09-01T00:00:00",
          "1944-10-01T00:00:00",
          "1944-11-01T00:00:00",
          "1944-12-01T00:00:00",
          "1945-01-01T00:00:00",
          "1945-02-01T00:00:00",
          "1945-03-01T00:00:00",
          "1945-04-01T00:00:00",
          "1945-05-01T00:00:00",
          "1945-06-01T00:00:00",
          "1945-07-01T00:00:00",
          "1945-08-01T00:00:00",
          "1945-09-01T00:00:00",
          "1945-10-01T00:00:00",
          "1945-11-01T00:00:00",
          "1945-12-01T00:00:00",
          "1946-01-01T00:00:00",
          "1946-02-01T00:00:00",
          "1946-03-01T00:00:00"
         ],
         "xaxis": "x",
         "y": [
          0,
          0,
          0,
          4840,
          9200,
          9846,
          9849,
          9861,
          9814,
          9924,
          9772,
          9401,
          8989,
          8752,
          8556,
          8325,
          9530,
          9419,
          9492,
          9461,
          9374,
          9288,
          9027,
          8856,
          8514,
          8335,
          8160,
          8099,
          7972,
          7976,
          7867,
          7770,
          7574,
          7373,
          6851,
          6382,
          5615,
          4937,
          4330,
          3218,
          1482,
          0,
          0,
          0,
          0,
          0
         ],
         "yaxis": "y"
        },
        {
         "hovertemplate": "Camp=Rohwer<br>Date=%{x}<br>Population=%{y}<extra></extra>",
         "legendgroup": "Rohwer",
         "line": {
          "color": "#FF97FF",
          "dash": "solid"
         },
         "marker": {
          "symbol": "circle"
         },
         "mode": "lines",
         "name": "Rohwer",
         "orientation": "v",
         "showlegend": true,
         "type": "scatter",
         "x": [
          "1942-06-01T00:00:00",
          "1942-07-01T00:00:00",
          "1942-08-01T00:00:00",
          "1942-09-01T00:00:00",
          "1942-10-01T00:00:00",
          "1942-11-01T00:00:00",
          "1942-12-01T00:00:00",
          "1943-01-01T00:00:00",
          "1943-02-01T00:00:00",
          "1943-03-01T00:00:00",
          "1943-04-01T00:00:00",
          "1943-05-01T00:00:00",
          "1943-06-01T00:00:00",
          "1943-07-01T00:00:00",
          "1943-08-01T00:00:00",
          "1943-09-01T00:00:00",
          "1943-10-01T00:00:00",
          "1943-11-01T00:00:00",
          "1943-12-01T00:00:00",
          "1944-01-01T00:00:00",
          "1944-02-01T00:00:00",
          "1944-03-01T00:00:00",
          "1944-04-01T00:00:00",
          "1944-05-01T00:00:00",
          "1944-06-01T00:00:00",
          "1944-07-01T00:00:00",
          "1944-08-01T00:00:00",
          "1944-09-01T00:00:00",
          "1944-10-01T00:00:00",
          "1944-11-01T00:00:00",
          "1944-12-01T00:00:00",
          "1945-01-01T00:00:00",
          "1945-02-01T00:00:00",
          "1945-03-01T00:00:00",
          "1945-04-01T00:00:00",
          "1945-05-01T00:00:00",
          "1945-06-01T00:00:00",
          "1945-07-01T00:00:00",
          "1945-08-01T00:00:00",
          "1945-09-01T00:00:00",
          "1945-10-01T00:00:00",
          "1945-11-01T00:00:00",
          "1945-12-01T00:00:00",
          "1946-01-01T00:00:00",
          "1946-02-01T00:00:00",
          "1946-03-01T00:00:00"
         ],
         "xaxis": "x",
         "y": [
          0,
          0,
          0,
          0,
          2265,
          8407,
          8515,
          8548,
          8538,
          8528,
          8478,
          8286,
          8061,
          7895,
          7781,
          7552,
          7123,
          6731,
          6676,
          6676,
          6600,
          6514,
          6375,
          6248,
          5479,
          7623,
          7279,
          6900,
          6764,
          6700,
          6689,
          6747,
          6697,
          6563,
          6339,
          5991,
          5447,
          4910,
          4098,
          3332,
          2175,
          1804,
          0,
          0,
          0,
          0
         ],
         "yaxis": "y"
        },
        {
         "hovertemplate": "Camp=Tule Lake<br>Date=%{x}<br>Population=%{y}<extra></extra>",
         "legendgroup": "Tule Lake",
         "line": {
          "color": "#FECB52",
          "dash": "solid"
         },
         "marker": {
          "symbol": "circle"
         },
         "mode": "lines",
         "name": "Tule Lake",
         "orientation": "v",
         "showlegend": true,
         "type": "scatter",
         "x": [
          "1942-06-01T00:00:00",
          "1942-07-01T00:00:00",
          "1942-08-01T00:00:00",
          "1942-09-01T00:00:00",
          "1942-10-01T00:00:00",
          "1942-11-01T00:00:00",
          "1942-12-01T00:00:00",
          "1943-01-01T00:00:00",
          "1943-02-01T00:00:00",
          "1943-03-01T00:00:00",
          "1943-04-01T00:00:00",
          "1943-05-01T00:00:00",
          "1943-06-01T00:00:00",
          "1943-07-01T00:00:00",
          "1943-08-01T00:00:00",
          "1943-09-01T00:00:00",
          "1943-10-01T00:00:00",
          "1943-11-01T00:00:00",
          "1943-12-01T00:00:00",
          "1944-01-01T00:00:00",
          "1944-02-01T00:00:00",
          "1944-03-01T00:00:00",
          "1944-04-01T00:00:00",
          "1944-05-01T00:00:00",
          "1944-06-01T00:00:00",
          "1944-07-01T00:00:00",
          "1944-08-01T00:00:00",
          "1944-09-01T00:00:00",
          "1944-10-01T00:00:00",
          "1944-11-01T00:00:00",
          "1944-12-01T00:00:00",
          "1945-01-01T00:00:00",
          "1945-02-01T00:00:00",
          "1945-03-01T00:00:00",
          "1945-04-01T00:00:00",
          "1945-05-01T00:00:00",
          "1945-06-01T00:00:00",
          "1945-07-01T00:00:00",
          "1945-08-01T00:00:00",
          "1945-09-01T00:00:00",
          "1945-10-01T00:00:00",
          "1945-11-01T00:00:00",
          "1945-12-01T00:00:00",
          "1946-01-01T00:00:00",
          "1946-02-01T00:00:00",
          "1946-03-01T00:00:00"
         ],
         "xaxis": "x",
         "y": [
          446,
          9038,
          15020,
          15181,
          15277,
          15393,
          15311,
          15369,
          15274,
          15219,
          15124,
          15015,
          14828,
          14630,
          14484,
          14185,
          12183,
          16012,
          15671,
          15630,
          15625,
          17492,
          17580,
          16964,
          18652,
          18678,
          18709,
          18726,
          18728,
          18718,
          18770,
          18734,
          18593,
          17953,
          17864,
          17886,
          17879,
          17466,
          17366,
          17286,
          16740,
          15450,
          12628,
          7303,
          5046,
          2808
         ],
         "yaxis": "y"
        }
       ],
       "layout": {
        "autosize": true,
        "legend": {
         "title": {
          "text": "Camp"
         },
         "tracegroupgap": 0
        },
        "template": {
         "data": {
          "bar": [
           {
            "error_x": {
             "color": "#2a3f5f"
            },
            "error_y": {
             "color": "#2a3f5f"
            },
            "marker": {
             "line": {
              "color": "#E5ECF6",
              "width": 0.5
             },
             "pattern": {
              "fillmode": "overlay",
              "size": 10,
              "solidity": 0.2
             }
            },
            "type": "bar"
           }
          ],
          "barpolar": [
           {
            "marker": {
             "line": {
              "color": "#E5ECF6",
              "width": 0.5
             },
             "pattern": {
              "fillmode": "overlay",
              "size": 10,
              "solidity": 0.2
             }
            },
            "type": "barpolar"
           }
          ],
          "carpet": [
           {
            "aaxis": {
             "endlinecolor": "#2a3f5f",
             "gridcolor": "white",
             "linecolor": "white",
             "minorgridcolor": "white",
             "startlinecolor": "#2a3f5f"
            },
            "baxis": {
             "endlinecolor": "#2a3f5f",
             "gridcolor": "white",
             "linecolor": "white",
             "minorgridcolor": "white",
             "startlinecolor": "#2a3f5f"
            },
            "type": "carpet"
           }
          ],
          "choropleth": [
           {
            "colorbar": {
             "outlinewidth": 0,
             "ticks": ""
            },
            "type": "choropleth"
           }
          ],
          "contour": [
           {
            "colorbar": {
             "outlinewidth": 0,
             "ticks": ""
            },
            "colorscale": [
             [
              0,
              "#0d0887"
             ],
             [
              0.1111111111111111,
              "#46039f"
             ],
             [
              0.2222222222222222,
              "#7201a8"
             ],
             [
              0.3333333333333333,
              "#9c179e"
             ],
             [
              0.4444444444444444,
              "#bd3786"
             ],
             [
              0.5555555555555556,
              "#d8576b"
             ],
             [
              0.6666666666666666,
              "#ed7953"
             ],
             [
              0.7777777777777778,
              "#fb9f3a"
             ],
             [
              0.8888888888888888,
              "#fdca26"
             ],
             [
              1,
              "#f0f921"
             ]
            ],
            "type": "contour"
           }
          ],
          "contourcarpet": [
           {
            "colorbar": {
             "outlinewidth": 0,
             "ticks": ""
            },
            "type": "contourcarpet"
           }
          ],
          "heatmap": [
           {
            "colorbar": {
             "outlinewidth": 0,
             "ticks": ""
            },
            "colorscale": [
             [
              0,
              "#0d0887"
             ],
             [
              0.1111111111111111,
              "#46039f"
             ],
             [
              0.2222222222222222,
              "#7201a8"
             ],
             [
              0.3333333333333333,
              "#9c179e"
             ],
             [
              0.4444444444444444,
              "#bd3786"
             ],
             [
              0.5555555555555556,
              "#d8576b"
             ],
             [
              0.6666666666666666,
              "#ed7953"
             ],
             [
              0.7777777777777778,
              "#fb9f3a"
             ],
             [
              0.8888888888888888,
              "#fdca26"
             ],
             [
              1,
              "#f0f921"
             ]
            ],
            "type": "heatmap"
           }
          ],
          "heatmapgl": [
           {
            "colorbar": {
             "outlinewidth": 0,
             "ticks": ""
            },
            "colorscale": [
             [
              0,
              "#0d0887"
             ],
             [
              0.1111111111111111,
              "#46039f"
             ],
             [
              0.2222222222222222,
              "#7201a8"
             ],
             [
              0.3333333333333333,
              "#9c179e"
             ],
             [
              0.4444444444444444,
              "#bd3786"
             ],
             [
              0.5555555555555556,
              "#d8576b"
             ],
             [
              0.6666666666666666,
              "#ed7953"
             ],
             [
              0.7777777777777778,
              "#fb9f3a"
             ],
             [
              0.8888888888888888,
              "#fdca26"
             ],
             [
              1,
              "#f0f921"
             ]
            ],
            "type": "heatmapgl"
           }
          ],
          "histogram": [
           {
            "marker": {
             "pattern": {
              "fillmode": "overlay",
              "size": 10,
              "solidity": 0.2
             }
            },
            "type": "histogram"
           }
          ],
          "histogram2d": [
           {
            "colorbar": {
             "outlinewidth": 0,
             "ticks": ""
            },
            "colorscale": [
             [
              0,
              "#0d0887"
             ],
             [
              0.1111111111111111,
              "#46039f"
             ],
             [
              0.2222222222222222,
              "#7201a8"
             ],
             [
              0.3333333333333333,
              "#9c179e"
             ],
             [
              0.4444444444444444,
              "#bd3786"
             ],
             [
              0.5555555555555556,
              "#d8576b"
             ],
             [
              0.6666666666666666,
              "#ed7953"
             ],
             [
              0.7777777777777778,
              "#fb9f3a"
             ],
             [
              0.8888888888888888,
              "#fdca26"
             ],
             [
              1,
              "#f0f921"
             ]
            ],
            "type": "histogram2d"
           }
          ],
          "histogram2dcontour": [
           {
            "colorbar": {
             "outlinewidth": 0,
             "ticks": ""
            },
            "colorscale": [
             [
              0,
              "#0d0887"
             ],
             [
              0.1111111111111111,
              "#46039f"
             ],
             [
              0.2222222222222222,
              "#7201a8"
             ],
             [
              0.3333333333333333,
              "#9c179e"
             ],
             [
              0.4444444444444444,
              "#bd3786"
             ],
             [
              0.5555555555555556,
              "#d8576b"
             ],
             [
              0.6666666666666666,
              "#ed7953"
             ],
             [
              0.7777777777777778,
              "#fb9f3a"
             ],
             [
              0.8888888888888888,
              "#fdca26"
             ],
             [
              1,
              "#f0f921"
             ]
            ],
            "type": "histogram2dcontour"
           }
          ],
          "mesh3d": [
           {
            "colorbar": {
             "outlinewidth": 0,
             "ticks": ""
            },
            "type": "mesh3d"
           }
          ],
          "parcoords": [
           {
            "line": {
             "colorbar": {
              "outlinewidth": 0,
              "ticks": ""
             }
            },
            "type": "parcoords"
           }
          ],
          "pie": [
           {
            "automargin": true,
            "type": "pie"
           }
          ],
          "scatter": [
           {
            "marker": {
             "colorbar": {
              "outlinewidth": 0,
              "ticks": ""
             }
            },
            "type": "scatter"
           }
          ],
          "scatter3d": [
           {
            "line": {
             "colorbar": {
              "outlinewidth": 0,
              "ticks": ""
             }
            },
            "marker": {
             "colorbar": {
              "outlinewidth": 0,
              "ticks": ""
             }
            },
            "type": "scatter3d"
           }
          ],
          "scattercarpet": [
           {
            "marker": {
             "colorbar": {
              "outlinewidth": 0,
              "ticks": ""
             }
            },
            "type": "scattercarpet"
           }
          ],
          "scattergeo": [
           {
            "marker": {
             "colorbar": {
              "outlinewidth": 0,
              "ticks": ""
             }
            },
            "type": "scattergeo"
           }
          ],
          "scattergl": [
           {
            "marker": {
             "colorbar": {
              "outlinewidth": 0,
              "ticks": ""
             }
            },
            "type": "scattergl"
           }
          ],
          "scattermapbox": [
           {
            "marker": {
             "colorbar": {
              "outlinewidth": 0,
              "ticks": ""
             }
            },
            "type": "scattermapbox"
           }
          ],
          "scatterpolar": [
           {
            "marker": {
             "colorbar": {
              "outlinewidth": 0,
              "ticks": ""
             }
            },
            "type": "scatterpolar"
           }
          ],
          "scatterpolargl": [
           {
            "marker": {
             "colorbar": {
              "outlinewidth": 0,
              "ticks": ""
             }
            },
            "type": "scatterpolargl"
           }
          ],
          "scatterternary": [
           {
            "marker": {
             "colorbar": {
              "outlinewidth": 0,
              "ticks": ""
             }
            },
            "type": "scatterternary"
           }
          ],
          "surface": [
           {
            "colorbar": {
             "outlinewidth": 0,
             "ticks": ""
            },
            "colorscale": [
             [
              0,
              "#0d0887"
             ],
             [
              0.1111111111111111,
              "#46039f"
             ],
             [
              0.2222222222222222,
              "#7201a8"
             ],
             [
              0.3333333333333333,
              "#9c179e"
             ],
             [
              0.4444444444444444,
              "#bd3786"
             ],
             [
              0.5555555555555556,
              "#d8576b"
             ],
             [
              0.6666666666666666,
              "#ed7953"
             ],
             [
              0.7777777777777778,
              "#fb9f3a"
             ],
             [
              0.8888888888888888,
              "#fdca26"
             ],
             [
              1,
              "#f0f921"
             ]
            ],
            "type": "surface"
           }
          ],
          "table": [
           {
            "cells": {
             "fill": {
              "color": "#EBF0F8"
             },
             "line": {
              "color": "white"
             }
            },
            "header": {
             "fill": {
              "color": "#C8D4E3"
             },
             "line": {
              "color": "white"
             }
            },
            "type": "table"
           }
          ]
         },
         "layout": {
          "annotationdefaults": {
           "arrowcolor": "#2a3f5f",
           "arrowhead": 0,
           "arrowwidth": 1
          },
          "autotypenumbers": "strict",
          "coloraxis": {
           "colorbar": {
            "outlinewidth": 0,
            "ticks": ""
           }
          },
          "colorscale": {
           "diverging": [
            [
             0,
             "#8e0152"
            ],
            [
             0.1,
             "#c51b7d"
            ],
            [
             0.2,
             "#de77ae"
            ],
            [
             0.3,
             "#f1b6da"
            ],
            [
             0.4,
             "#fde0ef"
            ],
            [
             0.5,
             "#f7f7f7"
            ],
            [
             0.6,
             "#e6f5d0"
            ],
            [
             0.7,
             "#b8e186"
            ],
            [
             0.8,
             "#7fbc41"
            ],
            [
             0.9,
             "#4d9221"
            ],
            [
             1,
             "#276419"
            ]
           ],
           "sequential": [
            [
             0,
             "#0d0887"
            ],
            [
             0.1111111111111111,
             "#46039f"
            ],
            [
             0.2222222222222222,
             "#7201a8"
            ],
            [
             0.3333333333333333,
             "#9c179e"
            ],
            [
             0.4444444444444444,
             "#bd3786"
            ],
            [
             0.5555555555555556,
             "#d8576b"
            ],
            [
             0.6666666666666666,
             "#ed7953"
            ],
            [
             0.7777777777777778,
             "#fb9f3a"
            ],
            [
             0.8888888888888888,
             "#fdca26"
            ],
            [
             1,
             "#f0f921"
            ]
           ],
           "sequentialminus": [
            [
             0,
             "#0d0887"
            ],
            [
             0.1111111111111111,
             "#46039f"
            ],
            [
             0.2222222222222222,
             "#7201a8"
            ],
            [
             0.3333333333333333,
             "#9c179e"
            ],
            [
             0.4444444444444444,
             "#bd3786"
            ],
            [
             0.5555555555555556,
             "#d8576b"
            ],
            [
             0.6666666666666666,
             "#ed7953"
            ],
            [
             0.7777777777777778,
             "#fb9f3a"
            ],
            [
             0.8888888888888888,
             "#fdca26"
            ],
            [
             1,
             "#f0f921"
            ]
           ]
          },
          "colorway": [
           "#636efa",
           "#EF553B",
           "#00cc96",
           "#ab63fa",
           "#FFA15A",
           "#19d3f3",
           "#FF6692",
           "#B6E880",
           "#FF97FF",
           "#FECB52"
          ],
          "font": {
           "color": "#2a3f5f"
          },
          "geo": {
           "bgcolor": "white",
           "lakecolor": "white",
           "landcolor": "#E5ECF6",
           "showlakes": true,
           "showland": true,
           "subunitcolor": "white"
          },
          "hoverlabel": {
           "align": "left"
          },
          "hovermode": "closest",
          "mapbox": {
           "style": "light"
          },
          "paper_bgcolor": "white",
          "plot_bgcolor": "#E5ECF6",
          "polar": {
           "angularaxis": {
            "gridcolor": "white",
            "linecolor": "white",
            "ticks": ""
           },
           "bgcolor": "#E5ECF6",
           "radialaxis": {
            "gridcolor": "white",
            "linecolor": "white",
            "ticks": ""
           }
          },
          "scene": {
           "xaxis": {
            "backgroundcolor": "#E5ECF6",
            "gridcolor": "white",
            "gridwidth": 2,
            "linecolor": "white",
            "showbackground": true,
            "ticks": "",
            "zerolinecolor": "white"
           },
           "yaxis": {
            "backgroundcolor": "#E5ECF6",
            "gridcolor": "white",
            "gridwidth": 2,
            "linecolor": "white",
            "showbackground": true,
            "ticks": "",
            "zerolinecolor": "white"
           },
           "zaxis": {
            "backgroundcolor": "#E5ECF6",
            "gridcolor": "white",
            "gridwidth": 2,
            "linecolor": "white",
            "showbackground": true,
            "ticks": "",
            "zerolinecolor": "white"
           }
          },
          "shapedefaults": {
           "line": {
            "color": "#2a3f5f"
           }
          },
          "ternary": {
           "aaxis": {
            "gridcolor": "white",
            "linecolor": "white",
            "ticks": ""
           },
           "baxis": {
            "gridcolor": "white",
            "linecolor": "white",
            "ticks": ""
           },
           "bgcolor": "#E5ECF6",
           "caxis": {
            "gridcolor": "white",
            "linecolor": "white",
            "ticks": ""
           }
          },
          "title": {
           "x": 0.05
          },
          "xaxis": {
           "automargin": true,
           "gridcolor": "white",
           "linecolor": "white",
           "ticks": "",
           "title": {
            "standoff": 15
           },
           "zerolinecolor": "white",
           "zerolinewidth": 2
          },
          "yaxis": {
           "automargin": true,
           "gridcolor": "white",
           "linecolor": "white",
           "ticks": "",
           "title": {
            "standoff": 15
           },
           "zerolinecolor": "white",
           "zerolinewidth": 2
          }
         }
        },
        "title": {
         "text": "Camp Populations by Month"
        },
        "xaxis": {
         "anchor": "y",
         "autorange": true,
         "domain": [
          0,
          1
         ],
         "range": [
          "1942-06-01",
          "1946-03-01"
         ],
         "title": {
          "text": "Date"
         },
         "type": "date"
        },
        "yaxis": {
         "anchor": "x",
         "autorange": true,
         "domain": [
          0,
          1
         ],
         "range": [
          -1042.7777777777778,
          19812.777777777777
         ],
         "title": {
          "text": "Population"
         },
         "type": "linear"
        }
       }
      },
      "image/png": "[encoded data removed]",
      "text/html": [
       "<div>                            <div id=\"73110d03-2648-4307-bcca-b763823106fe\" class=\"plotly-graph-div\" style=\"height:525px; width:100%;\"></div>            <script type=\"text/javascript\">                require([\"plotly\"], function(Plotly) {                    window.PLOTLYENV=window.PLOTLYENV || {};                                    if (document.getElementById(\"73110d03-2648-4307-bcca-b763823106fe\")) {                    Plotly.newPlot(                        \"73110d03-2648-4307-bcca-b763823106fe\",                        [{\"hovertemplate\":\"Camp=Topaz/Central Utah<br>Date=%{x}<br>Population=%{y}<extra></extra>\",\"legendgroup\":\"Topaz/Central Utah\",\"line\":{\"color\":\"#636efa\",\"dash\":\"solid\"},\"marker\":{\"symbol\":\"circle\"},\"mode\":\"lines\",\"name\":\"Topaz/Central Utah\",\"orientation\":\"v\",\"showlegend\":true,\"x\":[\"1942-06-01T00:00:00\",\"1942-07-01T00:00:00\",\"1942-08-01T00:00:00\",\"1942-09-01T00:00:00\",\"1942-10-01T00:00:00\",\"1942-11-01T00:00:00\",\"1942-12-01T00:00:00\",\"1943-01-01T00:00:00\",\"1943-02-01T00:00:00\",\"1943-03-01T00:00:00\",\"1943-04-01T00:00:00\",\"1943-05-01T00:00:00\",\"1943-06-01T00:00:00\",\"1943-07-01T00:00:00\",\"1943-08-01T00:00:00\",\"1943-09-01T00:00:00\",\"1943-10-01T00:00:00\",\"1943-11-01T00:00:00\",\"1943-12-01T00:00:00\",\"1944-01-01T00:00:00\",\"1944-02-01T00:00:00\",\"1944-03-01T00:00:00\",\"1944-04-01T00:00:00\",\"1944-05-01T00:00:00\",\"1944-06-01T00:00:00\",\"1944-07-01T00:00:00\",\"1944-08-01T00:00:00\",\"1944-09-01T00:00:00\",\"1944-10-01T00:00:00\",\"1944-11-01T00:00:00\",\"1944-12-01T00:00:00\",\"1945-01-01T00:00:00\",\"1945-02-01T00:00:00\",\"1945-03-01T00:00:00\",\"1945-04-01T00:00:00\",\"1945-05-01T00:00:00\",\"1945-06-01T00:00:00\",\"1945-07-01T00:00:00\",\"1945-08-01T00:00:00\",\"1945-09-01T00:00:00\",\"1945-10-01T00:00:00\",\"1945-11-01T00:00:00\",\"1945-12-01T00:00:00\",\"1946-01-01T00:00:00\",\"1946-02-01T00:00:00\",\"1946-03-01T00:00:00\"],\"xaxis\":\"x\",\"y\":[0,0,0,0,5806,8320,8294,8232,8214,8152,8332,8189,8018,7862,7809,7682,7608,7554,7585,7559,7438,7350,7227,7084,6879,6727,6621,6426,6280,6125,6026,5984,5883,5742,5589,5413,5165,4645,4176,3339,1899,0,0,0,0,0],\"yaxis\":\"y\",\"type\":\"scatter\"},{\"hovertemplate\":\"Camp=Poston/Colorado River<br>Date=%{x}<br>Population=%{y}<extra></extra>\",\"legendgroup\":\"Poston/Colorado River\",\"line\":{\"color\":\"#EF553B\",\"dash\":\"solid\"},\"marker\":{\"symbol\":\"circle\"},\"mode\":\"lines\",\"name\":\"Poston/Colorado River\",\"orientation\":\"v\",\"showlegend\":true,\"x\":[\"1942-06-01T00:00:00\",\"1942-07-01T00:00:00\",\"1942-08-01T00:00:00\",\"1942-09-01T00:00:00\",\"1942-10-01T00:00:00\",\"1942-11-01T00:00:00\",\"1942-12-01T00:00:00\",\"1943-01-01T00:00:00\",\"1943-02-01T00:00:00\",\"1943-03-01T00:00:00\",\"1943-04-01T00:00:00\",\"1943-05-01T00:00:00\",\"1943-06-01T00:00:00\",\"1943-07-01T00:00:00\",\"1943-08-01T00:00:00\",\"1943-09-01T00:00:00\",\"1943-10-01T00:00:00\",\"1943-11-01T00:00:00\",\"1943-12-01T00:00:00\",\"1944-01-01T00:00:00\",\"1944-02-01T00:00:00\",\"1944-03-01T00:00:00\",\"1944-04-01T00:00:00\",\"1944-05-01T00:00:00\",\"1944-06-01T00:00:00\",\"1944-07-01T00:00:00\",\"1944-08-01T00:00:00\",\"1944-09-01T00:00:00\",\"1944-10-01T00:00:00\",\"1944-11-01T00:00:00\",\"1944-12-01T00:00:00\",\"1945-01-01T00:00:00\",\"1945-02-01T00:00:00\",\"1945-03-01T00:00:00\",\"1945-04-01T00:00:00\",\"1945-05-01T00:00:00\",\"1945-06-01T00:00:00\",\"1945-07-01T00:00:00\",\"1945-08-01T00:00:00\",\"1945-09-01T00:00:00\",\"1945-10-01T00:00:00\",\"1945-11-01T00:00:00\",\"1945-12-01T00:00:00\",\"1946-01-01T00:00:00\",\"1946-02-01T00:00:00\",\"1946-03-01T00:00:00\"],\"xaxis\":\"x\",\"y\":[7281,8755,13262,17818,17847,17877,17965,8039,18025,17984,17941,17741,17406,16995,16671,16279,16013,14470,14372,14295,14109,13876,13453,13241,13021,12725,12517,12152,12059,11881,11751,11710,11480,11251,10828,10421,9979,9386,8750,6828,2730,1088,0,0,0,0],\"yaxis\":\"y\",\"type\":\"scatter\"},{\"hovertemplate\":\"Camp=Gila River<br>Date=%{x}<br>Population=%{y}<extra></extra>\",\"legendgroup\":\"Gila River\",\"line\":{\"color\":\"#00cc96\",\"dash\":\"solid\"},\"marker\":{\"symbol\":\"circle\"},\"mode\":\"lines\",\"name\":\"Gila River\",\"orientation\":\"v\",\"showlegend\":true,\"x\":[\"1942-06-01T00:00:00\",\"1942-07-01T00:00:00\",\"1942-08-01T00:00:00\",\"1942-09-01T00:00:00\",\"1942-10-01T00:00:00\",\"1942-11-01T00:00:00\",\"1942-12-01T00:00:00\",\"1943-01-01T00:00:00\",\"1943-02-01T00:00:00\",\"1943-03-01T00:00:00\",\"1943-04-01T00:00:00\",\"1943-05-01T00:00:00\",\"1943-06-01T00:00:00\",\"1943-07-01T00:00:00\",\"1943-08-01T00:00:00\",\"1943-09-01T00:00:00\",\"1943-10-01T00:00:00\",\"1943-11-01T00:00:00\",\"1943-12-01T00:00:00\",\"1944-01-01T00:00:00\",\"1944-02-01T00:00:00\",\"1944-03-01T00:00:00\",\"1944-04-01T00:00:00\",\"1944-05-01T00:00:00\",\"1944-06-01T00:00:00\",\"1944-07-01T00:00:00\",\"1944-08-01T00:00:00\",\"1944-09-01T00:00:00\",\"1944-10-01T00:00:00\",\"1944-11-01T00:00:00\",\"1944-12-01T00:00:00\",\"1945-01-01T00:00:00\",\"1945-02-01T00:00:00\",\"1945-03-01T00:00:00\",\"1945-04-01T00:00:00\",\"1945-05-01T00:00:00\",\"1945-06-01T00:00:00\",\"1945-07-01T00:00:00\",\"1945-08-01T00:00:00\",\"1945-09-01T00:00:00\",\"1945-10-01T00:00:00\",\"1945-11-01T00:00:00\",\"1945-12-01T00:00:00\",\"1946-01-01T00:00:00\",\"1946-02-01T00:00:00\",\"1946-03-01T00:00:00\"],\"xaxis\":\"x\",\"y\":[0,0,2106,9150,11555,13368,13368,13420,13411,13374,13372,13224,12954,12683,12542,12251,12056,10017,9898,9869,9800,9655,9419,9199,8788,10531,10291,9951,9651,9550,9534,9550,9432,9207,8988,8716,8319,7684,6765,5141,2760,754,0,0,0,0],\"yaxis\":\"y\",\"type\":\"scatter\"},{\"hovertemplate\":\"Camp=Granada<br>Date=%{x}<br>Population=%{y}<extra></extra>\",\"legendgroup\":\"Granada\",\"line\":{\"color\":\"#ab63fa\",\"dash\":\"solid\"},\"marker\":{\"symbol\":\"circle\"},\"mode\":\"lines\",\"name\":\"Granada\",\"orientation\":\"v\",\"showlegend\":true,\"x\":[\"1942-06-01T00:00:00\",\"1942-07-01T00:00:00\",\"1942-08-01T00:00:00\",\"1942-09-01T00:00:00\",\"1942-10-01T00:00:00\",\"1942-11-01T00:00:00\",\"1942-12-01T00:00:00\",\"1943-01-01T00:00:00\",\"1943-02-01T00:00:00\",\"1943-03-01T00:00:00\",\"1943-04-01T00:00:00\",\"1943-05-01T00:00:00\",\"1943-06-01T00:00:00\",\"1943-07-01T00:00:00\",\"1943-08-01T00:00:00\",\"1943-09-01T00:00:00\",\"1943-10-01T00:00:00\",\"1943-11-01T00:00:00\",\"1943-12-01T00:00:00\",\"1944-01-01T00:00:00\",\"1944-02-01T00:00:00\",\"1944-03-01T00:00:00\",\"1944-04-01T00:00:00\",\"1944-05-01T00:00:00\",\"1944-06-01T00:00:00\",\"1944-07-01T00:00:00\",\"1944-08-01T00:00:00\",\"1944-09-01T00:00:00\",\"1944-10-01T00:00:00\",\"1944-11-01T00:00:00\",\"1944-12-01T00:00:00\",\"1945-01-01T00:00:00\",\"1945-02-01T00:00:00\",\"1945-03-01T00:00:00\",\"1945-04-01T00:00:00\",\"1945-05-01T00:00:00\",\"1945-06-01T00:00:00\",\"1945-07-01T00:00:00\",\"1945-08-01T00:00:00\",\"1945-09-01T00:00:00\",\"1945-10-01T00:00:00\",\"1945-11-01T00:00:00\",\"1945-12-01T00:00:00\",\"1946-01-01T00:00:00\",\"1946-02-01T00:00:00\",\"1946-03-01T00:00:00\"],\"xaxis\":\"x\",\"y\":[0,0,0,212,7480,7654,7651,7656,7622,7619,7476,7222,7016,6931,3876,6764,7494,7368,7393,7355,7176,6983,6786,6685,6424,6816,6664,6490,6403,6371,6311,6255,6177,6035,5805,5411,4980,4256,3758,3155,1379,0,0,0,0,0],\"yaxis\":\"y\",\"type\":\"scatter\"},{\"hovertemplate\":\"Camp=Heart Mountain<br>Date=%{x}<br>Population=%{y}<extra></extra>\",\"legendgroup\":\"Heart Mountain\",\"line\":{\"color\":\"#FFA15A\",\"dash\":\"solid\"},\"marker\":{\"symbol\":\"circle\"},\"mode\":\"lines\",\"name\":\"Heart Mountain\",\"orientation\":\"v\",\"showlegend\":true,\"x\":[\"1942-06-01T00:00:00\",\"1942-07-01T00:00:00\",\"1942-08-01T00:00:00\",\"1942-09-01T00:00:00\",\"1942-10-01T00:00:00\",\"1942-11-01T00:00:00\",\"1942-12-01T00:00:00\",\"1943-01-01T00:00:00\",\"1943-02-01T00:00:00\",\"1943-03-01T00:00:00\",\"1943-04-01T00:00:00\",\"1943-05-01T00:00:00\",\"1943-06-01T00:00:00\",\"1943-07-01T00:00:00\",\"1943-08-01T00:00:00\",\"1943-09-01T00:00:00\",\"1943-10-01T00:00:00\",\"1943-11-01T00:00:00\",\"1943-12-01T00:00:00\",\"1944-01-01T00:00:00\",\"1944-02-01T00:00:00\",\"1944-03-01T00:00:00\",\"1944-04-01T00:00:00\",\"1944-05-01T00:00:00\",\"1944-06-01T00:00:00\",\"1944-07-01T00:00:00\",\"1944-08-01T00:00:00\",\"1944-09-01T00:00:00\",\"1944-10-01T00:00:00\",\"1944-11-01T00:00:00\",\"1944-12-01T00:00:00\",\"1945-01-01T00:00:00\",\"1945-02-01T00:00:00\",\"1945-03-01T00:00:00\",\"1945-04-01T00:00:00\",\"1945-05-01T00:00:00\",\"1945-06-01T00:00:00\",\"1945-07-01T00:00:00\",\"1945-08-01T00:00:00\",\"1945-09-01T00:00:00\",\"1945-10-01T00:00:00\",\"1945-11-01T00:00:00\",\"1945-12-01T00:00:00\",\"1946-01-01T00:00:00\",\"1946-02-01T00:00:00\",\"1946-03-01T00:00:00\"],\"xaxis\":\"x\",\"y\":[0,0,0,5758,10813,11107,11105,11062,11006,10959,10886,10724,10520,10307,10178,10073,10509,10426,10406,10388,10242,10112,9962,9760,9420,9712,9433,9241,9035,8886,8669,8537,8445,8213,7997,7556,7084,6325,5714,4611,3312,1156,0,0,0,0],\"yaxis\":\"y\",\"type\":\"scatter\"},{\"hovertemplate\":\"Camp=Jerome<br>Date=%{x}<br>Population=%{y}<extra></extra>\",\"legendgroup\":\"Jerome\",\"line\":{\"color\":\"#19d3f3\",\"dash\":\"solid\"},\"marker\":{\"symbol\":\"circle\"},\"mode\":\"lines\",\"name\":\"Jerome\",\"orientation\":\"v\",\"showlegend\":true,\"x\":[\"1942-06-01T00:00:00\",\"1942-07-01T00:00:00\",\"1942-08-01T00:00:00\",\"1942-09-01T00:00:00\",\"1942-10-01T00:00:00\",\"1942-11-01T00:00:00\",\"1942-12-01T00:00:00\",\"1943-01-01T00:00:00\",\"1943-02-01T00:00:00\",\"1943-03-01T00:00:00\",\"1943-04-01T00:00:00\",\"1943-05-01T00:00:00\",\"1943-06-01T00:00:00\",\"1943-07-01T00:00:00\",\"1943-08-01T00:00:00\",\"1943-09-01T00:00:00\",\"1943-10-01T00:00:00\",\"1943-11-01T00:00:00\",\"1943-12-01T00:00:00\",\"1944-01-01T00:00:00\",\"1944-02-01T00:00:00\",\"1944-03-01T00:00:00\",\"1944-04-01T00:00:00\",\"1944-05-01T00:00:00\",\"1944-06-01T00:00:00\",\"1944-07-01T00:00:00\",\"1944-08-01T00:00:00\",\"1944-09-01T00:00:00\",\"1944-10-01T00:00:00\",\"1944-11-01T00:00:00\",\"1944-12-01T00:00:00\",\"1945-01-01T00:00:00\",\"1945-02-01T00:00:00\",\"1945-03-01T00:00:00\",\"1945-04-01T00:00:00\",\"1945-05-01T00:00:00\",\"1945-06-01T00:00:00\",\"1945-07-01T00:00:00\",\"1945-08-01T00:00:00\",\"1945-09-01T00:00:00\",\"1945-10-01T00:00:00\",\"1945-11-01T00:00:00\",\"1945-12-01T00:00:00\",\"1946-01-01T00:00:00\",\"1946-02-01T00:00:00\",\"1946-03-01T00:00:00\"],\"xaxis\":\"x\",\"y\":[0,0,0,0,0,7039,7925,7932,8354,8587,8526,8350,8182,7972,7808,7649,6899,6787,6726,6700,6632,6537,6529,6467,5601,4,4,4,3,3,3,3,2,2,0,0,0,0,0,0,0,0,0,0,0,0],\"yaxis\":\"y\",\"type\":\"scatter\"},{\"hovertemplate\":\"Camp=Manzanar<br>Date=%{x}<br>Population=%{y}<extra></extra>\",\"legendgroup\":\"Manzanar\",\"line\":{\"color\":\"#FF6692\",\"dash\":\"solid\"},\"marker\":{\"symbol\":\"circle\"},\"mode\":\"lines\",\"name\":\"Manzanar\",\"orientation\":\"v\",\"showlegend\":true,\"x\":[\"1942-06-01T00:00:00\",\"1942-07-01T00:00:00\",\"1942-08-01T00:00:00\",\"1942-09-01T00:00:00\",\"1942-10-01T00:00:00\",\"1942-11-01T00:00:00\",\"1942-12-01T00:00:00\",\"1943-01-01T00:00:00\",\"1943-02-01T00:00:00\",\"1943-03-01T00:00:00\",\"1943-04-01T00:00:00\",\"1943-05-01T00:00:00\",\"1943-06-01T00:00:00\",\"1943-07-01T00:00:00\",\"1943-08-01T00:00:00\",\"1943-09-01T00:00:00\",\"1943-10-01T00:00:00\",\"1943-11-01T00:00:00\",\"1943-12-01T00:00:00\",\"1944-01-01T00:00:00\",\"1944-02-01T00:00:00\",\"1944-03-01T00:00:00\",\"1944-04-01T00:00:00\",\"1944-05-01T00:00:00\",\"1944-06-01T00:00:00\",\"1944-07-01T00:00:00\",\"1944-08-01T00:00:00\",\"1944-09-01T00:00:00\",\"1944-10-01T00:00:00\",\"1944-11-01T00:00:00\",\"1944-12-01T00:00:00\",\"1945-01-01T00:00:00\",\"1945-02-01T00:00:00\",\"1945-03-01T00:00:00\",\"1945-04-01T00:00:00\",\"1945-05-01T00:00:00\",\"1945-06-01T00:00:00\",\"1945-07-01T00:00:00\",\"1945-08-01T00:00:00\",\"1945-09-01T00:00:00\",\"1945-10-01T00:00:00\",\"1945-11-01T00:00:00\",\"1945-12-01T00:00:00\",\"1946-01-01T00:00:00\",\"1946-02-01T00:00:00\",\"1946-03-01T00:00:00\"],\"xaxis\":\"x\",\"y\":[9666,9840,9928,10072,10256,10181,10177,10121,10079,9796,9707,9496,9272,9197,9163,9105,9045,8701,8621,8643,8580,6655,6565,6456,6341,6232,6138,6057,5939,5836,5668,5588,5522,5435,5298,5030,4658,4248,3994,3552,2891,1146,0,0,0,0],\"yaxis\":\"y\",\"type\":\"scatter\"},{\"hovertemplate\":\"Camp=Minidoka<br>Date=%{x}<br>Population=%{y}<extra></extra>\",\"legendgroup\":\"Minidoka\",\"line\":{\"color\":\"#B6E880\",\"dash\":\"solid\"},\"marker\":{\"symbol\":\"circle\"},\"mode\":\"lines\",\"name\":\"Minidoka\",\"orientation\":\"v\",\"showlegend\":true,\"x\":[\"1942-06-01T00:00:00\",\"1942-07-01T00:00:00\",\"1942-08-01T00:00:00\",\"1942-09-01T00:00:00\",\"1942-10-01T00:00:00\",\"1942-11-01T00:00:00\",\"1942-12-01T00:00:00\",\"1943-01-01T00:00:00\",\"1943-02-01T00:00:00\",\"1943-03-01T00:00:00\",\"1943-04-01T00:00:00\",\"1943-05-01T00:00:00\",\"1943-06-01T00:00:00\",\"1943-07-01T00:00:00\",\"1943-08-01T00:00:00\",\"1943-09-01T00:00:00\",\"1943-10-01T00:00:00\",\"1943-11-01T00:00:00\",\"1943-12-01T00:00:00\",\"1944-01-01T00:00:00\",\"1944-02-01T00:00:00\",\"1944-03-01T00:00:00\",\"1944-04-01T00:00:00\",\"1944-05-01T00:00:00\",\"1944-06-01T00:00:00\",\"1944-07-01T00:00:00\",\"1944-08-01T00:00:00\",\"1944-09-01T00:00:00\",\"1944-10-01T00:00:00\",\"1944-11-01T00:00:00\",\"1944-12-01T00:00:00\",\"1945-01-01T00:00:00\",\"1945-02-01T00:00:00\",\"1945-03-01T00:00:00\",\"1945-04-01T00:00:00\",\"1945-05-01T00:00:00\",\"1945-06-01T00:00:00\",\"1945-07-01T00:00:00\",\"1945-08-01T00:00:00\",\"1945-09-01T00:00:00\",\"1945-10-01T00:00:00\",\"1945-11-01T00:00:00\",\"1945-12-01T00:00:00\",\"1946-01-01T00:00:00\",\"1946-02-01T00:00:00\",\"1946-03-01T00:00:00\"],\"xaxis\":\"x\",\"y\":[0,0,0,4840,9200,9846,9849,9861,9814,9924,9772,9401,8989,8752,8556,8325,9530,9419,9492,9461,9374,9288,9027,8856,8514,8335,8160,8099,7972,7976,7867,7770,7574,7373,6851,6382,5615,4937,4330,3218,1482,0,0,0,0,0],\"yaxis\":\"y\",\"type\":\"scatter\"},{\"hovertemplate\":\"Camp=Rohwer<br>Date=%{x}<br>Population=%{y}<extra></extra>\",\"legendgroup\":\"Rohwer\",\"line\":{\"color\":\"#FF97FF\",\"dash\":\"solid\"},\"marker\":{\"symbol\":\"circle\"},\"mode\":\"lines\",\"name\":\"Rohwer\",\"orientation\":\"v\",\"showlegend\":true,\"x\":[\"1942-06-01T00:00:00\",\"1942-07-01T00:00:00\",\"1942-08-01T00:00:00\",\"1942-09-01T00:00:00\",\"1942-10-01T00:00:00\",\"1942-11-01T00:00:00\",\"1942-12-01T00:00:00\",\"1943-01-01T00:00:00\",\"1943-02-01T00:00:00\",\"1943-03-01T00:00:00\",\"1943-04-01T00:00:00\",\"1943-05-01T00:00:00\",\"1943-06-01T00:00:00\",\"1943-07-01T00:00:00\",\"1943-08-01T00:00:00\",\"1943-09-01T00:00:00\",\"1943-10-01T00:00:00\",\"1943-11-01T00:00:00\",\"1943-12-01T00:00:00\",\"1944-01-01T00:00:00\",\"1944-02-01T00:00:00\",\"1944-03-01T00:00:00\",\"1944-04-01T00:00:00\",\"1944-05-01T00:00:00\",\"1944-06-01T00:00:00\",\"1944-07-01T00:00:00\",\"1944-08-01T00:00:00\",\"1944-09-01T00:00:00\",\"1944-10-01T00:00:00\",\"1944-11-01T00:00:00\",\"1944-12-01T00:00:00\",\"1945-01-01T00:00:00\",\"1945-02-01T00:00:00\",\"1945-03-01T00:00:00\",\"1945-04-01T00:00:00\",\"1945-05-01T00:00:00\",\"1945-06-01T00:00:00\",\"1945-07-01T00:00:00\",\"1945-08-01T00:00:00\",\"1945-09-01T00:00:00\",\"1945-10-01T00:00:00\",\"1945-11-01T00:00:00\",\"1945-12-01T00:00:00\",\"1946-01-01T00:00:00\",\"1946-02-01T00:00:00\",\"1946-03-01T00:00:00\"],\"xaxis\":\"x\",\"y\":[0,0,0,0,2265,8407,8515,8548,8538,8528,8478,8286,8061,7895,7781,7552,7123,6731,6676,6676,6600,6514,6375,6248,5479,7623,7279,6900,6764,6700,6689,6747,6697,6563,6339,5991,5447,4910,4098,3332,2175,1804,0,0,0,0],\"yaxis\":\"y\",\"type\":\"scatter\"},{\"hovertemplate\":\"Camp=Tule Lake<br>Date=%{x}<br>Population=%{y}<extra></extra>\",\"legendgroup\":\"Tule Lake\",\"line\":{\"color\":\"#FECB52\",\"dash\":\"solid\"},\"marker\":{\"symbol\":\"circle\"},\"mode\":\"lines\",\"name\":\"Tule Lake\",\"orientation\":\"v\",\"showlegend\":true,\"x\":[\"1942-06-01T00:00:00\",\"1942-07-01T00:00:00\",\"1942-08-01T00:00:00\",\"1942-09-01T00:00:00\",\"1942-10-01T00:00:00\",\"1942-11-01T00:00:00\",\"1942-12-01T00:00:00\",\"1943-01-01T00:00:00\",\"1943-02-01T00:00:00\",\"1943-03-01T00:00:00\",\"1943-04-01T00:00:00\",\"1943-05-01T00:00:00\",\"1943-06-01T00:00:00\",\"1943-07-01T00:00:00\",\"1943-08-01T00:00:00\",\"1943-09-01T00:00:00\",\"1943-10-01T00:00:00\",\"1943-11-01T00:00:00\",\"1943-12-01T00:00:00\",\"1944-01-01T00:00:00\",\"1944-02-01T00:00:00\",\"1944-03-01T00:00:00\",\"1944-04-01T00:00:00\",\"1944-05-01T00:00:00\",\"1944-06-01T00:00:00\",\"1944-07-01T00:00:00\",\"1944-08-01T00:00:00\",\"1944-09-01T00:00:00\",\"1944-10-01T00:00:00\",\"1944-11-01T00:00:00\",\"1944-12-01T00:00:00\",\"1945-01-01T00:00:00\",\"1945-02-01T00:00:00\",\"1945-03-01T00:00:00\",\"1945-04-01T00:00:00\",\"1945-05-01T00:00:00\",\"1945-06-01T00:00:00\",\"1945-07-01T00:00:00\",\"1945-08-01T00:00:00\",\"1945-09-01T00:00:00\",\"1945-10-01T00:00:00\",\"1945-11-01T00:00:00\",\"1945-12-01T00:00:00\",\"1946-01-01T00:00:00\",\"1946-02-01T00:00:00\",\"1946-03-01T00:00:00\"],\"xaxis\":\"x\",\"y\":[446,9038,15020,15181,15277,15393,15311,15369,15274,15219,15124,15015,14828,14630,14484,14185,12183,16012,15671,15630,15625,17492,17580,16964,18652,18678,18709,18726,18728,18718,18770,18734,18593,17953,17864,17886,17879,17466,17366,17286,16740,15450,12628,7303,5046,2808],\"yaxis\":\"y\",\"type\":\"scatter\"}],                        {\"template\":{\"data\":{\"bar\":[{\"error_x\":{\"color\":\"#2a3f5f\"},\"error_y\":{\"color\":\"#2a3f5f\"},\"marker\":{\"line\":{\"color\":\"#E5ECF6\",\"width\":0.5},\"pattern\":{\"fillmode\":\"overlay\",\"size\":10,\"solidity\":0.2}},\"type\":\"bar\"}],\"barpolar\":[{\"marker\":{\"line\":{\"color\":\"#E5ECF6\",\"width\":0.5},\"pattern\":{\"fillmode\":\"overlay\",\"size\":10,\"solidity\":0.2}},\"type\":\"barpolar\"}],\"carpet\":[{\"aaxis\":{\"endlinecolor\":\"#2a3f5f\",\"gridcolor\":\"white\",\"linecolor\":\"white\",\"minorgridcolor\":\"white\",\"startlinecolor\":\"#2a3f5f\"},\"baxis\":{\"endlinecolor\":\"#2a3f5f\",\"gridcolor\":\"white\",\"linecolor\":\"white\",\"minorgridcolor\":\"white\",\"startlinecolor\":\"#2a3f5f\"},\"type\":\"carpet\"}],\"choropleth\":[{\"colorbar\":{\"outlinewidth\":0,\"ticks\":\"\"},\"type\":\"choropleth\"}],\"contour\":[{\"colorbar\":{\"outlinewidth\":0,\"ticks\":\"\"},\"colorscale\":[[0.0,\"#0d0887\"],[0.1111111111111111,\"#46039f\"],[0.2222222222222222,\"#7201a8\"],[0.3333333333333333,\"#9c179e\"],[0.4444444444444444,\"#bd3786\"],[0.5555555555555556,\"#d8576b\"],[0.6666666666666666,\"#ed7953\"],[0.7777777777777778,\"#fb9f3a\"],[0.8888888888888888,\"#fdca26\"],[1.0,\"#f0f921\"]],\"type\":\"contour\"}],\"contourcarpet\":[{\"colorbar\":{\"outlinewidth\":0,\"ticks\":\"\"},\"type\":\"contourcarpet\"}],\"heatmap\":[{\"colorbar\":{\"outlinewidth\":0,\"ticks\":\"\"},\"colorscale\":[[0.0,\"#0d0887\"],[0.1111111111111111,\"#46039f\"],[0.2222222222222222,\"#7201a8\"],[0.3333333333333333,\"#9c179e\"],[0.4444444444444444,\"#bd3786\"],[0.5555555555555556,\"#d8576b\"],[0.6666666666666666,\"#ed7953\"],[0.7777777777777778,\"#fb9f3a\"],[0.8888888888888888,\"#fdca26\"],[1.0,\"#f0f921\"]],\"type\":\"heatmap\"}],\"heatmapgl\":[{\"colorbar\":{\"outlinewidth\":0,\"ticks\":\"\"},\"colorscale\":[[0.0,\"#0d0887\"],[0.1111111111111111,\"#46039f\"],[0.2222222222222222,\"#7201a8\"],[0.3333333333333333,\"#9c179e\"],[0.4444444444444444,\"#bd3786\"],[0.5555555555555556,\"#d8576b\"],[0.6666666666666666,\"#ed7953\"],[0.7777777777777778,\"#fb9f3a\"],[0.8888888888888888,\"#fdca26\"],[1.0,\"#f0f921\"]],\"type\":\"heatmapgl\"}],\"histogram\":[{\"marker\":{\"pattern\":{\"fillmode\":\"overlay\",\"size\":10,\"solidity\":0.2}},\"type\":\"histogram\"}],\"histogram2d\":[{\"colorbar\":{\"outlinewidth\":0,\"ticks\":\"\"},\"colorscale\":[[0.0,\"#0d0887\"],[0.1111111111111111,\"#46039f\"],[0.2222222222222222,\"#7201a8\"],[0.3333333333333333,\"#9c179e\"],[0.4444444444444444,\"#bd3786\"],[0.5555555555555556,\"#d8576b\"],[0.6666666666666666,\"#ed7953\"],[0.7777777777777778,\"#fb9f3a\"],[0.8888888888888888,\"#fdca26\"],[1.0,\"#f0f921\"]],\"type\":\"histogram2d\"}],\"histogram2dcontour\":[{\"colorbar\":{\"outlinewidth\":0,\"ticks\":\"\"},\"colorscale\":[[0.0,\"#0d0887\"],[0.1111111111111111,\"#46039f\"],[0.2222222222222222,\"#7201a8\"],[0.3333333333333333,\"#9c179e\"],[0.4444444444444444,\"#bd3786\"],[0.5555555555555556,\"#d8576b\"],[0.6666666666666666,\"#ed7953\"],[0.7777777777777778,\"#fb9f3a\"],[0.8888888888888888,\"#fdca26\"],[1.0,\"#f0f921\"]],\"type\":\"histogram2dcontour\"}],\"mesh3d\":[{\"colorbar\":{\"outlinewidth\":0,\"ticks\":\"\"},\"type\":\"mesh3d\"}],\"parcoords\":[{\"line\":{\"colorbar\":{\"outlinewidth\":0,\"ticks\":\"\"}},\"type\":\"parcoords\"}],\"pie\":[{\"automargin\":true,\"type\":\"pie\"}],\"scatter\":[{\"marker\":{\"colorbar\":{\"outlinewidth\":0,\"ticks\":\"\"}},\"type\":\"scatter\"}],\"scatter3d\":[{\"line\":{\"colorbar\":{\"outlinewidth\":0,\"ticks\":\"\"}},\"marker\":{\"colorbar\":{\"outlinewidth\":0,\"ticks\":\"\"}},\"type\":\"scatter3d\"}],\"scattercarpet\":[{\"marker\":{\"colorbar\":{\"outlinewidth\":0,\"ticks\":\"\"}},\"type\":\"scattercarpet\"}],\"scattergeo\":[{\"marker\":{\"colorbar\":{\"outlinewidth\":0,\"ticks\":\"\"}},\"type\":\"scattergeo\"}],\"scattergl\":[{\"marker\":{\"colorbar\":{\"outlinewidth\":0,\"ticks\":\"\"}},\"type\":\"scattergl\"}],\"scattermapbox\":[{\"marker\":{\"colorbar\":{\"outlinewidth\":0,\"ticks\":\"\"}},\"type\":\"scattermapbox\"}],\"scatterpolar\":[{\"marker\":{\"colorbar\":{\"outlinewidth\":0,\"ticks\":\"\"}},\"type\":\"scatterpolar\"}],\"scatterpolargl\":[{\"marker\":{\"colorbar\":{\"outlinewidth\":0,\"ticks\":\"\"}},\"type\":\"scatterpolargl\"}],\"scatterternary\":[{\"marker\":{\"colorbar\":{\"outlinewidth\":0,\"ticks\":\"\"}},\"type\":\"scatterternary\"}],\"surface\":[{\"colorbar\":{\"outlinewidth\":0,\"ticks\":\"\"},\"colorscale\":[[0.0,\"#0d0887\"],[0.1111111111111111,\"#46039f\"],[0.2222222222222222,\"#7201a8\"],[0.3333333333333333,\"#9c179e\"],[0.4444444444444444,\"#bd3786\"],[0.5555555555555556,\"#d8576b\"],[0.6666666666666666,\"#ed7953\"],[0.7777777777777778,\"#fb9f3a\"],[0.8888888888888888,\"#fdca26\"],[1.0,\"#f0f921\"]],\"type\":\"surface\"}],\"table\":[{\"cells\":{\"fill\":{\"color\":\"#EBF0F8\"},\"line\":{\"color\":\"white\"}},\"header\":{\"fill\":{\"color\":\"#C8D4E3\"},\"line\":{\"color\":\"white\"}},\"type\":\"table\"}]},\"layout\":{\"annotationdefaults\":{\"arrowcolor\":\"#2a3f5f\",\"arrowhead\":0,\"arrowwidth\":1},\"autotypenumbers\":\"strict\",\"coloraxis\":{\"colorbar\":{\"outlinewidth\":0,\"ticks\":\"\"}},\"colorscale\":{\"diverging\":[[0,\"#8e0152\"],[0.1,\"#c51b7d\"],[0.2,\"#de77ae\"],[0.3,\"#f1b6da\"],[0.4,\"#fde0ef\"],[0.5,\"#f7f7f7\"],[0.6,\"#e6f5d0\"],[0.7,\"#b8e186\"],[0.8,\"#7fbc41\"],[0.9,\"#4d9221\"],[1,\"#276419\"]],\"sequential\":[[0.0,\"#0d0887\"],[0.1111111111111111,\"#46039f\"],[0.2222222222222222,\"#7201a8\"],[0.3333333333333333,\"#9c179e\"],[0.4444444444444444,\"#bd3786\"],[0.5555555555555556,\"#d8576b\"],[0.6666666666666666,\"#ed7953\"],[0.7777777777777778,\"#fb9f3a\"],[0.8888888888888888,\"#fdca26\"],[1.0,\"#f0f921\"]],\"sequentialminus\":[[0.0,\"#0d0887\"],[0.1111111111111111,\"#46039f\"],[0.2222222222222222,\"#7201a8\"],[0.3333333333333333,\"#9c179e\"],[0.4444444444444444,\"#bd3786\"],[0.5555555555555556,\"#d8576b\"],[0.6666666666666666,\"#ed7953\"],[0.7777777777777778,\"#fb9f3a\"],[0.8888888888888888,\"#fdca26\"],[1.0,\"#f0f921\"]]},\"colorway\":[\"#636efa\",\"#EF553B\",\"#00cc96\",\"#ab63fa\",\"#FFA15A\",\"#19d3f3\",\"#FF6692\",\"#B6E880\",\"#FF97FF\",\"#FECB52\"],\"font\":{\"color\":\"#2a3f5f\"},\"geo\":{\"bgcolor\":\"white\",\"lakecolor\":\"white\",\"landcolor\":\"#E5ECF6\",\"showlakes\":true,\"showland\":true,\"subunitcolor\":\"white\"},\"hoverlabel\":{\"align\":\"left\"},\"hovermode\":\"closest\",\"mapbox\":{\"style\":\"light\"},\"paper_bgcolor\":\"white\",\"plot_bgcolor\":\"#E5ECF6\",\"polar\":{\"angularaxis\":{\"gridcolor\":\"white\",\"linecolor\":\"white\",\"ticks\":\"\"},\"bgcolor\":\"#E5ECF6\",\"radialaxis\":{\"gridcolor\":\"white\",\"linecolor\":\"white\",\"ticks\":\"\"}},\"scene\":{\"xaxis\":{\"backgroundcolor\":\"#E5ECF6\",\"gridcolor\":\"white\",\"gridwidth\":2,\"linecolor\":\"white\",\"showbackground\":true,\"ticks\":\"\",\"zerolinecolor\":\"white\"},\"yaxis\":{\"backgroundcolor\":\"#E5ECF6\",\"gridcolor\":\"white\",\"gridwidth\":2,\"linecolor\":\"white\",\"showbackground\":true,\"ticks\":\"\",\"zerolinecolor\":\"white\"},\"zaxis\":{\"backgroundcolor\":\"#E5ECF6\",\"gridcolor\":\"white\",\"gridwidth\":2,\"linecolor\":\"white\",\"showbackground\":true,\"ticks\":\"\",\"zerolinecolor\":\"white\"}},\"shapedefaults\":{\"line\":{\"color\":\"#2a3f5f\"}},\"ternary\":{\"aaxis\":{\"gridcolor\":\"white\",\"linecolor\":\"white\",\"ticks\":\"\"},\"baxis\":{\"gridcolor\":\"white\",\"linecolor\":\"white\",\"ticks\":\"\"},\"bgcolor\":\"#E5ECF6\",\"caxis\":{\"gridcolor\":\"white\",\"linecolor\":\"white\",\"ticks\":\"\"}},\"title\":{\"x\":0.05},\"xaxis\":{\"automargin\":true,\"gridcolor\":\"white\",\"linecolor\":\"white\",\"ticks\":\"\",\"title\":{\"standoff\":15},\"zerolinecolor\":\"white\",\"zerolinewidth\":2},\"yaxis\":{\"automargin\":true,\"gridcolor\":\"white\",\"linecolor\":\"white\",\"ticks\":\"\",\"title\":{\"standoff\":15},\"zerolinecolor\":\"white\",\"zerolinewidth\":2}}},\"xaxis\":{\"anchor\":\"y\",\"domain\":[0.0,1.0],\"title\":{\"text\":\"Date\"}},\"yaxis\":{\"anchor\":\"x\",\"domain\":[0.0,1.0],\"title\":{\"text\":\"Population\"}},\"legend\":{\"title\":{\"text\":\"Camp\"},\"tracegroupgap\":0},\"title\":{\"text\":\"Camp Populations by Month\"}},                        {\"responsive\": true}                    ).then(function(){\n",
       "                            \n",
       "var gd = document.getElementById('73110d03-2648-4307-bcca-b763823106fe');\n",
       "var x = new MutationObserver(function (mutations, observer) {{\n",
       "        var display = window.getComputedStyle(gd).display;\n",
       "        if (!display || display === 'none') {{\n",
       "            console.log([gd, 'removed!']);\n",
       "            Plotly.purge(gd);\n",
       "            observer.disconnect();\n",
       "        }}\n",
       "}});\n",
       "\n",
       "// Listen for the removal of the full notebook cells\n",
       "var notebookContainer = gd.closest('#notebook-container');\n",
       "if (notebookContainer) {{\n",
       "    x.observe(notebookContainer, {childList: true});\n",
       "}}\n",
       "\n",
       "// Listen for the clearing of the current output cell\n",
       "var outputEl = gd.closest('.output');\n",
       "if (outputEl) {{\n",
       "    x.observe(outputEl, {childList: true});\n",
       "}}\n",
       "\n",
       "                        })                };                });            </script>        </div>"
      ]
     },
     "metadata": {},
     "output_type": "display_data"
    }
   ],
   "source": [
    "pop_by_month2 = pop_by_month.drop(\"Total\", axis = 1)\n",
    "melted = pd.melt(pop_by_month2, id_vars = [\"Date\"], value_vars = pop_by_month2.columns[1:], var_name = 'Camp', value_name = \"Population\")\n",
    "fig = px.line(melted, x = 'Date', y = 'Population', color = 'Camp', title = 'Camp Populations by Month')\n",
    "fig.show();"
   ]
  },
  {
   "cell_type": "markdown",
   "metadata": {
    "#student": false
   },
   "source": [
    "<!-- BEGIN QUESTION -->\n",
    "\n",
    "<div class=\"alert alert-block alert-info\">\n",
    "<b>Question 3d:</b>  What is happening to the camp populations in the line plot above? Do any camps stand out to you? What do you notice about the increases in population?\n",
    "</div>\n",
    "\n",
    "<!--\n",
    "BEGIN QUESTION\n",
    "name: q3d\n",
    "points: 1\n",
    "manual: true\n",
    "-->"
   ]
  },
  {
   "cell_type": "markdown",
   "metadata": {},
   "source": [
    "**Answer:** YOUR ANSWER HERE"
   ]
  },
  {
   "cell_type": "markdown",
   "metadata": {},
   "source": [
    "<!-- END QUESTION -->\n",
    "\n",
    "The camp with the steadily increasing population after 1943 is Tule Lake, the largest detainment camp. On July 15, 1943, Tule Lake was designated as the segregation center because of its capacity and the number of individuals who were deemed \"disloyal\" by the WRA (the loyalty of detainees was conflated with their dissatisfaction with their treatment). Martial law was declared on November 14 at Tule Lake and it became a maximum-security, militarized center, with a curfew in place and almost all daily activities were brought to an end. \n",
    "\n",
    "As the segregation center, Tule Lake transferred \"loyal\" inmates to other WRA camps in exchange for \"disloyal\" inmates from other camps, though not all \"loyals\" wanted to leave. Overcrowding was a serious issue at Tule Lake: additional barracks were constructed for the 1,800 incoming inmates from Manzanar in early spring 1944, and even more arrived from other camps later that spring. Midway through 1944, the WRA stopped transferring incarcerated Japanese-Americans to Tule Lake. (Can you see these changes reflected in the plot above?)\n",
    "\n",
    "Now we'll shift our focus from detention camp populations to the percentages of incarcerated Japanese-Americans that returned to their original county. We can use a histogram to visualize the distribution of the percentages reported."
   ]
  },
  {
   "cell_type": "code",
   "execution_count": 20,
   "metadata": {
    "execution": {
     "iopub.execute_input": "2022-10-25T20:54:49.465580Z",
     "iopub.status.busy": "2022-10-25T20:54:49.465203Z",
     "iopub.status.idle": "2022-10-25T20:54:50.753904Z",
     "shell.execute_reply": "2022-10-25T20:54:50.753083Z",
     "shell.execute_reply.started": "2022-10-25T20:54:49.465553Z"
    },
    "tags": []
   },
   "outputs": [
    {
     "data": {
      "application/vnd.plotly.v1+json": {
       "config": {
        "plotlyServerURL": "https://plot.ly"
       },
       "data": [
        {
         "histnorm": "probability density",
         "legendgroup": "Percent Returned",
         "marker": {
          "color": "rgb(31, 119, 180)"
         },
         "name": "Percent Returned",
         "opacity": 0.7,
         "type": "histogram",
         "x": [
          52.3,
          0,
          49.5,
          0,
          31,
          75,
          0,
          94.9,
          0,
          0,
          9,
          0,
          24.7,
          41.1,
          0,
          46.6,
          97.4,
          21.3,
          0,
          60.4,
          0,
          27.4,
          0,
          0,
          30.8,
          64.6,
          0,
          71.9,
          63.6,
          22.4,
          54.3,
          45,
          62.1,
          63.7,
          16.6,
          54.3,
          38.1,
          84.4,
          33.4,
          0,
          0,
          19.6,
          52.1,
          53.7,
          21.5,
          0,
          43.5,
          0,
          27.5,
          19.6,
          64.3,
          34.4,
          0,
          0,
          0,
          40.3,
          0,
          0,
          0,
          0,
          0,
          0,
          0,
          13.5,
          43.1,
          0,
          0,
          0,
          7.3,
          0,
          0,
          0,
          0,
          20,
          0,
          0,
          34.6,
          21.7,
          0,
          30.6,
          0,
          0,
          0,
          0,
          14.2,
          0,
          0,
          0,
          0,
          0,
          0,
          13.3
         ],
         "xaxis": "x",
         "xbins": {
          "end": 97.4,
          "size": 15,
          "start": 0
         },
         "yaxis": "y"
        },
        {
         "legendgroup": "Percent Returned",
         "marker": {
          "color": "rgb(31, 119, 180)"
         },
         "mode": "lines",
         "name": "Percent Returned",
         "showlegend": false,
         "type": "scatter",
         "x": [
          0,
          0.1948,
          0.3896,
          0.5844000000000001,
          0.7792,
          0.974,
          1.1688000000000003,
          1.3636000000000001,
          1.5584,
          1.7532,
          1.948,
          2.1428000000000003,
          2.3376000000000006,
          2.5324,
          2.7272000000000003,
          2.922,
          3.1168,
          3.3116000000000003,
          3.5064,
          3.7012000000000005,
          3.896,
          4.0908,
          4.2856000000000005,
          4.4804,
          4.675200000000001,
          4.87,
          5.0648,
          5.259600000000001,
          5.454400000000001,
          5.6492,
          5.844,
          6.0388,
          6.2336,
          6.428400000000001,
          6.623200000000001,
          6.818,
          7.0128,
          7.2076,
          7.402400000000001,
          7.597200000000001,
          7.792,
          7.986800000000001,
          8.1816,
          8.3764,
          8.571200000000001,
          8.766,
          8.9608,
          9.1556,
          9.350400000000002,
          9.545200000000001,
          9.74,
          9.934800000000001,
          10.1296,
          10.3244,
          10.519200000000001,
          10.714,
          10.908800000000001,
          11.1036,
          11.2984,
          11.4932,
          11.688,
          11.882800000000001,
          12.0776,
          12.272400000000001,
          12.4672,
          12.662,
          12.856800000000002,
          13.0516,
          13.246400000000001,
          13.4412,
          13.636,
          13.830800000000002,
          14.0256,
          14.220400000000001,
          14.4152,
          14.61,
          14.804800000000002,
          14.999600000000001,
          15.194400000000002,
          15.3892,
          15.584,
          15.7788,
          15.973600000000001,
          16.168400000000002,
          16.3632,
          16.558,
          16.7528,
          16.9476,
          17.142400000000002,
          17.3372,
          17.532,
          17.7268,
          17.9216,
          18.116400000000002,
          18.3112,
          18.506,
          18.700800000000005,
          18.8956,
          19.090400000000002,
          19.2852,
          19.48,
          19.6748,
          19.869600000000002,
          20.064400000000003,
          20.2592,
          20.454,
          20.6488,
          20.843600000000002,
          21.038400000000003,
          21.2332,
          21.428,
          21.6228,
          21.817600000000002,
          22.012400000000003,
          22.2072,
          22.402,
          22.5968,
          22.791600000000003,
          22.9864,
          23.1812,
          23.376,
          23.570800000000002,
          23.765600000000003,
          23.9604,
          24.1552,
          24.35,
          24.544800000000002,
          24.739600000000003,
          24.9344,
          25.1292,
          25.324,
          25.518800000000002,
          25.713600000000003,
          25.9084,
          26.1032,
          26.298,
          26.492800000000003,
          26.687600000000003,
          26.8824,
          27.0772,
          27.272,
          27.466800000000003,
          27.661600000000004,
          27.8564,
          28.0512,
          28.246,
          28.440800000000003,
          28.635600000000004,
          28.8304,
          29.0252,
          29.22,
          29.414800000000003,
          29.609600000000004,
          29.8044,
          29.999200000000002,
          30.194,
          30.388800000000003,
          30.5836,
          30.7784,
          30.973200000000002,
          31.168,
          31.362800000000004,
          31.5576,
          31.7524,
          31.947200000000002,
          32.142,
          32.336800000000004,
          32.531600000000005,
          32.7264,
          32.921200000000006,
          33.116,
          33.3108,
          33.5056,
          33.7004,
          33.8952,
          34.09,
          34.284800000000004,
          34.4796,
          34.6744,
          34.869200000000006,
          35.064,
          35.2588,
          35.4536,
          35.6484,
          35.8432,
          36.038,
          36.232800000000005,
          36.4276,
          36.6224,
          36.81720000000001,
          37.012,
          37.2068,
          37.40160000000001,
          37.5964,
          37.7912,
          37.986,
          38.180800000000005,
          38.375600000000006,
          38.5704,
          38.76520000000001,
          38.96,
          39.1548,
          39.3496,
          39.5444,
          39.739200000000004,
          39.934,
          40.128800000000005,
          40.323600000000006,
          40.5184,
          40.71320000000001,
          40.908,
          41.1028,
          41.2976,
          41.4924,
          41.687200000000004,
          41.882,
          42.076800000000006,
          42.27160000000001,
          42.4664,
          42.6612,
          42.856,
          43.0508,
          43.2456,
          43.440400000000004,
          43.635200000000005,
          43.83,
          44.024800000000006,
          44.21960000000001,
          44.4144,
          44.6092,
          44.804,
          44.9988,
          45.1936,
          45.388400000000004,
          45.583200000000005,
          45.778,
          45.9728,
          46.16760000000001,
          46.3624,
          46.5572,
          46.752,
          46.9468,
          47.141600000000004,
          47.336400000000005,
          47.531200000000005,
          47.726,
          47.9208,
          48.11560000000001,
          48.3104,
          48.5052,
          48.7,
          48.894800000000004,
          49.089600000000004,
          49.2844,
          49.479200000000006,
          49.674,
          49.8688,
          50.06360000000001,
          50.2584,
          50.4532,
          50.648,
          50.842800000000004,
          51.037600000000005,
          51.2324,
          51.427200000000006,
          51.622,
          51.8168,
          52.01160000000001,
          52.2064,
          52.4012,
          52.596,
          52.790800000000004,
          52.985600000000005,
          53.1804,
          53.37520000000001,
          53.57,
          53.7648,
          53.95960000000001,
          54.1544,
          54.3492,
          54.544,
          54.738800000000005,
          54.933600000000006,
          55.1284,
          55.32320000000001,
          55.518,
          55.7128,
          55.90760000000001,
          56.1024,
          56.297200000000004,
          56.492,
          56.686800000000005,
          56.881600000000006,
          57.0764,
          57.27120000000001,
          57.466,
          57.6608,
          57.8556,
          58.0504,
          58.245200000000004,
          58.44,
          58.634800000000006,
          58.829600000000006,
          59.0244,
          59.21920000000001,
          59.414,
          59.6088,
          59.8036,
          59.998400000000004,
          60.193200000000004,
          60.388,
          60.582800000000006,
          60.77760000000001,
          60.9724,
          61.1672,
          61.362,
          61.5568,
          61.7516,
          61.946400000000004,
          62.141200000000005,
          62.336,
          62.530800000000006,
          62.72560000000001,
          62.9204,
          63.1152,
          63.31000000000001,
          63.5048,
          63.699600000000004,
          63.894400000000005,
          64.0892,
          64.284,
          64.4788,
          64.67360000000001,
          64.86840000000001,
          65.06320000000001,
          65.25800000000001,
          65.4528,
          65.64760000000001,
          65.84240000000001,
          66.0372,
          66.232,
          66.4268,
          66.6216,
          66.81640000000002,
          67.0112,
          67.206,
          67.4008,
          67.5956,
          67.7904,
          67.98519999999999,
          68.18,
          68.37480000000001,
          68.56960000000001,
          68.76440000000001,
          68.9592,
          69.154,
          69.3488,
          69.54360000000001,
          69.73840000000001,
          69.9332,
          70.128,
          70.3228,
          70.5176,
          70.7124,
          70.9072,
          71.102,
          71.2968,
          71.4916,
          71.6864,
          71.88119999999999,
          72.076,
          72.27080000000001,
          72.46560000000001,
          72.66040000000001,
          72.8552,
          73.05,
          73.2448,
          73.43960000000001,
          73.63440000000001,
          73.8292,
          74.024,
          74.2188,
          74.4136,
          74.6084,
          74.80320000000002,
          74.998,
          75.1928,
          75.3876,
          75.5824,
          75.77720000000001,
          75.972,
          76.16680000000001,
          76.36160000000001,
          76.55640000000001,
          76.75120000000001,
          76.946,
          77.1408,
          77.3356,
          77.53040000000001,
          77.72520000000002,
          77.92,
          78.1148,
          78.3096,
          78.5044,
          78.6992,
          78.894,
          79.0888,
          79.2836,
          79.47840000000001,
          79.67320000000001,
          79.868,
          80.06280000000001,
          80.25760000000001,
          80.45240000000001,
          80.64720000000001,
          80.842,
          81.0368,
          81.2316,
          81.42640000000002,
          81.62120000000002,
          81.816,
          82.0108,
          82.2056,
          82.4004,
          82.5952,
          82.79,
          82.9848,
          83.17960000000001,
          83.37440000000001,
          83.56920000000001,
          83.764,
          83.9588,
          84.15360000000001,
          84.34840000000001,
          84.54320000000001,
          84.738,
          84.9328,
          85.1276,
          85.3224,
          85.51720000000002,
          85.712,
          85.9068,
          86.1016,
          86.2964,
          86.4912,
          86.686,
          86.88080000000001,
          87.07560000000001,
          87.27040000000001,
          87.46520000000001,
          87.66,
          87.8548,
          88.04960000000001,
          88.24440000000001,
          88.43920000000001,
          88.634,
          88.8288,
          89.0236,
          89.2184,
          89.41320000000002,
          89.608,
          89.8028,
          89.9976,
          90.1924,
          90.3872,
          90.582,
          90.77680000000001,
          90.97160000000001,
          91.16640000000001,
          91.36120000000001,
          91.556,
          91.7508,
          91.9456,
          92.14040000000001,
          92.33520000000001,
          92.53,
          92.7248,
          92.9196,
          93.1144,
          93.30920000000002,
          93.504,
          93.6988,
          93.8936,
          94.08840000000001,
          94.28320000000001,
          94.478,
          94.67280000000001,
          94.86760000000001,
          95.06240000000001,
          95.25720000000001,
          95.452,
          95.6468,
          95.8416,
          96.03640000000001,
          96.23120000000002,
          96.426,
          96.6208,
          96.8156,
          97.0104,
          97.2052
         ],
         "xaxis": "x",
         "y": [
          0.020563487431396306,
          0.020604254095532668,
          0.020639343883902248,
          0.020668762457353086,
          0.020692521389702203,
          0.02071063813646723,
          0.020723135993369547,
          0.02073004404471033,
          0.020731397101744868,
          0.02072723563120456,
          0.020717605674140223,
          0.02070255875528213,
          0.020682151783135733,
          0.020656446941053442,
          0.02062551156954371,
          0.02058941804009908,
          0.02054824362084483,
          0.02050207033432731,
          0.02045098480777978,
          0.02039507811621949,
          0.020334445618745492,
          0.020269186788421403,
          0.020199405036139723,
          0.020125207528878464,
          0.02004670500276884,
          0.019964011571405878,
          0.01987724452983959,
          0.019786524154693112,
          0.019691973500859373,
          0.019593718195233756,
          0.019491886227941672,
          0.019386607741523988,
          0.019278014818543052,
          0.019166241268071472,
          0.019051422411525007,
          0.01893369486829699,
          0.018813196341647864,
          0.01869006540529823,
          0.01856444129116694,
          0.018436463678688238,
          0.0183062724861327,
          0.018174007664347624,
          0.018039808993320947,
          0.017903815881960758,
          0.017766167171470674,
          0.017627000942685985,
          0.017486454327722754,
          0.017344663326275194,
          0.017201762626881726,
          0.017057885433462604,
          0.01691316329741533,
          0.016767725955536075,
          0.01662170117401664,
          0.016475214598748646,
          0.016328389612146405,
          0.016181347196681944,
          0.01603420580530465,
          0.015887081238899894,
          0.01574008653091938,
          0.015593331839298055,
          0.01544692434575047,
          0.015300968162522176,
          0.015155564246649876,
          0.015010810321765941,
          0.014866800807464043,
          0.01472362675622249,
          0.014581375797865165,
          0.014440132091520484,
          0.014299976285021627,
          0.014160985481675417,
          0.014023233214308596,
          0.013886789426486133,
          0.01375172046078007,
          0.013618089053953002,
          0.013485954338906208,
          0.013355371853229532,
          0.013226393554177093,
          0.013099067839881661,
          0.012973439576609784,
          0.012849550131848454,
          0.012727437413006476,
          0.012607135911503687,
          0.012488676752014245,
          0.012372087746623336,
          0.012257393453650473,
          0.012144615240887151,
          0.012033771352992662,
          0.011924876982788362,
          0.011817944346187027,
          0.011712982760493673,
          0.011609998725811161,
          0.01150899600928478,
          0.011409975731920064,
          0.011312936457708677,
          0.011217874284799865,
          0.011124782938456207,
          0.0110336538655367,
          0.010944476330253352,
          0.010857237510951174,
          0.01077192259766797,
          0.010688514890233676,
          0.010606995896676531,
          0.010527345431709082,
          0.010449541715073438,
          0.010373561469533442,
          0.01029938001830765,
          0.010226971381746282,
          0.010156308373062363,
          0.01008736269293641,
          0.010020105022822561,
          0.00995450511679259,
          0.009890531891763902,
          0.00982815351596628,
          0.009767337495511499,
          0.009708050758939692,
          0.009650259739624802,
          0.009593930455932176,
          0.009539028589029193,
          0.009485519558260441,
          0.009433368594007183,
          0.009382540807960908,
          0.00933300126074859,
          0.009284715026857472,
          0.009237647256814679,
          0.009191763236586156,
          0.009147028444167614,
          0.009103408603347605,
          0.009060869734631827,
          0.009019378203323913,
          0.008978900764766415,
          0.008939404606751855,
          0.008900857389120876,
          0.00886322728057083,
          0.008826482992703796,
          0.008790593811349674,
          0.008755529625204421,
          0.008721260951829238,
          0.008687758961061342,
          0.008654995495890811,
          0.008622943090862928,
          0.008591574988068404,
          0.008560865150788141,
          0.008530788274861643,
          0.008501319797851547,
          0.008472435906078641,
          0.008444113539604647,
          0.008416330395241537,
          0.008389064927667507,
          0.00836229634873157,
          0.008336004625029522,
          0.00831017047383451,
          0.008284775357466532,
          0.008259801476184759,
          0.00823523175968719,
          0.008211049857301332,
          0.008187240126949599,
          0.008163787622972448,
          0.008140678082890927,
          0.008117897913189738,
          0.008095434174200921,
          0.008073274564165804,
          0.008051407402552727,
          0.008029821612705424,
          0.008008506703895385,
          0.007987452752849804,
          0.007966650384824367,
          0.007946090754288423,
          0.007925765525287457,
          0.007905666851545758,
          0.007885787356369868,
          0.007866120112410942,
          0.007846658621341505,
          0.007827396793500075,
          0.007808328927554344,
          0.0077894496902308746,
          0.007770754096157645,
          0.007752237487861758,
          0.007733895515963865,
          0.007715724119606905,
          0.007697719507155283,
          0.007679878137197379,
          0.0076621966998825525,
          0.007644672098621049,
          0.007627301432173012,
          0.00761008197715017,
          0.0075930111709522985,
          0.007576086595157721,
          0.007559305959385005,
          0.007542667085641476,
          0.007526167893171781,
          0.007509806383817648,
          0.00749358062789881,
          0.007477488750622517,
          0.007461528919027933,
          0.007445699329469658,
          0.007429998195643525,
          0.007414423737155932,
          0.007398974168636754,
          0.007383647689394478,
          0.007368442473611341,
          0.0073533566610742415,
          0.007338388348437099,
          0.007323535581008795,
          0.0073087963450594205,
          0.007294168560638118,
          0.007279650074893263,
          0.007265238655886353,
          0.007250931986889746,
          0.007236727661157516,
          0.00722262317715914,
          0.007208615934264168,
          0.00719470322886631,
          0.007180882250934796,
          0.007167150080980986,
          0.007153503687426944,
          0.007139939924364116,
          0.0071264555296884705,
          0.007113047123599788,
          0.007099711207451713,
          0.007086444162939925,
          0.007073242251615686,
          0.00706010161471143,
          0.007047018273266768,
          0.007033988128541525,
          0.0070210069627044186,
          0.007008070439784756,
          0.006995174106875998,
          0.006982313395579679,
          0.006969483623678159,
          0.006956679997026276,
          0.0069438976116509565,
          0.006931131456048755,
          0.006918376413672195,
          0.006905627265595306,
          0.006892878693349386,
          0.006880125281921236,
          0.00686736152290519,
          0.006854581817801702,
          0.0068417804814555165,
          0.006828951745626214,
          0.006816089762685198,
          0.0068031886094330534,
          0.006790242291031873,
          0.006777244745047277,
          0.006764189845595436,
          0.006751071407590777,
          0.006737883191090208,
          0.00672461890573041,
          0.006711272215254495,
          0.006697836742125158,
          0.006684306072221435,
          0.006670673759616761,
          0.006656933331435427,
          0.006643078292786171,
          0.0066291021317702635,
          0.006614998324562828,
          0.00660076034056536,
          0.0065863816476286014,
          0.006571855717343528,
          0.006557176030399943,
          0.0065423360820108375,
          0.006527329387401151,
          0.006512149487360383,
          0.0064967899538564775,
          0.006481244395710743,
          0.006465506464331443,
          0.006449569859504751,
          0.00643342833524141,
          0.006417075705676471,
          0.006400505851020872,
          0.006383712723561707,
          0.006366690353708778,
          0.006349432856084749,
          0.0063319344356553885,
          0.0063141893938968826,
          0.0062961921349957845,
          0.006277937172078239,
          0.00625941913346353,
          0.006240632768937334,
          0.006221572956039596,
          0.006202234706361449,
          0.006182613171845216,
          0.006162703651081492,
          0.006142501595596316,
          0.006122002616121941,
          0.006101202488843057,
          0.006080097161611775,
          0.006058682760122105,
          0.006036955594036586,
          0.0060149121630552705,
          0.005992549162918926,
          0.005969863491336041,
          0.005946852253824716,
          0.005923512769459176,
          0.005899842576510247,
          0.005875839437970036,
          0.005851501346949712,
          0.005826826531939284,
          0.005801813461919006,
          0.0057764608513107595,
          0.005750767664758249,
          0.005724733121724959,
          0.005698356700898239,
          0.00567163814438843,
          0.00564457746171171,
          0.0056171749335453105,
          0.005589431115244451,
          0.005561346840109402,
          0.005532923222392649,
          0.005504161660035167,
          0.005475063837121666,
          0.005445631726045176,
          0.005415867589370792,
          0.005385773981389866,
          0.005355353749355678,
          0.005324610034391994,
          0.005293546272067005,
          0.005262166192624947,
          0.005230473820868581,
          0.0051984734756867525,
          0.005166169769220494,
          0.005133567605663632,
          0.005100672179692734,
          0.005067488974523172,
          0.005034023759588175,
          0.005000282587838503,
          0.004966271792661546,
          0.004931997984418646,
          0.004897468046600911,
          0.0048626891316043514,
          0.004827668656125596,
          0.0047924142961808846,
          0.0047569339817512615,
          0.0047212358910579165,
          0.004685328444472569,
          0.0046492202980681525,
          0.0046129203368164215,
          0.004576437667439096,
          0.004539781610920864,
          0.004502961694692437,
          0.004465987644493144,
          0.0044288693759229345,
          0.0043916169856944775,
          0.004354240742596937,
          0.004316751078182955,
          0.0042791585771917275,
          0.004241473967721502,
          0.004203708111164464,
          0.0041658719919193,
          0.004127976706894953,
          0.00409003345482182,
          0.004052053525385025,
          0.004014048288196073,
          0.003976029181619361,
          0.003938007701469399,
          0.003899995389596109,
          0.003862003822374827,
          0.0038240445991183617,
          0.0037861293304281684,
          0.003748269626502089,
          0.0037104770854160343,
          0.0036727632813970566,
          0.0036351397531048982,
          0.00359761799193973,
          0.0035602094303927353,
          0.0035229254304569835,
          0.0034857772721150447,
          0.003448776141920194,
          0.0034119331216874117,
          0.003375259177310073,
          0.003338765147718387,
          0.0033024617339945713,
          0.0032663594886599362,
          0.0032304688051483393,
          0.0031947999074801755,
          0.003159362840150616,
          0.0031241674582451247,
          0.0030892234177951456,
          0.0030545401663859446,
          0.0030201269340284147,
          0.002985992724305763,
          0.0029521463058059115,
          0.002918596203849187,
          0.0028853506925211234,
          0.002852417787018951,
          0.0028198052363200797,
          0.0027875205161802764,
          0.002755570822468715,
          0.002723963064846097,
          0.0026927038607921414,
          0.0026617995299875385,
          0.0026312560890552877,
          0.0026010792466654893,
          0.0025712743990074166,
          0.0025418466256319425,
          0.00251280068566679,
          0.002484141014406862,
          0.0024558717202810493,
          0.0024279965821966884,
          0.002400519047262199,
          0.002373442228888013,
          0.002346768905265419,
          0.002320501518222668,
          0.0022946421724569753,
          0.0022691926351409595,
          0.0022441543359014125,
          0.0022195283671680353,
          0.002195315484889487,
          0.0021715161096135514,
          0.0021481303279280817,
          0.0021251578942589554,
          0.0021025982330209565,
          0.002080450441117407,
          0.002058713290783708,
          0.002037385232770108,
          0.002016464399858518,
          0.0019959486107078623,
          0.001975835374022543,
          0.0019561218930380995,
          0.0019368050703178748,
          0.0019178815128546498,
          0.0018993475374705128,
          0.0018811991765085125,
          0.001863432183808974,
          0.0018460420409636667,
          0.0018290239638402862,
          0.0018123729093700144,
          0.001796083582590428,
          0.0017801504439359476,
          0.00176456771676778,
          0.0017493293951352806,
          0.001734429251760247,
          0.0017198608462356219,
          0.0017056175334299484,
          0.001691692472088464,
          0.0016780786336219493,
          0.0016647688110738115,
          0.0016517556282560786,
          0.0016390315490444629,
          0.0016265888868227715,
          0.0016144198140664234,
          0.0016025163720549457,
          0.0015908704807029077,
          0.00157947394849865,
          0.0015683184825399335,
          0.001557395698655545,
          0.0015466971316015405,
          0.0015362142453207717,
          0.0015259384432540577,
          0.0015158610786912457,
          0.0015059734651502986,
          0.0014962668867721074,
          0.0014867326087190612,
          0.001477361887564673,
          0.0014681459816619743,
          0.0014590761614778779,
          0.0014501437198808365,
          0.0014413399823688345,
          0.001432656317224906,
          0.001424084145587089,
          0.00141561495141981,
          0.0014072402913736226,
          0.0013989518045202211,
          0.0013907412219497208,
          0.0013826003762170665,
          0.0013745212106247588,
          0.0013664957883289224,
          0.0013585163012559821,
          0.00135057507881731,
          0.001342664596409396,
          0.001334777483687243,
          0.0013269065325989147,
          0.001319044705169455,
          0.0013111851410225908,
          0.0013033211646289978,
          0.001295446292270199,
          0.0012875542387075448,
          0.001279638923546106,
          0.0012716944772836998,
          0.0012637152470357574,
          0.0012556958019271835,
          0.0012476309381428251,
          0.001239515683628767,
          0.001231345302437145,
          0.0012231152987077678,
          0.0012148214202804407,
          0.0012064596619324897,
          0.0011980262682366237,
          0.0011895177360349261,
          0.0011809308165254538,
          0.0011722625169586038,
          0.0011635101019410834,
          0.001154671094346124,
          0.0011457432758291935,
          0.0011367246869492809,
          0.0011276136268965435,
          0.0011184086528278655,
          0.0011091085788126189,
          0.0010997124743916565,
          0.0010902196627533757
         ],
         "yaxis": "y"
        }
       ],
       "layout": {
        "autosize": true,
        "barmode": "overlay",
        "hovermode": "closest",
        "legend": {
         "traceorder": "reversed"
        },
        "template": {
         "data": {
          "bar": [
           {
            "error_x": {
             "color": "#2a3f5f"
            },
            "error_y": {
             "color": "#2a3f5f"
            },
            "marker": {
             "line": {
              "color": "#E5ECF6",
              "width": 0.5
             },
             "pattern": {
              "fillmode": "overlay",
              "size": 10,
              "solidity": 0.2
             }
            },
            "type": "bar"
           }
          ],
          "barpolar": [
           {
            "marker": {
             "line": {
              "color": "#E5ECF6",
              "width": 0.5
             },
             "pattern": {
              "fillmode": "overlay",
              "size": 10,
              "solidity": 0.2
             }
            },
            "type": "barpolar"
           }
          ],
          "carpet": [
           {
            "aaxis": {
             "endlinecolor": "#2a3f5f",
             "gridcolor": "white",
             "linecolor": "white",
             "minorgridcolor": "white",
             "startlinecolor": "#2a3f5f"
            },
            "baxis": {
             "endlinecolor": "#2a3f5f",
             "gridcolor": "white",
             "linecolor": "white",
             "minorgridcolor": "white",
             "startlinecolor": "#2a3f5f"
            },
            "type": "carpet"
           }
          ],
          "choropleth": [
           {
            "colorbar": {
             "outlinewidth": 0,
             "ticks": ""
            },
            "type": "choropleth"
           }
          ],
          "contour": [
           {
            "colorbar": {
             "outlinewidth": 0,
             "ticks": ""
            },
            "colorscale": [
             [
              0,
              "#0d0887"
             ],
             [
              0.1111111111111111,
              "#46039f"
             ],
             [
              0.2222222222222222,
              "#7201a8"
             ],
             [
              0.3333333333333333,
              "#9c179e"
             ],
             [
              0.4444444444444444,
              "#bd3786"
             ],
             [
              0.5555555555555556,
              "#d8576b"
             ],
             [
              0.6666666666666666,
              "#ed7953"
             ],
             [
              0.7777777777777778,
              "#fb9f3a"
             ],
             [
              0.8888888888888888,
              "#fdca26"
             ],
             [
              1,
              "#f0f921"
             ]
            ],
            "type": "contour"
           }
          ],
          "contourcarpet": [
           {
            "colorbar": {
             "outlinewidth": 0,
             "ticks": ""
            },
            "type": "contourcarpet"
           }
          ],
          "heatmap": [
           {
            "colorbar": {
             "outlinewidth": 0,
             "ticks": ""
            },
            "colorscale": [
             [
              0,
              "#0d0887"
             ],
             [
              0.1111111111111111,
              "#46039f"
             ],
             [
              0.2222222222222222,
              "#7201a8"
             ],
             [
              0.3333333333333333,
              "#9c179e"
             ],
             [
              0.4444444444444444,
              "#bd3786"
             ],
             [
              0.5555555555555556,
              "#d8576b"
             ],
             [
              0.6666666666666666,
              "#ed7953"
             ],
             [
              0.7777777777777778,
              "#fb9f3a"
             ],
             [
              0.8888888888888888,
              "#fdca26"
             ],
             [
              1,
              "#f0f921"
             ]
            ],
            "type": "heatmap"
           }
          ],
          "heatmapgl": [
           {
            "colorbar": {
             "outlinewidth": 0,
             "ticks": ""
            },
            "colorscale": [
             [
              0,
              "#0d0887"
             ],
             [
              0.1111111111111111,
              "#46039f"
             ],
             [
              0.2222222222222222,
              "#7201a8"
             ],
             [
              0.3333333333333333,
              "#9c179e"
             ],
             [
              0.4444444444444444,
              "#bd3786"
             ],
             [
              0.5555555555555556,
              "#d8576b"
             ],
             [
              0.6666666666666666,
              "#ed7953"
             ],
             [
              0.7777777777777778,
              "#fb9f3a"
             ],
             [
              0.8888888888888888,
              "#fdca26"
             ],
             [
              1,
              "#f0f921"
             ]
            ],
            "type": "heatmapgl"
           }
          ],
          "histogram": [
           {
            "marker": {
             "pattern": {
              "fillmode": "overlay",
              "size": 10,
              "solidity": 0.2
             }
            },
            "type": "histogram"
           }
          ],
          "histogram2d": [
           {
            "colorbar": {
             "outlinewidth": 0,
             "ticks": ""
            },
            "colorscale": [
             [
              0,
              "#0d0887"
             ],
             [
              0.1111111111111111,
              "#46039f"
             ],
             [
              0.2222222222222222,
              "#7201a8"
             ],
             [
              0.3333333333333333,
              "#9c179e"
             ],
             [
              0.4444444444444444,
              "#bd3786"
             ],
             [
              0.5555555555555556,
              "#d8576b"
             ],
             [
              0.6666666666666666,
              "#ed7953"
             ],
             [
              0.7777777777777778,
              "#fb9f3a"
             ],
             [
              0.8888888888888888,
              "#fdca26"
             ],
             [
              1,
              "#f0f921"
             ]
            ],
            "type": "histogram2d"
           }
          ],
          "histogram2dcontour": [
           {
            "colorbar": {
             "outlinewidth": 0,
             "ticks": ""
            },
            "colorscale": [
             [
              0,
              "#0d0887"
             ],
             [
              0.1111111111111111,
              "#46039f"
             ],
             [
              0.2222222222222222,
              "#7201a8"
             ],
             [
              0.3333333333333333,
              "#9c179e"
             ],
             [
              0.4444444444444444,
              "#bd3786"
             ],
             [
              0.5555555555555556,
              "#d8576b"
             ],
             [
              0.6666666666666666,
              "#ed7953"
             ],
             [
              0.7777777777777778,
              "#fb9f3a"
             ],
             [
              0.8888888888888888,
              "#fdca26"
             ],
             [
              1,
              "#f0f921"
             ]
            ],
            "type": "histogram2dcontour"
           }
          ],
          "mesh3d": [
           {
            "colorbar": {
             "outlinewidth": 0,
             "ticks": ""
            },
            "type": "mesh3d"
           }
          ],
          "parcoords": [
           {
            "line": {
             "colorbar": {
              "outlinewidth": 0,
              "ticks": ""
             }
            },
            "type": "parcoords"
           }
          ],
          "pie": [
           {
            "automargin": true,
            "type": "pie"
           }
          ],
          "scatter": [
           {
            "marker": {
             "colorbar": {
              "outlinewidth": 0,
              "ticks": ""
             }
            },
            "type": "scatter"
           }
          ],
          "scatter3d": [
           {
            "line": {
             "colorbar": {
              "outlinewidth": 0,
              "ticks": ""
             }
            },
            "marker": {
             "colorbar": {
              "outlinewidth": 0,
              "ticks": ""
             }
            },
            "type": "scatter3d"
           }
          ],
          "scattercarpet": [
           {
            "marker": {
             "colorbar": {
              "outlinewidth": 0,
              "ticks": ""
             }
            },
            "type": "scattercarpet"
           }
          ],
          "scattergeo": [
           {
            "marker": {
             "colorbar": {
              "outlinewidth": 0,
              "ticks": ""
             }
            },
            "type": "scattergeo"
           }
          ],
          "scattergl": [
           {
            "marker": {
             "colorbar": {
              "outlinewidth": 0,
              "ticks": ""
             }
            },
            "type": "scattergl"
           }
          ],
          "scattermapbox": [
           {
            "marker": {
             "colorbar": {
              "outlinewidth": 0,
              "ticks": ""
             }
            },
            "type": "scattermapbox"
           }
          ],
          "scatterpolar": [
           {
            "marker": {
             "colorbar": {
              "outlinewidth": 0,
              "ticks": ""
             }
            },
            "type": "scatterpolar"
           }
          ],
          "scatterpolargl": [
           {
            "marker": {
             "colorbar": {
              "outlinewidth": 0,
              "ticks": ""
             }
            },
            "type": "scatterpolargl"
           }
          ],
          "scatterternary": [
           {
            "marker": {
             "colorbar": {
              "outlinewidth": 0,
              "ticks": ""
             }
            },
            "type": "scatterternary"
           }
          ],
          "surface": [
           {
            "colorbar": {
             "outlinewidth": 0,
             "ticks": ""
            },
            "colorscale": [
             [
              0,
              "#0d0887"
             ],
             [
              0.1111111111111111,
              "#46039f"
             ],
             [
              0.2222222222222222,
              "#7201a8"
             ],
             [
              0.3333333333333333,
              "#9c179e"
             ],
             [
              0.4444444444444444,
              "#bd3786"
             ],
             [
              0.5555555555555556,
              "#d8576b"
             ],
             [
              0.6666666666666666,
              "#ed7953"
             ],
             [
              0.7777777777777778,
              "#fb9f3a"
             ],
             [
              0.8888888888888888,
              "#fdca26"
             ],
             [
              1,
              "#f0f921"
             ]
            ],
            "type": "surface"
           }
          ],
          "table": [
           {
            "cells": {
             "fill": {
              "color": "#EBF0F8"
             },
             "line": {
              "color": "white"
             }
            },
            "header": {
             "fill": {
              "color": "#C8D4E3"
             },
             "line": {
              "color": "white"
             }
            },
            "type": "table"
           }
          ]
         },
         "layout": {
          "annotationdefaults": {
           "arrowcolor": "#2a3f5f",
           "arrowhead": 0,
           "arrowwidth": 1
          },
          "autotypenumbers": "strict",
          "coloraxis": {
           "colorbar": {
            "outlinewidth": 0,
            "ticks": ""
           }
          },
          "colorscale": {
           "diverging": [
            [
             0,
             "#8e0152"
            ],
            [
             0.1,
             "#c51b7d"
            ],
            [
             0.2,
             "#de77ae"
            ],
            [
             0.3,
             "#f1b6da"
            ],
            [
             0.4,
             "#fde0ef"
            ],
            [
             0.5,
             "#f7f7f7"
            ],
            [
             0.6,
             "#e6f5d0"
            ],
            [
             0.7,
             "#b8e186"
            ],
            [
             0.8,
             "#7fbc41"
            ],
            [
             0.9,
             "#4d9221"
            ],
            [
             1,
             "#276419"
            ]
           ],
           "sequential": [
            [
             0,
             "#0d0887"
            ],
            [
             0.1111111111111111,
             "#46039f"
            ],
            [
             0.2222222222222222,
             "#7201a8"
            ],
            [
             0.3333333333333333,
             "#9c179e"
            ],
            [
             0.4444444444444444,
             "#bd3786"
            ],
            [
             0.5555555555555556,
             "#d8576b"
            ],
            [
             0.6666666666666666,
             "#ed7953"
            ],
            [
             0.7777777777777778,
             "#fb9f3a"
            ],
            [
             0.8888888888888888,
             "#fdca26"
            ],
            [
             1,
             "#f0f921"
            ]
           ],
           "sequentialminus": [
            [
             0,
             "#0d0887"
            ],
            [
             0.1111111111111111,
             "#46039f"
            ],
            [
             0.2222222222222222,
             "#7201a8"
            ],
            [
             0.3333333333333333,
             "#9c179e"
            ],
            [
             0.4444444444444444,
             "#bd3786"
            ],
            [
             0.5555555555555556,
             "#d8576b"
            ],
            [
             0.6666666666666666,
             "#ed7953"
            ],
            [
             0.7777777777777778,
             "#fb9f3a"
            ],
            [
             0.8888888888888888,
             "#fdca26"
            ],
            [
             1,
             "#f0f921"
            ]
           ]
          },
          "colorway": [
           "#636efa",
           "#EF553B",
           "#00cc96",
           "#ab63fa",
           "#FFA15A",
           "#19d3f3",
           "#FF6692",
           "#B6E880",
           "#FF97FF",
           "#FECB52"
          ],
          "font": {
           "color": "#2a3f5f"
          },
          "geo": {
           "bgcolor": "white",
           "lakecolor": "white",
           "landcolor": "#E5ECF6",
           "showlakes": true,
           "showland": true,
           "subunitcolor": "white"
          },
          "hoverlabel": {
           "align": "left"
          },
          "hovermode": "closest",
          "mapbox": {
           "style": "light"
          },
          "paper_bgcolor": "white",
          "plot_bgcolor": "#E5ECF6",
          "polar": {
           "angularaxis": {
            "gridcolor": "white",
            "linecolor": "white",
            "ticks": ""
           },
           "bgcolor": "#E5ECF6",
           "radialaxis": {
            "gridcolor": "white",
            "linecolor": "white",
            "ticks": ""
           }
          },
          "scene": {
           "xaxis": {
            "backgroundcolor": "#E5ECF6",
            "gridcolor": "white",
            "gridwidth": 2,
            "linecolor": "white",
            "showbackground": true,
            "ticks": "",
            "zerolinecolor": "white"
           },
           "yaxis": {
            "backgroundcolor": "#E5ECF6",
            "gridcolor": "white",
            "gridwidth": 2,
            "linecolor": "white",
            "showbackground": true,
            "ticks": "",
            "zerolinecolor": "white"
           },
           "zaxis": {
            "backgroundcolor": "#E5ECF6",
            "gridcolor": "white",
            "gridwidth": 2,
            "linecolor": "white",
            "showbackground": true,
            "ticks": "",
            "zerolinecolor": "white"
           }
          },
          "shapedefaults": {
           "line": {
            "color": "#2a3f5f"
           }
          },
          "ternary": {
           "aaxis": {
            "gridcolor": "white",
            "linecolor": "white",
            "ticks": ""
           },
           "baxis": {
            "gridcolor": "white",
            "linecolor": "white",
            "ticks": ""
           },
           "bgcolor": "#E5ECF6",
           "caxis": {
            "gridcolor": "white",
            "linecolor": "white",
            "ticks": ""
           }
          },
          "title": {
           "x": 0.05
          },
          "xaxis": {
           "automargin": true,
           "gridcolor": "white",
           "linecolor": "white",
           "ticks": "",
           "title": {
            "standoff": 15
           },
           "zerolinecolor": "white",
           "zerolinewidth": 2
          },
          "yaxis": {
           "automargin": true,
           "gridcolor": "white",
           "linecolor": "white",
           "ticks": "",
           "title": {
            "standoff": 15
           },
           "zerolinecolor": "white",
           "zerolinewidth": 2
          }
         }
        },
        "xaxis": {
         "anchor": "y2",
         "autorange": true,
         "domain": [
          0,
          1
         ],
         "range": [
          0,
          105
         ],
         "type": "linear",
         "zeroline": false
        },
        "yaxis": {
         "anchor": "free",
         "autorange": true,
         "domain": [
          0,
          1
         ],
         "position": 0,
         "range": [
          -0.0009023526748231276,
          0.03894909407670694
         ],
         "type": "linear"
        }
       }
      },
      "image/png": "[encoded data removed]",
      "text/html": [
       "<div>                            <div id=\"3d985471-6fbb-4de6-a6fb-81366bd04937\" class=\"plotly-graph-div\" style=\"height:525px; width:100%;\"></div>            <script type=\"text/javascript\">                require([\"plotly\"], function(Plotly) {                    window.PLOTLYENV=window.PLOTLYENV || {};                                    if (document.getElementById(\"3d985471-6fbb-4de6-a6fb-81366bd04937\")) {                    Plotly.newPlot(                        \"3d985471-6fbb-4de6-a6fb-81366bd04937\",                        [{\"autobinx\":false,\"histnorm\":\"probability density\",\"legendgroup\":\"Percent Returned\",\"marker\":{\"color\":\"rgb(31, 119, 180)\"},\"name\":\"Percent Returned\",\"opacity\":0.7,\"x\":[52.3,0.0,49.5,0.0,31.0,75.0,0.0,94.9,0.0,0.0,9.0,0.0,24.7,41.1,0.0,46.6,97.4,21.3,0.0,60.4,0.0,27.4,0.0,0.0,30.8,64.6,0.0,71.9,63.6,22.4,54.3,45.0,62.1,63.7,16.6,54.3,38.1,84.4,33.4,0.0,0.0,19.6,52.1,53.7,21.5,0.0,43.5,0.0,27.5,19.6,64.3,34.4,0.0,0.0,0.0,40.3,0.0,0.0,0.0,0.0,0.0,0.0,0.0,13.5,43.1,0.0,0.0,0.0,7.3,0.0,0.0,0.0,0.0,20.0,0.0,0.0,34.6,21.7,0.0,30.6,0.0,0.0,0.0,0.0,14.2,0.0,0.0,0.0,0.0,0.0,0.0,13.3],\"xaxis\":\"x\",\"xbins\":{\"end\":97.4,\"size\":15,\"start\":0.0},\"yaxis\":\"y\",\"type\":\"histogram\"},{\"legendgroup\":\"Percent Returned\",\"marker\":{\"color\":\"rgb(31, 119, 180)\"},\"mode\":\"lines\",\"name\":\"Percent Returned\",\"showlegend\":false,\"x\":[0.0,0.1948,0.3896,0.5844000000000001,0.7792,0.974,1.1688000000000003,1.3636000000000001,1.5584,1.7532,1.948,2.1428000000000003,2.3376000000000006,2.5324,2.7272000000000003,2.922,3.1168,3.3116000000000003,3.5064,3.7012000000000005,3.896,4.0908,4.2856000000000005,4.4804,4.675200000000001,4.87,5.0648,5.259600000000001,5.454400000000001,5.6492,5.844,6.0388,6.2336,6.428400000000001,6.623200000000001,6.818,7.0128,7.2076,7.402400000000001,7.597200000000001,7.792,7.986800000000001,8.1816,8.3764,8.571200000000001,8.766,8.9608,9.1556,9.350400000000002,9.545200000000001,9.74,9.934800000000001,10.1296,10.3244,10.519200000000001,10.714,10.908800000000001,11.1036,11.2984,11.4932,11.688,11.882800000000001,12.0776,12.272400000000001,12.4672,12.662,12.856800000000002,13.0516,13.246400000000001,13.4412,13.636,13.830800000000002,14.0256,14.220400000000001,14.4152,14.61,14.804800000000002,14.999600000000001,15.194400000000002,15.3892,15.584,15.7788,15.973600000000001,16.168400000000002,16.3632,16.558,16.7528,16.9476,17.142400000000002,17.3372,17.532,17.7268,17.9216,18.116400000000002,18.3112,18.506,18.700800000000005,18.8956,19.090400000000002,19.2852,19.48,19.6748,19.869600000000002,20.064400000000003,20.2592,20.454,20.6488,20.843600000000002,21.038400000000003,21.2332,21.428,21.6228,21.817600000000002,22.012400000000003,22.2072,22.402,22.5968,22.791600000000003,22.9864,23.1812,23.376,23.570800000000002,23.765600000000003,23.9604,24.1552,24.35,24.544800000000002,24.739600000000003,24.9344,25.1292,25.324,25.518800000000002,25.713600000000003,25.9084,26.1032,26.298,26.492800000000003,26.687600000000003,26.8824,27.0772,27.272,27.466800000000003,27.661600000000004,27.8564,28.0512,28.246,28.440800000000003,28.635600000000004,28.8304,29.0252,29.22,29.414800000000003,29.609600000000004,29.8044,29.999200000000002,30.194,30.388800000000003,30.5836,30.7784,30.973200000000002,31.168,31.362800000000004,31.5576,31.7524,31.947200000000002,32.142,32.336800000000004,32.531600000000005,32.7264,32.921200000000006,33.116,33.3108,33.5056,33.7004,33.8952,34.09,34.284800000000004,34.4796,34.6744,34.869200000000006,35.064,35.2588,35.4536,35.6484,35.8432,36.038,36.232800000000005,36.4276,36.6224,36.81720000000001,37.012,37.2068,37.40160000000001,37.5964,37.7912,37.986,38.180800000000005,38.375600000000006,38.5704,38.76520000000001,38.96,39.1548,39.3496,39.5444,39.739200000000004,39.934,40.128800000000005,40.323600000000006,40.5184,40.71320000000001,40.908,41.1028,41.2976,41.4924,41.687200000000004,41.882,42.076800000000006,42.27160000000001,42.4664,42.6612,42.856,43.0508,43.2456,43.440400000000004,43.635200000000005,43.83,44.024800000000006,44.21960000000001,44.4144,44.6092,44.804,44.9988,45.1936,45.388400000000004,45.583200000000005,45.778,45.9728,46.16760000000001,46.3624,46.5572,46.752,46.9468,47.141600000000004,47.336400000000005,47.531200000000005,47.726,47.9208,48.11560000000001,48.3104,48.5052,48.7,48.894800000000004,49.089600000000004,49.2844,49.479200000000006,49.674,49.8688,50.06360000000001,50.2584,50.4532,50.648,50.842800000000004,51.037600000000005,51.2324,51.427200000000006,51.622,51.8168,52.01160000000001,52.2064,52.4012,52.596,52.790800000000004,52.985600000000005,53.1804,53.37520000000001,53.57,53.7648,53.95960000000001,54.1544,54.3492,54.544,54.738800000000005,54.933600000000006,55.1284,55.32320000000001,55.518,55.7128,55.90760000000001,56.1024,56.297200000000004,56.492,56.686800000000005,56.881600000000006,57.0764,57.27120000000001,57.466,57.6608,57.8556,58.0504,58.245200000000004,58.44,58.634800000000006,58.829600000000006,59.0244,59.21920000000001,59.414,59.6088,59.8036,59.998400000000004,60.193200000000004,60.388,60.582800000000006,60.77760000000001,60.9724,61.1672,61.362,61.5568,61.7516,61.946400000000004,62.141200000000005,62.336,62.530800000000006,62.72560000000001,62.9204,63.1152,63.31000000000001,63.5048,63.699600000000004,63.894400000000005,64.0892,64.284,64.4788,64.67360000000001,64.86840000000001,65.06320000000001,65.25800000000001,65.4528,65.64760000000001,65.84240000000001,66.0372,66.232,66.4268,66.6216,66.81640000000002,67.0112,67.206,67.4008,67.5956,67.7904,67.98519999999999,68.18,68.37480000000001,68.56960000000001,68.76440000000001,68.9592,69.154,69.3488,69.54360000000001,69.73840000000001,69.9332,70.128,70.3228,70.5176,70.7124,70.9072,71.102,71.2968,71.4916,71.6864,71.88119999999999,72.076,72.27080000000001,72.46560000000001,72.66040000000001,72.8552,73.05,73.2448,73.43960000000001,73.63440000000001,73.8292,74.024,74.2188,74.4136,74.6084,74.80320000000002,74.998,75.1928,75.3876,75.5824,75.77720000000001,75.972,76.16680000000001,76.36160000000001,76.55640000000001,76.75120000000001,76.946,77.1408,77.3356,77.53040000000001,77.72520000000002,77.92,78.1148,78.3096,78.5044,78.6992,78.894,79.0888,79.2836,79.47840000000001,79.67320000000001,79.868,80.06280000000001,80.25760000000001,80.45240000000001,80.64720000000001,80.842,81.0368,81.2316,81.42640000000002,81.62120000000002,81.816,82.0108,82.2056,82.4004,82.5952,82.79,82.9848,83.17960000000001,83.37440000000001,83.56920000000001,83.764,83.9588,84.15360000000001,84.34840000000001,84.54320000000001,84.738,84.9328,85.1276,85.3224,85.51720000000002,85.712,85.9068,86.1016,86.2964,86.4912,86.686,86.88080000000001,87.07560000000001,87.27040000000001,87.46520000000001,87.66,87.8548,88.04960000000001,88.24440000000001,88.43920000000001,88.634,88.8288,89.0236,89.2184,89.41320000000002,89.608,89.8028,89.9976,90.1924,90.3872,90.582,90.77680000000001,90.97160000000001,91.16640000000001,91.36120000000001,91.556,91.7508,91.9456,92.14040000000001,92.33520000000001,92.53,92.7248,92.9196,93.1144,93.30920000000002,93.504,93.6988,93.8936,94.08840000000001,94.28320000000001,94.478,94.67280000000001,94.86760000000001,95.06240000000001,95.25720000000001,95.452,95.6468,95.8416,96.03640000000001,96.23120000000002,96.426,96.6208,96.8156,97.0104,97.2052],\"xaxis\":\"x\",\"y\":[0.020563487431396306,0.020604254095532668,0.020639343883902248,0.020668762457353086,0.020692521389702203,0.02071063813646723,0.020723135993369547,0.02073004404471033,0.020731397101744868,0.02072723563120456,0.020717605674140223,0.02070255875528213,0.020682151783135733,0.020656446941053442,0.02062551156954371,0.02058941804009908,0.02054824362084483,0.02050207033432731,0.02045098480777978,0.02039507811621949,0.020334445618745492,0.020269186788421403,0.020199405036139723,0.020125207528878464,0.02004670500276884,0.019964011571405878,0.01987724452983959,0.019786524154693112,0.019691973500859373,0.019593718195233756,0.019491886227941672,0.019386607741523988,0.019278014818543052,0.019166241268071472,0.019051422411525007,0.01893369486829699,0.018813196341647864,0.01869006540529823,0.01856444129116694,0.018436463678688238,0.0183062724861327,0.018174007664347624,0.018039808993320947,0.017903815881960758,0.017766167171470674,0.017627000942685985,0.017486454327722754,0.017344663326275194,0.017201762626881726,0.017057885433462604,0.01691316329741533,0.016767725955536075,0.01662170117401664,0.016475214598748646,0.016328389612146405,0.016181347196681944,0.01603420580530465,0.015887081238899894,0.01574008653091938,0.015593331839298055,0.01544692434575047,0.015300968162522176,0.015155564246649876,0.015010810321765941,0.014866800807464043,0.01472362675622249,0.014581375797865165,0.014440132091520484,0.014299976285021627,0.014160985481675417,0.014023233214308596,0.013886789426486133,0.01375172046078007,0.013618089053953002,0.013485954338906208,0.013355371853229532,0.013226393554177093,0.013099067839881661,0.012973439576609784,0.012849550131848454,0.012727437413006476,0.012607135911503687,0.012488676752014245,0.012372087746623336,0.012257393453650473,0.012144615240887151,0.012033771352992662,0.011924876982788362,0.011817944346187027,0.011712982760493673,0.011609998725811161,0.01150899600928478,0.011409975731920064,0.011312936457708677,0.011217874284799865,0.011124782938456207,0.0110336538655367,0.010944476330253352,0.010857237510951174,0.01077192259766797,0.010688514890233676,0.010606995896676531,0.010527345431709082,0.010449541715073438,0.010373561469533442,0.01029938001830765,0.010226971381746282,0.010156308373062363,0.01008736269293641,0.010020105022822561,0.00995450511679259,0.009890531891763902,0.00982815351596628,0.009767337495511499,0.009708050758939692,0.009650259739624802,0.009593930455932176,0.009539028589029193,0.009485519558260441,0.009433368594007183,0.009382540807960908,0.00933300126074859,0.009284715026857472,0.009237647256814679,0.009191763236586156,0.009147028444167614,0.009103408603347605,0.009060869734631827,0.009019378203323913,0.008978900764766415,0.008939404606751855,0.008900857389120876,0.00886322728057083,0.008826482992703796,0.008790593811349674,0.008755529625204421,0.008721260951829238,0.008687758961061342,0.008654995495890811,0.008622943090862928,0.008591574988068404,0.008560865150788141,0.008530788274861643,0.008501319797851547,0.008472435906078641,0.008444113539604647,0.008416330395241537,0.008389064927667507,0.00836229634873157,0.008336004625029522,0.00831017047383451,0.008284775357466532,0.008259801476184759,0.00823523175968719,0.008211049857301332,0.008187240126949599,0.008163787622972448,0.008140678082890927,0.008117897913189738,0.008095434174200921,0.008073274564165804,0.008051407402552727,0.008029821612705424,0.008008506703895385,0.007987452752849804,0.007966650384824367,0.007946090754288423,0.007925765525287457,0.007905666851545758,0.007885787356369868,0.007866120112410942,0.007846658621341505,0.007827396793500075,0.007808328927554344,0.0077894496902308746,0.007770754096157645,0.007752237487861758,0.007733895515963865,0.007715724119606905,0.007697719507155283,0.007679878137197379,0.0076621966998825525,0.007644672098621049,0.007627301432173012,0.00761008197715017,0.0075930111709522985,0.007576086595157721,0.007559305959385005,0.007542667085641476,0.007526167893171781,0.007509806383817648,0.00749358062789881,0.007477488750622517,0.007461528919027933,0.007445699329469658,0.007429998195643525,0.007414423737155932,0.007398974168636754,0.007383647689394478,0.007368442473611341,0.0073533566610742415,0.007338388348437099,0.007323535581008795,0.0073087963450594205,0.007294168560638118,0.007279650074893263,0.007265238655886353,0.007250931986889746,0.007236727661157516,0.00722262317715914,0.007208615934264168,0.00719470322886631,0.007180882250934796,0.007167150080980986,0.007153503687426944,0.007139939924364116,0.0071264555296884705,0.007113047123599788,0.007099711207451713,0.007086444162939925,0.007073242251615686,0.00706010161471143,0.007047018273266768,0.007033988128541525,0.0070210069627044186,0.007008070439784756,0.006995174106875998,0.006982313395579679,0.006969483623678159,0.006956679997026276,0.0069438976116509565,0.006931131456048755,0.006918376413672195,0.006905627265595306,0.006892878693349386,0.006880125281921236,0.00686736152290519,0.006854581817801702,0.0068417804814555165,0.006828951745626214,0.006816089762685198,0.0068031886094330534,0.006790242291031873,0.006777244745047277,0.006764189845595436,0.006751071407590777,0.006737883191090208,0.00672461890573041,0.006711272215254495,0.006697836742125158,0.006684306072221435,0.006670673759616761,0.006656933331435427,0.006643078292786171,0.0066291021317702635,0.006614998324562828,0.00660076034056536,0.0065863816476286014,0.006571855717343528,0.006557176030399943,0.0065423360820108375,0.006527329387401151,0.006512149487360383,0.0064967899538564775,0.006481244395710743,0.006465506464331443,0.006449569859504751,0.00643342833524141,0.006417075705676471,0.006400505851020872,0.006383712723561707,0.006366690353708778,0.006349432856084749,0.0063319344356553885,0.0063141893938968826,0.0062961921349957845,0.006277937172078239,0.00625941913346353,0.006240632768937334,0.006221572956039596,0.006202234706361449,0.006182613171845216,0.006162703651081492,0.006142501595596316,0.006122002616121941,0.006101202488843057,0.006080097161611775,0.006058682760122105,0.006036955594036586,0.0060149121630552705,0.005992549162918926,0.005969863491336041,0.005946852253824716,0.005923512769459176,0.005899842576510247,0.005875839437970036,0.005851501346949712,0.005826826531939284,0.005801813461919006,0.0057764608513107595,0.005750767664758249,0.005724733121724959,0.005698356700898239,0.00567163814438843,0.00564457746171171,0.0056171749335453105,0.005589431115244451,0.005561346840109402,0.005532923222392649,0.005504161660035167,0.005475063837121666,0.005445631726045176,0.005415867589370792,0.005385773981389866,0.005355353749355678,0.005324610034391994,0.005293546272067005,0.005262166192624947,0.005230473820868581,0.0051984734756867525,0.005166169769220494,0.005133567605663632,0.005100672179692734,0.005067488974523172,0.005034023759588175,0.005000282587838503,0.004966271792661546,0.004931997984418646,0.004897468046600911,0.0048626891316043514,0.004827668656125596,0.0047924142961808846,0.0047569339817512615,0.0047212358910579165,0.004685328444472569,0.0046492202980681525,0.0046129203368164215,0.004576437667439096,0.004539781610920864,0.004502961694692437,0.004465987644493144,0.0044288693759229345,0.0043916169856944775,0.004354240742596937,0.004316751078182955,0.0042791585771917275,0.004241473967721502,0.004203708111164464,0.0041658719919193,0.004127976706894953,0.00409003345482182,0.004052053525385025,0.004014048288196073,0.003976029181619361,0.003938007701469399,0.003899995389596109,0.003862003822374827,0.0038240445991183617,0.0037861293304281684,0.003748269626502089,0.0037104770854160343,0.0036727632813970566,0.0036351397531048982,0.00359761799193973,0.0035602094303927353,0.0035229254304569835,0.0034857772721150447,0.003448776141920194,0.0034119331216874117,0.003375259177310073,0.003338765147718387,0.0033024617339945713,0.0032663594886599362,0.0032304688051483393,0.0031947999074801755,0.003159362840150616,0.0031241674582451247,0.0030892234177951456,0.0030545401663859446,0.0030201269340284147,0.002985992724305763,0.0029521463058059115,0.002918596203849187,0.0028853506925211234,0.002852417787018951,0.0028198052363200797,0.0027875205161802764,0.002755570822468715,0.002723963064846097,0.0026927038607921414,0.0026617995299875385,0.0026312560890552877,0.0026010792466654893,0.0025712743990074166,0.0025418466256319425,0.00251280068566679,0.002484141014406862,0.0024558717202810493,0.0024279965821966884,0.002400519047262199,0.002373442228888013,0.002346768905265419,0.002320501518222668,0.0022946421724569753,0.0022691926351409595,0.0022441543359014125,0.0022195283671680353,0.002195315484889487,0.0021715161096135514,0.0021481303279280817,0.0021251578942589554,0.0021025982330209565,0.002080450441117407,0.002058713290783708,0.002037385232770108,0.002016464399858518,0.0019959486107078623,0.001975835374022543,0.0019561218930380995,0.0019368050703178748,0.0019178815128546498,0.0018993475374705128,0.0018811991765085125,0.001863432183808974,0.0018460420409636667,0.0018290239638402862,0.0018123729093700144,0.001796083582590428,0.0017801504439359476,0.00176456771676778,0.0017493293951352806,0.001734429251760247,0.0017198608462356219,0.0017056175334299484,0.001691692472088464,0.0016780786336219493,0.0016647688110738115,0.0016517556282560786,0.0016390315490444629,0.0016265888868227715,0.0016144198140664234,0.0016025163720549457,0.0015908704807029077,0.00157947394849865,0.0015683184825399335,0.001557395698655545,0.0015466971316015405,0.0015362142453207717,0.0015259384432540577,0.0015158610786912457,0.0015059734651502986,0.0014962668867721074,0.0014867326087190612,0.001477361887564673,0.0014681459816619743,0.0014590761614778779,0.0014501437198808365,0.0014413399823688345,0.001432656317224906,0.001424084145587089,0.00141561495141981,0.0014072402913736226,0.0013989518045202211,0.0013907412219497208,0.0013826003762170665,0.0013745212106247588,0.0013664957883289224,0.0013585163012559821,0.00135057507881731,0.001342664596409396,0.001334777483687243,0.0013269065325989147,0.001319044705169455,0.0013111851410225908,0.0013033211646289978,0.001295446292270199,0.0012875542387075448,0.001279638923546106,0.0012716944772836998,0.0012637152470357574,0.0012556958019271835,0.0012476309381428251,0.001239515683628767,0.001231345302437145,0.0012231152987077678,0.0012148214202804407,0.0012064596619324897,0.0011980262682366237,0.0011895177360349261,0.0011809308165254538,0.0011722625169586038,0.0011635101019410834,0.001154671094346124,0.0011457432758291935,0.0011367246869492809,0.0011276136268965435,0.0011184086528278655,0.0011091085788126189,0.0010997124743916565,0.0010902196627533757],\"yaxis\":\"y\",\"type\":\"scatter\"}],                        {\"barmode\":\"overlay\",\"hovermode\":\"closest\",\"legend\":{\"traceorder\":\"reversed\"},\"xaxis\":{\"anchor\":\"y2\",\"domain\":[0.0,1.0],\"zeroline\":false},\"yaxis\":{\"anchor\":\"free\",\"domain\":[0.0,1],\"position\":0.0},\"template\":{\"data\":{\"bar\":[{\"error_x\":{\"color\":\"#2a3f5f\"},\"error_y\":{\"color\":\"#2a3f5f\"},\"marker\":{\"line\":{\"color\":\"#E5ECF6\",\"width\":0.5},\"pattern\":{\"fillmode\":\"overlay\",\"size\":10,\"solidity\":0.2}},\"type\":\"bar\"}],\"barpolar\":[{\"marker\":{\"line\":{\"color\":\"#E5ECF6\",\"width\":0.5},\"pattern\":{\"fillmode\":\"overlay\",\"size\":10,\"solidity\":0.2}},\"type\":\"barpolar\"}],\"carpet\":[{\"aaxis\":{\"endlinecolor\":\"#2a3f5f\",\"gridcolor\":\"white\",\"linecolor\":\"white\",\"minorgridcolor\":\"white\",\"startlinecolor\":\"#2a3f5f\"},\"baxis\":{\"endlinecolor\":\"#2a3f5f\",\"gridcolor\":\"white\",\"linecolor\":\"white\",\"minorgridcolor\":\"white\",\"startlinecolor\":\"#2a3f5f\"},\"type\":\"carpet\"}],\"choropleth\":[{\"colorbar\":{\"outlinewidth\":0,\"ticks\":\"\"},\"type\":\"choropleth\"}],\"contour\":[{\"colorbar\":{\"outlinewidth\":0,\"ticks\":\"\"},\"colorscale\":[[0.0,\"#0d0887\"],[0.1111111111111111,\"#46039f\"],[0.2222222222222222,\"#7201a8\"],[0.3333333333333333,\"#9c179e\"],[0.4444444444444444,\"#bd3786\"],[0.5555555555555556,\"#d8576b\"],[0.6666666666666666,\"#ed7953\"],[0.7777777777777778,\"#fb9f3a\"],[0.8888888888888888,\"#fdca26\"],[1.0,\"#f0f921\"]],\"type\":\"contour\"}],\"contourcarpet\":[{\"colorbar\":{\"outlinewidth\":0,\"ticks\":\"\"},\"type\":\"contourcarpet\"}],\"heatmap\":[{\"colorbar\":{\"outlinewidth\":0,\"ticks\":\"\"},\"colorscale\":[[0.0,\"#0d0887\"],[0.1111111111111111,\"#46039f\"],[0.2222222222222222,\"#7201a8\"],[0.3333333333333333,\"#9c179e\"],[0.4444444444444444,\"#bd3786\"],[0.5555555555555556,\"#d8576b\"],[0.6666666666666666,\"#ed7953\"],[0.7777777777777778,\"#fb9f3a\"],[0.8888888888888888,\"#fdca26\"],[1.0,\"#f0f921\"]],\"type\":\"heatmap\"}],\"heatmapgl\":[{\"colorbar\":{\"outlinewidth\":0,\"ticks\":\"\"},\"colorscale\":[[0.0,\"#0d0887\"],[0.1111111111111111,\"#46039f\"],[0.2222222222222222,\"#7201a8\"],[0.3333333333333333,\"#9c179e\"],[0.4444444444444444,\"#bd3786\"],[0.5555555555555556,\"#d8576b\"],[0.6666666666666666,\"#ed7953\"],[0.7777777777777778,\"#fb9f3a\"],[0.8888888888888888,\"#fdca26\"],[1.0,\"#f0f921\"]],\"type\":\"heatmapgl\"}],\"histogram\":[{\"marker\":{\"pattern\":{\"fillmode\":\"overlay\",\"size\":10,\"solidity\":0.2}},\"type\":\"histogram\"}],\"histogram2d\":[{\"colorbar\":{\"outlinewidth\":0,\"ticks\":\"\"},\"colorscale\":[[0.0,\"#0d0887\"],[0.1111111111111111,\"#46039f\"],[0.2222222222222222,\"#7201a8\"],[0.3333333333333333,\"#9c179e\"],[0.4444444444444444,\"#bd3786\"],[0.5555555555555556,\"#d8576b\"],[0.6666666666666666,\"#ed7953\"],[0.7777777777777778,\"#fb9f3a\"],[0.8888888888888888,\"#fdca26\"],[1.0,\"#f0f921\"]],\"type\":\"histogram2d\"}],\"histogram2dcontour\":[{\"colorbar\":{\"outlinewidth\":0,\"ticks\":\"\"},\"colorscale\":[[0.0,\"#0d0887\"],[0.1111111111111111,\"#46039f\"],[0.2222222222222222,\"#7201a8\"],[0.3333333333333333,\"#9c179e\"],[0.4444444444444444,\"#bd3786\"],[0.5555555555555556,\"#d8576b\"],[0.6666666666666666,\"#ed7953\"],[0.7777777777777778,\"#fb9f3a\"],[0.8888888888888888,\"#fdca26\"],[1.0,\"#f0f921\"]],\"type\":\"histogram2dcontour\"}],\"mesh3d\":[{\"colorbar\":{\"outlinewidth\":0,\"ticks\":\"\"},\"type\":\"mesh3d\"}],\"parcoords\":[{\"line\":{\"colorbar\":{\"outlinewidth\":0,\"ticks\":\"\"}},\"type\":\"parcoords\"}],\"pie\":[{\"automargin\":true,\"type\":\"pie\"}],\"scatter\":[{\"marker\":{\"colorbar\":{\"outlinewidth\":0,\"ticks\":\"\"}},\"type\":\"scatter\"}],\"scatter3d\":[{\"line\":{\"colorbar\":{\"outlinewidth\":0,\"ticks\":\"\"}},\"marker\":{\"colorbar\":{\"outlinewidth\":0,\"ticks\":\"\"}},\"type\":\"scatter3d\"}],\"scattercarpet\":[{\"marker\":{\"colorbar\":{\"outlinewidth\":0,\"ticks\":\"\"}},\"type\":\"scattercarpet\"}],\"scattergeo\":[{\"marker\":{\"colorbar\":{\"outlinewidth\":0,\"ticks\":\"\"}},\"type\":\"scattergeo\"}],\"scattergl\":[{\"marker\":{\"colorbar\":{\"outlinewidth\":0,\"ticks\":\"\"}},\"type\":\"scattergl\"}],\"scattermapbox\":[{\"marker\":{\"colorbar\":{\"outlinewidth\":0,\"ticks\":\"\"}},\"type\":\"scattermapbox\"}],\"scatterpolar\":[{\"marker\":{\"colorbar\":{\"outlinewidth\":0,\"ticks\":\"\"}},\"type\":\"scatterpolar\"}],\"scatterpolargl\":[{\"marker\":{\"colorbar\":{\"outlinewidth\":0,\"ticks\":\"\"}},\"type\":\"scatterpolargl\"}],\"scatterternary\":[{\"marker\":{\"colorbar\":{\"outlinewidth\":0,\"ticks\":\"\"}},\"type\":\"scatterternary\"}],\"surface\":[{\"colorbar\":{\"outlinewidth\":0,\"ticks\":\"\"},\"colorscale\":[[0.0,\"#0d0887\"],[0.1111111111111111,\"#46039f\"],[0.2222222222222222,\"#7201a8\"],[0.3333333333333333,\"#9c179e\"],[0.4444444444444444,\"#bd3786\"],[0.5555555555555556,\"#d8576b\"],[0.6666666666666666,\"#ed7953\"],[0.7777777777777778,\"#fb9f3a\"],[0.8888888888888888,\"#fdca26\"],[1.0,\"#f0f921\"]],\"type\":\"surface\"}],\"table\":[{\"cells\":{\"fill\":{\"color\":\"#EBF0F8\"},\"line\":{\"color\":\"white\"}},\"header\":{\"fill\":{\"color\":\"#C8D4E3\"},\"line\":{\"color\":\"white\"}},\"type\":\"table\"}]},\"layout\":{\"annotationdefaults\":{\"arrowcolor\":\"#2a3f5f\",\"arrowhead\":0,\"arrowwidth\":1},\"autotypenumbers\":\"strict\",\"coloraxis\":{\"colorbar\":{\"outlinewidth\":0,\"ticks\":\"\"}},\"colorscale\":{\"diverging\":[[0,\"#8e0152\"],[0.1,\"#c51b7d\"],[0.2,\"#de77ae\"],[0.3,\"#f1b6da\"],[0.4,\"#fde0ef\"],[0.5,\"#f7f7f7\"],[0.6,\"#e6f5d0\"],[0.7,\"#b8e186\"],[0.8,\"#7fbc41\"],[0.9,\"#4d9221\"],[1,\"#276419\"]],\"sequential\":[[0.0,\"#0d0887\"],[0.1111111111111111,\"#46039f\"],[0.2222222222222222,\"#7201a8\"],[0.3333333333333333,\"#9c179e\"],[0.4444444444444444,\"#bd3786\"],[0.5555555555555556,\"#d8576b\"],[0.6666666666666666,\"#ed7953\"],[0.7777777777777778,\"#fb9f3a\"],[0.8888888888888888,\"#fdca26\"],[1.0,\"#f0f921\"]],\"sequentialminus\":[[0.0,\"#0d0887\"],[0.1111111111111111,\"#46039f\"],[0.2222222222222222,\"#7201a8\"],[0.3333333333333333,\"#9c179e\"],[0.4444444444444444,\"#bd3786\"],[0.5555555555555556,\"#d8576b\"],[0.6666666666666666,\"#ed7953\"],[0.7777777777777778,\"#fb9f3a\"],[0.8888888888888888,\"#fdca26\"],[1.0,\"#f0f921\"]]},\"colorway\":[\"#636efa\",\"#EF553B\",\"#00cc96\",\"#ab63fa\",\"#FFA15A\",\"#19d3f3\",\"#FF6692\",\"#B6E880\",\"#FF97FF\",\"#FECB52\"],\"font\":{\"color\":\"#2a3f5f\"},\"geo\":{\"bgcolor\":\"white\",\"lakecolor\":\"white\",\"landcolor\":\"#E5ECF6\",\"showlakes\":true,\"showland\":true,\"subunitcolor\":\"white\"},\"hoverlabel\":{\"align\":\"left\"},\"hovermode\":\"closest\",\"mapbox\":{\"style\":\"light\"},\"paper_bgcolor\":\"white\",\"plot_bgcolor\":\"#E5ECF6\",\"polar\":{\"angularaxis\":{\"gridcolor\":\"white\",\"linecolor\":\"white\",\"ticks\":\"\"},\"bgcolor\":\"#E5ECF6\",\"radialaxis\":{\"gridcolor\":\"white\",\"linecolor\":\"white\",\"ticks\":\"\"}},\"scene\":{\"xaxis\":{\"backgroundcolor\":\"#E5ECF6\",\"gridcolor\":\"white\",\"gridwidth\":2,\"linecolor\":\"white\",\"showbackground\":true,\"ticks\":\"\",\"zerolinecolor\":\"white\"},\"yaxis\":{\"backgroundcolor\":\"#E5ECF6\",\"gridcolor\":\"white\",\"gridwidth\":2,\"linecolor\":\"white\",\"showbackground\":true,\"ticks\":\"\",\"zerolinecolor\":\"white\"},\"zaxis\":{\"backgroundcolor\":\"#E5ECF6\",\"gridcolor\":\"white\",\"gridwidth\":2,\"linecolor\":\"white\",\"showbackground\":true,\"ticks\":\"\",\"zerolinecolor\":\"white\"}},\"shapedefaults\":{\"line\":{\"color\":\"#2a3f5f\"}},\"ternary\":{\"aaxis\":{\"gridcolor\":\"white\",\"linecolor\":\"white\",\"ticks\":\"\"},\"baxis\":{\"gridcolor\":\"white\",\"linecolor\":\"white\",\"ticks\":\"\"},\"bgcolor\":\"#E5ECF6\",\"caxis\":{\"gridcolor\":\"white\",\"linecolor\":\"white\",\"ticks\":\"\"}},\"title\":{\"x\":0.05},\"xaxis\":{\"automargin\":true,\"gridcolor\":\"white\",\"linecolor\":\"white\",\"ticks\":\"\",\"title\":{\"standoff\":15},\"zerolinecolor\":\"white\",\"zerolinewidth\":2},\"yaxis\":{\"automargin\":true,\"gridcolor\":\"white\",\"linecolor\":\"white\",\"ticks\":\"\",\"title\":{\"standoff\":15},\"zerolinecolor\":\"white\",\"zerolinewidth\":2}}}},                        {\"responsive\": true}                    ).then(function(){\n",
       "                            \n",
       "var gd = document.getElementById('3d985471-6fbb-4de6-a6fb-81366bd04937');\n",
       "var x = new MutationObserver(function (mutations, observer) {{\n",
       "        var display = window.getComputedStyle(gd).display;\n",
       "        if (!display || display === 'none') {{\n",
       "            console.log([gd, 'removed!']);\n",
       "            Plotly.purge(gd);\n",
       "            observer.disconnect();\n",
       "        }}\n",
       "}});\n",
       "\n",
       "// Listen for the removal of the full notebook cells\n",
       "var notebookContainer = gd.closest('#notebook-container');\n",
       "if (notebookContainer) {{\n",
       "    x.observe(notebookContainer, {childList: true});\n",
       "}}\n",
       "\n",
       "// Listen for the clearing of the current output cell\n",
       "var outputEl = gd.closest('.output');\n",
       "if (outputEl) {{\n",
       "    x.observe(outputEl, {childList: true});\n",
       "}}\n",
       "\n",
       "                        })                };                });            </script>        </div>"
      ]
     },
     "metadata": {},
     "output_type": "display_data"
    }
   ],
   "source": [
    "fig = ff.create_distplot([population1940_1945['% returned']], \n",
    "                         [\"Percent Returned\"], \n",
    "                         show_rug = False, bin_size = 15)\n",
    "fig.show()"
   ]
  },
  {
   "cell_type": "markdown",
   "metadata": {},
   "source": [
    "We can see that the bin that indicated 0% return to original location hold the most weight. This indicates that a vast majority of the individuals that were held in detention camps did not return to the location where they originally lived."
   ]
  },
  {
   "cell_type": "markdown",
   "metadata": {
    "#student": true
   },
   "source": [
    "<!-- BEGIN QUESTION -->\n",
    "\n",
    "<div class=\"alert alert-block alert-info\">\n",
    "<b>Question 3e:</b>  Visualizations allow us to picture how the numbers change and find abnormalities in the data set. What are some abnormalities that you see in the first plot? What are some possible explanations for these abnormalities?\n",
    "</div> \n",
    "\n",
    "<!--\n",
    "BEGIN QUESTION\n",
    "name: q3e\n",
    "points: 1\n",
    "manual: true\n",
    "-->"
   ]
  },
  {
   "cell_type": "markdown",
   "metadata": {
    "#student": true
   },
   "source": [
    "\n",
    "**Answer:** YOUR ANSWER HERE"
   ]
  },
  {
   "cell_type": "markdown",
   "metadata": {
    "#student": false
   },
   "source": [
    "<!-- END QUESTION -->\n",
    "\n",
    "---\n",
    "\n",
    "## Section 4: Assembly Centers and Internment Centers<a id='#section4'></a>\n",
    "\n",
    "In this section we will look at the trends in the relocation of incarcerated Japanese-Americans. The maps below show how far people were forced to move from one location to another over the course of WWII. By creating a map from longitude and latitude data, we can better visualize locations and understand some aspects of Japanese-American incarceration, such as on whose land Japanese-Americans were held in and the conditions that they suffered, and the places that Japanese-Americans across the West Coast came from and where they went afterwards.\n",
    "\n",
    "When a notice of \"evacuation\" was posted, families had to register at a control center and were issued a number, stripping families of their privacy and dignity. From there, families awaited their trip to the assembly centers and upon arrival, detainees recall two vivid images: \"walking to the camp between a cordon of armed guards, and first seeing the barbed wire and searchlights, the menacing symbols of a prison\" (*Personal Justice Denied*, 136).\n",
    "\n",
    "\n",
    "<img src=\"images/Luggage_Japanese_American_internment.png\" width=\"400\">\n",
    "\n",
    "<center> The luggage of the Japanese Americans who have arrived at a reception center.\n",
    "This image is available from the United States Library of Congress's Prints and Photographs division."
   ]
  },
  {
   "cell_type": "markdown",
   "metadata": {
    "#student": false
   },
   "source": [
    "### Assembly Centers\n",
    "Japanese Americans were uprooted from their homes and transported from assembly centers to detention camps all across the country. Assembly centers served as temporary detention centers for the detained to stop at before being transported to a permanent detention center. The map below displays the geological location of the assembly centers created after the passing of the Executive Order 9066.\n",
    "\n",
    "To zoom in and out on the map, press the + and - buttons or scroll up and down. Also, click on the blue marker to see the assembly center name. "
   ]
  },
  {
   "cell_type": "code",
   "execution_count": 21,
   "metadata": {
    "#student": false,
    "execution": {
     "iopub.execute_input": "2022-10-25T20:55:24.322520Z",
     "iopub.status.busy": "2022-10-25T20:55:24.322146Z",
     "iopub.status.idle": "2022-10-25T20:55:24.375450Z",
     "shell.execute_reply": "2022-10-25T20:55:24.374653Z",
     "shell.execute_reply.started": "2022-10-25T20:55:24.322493Z"
    }
   },
   "outputs": [
    {
     "data": {
      "text/html": [
       "<div style=\"width:100%;\"><div style=\"position:relative;width:100%;height:0;padding-bottom:60%;\"><span style=\"color:#565656\">Make this Notebook Trusted to load map: File -> Trust Notebook</span><iframe src=\"about:blank\" style=\"position:absolute;width:100%;height:100%;left:0;top:0;border:none !important;\" data-html=%3C%21DOCTYPE%20html%3E%0A%3Chead%3E%20%20%20%20%0A%20%20%20%20%3Cmeta%20http-equiv%3D%22content-type%22%20content%3D%22text/html%3B%20charset%3DUTF-8%22%20/%3E%0A%20%20%20%20%0A%20%20%20%20%20%20%20%20%3Cscript%3E%0A%20%20%20%20%20%20%20%20%20%20%20%20L_NO_TOUCH%20%3D%20false%3B%0A%20%20%20%20%20%20%20%20%20%20%20%20L_DISABLE_3D%20%3D%20false%3B%0A%20%20%20%20%20%20%20%20%3C/script%3E%0A%20%20%20%20%0A%20%20%20%20%3Cstyle%3Ehtml%2C%20body%20%7Bwidth%3A%20100%25%3Bheight%3A%20100%25%3Bmargin%3A%200%3Bpadding%3A%200%3B%7D%3C/style%3E%0A%20%20%20%20%3Cstyle%3E%23map%20%7Bposition%3Aabsolute%3Btop%3A0%3Bbottom%3A0%3Bright%3A0%3Bleft%3A0%3B%7D%3C/style%3E%0A%20%20%20%20%3Cscript%20src%3D%22https%3A//cdn.jsdelivr.net/npm/leaflet%401.6.0/dist/leaflet.js%22%3E%3C/script%3E%0A%20%20%20%20%3Cscript%20src%3D%22https%3A//code.jquery.com/jquery-1.12.4.min.js%22%3E%3C/script%3E%0A%20%20%20%20%3Cscript%20src%3D%22https%3A//maxcdn.bootstrapcdn.com/bootstrap/3.2.0/js/bootstrap.min.js%22%3E%3C/script%3E%0A%20%20%20%20%3Cscript%20src%3D%22https%3A//cdnjs.cloudflare.com/ajax/libs/Leaflet.awesome-markers/2.0.2/leaflet.awesome-markers.js%22%3E%3C/script%3E%0A%20%20%20%20%3Clink%20rel%3D%22stylesheet%22%20href%3D%22https%3A//cdn.jsdelivr.net/npm/leaflet%401.6.0/dist/leaflet.css%22/%3E%0A%20%20%20%20%3Clink%20rel%3D%22stylesheet%22%20href%3D%22https%3A//maxcdn.bootstrapcdn.com/bootstrap/3.2.0/css/bootstrap.min.css%22/%3E%0A%20%20%20%20%3Clink%20rel%3D%22stylesheet%22%20href%3D%22https%3A//maxcdn.bootstrapcdn.com/bootstrap/3.2.0/css/bootstrap-theme.min.css%22/%3E%0A%20%20%20%20%3Clink%20rel%3D%22stylesheet%22%20href%3D%22https%3A//maxcdn.bootstrapcdn.com/font-awesome/4.6.3/css/font-awesome.min.css%22/%3E%0A%20%20%20%20%3Clink%20rel%3D%22stylesheet%22%20href%3D%22https%3A//cdnjs.cloudflare.com/ajax/libs/Leaflet.awesome-markers/2.0.2/leaflet.awesome-markers.css%22/%3E%0A%20%20%20%20%3Clink%20rel%3D%22stylesheet%22%20href%3D%22https%3A//cdn.jsdelivr.net/gh/python-visualization/folium/folium/templates/leaflet.awesome.rotate.min.css%22/%3E%0A%20%20%20%20%0A%20%20%20%20%20%20%20%20%20%20%20%20%3Cmeta%20name%3D%22viewport%22%20content%3D%22width%3Ddevice-width%2C%0A%20%20%20%20%20%20%20%20%20%20%20%20%20%20%20%20initial-scale%3D1.0%2C%20maximum-scale%3D1.0%2C%20user-scalable%3Dno%22%20/%3E%0A%20%20%20%20%20%20%20%20%20%20%20%20%3Cstyle%3E%0A%20%20%20%20%20%20%20%20%20%20%20%20%20%20%20%20%23map_a93b33a491a24264bb735c7d59235d36%20%7B%0A%20%20%20%20%20%20%20%20%20%20%20%20%20%20%20%20%20%20%20%20position%3A%20relative%3B%0A%20%20%20%20%20%20%20%20%20%20%20%20%20%20%20%20%20%20%20%20width%3A%20100.0%25%3B%0A%20%20%20%20%20%20%20%20%20%20%20%20%20%20%20%20%20%20%20%20height%3A%20100.0%25%3B%0A%20%20%20%20%20%20%20%20%20%20%20%20%20%20%20%20%20%20%20%20left%3A%200.0%25%3B%0A%20%20%20%20%20%20%20%20%20%20%20%20%20%20%20%20%20%20%20%20top%3A%200.0%25%3B%0A%20%20%20%20%20%20%20%20%20%20%20%20%20%20%20%20%7D%0A%20%20%20%20%20%20%20%20%20%20%20%20%3C/style%3E%0A%20%20%20%20%20%20%20%20%0A%3C/head%3E%0A%3Cbody%3E%20%20%20%20%0A%20%20%20%20%0A%20%20%20%20%20%20%20%20%20%20%20%20%3Cdiv%20class%3D%22folium-map%22%20id%3D%22map_a93b33a491a24264bb735c7d59235d36%22%20%3E%3C/div%3E%0A%20%20%20%20%20%20%20%20%0A%3C/body%3E%0A%3Cscript%3E%20%20%20%20%0A%20%20%20%20%0A%20%20%20%20%20%20%20%20%20%20%20%20var%20map_a93b33a491a24264bb735c7d59235d36%20%3D%20L.map%28%0A%20%20%20%20%20%20%20%20%20%20%20%20%20%20%20%20%22map_a93b33a491a24264bb735c7d59235d36%22%2C%0A%20%20%20%20%20%20%20%20%20%20%20%20%20%20%20%20%7B%0A%20%20%20%20%20%20%20%20%20%20%20%20%20%20%20%20%20%20%20%20center%3A%20%5B36.7333%2C%20-100.7667%5D%2C%0A%20%20%20%20%20%20%20%20%20%20%20%20%20%20%20%20%20%20%20%20crs%3A%20L.CRS.EPSG3857%2C%0A%20%20%20%20%20%20%20%20%20%20%20%20%20%20%20%20%20%20%20%20zoom%3A%204%2C%0A%20%20%20%20%20%20%20%20%20%20%20%20%20%20%20%20%20%20%20%20zoomControl%3A%20true%2C%0A%20%20%20%20%20%20%20%20%20%20%20%20%20%20%20%20%20%20%20%20preferCanvas%3A%20false%2C%0A%20%20%20%20%20%20%20%20%20%20%20%20%20%20%20%20%7D%0A%20%20%20%20%20%20%20%20%20%20%20%20%29%3B%0A%0A%20%20%20%20%20%20%20%20%20%20%20%20%0A%0A%20%20%20%20%20%20%20%20%0A%20%20%20%20%0A%20%20%20%20%20%20%20%20%20%20%20%20var%20tile_layer_e2a2409644d54aaba87d56ff72e6c47f%20%3D%20L.tileLayer%28%0A%20%20%20%20%20%20%20%20%20%20%20%20%20%20%20%20%22https%3A//%7Bs%7D.tile.openstreetmap.org/%7Bz%7D/%7Bx%7D/%7By%7D.png%22%2C%0A%20%20%20%20%20%20%20%20%20%20%20%20%20%20%20%20%7B%22attribution%22%3A%20%22Data%20by%20%5Cu0026copy%3B%20%5Cu003ca%20href%3D%5C%22http%3A//openstreetmap.org%5C%22%5Cu003eOpenStreetMap%5Cu003c/a%5Cu003e%2C%20under%20%5Cu003ca%20href%3D%5C%22http%3A//www.openstreetmap.org/copyright%5C%22%5Cu003eODbL%5Cu003c/a%5Cu003e.%22%2C%20%22detectRetina%22%3A%20false%2C%20%22maxNativeZoom%22%3A%2018%2C%20%22maxZoom%22%3A%2018%2C%20%22minZoom%22%3A%200%2C%20%22noWrap%22%3A%20false%2C%20%22opacity%22%3A%201%2C%20%22subdomains%22%3A%20%22abc%22%2C%20%22tms%22%3A%20false%7D%0A%20%20%20%20%20%20%20%20%20%20%20%20%29.addTo%28map_a93b33a491a24264bb735c7d59235d36%29%3B%0A%20%20%20%20%20%20%20%20%0A%20%20%20%20%0A%20%20%20%20%20%20%20%20%20%20%20%20var%20marker_3d3ea55c5d0a483f87092d7604b602ce%20%3D%20L.marker%28%0A%20%20%20%20%20%20%20%20%20%20%20%20%20%20%20%20%5B38.5667%2C%20-121.4833%5D%2C%0A%20%20%20%20%20%20%20%20%20%20%20%20%20%20%20%20%7B%7D%0A%20%20%20%20%20%20%20%20%20%20%20%20%29.addTo%28map_a93b33a491a24264bb735c7d59235d36%29%3B%0A%20%20%20%20%20%20%20%20%0A%20%20%20%20%0A%20%20%20%20%20%20%20%20var%20popup_b4aa2c946aa64b6e84ecd621dfd9799a%20%3D%20L.popup%28%7B%22maxWidth%22%3A%20%22100%25%22%7D%29%3B%0A%0A%20%20%20%20%20%20%20%20%0A%20%20%20%20%20%20%20%20%20%20%20%20var%20html_ea96dc1ce36e4d4c9e69ec0b1e8c9a11%20%3D%20%24%28%60%3Cdiv%20id%3D%22html_ea96dc1ce36e4d4c9e69ec0b1e8c9a11%22%20style%3D%22width%3A%20100.0%25%3B%20height%3A%20100.0%25%3B%22%3ESacramento%20%28Walerga%29%3C/div%3E%60%29%5B0%5D%3B%0A%20%20%20%20%20%20%20%20%20%20%20%20popup_b4aa2c946aa64b6e84ecd621dfd9799a.setContent%28html_ea96dc1ce36e4d4c9e69ec0b1e8c9a11%29%3B%0A%20%20%20%20%20%20%20%20%0A%0A%20%20%20%20%20%20%20%20marker_3d3ea55c5d0a483f87092d7604b602ce.bindPopup%28popup_b4aa2c946aa64b6e84ecd621dfd9799a%29%0A%20%20%20%20%20%20%20%20%3B%0A%0A%20%20%20%20%20%20%20%20%0A%20%20%20%20%0A%20%20%20%20%0A%20%20%20%20%20%20%20%20%20%20%20%20var%20marker_f8c81c2c75914dbabf5f37f7f8bca0f0%20%3D%20L.marker%28%0A%20%20%20%20%20%20%20%20%20%20%20%20%20%20%20%20%5B36.728333%2C%20-118.154444%5D%2C%0A%20%20%20%20%20%20%20%20%20%20%20%20%20%20%20%20%7B%7D%0A%20%20%20%20%20%20%20%20%20%20%20%20%29.addTo%28map_a93b33a491a24264bb735c7d59235d36%29%3B%0A%20%20%20%20%20%20%20%20%0A%20%20%20%20%0A%20%20%20%20%20%20%20%20var%20popup_b36477c7d81d498e975fb316302145f7%20%3D%20L.popup%28%7B%22maxWidth%22%3A%20%22100%25%22%7D%29%3B%0A%0A%20%20%20%20%20%20%20%20%0A%20%20%20%20%20%20%20%20%20%20%20%20var%20html_efbe9a327bc64129a89d0bcd71637609%20%3D%20%24%28%60%3Cdiv%20id%3D%22html_efbe9a327bc64129a89d0bcd71637609%22%20style%3D%22width%3A%20100.0%25%3B%20height%3A%20100.0%25%3B%22%3EManzanar%20%28Up%20to%206/1/42%29%3C/div%3E%60%29%5B0%5D%3B%0A%20%20%20%20%20%20%20%20%20%20%20%20popup_b36477c7d81d498e975fb316302145f7.setContent%28html_efbe9a327bc64129a89d0bcd71637609%29%3B%0A%20%20%20%20%20%20%20%20%0A%0A%20%20%20%20%20%20%20%20marker_f8c81c2c75914dbabf5f37f7f8bca0f0.bindPopup%28popup_b36477c7d81d498e975fb316302145f7%29%0A%20%20%20%20%20%20%20%20%3B%0A%0A%20%20%20%20%20%20%20%20%0A%20%20%20%20%0A%20%20%20%20%0A%20%20%20%20%20%20%20%20%20%20%20%20var%20marker_c035eb7ef74c49f29bb8f3016ef5e355%20%3D%20L.marker%28%0A%20%20%20%20%20%20%20%20%20%20%20%20%20%20%20%20%5B36.7333%2C%20-119.7667%5D%2C%0A%20%20%20%20%20%20%20%20%20%20%20%20%20%20%20%20%7B%7D%0A%20%20%20%20%20%20%20%20%20%20%20%20%29.addTo%28map_a93b33a491a24264bb735c7d59235d36%29%3B%0A%20%20%20%20%20%20%20%20%0A%20%20%20%20%0A%20%20%20%20%20%20%20%20var%20popup_ffea85b097c840b895c9582173e75114%20%3D%20L.popup%28%7B%22maxWidth%22%3A%20%22100%25%22%7D%29%3B%0A%0A%20%20%20%20%20%20%20%20%0A%20%20%20%20%20%20%20%20%20%20%20%20var%20html_ea1182b3bcd24a6fae53ad7566500f3e%20%3D%20%24%28%60%3Cdiv%20id%3D%22html_ea1182b3bcd24a6fae53ad7566500f3e%22%20style%3D%22width%3A%20100.0%25%3B%20height%3A%20100.0%25%3B%22%3EFresno%3C/div%3E%60%29%5B0%5D%3B%0A%20%20%20%20%20%20%20%20%20%20%20%20popup_ffea85b097c840b895c9582173e75114.setContent%28html_ea1182b3bcd24a6fae53ad7566500f3e%29%3B%0A%20%20%20%20%20%20%20%20%0A%0A%20%20%20%20%20%20%20%20marker_c035eb7ef74c49f29bb8f3016ef5e355.bindPopup%28popup_ffea85b097c840b895c9582173e75114%29%0A%20%20%20%20%20%20%20%20%3B%0A%0A%20%20%20%20%20%20%20%20%0A%20%20%20%20%0A%20%20%20%20%0A%20%20%20%20%20%20%20%20%20%20%20%20var%20marker_40ecdb82c18b471588754de3f769eb07%20%3D%20L.marker%28%0A%20%20%20%20%20%20%20%20%20%20%20%20%20%20%20%20%5B39.05%2C%20-121.55005%5D%2C%0A%20%20%20%20%20%20%20%20%20%20%20%20%20%20%20%20%7B%7D%0A%20%20%20%20%20%20%20%20%20%20%20%20%29.addTo%28map_a93b33a491a24264bb735c7d59235d36%29%3B%0A%20%20%20%20%20%20%20%20%0A%20%20%20%20%0A%20%20%20%20%20%20%20%20var%20popup_269821c653714943b4eba52391a266bc%20%3D%20L.popup%28%7B%22maxWidth%22%3A%20%22100%25%22%7D%29%3B%0A%0A%20%20%20%20%20%20%20%20%0A%20%20%20%20%20%20%20%20%20%20%20%20var%20html_e95e2f00d624483192e745a365495c63%20%3D%20%24%28%60%3Cdiv%20id%3D%22html_e95e2f00d624483192e745a365495c63%22%20style%3D%22width%3A%20100.0%25%3B%20height%3A%20100.0%25%3B%22%3EMarysville%20%28Arboga%29%3C/div%3E%60%29%5B0%5D%3B%0A%20%20%20%20%20%20%20%20%20%20%20%20popup_269821c653714943b4eba52391a266bc.setContent%28html_e95e2f00d624483192e745a365495c63%29%3B%0A%20%20%20%20%20%20%20%20%0A%0A%20%20%20%20%20%20%20%20marker_40ecdb82c18b471588754de3f769eb07.bindPopup%28popup_269821c653714943b4eba52391a266bc%29%0A%20%20%20%20%20%20%20%20%3B%0A%0A%20%20%20%20%20%20%20%20%0A%20%20%20%20%0A%20%20%20%20%0A%20%20%20%20%20%20%20%20%20%20%20%20var%20marker_f59b6d96859f4f28a74eb3b2c4a97900%20%3D%20L.marker%28%0A%20%20%20%20%20%20%20%20%20%20%20%20%20%20%20%20%5B34.3833%2C%20-112.2333%5D%2C%0A%20%20%20%20%20%20%20%20%20%20%20%20%20%20%20%20%7B%7D%0A%20%20%20%20%20%20%20%20%20%20%20%20%29.addTo%28map_a93b33a491a24264bb735c7d59235d36%29%3B%0A%20%20%20%20%20%20%20%20%0A%20%20%20%20%0A%20%20%20%20%20%20%20%20var%20popup_fbe7e78bf70447ddb7cba060be3e3de0%20%3D%20L.popup%28%7B%22maxWidth%22%3A%20%22100%25%22%7D%29%3B%0A%0A%20%20%20%20%20%20%20%20%0A%20%20%20%20%20%20%20%20%20%20%20%20var%20html_ad51c04884914680b598b7c7f2b8d2a5%20%3D%20%24%28%60%3Cdiv%20id%3D%22html_ad51c04884914680b598b7c7f2b8d2a5%22%20style%3D%22width%3A%20100.0%25%3B%20height%3A%20100.0%25%3B%22%3EMayer%3C/div%3E%60%29%5B0%5D%3B%0A%20%20%20%20%20%20%20%20%20%20%20%20popup_fbe7e78bf70447ddb7cba060be3e3de0.setContent%28html_ad51c04884914680b598b7c7f2b8d2a5%29%3B%0A%20%20%20%20%20%20%20%20%0A%0A%20%20%20%20%20%20%20%20marker_f59b6d96859f4f28a74eb3b2c4a97900.bindPopup%28popup_fbe7e78bf70447ddb7cba060be3e3de0%29%0A%20%20%20%20%20%20%20%20%3B%0A%0A%20%20%20%20%20%20%20%20%0A%20%20%20%20%0A%20%20%20%20%0A%20%20%20%20%20%20%20%20%20%20%20%20var%20marker_237498f1d43f466f9b6ae633eb187367%20%3D%20L.marker%28%0A%20%20%20%20%20%20%20%20%20%20%20%20%20%20%20%20%5B37.3%2C%20-120.4667%5D%2C%0A%20%20%20%20%20%20%20%20%20%20%20%20%20%20%20%20%7B%7D%0A%20%20%20%20%20%20%20%20%20%20%20%20%29.addTo%28map_a93b33a491a24264bb735c7d59235d36%29%3B%0A%20%20%20%20%20%20%20%20%0A%20%20%20%20%0A%20%20%20%20%20%20%20%20var%20popup_b0348cefe38f4d299ae68f76da87c11d%20%3D%20L.popup%28%7B%22maxWidth%22%3A%20%22100%25%22%7D%29%3B%0A%0A%20%20%20%20%20%20%20%20%0A%20%20%20%20%20%20%20%20%20%20%20%20var%20html_ecc29e0fcd974a388e0d4b43c5a39e8a%20%3D%20%24%28%60%3Cdiv%20id%3D%22html_ecc29e0fcd974a388e0d4b43c5a39e8a%22%20style%3D%22width%3A%20100.0%25%3B%20height%3A%20100.0%25%3B%22%3EMerced%3C/div%3E%60%29%5B0%5D%3B%0A%20%20%20%20%20%20%20%20%20%20%20%20popup_b0348cefe38f4d299ae68f76da87c11d.setContent%28html_ecc29e0fcd974a388e0d4b43c5a39e8a%29%3B%0A%20%20%20%20%20%20%20%20%0A%0A%20%20%20%20%20%20%20%20marker_237498f1d43f466f9b6ae633eb187367.bindPopup%28popup_b0348cefe38f4d299ae68f76da87c11d%29%0A%20%20%20%20%20%20%20%20%3B%0A%0A%20%20%20%20%20%20%20%20%0A%20%20%20%20%0A%20%20%20%20%0A%20%20%20%20%20%20%20%20%20%20%20%20var%20marker_b38abfa56b0144b2b7db725da26209f0%20%3D%20L.marker%28%0A%20%20%20%20%20%20%20%20%20%20%20%20%20%20%20%20%5B36.84%2C%20-119.8%5D%2C%0A%20%20%20%20%20%20%20%20%20%20%20%20%20%20%20%20%7B%7D%0A%20%20%20%20%20%20%20%20%20%20%20%20%29.addTo%28map_a93b33a491a24264bb735c7d59235d36%29%3B%0A%20%20%20%20%20%20%20%20%0A%20%20%20%20%0A%20%20%20%20%20%20%20%20var%20popup_840c82379a2d4759a8dde1d6cfba1f9f%20%3D%20L.popup%28%7B%22maxWidth%22%3A%20%22100%25%22%7D%29%3B%0A%0A%20%20%20%20%20%20%20%20%0A%20%20%20%20%20%20%20%20%20%20%20%20var%20html_523012aa3694478a90105ea846749447%20%3D%20%24%28%60%3Cdiv%20id%3D%22html_523012aa3694478a90105ea846749447%22%20style%3D%22width%3A%20100.0%25%3B%20height%3A%20100.0%25%3B%22%3EPinedale%3C/div%3E%60%29%5B0%5D%3B%0A%20%20%20%20%20%20%20%20%20%20%20%20popup_840c82379a2d4759a8dde1d6cfba1f9f.setContent%28html_523012aa3694478a90105ea846749447%29%3B%0A%20%20%20%20%20%20%20%20%0A%0A%20%20%20%20%20%20%20%20marker_b38abfa56b0144b2b7db725da26209f0.bindPopup%28popup_840c82379a2d4759a8dde1d6cfba1f9f%29%0A%20%20%20%20%20%20%20%20%3B%0A%0A%20%20%20%20%20%20%20%20%0A%20%20%20%20%0A%20%20%20%20%0A%20%20%20%20%20%20%20%20%20%20%20%20var%20marker_3ce3eeb56d394d1eac1ce03fe26bf7e3%20%3D%20L.marker%28%0A%20%20%20%20%20%20%20%20%20%20%20%20%20%20%20%20%5B34.05%2C%20-117.75%5D%2C%0A%20%20%20%20%20%20%20%20%20%20%20%20%20%20%20%20%7B%7D%0A%20%20%20%20%20%20%20%20%20%20%20%20%29.addTo%28map_a93b33a491a24264bb735c7d59235d36%29%3B%0A%20%20%20%20%20%20%20%20%0A%20%20%20%20%0A%20%20%20%20%20%20%20%20var%20popup_d040f6de44c546e49fe54038a2db0dd1%20%3D%20L.popup%28%7B%22maxWidth%22%3A%20%22100%25%22%7D%29%3B%0A%0A%20%20%20%20%20%20%20%20%0A%20%20%20%20%20%20%20%20%20%20%20%20var%20html_10d1d9c7ac1540c79ba2402c3e5fbfbb%20%3D%20%24%28%60%3Cdiv%20id%3D%22html_10d1d9c7ac1540c79ba2402c3e5fbfbb%22%20style%3D%22width%3A%20100.0%25%3B%20height%3A%20100.0%25%3B%22%3EPomona%3C/div%3E%60%29%5B0%5D%3B%0A%20%20%20%20%20%20%20%20%20%20%20%20popup_d040f6de44c546e49fe54038a2db0dd1.setContent%28html_10d1d9c7ac1540c79ba2402c3e5fbfbb%29%3B%0A%20%20%20%20%20%20%20%20%0A%0A%20%20%20%20%20%20%20%20marker_3ce3eeb56d394d1eac1ce03fe26bf7e3.bindPopup%28popup_d040f6de44c546e49fe54038a2db0dd1%29%0A%20%20%20%20%20%20%20%20%3B%0A%0A%20%20%20%20%20%20%20%20%0A%20%20%20%20%0A%20%20%20%20%0A%20%20%20%20%20%20%20%20%20%20%20%20var%20marker_1f00f490f3fa406b8aef596e71381d30%20%3D%20L.marker%28%0A%20%20%20%20%20%20%20%20%20%20%20%20%20%20%20%20%5B45.5167%2C%20-122.6667%5D%2C%0A%20%20%20%20%20%20%20%20%20%20%20%20%20%20%20%20%7B%7D%0A%20%20%20%20%20%20%20%20%20%20%20%20%29.addTo%28map_a93b33a491a24264bb735c7d59235d36%29%3B%0A%20%20%20%20%20%20%20%20%0A%20%20%20%20%0A%20%20%20%20%20%20%20%20var%20popup_1d6d258b2e8746e4ac5c69979b653892%20%3D%20L.popup%28%7B%22maxWidth%22%3A%20%22100%25%22%7D%29%3B%0A%0A%20%20%20%20%20%20%20%20%0A%20%20%20%20%20%20%20%20%20%20%20%20var%20html_5bffbc4ee6ea4c5fbb43f3c8cb13b03c%20%3D%20%24%28%60%3Cdiv%20id%3D%22html_5bffbc4ee6ea4c5fbb43f3c8cb13b03c%22%20style%3D%22width%3A%20100.0%25%3B%20height%3A%20100.0%25%3B%22%3EPortland%20%28Pacific%20Int.%20Exposition%20Ground%29%3C/div%3E%60%29%5B0%5D%3B%0A%20%20%20%20%20%20%20%20%20%20%20%20popup_1d6d258b2e8746e4ac5c69979b653892.setContent%28html_5bffbc4ee6ea4c5fbb43f3c8cb13b03c%29%3B%0A%20%20%20%20%20%20%20%20%0A%0A%20%20%20%20%20%20%20%20marker_1f00f490f3fa406b8aef596e71381d30.bindPopup%28popup_1d6d258b2e8746e4ac5c69979b653892%29%0A%20%20%20%20%20%20%20%20%3B%0A%0A%20%20%20%20%20%20%20%20%0A%20%20%20%20%0A%20%20%20%20%0A%20%20%20%20%20%20%20%20%20%20%20%20var%20marker_5359670a45be441d81b65f61043f11db%20%3D%20L.marker%28%0A%20%20%20%20%20%20%20%20%20%20%20%20%20%20%20%20%5B47.1833%2C%20-122.2833%5D%2C%0A%20%20%20%20%20%20%20%20%20%20%20%20%20%20%20%20%7B%7D%0A%20%20%20%20%20%20%20%20%20%20%20%20%29.addTo%28map_a93b33a491a24264bb735c7d59235d36%29%3B%0A%20%20%20%20%20%20%20%20%0A%20%20%20%20%0A%20%20%20%20%20%20%20%20var%20popup_6e29bfd0e86b4cd08419527ad85c6fc5%20%3D%20L.popup%28%7B%22maxWidth%22%3A%20%22100%25%22%7D%29%3B%0A%0A%20%20%20%20%20%20%20%20%0A%20%20%20%20%20%20%20%20%20%20%20%20var%20html_d8865494e17340a3a207b1635051b7c4%20%3D%20%24%28%60%3Cdiv%20id%3D%22html_d8865494e17340a3a207b1635051b7c4%22%20style%3D%22width%3A%20100.0%25%3B%20height%3A%20100.0%25%3B%22%3EPuyallup%3C/div%3E%60%29%5B0%5D%3B%0A%20%20%20%20%20%20%20%20%20%20%20%20popup_6e29bfd0e86b4cd08419527ad85c6fc5.setContent%28html_d8865494e17340a3a207b1635051b7c4%29%3B%0A%20%20%20%20%20%20%20%20%0A%0A%20%20%20%20%20%20%20%20marker_5359670a45be441d81b65f61043f11db.bindPopup%28popup_6e29bfd0e86b4cd08419527ad85c6fc5%29%0A%20%20%20%20%20%20%20%20%3B%0A%0A%20%20%20%20%20%20%20%20%0A%20%20%20%20%0A%20%20%20%20%0A%20%20%20%20%20%20%20%20%20%20%20%20var%20marker_886fd914e8f948c990d45c170c81b754%20%3D%20L.marker%28%0A%20%20%20%20%20%20%20%20%20%20%20%20%20%20%20%20%5B36.6667%2C%20-121.65%5D%2C%0A%20%20%20%20%20%20%20%20%20%20%20%20%20%20%20%20%7B%7D%0A%20%20%20%20%20%20%20%20%20%20%20%20%29.addTo%28map_a93b33a491a24264bb735c7d59235d36%29%3B%0A%20%20%20%20%20%20%20%20%0A%20%20%20%20%0A%20%20%20%20%20%20%20%20var%20popup_872bb9b2a91f4b82a849000d53a29bce%20%3D%20L.popup%28%7B%22maxWidth%22%3A%20%22100%25%22%7D%29%3B%0A%0A%20%20%20%20%20%20%20%20%0A%20%20%20%20%20%20%20%20%20%20%20%20var%20html_951b2a1b003f4c5489293b08cdf04220%20%3D%20%24%28%60%3Cdiv%20id%3D%22html_951b2a1b003f4c5489293b08cdf04220%22%20style%3D%22width%3A%20100.0%25%3B%20height%3A%20100.0%25%3B%22%3ESalinas%3C/div%3E%60%29%5B0%5D%3B%0A%20%20%20%20%20%20%20%20%20%20%20%20popup_872bb9b2a91f4b82a849000d53a29bce.setContent%28html_951b2a1b003f4c5489293b08cdf04220%29%3B%0A%20%20%20%20%20%20%20%20%0A%0A%20%20%20%20%20%20%20%20marker_886fd914e8f948c990d45c170c81b754.bindPopup%28popup_872bb9b2a91f4b82a849000d53a29bce%29%0A%20%20%20%20%20%20%20%20%3B%0A%0A%20%20%20%20%20%20%20%20%0A%20%20%20%20%0A%20%20%20%20%0A%20%20%20%20%20%20%20%20%20%20%20%20var%20marker_811b572d0df5480286c230638041afe6%20%3D%20L.marker%28%0A%20%20%20%20%20%20%20%20%20%20%20%20%20%20%20%20%5B34.1333%2C%20-118.0333%5D%2C%0A%20%20%20%20%20%20%20%20%20%20%20%20%20%20%20%20%7B%7D%0A%20%20%20%20%20%20%20%20%20%20%20%20%29.addTo%28map_a93b33a491a24264bb735c7d59235d36%29%3B%0A%20%20%20%20%20%20%20%20%0A%20%20%20%20%0A%20%20%20%20%20%20%20%20var%20popup_be15247cce1446a59a6293f4e9bf9266%20%3D%20L.popup%28%7B%22maxWidth%22%3A%20%22100%25%22%7D%29%3B%0A%0A%20%20%20%20%20%20%20%20%0A%20%20%20%20%20%20%20%20%20%20%20%20var%20html_2d3b8814d6f14a34b9ec44b43166c360%20%3D%20%24%28%60%3Cdiv%20id%3D%22html_2d3b8814d6f14a34b9ec44b43166c360%22%20style%3D%22width%3A%20100.0%25%3B%20height%3A%20100.0%25%3B%22%3ESanta%20Anita%3C/div%3E%60%29%5B0%5D%3B%0A%20%20%20%20%20%20%20%20%20%20%20%20popup_be15247cce1446a59a6293f4e9bf9266.setContent%28html_2d3b8814d6f14a34b9ec44b43166c360%29%3B%0A%20%20%20%20%20%20%20%20%0A%0A%20%20%20%20%20%20%20%20marker_811b572d0df5480286c230638041afe6.bindPopup%28popup_be15247cce1446a59a6293f4e9bf9266%29%0A%20%20%20%20%20%20%20%20%3B%0A%0A%20%20%20%20%20%20%20%20%0A%20%20%20%20%0A%20%20%20%20%0A%20%20%20%20%20%20%20%20%20%20%20%20var%20marker_04abaafb43334f4f9d4a47eba945f515%20%3D%20L.marker%28%0A%20%20%20%20%20%20%20%20%20%20%20%20%20%20%20%20%5B37.95%2C%20-121.2833%5D%2C%0A%20%20%20%20%20%20%20%20%20%20%20%20%20%20%20%20%7B%7D%0A%20%20%20%20%20%20%20%20%20%20%20%20%29.addTo%28map_a93b33a491a24264bb735c7d59235d36%29%3B%0A%20%20%20%20%20%20%20%20%0A%20%20%20%20%0A%20%20%20%20%20%20%20%20var%20popup_9fdc81e31ae2497ab5b0998db7909f3d%20%3D%20L.popup%28%7B%22maxWidth%22%3A%20%22100%25%22%7D%29%3B%0A%0A%20%20%20%20%20%20%20%20%0A%20%20%20%20%20%20%20%20%20%20%20%20var%20html_80fe3729815543c9b61644484884f52b%20%3D%20%24%28%60%3Cdiv%20id%3D%22html_80fe3729815543c9b61644484884f52b%22%20style%3D%22width%3A%20100.0%25%3B%20height%3A%20100.0%25%3B%22%3EStockton%3C/div%3E%60%29%5B0%5D%3B%0A%20%20%20%20%20%20%20%20%20%20%20%20popup_9fdc81e31ae2497ab5b0998db7909f3d.setContent%28html_80fe3729815543c9b61644484884f52b%29%3B%0A%20%20%20%20%20%20%20%20%0A%0A%20%20%20%20%20%20%20%20marker_04abaafb43334f4f9d4a47eba945f515.bindPopup%28popup_9fdc81e31ae2497ab5b0998db7909f3d%29%0A%20%20%20%20%20%20%20%20%3B%0A%0A%20%20%20%20%20%20%20%20%0A%20%20%20%20%0A%20%20%20%20%0A%20%20%20%20%20%20%20%20%20%20%20%20var%20marker_4806252f954b42108733f9f45bea97c7%20%3D%20L.marker%28%0A%20%20%20%20%20%20%20%20%20%20%20%20%20%20%20%20%5B37.6167%2C%20-122.4%5D%2C%0A%20%20%20%20%20%20%20%20%20%20%20%20%20%20%20%20%7B%7D%0A%20%20%20%20%20%20%20%20%20%20%20%20%29.addTo%28map_a93b33a491a24264bb735c7d59235d36%29%3B%0A%20%20%20%20%20%20%20%20%0A%20%20%20%20%0A%20%20%20%20%20%20%20%20var%20popup_8c28ad281fc34194a6f9f3f093e2ec74%20%3D%20L.popup%28%7B%22maxWidth%22%3A%20%22100%25%22%7D%29%3B%0A%0A%20%20%20%20%20%20%20%20%0A%20%20%20%20%20%20%20%20%20%20%20%20var%20html_c176ed60d99644ecafaea3a48b63b187%20%3D%20%24%28%60%3Cdiv%20id%3D%22html_c176ed60d99644ecafaea3a48b63b187%22%20style%3D%22width%3A%20100.0%25%3B%20height%3A%20100.0%25%3B%22%3ETanforan%3C/div%3E%60%29%5B0%5D%3B%0A%20%20%20%20%20%20%20%20%20%20%20%20popup_8c28ad281fc34194a6f9f3f093e2ec74.setContent%28html_c176ed60d99644ecafaea3a48b63b187%29%3B%0A%20%20%20%20%20%20%20%20%0A%0A%20%20%20%20%20%20%20%20marker_4806252f954b42108733f9f45bea97c7.bindPopup%28popup_8c28ad281fc34194a6f9f3f093e2ec74%29%0A%20%20%20%20%20%20%20%20%3B%0A%0A%20%20%20%20%20%20%20%20%0A%20%20%20%20%0A%20%20%20%20%0A%20%20%20%20%20%20%20%20%20%20%20%20var%20marker_42ea2b0cb0e14f7ebb32d33316e9fc9a%20%3D%20L.marker%28%0A%20%20%20%20%20%20%20%20%20%20%20%20%20%20%20%20%5B36.2%2C%20-119.3333%5D%2C%0A%20%20%20%20%20%20%20%20%20%20%20%20%20%20%20%20%7B%7D%0A%20%20%20%20%20%20%20%20%20%20%20%20%29.addTo%28map_a93b33a491a24264bb735c7d59235d36%29%3B%0A%20%20%20%20%20%20%20%20%0A%20%20%20%20%0A%20%20%20%20%20%20%20%20var%20popup_5667373ee699432586ab73b20c0df640%20%3D%20L.popup%28%7B%22maxWidth%22%3A%20%22100%25%22%7D%29%3B%0A%0A%20%20%20%20%20%20%20%20%0A%20%20%20%20%20%20%20%20%20%20%20%20var%20html_df3c4b947ec145d9bb51cb0c1eeab416%20%3D%20%24%28%60%3Cdiv%20id%3D%22html_df3c4b947ec145d9bb51cb0c1eeab416%22%20style%3D%22width%3A%20100.0%25%3B%20height%3A%20100.0%25%3B%22%3ETulare%3C/div%3E%60%29%5B0%5D%3B%0A%20%20%20%20%20%20%20%20%20%20%20%20popup_5667373ee699432586ab73b20c0df640.setContent%28html_df3c4b947ec145d9bb51cb0c1eeab416%29%3B%0A%20%20%20%20%20%20%20%20%0A%0A%20%20%20%20%20%20%20%20marker_42ea2b0cb0e14f7ebb32d33316e9fc9a.bindPopup%28popup_5667373ee699432586ab73b20c0df640%29%0A%20%20%20%20%20%20%20%20%3B%0A%0A%20%20%20%20%20%20%20%20%0A%20%20%20%20%0A%20%20%20%20%0A%20%20%20%20%20%20%20%20%20%20%20%20var%20marker_e718db35fc524d51941ef644386a800c%20%3D%20L.marker%28%0A%20%20%20%20%20%20%20%20%20%20%20%20%20%20%20%20%5B37.4833%2C%20-120.8333%5D%2C%0A%20%20%20%20%20%20%20%20%20%20%20%20%20%20%20%20%7B%7D%0A%20%20%20%20%20%20%20%20%20%20%20%20%29.addTo%28map_a93b33a491a24264bb735c7d59235d36%29%3B%0A%20%20%20%20%20%20%20%20%0A%20%20%20%20%0A%20%20%20%20%20%20%20%20var%20popup_58e52820587144e9a6055f7cd2c21e24%20%3D%20L.popup%28%7B%22maxWidth%22%3A%20%22100%25%22%7D%29%3B%0A%0A%20%20%20%20%20%20%20%20%0A%20%20%20%20%20%20%20%20%20%20%20%20var%20html_651507c53f9d41cb8ff78a9b13b9f3c3%20%3D%20%24%28%60%3Cdiv%20id%3D%22html_651507c53f9d41cb8ff78a9b13b9f3c3%22%20style%3D%22width%3A%20100.0%25%3B%20height%3A%20100.0%25%3B%22%3ETurlock%3C/div%3E%60%29%5B0%5D%3B%0A%20%20%20%20%20%20%20%20%20%20%20%20popup_58e52820587144e9a6055f7cd2c21e24.setContent%28html_651507c53f9d41cb8ff78a9b13b9f3c3%29%3B%0A%20%20%20%20%20%20%20%20%0A%0A%20%20%20%20%20%20%20%20marker_e718db35fc524d51941ef644386a800c.bindPopup%28popup_58e52820587144e9a6055f7cd2c21e24%29%0A%20%20%20%20%20%20%20%20%3B%0A%0A%20%20%20%20%20%20%20%20%0A%20%20%20%20%0A%3C/script%3E onload=\"this.contentDocument.open();this.contentDocument.write(    decodeURIComponent(this.getAttribute('data-html')));this.contentDocument.close();\" allowfullscreen webkitallowfullscreen mozallowfullscreen></iframe></div></div>"
      ],
      "text/plain": [
       "<folium.folium.Map at 0x12fe9e740>"
      ]
     },
     "execution_count": 21,
     "metadata": {},
     "output_type": "execute_result"
    }
   ],
   "source": [
    "m = folium.Map(location=[36.733300, -100.766700], zoom_start=4)\n",
    "tooltip = 'Click me!'\n",
    "for i in range(0,len(assembly)):\n",
    "    folium.Marker(\n",
    "      location=(assembly.iloc[i]['Latitude'], assembly.iloc[i]['Longitude']),\n",
    "      popup=assembly.iloc[i]['Location'],\n",
    "      ).add_to(m)\n",
    "m"
   ]
  },
  {
   "cell_type": "markdown",
   "metadata": {},
   "source": [
    "### Detention Camps\n",
    "\n",
    "The map below shows the location of detention centers across the country. Notice that the detention centers are located further inland than assembly centers. This is because a majority of the Japanese-Americans that were held in detention camps were originally from the West Coast. After the order passed, these Japanese-Americans were relocated to nearby assembly centers as authorities prepared to relocate them to further detention centers."
   ]
  },
  {
   "cell_type": "code",
   "execution_count": 22,
   "metadata": {
    "#student": false,
    "execution": {
     "iopub.execute_input": "2022-10-25T20:55:25.709650Z",
     "iopub.status.busy": "2022-10-25T20:55:25.709278Z",
     "iopub.status.idle": "2022-10-25T20:55:25.748682Z",
     "shell.execute_reply": "2022-10-25T20:55:25.747647Z",
     "shell.execute_reply.started": "2022-10-25T20:55:25.709624Z"
    }
   },
   "outputs": [
    {
     "data": {
      "text/html": [
       "<div style=\"width:100%;\"><div style=\"position:relative;width:100%;height:0;padding-bottom:60%;\"><span style=\"color:#565656\">Make this Notebook Trusted to load map: File -> Trust Notebook</span><iframe src=\"about:blank\" style=\"position:absolute;width:100%;height:100%;left:0;top:0;border:none !important;\" data-html=%3C%21DOCTYPE%20html%3E%0A%3Chead%3E%20%20%20%20%0A%20%20%20%20%3Cmeta%20http-equiv%3D%22content-type%22%20content%3D%22text/html%3B%20charset%3DUTF-8%22%20/%3E%0A%20%20%20%20%0A%20%20%20%20%20%20%20%20%3Cscript%3E%0A%20%20%20%20%20%20%20%20%20%20%20%20L_NO_TOUCH%20%3D%20false%3B%0A%20%20%20%20%20%20%20%20%20%20%20%20L_DISABLE_3D%20%3D%20false%3B%0A%20%20%20%20%20%20%20%20%3C/script%3E%0A%20%20%20%20%0A%20%20%20%20%3Cstyle%3Ehtml%2C%20body%20%7Bwidth%3A%20100%25%3Bheight%3A%20100%25%3Bmargin%3A%200%3Bpadding%3A%200%3B%7D%3C/style%3E%0A%20%20%20%20%3Cstyle%3E%23map%20%7Bposition%3Aabsolute%3Btop%3A0%3Bbottom%3A0%3Bright%3A0%3Bleft%3A0%3B%7D%3C/style%3E%0A%20%20%20%20%3Cscript%20src%3D%22https%3A//cdn.jsdelivr.net/npm/leaflet%401.6.0/dist/leaflet.js%22%3E%3C/script%3E%0A%20%20%20%20%3Cscript%20src%3D%22https%3A//code.jquery.com/jquery-1.12.4.min.js%22%3E%3C/script%3E%0A%20%20%20%20%3Cscript%20src%3D%22https%3A//maxcdn.bootstrapcdn.com/bootstrap/3.2.0/js/bootstrap.min.js%22%3E%3C/script%3E%0A%20%20%20%20%3Cscript%20src%3D%22https%3A//cdnjs.cloudflare.com/ajax/libs/Leaflet.awesome-markers/2.0.2/leaflet.awesome-markers.js%22%3E%3C/script%3E%0A%20%20%20%20%3Clink%20rel%3D%22stylesheet%22%20href%3D%22https%3A//cdn.jsdelivr.net/npm/leaflet%401.6.0/dist/leaflet.css%22/%3E%0A%20%20%20%20%3Clink%20rel%3D%22stylesheet%22%20href%3D%22https%3A//maxcdn.bootstrapcdn.com/bootstrap/3.2.0/css/bootstrap.min.css%22/%3E%0A%20%20%20%20%3Clink%20rel%3D%22stylesheet%22%20href%3D%22https%3A//maxcdn.bootstrapcdn.com/bootstrap/3.2.0/css/bootstrap-theme.min.css%22/%3E%0A%20%20%20%20%3Clink%20rel%3D%22stylesheet%22%20href%3D%22https%3A//maxcdn.bootstrapcdn.com/font-awesome/4.6.3/css/font-awesome.min.css%22/%3E%0A%20%20%20%20%3Clink%20rel%3D%22stylesheet%22%20href%3D%22https%3A//cdnjs.cloudflare.com/ajax/libs/Leaflet.awesome-markers/2.0.2/leaflet.awesome-markers.css%22/%3E%0A%20%20%20%20%3Clink%20rel%3D%22stylesheet%22%20href%3D%22https%3A//cdn.jsdelivr.net/gh/python-visualization/folium/folium/templates/leaflet.awesome.rotate.min.css%22/%3E%0A%20%20%20%20%0A%20%20%20%20%20%20%20%20%20%20%20%20%3Cmeta%20name%3D%22viewport%22%20content%3D%22width%3Ddevice-width%2C%0A%20%20%20%20%20%20%20%20%20%20%20%20%20%20%20%20initial-scale%3D1.0%2C%20maximum-scale%3D1.0%2C%20user-scalable%3Dno%22%20/%3E%0A%20%20%20%20%20%20%20%20%20%20%20%20%3Cstyle%3E%0A%20%20%20%20%20%20%20%20%20%20%20%20%20%20%20%20%23map_566c02baf87f4d97b18af532b7a94756%20%7B%0A%20%20%20%20%20%20%20%20%20%20%20%20%20%20%20%20%20%20%20%20position%3A%20relative%3B%0A%20%20%20%20%20%20%20%20%20%20%20%20%20%20%20%20%20%20%20%20width%3A%20100.0%25%3B%0A%20%20%20%20%20%20%20%20%20%20%20%20%20%20%20%20%20%20%20%20height%3A%20100.0%25%3B%0A%20%20%20%20%20%20%20%20%20%20%20%20%20%20%20%20%20%20%20%20left%3A%200.0%25%3B%0A%20%20%20%20%20%20%20%20%20%20%20%20%20%20%20%20%20%20%20%20top%3A%200.0%25%3B%0A%20%20%20%20%20%20%20%20%20%20%20%20%20%20%20%20%7D%0A%20%20%20%20%20%20%20%20%20%20%20%20%3C/style%3E%0A%20%20%20%20%20%20%20%20%0A%3C/head%3E%0A%3Cbody%3E%20%20%20%20%0A%20%20%20%20%0A%20%20%20%20%20%20%20%20%20%20%20%20%3Cdiv%20class%3D%22folium-map%22%20id%3D%22map_566c02baf87f4d97b18af532b7a94756%22%20%3E%3C/div%3E%0A%20%20%20%20%20%20%20%20%0A%3C/body%3E%0A%3Cscript%3E%20%20%20%20%0A%20%20%20%20%0A%20%20%20%20%20%20%20%20%20%20%20%20var%20map_566c02baf87f4d97b18af532b7a94756%20%3D%20L.map%28%0A%20%20%20%20%20%20%20%20%20%20%20%20%20%20%20%20%22map_566c02baf87f4d97b18af532b7a94756%22%2C%0A%20%20%20%20%20%20%20%20%20%20%20%20%20%20%20%20%7B%0A%20%20%20%20%20%20%20%20%20%20%20%20%20%20%20%20%20%20%20%20center%3A%20%5B36.7333%2C%20-100.7667%5D%2C%0A%20%20%20%20%20%20%20%20%20%20%20%20%20%20%20%20%20%20%20%20crs%3A%20L.CRS.EPSG3857%2C%0A%20%20%20%20%20%20%20%20%20%20%20%20%20%20%20%20%20%20%20%20zoom%3A%204%2C%0A%20%20%20%20%20%20%20%20%20%20%20%20%20%20%20%20%20%20%20%20zoomControl%3A%20true%2C%0A%20%20%20%20%20%20%20%20%20%20%20%20%20%20%20%20%20%20%20%20preferCanvas%3A%20false%2C%0A%20%20%20%20%20%20%20%20%20%20%20%20%20%20%20%20%7D%0A%20%20%20%20%20%20%20%20%20%20%20%20%29%3B%0A%0A%20%20%20%20%20%20%20%20%20%20%20%20%0A%0A%20%20%20%20%20%20%20%20%0A%20%20%20%20%0A%20%20%20%20%20%20%20%20%20%20%20%20var%20tile_layer_dfd33d7b30354ba19f618d6f10bea24e%20%3D%20L.tileLayer%28%0A%20%20%20%20%20%20%20%20%20%20%20%20%20%20%20%20%22https%3A//%7Bs%7D.tile.openstreetmap.org/%7Bz%7D/%7Bx%7D/%7By%7D.png%22%2C%0A%20%20%20%20%20%20%20%20%20%20%20%20%20%20%20%20%7B%22attribution%22%3A%20%22Data%20by%20%5Cu0026copy%3B%20%5Cu003ca%20href%3D%5C%22http%3A//openstreetmap.org%5C%22%5Cu003eOpenStreetMap%5Cu003c/a%5Cu003e%2C%20under%20%5Cu003ca%20href%3D%5C%22http%3A//www.openstreetmap.org/copyright%5C%22%5Cu003eODbL%5Cu003c/a%5Cu003e.%22%2C%20%22detectRetina%22%3A%20false%2C%20%22maxNativeZoom%22%3A%2018%2C%20%22maxZoom%22%3A%2018%2C%20%22minZoom%22%3A%200%2C%20%22noWrap%22%3A%20false%2C%20%22opacity%22%3A%201%2C%20%22subdomains%22%3A%20%22abc%22%2C%20%22tms%22%3A%20false%7D%0A%20%20%20%20%20%20%20%20%20%20%20%20%29.addTo%28map_566c02baf87f4d97b18af532b7a94756%29%3B%0A%20%20%20%20%20%20%20%20%0A%20%20%20%20%0A%20%20%20%20%20%20%20%20%20%20%20%20var%20marker_015b5e3c00a8443fb3298c21036c82f6%20%3D%20L.marker%28%0A%20%20%20%20%20%20%20%20%20%20%20%20%20%20%20%20%5B33.065083%2C%20-111.830528%5D%2C%0A%20%20%20%20%20%20%20%20%20%20%20%20%20%20%20%20%7B%7D%0A%20%20%20%20%20%20%20%20%20%20%20%20%29.addTo%28map_566c02baf87f4d97b18af532b7a94756%29%3B%0A%20%20%20%20%20%20%20%20%0A%20%20%20%20%0A%20%20%20%20%20%20%20%20var%20popup_696d2085685a41d88b0da214fcda2f2a%20%3D%20L.popup%28%7B%22maxWidth%22%3A%20%22100%25%22%7D%29%3B%0A%0A%20%20%20%20%20%20%20%20%0A%20%20%20%20%20%20%20%20%20%20%20%20var%20html_7d7630281e8a48e2ab09703e047ac51f%20%3D%20%24%28%60%3Cdiv%20id%3D%22html_7d7630281e8a48e2ab09703e047ac51f%22%20style%3D%22width%3A%20100.0%25%3B%20height%3A%20100.0%25%3B%22%3EGila%20River%20Relocation%20Center%3C/div%3E%60%29%5B0%5D%3B%0A%20%20%20%20%20%20%20%20%20%20%20%20popup_696d2085685a41d88b0da214fcda2f2a.setContent%28html_7d7630281e8a48e2ab09703e047ac51f%29%3B%0A%20%20%20%20%20%20%20%20%0A%0A%20%20%20%20%20%20%20%20marker_015b5e3c00a8443fb3298c21036c82f6.bindPopup%28popup_696d2085685a41d88b0da214fcda2f2a%29%0A%20%20%20%20%20%20%20%20%3B%0A%0A%20%20%20%20%20%20%20%20%0A%20%20%20%20%0A%20%20%20%20%0A%20%20%20%20%20%20%20%20%20%20%20%20var%20marker_b45d7c68c258409db47c55a7b0365470%20%3D%20L.marker%28%0A%20%20%20%20%20%20%20%20%20%20%20%20%20%20%20%20%5B33.9875%2C%20-114.401111%5D%2C%0A%20%20%20%20%20%20%20%20%20%20%20%20%20%20%20%20%7B%7D%0A%20%20%20%20%20%20%20%20%20%20%20%20%29.addTo%28map_566c02baf87f4d97b18af532b7a94756%29%3B%0A%20%20%20%20%20%20%20%20%0A%20%20%20%20%0A%20%20%20%20%20%20%20%20var%20popup_4521d84c3a384aa4aa5488737aca1bc1%20%3D%20L.popup%28%7B%22maxWidth%22%3A%20%22100%25%22%7D%29%3B%0A%0A%20%20%20%20%20%20%20%20%0A%20%20%20%20%20%20%20%20%20%20%20%20var%20html_ab41460103e6434599c10fdf5909b318%20%3D%20%24%28%60%3Cdiv%20id%3D%22html_ab41460103e6434599c10fdf5909b318%22%20style%3D%22width%3A%20100.0%25%3B%20height%3A%20100.0%25%3B%22%3EPoston%20Relocation%20Center%3C/div%3E%60%29%5B0%5D%3B%0A%20%20%20%20%20%20%20%20%20%20%20%20popup_4521d84c3a384aa4aa5488737aca1bc1.setContent%28html_ab41460103e6434599c10fdf5909b318%29%3B%0A%20%20%20%20%20%20%20%20%0A%0A%20%20%20%20%20%20%20%20marker_b45d7c68c258409db47c55a7b0365470.bindPopup%28popup_4521d84c3a384aa4aa5488737aca1bc1%29%0A%20%20%20%20%20%20%20%20%3B%0A%0A%20%20%20%20%20%20%20%20%0A%20%20%20%20%0A%20%20%20%20%0A%20%20%20%20%20%20%20%20%20%20%20%20var%20marker_620c8fcb61eb46f09d945f32aae2f7f4%20%3D%20L.marker%28%0A%20%20%20%20%20%20%20%20%20%20%20%20%20%20%20%20%5B33.411667%2C%20-91.461111%5D%2C%0A%20%20%20%20%20%20%20%20%20%20%20%20%20%20%20%20%7B%7D%0A%20%20%20%20%20%20%20%20%20%20%20%20%29.addTo%28map_566c02baf87f4d97b18af532b7a94756%29%3B%0A%20%20%20%20%20%20%20%20%0A%20%20%20%20%0A%20%20%20%20%20%20%20%20var%20popup_45db3d639062434e88552d1088fb8fc7%20%3D%20L.popup%28%7B%22maxWidth%22%3A%20%22100%25%22%7D%29%3B%0A%0A%20%20%20%20%20%20%20%20%0A%20%20%20%20%20%20%20%20%20%20%20%20var%20html_bf4321245eac4e5ca2674d1d33353e8a%20%3D%20%24%28%60%3Cdiv%20id%3D%22html_bf4321245eac4e5ca2674d1d33353e8a%22%20style%3D%22width%3A%20100.0%25%3B%20height%3A%20100.0%25%3B%22%3EJerome%20Relocation%20Center%3C/div%3E%60%29%5B0%5D%3B%0A%20%20%20%20%20%20%20%20%20%20%20%20popup_45db3d639062434e88552d1088fb8fc7.setContent%28html_bf4321245eac4e5ca2674d1d33353e8a%29%3B%0A%20%20%20%20%20%20%20%20%0A%0A%20%20%20%20%20%20%20%20marker_620c8fcb61eb46f09d945f32aae2f7f4.bindPopup%28popup_45db3d639062434e88552d1088fb8fc7%29%0A%20%20%20%20%20%20%20%20%3B%0A%0A%20%20%20%20%20%20%20%20%0A%20%20%20%20%0A%20%20%20%20%0A%20%20%20%20%20%20%20%20%20%20%20%20var%20marker_bb758603e2e7476a8c0c0a75692f198b%20%3D%20L.marker%28%0A%20%20%20%20%20%20%20%20%20%20%20%20%20%20%20%20%5B33.766297%2C%20-91.280158%5D%2C%0A%20%20%20%20%20%20%20%20%20%20%20%20%20%20%20%20%7B%7D%0A%20%20%20%20%20%20%20%20%20%20%20%20%29.addTo%28map_566c02baf87f4d97b18af532b7a94756%29%3B%0A%20%20%20%20%20%20%20%20%0A%20%20%20%20%0A%20%20%20%20%20%20%20%20var%20popup_465daac96ca74bb3b96feaf633518fcf%20%3D%20L.popup%28%7B%22maxWidth%22%3A%20%22100%25%22%7D%29%3B%0A%0A%20%20%20%20%20%20%20%20%0A%20%20%20%20%20%20%20%20%20%20%20%20var%20html_63465dbbf5f749beb39f9bb339b7e960%20%3D%20%24%28%60%3Cdiv%20id%3D%22html_63465dbbf5f749beb39f9bb339b7e960%22%20style%3D%22width%3A%20100.0%25%3B%20height%3A%20100.0%25%3B%22%3ERohwer%20Relocation%20Center%3C/div%3E%60%29%5B0%5D%3B%0A%20%20%20%20%20%20%20%20%20%20%20%20popup_465daac96ca74bb3b96feaf633518fcf.setContent%28html_63465dbbf5f749beb39f9bb339b7e960%29%3B%0A%20%20%20%20%20%20%20%20%0A%0A%20%20%20%20%20%20%20%20marker_bb758603e2e7476a8c0c0a75692f198b.bindPopup%28popup_465daac96ca74bb3b96feaf633518fcf%29%0A%20%20%20%20%20%20%20%20%3B%0A%0A%20%20%20%20%20%20%20%20%0A%20%20%20%20%0A%20%20%20%20%0A%20%20%20%20%20%20%20%20%20%20%20%20var%20marker_9e962402f93e4a4b9ecd73a45b2b04b1%20%3D%20L.marker%28%0A%20%20%20%20%20%20%20%20%20%20%20%20%20%20%20%20%5B36.728333%2C%20-118.154444%5D%2C%0A%20%20%20%20%20%20%20%20%20%20%20%20%20%20%20%20%7B%7D%0A%20%20%20%20%20%20%20%20%20%20%20%20%29.addTo%28map_566c02baf87f4d97b18af532b7a94756%29%3B%0A%20%20%20%20%20%20%20%20%0A%20%20%20%20%0A%20%20%20%20%20%20%20%20var%20popup_d14cdae900ca4fddb32b6d4185c57edf%20%3D%20L.popup%28%7B%22maxWidth%22%3A%20%22100%25%22%7D%29%3B%0A%0A%20%20%20%20%20%20%20%20%0A%20%20%20%20%20%20%20%20%20%20%20%20var%20html_c115454e10674beab6da07fe86e55fb9%20%3D%20%24%28%60%3Cdiv%20id%3D%22html_c115454e10674beab6da07fe86e55fb9%22%20style%3D%22width%3A%20100.0%25%3B%20height%3A%20100.0%25%3B%22%3EManzanar%20Relocation%20Center%3C/div%3E%60%29%5B0%5D%3B%0A%20%20%20%20%20%20%20%20%20%20%20%20popup_d14cdae900ca4fddb32b6d4185c57edf.setContent%28html_c115454e10674beab6da07fe86e55fb9%29%3B%0A%20%20%20%20%20%20%20%20%0A%0A%20%20%20%20%20%20%20%20marker_9e962402f93e4a4b9ecd73a45b2b04b1.bindPopup%28popup_d14cdae900ca4fddb32b6d4185c57edf%29%0A%20%20%20%20%20%20%20%20%3B%0A%0A%20%20%20%20%20%20%20%20%0A%20%20%20%20%0A%20%20%20%20%0A%20%20%20%20%20%20%20%20%20%20%20%20var%20marker_bf7a4dd62ecc49059e748b1f8a76fd1a%20%3D%20L.marker%28%0A%20%20%20%20%20%20%20%20%20%20%20%20%20%20%20%20%5B41.889444%2C%20-121.374722%5D%2C%0A%20%20%20%20%20%20%20%20%20%20%20%20%20%20%20%20%7B%7D%0A%20%20%20%20%20%20%20%20%20%20%20%20%29.addTo%28map_566c02baf87f4d97b18af532b7a94756%29%3B%0A%20%20%20%20%20%20%20%20%0A%20%20%20%20%0A%20%20%20%20%20%20%20%20var%20popup_6e906d6fba144a62bd01537f90d568a1%20%3D%20L.popup%28%7B%22maxWidth%22%3A%20%22100%25%22%7D%29%3B%0A%0A%20%20%20%20%20%20%20%20%0A%20%20%20%20%20%20%20%20%20%20%20%20var%20html_4cb005eee3944fbe8018c5e467b40575%20%3D%20%24%28%60%3Cdiv%20id%3D%22html_4cb005eee3944fbe8018c5e467b40575%22%20style%3D%22width%3A%20100.0%25%3B%20height%3A%20100.0%25%3B%22%3ETule%20Lake%20Relocation%20Center%3C/div%3E%60%29%5B0%5D%3B%0A%20%20%20%20%20%20%20%20%20%20%20%20popup_6e906d6fba144a62bd01537f90d568a1.setContent%28html_4cb005eee3944fbe8018c5e467b40575%29%3B%0A%20%20%20%20%20%20%20%20%0A%0A%20%20%20%20%20%20%20%20marker_bf7a4dd62ecc49059e748b1f8a76fd1a.bindPopup%28popup_6e906d6fba144a62bd01537f90d568a1%29%0A%20%20%20%20%20%20%20%20%3B%0A%0A%20%20%20%20%20%20%20%20%0A%20%20%20%20%0A%20%20%20%20%0A%20%20%20%20%20%20%20%20%20%20%20%20var%20marker_55f3d51cf28f4ea18fc0faf2bd2502c9%20%3D%20L.marker%28%0A%20%20%20%20%20%20%20%20%20%20%20%20%20%20%20%20%5B38.049444%2C%20-102.328611%5D%2C%0A%20%20%20%20%20%20%20%20%20%20%20%20%20%20%20%20%7B%7D%0A%20%20%20%20%20%20%20%20%20%20%20%20%29.addTo%28map_566c02baf87f4d97b18af532b7a94756%29%3B%0A%20%20%20%20%20%20%20%20%0A%20%20%20%20%0A%20%20%20%20%20%20%20%20var%20popup_5288edb2038a47fcae733e9d4bc48589%20%3D%20L.popup%28%7B%22maxWidth%22%3A%20%22100%25%22%7D%29%3B%0A%0A%20%20%20%20%20%20%20%20%0A%20%20%20%20%20%20%20%20%20%20%20%20var%20html_fdca149cb8d24ca587edfc965ae87dd4%20%3D%20%24%28%60%3Cdiv%20id%3D%22html_fdca149cb8d24ca587edfc965ae87dd4%22%20style%3D%22width%3A%20100.0%25%3B%20height%3A%20100.0%25%3B%22%3EGranada%20Relocation%20Center%3C/div%3E%60%29%5B0%5D%3B%0A%20%20%20%20%20%20%20%20%20%20%20%20popup_5288edb2038a47fcae733e9d4bc48589.setContent%28html_fdca149cb8d24ca587edfc965ae87dd4%29%3B%0A%20%20%20%20%20%20%20%20%0A%0A%20%20%20%20%20%20%20%20marker_55f3d51cf28f4ea18fc0faf2bd2502c9.bindPopup%28popup_5288edb2038a47fcae733e9d4bc48589%29%0A%20%20%20%20%20%20%20%20%3B%0A%0A%20%20%20%20%20%20%20%20%0A%20%20%20%20%0A%20%20%20%20%0A%20%20%20%20%20%20%20%20%20%20%20%20var%20marker_6cd3ca316896406ca65885afef7f44c4%20%3D%20L.marker%28%0A%20%20%20%20%20%20%20%20%20%20%20%20%20%20%20%20%5B42.679%2C%20-114.244%5D%2C%0A%20%20%20%20%20%20%20%20%20%20%20%20%20%20%20%20%7B%7D%0A%20%20%20%20%20%20%20%20%20%20%20%20%29.addTo%28map_566c02baf87f4d97b18af532b7a94756%29%3B%0A%20%20%20%20%20%20%20%20%0A%20%20%20%20%0A%20%20%20%20%20%20%20%20var%20popup_e6d694e42ed2400385b5b44b264d5e1d%20%3D%20L.popup%28%7B%22maxWidth%22%3A%20%22100%25%22%7D%29%3B%0A%0A%20%20%20%20%20%20%20%20%0A%20%20%20%20%20%20%20%20%20%20%20%20var%20html_846c2ea6c3694790bc8089e92830c431%20%3D%20%24%28%60%3Cdiv%20id%3D%22html_846c2ea6c3694790bc8089e92830c431%22%20style%3D%22width%3A%20100.0%25%3B%20height%3A%20100.0%25%3B%22%3EMinidoka%20Relocation%20Center%3C/div%3E%60%29%5B0%5D%3B%0A%20%20%20%20%20%20%20%20%20%20%20%20popup_e6d694e42ed2400385b5b44b264d5e1d.setContent%28html_846c2ea6c3694790bc8089e92830c431%29%3B%0A%20%20%20%20%20%20%20%20%0A%0A%20%20%20%20%20%20%20%20marker_6cd3ca316896406ca65885afef7f44c4.bindPopup%28popup_e6d694e42ed2400385b5b44b264d5e1d%29%0A%20%20%20%20%20%20%20%20%3B%0A%0A%20%20%20%20%20%20%20%20%0A%20%20%20%20%0A%20%20%20%20%0A%20%20%20%20%20%20%20%20%20%20%20%20var%20marker_dd7ad776a75a4873b3364ab69e76f57e%20%3D%20L.marker%28%0A%20%20%20%20%20%20%20%20%20%20%20%20%20%20%20%20%5B39.4183361%2C%20-112.7087498%5D%2C%0A%20%20%20%20%20%20%20%20%20%20%20%20%20%20%20%20%7B%7D%0A%20%20%20%20%20%20%20%20%20%20%20%20%29.addTo%28map_566c02baf87f4d97b18af532b7a94756%29%3B%0A%20%20%20%20%20%20%20%20%0A%20%20%20%20%0A%20%20%20%20%20%20%20%20var%20popup_4e4db125728f4de1b17b35e4b5286f74%20%3D%20L.popup%28%7B%22maxWidth%22%3A%20%22100%25%22%7D%29%3B%0A%0A%20%20%20%20%20%20%20%20%0A%20%20%20%20%20%20%20%20%20%20%20%20var%20html_89cd3b7a0aa04e58aac6d4eb2d678436%20%3D%20%24%28%60%3Cdiv%20id%3D%22html_89cd3b7a0aa04e58aac6d4eb2d678436%22%20style%3D%22width%3A%20100.0%25%3B%20height%3A%20100.0%25%3B%22%3ETopaz%20Relocation%20Center%3C/div%3E%60%29%5B0%5D%3B%0A%20%20%20%20%20%20%20%20%20%20%20%20popup_4e4db125728f4de1b17b35e4b5286f74.setContent%28html_89cd3b7a0aa04e58aac6d4eb2d678436%29%3B%0A%20%20%20%20%20%20%20%20%0A%0A%20%20%20%20%20%20%20%20marker_dd7ad776a75a4873b3364ab69e76f57e.bindPopup%28popup_4e4db125728f4de1b17b35e4b5286f74%29%0A%20%20%20%20%20%20%20%20%3B%0A%0A%20%20%20%20%20%20%20%20%0A%20%20%20%20%0A%20%20%20%20%0A%20%20%20%20%20%20%20%20%20%20%20%20var%20marker_ab4e40cc1bce44bb946d2a343c3a4ee4%20%3D%20L.marker%28%0A%20%20%20%20%20%20%20%20%20%20%20%20%20%20%20%20%5B44.671667%2C%20-108.946389%5D%2C%0A%20%20%20%20%20%20%20%20%20%20%20%20%20%20%20%20%7B%7D%0A%20%20%20%20%20%20%20%20%20%20%20%20%29.addTo%28map_566c02baf87f4d97b18af532b7a94756%29%3B%0A%20%20%20%20%20%20%20%20%0A%20%20%20%20%0A%20%20%20%20%20%20%20%20var%20popup_388e5f030d594553a68615ab575108c9%20%3D%20L.popup%28%7B%22maxWidth%22%3A%20%22100%25%22%7D%29%3B%0A%0A%20%20%20%20%20%20%20%20%0A%20%20%20%20%20%20%20%20%20%20%20%20var%20html_edfbfa4737904af3a28b4fc752300f1c%20%3D%20%24%28%60%3Cdiv%20id%3D%22html_edfbfa4737904af3a28b4fc752300f1c%22%20style%3D%22width%3A%20100.0%25%3B%20height%3A%20100.0%25%3B%22%3EHeart%20Mountain%20Relocation%20Center%3C/div%3E%60%29%5B0%5D%3B%0A%20%20%20%20%20%20%20%20%20%20%20%20popup_388e5f030d594553a68615ab575108c9.setContent%28html_edfbfa4737904af3a28b4fc752300f1c%29%3B%0A%20%20%20%20%20%20%20%20%0A%0A%20%20%20%20%20%20%20%20marker_ab4e40cc1bce44bb946d2a343c3a4ee4.bindPopup%28popup_388e5f030d594553a68615ab575108c9%29%0A%20%20%20%20%20%20%20%20%3B%0A%0A%20%20%20%20%20%20%20%20%0A%20%20%20%20%0A%3C/script%3E onload=\"this.contentDocument.open();this.contentDocument.write(    decodeURIComponent(this.getAttribute('data-html')));this.contentDocument.close();\" allowfullscreen webkitallowfullscreen mozallowfullscreen></iframe></div></div>"
      ],
      "text/plain": [
       "<folium.folium.Map at 0x12c7606d0>"
      ]
     },
     "execution_count": 22,
     "metadata": {},
     "output_type": "execute_result"
    }
   ],
   "source": [
    "m = folium.Map(location=[36.733300, -100.766700], zoom_start=4)\n",
    "tooltip = 'Click me!'\n",
    "for i in range(0,len(camps)):\n",
    "    folium.Marker(\n",
    "      location=(camps.iloc[i]['Latitude'], camps.iloc[i]['Longitude']),\n",
    "      popup=camps.iloc[i]['Internment Camp Name'],\n",
    "      ).add_to(m)\n",
    "m"
   ]
  },
  {
   "cell_type": "markdown",
   "metadata": {
    "#student": false
   },
   "source": [
    "---\n",
    "\n",
    "## Section 5: Mapping and Movement<a id='section5'></a>\n",
    "\n",
    "The abrupt forced relocation of countless Japanese-Americans during World War II resulted in a lasting change in the location of many of these Japanese-American families even after the war ended. During the relocation process many families were forced to quickly sell their possessions, businesses and land holdings. Those who did not, often came back to find their possessions gone and homes vandalized. As a result, many who were incarcerated that lived on the West Coast of the United States did not return to their previous homes after the war.\n",
    "\n",
    "<img src=\"images/Hayward_Friends_say_goodbye.png\" width=\"400\">\n",
    "<center> Neighbors in Hayward, California saying goodbye.\n",
    "    \n",
    "<center> This image is available from the United States Library of Congress's Prints and Photographs division.\n",
    "    "
   ]
  },
  {
   "cell_type": "markdown",
   "metadata": {},
   "source": [
    "### Location of Prisoners Before Relocation\n",
    "\n",
    "The map below shows the population of each county at the start of World War II in 1940, just before the Executive Order 9066 in 1942. Japanese Americans were largely concentrated on the West Coast, with the largest population in Los Angeles.\n"
   ]
  },
  {
   "cell_type": "code",
   "execution_count": 23,
   "metadata": {
    "#student": false,
    "execution": {
     "iopub.execute_input": "2022-10-25T20:55:27.204097Z",
     "iopub.status.busy": "2022-10-25T20:55:27.203578Z",
     "iopub.status.idle": "2022-10-25T20:55:27.507482Z",
     "shell.execute_reply": "2022-10-25T20:55:27.502394Z",
     "shell.execute_reply.started": "2022-10-25T20:55:27.204071Z"
    }
   },
   "outputs": [
    {
     "data": {
      "text/html": [
       "<div style=\"width:100%;\"><div style=\"position:relative;width:100%;height:0;padding-bottom:60%;\"><span style=\"color:#565656\">Make this Notebook Trusted to load map: File -> Trust Notebook</span><iframe src=\"about:blank\" style=\"position:absolute;width:100%;height:100%;left:0;top:0;border:none !important;\" data-html=%3C%21DOCTYPE%20html%3E%0A%3Chead%3E%20%20%20%20%0A%20%20%20%20%3Cmeta%20http-equiv%3D%22content-type%22%20content%3D%22text/html%3B%20charset%3DUTF-8%22%20/%3E%0A%20%20%20%20%0A%20%20%20%20%20%20%20%20%3Cscript%3E%0A%20%20%20%20%20%20%20%20%20%20%20%20L_NO_TOUCH%20%3D%20false%3B%0A%20%20%20%20%20%20%20%20%20%20%20%20L_DISABLE_3D%20%3D%20false%3B%0A%20%20%20%20%20%20%20%20%3C/script%3E%0A%20%20%20%20%0A%20%20%20%20%3Cstyle%3Ehtml%2C%20body%20%7Bwidth%3A%20100%25%3Bheight%3A%20100%25%3Bmargin%3A%200%3Bpadding%3A%200%3B%7D%3C/style%3E%0A%20%20%20%20%3Cstyle%3E%23map%20%7Bposition%3Aabsolute%3Btop%3A0%3Bbottom%3A0%3Bright%3A0%3Bleft%3A0%3B%7D%3C/style%3E%0A%20%20%20%20%3Cscript%20src%3D%22https%3A//cdn.jsdelivr.net/npm/leaflet%401.6.0/dist/leaflet.js%22%3E%3C/script%3E%0A%20%20%20%20%3Cscript%20src%3D%22https%3A//code.jquery.com/jquery-1.12.4.min.js%22%3E%3C/script%3E%0A%20%20%20%20%3Cscript%20src%3D%22https%3A//maxcdn.bootstrapcdn.com/bootstrap/3.2.0/js/bootstrap.min.js%22%3E%3C/script%3E%0A%20%20%20%20%3Cscript%20src%3D%22https%3A//cdnjs.cloudflare.com/ajax/libs/Leaflet.awesome-markers/2.0.2/leaflet.awesome-markers.js%22%3E%3C/script%3E%0A%20%20%20%20%3Clink%20rel%3D%22stylesheet%22%20href%3D%22https%3A//cdn.jsdelivr.net/npm/leaflet%401.6.0/dist/leaflet.css%22/%3E%0A%20%20%20%20%3Clink%20rel%3D%22stylesheet%22%20href%3D%22https%3A//maxcdn.bootstrapcdn.com/bootstrap/3.2.0/css/bootstrap.min.css%22/%3E%0A%20%20%20%20%3Clink%20rel%3D%22stylesheet%22%20href%3D%22https%3A//maxcdn.bootstrapcdn.com/bootstrap/3.2.0/css/bootstrap-theme.min.css%22/%3E%0A%20%20%20%20%3Clink%20rel%3D%22stylesheet%22%20href%3D%22https%3A//maxcdn.bootstrapcdn.com/font-awesome/4.6.3/css/font-awesome.min.css%22/%3E%0A%20%20%20%20%3Clink%20rel%3D%22stylesheet%22%20href%3D%22https%3A//cdnjs.cloudflare.com/ajax/libs/Leaflet.awesome-markers/2.0.2/leaflet.awesome-markers.css%22/%3E%0A%20%20%20%20%3Clink%20rel%3D%22stylesheet%22%20href%3D%22https%3A//cdn.jsdelivr.net/gh/python-visualization/folium/folium/templates/leaflet.awesome.rotate.min.css%22/%3E%0A%20%20%20%20%0A%20%20%20%20%20%20%20%20%20%20%20%20%3Cmeta%20name%3D%22viewport%22%20content%3D%22width%3Ddevice-width%2C%0A%20%20%20%20%20%20%20%20%20%20%20%20%20%20%20%20initial-scale%3D1.0%2C%20maximum-scale%3D1.0%2C%20user-scalable%3Dno%22%20/%3E%0A%20%20%20%20%20%20%20%20%20%20%20%20%3Cstyle%3E%0A%20%20%20%20%20%20%20%20%20%20%20%20%20%20%20%20%23map_8cccd35df9b6419ab9587e9862ee93df%20%7B%0A%20%20%20%20%20%20%20%20%20%20%20%20%20%20%20%20%20%20%20%20position%3A%20relative%3B%0A%20%20%20%20%20%20%20%20%20%20%20%20%20%20%20%20%20%20%20%20width%3A%20100.0%25%3B%0A%20%20%20%20%20%20%20%20%20%20%20%20%20%20%20%20%20%20%20%20height%3A%20100.0%25%3B%0A%20%20%20%20%20%20%20%20%20%20%20%20%20%20%20%20%20%20%20%20left%3A%200.0%25%3B%0A%20%20%20%20%20%20%20%20%20%20%20%20%20%20%20%20%20%20%20%20top%3A%200.0%25%3B%0A%20%20%20%20%20%20%20%20%20%20%20%20%20%20%20%20%7D%0A%20%20%20%20%20%20%20%20%20%20%20%20%3C/style%3E%0A%20%20%20%20%20%20%20%20%0A%3C/head%3E%0A%3Cbody%3E%20%20%20%20%0A%20%20%20%20%0A%20%20%20%20%20%20%20%20%20%20%20%20%3Cdiv%20class%3D%22folium-map%22%20id%3D%22map_8cccd35df9b6419ab9587e9862ee93df%22%20%3E%3C/div%3E%0A%20%20%20%20%20%20%20%20%0A%3C/body%3E%0A%3Cscript%3E%20%20%20%20%0A%20%20%20%20%0A%20%20%20%20%20%20%20%20%20%20%20%20var%20map_8cccd35df9b6419ab9587e9862ee93df%20%3D%20L.map%28%0A%20%20%20%20%20%20%20%20%20%20%20%20%20%20%20%20%22map_8cccd35df9b6419ab9587e9862ee93df%22%2C%0A%20%20%20%20%20%20%20%20%20%20%20%20%20%20%20%20%7B%0A%20%20%20%20%20%20%20%20%20%20%20%20%20%20%20%20%20%20%20%20center%3A%20%5B36.7333%2C%20-100.7667%5D%2C%0A%20%20%20%20%20%20%20%20%20%20%20%20%20%20%20%20%20%20%20%20crs%3A%20L.CRS.EPSG3857%2C%0A%20%20%20%20%20%20%20%20%20%20%20%20%20%20%20%20%20%20%20%20zoom%3A%204%2C%0A%20%20%20%20%20%20%20%20%20%20%20%20%20%20%20%20%20%20%20%20zoomControl%3A%20true%2C%0A%20%20%20%20%20%20%20%20%20%20%20%20%20%20%20%20%20%20%20%20preferCanvas%3A%20false%2C%0A%20%20%20%20%20%20%20%20%20%20%20%20%20%20%20%20%7D%0A%20%20%20%20%20%20%20%20%20%20%20%20%29%3B%0A%0A%20%20%20%20%20%20%20%20%20%20%20%20%0A%0A%20%20%20%20%20%20%20%20%0A%20%20%20%20%0A%20%20%20%20%20%20%20%20%20%20%20%20var%20tile_layer_417136d3eea3426cbf4c03d8ba83a6ee%20%3D%20L.tileLayer%28%0A%20%20%20%20%20%20%20%20%20%20%20%20%20%20%20%20%22https%3A//%7Bs%7D.tile.openstreetmap.org/%7Bz%7D/%7Bx%7D/%7By%7D.png%22%2C%0A%20%20%20%20%20%20%20%20%20%20%20%20%20%20%20%20%7B%22attribution%22%3A%20%22Data%20by%20%5Cu0026copy%3B%20%5Cu003ca%20href%3D%5C%22http%3A//openstreetmap.org%5C%22%5Cu003eOpenStreetMap%5Cu003c/a%5Cu003e%2C%20under%20%5Cu003ca%20href%3D%5C%22http%3A//www.openstreetmap.org/copyright%5C%22%5Cu003eODbL%5Cu003c/a%5Cu003e.%22%2C%20%22detectRetina%22%3A%20false%2C%20%22maxNativeZoom%22%3A%2018%2C%20%22maxZoom%22%3A%2018%2C%20%22minZoom%22%3A%200%2C%20%22noWrap%22%3A%20false%2C%20%22opacity%22%3A%201%2C%20%22subdomains%22%3A%20%22abc%22%2C%20%22tms%22%3A%20false%7D%0A%20%20%20%20%20%20%20%20%20%20%20%20%29.addTo%28map_8cccd35df9b6419ab9587e9862ee93df%29%3B%0A%20%20%20%20%20%20%20%20%0A%20%20%20%20%0A%20%20%20%20%20%20%20%20%20%20%20%20var%20circle_de2cdb66581e41358f88b1c511c8fb8e%20%3D%20L.circle%28%0A%20%20%20%20%20%20%20%20%20%20%20%20%20%20%20%20%5B37.7798721%2C%20-122.2821855%5D%2C%0A%20%20%20%20%20%20%20%20%20%20%20%20%20%20%20%20%7B%22bubblingMouseEvents%22%3A%20true%2C%20%22color%22%3A%20%22blue%22%2C%20%22dashArray%22%3A%20null%2C%20%22dashOffset%22%3A%20null%2C%20%22fill%22%3A%20true%2C%20%22fillColor%22%3A%20%22crimson%22%2C%20%22fillOpacity%22%3A%200.2%2C%20%22fillRule%22%3A%20%22evenodd%22%2C%20%22lineCap%22%3A%20%22round%22%2C%20%22lineJoin%22%3A%20%22round%22%2C%20%22opacity%22%3A%201.0%2C%20%22radius%22%3A%2062004.0%2C%20%22stroke%22%3A%20true%2C%20%22weight%22%3A%203%7D%0A%20%20%20%20%20%20%20%20%20%20%20%20%29.addTo%28map_8cccd35df9b6419ab9587e9862ee93df%29%3B%0A%20%20%20%20%20%20%20%20%0A%20%20%20%20%0A%20%20%20%20%20%20%20%20var%20popup_92e6bf21b5474166a2b6d557fa0a3f6d%20%3D%20L.popup%28%7B%22maxWidth%22%3A%20%22100%25%22%7D%29%3B%0A%0A%20%20%20%20%20%20%20%20%0A%20%20%20%20%20%20%20%20%20%20%20%20var%20html_208ab79aafc44b73bcdaa0f9c775ad06%20%3D%20%24%28%60%3Cdiv%20id%3D%22html_208ab79aafc44b73bcdaa0f9c775ad06%22%20style%3D%22width%3A%20100.0%25%3B%20height%3A%20100.0%25%3B%22%3EAlameda%3C/div%3E%60%29%5B0%5D%3B%0A%20%20%20%20%20%20%20%20%20%20%20%20popup_92e6bf21b5474166a2b6d557fa0a3f6d.setContent%28html_208ab79aafc44b73bcdaa0f9c775ad06%29%3B%0A%20%20%20%20%20%20%20%20%0A%0A%20%20%20%20%20%20%20%20circle_de2cdb66581e41358f88b1c511c8fb8e.bindPopup%28popup_92e6bf21b5474166a2b6d557fa0a3f6d%29%0A%20%20%20%20%20%20%20%20%3B%0A%0A%20%20%20%20%20%20%20%20%0A%20%20%20%20%0A%20%20%20%20%0A%20%20%20%20%20%20%20%20%20%20%20%20var%20circle_228a82d40b9f4b0d8da0ccfe9cb68067%20%3D%20L.circle%28%0A%20%20%20%20%20%20%20%20%20%20%20%20%20%20%20%20%5B37.6679098%2C%20-121.8739141%5D%2C%0A%20%20%20%20%20%20%20%20%20%20%20%20%20%20%20%20%7B%22bubblingMouseEvents%22%3A%20true%2C%20%22color%22%3A%20%22blue%22%2C%20%22dashArray%22%3A%20null%2C%20%22dashOffset%22%3A%20null%2C%20%22fill%22%3A%20true%2C%20%22fillColor%22%3A%20%22crimson%22%2C%20%22fillOpacity%22%3A%200.2%2C%20%22fillRule%22%3A%20%22evenodd%22%2C%20%22lineCap%22%3A%20%22round%22%2C%20%22lineJoin%22%3A%20%22round%22%2C%20%22opacity%22%3A%201.0%2C%20%22radius%22%3A%2024.0%2C%20%22stroke%22%3A%20true%2C%20%22weight%22%3A%203%7D%0A%20%20%20%20%20%20%20%20%20%20%20%20%29.addTo%28map_8cccd35df9b6419ab9587e9862ee93df%29%3B%0A%20%20%20%20%20%20%20%20%0A%20%20%20%20%0A%20%20%20%20%20%20%20%20var%20popup_d9f99af0d7e4482188c3f4ad764de955%20%3D%20L.popup%28%7B%22maxWidth%22%3A%20%22100%25%22%7D%29%3B%0A%0A%20%20%20%20%20%20%20%20%0A%20%20%20%20%20%20%20%20%20%20%20%20var%20html_59b96b8fd73d44e9ae93644f3dfe84d8%20%3D%20%24%28%60%3Cdiv%20id%3D%22html_59b96b8fd73d44e9ae93644f3dfe84d8%22%20style%3D%22width%3A%20100.0%25%3B%20height%3A%20100.0%25%3B%22%3EAmador%3C/div%3E%60%29%5B0%5D%3B%0A%20%20%20%20%20%20%20%20%20%20%20%20popup_d9f99af0d7e4482188c3f4ad764de955.setContent%28html_59b96b8fd73d44e9ae93644f3dfe84d8%29%3B%0A%20%20%20%20%20%20%20%20%0A%0A%20%20%20%20%20%20%20%20circle_228a82d40b9f4b0d8da0ccfe9cb68067.bindPopup%28popup_d9f99af0d7e4482188c3f4ad764de955%29%0A%20%20%20%20%20%20%20%20%3B%0A%0A%20%20%20%20%20%20%20%20%0A%20%20%20%20%0A%20%20%20%20%0A%20%20%20%20%20%20%20%20%20%20%20%20var%20circle_2091d113b3d54d3dba2c63476cf02b47%20%3D%20L.circle%28%0A%20%20%20%20%20%20%20%20%20%20%20%20%20%20%20%20%5B46.0038232%2C%20-112.5347775%5D%2C%0A%20%20%20%20%20%20%20%20%20%20%20%20%20%20%20%20%7B%22bubblingMouseEvents%22%3A%20true%2C%20%22color%22%3A%20%22blue%22%2C%20%22dashArray%22%3A%20null%2C%20%22dashOffset%22%3A%20null%2C%20%22fill%22%3A%20true%2C%20%22fillColor%22%3A%20%22crimson%22%2C%20%22fillOpacity%22%3A%200.2%2C%20%22fillRule%22%3A%20%22evenodd%22%2C%20%22lineCap%22%3A%20%22round%22%2C%20%22lineJoin%22%3A%20%22round%22%2C%20%22opacity%22%3A%201.0%2C%20%22radius%22%3A%202592.0%2C%20%22stroke%22%3A%20true%2C%20%22weight%22%3A%203%7D%0A%20%20%20%20%20%20%20%20%20%20%20%20%29.addTo%28map_8cccd35df9b6419ab9587e9862ee93df%29%3B%0A%20%20%20%20%20%20%20%20%0A%20%20%20%20%0A%20%20%20%20%20%20%20%20var%20popup_5928df8c962e40ecb3d3a34ee63672d8%20%3D%20L.popup%28%7B%22maxWidth%22%3A%20%22100%25%22%7D%29%3B%0A%0A%20%20%20%20%20%20%20%20%0A%20%20%20%20%20%20%20%20%20%20%20%20var%20html_13a1cd84bfb84f6aa085516dfe28cbb4%20%3D%20%24%28%60%3Cdiv%20id%3D%22html_13a1cd84bfb84f6aa085516dfe28cbb4%22%20style%3D%22width%3A%20100.0%25%3B%20height%3A%20100.0%25%3B%22%3EButte%3C/div%3E%60%29%5B0%5D%3B%0A%20%20%20%20%20%20%20%20%20%20%20%20popup_5928df8c962e40ecb3d3a34ee63672d8.setContent%28html_13a1cd84bfb84f6aa085516dfe28cbb4%29%3B%0A%20%20%20%20%20%20%20%20%0A%0A%20%20%20%20%20%20%20%20circle_2091d113b3d54d3dba2c63476cf02b47.bindPopup%28popup_5928df8c962e40ecb3d3a34ee63672d8%29%0A%20%20%20%20%20%20%20%20%3B%0A%0A%20%20%20%20%20%20%20%20%0A%20%20%20%20%0A%20%20%20%20%0A%20%20%20%20%20%20%20%20%20%20%20%20var%20circle_bde3f2f639704c3dbe4b75f308efd7da%20%3D%20L.circle%28%0A%20%20%20%20%20%20%20%20%20%20%20%20%20%20%20%20%5B36.1597065%2C%20-95.958341%5D%2C%0A%20%20%20%20%20%20%20%20%20%20%20%20%20%20%20%20%7B%22bubblingMouseEvents%22%3A%20true%2C%20%22color%22%3A%20%22blue%22%2C%20%22dashArray%22%3A%20null%2C%20%22dashOffset%22%3A%20null%2C%20%22fill%22%3A%20true%2C%20%22fillColor%22%3A%20%22crimson%22%2C%20%22fillOpacity%22%3A%200.2%2C%20%22fillRule%22%3A%20%22evenodd%22%2C%20%22lineCap%22%3A%20%22round%22%2C%20%22lineJoin%22%3A%20%22round%22%2C%20%22opacity%22%3A%201.0%2C%20%22radius%22%3A%2072.0%2C%20%22stroke%22%3A%20true%2C%20%22weight%22%3A%203%7D%0A%20%20%20%20%20%20%20%20%20%20%20%20%29.addTo%28map_8cccd35df9b6419ab9587e9862ee93df%29%3B%0A%20%20%20%20%20%20%20%20%0A%20%20%20%20%0A%20%20%20%20%20%20%20%20var%20popup_ba188f9213c343cb862877a9fbc314a3%20%3D%20L.popup%28%7B%22maxWidth%22%3A%20%22100%25%22%7D%29%3B%0A%0A%20%20%20%20%20%20%20%20%0A%20%20%20%20%20%20%20%20%20%20%20%20var%20html_ae41440531af48639027240df305c254%20%3D%20%24%28%60%3Cdiv%20id%3D%22html_ae41440531af48639027240df305c254%22%20style%3D%22width%3A%20100.0%25%3B%20height%3A%20100.0%25%3B%22%3ECalaveras%3C/div%3E%60%29%5B0%5D%3B%0A%20%20%20%20%20%20%20%20%20%20%20%20popup_ba188f9213c343cb862877a9fbc314a3.setContent%28html_ae41440531af48639027240df305c254%29%3B%0A%20%20%20%20%20%20%20%20%0A%0A%20%20%20%20%20%20%20%20circle_bde3f2f639704c3dbe4b75f308efd7da.bindPopup%28popup_ba188f9213c343cb862877a9fbc314a3%29%0A%20%20%20%20%20%20%20%20%3B%0A%0A%20%20%20%20%20%20%20%20%0A%20%20%20%20%0A%20%20%20%20%0A%20%20%20%20%20%20%20%20%20%20%20%20var%20circle_bc2b20a65a43437fac5cc4a8d594e5bc%20%3D%20L.circle%28%0A%20%20%20%20%20%20%20%20%20%20%20%20%20%20%20%20%5B39.2143343%2C%20-122.0094175%5D%2C%0A%20%20%20%20%20%20%20%20%20%20%20%20%20%20%20%20%7B%22bubblingMouseEvents%22%3A%20true%2C%20%22color%22%3A%20%22blue%22%2C%20%22dashArray%22%3A%20null%2C%20%22dashOffset%22%3A%20null%2C%20%22fill%22%3A%20true%2C%20%22fillColor%22%3A%20%22crimson%22%2C%20%22fillOpacity%22%3A%200.2%2C%20%22fillRule%22%3A%20%22evenodd%22%2C%20%22lineCap%22%3A%20%22round%22%2C%20%22lineJoin%22%3A%20%22round%22%2C%20%22opacity%22%3A%201.0%2C%20%22radius%22%3A%201860.0%2C%20%22stroke%22%3A%20true%2C%20%22weight%22%3A%203%7D%0A%20%20%20%20%20%20%20%20%20%20%20%20%29.addTo%28map_8cccd35df9b6419ab9587e9862ee93df%29%3B%0A%20%20%20%20%20%20%20%20%0A%20%20%20%20%0A%20%20%20%20%20%20%20%20var%20popup_3d576feeceae4c82926e32a43c5818b4%20%3D%20L.popup%28%7B%22maxWidth%22%3A%20%22100%25%22%7D%29%3B%0A%0A%20%20%20%20%20%20%20%20%0A%20%20%20%20%20%20%20%20%20%20%20%20var%20html_da6a566d057e445683cb9da55f73257a%20%3D%20%24%28%60%3Cdiv%20id%3D%22html_da6a566d057e445683cb9da55f73257a%22%20style%3D%22width%3A%20100.0%25%3B%20height%3A%20100.0%25%3B%22%3EColusa%3C/div%3E%60%29%5B0%5D%3B%0A%20%20%20%20%20%20%20%20%20%20%20%20popup_3d576feeceae4c82926e32a43c5818b4.setContent%28html_da6a566d057e445683cb9da55f73257a%29%3B%0A%20%20%20%20%20%20%20%20%0A%0A%20%20%20%20%20%20%20%20circle_bc2b20a65a43437fac5cc4a8d594e5bc.bindPopup%28popup_3d576feeceae4c82926e32a43c5818b4%29%0A%20%20%20%20%20%20%20%20%3B%0A%0A%20%20%20%20%20%20%20%20%0A%20%20%20%20%0A%20%20%20%20%0A%20%20%20%20%20%20%20%20%20%20%20%20var%20circle_e945baf0706c413d868149da405145f5%20%3D%20L.circle%28%0A%20%20%20%20%20%20%20%20%20%20%20%20%20%20%20%20%5B37.8534093%2C%20-121.9017954%5D%2C%0A%20%20%20%20%20%20%20%20%20%20%20%20%20%20%20%20%7B%22bubblingMouseEvents%22%3A%20true%2C%20%22color%22%3A%20%22blue%22%2C%20%22dashArray%22%3A%20null%2C%20%22dashOffset%22%3A%20null%2C%20%22fill%22%3A%20true%2C%20%22fillColor%22%3A%20%22crimson%22%2C%20%22fillOpacity%22%3A%200.2%2C%20%22fillRule%22%3A%20%22evenodd%22%2C%20%22lineCap%22%3A%20%22round%22%2C%20%22lineJoin%22%3A%20%22round%22%2C%20%22opacity%22%3A%201.0%2C%20%22radius%22%3A%209948.0%2C%20%22stroke%22%3A%20true%2C%20%22weight%22%3A%203%7D%0A%20%20%20%20%20%20%20%20%20%20%20%20%29.addTo%28map_8cccd35df9b6419ab9587e9862ee93df%29%3B%0A%20%20%20%20%20%20%20%20%0A%20%20%20%20%0A%20%20%20%20%20%20%20%20var%20popup_2a817f8930e44d2fa2692b80139b0676%20%3D%20L.popup%28%7B%22maxWidth%22%3A%20%22100%25%22%7D%29%3B%0A%0A%20%20%20%20%20%20%20%20%0A%20%20%20%20%20%20%20%20%20%20%20%20var%20html_9039b24f7fd0478b91f3228782c28f86%20%3D%20%24%28%60%3Cdiv%20id%3D%22html_9039b24f7fd0478b91f3228782c28f86%22%20style%3D%22width%3A%20100.0%25%3B%20height%3A%20100.0%25%3B%22%3EContra%20Costa%3C/div%3E%60%29%5B0%5D%3B%0A%20%20%20%20%20%20%20%20%20%20%20%20popup_2a817f8930e44d2fa2692b80139b0676.setContent%28html_9039b24f7fd0478b91f3228782c28f86%29%3B%0A%20%20%20%20%20%20%20%20%0A%0A%20%20%20%20%20%20%20%20circle_e945baf0706c413d868149da405145f5.bindPopup%28popup_2a817f8930e44d2fa2692b80139b0676%29%0A%20%20%20%20%20%20%20%20%3B%0A%0A%20%20%20%20%20%20%20%20%0A%20%20%20%20%0A%20%20%20%20%0A%20%20%20%20%20%20%20%20%20%20%20%20var%20circle_d4efca3951a74e5aae215b99e1efd778%20%3D%20L.circle%28%0A%20%20%20%20%20%20%20%20%20%20%20%20%20%20%20%20%5B37.8167564%2C%20-96.8869965%5D%2C%0A%20%20%20%20%20%20%20%20%20%20%20%20%20%20%20%20%7B%22bubblingMouseEvents%22%3A%20true%2C%20%22color%22%3A%20%22blue%22%2C%20%22dashArray%22%3A%20null%2C%20%22dashOffset%22%3A%20null%2C%20%22fill%22%3A%20true%2C%20%22fillColor%22%3A%20%22crimson%22%2C%20%22fillOpacity%22%3A%200.2%2C%20%22fillRule%22%3A%20%22evenodd%22%2C%20%22lineCap%22%3A%20%22round%22%2C%20%22lineJoin%22%3A%20%22round%22%2C%20%22opacity%22%3A%201.0%2C%20%22radius%22%3A%2036.0%2C%20%22stroke%22%3A%20true%2C%20%22weight%22%3A%203%7D%0A%20%20%20%20%20%20%20%20%20%20%20%20%29.addTo%28map_8cccd35df9b6419ab9587e9862ee93df%29%3B%0A%20%20%20%20%20%20%20%20%0A%20%20%20%20%0A%20%20%20%20%20%20%20%20var%20popup_518432abc61748ca87145175d031144d%20%3D%20L.popup%28%7B%22maxWidth%22%3A%20%22100%25%22%7D%29%3B%0A%0A%20%20%20%20%20%20%20%20%0A%20%20%20%20%20%20%20%20%20%20%20%20var%20html_b54b6811d8e24ea4850576bc43601a98%20%3D%20%24%28%60%3Cdiv%20id%3D%22html_b54b6811d8e24ea4850576bc43601a98%22%20style%3D%22width%3A%20100.0%25%3B%20height%3A%20100.0%25%3B%22%3EEl%20Dorado%3C/div%3E%60%29%5B0%5D%3B%0A%20%20%20%20%20%20%20%20%20%20%20%20popup_518432abc61748ca87145175d031144d.setContent%28html_b54b6811d8e24ea4850576bc43601a98%29%3B%0A%20%20%20%20%20%20%20%20%0A%0A%20%20%20%20%20%20%20%20circle_d4efca3951a74e5aae215b99e1efd778.bindPopup%28popup_518432abc61748ca87145175d031144d%29%0A%20%20%20%20%20%20%20%20%3B%0A%0A%20%20%20%20%20%20%20%20%0A%20%20%20%20%0A%20%20%20%20%0A%20%20%20%20%20%20%20%20%20%20%20%20var%20circle_f00ffed6395b4425af4b6194eef44213%20%3D%20L.circle%28%0A%20%20%20%20%20%20%20%20%20%20%20%20%20%20%20%20%5B36.7377981%2C%20-119.7871247%5D%2C%0A%20%20%20%20%20%20%20%20%20%20%20%20%20%20%20%20%7B%22bubblingMouseEvents%22%3A%20true%2C%20%22color%22%3A%20%22blue%22%2C%20%22dashArray%22%3A%20null%2C%20%22dashOffset%22%3A%20null%2C%20%22fill%22%3A%20true%2C%20%22fillColor%22%3A%20%22crimson%22%2C%20%22fillOpacity%22%3A%200.2%2C%20%22fillRule%22%3A%20%22evenodd%22%2C%20%22lineCap%22%3A%20%22round%22%2C%20%22lineJoin%22%3A%20%22round%22%2C%20%22opacity%22%3A%201.0%2C%20%22radius%22%3A%2054324.0%2C%20%22stroke%22%3A%20true%2C%20%22weight%22%3A%203%7D%0A%20%20%20%20%20%20%20%20%20%20%20%20%29.addTo%28map_8cccd35df9b6419ab9587e9862ee93df%29%3B%0A%20%20%20%20%20%20%20%20%0A%20%20%20%20%0A%20%20%20%20%20%20%20%20var%20popup_d255639e322c4e2e81bfb9cd55dd59cc%20%3D%20L.popup%28%7B%22maxWidth%22%3A%20%22100%25%22%7D%29%3B%0A%0A%20%20%20%20%20%20%20%20%0A%20%20%20%20%20%20%20%20%20%20%20%20var%20html_2ff2a114378d4ba18303072c3207b899%20%3D%20%24%28%60%3Cdiv%20id%3D%22html_2ff2a114378d4ba18303072c3207b899%22%20style%3D%22width%3A%20100.0%25%3B%20height%3A%20100.0%25%3B%22%3EFresno%3C/div%3E%60%29%5B0%5D%3B%0A%20%20%20%20%20%20%20%20%20%20%20%20popup_d255639e322c4e2e81bfb9cd55dd59cc.setContent%28html_2ff2a114378d4ba18303072c3207b899%29%3B%0A%20%20%20%20%20%20%20%20%0A%0A%20%20%20%20%20%20%20%20circle_f00ffed6395b4425af4b6194eef44213.bindPopup%28popup_d255639e322c4e2e81bfb9cd55dd59cc%29%0A%20%20%20%20%20%20%20%20%3B%0A%0A%20%20%20%20%20%20%20%20%0A%20%20%20%20%0A%20%20%20%20%0A%20%20%20%20%20%20%20%20%20%20%20%20var%20circle_9500891d2f9f47ce9c7eb6b3fcae7857%20%3D%20L.circle%28%0A%20%20%20%20%20%20%20%20%20%20%20%20%20%20%20%20%5B33.7570198%2C%20-84.3930412%5D%2C%0A%20%20%20%20%20%20%20%20%20%20%20%20%20%20%20%20%7B%22bubblingMouseEvents%22%3A%20true%2C%20%22color%22%3A%20%22blue%22%2C%20%22dashArray%22%3A%20null%2C%20%22dashOffset%22%3A%20null%2C%20%22fill%22%3A%20true%2C%20%22fillColor%22%3A%20%22crimson%22%2C%20%22fillOpacity%22%3A%200.2%2C%20%22fillRule%22%3A%20%22evenodd%22%2C%20%22lineCap%22%3A%20%22round%22%2C%20%22lineJoin%22%3A%20%22round%22%2C%20%22opacity%22%3A%201.0%2C%20%22stroke%22%3A%20true%2C%20%22weight%22%3A%203%7D%0A%20%20%20%20%20%20%20%20%20%20%20%20%29.addTo%28map_8cccd35df9b6419ab9587e9862ee93df%29%3B%0A%20%20%20%20%20%20%20%20%0A%20%20%20%20%0A%20%20%20%20%20%20%20%20var%20popup_95412899256f4a44a918c0f925e6a682%20%3D%20L.popup%28%7B%22maxWidth%22%3A%20%22100%25%22%7D%29%3B%0A%0A%20%20%20%20%20%20%20%20%0A%20%20%20%20%20%20%20%20%20%20%20%20var%20html_7c5122e476e84f5daa56ba19daeb66d5%20%3D%20%24%28%60%3Cdiv%20id%3D%22html_7c5122e476e84f5daa56ba19daeb66d5%22%20style%3D%22width%3A%20100.0%25%3B%20height%3A%20100.0%25%3B%22%3EGlenn%3C/div%3E%60%29%5B0%5D%3B%0A%20%20%20%20%20%20%20%20%20%20%20%20popup_95412899256f4a44a918c0f925e6a682.setContent%28html_7c5122e476e84f5daa56ba19daeb66d5%29%3B%0A%20%20%20%20%20%20%20%20%0A%0A%20%20%20%20%20%20%20%20circle_9500891d2f9f47ce9c7eb6b3fcae7857.bindPopup%28popup_95412899256f4a44a918c0f925e6a682%29%0A%20%20%20%20%20%20%20%20%3B%0A%0A%20%20%20%20%20%20%20%20%0A%20%20%20%20%0A%20%20%20%20%0A%20%20%20%20%20%20%20%20%20%20%20%20var%20circle_652ef52b42ce46599282388371b42cc4%20%3D%20L.circle%28%0A%20%20%20%20%20%20%20%20%20%20%20%20%20%20%20%20%5B40.7450055%2C%20-123.8695086%5D%2C%0A%20%20%20%20%20%20%20%20%20%20%20%20%20%20%20%20%7B%22bubblingMouseEvents%22%3A%20true%2C%20%22color%22%3A%20%22blue%22%2C%20%22dashArray%22%3A%20null%2C%20%22dashOffset%22%3A%20null%2C%20%22fill%22%3A%20true%2C%20%22fillColor%22%3A%20%22crimson%22%2C%20%22fillOpacity%22%3A%200.2%2C%20%22fillRule%22%3A%20%22evenodd%22%2C%20%22lineCap%22%3A%20%22round%22%2C%20%22lineJoin%22%3A%20%22round%22%2C%20%22opacity%22%3A%201.0%2C%20%22stroke%22%3A%20true%2C%20%22weight%22%3A%203%7D%0A%20%20%20%20%20%20%20%20%20%20%20%20%29.addTo%28map_8cccd35df9b6419ab9587e9862ee93df%29%3B%0A%20%20%20%20%20%20%20%20%0A%20%20%20%20%0A%20%20%20%20%20%20%20%20var%20popup_ad368e4db1744b558dd313d8b47c6ca7%20%3D%20L.popup%28%7B%22maxWidth%22%3A%20%22100%25%22%7D%29%3B%0A%0A%20%20%20%20%20%20%20%20%0A%20%20%20%20%20%20%20%20%20%20%20%20var%20html_88cc4cac5fb04169a004a1dbcd62d388%20%3D%20%24%28%60%3Cdiv%20id%3D%22html_88cc4cac5fb04169a004a1dbcd62d388%22%20style%3D%22width%3A%20100.0%25%3B%20height%3A%20100.0%25%3B%22%3EHumboldt%3C/div%3E%60%29%5B0%5D%3B%0A%20%20%20%20%20%20%20%20%20%20%20%20popup_ad368e4db1744b558dd313d8b47c6ca7.setContent%28html_88cc4cac5fb04169a004a1dbcd62d388%29%3B%0A%20%20%20%20%20%20%20%20%0A%0A%20%20%20%20%20%20%20%20circle_652ef52b42ce46599282388371b42cc4.bindPopup%28popup_ad368e4db1744b558dd313d8b47c6ca7%29%0A%20%20%20%20%20%20%20%20%3B%0A%0A%20%20%20%20%20%20%20%20%0A%20%20%20%20%0A%20%20%20%20%0A%20%20%20%20%20%20%20%20%20%20%20%20var%20circle_c125e766e6944308a8352aebfd6ea051%20%3D%20L.circle%28%0A%20%20%20%20%20%20%20%20%20%20%20%20%20%20%20%20%5B36.185074%2C%20-95.870191%5D%2C%0A%20%20%20%20%20%20%20%20%20%20%20%20%20%20%20%20%7B%22bubblingMouseEvents%22%3A%20true%2C%20%22color%22%3A%20%22blue%22%2C%20%22dashArray%22%3A%20null%2C%20%22dashOffset%22%3A%20null%2C%20%22fill%22%3A%20true%2C%20%22fillColor%22%3A%20%22crimson%22%2C%20%22fillOpacity%22%3A%200.2%2C%20%22fillRule%22%3A%20%22evenodd%22%2C%20%22lineCap%22%3A%20%22round%22%2C%20%22lineJoin%22%3A%20%22round%22%2C%20%22opacity%22%3A%201.0%2C%20%22radius%22%3A%2018996.0%2C%20%22stroke%22%3A%20true%2C%20%22weight%22%3A%203%7D%0A%20%20%20%20%20%20%20%20%20%20%20%20%29.addTo%28map_8cccd35df9b6419ab9587e9862ee93df%29%3B%0A%20%20%20%20%20%20%20%20%0A%20%20%20%20%0A%20%20%20%20%20%20%20%20var%20popup_70be0fcf9aad4eafa17c14740f4723e2%20%3D%20L.popup%28%7B%22maxWidth%22%3A%20%22100%25%22%7D%29%3B%0A%0A%20%20%20%20%20%20%20%20%0A%20%20%20%20%20%20%20%20%20%20%20%20var%20html_3e803695156f45678040ed22c1fa8912%20%3D%20%24%28%60%3Cdiv%20id%3D%22html_3e803695156f45678040ed22c1fa8912%22%20style%3D%22width%3A%20100.0%25%3B%20height%3A%20100.0%25%3B%22%3EImperial%3C/div%3E%60%29%5B0%5D%3B%0A%20%20%20%20%20%20%20%20%20%20%20%20popup_70be0fcf9aad4eafa17c14740f4723e2.setContent%28html_3e803695156f45678040ed22c1fa8912%29%3B%0A%20%20%20%20%20%20%20%20%0A%0A%20%20%20%20%20%20%20%20circle_c125e766e6944308a8352aebfd6ea051.bindPopup%28popup_70be0fcf9aad4eafa17c14740f4723e2%29%0A%20%20%20%20%20%20%20%20%3B%0A%0A%20%20%20%20%20%20%20%20%0A%20%20%20%20%0A%20%20%20%20%0A%20%20%20%20%20%20%20%20%20%20%20%20var%20circle_43d9869efbae41d2987ac28feb0f0387%20%3D%20L.circle%28%0A%20%20%20%20%20%20%20%20%20%20%20%20%20%20%20%20%5B36.3091865%2C%20-117.5495846%5D%2C%0A%20%20%20%20%20%20%20%20%20%20%20%20%20%20%20%20%7B%22bubblingMouseEvents%22%3A%20true%2C%20%22color%22%3A%20%22blue%22%2C%20%22dashArray%22%3A%20null%2C%20%22dashOffset%22%3A%20null%2C%20%22fill%22%3A%20true%2C%20%22fillColor%22%3A%20%22crimson%22%2C%20%22fillOpacity%22%3A%200.2%2C%20%22fillRule%22%3A%20%22evenodd%22%2C%20%22lineCap%22%3A%20%22round%22%2C%20%22lineJoin%22%3A%20%22round%22%2C%20%22opacity%22%3A%201.0%2C%20%22radius%22%3A%2012.0%2C%20%22stroke%22%3A%20true%2C%20%22weight%22%3A%203%7D%0A%20%20%20%20%20%20%20%20%20%20%20%20%29.addTo%28map_8cccd35df9b6419ab9587e9862ee93df%29%3B%0A%20%20%20%20%20%20%20%20%0A%20%20%20%20%0A%20%20%20%20%20%20%20%20var%20popup_38b57962150b4ce28228db2c49dc58fd%20%3D%20L.popup%28%7B%22maxWidth%22%3A%20%22100%25%22%7D%29%3B%0A%0A%20%20%20%20%20%20%20%20%0A%20%20%20%20%20%20%20%20%20%20%20%20var%20html_16035ef059e74471a64421492ec40b96%20%3D%20%24%28%60%3Cdiv%20id%3D%22html_16035ef059e74471a64421492ec40b96%22%20style%3D%22width%3A%20100.0%25%3B%20height%3A%20100.0%25%3B%22%3EInyo%3C/div%3E%60%29%5B0%5D%3B%0A%20%20%20%20%20%20%20%20%20%20%20%20popup_38b57962150b4ce28228db2c49dc58fd.setContent%28html_16035ef059e74471a64421492ec40b96%29%3B%0A%20%20%20%20%20%20%20%20%0A%0A%20%20%20%20%20%20%20%20circle_43d9869efbae41d2987ac28feb0f0387.bindPopup%28popup_38b57962150b4ce28228db2c49dc58fd%29%0A%20%20%20%20%20%20%20%20%3B%0A%0A%20%20%20%20%20%20%20%20%0A%20%20%20%20%0A%20%20%20%20%0A%20%20%20%20%20%20%20%20%20%20%20%20var%20circle_c33f45df304748d0895d94aa6c6ba969%20%3D%20L.circle%28%0A%20%20%20%20%20%20%20%20%20%20%20%20%20%20%20%20%5B35.4937274%2C%20-118.8596804%5D%2C%0A%20%20%20%20%20%20%20%20%20%20%20%20%20%20%20%20%7B%22bubblingMouseEvents%22%3A%20true%2C%20%22color%22%3A%20%22blue%22%2C%20%22dashArray%22%3A%20null%2C%20%22dashOffset%22%3A%20null%2C%20%22fill%22%3A%20true%2C%20%22fillColor%22%3A%20%22crimson%22%2C%20%22fillOpacity%22%3A%200.2%2C%20%22fillRule%22%3A%20%22evenodd%22%2C%20%22lineCap%22%3A%20%22round%22%2C%20%22lineJoin%22%3A%20%22round%22%2C%20%22opacity%22%3A%201.0%2C%20%22radius%22%3A%209072.0%2C%20%22stroke%22%3A%20true%2C%20%22weight%22%3A%203%7D%0A%20%20%20%20%20%20%20%20%20%20%20%20%29.addTo%28map_8cccd35df9b6419ab9587e9862ee93df%29%3B%0A%20%20%20%20%20%20%20%20%0A%20%20%20%20%0A%20%20%20%20%20%20%20%20var%20popup_e2488172268a4ccfa670b9328aafbd52%20%3D%20L.popup%28%7B%22maxWidth%22%3A%20%22100%25%22%7D%29%3B%0A%0A%20%20%20%20%20%20%20%20%0A%20%20%20%20%20%20%20%20%20%20%20%20var%20html_4da32a6c6ea74472b2e9dfd8e0906385%20%3D%20%24%28%60%3Cdiv%20id%3D%22html_4da32a6c6ea74472b2e9dfd8e0906385%22%20style%3D%22width%3A%20100.0%25%3B%20height%3A%20100.0%25%3B%22%3EKern%3C/div%3E%60%29%5B0%5D%3B%0A%20%20%20%20%20%20%20%20%20%20%20%20popup_e2488172268a4ccfa670b9328aafbd52.setContent%28html_4da32a6c6ea74472b2e9dfd8e0906385%29%3B%0A%20%20%20%20%20%20%20%20%0A%0A%20%20%20%20%20%20%20%20circle_c33f45df304748d0895d94aa6c6ba969.bindPopup%28popup_e2488172268a4ccfa670b9328aafbd52%29%0A%20%20%20%20%20%20%20%20%3B%0A%0A%20%20%20%20%20%20%20%20%0A%20%20%20%20%0A%20%20%20%20%0A%20%20%20%20%20%20%20%20%20%20%20%20var%20circle_f077c0befd6d41018932c8c71525a4b3%20%3D%20L.circle%28%0A%20%20%20%20%20%20%20%20%20%20%20%20%20%20%20%20%5B37.919235%2C%20-95.408867%5D%2C%0A%20%20%20%20%20%20%20%20%20%20%20%20%20%20%20%20%7B%22bubblingMouseEvents%22%3A%20true%2C%20%22color%22%3A%20%22blue%22%2C%20%22dashArray%22%3A%20null%2C%20%22dashOffset%22%3A%20null%2C%20%22fill%22%3A%20true%2C%20%22fillColor%22%3A%20%22crimson%22%2C%20%22fillOpacity%22%3A%200.2%2C%20%22fillRule%22%3A%20%22evenodd%22%2C%20%22lineCap%22%3A%20%22round%22%2C%20%22lineJoin%22%3A%20%22round%22%2C%20%22opacity%22%3A%201.0%2C%20%22radius%22%3A%206096.0%2C%20%22stroke%22%3A%20true%2C%20%22weight%22%3A%203%7D%0A%20%20%20%20%20%20%20%20%20%20%20%20%29.addTo%28map_8cccd35df9b6419ab9587e9862ee93df%29%3B%0A%20%20%20%20%20%20%20%20%0A%20%20%20%20%0A%20%20%20%20%20%20%20%20var%20popup_e9ab6ef39c444b998fecbf2ecb3638e9%20%3D%20L.popup%28%7B%22maxWidth%22%3A%20%22100%25%22%7D%29%3B%0A%0A%20%20%20%20%20%20%20%20%0A%20%20%20%20%20%20%20%20%20%20%20%20var%20html_32a482e368574a4e80b73966ed54d2bc%20%3D%20%24%28%60%3Cdiv%20id%3D%22html_32a482e368574a4e80b73966ed54d2bc%22%20style%3D%22width%3A%20100.0%25%3B%20height%3A%20100.0%25%3B%22%3EKings%3C/div%3E%60%29%5B0%5D%3B%0A%20%20%20%20%20%20%20%20%20%20%20%20popup_e9ab6ef39c444b998fecbf2ecb3638e9.setContent%28html_32a482e368574a4e80b73966ed54d2bc%29%3B%0A%20%20%20%20%20%20%20%20%0A%0A%20%20%20%20%20%20%20%20circle_f077c0befd6d41018932c8c71525a4b3.bindPopup%28popup_e9ab6ef39c444b998fecbf2ecb3638e9%29%0A%20%20%20%20%20%20%20%20%3B%0A%0A%20%20%20%20%20%20%20%20%0A%20%20%20%20%0A%20%20%20%20%0A%20%20%20%20%20%20%20%20%20%20%20%20var%20circle_c6c08719cf3848f18773c2dfdfdb65d7%20%3D%20L.circle%28%0A%20%20%20%20%20%20%20%20%20%20%20%20%20%20%20%20%5B37.1628255%2C%20-95.6911623%5D%2C%0A%20%20%20%20%20%20%20%20%20%20%20%20%20%20%20%20%7B%22bubblingMouseEvents%22%3A%20true%2C%20%22color%22%3A%20%22blue%22%2C%20%22dashArray%22%3A%20null%2C%20%22dashOffset%22%3A%20null%2C%20%22fill%22%3A%20true%2C%20%22fillColor%22%3A%20%22crimson%22%2C%20%22fillOpacity%22%3A%200.2%2C%20%22fillRule%22%3A%20%22evenodd%22%2C%20%22lineCap%22%3A%20%22round%22%2C%20%22lineJoin%22%3A%20%22round%22%2C%20%22opacity%22%3A%201.0%2C%20%22radius%22%3A%2012.0%2C%20%22stroke%22%3A%20true%2C%20%22weight%22%3A%203%7D%0A%20%20%20%20%20%20%20%20%20%20%20%20%29.addTo%28map_8cccd35df9b6419ab9587e9862ee93df%29%3B%0A%20%20%20%20%20%20%20%20%0A%20%20%20%20%0A%20%20%20%20%20%20%20%20var%20popup_fc667994d3b2409daaa62328ba5c0bcd%20%3D%20L.popup%28%7B%22maxWidth%22%3A%20%22100%25%22%7D%29%3B%0A%0A%20%20%20%20%20%20%20%20%0A%20%20%20%20%20%20%20%20%20%20%20%20var%20html_e36ac49708884d5dbd1b24ac1f49f4d4%20%3D%20%24%28%60%3Cdiv%20id%3D%22html_e36ac49708884d5dbd1b24ac1f49f4d4%22%20style%3D%22width%3A%20100.0%25%3B%20height%3A%20100.0%25%3B%22%3ELake%3C/div%3E%60%29%5B0%5D%3B%0A%20%20%20%20%20%20%20%20%20%20%20%20popup_fc667994d3b2409daaa62328ba5c0bcd.setContent%28html_e36ac49708884d5dbd1b24ac1f49f4d4%29%3B%0A%20%20%20%20%20%20%20%20%0A%0A%20%20%20%20%20%20%20%20circle_c6c08719cf3848f18773c2dfdfdb65d7.bindPopup%28popup_fc667994d3b2409daaa62328ba5c0bcd%29%0A%20%20%20%20%20%20%20%20%3B%0A%0A%20%20%20%20%20%20%20%20%0A%20%20%20%20%0A%20%20%20%20%0A%20%20%20%20%20%20%20%20%20%20%20%20var%20circle_8d4ccb5d2c5b471a8e352589027a727e%20%3D%20L.circle%28%0A%20%20%20%20%20%20%20%20%20%20%20%20%20%20%20%20%5B34.0522342%2C%20-118.2436849%5D%2C%0A%20%20%20%20%20%20%20%20%20%20%20%20%20%20%20%20%7B%22bubblingMouseEvents%22%3A%20true%2C%20%22color%22%3A%20%22blue%22%2C%20%22dashArray%22%3A%20null%2C%20%22dashOffset%22%3A%20null%2C%20%22fill%22%3A%20true%2C%20%22fillColor%22%3A%20%22crimson%22%2C%20%22fillOpacity%22%3A%200.2%2C%20%22fillRule%22%3A%20%22evenodd%22%2C%20%22lineCap%22%3A%20%22round%22%2C%20%22lineJoin%22%3A%20%22round%22%2C%20%22opacity%22%3A%201.0%2C%20%22radius%22%3A%20442392.0%2C%20%22stroke%22%3A%20true%2C%20%22weight%22%3A%203%7D%0A%20%20%20%20%20%20%20%20%20%20%20%20%29.addTo%28map_8cccd35df9b6419ab9587e9862ee93df%29%3B%0A%20%20%20%20%20%20%20%20%0A%20%20%20%20%0A%20%20%20%20%20%20%20%20var%20popup_f56c01aa6caf437aa394db26e0d75945%20%3D%20L.popup%28%7B%22maxWidth%22%3A%20%22100%25%22%7D%29%3B%0A%0A%20%20%20%20%20%20%20%20%0A%20%20%20%20%20%20%20%20%20%20%20%20var%20html_293e23c3a2ad466d9669a319b64d13c6%20%3D%20%24%28%60%3Cdiv%20id%3D%22html_293e23c3a2ad466d9669a319b64d13c6%22%20style%3D%22width%3A%20100.0%25%3B%20height%3A%20100.0%25%3B%22%3ELos%20Angeles%3C/div%3E%60%29%5B0%5D%3B%0A%20%20%20%20%20%20%20%20%20%20%20%20popup_f56c01aa6caf437aa394db26e0d75945.setContent%28html_293e23c3a2ad466d9669a319b64d13c6%29%3B%0A%20%20%20%20%20%20%20%20%0A%0A%20%20%20%20%20%20%20%20circle_8d4ccb5d2c5b471a8e352589027a727e.bindPopup%28popup_f56c01aa6caf437aa394db26e0d75945%29%0A%20%20%20%20%20%20%20%20%3B%0A%0A%20%20%20%20%20%20%20%20%0A%20%20%20%20%0A%20%20%20%20%0A%20%20%20%20%20%20%20%20%20%20%20%20var%20circle_bf158df174dc42e4aa9cf900a7b06dda%20%3D%20L.circle%28%0A%20%20%20%20%20%20%20%20%20%20%20%20%20%20%20%20%5B36.9613356%2C%20-120.0607176%5D%2C%0A%20%20%20%20%20%20%20%20%20%20%20%20%20%20%20%20%7B%22bubblingMouseEvents%22%3A%20true%2C%20%22color%22%3A%20%22blue%22%2C%20%22dashArray%22%3A%20null%2C%20%22dashOffset%22%3A%20null%2C%20%22fill%22%3A%20true%2C%20%22fillColor%22%3A%20%22crimson%22%2C%20%22fillOpacity%22%3A%200.2%2C%20%22fillRule%22%3A%20%22evenodd%22%2C%20%22lineCap%22%3A%20%22round%22%2C%20%22lineJoin%22%3A%20%22round%22%2C%20%22opacity%22%3A%201.0%2C%20%22radius%22%3A%202040.0%2C%20%22stroke%22%3A%20true%2C%20%22weight%22%3A%203%7D%0A%20%20%20%20%20%20%20%20%20%20%20%20%29.addTo%28map_8cccd35df9b6419ab9587e9862ee93df%29%3B%0A%20%20%20%20%20%20%20%20%0A%20%20%20%20%0A%20%20%20%20%20%20%20%20var%20popup_30c8404072f84ef6a63941b806599ae3%20%3D%20L.popup%28%7B%22maxWidth%22%3A%20%22100%25%22%7D%29%3B%0A%0A%20%20%20%20%20%20%20%20%0A%20%20%20%20%20%20%20%20%20%20%20%20var%20html_b4bb592ad6444ca9833dc13fca9f26f8%20%3D%20%24%28%60%3Cdiv%20id%3D%22html_b4bb592ad6444ca9833dc13fca9f26f8%22%20style%3D%22width%3A%20100.0%25%3B%20height%3A%20100.0%25%3B%22%3EMadera%3C/div%3E%60%29%5B0%5D%3B%0A%20%20%20%20%20%20%20%20%20%20%20%20popup_30c8404072f84ef6a63941b806599ae3.setContent%28html_b4bb592ad6444ca9833dc13fca9f26f8%29%3B%0A%20%20%20%20%20%20%20%20%0A%0A%20%20%20%20%20%20%20%20circle_bf158df174dc42e4aa9cf900a7b06dda.bindPopup%28popup_30c8404072f84ef6a63941b806599ae3%29%0A%20%20%20%20%20%20%20%20%3B%0A%0A%20%20%20%20%20%20%20%20%0A%20%20%20%20%0A%20%20%20%20%0A%20%20%20%20%20%20%20%20%20%20%20%20var%20circle_de7973c6019e4a2eb139ef43916f4715%20%3D%20L.circle%28%0A%20%20%20%20%20%20%20%20%20%20%20%20%20%20%20%20%5B38.083403%2C%20-122.7633036%5D%2C%0A%20%20%20%20%20%20%20%20%20%20%20%20%20%20%20%20%7B%22bubblingMouseEvents%22%3A%20true%2C%20%22color%22%3A%20%22blue%22%2C%20%22dashArray%22%3A%20null%2C%20%22dashOffset%22%3A%20null%2C%20%22fill%22%3A%20true%2C%20%22fillColor%22%3A%20%22crimson%22%2C%20%22fillOpacity%22%3A%200.2%2C%20%22fillRule%22%3A%20%22evenodd%22%2C%20%22lineCap%22%3A%20%22round%22%2C%20%22lineJoin%22%3A%20%22round%22%2C%20%22opacity%22%3A%201.0%2C%20%22radius%22%3A%201800.0%2C%20%22stroke%22%3A%20true%2C%20%22weight%22%3A%203%7D%0A%20%20%20%20%20%20%20%20%20%20%20%20%29.addTo%28map_8cccd35df9b6419ab9587e9862ee93df%29%3B%0A%20%20%20%20%20%20%20%20%0A%20%20%20%20%0A%20%20%20%20%20%20%20%20var%20popup_bb73d451fdda43a6b2c7559c783cfcdc%20%3D%20L.popup%28%7B%22maxWidth%22%3A%20%22100%25%22%7D%29%3B%0A%0A%20%20%20%20%20%20%20%20%0A%20%20%20%20%20%20%20%20%20%20%20%20var%20html_fc39e0814ced46318ba7516bdea9a618%20%3D%20%24%28%60%3Cdiv%20id%3D%22html_fc39e0814ced46318ba7516bdea9a618%22%20style%3D%22width%3A%20100.0%25%3B%20height%3A%20100.0%25%3B%22%3EMarin%3C/div%3E%60%29%5B0%5D%3B%0A%20%20%20%20%20%20%20%20%20%20%20%20popup_bb73d451fdda43a6b2c7559c783cfcdc.setContent%28html_fc39e0814ced46318ba7516bdea9a618%29%3B%0A%20%20%20%20%20%20%20%20%0A%0A%20%20%20%20%20%20%20%20circle_de7973c6019e4a2eb139ef43916f4715.bindPopup%28popup_bb73d451fdda43a6b2c7559c783cfcdc%29%0A%20%20%20%20%20%20%20%20%3B%0A%0A%20%20%20%20%20%20%20%20%0A%20%20%20%20%0A%20%20%20%20%0A%20%20%20%20%20%20%20%20%20%20%20%20var%20circle_32379c8d103f4487996ba3b199849bce%20%3D%20L.circle%28%0A%20%20%20%20%20%20%20%20%20%20%20%20%20%20%20%20%5B39.3076744%2C%20-123.7994591%5D%2C%0A%20%20%20%20%20%20%20%20%20%20%20%20%20%20%20%20%7B%22bubblingMouseEvents%22%3A%20true%2C%20%22color%22%3A%20%22blue%22%2C%20%22dashArray%22%3A%20null%2C%20%22dashOffset%22%3A%20null%2C%20%22fill%22%3A%20true%2C%20%22fillColor%22%3A%20%22crimson%22%2C%20%22fillOpacity%22%3A%200.2%2C%20%22fillRule%22%3A%20%22evenodd%22%2C%20%22lineCap%22%3A%20%22round%22%2C%20%22lineJoin%22%3A%20%22round%22%2C%20%22opacity%22%3A%201.0%2C%20%22radius%22%3A%20636.0%2C%20%22stroke%22%3A%20true%2C%20%22weight%22%3A%203%7D%0A%20%20%20%20%20%20%20%20%20%20%20%20%29.addTo%28map_8cccd35df9b6419ab9587e9862ee93df%29%3B%0A%20%20%20%20%20%20%20%20%0A%20%20%20%20%0A%20%20%20%20%20%20%20%20var%20popup_48b15b848ec44de49c9b6d4c79abdcc7%20%3D%20L.popup%28%7B%22maxWidth%22%3A%20%22100%25%22%7D%29%3B%0A%0A%20%20%20%20%20%20%20%20%0A%20%20%20%20%20%20%20%20%20%20%20%20var%20html_c4fb70115ebe482b8a7a199743f9333f%20%3D%20%24%28%60%3Cdiv%20id%3D%22html_c4fb70115ebe482b8a7a199743f9333f%22%20style%3D%22width%3A%20100.0%25%3B%20height%3A%20100.0%25%3B%22%3EMendocino%3C/div%3E%60%29%5B0%5D%3B%0A%20%20%20%20%20%20%20%20%20%20%20%20popup_48b15b848ec44de49c9b6d4c79abdcc7.setContent%28html_c4fb70115ebe482b8a7a199743f9333f%29%3B%0A%20%20%20%20%20%20%20%20%0A%0A%20%20%20%20%20%20%20%20circle_32379c8d103f4487996ba3b199849bce.bindPopup%28popup_48b15b848ec44de49c9b6d4c79abdcc7%29%0A%20%20%20%20%20%20%20%20%3B%0A%0A%20%20%20%20%20%20%20%20%0A%20%20%20%20%0A%20%20%20%20%0A%20%20%20%20%20%20%20%20%20%20%20%20var%20circle_c42cdb3132644242be047548bf3e213b%20%3D%20L.circle%28%0A%20%20%20%20%20%20%20%20%20%20%20%20%20%20%20%20%5B37.3021632%2C%20-120.4829677%5D%2C%0A%20%20%20%20%20%20%20%20%20%20%20%20%20%20%20%20%7B%22bubblingMouseEvents%22%3A%20true%2C%20%22color%22%3A%20%22blue%22%2C%20%22dashArray%22%3A%20null%2C%20%22dashOffset%22%3A%20null%2C%20%22fill%22%3A%20true%2C%20%22fillColor%22%3A%20%22crimson%22%2C%20%22fillOpacity%22%3A%200.2%2C%20%22fillRule%22%3A%20%22evenodd%22%2C%20%22lineCap%22%3A%20%22round%22%2C%20%22lineJoin%22%3A%20%22round%22%2C%20%22opacity%22%3A%201.0%2C%20%22radius%22%3A%208580.0%2C%20%22stroke%22%3A%20true%2C%20%22weight%22%3A%203%7D%0A%20%20%20%20%20%20%20%20%20%20%20%20%29.addTo%28map_8cccd35df9b6419ab9587e9862ee93df%29%3B%0A%20%20%20%20%20%20%20%20%0A%20%20%20%20%0A%20%20%20%20%20%20%20%20var%20popup_d4a2c492bacf4c9fa603fa13b48beb64%20%3D%20L.popup%28%7B%22maxWidth%22%3A%20%22100%25%22%7D%29%3B%0A%0A%20%20%20%20%20%20%20%20%0A%20%20%20%20%20%20%20%20%20%20%20%20var%20html_9f669b886bca4409b12dbeef189cbf1a%20%3D%20%24%28%60%3Cdiv%20id%3D%22html_9f669b886bca4409b12dbeef189cbf1a%22%20style%3D%22width%3A%20100.0%25%3B%20height%3A%20100.0%25%3B%22%3EMerced%3C/div%3E%60%29%5B0%5D%3B%0A%20%20%20%20%20%20%20%20%20%20%20%20popup_d4a2c492bacf4c9fa603fa13b48beb64.setContent%28html_9f669b886bca4409b12dbeef189cbf1a%29%3B%0A%20%20%20%20%20%20%20%20%0A%0A%20%20%20%20%20%20%20%20circle_c42cdb3132644242be047548bf3e213b.bindPopup%28popup_d4a2c492bacf4c9fa603fa13b48beb64%29%0A%20%20%20%20%20%20%20%20%3B%0A%0A%20%20%20%20%20%20%20%20%0A%20%20%20%20%0A%20%20%20%20%0A%20%20%20%20%20%20%20%20%20%20%20%20var%20circle_1055eba2ba11445faa40a199da15edab%20%3D%20L.circle%28%0A%20%20%20%20%20%20%20%20%20%20%20%20%20%20%20%20%5B41.4565165%2C%20-120.629366%5D%2C%0A%20%20%20%20%20%20%20%20%20%20%20%20%20%20%20%20%7B%22bubblingMouseEvents%22%3A%20true%2C%20%22color%22%3A%20%22blue%22%2C%20%22dashArray%22%3A%20null%2C%20%22dashOffset%22%3A%20null%2C%20%22fill%22%3A%20true%2C%20%22fillColor%22%3A%20%22crimson%22%2C%20%22fillOpacity%22%3A%200.2%2C%20%22fillRule%22%3A%20%22evenodd%22%2C%20%22lineCap%22%3A%20%22round%22%2C%20%22lineJoin%22%3A%20%22round%22%2C%20%22opacity%22%3A%201.0%2C%20%22radius%22%3A%2048.0%2C%20%22stroke%22%3A%20true%2C%20%22weight%22%3A%203%7D%0A%20%20%20%20%20%20%20%20%20%20%20%20%29.addTo%28map_8cccd35df9b6419ab9587e9862ee93df%29%3B%0A%20%20%20%20%20%20%20%20%0A%20%20%20%20%0A%20%20%20%20%20%20%20%20var%20popup_7cadc6c627ed4c8981bf11e004cfd77d%20%3D%20L.popup%28%7B%22maxWidth%22%3A%20%22100%25%22%7D%29%3B%0A%0A%20%20%20%20%20%20%20%20%0A%20%20%20%20%20%20%20%20%20%20%20%20var%20html_85a07b28df534706a383be10ad75878b%20%3D%20%24%28%60%3Cdiv%20id%3D%22html_85a07b28df534706a383be10ad75878b%22%20style%3D%22width%3A%20100.0%25%3B%20height%3A%20100.0%25%3B%22%3EModoc%3C/div%3E%60%29%5B0%5D%3B%0A%20%20%20%20%20%20%20%20%20%20%20%20popup_7cadc6c627ed4c8981bf11e004cfd77d.setContent%28html_85a07b28df534706a383be10ad75878b%29%3B%0A%20%20%20%20%20%20%20%20%0A%0A%20%20%20%20%20%20%20%20circle_1055eba2ba11445faa40a199da15edab.bindPopup%28popup_7cadc6c627ed4c8981bf11e004cfd77d%29%0A%20%20%20%20%20%20%20%20%3B%0A%0A%20%20%20%20%20%20%20%20%0A%20%20%20%20%0A%20%20%20%20%0A%20%20%20%20%20%20%20%20%20%20%20%20var%20circle_6e18ea662d4045afbd0ed6511324f91a%20%3D%20L.circle%28%0A%20%20%20%20%20%20%20%20%20%20%20%20%20%20%20%20%5B36.6002378%2C%20-121.8946761%5D%2C%0A%20%20%20%20%20%20%20%20%20%20%20%20%20%20%20%20%7B%22bubblingMouseEvents%22%3A%20true%2C%20%22color%22%3A%20%22blue%22%2C%20%22dashArray%22%3A%20null%2C%20%22dashOffset%22%3A%20null%2C%20%22fill%22%3A%20true%2C%20%22fillColor%22%3A%20%22crimson%22%2C%20%22fillOpacity%22%3A%200.2%2C%20%22fillRule%22%3A%20%22evenodd%22%2C%20%22lineCap%22%3A%20%22round%22%2C%20%22lineJoin%22%3A%20%22round%22%2C%20%22opacity%22%3A%201.0%2C%20%22radius%22%3A%2026964.0%2C%20%22stroke%22%3A%20true%2C%20%22weight%22%3A%203%7D%0A%20%20%20%20%20%20%20%20%20%20%20%20%29.addTo%28map_8cccd35df9b6419ab9587e9862ee93df%29%3B%0A%20%20%20%20%20%20%20%20%0A%20%20%20%20%0A%20%20%20%20%20%20%20%20var%20popup_860528f472fc491fbce7510e7f775def%20%3D%20L.popup%28%7B%22maxWidth%22%3A%20%22100%25%22%7D%29%3B%0A%0A%20%20%20%20%20%20%20%20%0A%20%20%20%20%20%20%20%20%20%20%20%20var%20html_e68ff3fe505347da876835f03313ec5f%20%3D%20%24%28%60%3Cdiv%20id%3D%22html_e68ff3fe505347da876835f03313ec5f%22%20style%3D%22width%3A%20100.0%25%3B%20height%3A%20100.0%25%3B%22%3EMonterey%3C/div%3E%60%29%5B0%5D%3B%0A%20%20%20%20%20%20%20%20%20%20%20%20popup_860528f472fc491fbce7510e7f775def.setContent%28html_e68ff3fe505347da876835f03313ec5f%29%3B%0A%20%20%20%20%20%20%20%20%0A%0A%20%20%20%20%20%20%20%20circle_6e18ea662d4045afbd0ed6511324f91a.bindPopup%28popup_860528f472fc491fbce7510e7f775def%29%0A%20%20%20%20%20%20%20%20%3B%0A%0A%20%20%20%20%20%20%20%20%0A%20%20%20%20%0A%20%20%20%20%0A%20%20%20%20%20%20%20%20%20%20%20%20var%20circle_618a9448e5e14337a20650aa1ee8a710%20%3D%20L.circle%28%0A%20%20%20%20%20%20%20%20%20%20%20%20%20%20%20%20%5B36.7567292%2C%20-95.9373265%5D%2C%0A%20%20%20%20%20%20%20%20%20%20%20%20%20%20%20%20%7B%22bubblingMouseEvents%22%3A%20true%2C%20%22color%22%3A%20%22blue%22%2C%20%22dashArray%22%3A%20null%2C%20%22dashOffset%22%3A%20null%2C%20%22fill%22%3A%20true%2C%20%22fillColor%22%3A%20%22crimson%22%2C%20%22fillOpacity%22%3A%200.2%2C%20%22fillRule%22%3A%20%22evenodd%22%2C%20%22lineCap%22%3A%20%22round%22%2C%20%22lineJoin%22%3A%20%22round%22%2C%20%22opacity%22%3A%201.0%2C%20%22radius%22%3A%20648.0%2C%20%22stroke%22%3A%20true%2C%20%22weight%22%3A%203%7D%0A%20%20%20%20%20%20%20%20%20%20%20%20%29.addTo%28map_8cccd35df9b6419ab9587e9862ee93df%29%3B%0A%20%20%20%20%20%20%20%20%0A%20%20%20%20%0A%20%20%20%20%20%20%20%20var%20popup_a588995ebfc342afaeaca50b91ada567%20%3D%20L.popup%28%7B%22maxWidth%22%3A%20%22100%25%22%7D%29%3B%0A%0A%20%20%20%20%20%20%20%20%0A%20%20%20%20%20%20%20%20%20%20%20%20var%20html_f684fadb306c44b8aa2d82e90a1b310e%20%3D%20%24%28%60%3Cdiv%20id%3D%22html_f684fadb306c44b8aa2d82e90a1b310e%22%20style%3D%22width%3A%20100.0%25%3B%20height%3A%20100.0%25%3B%22%3ENapa%3C/div%3E%60%29%5B0%5D%3B%0A%20%20%20%20%20%20%20%20%20%20%20%20popup_a588995ebfc342afaeaca50b91ada567.setContent%28html_f684fadb306c44b8aa2d82e90a1b310e%29%3B%0A%20%20%20%20%20%20%20%20%0A%0A%20%20%20%20%20%20%20%20circle_618a9448e5e14337a20650aa1ee8a710.bindPopup%28popup_a588995ebfc342afaeaca50b91ada567%29%0A%20%20%20%20%20%20%20%20%3B%0A%0A%20%20%20%20%20%20%20%20%0A%20%20%20%20%0A%20%20%20%20%0A%20%20%20%20%20%20%20%20%20%20%20%20var%20circle_f9decf83009c4757a1be7fd3f9344be5%20%3D%20L.circle%28%0A%20%20%20%20%20%20%20%20%20%20%20%20%20%20%20%20%5B38.8026097%2C%20-116.419389%5D%2C%0A%20%20%20%20%20%20%20%20%20%20%20%20%20%20%20%20%7B%22bubblingMouseEvents%22%3A%20true%2C%20%22color%22%3A%20%22blue%22%2C%20%22dashArray%22%3A%20null%2C%20%22dashOffset%22%3A%20null%2C%20%22fill%22%3A%20true%2C%20%22fillColor%22%3A%20%22crimson%22%2C%20%22fillOpacity%22%3A%200.2%2C%20%22fillRule%22%3A%20%22evenodd%22%2C%20%22lineCap%22%3A%20%22round%22%2C%20%22lineJoin%22%3A%20%22round%22%2C%20%22opacity%22%3A%201.0%2C%20%22stroke%22%3A%20true%2C%20%22weight%22%3A%203%7D%0A%20%20%20%20%20%20%20%20%20%20%20%20%29.addTo%28map_8cccd35df9b6419ab9587e9862ee93df%29%3B%0A%20%20%20%20%20%20%20%20%0A%20%20%20%20%0A%20%20%20%20%20%20%20%20var%20popup_c57ae0737faa4c51948839872659812b%20%3D%20L.popup%28%7B%22maxWidth%22%3A%20%22100%25%22%7D%29%3B%0A%0A%20%20%20%20%20%20%20%20%0A%20%20%20%20%20%20%20%20%20%20%20%20var%20html_9c536bf86fa04eaca8d92d6a88e77e3f%20%3D%20%24%28%60%3Cdiv%20id%3D%22html_9c536bf86fa04eaca8d92d6a88e77e3f%22%20style%3D%22width%3A%20100.0%25%3B%20height%3A%20100.0%25%3B%22%3ENevada%3C/div%3E%60%29%5B0%5D%3B%0A%20%20%20%20%20%20%20%20%20%20%20%20popup_c57ae0737faa4c51948839872659812b.setContent%28html_9c536bf86fa04eaca8d92d6a88e77e3f%29%3B%0A%20%20%20%20%20%20%20%20%0A%0A%20%20%20%20%20%20%20%20circle_f9decf83009c4757a1be7fd3f9344be5.bindPopup%28popup_c57ae0737faa4c51948839872659812b%29%0A%20%20%20%20%20%20%20%20%3B%0A%0A%20%20%20%20%20%20%20%20%0A%20%20%20%20%0A%20%20%20%20%0A%20%20%20%20%20%20%20%20%20%20%20%20var%20circle_38903f6418b340d8b0e26c2b7625f87c%20%3D%20L.circle%28%0A%20%20%20%20%20%20%20%20%20%20%20%20%20%20%20%20%5B33.7879139%2C%20-117.8531007%5D%2C%0A%20%20%20%20%20%20%20%20%20%20%20%20%20%20%20%20%7B%22bubblingMouseEvents%22%3A%20true%2C%20%22color%22%3A%20%22blue%22%2C%20%22dashArray%22%3A%20null%2C%20%22dashOffset%22%3A%20null%2C%20%22fill%22%3A%20true%2C%20%22fillColor%22%3A%20%22crimson%22%2C%20%22fillOpacity%22%3A%200.2%2C%20%22fillRule%22%3A%20%22evenodd%22%2C%20%22lineCap%22%3A%20%22round%22%2C%20%22lineJoin%22%3A%20%22round%22%2C%20%22opacity%22%3A%201.0%2C%20%22radius%22%3A%2022260.0%2C%20%22stroke%22%3A%20true%2C%20%22weight%22%3A%203%7D%0A%20%20%20%20%20%20%20%20%20%20%20%20%29.addTo%28map_8cccd35df9b6419ab9587e9862ee93df%29%3B%0A%20%20%20%20%20%20%20%20%0A%20%20%20%20%0A%20%20%20%20%20%20%20%20var%20popup_4a9555d54c464f6fa740ae7ccdf09e22%20%3D%20L.popup%28%7B%22maxWidth%22%3A%20%22100%25%22%7D%29%3B%0A%0A%20%20%20%20%20%20%20%20%0A%20%20%20%20%20%20%20%20%20%20%20%20var%20html_ba2e825625864f8e91638ac492353acd%20%3D%20%24%28%60%3Cdiv%20id%3D%22html_ba2e825625864f8e91638ac492353acd%22%20style%3D%22width%3A%20100.0%25%3B%20height%3A%20100.0%25%3B%22%3EOrange%3C/div%3E%60%29%5B0%5D%3B%0A%20%20%20%20%20%20%20%20%20%20%20%20popup_4a9555d54c464f6fa740ae7ccdf09e22.setContent%28html_ba2e825625864f8e91638ac492353acd%29%3B%0A%20%20%20%20%20%20%20%20%0A%0A%20%20%20%20%20%20%20%20circle_38903f6418b340d8b0e26c2b7625f87c.bindPopup%28popup_4a9555d54c464f6fa740ae7ccdf09e22%29%0A%20%20%20%20%20%20%20%20%3B%0A%0A%20%20%20%20%20%20%20%20%0A%20%20%20%20%0A%20%20%20%20%0A%20%20%20%20%20%20%20%20%20%20%20%20var%20circle_d61ab083b029414f8d115ac9169885e4%20%3D%20L.circle%28%0A%20%20%20%20%20%20%20%20%20%20%20%20%20%20%20%20%5B39.0915751%2C%20-120.8039474%5D%2C%0A%20%20%20%20%20%20%20%20%20%20%20%20%20%20%20%20%7B%22bubblingMouseEvents%22%3A%20true%2C%20%22color%22%3A%20%22blue%22%2C%20%22dashArray%22%3A%20null%2C%20%22dashOffset%22%3A%20null%2C%20%22fill%22%3A%20true%2C%20%22fillColor%22%3A%20%22crimson%22%2C%20%22fillOpacity%22%3A%200.2%2C%20%22fillRule%22%3A%20%22evenodd%22%2C%20%22lineCap%22%3A%20%22round%22%2C%20%22lineJoin%22%3A%20%22round%22%2C%20%22opacity%22%3A%201.0%2C%20%22radius%22%3A%2019644.0%2C%20%22stroke%22%3A%20true%2C%20%22weight%22%3A%203%7D%0A%20%20%20%20%20%20%20%20%20%20%20%20%29.addTo%28map_8cccd35df9b6419ab9587e9862ee93df%29%3B%0A%20%20%20%20%20%20%20%20%0A%20%20%20%20%0A%20%20%20%20%20%20%20%20var%20popup_585f70794a024d3e8087f3107cdb5c16%20%3D%20L.popup%28%7B%22maxWidth%22%3A%20%22100%25%22%7D%29%3B%0A%0A%20%20%20%20%20%20%20%20%0A%20%20%20%20%20%20%20%20%20%20%20%20var%20html_6866d288af62472dbe75a6d916970e38%20%3D%20%24%28%60%3Cdiv%20id%3D%22html_6866d288af62472dbe75a6d916970e38%22%20style%3D%22width%3A%20100.0%25%3B%20height%3A%20100.0%25%3B%22%3EPlacer%3C/div%3E%60%29%5B0%5D%3B%0A%20%20%20%20%20%20%20%20%20%20%20%20popup_585f70794a024d3e8087f3107cdb5c16.setContent%28html_6866d288af62472dbe75a6d916970e38%29%3B%0A%20%20%20%20%20%20%20%20%0A%0A%20%20%20%20%20%20%20%20circle_d61ab083b029414f8d115ac9169885e4.bindPopup%28popup_585f70794a024d3e8087f3107cdb5c16%29%0A%20%20%20%20%20%20%20%20%3B%0A%0A%20%20%20%20%20%20%20%20%0A%20%20%20%20%0A%20%20%20%20%0A%20%20%20%20%20%20%20%20%20%20%20%20var%20circle_e845c1194e9548258c63275347be0178%20%3D%20L.circle%28%0A%20%20%20%20%20%20%20%20%20%20%20%20%20%20%20%20%5B39.9926832%2C%20-120.8039474%5D%2C%0A%20%20%20%20%20%20%20%20%20%20%20%20%20%20%20%20%7B%22bubblingMouseEvents%22%3A%20true%2C%20%22color%22%3A%20%22blue%22%2C%20%22dashArray%22%3A%20null%2C%20%22dashOffset%22%3A%20null%2C%20%22fill%22%3A%20true%2C%20%22fillColor%22%3A%20%22crimson%22%2C%20%22fillOpacity%22%3A%200.2%2C%20%22fillRule%22%3A%20%22evenodd%22%2C%20%22lineCap%22%3A%20%22round%22%2C%20%22lineJoin%22%3A%20%22round%22%2C%20%22opacity%22%3A%201.0%2C%20%22radius%22%3A%2012.0%2C%20%22stroke%22%3A%20true%2C%20%22weight%22%3A%203%7D%0A%20%20%20%20%20%20%20%20%20%20%20%20%29.addTo%28map_8cccd35df9b6419ab9587e9862ee93df%29%3B%0A%20%20%20%20%20%20%20%20%0A%20%20%20%20%0A%20%20%20%20%20%20%20%20var%20popup_327f8275153c4df48c7397962acea7e3%20%3D%20L.popup%28%7B%22maxWidth%22%3A%20%22100%25%22%7D%29%3B%0A%0A%20%20%20%20%20%20%20%20%0A%20%20%20%20%20%20%20%20%20%20%20%20var%20html_5da614aed201492d95d25b388ba84896%20%3D%20%24%28%60%3Cdiv%20id%3D%22html_5da614aed201492d95d25b388ba84896%22%20style%3D%22width%3A%20100.0%25%3B%20height%3A%20100.0%25%3B%22%3EPlumas%3C/div%3E%60%29%5B0%5D%3B%0A%20%20%20%20%20%20%20%20%20%20%20%20popup_327f8275153c4df48c7397962acea7e3.setContent%28html_5da614aed201492d95d25b388ba84896%29%3B%0A%20%20%20%20%20%20%20%20%0A%0A%20%20%20%20%20%20%20%20circle_e845c1194e9548258c63275347be0178.bindPopup%28popup_327f8275153c4df48c7397962acea7e3%29%0A%20%20%20%20%20%20%20%20%3B%0A%0A%20%20%20%20%20%20%20%20%0A%20%20%20%20%0A%20%20%20%20%0A%20%20%20%20%20%20%20%20%20%20%20%20var%20circle_acb17f34cb5a434083d1c2a33f45ce4f%20%3D%20L.circle%28%0A%20%20%20%20%20%20%20%20%20%20%20%20%20%20%20%20%5B33.9806005%2C%20-117.3754942%5D%2C%0A%20%20%20%20%20%20%20%20%20%20%20%20%20%20%20%20%7B%22bubblingMouseEvents%22%3A%20true%2C%20%22color%22%3A%20%22blue%22%2C%20%22dashArray%22%3A%20null%2C%20%22dashOffset%22%3A%20null%2C%20%22fill%22%3A%20true%2C%20%22fillColor%22%3A%20%22crimson%22%2C%20%22fillOpacity%22%3A%200.2%2C%20%22fillRule%22%3A%20%22evenodd%22%2C%20%22lineCap%22%3A%20%22round%22%2C%20%22lineJoin%22%3A%20%22round%22%2C%20%22opacity%22%3A%201.0%2C%20%22radius%22%3A%206624.0%2C%20%22stroke%22%3A%20true%2C%20%22weight%22%3A%203%7D%0A%20%20%20%20%20%20%20%20%20%20%20%20%29.addTo%28map_8cccd35df9b6419ab9587e9862ee93df%29%3B%0A%20%20%20%20%20%20%20%20%0A%20%20%20%20%0A%20%20%20%20%20%20%20%20var%20popup_075413832b0c4f1baaa72e84327f634a%20%3D%20L.popup%28%7B%22maxWidth%22%3A%20%22100%25%22%7D%29%3B%0A%0A%20%20%20%20%20%20%20%20%0A%20%20%20%20%20%20%20%20%20%20%20%20var%20html_20221d2b048a4c1ba305a2c1d8ecfe46%20%3D%20%24%28%60%3Cdiv%20id%3D%22html_20221d2b048a4c1ba305a2c1d8ecfe46%22%20style%3D%22width%3A%20100.0%25%3B%20height%3A%20100.0%25%3B%22%3ERiverside%3C/div%3E%60%29%5B0%5D%3B%0A%20%20%20%20%20%20%20%20%20%20%20%20popup_075413832b0c4f1baaa72e84327f634a.setContent%28html_20221d2b048a4c1ba305a2c1d8ecfe46%29%3B%0A%20%20%20%20%20%20%20%20%0A%0A%20%20%20%20%20%20%20%20circle_acb17f34cb5a434083d1c2a33f45ce4f.bindPopup%28popup_075413832b0c4f1baaa72e84327f634a%29%0A%20%20%20%20%20%20%20%20%3B%0A%0A%20%20%20%20%20%20%20%20%0A%20%20%20%20%0A%20%20%20%20%0A%20%20%20%20%20%20%20%20%20%20%20%20var%20circle_ceaf08bc01f24fe7be4025e51f90d5d1%20%3D%20L.circle%28%0A%20%20%20%20%20%20%20%20%20%20%20%20%20%20%20%20%5B38.5815719%2C%20-121.4943996%5D%2C%0A%20%20%20%20%20%20%20%20%20%20%20%20%20%20%20%20%7B%22bubblingMouseEvents%22%3A%20true%2C%20%22color%22%3A%20%22blue%22%2C%20%22dashArray%22%3A%20null%2C%20%22dashOffset%22%3A%20null%2C%20%22fill%22%3A%20true%2C%20%22fillColor%22%3A%20%22crimson%22%2C%20%22fillOpacity%22%3A%200.2%2C%20%22fillRule%22%3A%20%22evenodd%22%2C%20%22lineCap%22%3A%20%22round%22%2C%20%22lineJoin%22%3A%20%22round%22%2C%20%22opacity%22%3A%201.0%2C%20%22radius%22%3A%2081168.0%2C%20%22stroke%22%3A%20true%2C%20%22weight%22%3A%203%7D%0A%20%20%20%20%20%20%20%20%20%20%20%20%29.addTo%28map_8cccd35df9b6419ab9587e9862ee93df%29%3B%0A%20%20%20%20%20%20%20%20%0A%20%20%20%20%0A%20%20%20%20%20%20%20%20var%20popup_651ba7fe084542aebb25196fe905871c%20%3D%20L.popup%28%7B%22maxWidth%22%3A%20%22100%25%22%7D%29%3B%0A%0A%20%20%20%20%20%20%20%20%0A%20%20%20%20%20%20%20%20%20%20%20%20var%20html_d7ec4278c9f64e5ea9a8a77722e2330b%20%3D%20%24%28%60%3Cdiv%20id%3D%22html_d7ec4278c9f64e5ea9a8a77722e2330b%22%20style%3D%22width%3A%20100.0%25%3B%20height%3A%20100.0%25%3B%22%3ESacramento%3C/div%3E%60%29%5B0%5D%3B%0A%20%20%20%20%20%20%20%20%20%20%20%20popup_651ba7fe084542aebb25196fe905871c.setContent%28html_d7ec4278c9f64e5ea9a8a77722e2330b%29%3B%0A%20%20%20%20%20%20%20%20%0A%0A%20%20%20%20%20%20%20%20circle_ceaf08bc01f24fe7be4025e51f90d5d1.bindPopup%28popup_651ba7fe084542aebb25196fe905871c%29%0A%20%20%20%20%20%20%20%20%3B%0A%0A%20%20%20%20%20%20%20%20%0A%20%20%20%20%0A%20%20%20%20%0A%20%20%20%20%20%20%20%20%20%20%20%20var%20circle_18b6eaac16f540c1a3fadc3f2a014dcd%20%3D%20L.circle%28%0A%20%20%20%20%20%20%20%20%20%20%20%20%20%20%20%20%5B26.132576%2C%20-97.6311006%5D%2C%0A%20%20%20%20%20%20%20%20%20%20%20%20%20%20%20%20%7B%22bubblingMouseEvents%22%3A%20true%2C%20%22color%22%3A%20%22blue%22%2C%20%22dashArray%22%3A%20null%2C%20%22dashOffset%22%3A%20null%2C%20%22fill%22%3A%20true%2C%20%22fillColor%22%3A%20%22crimson%22%2C%20%22fillOpacity%22%3A%200.2%2C%20%22fillRule%22%3A%20%22evenodd%22%2C%20%22lineCap%22%3A%20%22round%22%2C%20%22lineJoin%22%3A%20%22round%22%2C%20%22opacity%22%3A%201.0%2C%20%22radius%22%3A%206312.0%2C%20%22stroke%22%3A%20true%2C%20%22weight%22%3A%203%7D%0A%20%20%20%20%20%20%20%20%20%20%20%20%29.addTo%28map_8cccd35df9b6419ab9587e9862ee93df%29%3B%0A%20%20%20%20%20%20%20%20%0A%20%20%20%20%0A%20%20%20%20%20%20%20%20var%20popup_9b2aeaf2a01743d193cbcc4e9d8e79a2%20%3D%20L.popup%28%7B%22maxWidth%22%3A%20%22100%25%22%7D%29%3B%0A%0A%20%20%20%20%20%20%20%20%0A%20%20%20%20%20%20%20%20%20%20%20%20var%20html_dcff638dee52493b877d67ac855395ac%20%3D%20%24%28%60%3Cdiv%20id%3D%22html_dcff638dee52493b877d67ac855395ac%22%20style%3D%22width%3A%20100.0%25%3B%20height%3A%20100.0%25%3B%22%3ESan%20Benito%3C/div%3E%60%29%5B0%5D%3B%0A%20%20%20%20%20%20%20%20%20%20%20%20popup_9b2aeaf2a01743d193cbcc4e9d8e79a2.setContent%28html_dcff638dee52493b877d67ac855395ac%29%3B%0A%20%20%20%20%20%20%20%20%0A%0A%20%20%20%20%20%20%20%20circle_18b6eaac16f540c1a3fadc3f2a014dcd.bindPopup%28popup_9b2aeaf2a01743d193cbcc4e9d8e79a2%29%0A%20%20%20%20%20%20%20%20%3B%0A%0A%20%20%20%20%20%20%20%20%0A%20%20%20%20%0A%20%20%20%20%0A%20%20%20%20%20%20%20%20%20%20%20%20var%20circle_d03647ce454b4763aa04209b7a85f388%20%3D%20L.circle%28%0A%20%20%20%20%20%20%20%20%20%20%20%20%20%20%20%20%5B34.1083449%2C%20-117.2897652%5D%2C%0A%20%20%20%20%20%20%20%20%20%20%20%20%20%20%20%20%7B%22bubblingMouseEvents%22%3A%20true%2C%20%22color%22%3A%20%22blue%22%2C%20%22dashArray%22%3A%20null%2C%20%22dashOffset%22%3A%20null%2C%20%22fill%22%3A%20true%2C%20%22fillColor%22%3A%20%22crimson%22%2C%20%22fillOpacity%22%3A%200.2%2C%20%22fillRule%22%3A%20%22evenodd%22%2C%20%22lineCap%22%3A%20%22round%22%2C%20%22lineJoin%22%3A%20%22round%22%2C%20%22opacity%22%3A%201.0%2C%20%22radius%22%3A%204152.0%2C%20%22stroke%22%3A%20true%2C%20%22weight%22%3A%203%7D%0A%20%20%20%20%20%20%20%20%20%20%20%20%29.addTo%28map_8cccd35df9b6419ab9587e9862ee93df%29%3B%0A%20%20%20%20%20%20%20%20%0A%20%20%20%20%0A%20%20%20%20%20%20%20%20var%20popup_f1a14b4772624027adba779c44d8f78c%20%3D%20L.popup%28%7B%22maxWidth%22%3A%20%22100%25%22%7D%29%3B%0A%0A%20%20%20%20%20%20%20%20%0A%20%20%20%20%20%20%20%20%20%20%20%20var%20html_740781f0fce74f8aa654e694787f8467%20%3D%20%24%28%60%3Cdiv%20id%3D%22html_740781f0fce74f8aa654e694787f8467%22%20style%3D%22width%3A%20100.0%25%3B%20height%3A%20100.0%25%3B%22%3ESan%20Bernardino%3C/div%3E%60%29%5B0%5D%3B%0A%20%20%20%20%20%20%20%20%20%20%20%20popup_f1a14b4772624027adba779c44d8f78c.setContent%28html_740781f0fce74f8aa654e694787f8467%29%3B%0A%20%20%20%20%20%20%20%20%0A%0A%20%20%20%20%20%20%20%20circle_d03647ce454b4763aa04209b7a85f388.bindPopup%28popup_f1a14b4772624027adba779c44d8f78c%29%0A%20%20%20%20%20%20%20%20%3B%0A%0A%20%20%20%20%20%20%20%20%0A%20%20%20%20%0A%20%20%20%20%0A%20%20%20%20%20%20%20%20%20%20%20%20var%20circle_3012673b90a1411683f058ca61f05682%20%3D%20L.circle%28%0A%20%20%20%20%20%20%20%20%20%20%20%20%20%20%20%20%5B32.715738%2C%20-117.1610838%5D%2C%0A%20%20%20%20%20%20%20%20%20%20%20%20%20%20%20%20%7B%22bubblingMouseEvents%22%3A%20true%2C%20%22color%22%3A%20%22blue%22%2C%20%22dashArray%22%3A%20null%2C%20%22dashOffset%22%3A%20null%2C%20%22fill%22%3A%20true%2C%20%22fillColor%22%3A%20%22crimson%22%2C%20%22fillOpacity%22%3A%200.2%2C%20%22fillRule%22%3A%20%22evenodd%22%2C%20%22lineCap%22%3A%20%22round%22%2C%20%22lineJoin%22%3A%20%22round%22%2C%20%22opacity%22%3A%201.0%2C%20%22radius%22%3A%2024912.0%2C%20%22stroke%22%3A%20true%2C%20%22weight%22%3A%203%7D%0A%20%20%20%20%20%20%20%20%20%20%20%20%29.addTo%28map_8cccd35df9b6419ab9587e9862ee93df%29%3B%0A%20%20%20%20%20%20%20%20%0A%20%20%20%20%0A%20%20%20%20%20%20%20%20var%20popup_bca77e6c9dbc430ba376810700783761%20%3D%20L.popup%28%7B%22maxWidth%22%3A%20%22100%25%22%7D%29%3B%0A%0A%20%20%20%20%20%20%20%20%0A%20%20%20%20%20%20%20%20%20%20%20%20var%20html_50d5cffedf474cb0b9e69b6257518fc4%20%3D%20%24%28%60%3Cdiv%20id%3D%22html_50d5cffedf474cb0b9e69b6257518fc4%22%20style%3D%22width%3A%20100.0%25%3B%20height%3A%20100.0%25%3B%22%3ESan%20Diego%3C/div%3E%60%29%5B0%5D%3B%0A%20%20%20%20%20%20%20%20%20%20%20%20popup_bca77e6c9dbc430ba376810700783761.setContent%28html_50d5cffedf474cb0b9e69b6257518fc4%29%3B%0A%20%20%20%20%20%20%20%20%0A%0A%20%20%20%20%20%20%20%20circle_3012673b90a1411683f058ca61f05682.bindPopup%28popup_bca77e6c9dbc430ba376810700783761%29%0A%20%20%20%20%20%20%20%20%3B%0A%0A%20%20%20%20%20%20%20%20%0A%20%20%20%20%0A%20%20%20%20%0A%20%20%20%20%20%20%20%20%20%20%20%20var%20circle_a17d76426b9a48e2b2ae028e4e150b4e%20%3D%20L.circle%28%0A%20%20%20%20%20%20%20%20%20%20%20%20%20%20%20%20%5B37.7749295%2C%20-122.4194155%5D%2C%0A%20%20%20%20%20%20%20%20%20%20%20%20%20%20%20%20%7B%22bubblingMouseEvents%22%3A%20true%2C%20%22color%22%3A%20%22blue%22%2C%20%22dashArray%22%3A%20null%2C%20%22dashOffset%22%3A%20null%2C%20%22fill%22%3A%20true%2C%20%22fillColor%22%3A%20%22crimson%22%2C%20%22fillOpacity%22%3A%200.2%2C%20%22fillRule%22%3A%20%22evenodd%22%2C%20%22lineCap%22%3A%20%22round%22%2C%20%22lineJoin%22%3A%20%22round%22%2C%20%22opacity%22%3A%201.0%2C%20%22radius%22%3A%2063360.0%2C%20%22stroke%22%3A%20true%2C%20%22weight%22%3A%203%7D%0A%20%20%20%20%20%20%20%20%20%20%20%20%29.addTo%28map_8cccd35df9b6419ab9587e9862ee93df%29%3B%0A%20%20%20%20%20%20%20%20%0A%20%20%20%20%0A%20%20%20%20%20%20%20%20var%20popup_e16529d209dd452fb8ee4f139e196e5e%20%3D%20L.popup%28%7B%22maxWidth%22%3A%20%22100%25%22%7D%29%3B%0A%0A%20%20%20%20%20%20%20%20%0A%20%20%20%20%20%20%20%20%20%20%20%20var%20html_a2815b2d21504eda84595bdae9863a1d%20%3D%20%24%28%60%3Cdiv%20id%3D%22html_a2815b2d21504eda84595bdae9863a1d%22%20style%3D%22width%3A%20100.0%25%3B%20height%3A%20100.0%25%3B%22%3ESan%20Francisco%3C/div%3E%60%29%5B0%5D%3B%0A%20%20%20%20%20%20%20%20%20%20%20%20popup_e16529d209dd452fb8ee4f139e196e5e.setContent%28html_a2815b2d21504eda84595bdae9863a1d%29%3B%0A%20%20%20%20%20%20%20%20%0A%0A%20%20%20%20%20%20%20%20circle_a17d76426b9a48e2b2ae028e4e150b4e.bindPopup%28popup_e16529d209dd452fb8ee4f139e196e5e%29%0A%20%20%20%20%20%20%20%20%3B%0A%0A%20%20%20%20%20%20%20%20%0A%20%20%20%20%0A%20%20%20%20%0A%20%20%20%20%20%20%20%20%20%20%20%20var%20circle_e2f843592c6f4b64933963e5abc3f38b%20%3D%20L.circle%28%0A%20%20%20%20%20%20%20%20%20%20%20%20%20%20%20%20%5B37.9175935%2C%20-121.1710389%5D%2C%0A%20%20%20%20%20%20%20%20%20%20%20%20%20%20%20%20%7B%22bubblingMouseEvents%22%3A%20true%2C%20%22color%22%3A%20%22blue%22%2C%20%22dashArray%22%3A%20null%2C%20%22dashOffset%22%3A%20null%2C%20%22fill%22%3A%20true%2C%20%22fillColor%22%3A%20%22crimson%22%2C%20%22fillOpacity%22%3A%200.2%2C%20%22fillRule%22%3A%20%22evenodd%22%2C%20%22lineCap%22%3A%20%22round%22%2C%20%22lineJoin%22%3A%20%22round%22%2C%20%22opacity%22%3A%201.0%2C%20%22radius%22%3A%2053808.0%2C%20%22stroke%22%3A%20true%2C%20%22weight%22%3A%203%7D%0A%20%20%20%20%20%20%20%20%20%20%20%20%29.addTo%28map_8cccd35df9b6419ab9587e9862ee93df%29%3B%0A%20%20%20%20%20%20%20%20%0A%20%20%20%20%0A%20%20%20%20%20%20%20%20var%20popup_f7b533388cca4d77bab7a875b7562bf8%20%3D%20L.popup%28%7B%22maxWidth%22%3A%20%22100%25%22%7D%29%3B%0A%0A%20%20%20%20%20%20%20%20%0A%20%20%20%20%20%20%20%20%20%20%20%20var%20html_027fa491b06a4033bec0e90959cf4cce%20%3D%20%24%28%60%3Cdiv%20id%3D%22html_027fa491b06a4033bec0e90959cf4cce%22%20style%3D%22width%3A%20100.0%25%3B%20height%3A%20100.0%25%3B%22%3ESan%20Joaquin%3C/div%3E%60%29%5B0%5D%3B%0A%20%20%20%20%20%20%20%20%20%20%20%20popup_f7b533388cca4d77bab7a875b7562bf8.setContent%28html_027fa491b06a4033bec0e90959cf4cce%29%3B%0A%20%20%20%20%20%20%20%20%0A%0A%20%20%20%20%20%20%20%20circle_e2f843592c6f4b64933963e5abc3f38b.bindPopup%28popup_f7b533388cca4d77bab7a875b7562bf8%29%0A%20%20%20%20%20%20%20%20%3B%0A%0A%20%20%20%20%20%20%20%20%0A%20%20%20%20%0A%20%20%20%20%0A%20%20%20%20%20%20%20%20%20%20%20%20var%20circle_cd980aab7d5a46ba8cc699c7c90dd2af%20%3D%20L.circle%28%0A%20%20%20%20%20%20%20%20%20%20%20%20%20%20%20%20%5B35.2827524%2C%20-120.6596156%5D%2C%0A%20%20%20%20%20%20%20%20%20%20%20%20%20%20%20%20%7B%22bubblingMouseEvents%22%3A%20true%2C%20%22color%22%3A%20%22blue%22%2C%20%22dashArray%22%3A%20null%2C%20%22dashOffset%22%3A%20null%2C%20%22fill%22%3A%20true%2C%20%22fillColor%22%3A%20%22crimson%22%2C%20%22fillOpacity%22%3A%200.2%2C%20%22fillRule%22%3A%20%22evenodd%22%2C%20%22lineCap%22%3A%20%22round%22%2C%20%22lineJoin%22%3A%20%22round%22%2C%20%22opacity%22%3A%201.0%2C%20%22radius%22%3A%2011100.0%2C%20%22stroke%22%3A%20true%2C%20%22weight%22%3A%203%7D%0A%20%20%20%20%20%20%20%20%20%20%20%20%29.addTo%28map_8cccd35df9b6419ab9587e9862ee93df%29%3B%0A%20%20%20%20%20%20%20%20%0A%20%20%20%20%0A%20%20%20%20%20%20%20%20var%20popup_bb17188c3c2d47eb9dc178f425d8d47d%20%3D%20L.popup%28%7B%22maxWidth%22%3A%20%22100%25%22%7D%29%3B%0A%0A%20%20%20%20%20%20%20%20%0A%20%20%20%20%20%20%20%20%20%20%20%20var%20html_c1b11a4bd35f4bb6b9f57012730ff170%20%3D%20%24%28%60%3Cdiv%20id%3D%22html_c1b11a4bd35f4bb6b9f57012730ff170%22%20style%3D%22width%3A%20100.0%25%3B%20height%3A%20100.0%25%3B%22%3ESan%20Luis%20Obispo%3C/div%3E%60%29%5B0%5D%3B%0A%20%20%20%20%20%20%20%20%20%20%20%20popup_bb17188c3c2d47eb9dc178f425d8d47d.setContent%28html_c1b11a4bd35f4bb6b9f57012730ff170%29%3B%0A%20%20%20%20%20%20%20%20%0A%0A%20%20%20%20%20%20%20%20circle_cd980aab7d5a46ba8cc699c7c90dd2af.bindPopup%28popup_bb17188c3c2d47eb9dc178f425d8d47d%29%0A%20%20%20%20%20%20%20%20%3B%0A%0A%20%20%20%20%20%20%20%20%0A%20%20%20%20%0A%20%20%20%20%0A%20%20%20%20%20%20%20%20%20%20%20%20var%20circle_1564b500d1fb486aabe196120224dc04%20%3D%20L.circle%28%0A%20%20%20%20%20%20%20%20%20%20%20%20%20%20%20%20%5B37.5629917%2C%20-122.3255254%5D%2C%0A%20%20%20%20%20%20%20%20%20%20%20%20%20%20%20%20%7B%22bubblingMouseEvents%22%3A%20true%2C%20%22color%22%3A%20%22blue%22%2C%20%22dashArray%22%3A%20null%2C%20%22dashOffset%22%3A%20null%2C%20%22fill%22%3A%20true%2C%20%22fillColor%22%3A%20%22crimson%22%2C%20%22fillOpacity%22%3A%200.2%2C%20%22fillRule%22%3A%20%22evenodd%22%2C%20%22lineCap%22%3A%20%22round%22%2C%20%22lineJoin%22%3A%20%22round%22%2C%20%22opacity%22%3A%201.0%2C%20%22radius%22%3A%2014616.0%2C%20%22stroke%22%3A%20true%2C%20%22weight%22%3A%203%7D%0A%20%20%20%20%20%20%20%20%20%20%20%20%29.addTo%28map_8cccd35df9b6419ab9587e9862ee93df%29%3B%0A%20%20%20%20%20%20%20%20%0A%20%20%20%20%0A%20%20%20%20%20%20%20%20var%20popup_744ca27be18c4f8fa5266f8770504e77%20%3D%20L.popup%28%7B%22maxWidth%22%3A%20%22100%25%22%7D%29%3B%0A%0A%20%20%20%20%20%20%20%20%0A%20%20%20%20%20%20%20%20%20%20%20%20var%20html_8039daa48ed94cca97d7352b44d347de%20%3D%20%24%28%60%3Cdiv%20id%3D%22html_8039daa48ed94cca97d7352b44d347de%22%20style%3D%22width%3A%20100.0%25%3B%20height%3A%20100.0%25%3B%22%3ESan%20Mateo%3C/div%3E%60%29%5B0%5D%3B%0A%20%20%20%20%20%20%20%20%20%20%20%20popup_744ca27be18c4f8fa5266f8770504e77.setContent%28html_8039daa48ed94cca97d7352b44d347de%29%3B%0A%20%20%20%20%20%20%20%20%0A%0A%20%20%20%20%20%20%20%20circle_1564b500d1fb486aabe196120224dc04.bindPopup%28popup_744ca27be18c4f8fa5266f8770504e77%29%0A%20%20%20%20%20%20%20%20%3B%0A%0A%20%20%20%20%20%20%20%20%0A%20%20%20%20%0A%20%20%20%20%0A%20%20%20%20%20%20%20%20%20%20%20%20var%20circle_6d6347a2b3c44cd993aaf1a8adb75a9f%20%3D%20L.circle%28%0A%20%20%20%20%20%20%20%20%20%20%20%20%20%20%20%20%5B34.4208305%2C%20-119.6981901%5D%2C%0A%20%20%20%20%20%20%20%20%20%20%20%20%20%20%20%20%7B%22bubblingMouseEvents%22%3A%20true%2C%20%22color%22%3A%20%22blue%22%2C%20%22dashArray%22%3A%20null%2C%20%22dashOffset%22%3A%20null%2C%20%22fill%22%3A%20true%2C%20%22fillColor%22%3A%20%22crimson%22%2C%20%22fillOpacity%22%3A%200.2%2C%20%22fillRule%22%3A%20%22evenodd%22%2C%20%22lineCap%22%3A%20%22round%22%2C%20%22lineJoin%22%3A%20%22round%22%2C%20%22opacity%22%3A%201.0%2C%20%22radius%22%3A%2026244.0%2C%20%22stroke%22%3A%20true%2C%20%22weight%22%3A%203%7D%0A%20%20%20%20%20%20%20%20%20%20%20%20%29.addTo%28map_8cccd35df9b6419ab9587e9862ee93df%29%3B%0A%20%20%20%20%20%20%20%20%0A%20%20%20%20%0A%20%20%20%20%20%20%20%20var%20popup_142b6c6d6d8c4e5ca40e8d6b11ef66d4%20%3D%20L.popup%28%7B%22maxWidth%22%3A%20%22100%25%22%7D%29%3B%0A%0A%20%20%20%20%20%20%20%20%0A%20%20%20%20%20%20%20%20%20%20%20%20var%20html_7218645b57ae4d7cbceaa8100d7419d9%20%3D%20%24%28%60%3Cdiv%20id%3D%22html_7218645b57ae4d7cbceaa8100d7419d9%22%20style%3D%22width%3A%20100.0%25%3B%20height%3A%20100.0%25%3B%22%3ESanta%20Barbara%3C/div%3E%60%29%5B0%5D%3B%0A%20%20%20%20%20%20%20%20%20%20%20%20popup_142b6c6d6d8c4e5ca40e8d6b11ef66d4.setContent%28html_7218645b57ae4d7cbceaa8100d7419d9%29%3B%0A%20%20%20%20%20%20%20%20%0A%0A%20%20%20%20%20%20%20%20circle_6d6347a2b3c44cd993aaf1a8adb75a9f.bindPopup%28popup_142b6c6d6d8c4e5ca40e8d6b11ef66d4%29%0A%20%20%20%20%20%20%20%20%3B%0A%0A%20%20%20%20%20%20%20%20%0A%20%20%20%20%0A%20%20%20%20%0A%20%20%20%20%20%20%20%20%20%20%20%20var%20circle_3e954a44a2044fc1adb72a43b3861cc5%20%3D%20L.circle%28%0A%20%20%20%20%20%20%20%20%20%20%20%20%20%20%20%20%5B37.3541079%2C%20-121.9552356%5D%2C%0A%20%20%20%20%20%20%20%20%20%20%20%20%20%20%20%20%7B%22bubblingMouseEvents%22%3A%20true%2C%20%22color%22%3A%20%22blue%22%2C%20%22dashArray%22%3A%20null%2C%20%22dashOffset%22%3A%20null%2C%20%22fill%22%3A%20true%2C%20%22fillColor%22%3A%20%22crimson%22%2C%20%22fillOpacity%22%3A%200.2%2C%20%22fillRule%22%3A%20%22evenodd%22%2C%20%22lineCap%22%3A%20%22round%22%2C%20%22lineJoin%22%3A%20%22round%22%2C%20%22opacity%22%3A%201.0%2C%20%22radius%22%3A%2048588.0%2C%20%22stroke%22%3A%20true%2C%20%22weight%22%3A%203%7D%0A%20%20%20%20%20%20%20%20%20%20%20%20%29.addTo%28map_8cccd35df9b6419ab9587e9862ee93df%29%3B%0A%20%20%20%20%20%20%20%20%0A%20%20%20%20%0A%20%20%20%20%20%20%20%20var%20popup_f63aaa2bc2b3424b85ac7127cf804a02%20%3D%20L.popup%28%7B%22maxWidth%22%3A%20%22100%25%22%7D%29%3B%0A%0A%20%20%20%20%20%20%20%20%0A%20%20%20%20%20%20%20%20%20%20%20%20var%20html_633cb1670b654363b62a9f455f45bab5%20%3D%20%24%28%60%3Cdiv%20id%3D%22html_633cb1670b654363b62a9f455f45bab5%22%20style%3D%22width%3A%20100.0%25%3B%20height%3A%20100.0%25%3B%22%3ESanta%20Clara%3C/div%3E%60%29%5B0%5D%3B%0A%20%20%20%20%20%20%20%20%20%20%20%20popup_f63aaa2bc2b3424b85ac7127cf804a02.setContent%28html_633cb1670b654363b62a9f455f45bab5%29%3B%0A%20%20%20%20%20%20%20%20%0A%0A%20%20%20%20%20%20%20%20circle_3e954a44a2044fc1adb72a43b3861cc5.bindPopup%28popup_f63aaa2bc2b3424b85ac7127cf804a02%29%0A%20%20%20%20%20%20%20%20%3B%0A%0A%20%20%20%20%20%20%20%20%0A%20%20%20%20%0A%20%20%20%20%0A%20%20%20%20%20%20%20%20%20%20%20%20var%20circle_550f22d1b4d04fbea9734a99dcfd1aab%20%3D%20L.circle%28%0A%20%20%20%20%20%20%20%20%20%20%20%20%20%20%20%20%5B36.9741171%2C%20-122.0307963%5D%2C%0A%20%20%20%20%20%20%20%20%20%20%20%20%20%20%20%20%7B%22bubblingMouseEvents%22%3A%20true%2C%20%22color%22%3A%20%22blue%22%2C%20%22dashArray%22%3A%20null%2C%20%22dashOffset%22%3A%20null%2C%20%22fill%22%3A%20true%2C%20%22fillColor%22%3A%20%22crimson%22%2C%20%22fillOpacity%22%3A%200.2%2C%20%22fillRule%22%3A%20%22evenodd%22%2C%20%22lineCap%22%3A%20%22round%22%2C%20%22lineJoin%22%3A%20%22round%22%2C%20%22opacity%22%3A%201.0%2C%20%22radius%22%3A%2015612.0%2C%20%22stroke%22%3A%20true%2C%20%22weight%22%3A%203%7D%0A%20%20%20%20%20%20%20%20%20%20%20%20%29.addTo%28map_8cccd35df9b6419ab9587e9862ee93df%29%3B%0A%20%20%20%20%20%20%20%20%0A%20%20%20%20%0A%20%20%20%20%20%20%20%20var%20popup_d0968ff398b6494ead13712a8335a227%20%3D%20L.popup%28%7B%22maxWidth%22%3A%20%22100%25%22%7D%29%3B%0A%0A%20%20%20%20%20%20%20%20%0A%20%20%20%20%20%20%20%20%20%20%20%20var%20html_86720dbbef4e44d5ab6c891e6cc8adda%20%3D%20%24%28%60%3Cdiv%20id%3D%22html_86720dbbef4e44d5ab6c891e6cc8adda%22%20style%3D%22width%3A%20100.0%25%3B%20height%3A%20100.0%25%3B%22%3ESanta%20Cruz%3C/div%3E%60%29%5B0%5D%3B%0A%20%20%20%20%20%20%20%20%20%20%20%20popup_d0968ff398b6494ead13712a8335a227.setContent%28html_86720dbbef4e44d5ab6c891e6cc8adda%29%3B%0A%20%20%20%20%20%20%20%20%0A%0A%20%20%20%20%20%20%20%20circle_550f22d1b4d04fbea9734a99dcfd1aab.bindPopup%28popup_d0968ff398b6494ead13712a8335a227%29%0A%20%20%20%20%20%20%20%20%3B%0A%0A%20%20%20%20%20%20%20%20%0A%20%20%20%20%0A%20%20%20%20%0A%20%20%20%20%20%20%20%20%20%20%20%20var%20circle_f4dd90961b20419aa24ba2ca822f4464%20%3D%20L.circle%28%0A%20%20%20%20%20%20%20%20%20%20%20%20%20%20%20%20%5B40.7908864%2C%20-121.8474493%5D%2C%0A%20%20%20%20%20%20%20%20%20%20%20%20%20%20%20%20%7B%22bubblingMouseEvents%22%3A%20true%2C%20%22color%22%3A%20%22blue%22%2C%20%22dashArray%22%3A%20null%2C%20%22dashOffset%22%3A%20null%2C%20%22fill%22%3A%20true%2C%20%22fillColor%22%3A%20%22crimson%22%2C%20%22fillOpacity%22%3A%200.2%2C%20%22fillRule%22%3A%20%22evenodd%22%2C%20%22lineCap%22%3A%20%22round%22%2C%20%22lineJoin%22%3A%20%22round%22%2C%20%22opacity%22%3A%201.0%2C%20%22radius%22%3A%2024.0%2C%20%22stroke%22%3A%20true%2C%20%22weight%22%3A%203%7D%0A%20%20%20%20%20%20%20%20%20%20%20%20%29.addTo%28map_8cccd35df9b6419ab9587e9862ee93df%29%3B%0A%20%20%20%20%20%20%20%20%0A%20%20%20%20%0A%20%20%20%20%20%20%20%20var%20popup_f74700d6ee964230b0b2b16898b96d5e%20%3D%20L.popup%28%7B%22maxWidth%22%3A%20%22100%25%22%7D%29%3B%0A%0A%20%20%20%20%20%20%20%20%0A%20%20%20%20%20%20%20%20%20%20%20%20var%20html_1b6114653b8e46e3aef835697bd349d9%20%3D%20%24%28%60%3Cdiv%20id%3D%22html_1b6114653b8e46e3aef835697bd349d9%22%20style%3D%22width%3A%20100.0%25%3B%20height%3A%20100.0%25%3B%22%3EShasta%3C/div%3E%60%29%5B0%5D%3B%0A%20%20%20%20%20%20%20%20%20%20%20%20popup_f74700d6ee964230b0b2b16898b96d5e.setContent%28html_1b6114653b8e46e3aef835697bd349d9%29%3B%0A%20%20%20%20%20%20%20%20%0A%0A%20%20%20%20%20%20%20%20circle_f4dd90961b20419aa24ba2ca822f4464.bindPopup%28popup_f74700d6ee964230b0b2b16898b96d5e%29%0A%20%20%20%20%20%20%20%20%3B%0A%0A%20%20%20%20%20%20%20%20%0A%20%20%20%20%0A%20%20%20%20%0A%20%20%20%20%20%20%20%20%20%20%20%20var%20circle_5eb6a51d24284c93bae29ab09755dcdb%20%3D%20L.circle%28%0A%20%20%20%20%20%20%20%20%20%20%20%20%20%20%20%20%5B41.7743261%2C%20-122.5770126%5D%2C%0A%20%20%20%20%20%20%20%20%20%20%20%20%20%20%20%20%7B%22bubblingMouseEvents%22%3A%20true%2C%20%22color%22%3A%20%22blue%22%2C%20%22dashArray%22%3A%20null%2C%20%22dashOffset%22%3A%20null%2C%20%22fill%22%3A%20true%2C%20%22fillColor%22%3A%20%22crimson%22%2C%20%22fillOpacity%22%3A%200.2%2C%20%22fillRule%22%3A%20%22evenodd%22%2C%20%22lineCap%22%3A%20%22round%22%2C%20%22lineJoin%22%3A%20%22round%22%2C%20%22opacity%22%3A%201.0%2C%20%22radius%22%3A%2084.0%2C%20%22stroke%22%3A%20true%2C%20%22weight%22%3A%203%7D%0A%20%20%20%20%20%20%20%20%20%20%20%20%29.addTo%28map_8cccd35df9b6419ab9587e9862ee93df%29%3B%0A%20%20%20%20%20%20%20%20%0A%20%20%20%20%0A%20%20%20%20%20%20%20%20var%20popup_c919936e31cf4ab685b6854b8a00485b%20%3D%20L.popup%28%7B%22maxWidth%22%3A%20%22100%25%22%7D%29%3B%0A%0A%20%20%20%20%20%20%20%20%0A%20%20%20%20%20%20%20%20%20%20%20%20var%20html_b61bdfb653c6407fbf51806de23bc786%20%3D%20%24%28%60%3Cdiv%20id%3D%22html_b61bdfb653c6407fbf51806de23bc786%22%20style%3D%22width%3A%20100.0%25%3B%20height%3A%20100.0%25%3B%22%3ESiskiyou%3C/div%3E%60%29%5B0%5D%3B%0A%20%20%20%20%20%20%20%20%20%20%20%20popup_c919936e31cf4ab685b6854b8a00485b.setContent%28html_b61bdfb653c6407fbf51806de23bc786%29%3B%0A%20%20%20%20%20%20%20%20%0A%0A%20%20%20%20%20%20%20%20circle_5eb6a51d24284c93bae29ab09755dcdb.bindPopup%28popup_c919936e31cf4ab685b6854b8a00485b%29%0A%20%20%20%20%20%20%20%20%3B%0A%0A%20%20%20%20%20%20%20%20%0A%20%20%20%20%0A%20%20%20%20%0A%20%20%20%20%20%20%20%20%20%20%20%20var%20circle_d772a4ddda844e6286ac93b53d506be9%20%3D%20L.circle%28%0A%20%20%20%20%20%20%20%20%20%20%20%20%20%20%20%20%5B38.3104969%2C%20-121.9017954%5D%2C%0A%20%20%20%20%20%20%20%20%20%20%20%20%20%20%20%20%7B%22bubblingMouseEvents%22%3A%20true%2C%20%22color%22%3A%20%22blue%22%2C%20%22dashArray%22%3A%20null%2C%20%22dashOffset%22%3A%20null%2C%20%22fill%22%3A%20true%2C%20%22fillColor%22%3A%20%22crimson%22%2C%20%22fillOpacity%22%3A%200.2%2C%20%22fillRule%22%3A%20%22evenodd%22%2C%20%22lineCap%22%3A%20%22round%22%2C%20%22lineJoin%22%3A%20%22round%22%2C%20%22opacity%22%3A%201.0%2C%20%22radius%22%3A%2010872.0%2C%20%22stroke%22%3A%20true%2C%20%22weight%22%3A%203%7D%0A%20%20%20%20%20%20%20%20%20%20%20%20%29.addTo%28map_8cccd35df9b6419ab9587e9862ee93df%29%3B%0A%20%20%20%20%20%20%20%20%0A%20%20%20%20%0A%20%20%20%20%20%20%20%20var%20popup_d01b80d24a8243f4885dee91aee80d00%20%3D%20L.popup%28%7B%22maxWidth%22%3A%20%22100%25%22%7D%29%3B%0A%0A%20%20%20%20%20%20%20%20%0A%20%20%20%20%20%20%20%20%20%20%20%20var%20html_34e3416c7269403aaaf38e90479e92be%20%3D%20%24%28%60%3Cdiv%20id%3D%22html_34e3416c7269403aaaf38e90479e92be%22%20style%3D%22width%3A%20100.0%25%3B%20height%3A%20100.0%25%3B%22%3ESolano%3C/div%3E%60%29%5B0%5D%3B%0A%20%20%20%20%20%20%20%20%20%20%20%20popup_d01b80d24a8243f4885dee91aee80d00.setContent%28html_34e3416c7269403aaaf38e90479e92be%29%3B%0A%20%20%20%20%20%20%20%20%0A%0A%20%20%20%20%20%20%20%20circle_d772a4ddda844e6286ac93b53d506be9.bindPopup%28popup_d01b80d24a8243f4885dee91aee80d00%29%0A%20%20%20%20%20%20%20%20%3B%0A%0A%20%20%20%20%20%20%20%20%0A%20%20%20%20%0A%20%20%20%20%0A%20%20%20%20%20%20%20%20%20%20%20%20var%20circle_91c83f17986b4927850b9bcaa9711364%20%3D%20L.circle%28%0A%20%20%20%20%20%20%20%20%20%20%20%20%20%20%20%20%5B38.291859%2C%20-122.4580356%5D%2C%0A%20%20%20%20%20%20%20%20%20%20%20%20%20%20%20%20%7B%22bubblingMouseEvents%22%3A%20true%2C%20%22color%22%3A%20%22blue%22%2C%20%22dashArray%22%3A%20null%2C%20%22dashOffset%22%3A%20null%2C%20%22fill%22%3A%20true%2C%20%22fillColor%22%3A%20%22crimson%22%2C%20%22fillOpacity%22%3A%200.2%2C%20%22fillRule%22%3A%20%22evenodd%22%2C%20%22lineCap%22%3A%20%22round%22%2C%20%22lineJoin%22%3A%20%22round%22%2C%20%22opacity%22%3A%201.0%2C%20%22radius%22%3A%209096.0%2C%20%22stroke%22%3A%20true%2C%20%22weight%22%3A%203%7D%0A%20%20%20%20%20%20%20%20%20%20%20%20%29.addTo%28map_8cccd35df9b6419ab9587e9862ee93df%29%3B%0A%20%20%20%20%20%20%20%20%0A%20%20%20%20%0A%20%20%20%20%20%20%20%20var%20popup_7e1c21465ad9412786f9ed48b071d59a%20%3D%20L.popup%28%7B%22maxWidth%22%3A%20%22100%25%22%7D%29%3B%0A%0A%20%20%20%20%20%20%20%20%0A%20%20%20%20%20%20%20%20%20%20%20%20var%20html_de47922ddf5447218a0f907d2e51c228%20%3D%20%24%28%60%3Cdiv%20id%3D%22html_de47922ddf5447218a0f907d2e51c228%22%20style%3D%22width%3A%20100.0%25%3B%20height%3A%20100.0%25%3B%22%3ESonoma%3C/div%3E%60%29%5B0%5D%3B%0A%20%20%20%20%20%20%20%20%20%20%20%20popup_7e1c21465ad9412786f9ed48b071d59a.setContent%28html_de47922ddf5447218a0f907d2e51c228%29%3B%0A%20%20%20%20%20%20%20%20%0A%0A%20%20%20%20%20%20%20%20circle_91c83f17986b4927850b9bcaa9711364.bindPopup%28popup_7e1c21465ad9412786f9ed48b071d59a%29%0A%20%20%20%20%20%20%20%20%3B%0A%0A%20%20%20%20%20%20%20%20%0A%20%20%20%20%0A%20%20%20%20%0A%20%20%20%20%20%20%20%20%20%20%20%20var%20circle_ca94f0753265424aab40b0f02d1fb80e%20%3D%20L.circle%28%0A%20%20%20%20%20%20%20%20%20%20%20%20%20%20%20%20%5B37.5090711%2C%20-120.9876321%5D%2C%0A%20%20%20%20%20%20%20%20%20%20%20%20%20%20%20%20%7B%22bubblingMouseEvents%22%3A%20true%2C%20%22color%22%3A%20%22blue%22%2C%20%22dashArray%22%3A%20null%2C%20%22dashOffset%22%3A%20null%2C%20%22fill%22%3A%20true%2C%20%22fillColor%22%3A%20%22crimson%22%2C%20%22fillOpacity%22%3A%200.2%2C%20%22fillRule%22%3A%20%22evenodd%22%2C%20%22lineCap%22%3A%20%22round%22%2C%20%22lineJoin%22%3A%20%22round%22%2C%20%22opacity%22%3A%201.0%2C%20%22radius%22%3A%204428.0%2C%20%22stroke%22%3A%20true%2C%20%22weight%22%3A%203%7D%0A%20%20%20%20%20%20%20%20%20%20%20%20%29.addTo%28map_8cccd35df9b6419ab9587e9862ee93df%29%3B%0A%20%20%20%20%20%20%20%20%0A%20%20%20%20%0A%20%20%20%20%20%20%20%20var%20popup_200bf860babb4d7b894c8b14cb10d7ce%20%3D%20L.popup%28%7B%22maxWidth%22%3A%20%22100%25%22%7D%29%3B%0A%0A%20%20%20%20%20%20%20%20%0A%20%20%20%20%20%20%20%20%20%20%20%20var%20html_ea4a09e9361b448f88553f71254418be%20%3D%20%24%28%60%3Cdiv%20id%3D%22html_ea4a09e9361b448f88553f71254418be%22%20style%3D%22width%3A%20100.0%25%3B%20height%3A%20100.0%25%3B%22%3EStanislaus%3C/div%3E%60%29%5B0%5D%3B%0A%20%20%20%20%20%20%20%20%20%20%20%20popup_200bf860babb4d7b894c8b14cb10d7ce.setContent%28html_ea4a09e9361b448f88553f71254418be%29%3B%0A%20%20%20%20%20%20%20%20%0A%0A%20%20%20%20%20%20%20%20circle_ca94f0753265424aab40b0f02d1fb80e.bindPopup%28popup_200bf860babb4d7b894c8b14cb10d7ce%29%0A%20%20%20%20%20%20%20%20%3B%0A%0A%20%20%20%20%20%20%20%20%0A%20%20%20%20%0A%20%20%20%20%0A%20%20%20%20%20%20%20%20%20%20%20%20var%20circle_977957904b4f4fa8ab718b6a44dca1a6%20%3D%20L.circle%28%0A%20%20%20%20%20%20%20%20%20%20%20%20%20%20%20%20%5B38.9357576%2C%20-94.7433978%5D%2C%0A%20%20%20%20%20%20%20%20%20%20%20%20%20%20%20%20%7B%22bubblingMouseEvents%22%3A%20true%2C%20%22color%22%3A%20%22blue%22%2C%20%22dashArray%22%3A%20null%2C%20%22dashOffset%22%3A%20null%2C%20%22fill%22%3A%20true%2C%20%22fillColor%22%3A%20%22crimson%22%2C%20%22fillOpacity%22%3A%200.2%2C%20%22fillRule%22%3A%20%22evenodd%22%2C%20%22lineCap%22%3A%20%22round%22%2C%20%22lineJoin%22%3A%20%22round%22%2C%20%22opacity%22%3A%201.0%2C%20%22radius%22%3A%205076.0%2C%20%22stroke%22%3A%20true%2C%20%22weight%22%3A%203%7D%0A%20%20%20%20%20%20%20%20%20%20%20%20%29.addTo%28map_8cccd35df9b6419ab9587e9862ee93df%29%3B%0A%20%20%20%20%20%20%20%20%0A%20%20%20%20%0A%20%20%20%20%20%20%20%20var%20popup_99c8af98cf0f48c2a9c1fd191116dfd8%20%3D%20L.popup%28%7B%22maxWidth%22%3A%20%22100%25%22%7D%29%3B%0A%0A%20%20%20%20%20%20%20%20%0A%20%20%20%20%20%20%20%20%20%20%20%20var%20html_7d8b6f02c44a44a1aca99f5b30e85239%20%3D%20%24%28%60%3Cdiv%20id%3D%22html_7d8b6f02c44a44a1aca99f5b30e85239%22%20style%3D%22width%3A%20100.0%25%3B%20height%3A%20100.0%25%3B%22%3ESutter%3C/div%3E%60%29%5B0%5D%3B%0A%20%20%20%20%20%20%20%20%20%20%20%20popup_99c8af98cf0f48c2a9c1fd191116dfd8.setContent%28html_7d8b6f02c44a44a1aca99f5b30e85239%29%3B%0A%20%20%20%20%20%20%20%20%0A%0A%20%20%20%20%20%20%20%20circle_977957904b4f4fa8ab718b6a44dca1a6.bindPopup%28popup_99c8af98cf0f48c2a9c1fd191116dfd8%29%0A%20%20%20%20%20%20%20%20%3B%0A%0A%20%20%20%20%20%20%20%20%0A%20%20%20%20%0A%20%20%20%20%0A%20%20%20%20%20%20%20%20%20%20%20%20var%20circle_0d6090ab080b4757a5635d55542f016f%20%3D%20L.circle%28%0A%20%20%20%20%20%20%20%20%20%20%20%20%20%20%20%20%5B40.0271015%2C%20-122.1233228%5D%2C%0A%20%20%20%20%20%20%20%20%20%20%20%20%20%20%20%20%7B%22bubblingMouseEvents%22%3A%20true%2C%20%22color%22%3A%20%22blue%22%2C%20%22dashArray%22%3A%20null%2C%20%22dashOffset%22%3A%20null%2C%20%22fill%22%3A%20true%2C%20%22fillColor%22%3A%20%22crimson%22%2C%20%22fillOpacity%22%3A%200.2%2C%20%22fillRule%22%3A%20%22evenodd%22%2C%20%22lineCap%22%3A%20%22round%22%2C%20%22lineJoin%22%3A%20%22round%22%2C%20%22opacity%22%3A%201.0%2C%20%22radius%22%3A%20456.0%2C%20%22stroke%22%3A%20true%2C%20%22weight%22%3A%203%7D%0A%20%20%20%20%20%20%20%20%20%20%20%20%29.addTo%28map_8cccd35df9b6419ab9587e9862ee93df%29%3B%0A%20%20%20%20%20%20%20%20%0A%20%20%20%20%0A%20%20%20%20%20%20%20%20var%20popup_2840578826bf428680289a5c6947c6aa%20%3D%20L.popup%28%7B%22maxWidth%22%3A%20%22100%25%22%7D%29%3B%0A%0A%20%20%20%20%20%20%20%20%0A%20%20%20%20%20%20%20%20%20%20%20%20var%20html_d5e3493299fd444da1a392c53197fbc8%20%3D%20%24%28%60%3Cdiv%20id%3D%22html_d5e3493299fd444da1a392c53197fbc8%22%20style%3D%22width%3A%20100.0%25%3B%20height%3A%20100.0%25%3B%22%3ETehama%3C/div%3E%60%29%5B0%5D%3B%0A%20%20%20%20%20%20%20%20%20%20%20%20popup_2840578826bf428680289a5c6947c6aa.setContent%28html_d5e3493299fd444da1a392c53197fbc8%29%3B%0A%20%20%20%20%20%20%20%20%0A%0A%20%20%20%20%20%20%20%20circle_0d6090ab080b4757a5635d55542f016f.bindPopup%28popup_2840578826bf428680289a5c6947c6aa%29%0A%20%20%20%20%20%20%20%20%3B%0A%0A%20%20%20%20%20%20%20%20%0A%20%20%20%20%0A%20%20%20%20%0A%20%20%20%20%20%20%20%20%20%20%20%20var%20circle_a8fb62f84ec544c783c5f09fa6f6af82%20%3D%20L.circle%28%0A%20%20%20%20%20%20%20%20%20%20%20%20%20%20%20%20%5B36.2077288%2C%20-119.3473379%5D%2C%0A%20%20%20%20%20%20%20%20%20%20%20%20%20%20%20%20%7B%22bubblingMouseEvents%22%3A%20true%2C%20%22color%22%3A%20%22blue%22%2C%20%22dashArray%22%3A%20null%2C%20%22dashOffset%22%3A%20null%2C%20%22fill%22%3A%20true%2C%20%22fillColor%22%3A%20%22crimson%22%2C%20%22fillOpacity%22%3A%200.2%2C%20%22fillRule%22%3A%20%22evenodd%22%2C%20%22lineCap%22%3A%20%22round%22%2C%20%22lineJoin%22%3A%20%22round%22%2C%20%22opacity%22%3A%201.0%2C%20%22radius%22%3A%2021744.0%2C%20%22stroke%22%3A%20true%2C%20%22weight%22%3A%203%7D%0A%20%20%20%20%20%20%20%20%20%20%20%20%29.addTo%28map_8cccd35df9b6419ab9587e9862ee93df%29%3B%0A%20%20%20%20%20%20%20%20%0A%20%20%20%20%0A%20%20%20%20%20%20%20%20var%20popup_17450f2284f4490bbbea4a86ec6e162f%20%3D%20L.popup%28%7B%22maxWidth%22%3A%20%22100%25%22%7D%29%3B%0A%0A%20%20%20%20%20%20%20%20%0A%20%20%20%20%20%20%20%20%20%20%20%20var%20html_289eb83fd2ff46b4a32ff248a12e3568%20%3D%20%24%28%60%3Cdiv%20id%3D%22html_289eb83fd2ff46b4a32ff248a12e3568%22%20style%3D%22width%3A%20100.0%25%3B%20height%3A%20100.0%25%3B%22%3ETulare%3C/div%3E%60%29%5B0%5D%3B%0A%20%20%20%20%20%20%20%20%20%20%20%20popup_17450f2284f4490bbbea4a86ec6e162f.setContent%28html_289eb83fd2ff46b4a32ff248a12e3568%29%3B%0A%20%20%20%20%20%20%20%20%0A%0A%20%20%20%20%20%20%20%20circle_a8fb62f84ec544c783c5f09fa6f6af82.bindPopup%28popup_17450f2284f4490bbbea4a86ec6e162f%29%0A%20%20%20%20%20%20%20%20%3B%0A%0A%20%20%20%20%20%20%20%20%0A%20%20%20%20%0A%20%20%20%20%0A%20%20%20%20%20%20%20%20%20%20%20%20var%20circle_33bb24d1d31d45578acb295af7edd991%20%3D%20L.circle%28%0A%20%20%20%20%20%20%20%20%20%20%20%20%20%20%20%20%5B38.029655%2C%20-119.9740534%5D%2C%0A%20%20%20%20%20%20%20%20%20%20%20%20%20%20%20%20%7B%22bubblingMouseEvents%22%3A%20true%2C%20%22color%22%3A%20%22blue%22%2C%20%22dashArray%22%3A%20null%2C%20%22dashOffset%22%3A%20null%2C%20%22fill%22%3A%20true%2C%20%22fillColor%22%3A%20%22crimson%22%2C%20%22fillOpacity%22%3A%200.2%2C%20%22fillRule%22%3A%20%22evenodd%22%2C%20%22lineCap%22%3A%20%22round%22%2C%20%22lineJoin%22%3A%20%22round%22%2C%20%22opacity%22%3A%201.0%2C%20%22stroke%22%3A%20true%2C%20%22weight%22%3A%203%7D%0A%20%20%20%20%20%20%20%20%20%20%20%20%29.addTo%28map_8cccd35df9b6419ab9587e9862ee93df%29%3B%0A%20%20%20%20%20%20%20%20%0A%20%20%20%20%0A%20%20%20%20%20%20%20%20var%20popup_7ed23b2834704032be2cd6945f367606%20%3D%20L.popup%28%7B%22maxWidth%22%3A%20%22100%25%22%7D%29%3B%0A%0A%20%20%20%20%20%20%20%20%0A%20%20%20%20%20%20%20%20%20%20%20%20var%20html_f8fad4fe7da34e9eb11e51936332b13d%20%3D%20%24%28%60%3Cdiv%20id%3D%22html_f8fad4fe7da34e9eb11e51936332b13d%22%20style%3D%22width%3A%20100.0%25%3B%20height%3A%20100.0%25%3B%22%3ETuolumne%3C/div%3E%60%29%5B0%5D%3B%0A%20%20%20%20%20%20%20%20%20%20%20%20popup_7ed23b2834704032be2cd6945f367606.setContent%28html_f8fad4fe7da34e9eb11e51936332b13d%29%3B%0A%20%20%20%20%20%20%20%20%0A%0A%20%20%20%20%20%20%20%20circle_33bb24d1d31d45578acb295af7edd991.bindPopup%28popup_7ed23b2834704032be2cd6945f367606%29%0A%20%20%20%20%20%20%20%20%3B%0A%0A%20%20%20%20%20%20%20%20%0A%20%20%20%20%0A%20%20%20%20%0A%20%20%20%20%20%20%20%20%20%20%20%20var%20circle_eeddf6bd85e740088251bd12556f638e%20%3D%20L.circle%28%0A%20%20%20%20%20%20%20%20%20%20%20%20%20%20%20%20%5B34.2804923%2C%20-119.2945199%5D%2C%0A%20%20%20%20%20%20%20%20%20%20%20%20%20%20%20%20%7B%22bubblingMouseEvents%22%3A%20true%2C%20%22color%22%3A%20%22blue%22%2C%20%22dashArray%22%3A%20null%2C%20%22dashOffset%22%3A%20null%2C%20%22fill%22%3A%20true%2C%20%22fillColor%22%3A%20%22crimson%22%2C%20%22fillOpacity%22%3A%200.2%2C%20%22fillRule%22%3A%20%22evenodd%22%2C%20%22lineCap%22%3A%20%22round%22%2C%20%22lineJoin%22%3A%20%22round%22%2C%20%22opacity%22%3A%201.0%2C%20%22radius%22%3A%208064.0%2C%20%22stroke%22%3A%20true%2C%20%22weight%22%3A%203%7D%0A%20%20%20%20%20%20%20%20%20%20%20%20%29.addTo%28map_8cccd35df9b6419ab9587e9862ee93df%29%3B%0A%20%20%20%20%20%20%20%20%0A%20%20%20%20%0A%20%20%20%20%20%20%20%20var%20popup_bf39e8f25d4746928fd0f5dc8f06ada3%20%3D%20L.popup%28%7B%22maxWidth%22%3A%20%22100%25%22%7D%29%3B%0A%0A%20%20%20%20%20%20%20%20%0A%20%20%20%20%20%20%20%20%20%20%20%20var%20html_314b6c03a2b948c6a5b2faf1a776bf50%20%3D%20%24%28%60%3Cdiv%20id%3D%22html_314b6c03a2b948c6a5b2faf1a776bf50%22%20style%3D%22width%3A%20100.0%25%3B%20height%3A%20100.0%25%3B%22%3EVentura%3C/div%3E%60%29%5B0%5D%3B%0A%20%20%20%20%20%20%20%20%20%20%20%20popup_bf39e8f25d4746928fd0f5dc8f06ada3.setContent%28html_314b6c03a2b948c6a5b2faf1a776bf50%29%3B%0A%20%20%20%20%20%20%20%20%0A%0A%20%20%20%20%20%20%20%20circle_eeddf6bd85e740088251bd12556f638e.bindPopup%28popup_bf39e8f25d4746928fd0f5dc8f06ada3%29%0A%20%20%20%20%20%20%20%20%3B%0A%0A%20%20%20%20%20%20%20%20%0A%20%20%20%20%0A%20%20%20%20%0A%20%20%20%20%20%20%20%20%20%20%20%20var%20circle_67814795375c4c25a78bad64fd3db9b9%20%3D%20L.circle%28%0A%20%20%20%20%20%20%20%20%20%20%20%20%20%20%20%20%5B26.1196393%2C%20-80.1397279%5D%2C%0A%20%20%20%20%20%20%20%20%20%20%20%20%20%20%20%20%7B%22bubblingMouseEvents%22%3A%20true%2C%20%22color%22%3A%20%22blue%22%2C%20%22dashArray%22%3A%20null%2C%20%22dashOffset%22%3A%20null%2C%20%22fill%22%3A%20true%2C%20%22fillColor%22%3A%20%22crimson%22%2C%20%22fillOpacity%22%3A%200.2%2C%20%22fillRule%22%3A%20%22evenodd%22%2C%20%22lineCap%22%3A%20%22round%22%2C%20%22lineJoin%22%3A%20%22round%22%2C%20%22opacity%22%3A%201.0%2C%20%22radius%22%3A%2013044.0%2C%20%22stroke%22%3A%20true%2C%20%22weight%22%3A%203%7D%0A%20%20%20%20%20%20%20%20%20%20%20%20%29.addTo%28map_8cccd35df9b6419ab9587e9862ee93df%29%3B%0A%20%20%20%20%20%20%20%20%0A%20%20%20%20%0A%20%20%20%20%20%20%20%20var%20popup_4fbe513b63f44de4ac4ee8c849174d29%20%3D%20L.popup%28%7B%22maxWidth%22%3A%20%22100%25%22%7D%29%3B%0A%0A%20%20%20%20%20%20%20%20%0A%20%20%20%20%20%20%20%20%20%20%20%20var%20html_e1afd56759094cf08538bf55e7219b8e%20%3D%20%24%28%60%3Cdiv%20id%3D%22html_e1afd56759094cf08538bf55e7219b8e%22%20style%3D%22width%3A%20100.0%25%3B%20height%3A%20100.0%25%3B%22%3EYolo%3C/div%3E%60%29%5B0%5D%3B%0A%20%20%20%20%20%20%20%20%20%20%20%20popup_4fbe513b63f44de4ac4ee8c849174d29.setContent%28html_e1afd56759094cf08538bf55e7219b8e%29%3B%0A%20%20%20%20%20%20%20%20%0A%0A%20%20%20%20%20%20%20%20circle_67814795375c4c25a78bad64fd3db9b9.bindPopup%28popup_4fbe513b63f44de4ac4ee8c849174d29%29%0A%20%20%20%20%20%20%20%20%3B%0A%0A%20%20%20%20%20%20%20%20%0A%20%20%20%20%0A%20%20%20%20%0A%20%20%20%20%20%20%20%20%20%20%20%20var%20circle_ea227152ce164c3baa3bc3f54e508232%20%3D%20L.circle%28%0A%20%20%20%20%20%20%20%20%20%20%20%20%20%20%20%20%5B39.2547027%2C%20-73.990051%5D%2C%0A%20%20%20%20%20%20%20%20%20%20%20%20%20%20%20%20%7B%22bubblingMouseEvents%22%3A%20true%2C%20%22color%22%3A%20%22blue%22%2C%20%22dashArray%22%3A%20null%2C%20%22dashOffset%22%3A%20null%2C%20%22fill%22%3A%20true%2C%20%22fillColor%22%3A%20%22crimson%22%2C%20%22fillOpacity%22%3A%200.2%2C%20%22fillRule%22%3A%20%22evenodd%22%2C%20%22lineCap%22%3A%20%22round%22%2C%20%22lineJoin%22%3A%20%22round%22%2C%20%22opacity%22%3A%201.0%2C%20%22radius%22%3A%205148.0%2C%20%22stroke%22%3A%20true%2C%20%22weight%22%3A%203%7D%0A%20%20%20%20%20%20%20%20%20%20%20%20%29.addTo%28map_8cccd35df9b6419ab9587e9862ee93df%29%3B%0A%20%20%20%20%20%20%20%20%0A%20%20%20%20%0A%20%20%20%20%20%20%20%20var%20popup_b343ba1f25474e71a038a387fcc70bf0%20%3D%20L.popup%28%7B%22maxWidth%22%3A%20%22100%25%22%7D%29%3B%0A%0A%20%20%20%20%20%20%20%20%0A%20%20%20%20%20%20%20%20%20%20%20%20var%20html_dec594633ba54baca13fe86fc5471bca%20%3D%20%24%28%60%3Cdiv%20id%3D%22html_dec594633ba54baca13fe86fc5471bca%22%20style%3D%22width%3A%20100.0%25%3B%20height%3A%20100.0%25%3B%22%3EYuba%3C/div%3E%60%29%5B0%5D%3B%0A%20%20%20%20%20%20%20%20%20%20%20%20popup_b343ba1f25474e71a038a387fcc70bf0.setContent%28html_dec594633ba54baca13fe86fc5471bca%29%3B%0A%20%20%20%20%20%20%20%20%0A%0A%20%20%20%20%20%20%20%20circle_ea227152ce164c3baa3bc3f54e508232.bindPopup%28popup_b343ba1f25474e71a038a387fcc70bf0%29%0A%20%20%20%20%20%20%20%20%3B%0A%0A%20%20%20%20%20%20%20%20%0A%20%20%20%20%0A%20%20%20%20%0A%20%20%20%20%20%20%20%20%20%20%20%20var%20circle_370ddda6997c433a9daad1feb1a44136%20%3D%20L.circle%28%0A%20%20%20%20%20%20%20%20%20%20%20%20%20%20%20%20%5B45.4076205%2C%20-122.5703692%5D%2C%0A%20%20%20%20%20%20%20%20%20%20%20%20%20%20%20%20%7B%22bubblingMouseEvents%22%3A%20true%2C%20%22color%22%3A%20%22blue%22%2C%20%22dashArray%22%3A%20null%2C%20%22dashOffset%22%3A%20null%2C%20%22fill%22%3A%20true%2C%20%22fillColor%22%3A%20%22crimson%22%2C%20%22fillOpacity%22%3A%200.2%2C%20%22fillRule%22%3A%20%22evenodd%22%2C%20%22lineCap%22%3A%20%22round%22%2C%20%22lineJoin%22%3A%20%22round%22%2C%20%22opacity%22%3A%201.0%2C%20%22radius%22%3A%201956.0%2C%20%22stroke%22%3A%20true%2C%20%22weight%22%3A%203%7D%0A%20%20%20%20%20%20%20%20%20%20%20%20%29.addTo%28map_8cccd35df9b6419ab9587e9862ee93df%29%3B%0A%20%20%20%20%20%20%20%20%0A%20%20%20%20%0A%20%20%20%20%20%20%20%20var%20popup_2ff73421f1b74ff4aa9239b0a820f60d%20%3D%20L.popup%28%7B%22maxWidth%22%3A%20%22100%25%22%7D%29%3B%0A%0A%20%20%20%20%20%20%20%20%0A%20%20%20%20%20%20%20%20%20%20%20%20var%20html_af646fdc0c654130b0a73c0f3964ac08%20%3D%20%24%28%60%3Cdiv%20id%3D%22html_af646fdc0c654130b0a73c0f3964ac08%22%20style%3D%22width%3A%20100.0%25%3B%20height%3A%20100.0%25%3B%22%3EClackamas%3C/div%3E%60%29%5B0%5D%3B%0A%20%20%20%20%20%20%20%20%20%20%20%20popup_2ff73421f1b74ff4aa9239b0a820f60d.setContent%28html_af646fdc0c654130b0a73c0f3964ac08%29%3B%0A%20%20%20%20%20%20%20%20%0A%0A%20%20%20%20%20%20%20%20circle_370ddda6997c433a9daad1feb1a44136.bindPopup%28popup_2ff73421f1b74ff4aa9239b0a820f60d%29%0A%20%20%20%20%20%20%20%20%3B%0A%0A%20%20%20%20%20%20%20%20%0A%20%20%20%20%0A%20%20%20%20%0A%20%20%20%20%20%20%20%20%20%20%20%20var%20circle_a8af36ded9e44e46ba21373460b2bcb5%20%3D%20L.circle%28%0A%20%20%20%20%20%20%20%20%20%20%20%20%20%20%20%20%5B46.0210796%2C%20-123.7653042%5D%2C%0A%20%20%20%20%20%20%20%20%20%20%20%20%20%20%20%20%7B%22bubblingMouseEvents%22%3A%20true%2C%20%22color%22%3A%20%22blue%22%2C%20%22dashArray%22%3A%20null%2C%20%22dashOffset%22%3A%20null%2C%20%22fill%22%3A%20true%2C%20%22fillColor%22%3A%20%22crimson%22%2C%20%22fillOpacity%22%3A%200.2%2C%20%22fillRule%22%3A%20%22evenodd%22%2C%20%22lineCap%22%3A%20%22round%22%2C%20%22lineJoin%22%3A%20%22round%22%2C%20%22opacity%22%3A%201.0%2C%20%22radius%22%3A%201176.0%2C%20%22stroke%22%3A%20true%2C%20%22weight%22%3A%203%7D%0A%20%20%20%20%20%20%20%20%20%20%20%20%29.addTo%28map_8cccd35df9b6419ab9587e9862ee93df%29%3B%0A%20%20%20%20%20%20%20%20%0A%20%20%20%20%0A%20%20%20%20%20%20%20%20var%20popup_8efffe7bb60c44b6be824b9eef5d7e92%20%3D%20L.popup%28%7B%22maxWidth%22%3A%20%22100%25%22%7D%29%3B%0A%0A%20%20%20%20%20%20%20%20%0A%20%20%20%20%20%20%20%20%20%20%20%20var%20html_d2708b4236a44d9ca4c98d8efaf79cca%20%3D%20%24%28%60%3Cdiv%20id%3D%22html_d2708b4236a44d9ca4c98d8efaf79cca%22%20style%3D%22width%3A%20100.0%25%3B%20height%3A%20100.0%25%3B%22%3EClatsop%3C/div%3E%60%29%5B0%5D%3B%0A%20%20%20%20%20%20%20%20%20%20%20%20popup_8efffe7bb60c44b6be824b9eef5d7e92.setContent%28html_d2708b4236a44d9ca4c98d8efaf79cca%29%3B%0A%20%20%20%20%20%20%20%20%0A%0A%20%20%20%20%20%20%20%20circle_a8af36ded9e44e46ba21373460b2bcb5.bindPopup%28popup_8efffe7bb60c44b6be824b9eef5d7e92%29%0A%20%20%20%20%20%20%20%20%3B%0A%0A%20%20%20%20%20%20%20%20%0A%20%20%20%20%0A%20%20%20%20%0A%20%20%20%20%20%20%20%20%20%20%20%20var%20circle_d4fc5bf037d24025a55e7c6401b62635%20%3D%20L.circle%28%0A%20%20%20%20%20%20%20%20%20%20%20%20%20%20%20%20%5B35.4611664%2C%20-97.6502456%5D%2C%0A%20%20%20%20%20%20%20%20%20%20%20%20%20%20%20%20%7B%22bubblingMouseEvents%22%3A%20true%2C%20%22color%22%3A%20%22blue%22%2C%20%22dashArray%22%3A%20null%2C%20%22dashOffset%22%3A%20null%2C%20%22fill%22%3A%20true%2C%20%22fillColor%22%3A%20%22crimson%22%2C%20%22fillOpacity%22%3A%200.2%2C%20%22fillRule%22%3A%20%22evenodd%22%2C%20%22lineCap%22%3A%20%22round%22%2C%20%22lineJoin%22%3A%20%22round%22%2C%20%22opacity%22%3A%201.0%2C%20%22radius%22%3A%20456.0%2C%20%22stroke%22%3A%20true%2C%20%22weight%22%3A%203%7D%0A%20%20%20%20%20%20%20%20%20%20%20%20%29.addTo%28map_8cccd35df9b6419ab9587e9862ee93df%29%3B%0A%20%20%20%20%20%20%20%20%0A%20%20%20%20%0A%20%20%20%20%20%20%20%20var%20popup_5c3b1b2d880744f4bfde088e7ae93082%20%3D%20L.popup%28%7B%22maxWidth%22%3A%20%22100%25%22%7D%29%3B%0A%0A%20%20%20%20%20%20%20%20%0A%20%20%20%20%20%20%20%20%20%20%20%20var%20html_bc939dfce13943349e5809631f631a03%20%3D%20%24%28%60%3Cdiv%20id%3D%22html_bc939dfce13943349e5809631f631a03%22%20style%3D%22width%3A%20100.0%25%3B%20height%3A%20100.0%25%3B%22%3EColumbia%3C/div%3E%60%29%5B0%5D%3B%0A%20%20%20%20%20%20%20%20%20%20%20%20popup_5c3b1b2d880744f4bfde088e7ae93082.setContent%28html_bc939dfce13943349e5809631f631a03%29%3B%0A%20%20%20%20%20%20%20%20%0A%0A%20%20%20%20%20%20%20%20circle_d4fc5bf037d24025a55e7c6401b62635.bindPopup%28popup_5c3b1b2d880744f4bfde088e7ae93082%29%0A%20%20%20%20%20%20%20%20%3B%0A%0A%20%20%20%20%20%20%20%20%0A%20%20%20%20%0A%20%20%20%20%0A%20%20%20%20%20%20%20%20%20%20%20%20var%20circle_9a0ce9b15f704af7ae6ba3427d840b71%20%3D%20L.circle%28%0A%20%20%20%20%20%20%20%20%20%20%20%20%20%20%20%20%5B37.2705897%2C%20-79.9393534%5D%2C%0A%20%20%20%20%20%20%20%20%20%20%20%20%20%20%20%20%7B%22bubblingMouseEvents%22%3A%20true%2C%20%22color%22%3A%20%22blue%22%2C%20%22dashArray%22%3A%20null%2C%20%22dashOffset%22%3A%20null%2C%20%22fill%22%3A%20true%2C%20%22fillColor%22%3A%20%22crimson%22%2C%20%22fillOpacity%22%3A%200.2%2C%20%22fillRule%22%3A%20%22evenodd%22%2C%20%22lineCap%22%3A%20%22round%22%2C%20%22lineJoin%22%3A%20%22round%22%2C%20%22opacity%22%3A%201.0%2C%20%22radius%22%3A%20168.0%2C%20%22stroke%22%3A%20true%2C%20%22weight%22%3A%203%7D%0A%20%20%20%20%20%20%20%20%20%20%20%20%29.addTo%28map_8cccd35df9b6419ab9587e9862ee93df%29%3B%0A%20%20%20%20%20%20%20%20%0A%20%20%20%20%0A%20%20%20%20%20%20%20%20var%20popup_81dbb23333a44d40a6b2a29347dd56f2%20%3D%20L.popup%28%7B%22maxWidth%22%3A%20%22100%25%22%7D%29%3B%0A%0A%20%20%20%20%20%20%20%20%0A%20%20%20%20%20%20%20%20%20%20%20%20var%20html_a2ed83dab1d0428fbfaf0a8683d3511c%20%3D%20%24%28%60%3Cdiv%20id%3D%22html_a2ed83dab1d0428fbfaf0a8683d3511c%22%20style%3D%22width%3A%20100.0%25%3B%20height%3A%20100.0%25%3B%22%3EDeschutes%3C/div%3E%60%29%5B0%5D%3B%0A%20%20%20%20%20%20%20%20%20%20%20%20popup_81dbb23333a44d40a6b2a29347dd56f2.setContent%28html_a2ed83dab1d0428fbfaf0a8683d3511c%29%3B%0A%20%20%20%20%20%20%20%20%0A%0A%20%20%20%20%20%20%20%20circle_9a0ce9b15f704af7ae6ba3427d840b71.bindPopup%28popup_81dbb23333a44d40a6b2a29347dd56f2%29%0A%20%20%20%20%20%20%20%20%3B%0A%0A%20%20%20%20%20%20%20%20%0A%20%20%20%20%0A%20%20%20%20%0A%20%20%20%20%20%20%20%20%20%20%20%20var%20circle_88e76944f18149598895352826692cc2%20%3D%20L.circle%28%0A%20%20%20%20%20%20%20%20%20%20%20%20%20%20%20%20%5B45.7067985%2C%20-121.528087%5D%2C%0A%20%20%20%20%20%20%20%20%20%20%20%20%20%20%20%20%7B%22bubblingMouseEvents%22%3A%20true%2C%20%22color%22%3A%20%22blue%22%2C%20%22dashArray%22%3A%20null%2C%20%22dashOffset%22%3A%20null%2C%20%22fill%22%3A%20true%2C%20%22fillColor%22%3A%20%22crimson%22%2C%20%22fillOpacity%22%3A%200.2%2C%20%22fillRule%22%3A%20%22evenodd%22%2C%20%22lineCap%22%3A%20%22round%22%2C%20%22lineJoin%22%3A%20%22round%22%2C%20%22opacity%22%3A%201.0%2C%20%22radius%22%3A%205544.0%2C%20%22stroke%22%3A%20true%2C%20%22weight%22%3A%203%7D%0A%20%20%20%20%20%20%20%20%20%20%20%20%29.addTo%28map_8cccd35df9b6419ab9587e9862ee93df%29%3B%0A%20%20%20%20%20%20%20%20%0A%20%20%20%20%0A%20%20%20%20%20%20%20%20var%20popup_7e85097a35014929b571af5bb9c55110%20%3D%20L.popup%28%7B%22maxWidth%22%3A%20%22100%25%22%7D%29%3B%0A%0A%20%20%20%20%20%20%20%20%0A%20%20%20%20%20%20%20%20%20%20%20%20var%20html_62f3e829c8fb48e5a0958689e5a9ea87%20%3D%20%24%28%60%3Cdiv%20id%3D%22html_62f3e829c8fb48e5a0958689e5a9ea87%22%20style%3D%22width%3A%20100.0%25%3B%20height%3A%20100.0%25%3B%22%3EHood%20River%3C/div%3E%60%29%5B0%5D%3B%0A%20%20%20%20%20%20%20%20%20%20%20%20popup_7e85097a35014929b571af5bb9c55110.setContent%28html_62f3e829c8fb48e5a0958689e5a9ea87%29%3B%0A%20%20%20%20%20%20%20%20%0A%0A%20%20%20%20%20%20%20%20circle_88e76944f18149598895352826692cc2.bindPopup%28popup_7e85097a35014929b571af5bb9c55110%29%0A%20%20%20%20%20%20%20%20%3B%0A%0A%20%20%20%20%20%20%20%20%0A%20%20%20%20%0A%20%20%20%20%0A%20%20%20%20%20%20%20%20%20%20%20%20var%20circle_e780db7ce48d4250a7996ac330cd87c3%20%3D%20L.circle%28%0A%20%20%20%20%20%20%20%20%20%20%20%20%20%20%20%20%5B32.2987573%2C%20-90.1848103%5D%2C%0A%20%20%20%20%20%20%20%20%20%20%20%20%20%20%20%20%7B%22bubblingMouseEvents%22%3A%20true%2C%20%22color%22%3A%20%22blue%22%2C%20%22dashArray%22%3A%20null%2C%20%22dashOffset%22%3A%20null%2C%20%22fill%22%3A%20true%2C%20%22fillColor%22%3A%20%22crimson%22%2C%20%22fillOpacity%22%3A%200.2%2C%20%22fillRule%22%3A%20%22evenodd%22%2C%20%22lineCap%22%3A%20%22round%22%2C%20%22lineJoin%22%3A%20%22round%22%2C%20%22opacity%22%3A%201.0%2C%20%22radius%22%3A%20492.0%2C%20%22stroke%22%3A%20true%2C%20%22weight%22%3A%203%7D%0A%20%20%20%20%20%20%20%20%20%20%20%20%29.addTo%28map_8cccd35df9b6419ab9587e9862ee93df%29%3B%0A%20%20%20%20%20%20%20%20%0A%20%20%20%20%0A%20%20%20%20%20%20%20%20var%20popup_e4feca60af664630b8637eaef2e567b9%20%3D%20L.popup%28%7B%22maxWidth%22%3A%20%22100%25%22%7D%29%3B%0A%0A%20%20%20%20%20%20%20%20%0A%20%20%20%20%20%20%20%20%20%20%20%20var%20html_cc17c22b7be44b9d8ebdbec2b1dc0466%20%3D%20%24%28%60%3Cdiv%20id%3D%22html_cc17c22b7be44b9d8ebdbec2b1dc0466%22%20style%3D%22width%3A%20100.0%25%3B%20height%3A%20100.0%25%3B%22%3EJackson%3C/div%3E%60%29%5B0%5D%3B%0A%20%20%20%20%20%20%20%20%20%20%20%20popup_e4feca60af664630b8637eaef2e567b9.setContent%28html_cc17c22b7be44b9d8ebdbec2b1dc0466%29%3B%0A%20%20%20%20%20%20%20%20%0A%0A%20%20%20%20%20%20%20%20circle_e780db7ce48d4250a7996ac330cd87c3.bindPopup%28popup_e4feca60af664630b8637eaef2e567b9%29%0A%20%20%20%20%20%20%20%20%3B%0A%0A%20%20%20%20%20%20%20%20%0A%20%20%20%20%0A%20%20%20%20%0A%20%20%20%20%20%20%20%20%20%20%20%20var%20circle_0f381b2a5a814a9d80064c08ee399735%20%3D%20L.circle%28%0A%20%20%20%20%20%20%20%20%20%20%20%20%20%20%20%20%5B37.1095843%2C%20-95.7625713%5D%2C%0A%20%20%20%20%20%20%20%20%20%20%20%20%20%20%20%20%7B%22bubblingMouseEvents%22%3A%20true%2C%20%22color%22%3A%20%22blue%22%2C%20%22dashArray%22%3A%20null%2C%20%22dashOffset%22%3A%20null%2C%20%22fill%22%3A%20true%2C%20%22fillColor%22%3A%20%22crimson%22%2C%20%22fillOpacity%22%3A%200.2%2C%20%22fillRule%22%3A%20%22evenodd%22%2C%20%22lineCap%22%3A%20%22round%22%2C%20%22lineJoin%22%3A%20%22round%22%2C%20%22opacity%22%3A%201.0%2C%20%22radius%22%3A%20144.0%2C%20%22stroke%22%3A%20true%2C%20%22weight%22%3A%203%7D%0A%20%20%20%20%20%20%20%20%20%20%20%20%29.addTo%28map_8cccd35df9b6419ab9587e9862ee93df%29%3B%0A%20%20%20%20%20%20%20%20%0A%20%20%20%20%0A%20%20%20%20%20%20%20%20var%20popup_8c931f9cd9db40438b67a8606ea84913%20%3D%20L.popup%28%7B%22maxWidth%22%3A%20%22100%25%22%7D%29%3B%0A%0A%20%20%20%20%20%20%20%20%0A%20%20%20%20%20%20%20%20%20%20%20%20var%20html_69fd2254d5dc4c4da3d2c2226d5355f3%20%3D%20%24%28%60%3Cdiv%20id%3D%22html_69fd2254d5dc4c4da3d2c2226d5355f3%22%20style%3D%22width%3A%20100.0%25%3B%20height%3A%20100.0%25%3B%22%3EJefferson%3C/div%3E%60%29%5B0%5D%3B%0A%20%20%20%20%20%20%20%20%20%20%20%20popup_8c931f9cd9db40438b67a8606ea84913.setContent%28html_69fd2254d5dc4c4da3d2c2226d5355f3%29%3B%0A%20%20%20%20%20%20%20%20%0A%0A%20%20%20%20%20%20%20%20circle_0f381b2a5a814a9d80064c08ee399735.bindPopup%28popup_8c931f9cd9db40438b67a8606ea84913%29%0A%20%20%20%20%20%20%20%20%3B%0A%0A%20%20%20%20%20%20%20%20%0A%20%20%20%20%0A%20%20%20%20%0A%20%20%20%20%20%20%20%20%20%20%20%20var%20circle_1bd1ad7de63f4339a0ab2354139be6c3%20%3D%20L.circle%28%0A%20%20%20%20%20%20%20%20%20%20%20%20%20%20%20%20%5B36.1267656%2C%20-86.7890555%5D%2C%0A%20%20%20%20%20%20%20%20%20%20%20%20%20%20%20%20%7B%22bubblingMouseEvents%22%3A%20true%2C%20%22color%22%3A%20%22blue%22%2C%20%22dashArray%22%3A%20null%2C%20%22dashOffset%22%3A%20null%2C%20%22fill%22%3A%20true%2C%20%22fillColor%22%3A%20%22crimson%22%2C%20%22fillOpacity%22%3A%200.2%2C%20%22fillRule%22%3A%20%22evenodd%22%2C%20%22lineCap%22%3A%20%22round%22%2C%20%22lineJoin%22%3A%20%22round%22%2C%20%22opacity%22%3A%201.0%2C%20%22stroke%22%3A%20true%2C%20%22weight%22%3A%203%7D%0A%20%20%20%20%20%20%20%20%20%20%20%20%29.addTo%28map_8cccd35df9b6419ab9587e9862ee93df%29%3B%0A%20%20%20%20%20%20%20%20%0A%20%20%20%20%0A%20%20%20%20%20%20%20%20var%20popup_3813ce784ab04dcdacc6791db3aec4d7%20%3D%20L.popup%28%7B%22maxWidth%22%3A%20%22100%25%22%7D%29%3B%0A%0A%20%20%20%20%20%20%20%20%0A%20%20%20%20%20%20%20%20%20%20%20%20var%20html_d29cff977d34474b981c00681229bb8d%20%3D%20%24%28%60%3Cdiv%20id%3D%22html_d29cff977d34474b981c00681229bb8d%22%20style%3D%22width%3A%20100.0%25%3B%20height%3A%20100.0%25%3B%22%3EJosephine%3C/div%3E%60%29%5B0%5D%3B%0A%20%20%20%20%20%20%20%20%20%20%20%20popup_3813ce784ab04dcdacc6791db3aec4d7.setContent%28html_d29cff977d34474b981c00681229bb8d%29%3B%0A%20%20%20%20%20%20%20%20%0A%0A%20%20%20%20%20%20%20%20circle_1bd1ad7de63f4339a0ab2354139be6c3.bindPopup%28popup_3813ce784ab04dcdacc6791db3aec4d7%29%0A%20%20%20%20%20%20%20%20%3B%0A%0A%20%20%20%20%20%20%20%20%0A%20%20%20%20%0A%20%20%20%20%0A%20%20%20%20%20%20%20%20%20%20%20%20var%20circle_49ccdd64d405452da93fe7d96bef971b%20%3D%20L.circle%28%0A%20%20%20%20%20%20%20%20%20%20%20%20%20%20%20%20%5B41.5265092%2C%20-124.0384069%5D%2C%0A%20%20%20%20%20%20%20%20%20%20%20%20%20%20%20%20%7B%22bubblingMouseEvents%22%3A%20true%2C%20%22color%22%3A%20%22blue%22%2C%20%22dashArray%22%3A%20null%2C%20%22dashOffset%22%3A%20null%2C%20%22fill%22%3A%20true%2C%20%22fillColor%22%3A%20%22crimson%22%2C%20%22fillOpacity%22%3A%200.2%2C%20%22fillRule%22%3A%20%22evenodd%22%2C%20%22lineCap%22%3A%20%22round%22%2C%20%22lineJoin%22%3A%20%22round%22%2C%20%22opacity%22%3A%201.0%2C%20%22radius%22%3A%2012.0%2C%20%22stroke%22%3A%20true%2C%20%22weight%22%3A%203%7D%0A%20%20%20%20%20%20%20%20%20%20%20%20%29.addTo%28map_8cccd35df9b6419ab9587e9862ee93df%29%3B%0A%20%20%20%20%20%20%20%20%0A%20%20%20%20%0A%20%20%20%20%20%20%20%20var%20popup_8a1c87f07b054e9ab24b1433f9e149bb%20%3D%20L.popup%28%7B%22maxWidth%22%3A%20%22100%25%22%7D%29%3B%0A%0A%20%20%20%20%20%20%20%20%0A%20%20%20%20%20%20%20%20%20%20%20%20var%20html_ec6f79c8684e46d8bb2945b196b44c43%20%3D%20%24%28%60%3Cdiv%20id%3D%22html_ec6f79c8684e46d8bb2945b196b44c43%22%20style%3D%22width%3A%20100.0%25%3B%20height%3A%20100.0%25%3B%22%3EKlamath%3C/div%3E%60%29%5B0%5D%3B%0A%20%20%20%20%20%20%20%20%20%20%20%20popup_8a1c87f07b054e9ab24b1433f9e149bb.setContent%28html_ec6f79c8684e46d8bb2945b196b44c43%29%3B%0A%20%20%20%20%20%20%20%20%0A%0A%20%20%20%20%20%20%20%20circle_49ccdd64d405452da93fe7d96bef971b.bindPopup%28popup_8a1c87f07b054e9ab24b1433f9e149bb%29%0A%20%20%20%20%20%20%20%20%3B%0A%0A%20%20%20%20%20%20%20%20%0A%20%20%20%20%0A%20%20%20%20%0A%20%20%20%20%20%20%20%20%20%20%20%20var%20circle_486c413fe1574d31912a73073c531fd2%20%3D%20L.circle%28%0A%20%20%20%20%20%20%20%20%20%20%20%20%20%20%20%20%5B37.2248658%2C%20-95.7064842%5D%2C%0A%20%20%20%20%20%20%20%20%20%20%20%20%20%20%20%20%7B%22bubblingMouseEvents%22%3A%20true%2C%20%22color%22%3A%20%22blue%22%2C%20%22dashArray%22%3A%20null%2C%20%22dashOffset%22%3A%20null%2C%20%22fill%22%3A%20true%2C%20%22fillColor%22%3A%20%22crimson%22%2C%20%22fillOpacity%22%3A%200.2%2C%20%22fillRule%22%3A%20%22evenodd%22%2C%20%22lineCap%22%3A%20%22round%22%2C%20%22lineJoin%22%3A%20%22round%22%2C%20%22opacity%22%3A%201.0%2C%20%22radius%22%3A%2012.0%2C%20%22stroke%22%3A%20true%2C%20%22weight%22%3A%203%7D%0A%20%20%20%20%20%20%20%20%20%20%20%20%29.addTo%28map_8cccd35df9b6419ab9587e9862ee93df%29%3B%0A%20%20%20%20%20%20%20%20%0A%20%20%20%20%0A%20%20%20%20%20%20%20%20var%20popup_cd093fc1647d46afa8691d20e842f6ec%20%3D%20L.popup%28%7B%22maxWidth%22%3A%20%22100%25%22%7D%29%3B%0A%0A%20%20%20%20%20%20%20%20%0A%20%20%20%20%20%20%20%20%20%20%20%20var%20html_221ba63f727b4260a88fa2a538d0d54d%20%3D%20%24%28%60%3Cdiv%20id%3D%22html_221ba63f727b4260a88fa2a538d0d54d%22%20style%3D%22width%3A%20100.0%25%3B%20height%3A%20100.0%25%3B%22%3ELane%3C/div%3E%60%29%5B0%5D%3B%0A%20%20%20%20%20%20%20%20%20%20%20%20popup_cd093fc1647d46afa8691d20e842f6ec.setContent%28html_221ba63f727b4260a88fa2a538d0d54d%29%3B%0A%20%20%20%20%20%20%20%20%0A%0A%20%20%20%20%20%20%20%20circle_486c413fe1574d31912a73073c531fd2.bindPopup%28popup_cd093fc1647d46afa8691d20e842f6ec%29%0A%20%20%20%20%20%20%20%20%3B%0A%0A%20%20%20%20%20%20%20%20%0A%20%20%20%20%0A%20%20%20%20%0A%20%20%20%20%20%20%20%20%20%20%20%20var%20circle_a3cadce52a0540bc90da0aaa1d2cc0d3%20%3D%20L.circle%28%0A%20%20%20%20%20%20%20%20%20%20%20%20%20%20%20%20%5B35.949526%2C%20-94.4235482%5D%2C%0A%20%20%20%20%20%20%20%20%20%20%20%20%20%20%20%20%7B%22bubblingMouseEvents%22%3A%20true%2C%20%22color%22%3A%20%22blue%22%2C%20%22dashArray%22%3A%20null%2C%20%22dashOffset%22%3A%20null%2C%20%22fill%22%3A%20true%2C%20%22fillColor%22%3A%20%22crimson%22%2C%20%22fillOpacity%22%3A%200.2%2C%20%22fillRule%22%3A%20%22evenodd%22%2C%20%22lineCap%22%3A%20%22round%22%2C%20%22lineJoin%22%3A%20%22round%22%2C%20%22opacity%22%3A%201.0%2C%20%22radius%22%3A%2048.0%2C%20%22stroke%22%3A%20true%2C%20%22weight%22%3A%203%7D%0A%20%20%20%20%20%20%20%20%20%20%20%20%29.addTo%28map_8cccd35df9b6419ab9587e9862ee93df%29%3B%0A%20%20%20%20%20%20%20%20%0A%20%20%20%20%0A%20%20%20%20%20%20%20%20var%20popup_a4549cdc6e2d45238bd40a0fb0671792%20%3D%20L.popup%28%7B%22maxWidth%22%3A%20%22100%25%22%7D%29%3B%0A%0A%20%20%20%20%20%20%20%20%0A%20%20%20%20%20%20%20%20%20%20%20%20var%20html_fb787bdc9d9f480b8896d71457908df6%20%3D%20%24%28%60%3Cdiv%20id%3D%22html_fb787bdc9d9f480b8896d71457908df6%22%20style%3D%22width%3A%20100.0%25%3B%20height%3A%20100.0%25%3B%22%3ELincoln%3C/div%3E%60%29%5B0%5D%3B%0A%20%20%20%20%20%20%20%20%20%20%20%20popup_a4549cdc6e2d45238bd40a0fb0671792.setContent%28html_fb787bdc9d9f480b8896d71457908df6%29%3B%0A%20%20%20%20%20%20%20%20%0A%0A%20%20%20%20%20%20%20%20circle_a3cadce52a0540bc90da0aaa1d2cc0d3.bindPopup%28popup_a4549cdc6e2d45238bd40a0fb0671792%29%0A%20%20%20%20%20%20%20%20%3B%0A%0A%20%20%20%20%20%20%20%20%0A%20%20%20%20%0A%20%20%20%20%0A%20%20%20%20%20%20%20%20%20%20%20%20var%20circle_d800ed2c0e7f43c68466e9e70aec8e33%20%3D%20L.circle%28%0A%20%20%20%20%20%20%20%20%20%20%20%20%20%20%20%20%5B38.4858749%2C%20-91.8504515%5D%2C%0A%20%20%20%20%20%20%20%20%20%20%20%20%20%20%20%20%7B%22bubblingMouseEvents%22%3A%20true%2C%20%22color%22%3A%20%22blue%22%2C%20%22dashArray%22%3A%20null%2C%20%22dashOffset%22%3A%20null%2C%20%22fill%22%3A%20true%2C%20%22fillColor%22%3A%20%22crimson%22%2C%20%22fillOpacity%22%3A%200.2%2C%20%22fillRule%22%3A%20%22evenodd%22%2C%20%22lineCap%22%3A%20%22round%22%2C%20%22lineJoin%22%3A%20%22round%22%2C%20%22opacity%22%3A%201.0%2C%20%22radius%22%3A%2048.0%2C%20%22stroke%22%3A%20true%2C%20%22weight%22%3A%203%7D%0A%20%20%20%20%20%20%20%20%20%20%20%20%29.addTo%28map_8cccd35df9b6419ab9587e9862ee93df%29%3B%0A%20%20%20%20%20%20%20%20%0A%20%20%20%20%0A%20%20%20%20%20%20%20%20var%20popup_4bfb937c773b4ff790600bc6ceca970c%20%3D%20L.popup%28%7B%22maxWidth%22%3A%20%22100%25%22%7D%29%3B%0A%0A%20%20%20%20%20%20%20%20%0A%20%20%20%20%20%20%20%20%20%20%20%20var%20html_66dc462ae2ec494ca6ac51296fb29514%20%3D%20%24%28%60%3Cdiv%20id%3D%22html_66dc462ae2ec494ca6ac51296fb29514%22%20style%3D%22width%3A%20100.0%25%3B%20height%3A%20100.0%25%3B%22%3ELinn%3C/div%3E%60%29%5B0%5D%3B%0A%20%20%20%20%20%20%20%20%20%20%20%20popup_4bfb937c773b4ff790600bc6ceca970c.setContent%28html_66dc462ae2ec494ca6ac51296fb29514%29%3B%0A%20%20%20%20%20%20%20%20%0A%0A%20%20%20%20%20%20%20%20circle_d800ed2c0e7f43c68466e9e70aec8e33.bindPopup%28popup_4bfb937c773b4ff790600bc6ceca970c%29%0A%20%20%20%20%20%20%20%20%3B%0A%0A%20%20%20%20%20%20%20%20%0A%20%20%20%20%0A%20%20%20%20%0A%20%20%20%20%20%20%20%20%20%20%20%20var%20circle_a63bd3a87e1340ebae135cf45e55f3cb%20%3D%20L.circle%28%0A%20%20%20%20%20%20%20%20%20%20%20%20%20%20%20%20%5B35.6840131%2C%20-82.0092745%5D%2C%0A%20%20%20%20%20%20%20%20%20%20%20%20%20%20%20%20%7B%22bubblingMouseEvents%22%3A%20true%2C%20%22color%22%3A%20%22blue%22%2C%20%22dashArray%22%3A%20null%2C%20%22dashOffset%22%3A%20null%2C%20%22fill%22%3A%20true%2C%20%22fillColor%22%3A%20%22crimson%22%2C%20%22fillOpacity%22%3A%200.2%2C%20%22fillRule%22%3A%20%22evenodd%22%2C%20%22lineCap%22%3A%20%22round%22%2C%20%22lineJoin%22%3A%20%22round%22%2C%20%22opacity%22%3A%201.0%2C%20%22radius%22%3A%202316.0%2C%20%22stroke%22%3A%20true%2C%20%22weight%22%3A%203%7D%0A%20%20%20%20%20%20%20%20%20%20%20%20%29.addTo%28map_8cccd35df9b6419ab9587e9862ee93df%29%3B%0A%20%20%20%20%20%20%20%20%0A%20%20%20%20%0A%20%20%20%20%20%20%20%20var%20popup_a359dbba68944d06a021b79b6890aa10%20%3D%20L.popup%28%7B%22maxWidth%22%3A%20%22100%25%22%7D%29%3B%0A%0A%20%20%20%20%20%20%20%20%0A%20%20%20%20%20%20%20%20%20%20%20%20var%20html_595921002805461aa2502f43e5055379%20%3D%20%24%28%60%3Cdiv%20id%3D%22html_595921002805461aa2502f43e5055379%22%20style%3D%22width%3A%20100.0%25%3B%20height%3A%20100.0%25%3B%22%3EMarion%3C/div%3E%60%29%5B0%5D%3B%0A%20%20%20%20%20%20%20%20%20%20%20%20popup_a359dbba68944d06a021b79b6890aa10.setContent%28html_595921002805461aa2502f43e5055379%29%3B%0A%20%20%20%20%20%20%20%20%0A%0A%20%20%20%20%20%20%20%20circle_a63bd3a87e1340ebae135cf45e55f3cb.bindPopup%28popup_a359dbba68944d06a021b79b6890aa10%29%0A%20%20%20%20%20%20%20%20%3B%0A%0A%20%20%20%20%20%20%20%20%0A%20%20%20%20%0A%20%20%20%20%0A%20%20%20%20%20%20%20%20%20%20%20%20var%20circle_618e92fb64cc420cad93f64ee1aec20f%20%3D%20L.circle%28%0A%20%20%20%20%20%20%20%20%20%20%20%20%20%20%20%20%5B45.5145659%2C%20-122.5863211%5D%2C%0A%20%20%20%20%20%20%20%20%20%20%20%20%20%20%20%20%7B%22bubblingMouseEvents%22%3A%20true%2C%20%22color%22%3A%20%22blue%22%2C%20%22dashArray%22%3A%20null%2C%20%22dashOffset%22%3A%20null%2C%20%22fill%22%3A%20true%2C%20%22fillColor%22%3A%20%22crimson%22%2C%20%22fillOpacity%22%3A%200.2%2C%20%22fillRule%22%3A%20%22evenodd%22%2C%20%22lineCap%22%3A%20%22round%22%2C%20%22lineJoin%22%3A%20%22round%22%2C%20%22opacity%22%3A%201.0%2C%20%22radius%22%3A%2028680.0%2C%20%22stroke%22%3A%20true%2C%20%22weight%22%3A%203%7D%0A%20%20%20%20%20%20%20%20%20%20%20%20%29.addTo%28map_8cccd35df9b6419ab9587e9862ee93df%29%3B%0A%20%20%20%20%20%20%20%20%0A%20%20%20%20%0A%20%20%20%20%20%20%20%20var%20popup_b15d678848684efd8892d196728ec34c%20%3D%20L.popup%28%7B%22maxWidth%22%3A%20%22100%25%22%7D%29%3B%0A%0A%20%20%20%20%20%20%20%20%0A%20%20%20%20%20%20%20%20%20%20%20%20var%20html_2963fdc59c4e4a9c9ad17053222ffa12%20%3D%20%24%28%60%3Cdiv%20id%3D%22html_2963fdc59c4e4a9c9ad17053222ffa12%22%20style%3D%22width%3A%20100.0%25%3B%20height%3A%20100.0%25%3B%22%3EMultnomah%3C/div%3E%60%29%5B0%5D%3B%0A%20%20%20%20%20%20%20%20%20%20%20%20popup_b15d678848684efd8892d196728ec34c.setContent%28html_2963fdc59c4e4a9c9ad17053222ffa12%29%3B%0A%20%20%20%20%20%20%20%20%0A%0A%20%20%20%20%20%20%20%20circle_618e92fb64cc420cad93f64ee1aec20f.bindPopup%28popup_b15d678848684efd8892d196728ec34c%29%0A%20%20%20%20%20%20%20%20%3B%0A%0A%20%20%20%20%20%20%20%20%0A%20%20%20%20%0A%20%20%20%20%0A%20%20%20%20%20%20%20%20%20%20%20%20var%20circle_84c6c6d492fc473a8809cb885749d15d%20%3D%20L.circle%28%0A%20%20%20%20%20%20%20%20%20%20%20%20%20%20%20%20%5B27.8617347%2C%20-81.6911559%5D%2C%0A%20%20%20%20%20%20%20%20%20%20%20%20%20%20%20%20%7B%22bubblingMouseEvents%22%3A%20true%2C%20%22color%22%3A%20%22blue%22%2C%20%22dashArray%22%3A%20null%2C%20%22dashOffset%22%3A%20null%2C%20%22fill%22%3A%20true%2C%20%22fillColor%22%3A%20%22crimson%22%2C%20%22fillOpacity%22%3A%200.2%2C%20%22fillRule%22%3A%20%22evenodd%22%2C%20%22lineCap%22%3A%20%22round%22%2C%20%22lineJoin%22%3A%20%22round%22%2C%20%22opacity%22%3A%201.0%2C%20%22radius%22%3A%20336.0%2C%20%22stroke%22%3A%20true%2C%20%22weight%22%3A%203%7D%0A%20%20%20%20%20%20%20%20%20%20%20%20%29.addTo%28map_8cccd35df9b6419ab9587e9862ee93df%29%3B%0A%20%20%20%20%20%20%20%20%0A%20%20%20%20%0A%20%20%20%20%20%20%20%20var%20popup_11556bfa1a214bc981e8a7e6832d5afe%20%3D%20L.popup%28%7B%22maxWidth%22%3A%20%22100%25%22%7D%29%3B%0A%0A%20%20%20%20%20%20%20%20%0A%20%20%20%20%20%20%20%20%20%20%20%20var%20html_d197ffc204764350a3979736bcbd0d1f%20%3D%20%24%28%60%3Cdiv%20id%3D%22html_d197ffc204764350a3979736bcbd0d1f%22%20style%3D%22width%3A%20100.0%25%3B%20height%3A%20100.0%25%3B%22%3EPolk%3C/div%3E%60%29%5B0%5D%3B%0A%20%20%20%20%20%20%20%20%20%20%20%20popup_11556bfa1a214bc981e8a7e6832d5afe.setContent%28html_d197ffc204764350a3979736bcbd0d1f%29%3B%0A%20%20%20%20%20%20%20%20%0A%0A%20%20%20%20%20%20%20%20circle_84c6c6d492fc473a8809cb885749d15d.bindPopup%28popup_11556bfa1a214bc981e8a7e6832d5afe%29%0A%20%20%20%20%20%20%20%20%3B%0A%0A%20%20%20%20%20%20%20%20%0A%20%20%20%20%0A%20%20%20%20%0A%20%20%20%20%20%20%20%20%20%20%20%20var%20circle_1dc2b181b81e4ba7af1e99d6d3073a15%20%3D%20L.circle%28%0A%20%20%20%20%20%20%20%20%20%20%20%20%20%20%20%20%5B33.6356618%2C%20-96.6088805%5D%2C%0A%20%20%20%20%20%20%20%20%20%20%20%20%20%20%20%20%7B%22bubblingMouseEvents%22%3A%20true%2C%20%22color%22%3A%20%22blue%22%2C%20%22dashArray%22%3A%20null%2C%20%22dashOffset%22%3A%20null%2C%20%22fill%22%3A%20true%2C%20%22fillColor%22%3A%20%22crimson%22%2C%20%22fillOpacity%22%3A%200.2%2C%20%22fillRule%22%3A%20%22evenodd%22%2C%20%22lineCap%22%3A%20%22round%22%2C%20%22lineJoin%22%3A%20%22round%22%2C%20%22opacity%22%3A%201.0%2C%20%22radius%22%3A%2036.0%2C%20%22stroke%22%3A%20true%2C%20%22weight%22%3A%203%7D%0A%20%20%20%20%20%20%20%20%20%20%20%20%29.addTo%28map_8cccd35df9b6419ab9587e9862ee93df%29%3B%0A%20%20%20%20%20%20%20%20%0A%20%20%20%20%0A%20%20%20%20%20%20%20%20var%20popup_56611c15ab094da7b7fce0fd3f2bed6d%20%3D%20L.popup%28%7B%22maxWidth%22%3A%20%22100%25%22%7D%29%3B%0A%0A%20%20%20%20%20%20%20%20%0A%20%20%20%20%20%20%20%20%20%20%20%20var%20html_d7acdc81a6504491bf738a7f61373b63%20%3D%20%24%28%60%3Cdiv%20id%3D%22html_d7acdc81a6504491bf738a7f61373b63%22%20style%3D%22width%3A%20100.0%25%3B%20height%3A%20100.0%25%3B%22%3ESherman%3C/div%3E%60%29%5B0%5D%3B%0A%20%20%20%20%20%20%20%20%20%20%20%20popup_56611c15ab094da7b7fce0fd3f2bed6d.setContent%28html_d7acdc81a6504491bf738a7f61373b63%29%3B%0A%20%20%20%20%20%20%20%20%0A%0A%20%20%20%20%20%20%20%20circle_1dc2b181b81e4ba7af1e99d6d3073a15.bindPopup%28popup_56611c15ab094da7b7fce0fd3f2bed6d%29%0A%20%20%20%20%20%20%20%20%3B%0A%0A%20%20%20%20%20%20%20%20%0A%20%20%20%20%0A%20%20%20%20%0A%20%20%20%20%20%20%20%20%20%20%20%20var%20circle_fd32a0bb98774b3c8fdaad617a0ea9db%20%3D%20L.circle%28%0A%20%20%20%20%20%20%20%20%20%20%20%20%20%20%20%20%5B35.5941238%2C%20-119.3409457%5D%2C%0A%20%20%20%20%20%20%20%20%20%20%20%20%20%20%20%20%7B%22bubblingMouseEvents%22%3A%20true%2C%20%22color%22%3A%20%22blue%22%2C%20%22dashArray%22%3A%20null%2C%20%22dashOffset%22%3A%20null%2C%20%22fill%22%3A%20true%2C%20%22fillColor%22%3A%20%22crimson%22%2C%20%22fillOpacity%22%3A%200.2%2C%20%22fillRule%22%3A%20%22evenodd%22%2C%20%22lineCap%22%3A%20%22round%22%2C%20%22lineJoin%22%3A%20%22round%22%2C%20%22opacity%22%3A%201.0%2C%20%22radius%22%3A%20984.0%2C%20%22stroke%22%3A%20true%2C%20%22weight%22%3A%203%7D%0A%20%20%20%20%20%20%20%20%20%20%20%20%29.addTo%28map_8cccd35df9b6419ab9587e9862ee93df%29%3B%0A%20%20%20%20%20%20%20%20%0A%20%20%20%20%0A%20%20%20%20%20%20%20%20var%20popup_e300dabc143f49be976c83cc2d731c04%20%3D%20L.popup%28%7B%22maxWidth%22%3A%20%22100%25%22%7D%29%3B%0A%0A%20%20%20%20%20%20%20%20%0A%20%20%20%20%20%20%20%20%20%20%20%20var%20html_3ab99ceb799c4507b93d1db5c59ace14%20%3D%20%24%28%60%3Cdiv%20id%3D%22html_3ab99ceb799c4507b93d1db5c59ace14%22%20style%3D%22width%3A%20100.0%25%3B%20height%3A%20100.0%25%3B%22%3EWasco%3C/div%3E%60%29%5B0%5D%3B%0A%20%20%20%20%20%20%20%20%20%20%20%20popup_e300dabc143f49be976c83cc2d731c04.setContent%28html_3ab99ceb799c4507b93d1db5c59ace14%29%3B%0A%20%20%20%20%20%20%20%20%0A%0A%20%20%20%20%20%20%20%20circle_fd32a0bb98774b3c8fdaad617a0ea9db.bindPopup%28popup_e300dabc143f49be976c83cc2d731c04%29%0A%20%20%20%20%20%20%20%20%3B%0A%0A%20%20%20%20%20%20%20%20%0A%20%20%20%20%0A%20%20%20%20%0A%20%20%20%20%20%20%20%20%20%20%20%20var%20circle_78393f5792064a18a87e357d8f8d1d67%20%3D%20L.circle%28%0A%20%20%20%20%20%20%20%20%20%20%20%20%20%20%20%20%5B47.7510741%2C%20-120.7401385%5D%2C%0A%20%20%20%20%20%20%20%20%20%20%20%20%20%20%20%20%7B%22bubblingMouseEvents%22%3A%20true%2C%20%22color%22%3A%20%22blue%22%2C%20%22dashArray%22%3A%20null%2C%20%22dashOffset%22%3A%20null%2C%20%22fill%22%3A%20true%2C%20%22fillColor%22%3A%20%22crimson%22%2C%20%22fillOpacity%22%3A%200.2%2C%20%22fillRule%22%3A%20%22evenodd%22%2C%20%22lineCap%22%3A%20%22round%22%2C%20%22lineJoin%22%3A%20%22round%22%2C%20%22opacity%22%3A%201.0%2C%20%22radius%22%3A%202940.0%2C%20%22stroke%22%3A%20true%2C%20%22weight%22%3A%203%7D%0A%20%20%20%20%20%20%20%20%20%20%20%20%29.addTo%28map_8cccd35df9b6419ab9587e9862ee93df%29%3B%0A%20%20%20%20%20%20%20%20%0A%20%20%20%20%0A%20%20%20%20%20%20%20%20var%20popup_0fdc5eca1e4645faa2e904d94cc039fc%20%3D%20L.popup%28%7B%22maxWidth%22%3A%20%22100%25%22%7D%29%3B%0A%0A%20%20%20%20%20%20%20%20%0A%20%20%20%20%20%20%20%20%20%20%20%20var%20html_64fe1ba03e94410386d68ec27087fcb0%20%3D%20%24%28%60%3Cdiv%20id%3D%22html_64fe1ba03e94410386d68ec27087fcb0%22%20style%3D%22width%3A%20100.0%25%3B%20height%3A%20100.0%25%3B%22%3EWashington%3C/div%3E%60%29%5B0%5D%3B%0A%20%20%20%20%20%20%20%20%20%20%20%20popup_0fdc5eca1e4645faa2e904d94cc039fc.setContent%28html_64fe1ba03e94410386d68ec27087fcb0%29%3B%0A%20%20%20%20%20%20%20%20%0A%0A%20%20%20%20%20%20%20%20circle_78393f5792064a18a87e357d8f8d1d67.bindPopup%28popup_0fdc5eca1e4645faa2e904d94cc039fc%29%0A%20%20%20%20%20%20%20%20%3B%0A%0A%20%20%20%20%20%20%20%20%0A%20%20%20%20%0A%20%20%20%20%0A%20%20%20%20%20%20%20%20%20%20%20%20var%20circle_955c0daeea364d0bbf51bc66ef47b24e%20%3D%20L.circle%28%0A%20%20%20%20%20%20%20%20%20%20%20%20%20%20%20%20%5B45.3415045%2C%20-123.1878238%5D%2C%0A%20%20%20%20%20%20%20%20%20%20%20%20%20%20%20%20%7B%22bubblingMouseEvents%22%3A%20true%2C%20%22color%22%3A%20%22blue%22%2C%20%22dashArray%22%3A%20null%2C%20%22dashOffset%22%3A%20null%2C%20%22fill%22%3A%20true%2C%20%22fillColor%22%3A%20%22crimson%22%2C%20%22fillOpacity%22%3A%200.2%2C%20%22fillRule%22%3A%20%22evenodd%22%2C%20%22lineCap%22%3A%20%22round%22%2C%20%22lineJoin%22%3A%20%22round%22%2C%20%22opacity%22%3A%201.0%2C%20%22radius%22%3A%20780.0%2C%20%22stroke%22%3A%20true%2C%20%22weight%22%3A%203%7D%0A%20%20%20%20%20%20%20%20%20%20%20%20%29.addTo%28map_8cccd35df9b6419ab9587e9862ee93df%29%3B%0A%20%20%20%20%20%20%20%20%0A%20%20%20%20%0A%20%20%20%20%20%20%20%20var%20popup_ad036590698e45b694fd08620e4139b1%20%3D%20L.popup%28%7B%22maxWidth%22%3A%20%22100%25%22%7D%29%3B%0A%0A%20%20%20%20%20%20%20%20%0A%20%20%20%20%20%20%20%20%20%20%20%20var%20html_c5159b5bd1ef4fff8fb91217eb290417%20%3D%20%24%28%60%3Cdiv%20id%3D%22html_c5159b5bd1ef4fff8fb91217eb290417%22%20style%3D%22width%3A%20100.0%25%3B%20height%3A%20100.0%25%3B%22%3EYamhill%3C/div%3E%60%29%5B0%5D%3B%0A%20%20%20%20%20%20%20%20%20%20%20%20popup_ad036590698e45b694fd08620e4139b1.setContent%28html_c5159b5bd1ef4fff8fb91217eb290417%29%3B%0A%20%20%20%20%20%20%20%20%0A%0A%20%20%20%20%20%20%20%20circle_955c0daeea364d0bbf51bc66ef47b24e.bindPopup%28popup_ad036590698e45b694fd08620e4139b1%29%0A%20%20%20%20%20%20%20%20%3B%0A%0A%20%20%20%20%20%20%20%20%0A%20%20%20%20%0A%20%20%20%20%0A%20%20%20%20%20%20%20%20%20%20%20%20var%20circle_5baa7d9ffcaa44868fe0882faf4f68f2%20%3D%20L.circle%28%0A%20%20%20%20%20%20%20%20%20%20%20%20%20%20%20%20%5B34.5645371%2C%20-92.586828%5D%2C%0A%20%20%20%20%20%20%20%20%20%20%20%20%20%20%20%20%7B%22bubblingMouseEvents%22%3A%20true%2C%20%22color%22%3A%20%22blue%22%2C%20%22dashArray%22%3A%20null%2C%20%22dashOffset%22%3A%20null%2C%20%22fill%22%3A%20true%2C%20%22fillColor%22%3A%20%22crimson%22%2C%20%22fillOpacity%22%3A%200.2%2C%20%22fillRule%22%3A%20%22evenodd%22%2C%20%22lineCap%22%3A%20%22round%22%2C%20%22lineJoin%22%3A%20%22round%22%2C%20%22opacity%22%3A%201.0%2C%20%22radius%22%3A%20828.0%2C%20%22stroke%22%3A%20true%2C%20%22weight%22%3A%203%7D%0A%20%20%20%20%20%20%20%20%20%20%20%20%29.addTo%28map_8cccd35df9b6419ab9587e9862ee93df%29%3B%0A%20%20%20%20%20%20%20%20%0A%20%20%20%20%0A%20%20%20%20%20%20%20%20var%20popup_5328ac4b0f4e4ec4ac9440ad92114680%20%3D%20L.popup%28%7B%22maxWidth%22%3A%20%22100%25%22%7D%29%3B%0A%0A%20%20%20%20%20%20%20%20%0A%20%20%20%20%20%20%20%20%20%20%20%20var%20html_acf0446d0dc240108b5418ee1a28d538%20%3D%20%24%28%60%3Cdiv%20id%3D%22html_acf0446d0dc240108b5418ee1a28d538%22%20style%3D%22width%3A%20100.0%25%3B%20height%3A%20100.0%25%3B%22%3EBenton%3C/div%3E%60%29%5B0%5D%3B%0A%20%20%20%20%20%20%20%20%20%20%20%20popup_5328ac4b0f4e4ec4ac9440ad92114680.setContent%28html_acf0446d0dc240108b5418ee1a28d538%29%3B%0A%20%20%20%20%20%20%20%20%0A%0A%20%20%20%20%20%20%20%20circle_5baa7d9ffcaa44868fe0882faf4f68f2.bindPopup%28popup_5328ac4b0f4e4ec4ac9440ad92114680%29%0A%20%20%20%20%20%20%20%20%3B%0A%0A%20%20%20%20%20%20%20%20%0A%20%20%20%20%0A%20%20%20%20%0A%20%20%20%20%20%20%20%20%20%20%20%20var%20circle_b4e44fda963d42e8bb0d176618213fa7%20%3D%20L.circle%28%0A%20%20%20%20%20%20%20%20%20%20%20%20%20%20%20%20%5B47.8408323%2C%20-120.0168079%5D%2C%0A%20%20%20%20%20%20%20%20%20%20%20%20%20%20%20%20%7B%22bubblingMouseEvents%22%3A%20true%2C%20%22color%22%3A%20%22blue%22%2C%20%22dashArray%22%3A%20null%2C%20%22dashOffset%22%3A%20null%2C%20%22fill%22%3A%20true%2C%20%22fillColor%22%3A%20%22crimson%22%2C%20%22fillOpacity%22%3A%200.2%2C%20%22fillRule%22%3A%20%22evenodd%22%2C%20%22lineCap%22%3A%20%22round%22%2C%20%22lineJoin%22%3A%20%22round%22%2C%20%22opacity%22%3A%201.0%2C%20%22radius%22%3A%20312.0%2C%20%22stroke%22%3A%20true%2C%20%22weight%22%3A%203%7D%0A%20%20%20%20%20%20%20%20%20%20%20%20%29.addTo%28map_8cccd35df9b6419ab9587e9862ee93df%29%3B%0A%20%20%20%20%20%20%20%20%0A%20%20%20%20%0A%20%20%20%20%20%20%20%20var%20popup_12f6508ca9894ce185a0e6cad6fcbd12%20%3D%20L.popup%28%7B%22maxWidth%22%3A%20%22100%25%22%7D%29%3B%0A%0A%20%20%20%20%20%20%20%20%0A%20%20%20%20%20%20%20%20%20%20%20%20var%20html_ea7cde5521b04205a4276ae9c20efcf6%20%3D%20%24%28%60%3Cdiv%20id%3D%22html_ea7cde5521b04205a4276ae9c20efcf6%22%20style%3D%22width%3A%20100.0%25%3B%20height%3A%20100.0%25%3B%22%3EChelan%3C/div%3E%60%29%5B0%5D%3B%0A%20%20%20%20%20%20%20%20%20%20%20%20popup_12f6508ca9894ce185a0e6cad6fcbd12.setContent%28html_ea7cde5521b04205a4276ae9c20efcf6%29%3B%0A%20%20%20%20%20%20%20%20%0A%0A%20%20%20%20%20%20%20%20circle_b4e44fda963d42e8bb0d176618213fa7.bindPopup%28popup_12f6508ca9894ce185a0e6cad6fcbd12%29%0A%20%20%20%20%20%20%20%20%3B%0A%0A%20%20%20%20%20%20%20%20%0A%20%20%20%20%0A%20%20%20%20%0A%20%20%20%20%20%20%20%20%20%20%20%20var%20circle_b8435114498a491ab6538c22e90b7c6d%20%3D%20L.circle%28%0A%20%20%20%20%20%20%20%20%20%20%20%20%20%20%20%20%5B48.0405122%2C%20-124.016766%5D%2C%0A%20%20%20%20%20%20%20%20%20%20%20%20%20%20%20%20%7B%22bubblingMouseEvents%22%3A%20true%2C%20%22color%22%3A%20%22blue%22%2C%20%22dashArray%22%3A%20null%2C%20%22dashOffset%22%3A%20null%2C%20%22fill%22%3A%20true%2C%20%22fillColor%22%3A%20%22crimson%22%2C%20%22fillOpacity%22%3A%200.2%2C%20%22fillRule%22%3A%20%22evenodd%22%2C%20%22lineCap%22%3A%20%22round%22%2C%20%22lineJoin%22%3A%20%22round%22%2C%20%22opacity%22%3A%201.0%2C%20%22radius%22%3A%20204.0%2C%20%22stroke%22%3A%20true%2C%20%22weight%22%3A%203%7D%0A%20%20%20%20%20%20%20%20%20%20%20%20%29.addTo%28map_8cccd35df9b6419ab9587e9862ee93df%29%3B%0A%20%20%20%20%20%20%20%20%0A%20%20%20%20%0A%20%20%20%20%20%20%20%20var%20popup_904cf5090d8548cdaede258b02e22f90%20%3D%20L.popup%28%7B%22maxWidth%22%3A%20%22100%25%22%7D%29%3B%0A%0A%20%20%20%20%20%20%20%20%0A%20%20%20%20%20%20%20%20%20%20%20%20var%20html_b0289b07ccc04ce2a5717dd826020f99%20%3D%20%24%28%60%3Cdiv%20id%3D%22html_b0289b07ccc04ce2a5717dd826020f99%22%20style%3D%22width%3A%20100.0%25%3B%20height%3A%20100.0%25%3B%22%3EClallam%3C/div%3E%60%29%5B0%5D%3B%0A%20%20%20%20%20%20%20%20%20%20%20%20popup_904cf5090d8548cdaede258b02e22f90.setContent%28html_b0289b07ccc04ce2a5717dd826020f99%29%3B%0A%20%20%20%20%20%20%20%20%0A%0A%20%20%20%20%20%20%20%20circle_b8435114498a491ab6538c22e90b7c6d.bindPopup%28popup_904cf5090d8548cdaede258b02e22f90%29%0A%20%20%20%20%20%20%20%20%3B%0A%0A%20%20%20%20%20%20%20%20%0A%20%20%20%20%0A%20%20%20%20%0A%20%20%20%20%20%20%20%20%20%20%20%20var%20circle_f34bfa5b03614b729d08bfcf552e41a6%20%3D%20L.circle%28%0A%20%20%20%20%20%20%20%20%20%20%20%20%20%20%20%20%5B37.223312%2C%20-95.7021936%5D%2C%0A%20%20%20%20%20%20%20%20%20%20%20%20%20%20%20%20%7B%22bubblingMouseEvents%22%3A%20true%2C%20%22color%22%3A%20%22blue%22%2C%20%22dashArray%22%3A%20null%2C%20%22dashOffset%22%3A%20null%2C%20%22fill%22%3A%20true%2C%20%22fillColor%22%3A%20%22crimson%22%2C%20%22fillOpacity%22%3A%200.2%2C%20%22fillRule%22%3A%20%22evenodd%22%2C%20%22lineCap%22%3A%20%22round%22%2C%20%22lineJoin%22%3A%20%22round%22%2C%20%22opacity%22%3A%201.0%2C%20%22radius%22%3A%201320.0%2C%20%22stroke%22%3A%20true%2C%20%22weight%22%3A%203%7D%0A%20%20%20%20%20%20%20%20%20%20%20%20%29.addTo%28map_8cccd35df9b6419ab9587e9862ee93df%29%3B%0A%20%20%20%20%20%20%20%20%0A%20%20%20%20%0A%20%20%20%20%20%20%20%20var%20popup_38a25516489a4a32908e649bdd880967%20%3D%20L.popup%28%7B%22maxWidth%22%3A%20%22100%25%22%7D%29%3B%0A%0A%20%20%20%20%20%20%20%20%0A%20%20%20%20%20%20%20%20%20%20%20%20var%20html_7b2f4febdbca4c0297e79f6c9e6b04a6%20%3D%20%24%28%60%3Cdiv%20id%3D%22html_7b2f4febdbca4c0297e79f6c9e6b04a6%22%20style%3D%22width%3A%20100.0%25%3B%20height%3A%20100.0%25%3B%22%3EClark%3C/div%3E%60%29%5B0%5D%3B%0A%20%20%20%20%20%20%20%20%20%20%20%20popup_38a25516489a4a32908e649bdd880967.setContent%28html_7b2f4febdbca4c0297e79f6c9e6b04a6%29%3B%0A%20%20%20%20%20%20%20%20%0A%0A%20%20%20%20%20%20%20%20circle_f34bfa5b03614b729d08bfcf552e41a6.bindPopup%28popup_38a25516489a4a32908e649bdd880967%29%0A%20%20%20%20%20%20%20%20%3B%0A%0A%20%20%20%20%20%20%20%20%0A%20%20%20%20%0A%20%20%20%20%0A%20%20%20%20%20%20%20%20%20%20%20%20var%20circle_28abeef5d3c245d3adbfb11a757bcb12%20%3D%20L.circle%28%0A%20%20%20%20%20%20%20%20%20%20%20%20%20%20%20%20%5B46.9953526%2C%20-123.7012468%5D%2C%0A%20%20%20%20%20%20%20%20%20%20%20%20%20%20%20%20%7B%22bubblingMouseEvents%22%3A%20true%2C%20%22color%22%3A%20%22blue%22%2C%20%22dashArray%22%3A%20null%2C%20%22dashOffset%22%3A%20null%2C%20%22fill%22%3A%20true%2C%20%22fillColor%22%3A%20%22crimson%22%2C%20%22fillOpacity%22%3A%200.2%2C%20%22fillRule%22%3A%20%22evenodd%22%2C%20%22lineCap%22%3A%20%22round%22%2C%20%22lineJoin%22%3A%20%22round%22%2C%20%22opacity%22%3A%201.0%2C%20%22radius%22%3A%2024.0%2C%20%22stroke%22%3A%20true%2C%20%22weight%22%3A%203%7D%0A%20%20%20%20%20%20%20%20%20%20%20%20%29.addTo%28map_8cccd35df9b6419ab9587e9862ee93df%29%3B%0A%20%20%20%20%20%20%20%20%0A%20%20%20%20%0A%20%20%20%20%20%20%20%20var%20popup_cd737dec9b65434f82a9c068f7d31ff8%20%3D%20L.popup%28%7B%22maxWidth%22%3A%20%22100%25%22%7D%29%3B%0A%0A%20%20%20%20%20%20%20%20%0A%20%20%20%20%20%20%20%20%20%20%20%20var%20html_6c0a68425c8c4791a87b577c534658c7%20%3D%20%24%28%60%3Cdiv%20id%3D%22html_6c0a68425c8c4791a87b577c534658c7%22%20style%3D%22width%3A%20100.0%25%3B%20height%3A%20100.0%25%3B%22%3EGrays%20Harbor%3C/div%3E%60%29%5B0%5D%3B%0A%20%20%20%20%20%20%20%20%20%20%20%20popup_cd737dec9b65434f82a9c068f7d31ff8.setContent%28html_6c0a68425c8c4791a87b577c534658c7%29%3B%0A%20%20%20%20%20%20%20%20%0A%0A%20%20%20%20%20%20%20%20circle_28abeef5d3c245d3adbfb11a757bcb12.bindPopup%28popup_cd737dec9b65434f82a9c068f7d31ff8%29%0A%20%20%20%20%20%20%20%20%3B%0A%0A%20%20%20%20%20%20%20%20%0A%20%20%20%20%0A%20%20%20%20%0A%20%20%20%20%20%20%20%20%20%20%20%20var%20circle_f749a46fd6844b49af5a72268f3e0af2%20%3D%20L.circle%28%0A%20%20%20%20%20%20%20%20%20%20%20%20%20%20%20%20%5B37.1095843%2C%20-95.7625713%5D%2C%0A%20%20%20%20%20%20%20%20%20%20%20%20%20%20%20%20%7B%22bubblingMouseEvents%22%3A%20true%2C%20%22color%22%3A%20%22blue%22%2C%20%22dashArray%22%3A%20null%2C%20%22dashOffset%22%3A%20null%2C%20%22fill%22%3A%20true%2C%20%22fillColor%22%3A%20%22crimson%22%2C%20%22fillOpacity%22%3A%200.2%2C%20%22fillRule%22%3A%20%22evenodd%22%2C%20%22lineCap%22%3A%20%22round%22%2C%20%22lineJoin%22%3A%20%22round%22%2C%20%22opacity%22%3A%201.0%2C%20%22radius%22%3A%20444.0%2C%20%22stroke%22%3A%20true%2C%20%22weight%22%3A%203%7D%0A%20%20%20%20%20%20%20%20%20%20%20%20%29.addTo%28map_8cccd35df9b6419ab9587e9862ee93df%29%3B%0A%20%20%20%20%20%20%20%20%0A%20%20%20%20%0A%20%20%20%20%20%20%20%20var%20popup_e718da7e6c9e4cf5b73a1075f67c14a4%20%3D%20L.popup%28%7B%22maxWidth%22%3A%20%22100%25%22%7D%29%3B%0A%0A%20%20%20%20%20%20%20%20%0A%20%20%20%20%20%20%20%20%20%20%20%20var%20html_26ec943ab683428fb7163393e2be5c31%20%3D%20%24%28%60%3Cdiv%20id%3D%22html_26ec943ab683428fb7163393e2be5c31%22%20style%3D%22width%3A%20100.0%25%3B%20height%3A%20100.0%25%3B%22%3EJefferson%3C/div%3E%60%29%5B0%5D%3B%0A%20%20%20%20%20%20%20%20%20%20%20%20popup_e718da7e6c9e4cf5b73a1075f67c14a4.setContent%28html_26ec943ab683428fb7163393e2be5c31%29%3B%0A%20%20%20%20%20%20%20%20%0A%0A%20%20%20%20%20%20%20%20circle_f749a46fd6844b49af5a72268f3e0af2.bindPopup%28popup_e718da7e6c9e4cf5b73a1075f67c14a4%29%0A%20%20%20%20%20%20%20%20%3B%0A%0A%20%20%20%20%20%20%20%20%0A%20%20%20%20%0A%20%20%20%20%0A%20%20%20%20%20%20%20%20%20%20%20%20var%20circle_e9049684cbee43fa86dfeb8102dc632c%20%3D%20L.circle%28%0A%20%20%20%20%20%20%20%20%20%20%20%20%20%20%20%20%5B37.0373074%2C%20-95.6163664%5D%2C%0A%20%20%20%20%20%20%20%20%20%20%20%20%20%20%20%20%7B%22bubblingMouseEvents%22%3A%20true%2C%20%22color%22%3A%20%22blue%22%2C%20%22dashArray%22%3A%20null%2C%20%22dashOffset%22%3A%20null%2C%20%22fill%22%3A%20true%2C%20%22fillColor%22%3A%20%22crimson%22%2C%20%22fillOpacity%22%3A%200.2%2C%20%22fillRule%22%3A%20%22evenodd%22%2C%20%22lineCap%22%3A%20%22round%22%2C%20%22lineJoin%22%3A%20%22round%22%2C%20%22opacity%22%3A%201.0%2C%20%22radius%22%3A%20118356.0%2C%20%22stroke%22%3A%20true%2C%20%22weight%22%3A%203%7D%0A%20%20%20%20%20%20%20%20%20%20%20%20%29.addTo%28map_8cccd35df9b6419ab9587e9862ee93df%29%3B%0A%20%20%20%20%20%20%20%20%0A%20%20%20%20%0A%20%20%20%20%20%20%20%20var%20popup_271b80bb3d9f4519aa4d96dac6ed439a%20%3D%20L.popup%28%7B%22maxWidth%22%3A%20%22100%25%22%7D%29%3B%0A%0A%20%20%20%20%20%20%20%20%0A%20%20%20%20%20%20%20%20%20%20%20%20var%20html_479aae9efd9c4b559e2fdcac10b5f930%20%3D%20%24%28%60%3Cdiv%20id%3D%22html_479aae9efd9c4b559e2fdcac10b5f930%22%20style%3D%22width%3A%20100.0%25%3B%20height%3A%20100.0%25%3B%22%3EKing%3C/div%3E%60%29%5B0%5D%3B%0A%20%20%20%20%20%20%20%20%20%20%20%20popup_271b80bb3d9f4519aa4d96dac6ed439a.setContent%28html_479aae9efd9c4b559e2fdcac10b5f930%29%3B%0A%20%20%20%20%20%20%20%20%0A%0A%20%20%20%20%20%20%20%20circle_e9049684cbee43fa86dfeb8102dc632c.bindPopup%28popup_271b80bb3d9f4519aa4d96dac6ed439a%29%0A%20%20%20%20%20%20%20%20%3B%0A%0A%20%20%20%20%20%20%20%20%0A%20%20%20%20%0A%20%20%20%20%0A%20%20%20%20%20%20%20%20%20%20%20%20var%20circle_25d450b713784f1ba09a4ff014bab8a9%20%3D%20L.circle%28%0A%20%20%20%20%20%20%20%20%20%20%20%20%20%20%20%20%5B47.6476607%2C%20-122.6412583%5D%2C%0A%20%20%20%20%20%20%20%20%20%20%20%20%20%20%20%20%7B%22bubblingMouseEvents%22%3A%20true%2C%20%22color%22%3A%20%22blue%22%2C%20%22dashArray%22%3A%20null%2C%20%22dashOffset%22%3A%20null%2C%20%22fill%22%3A%20true%2C%20%22fillColor%22%3A%20%22crimson%22%2C%20%22fillOpacity%22%3A%200.2%2C%20%22fillRule%22%3A%20%22evenodd%22%2C%20%22lineCap%22%3A%20%22round%22%2C%20%22lineJoin%22%3A%20%22round%22%2C%20%22opacity%22%3A%201.0%2C%20%22radius%22%3A%204140.0%2C%20%22stroke%22%3A%20true%2C%20%22weight%22%3A%203%7D%0A%20%20%20%20%20%20%20%20%20%20%20%20%29.addTo%28map_8cccd35df9b6419ab9587e9862ee93df%29%3B%0A%20%20%20%20%20%20%20%20%0A%20%20%20%20%0A%20%20%20%20%20%20%20%20var%20popup_8876c16f368542ddb76d834959883711%20%3D%20L.popup%28%7B%22maxWidth%22%3A%20%22100%25%22%7D%29%3B%0A%0A%20%20%20%20%20%20%20%20%0A%20%20%20%20%20%20%20%20%20%20%20%20var%20html_1cceea78127a42a3b8649227c1c3a599%20%3D%20%24%28%60%3Cdiv%20id%3D%22html_1cceea78127a42a3b8649227c1c3a599%22%20style%3D%22width%3A%20100.0%25%3B%20height%3A%20100.0%25%3B%22%3EKitsap%3C/div%3E%60%29%5B0%5D%3B%0A%20%20%20%20%20%20%20%20%20%20%20%20popup_8876c16f368542ddb76d834959883711.setContent%28html_1cceea78127a42a3b8649227c1c3a599%29%3B%0A%20%20%20%20%20%20%20%20%0A%0A%20%20%20%20%20%20%20%20circle_25d450b713784f1ba09a4ff014bab8a9.bindPopup%28popup_8876c16f368542ddb76d834959883711%29%0A%20%20%20%20%20%20%20%20%3B%0A%0A%20%20%20%20%20%20%20%20%0A%20%20%20%20%0A%20%20%20%20%0A%20%20%20%20%20%20%20%20%20%20%20%20var%20circle_743212775fa84307bdd6d9339a7de077%20%3D%20L.circle%28%0A%20%20%20%20%20%20%20%20%20%20%20%20%20%20%20%20%5B46.9831822%2C%20-120.4170102%5D%2C%0A%20%20%20%20%20%20%20%20%20%20%20%20%20%20%20%20%7B%22bubblingMouseEvents%22%3A%20true%2C%20%22color%22%3A%20%22blue%22%2C%20%22dashArray%22%3A%20null%2C%20%22dashOffset%22%3A%20null%2C%20%22fill%22%3A%20true%2C%20%22fillColor%22%3A%20%22crimson%22%2C%20%22fillOpacity%22%3A%200.2%2C%20%22fillRule%22%3A%20%22evenodd%22%2C%20%22lineCap%22%3A%20%22round%22%2C%20%22lineJoin%22%3A%20%22round%22%2C%20%22opacity%22%3A%201.0%2C%20%22radius%22%3A%20108.0%2C%20%22stroke%22%3A%20true%2C%20%22weight%22%3A%203%7D%0A%20%20%20%20%20%20%20%20%20%20%20%20%29.addTo%28map_8cccd35df9b6419ab9587e9862ee93df%29%3B%0A%20%20%20%20%20%20%20%20%0A%20%20%20%20%0A%20%20%20%20%20%20%20%20var%20popup_7961a05a00f540629b23651ab1c6d594%20%3D%20L.popup%28%7B%22maxWidth%22%3A%20%22100%25%22%7D%29%3B%0A%0A%20%20%20%20%20%20%20%20%0A%20%20%20%20%20%20%20%20%20%20%20%20var%20html_599c67beeb68429fadbbc5441dd4ec24%20%3D%20%24%28%60%3Cdiv%20id%3D%22html_599c67beeb68429fadbbc5441dd4ec24%22%20style%3D%22width%3A%20100.0%25%3B%20height%3A%20100.0%25%3B%22%3EKittitas%3C/div%3E%60%29%5B0%5D%3B%0A%20%20%20%20%20%20%20%20%20%20%20%20popup_7961a05a00f540629b23651ab1c6d594.setContent%28html_599c67beeb68429fadbbc5441dd4ec24%29%3B%0A%20%20%20%20%20%20%20%20%0A%0A%20%20%20%20%20%20%20%20circle_743212775fa84307bdd6d9339a7de077.bindPopup%28popup_7961a05a00f540629b23651ab1c6d594%29%0A%20%20%20%20%20%20%20%20%3B%0A%0A%20%20%20%20%20%20%20%20%0A%20%20%20%20%0A%20%20%20%20%0A%20%20%20%20%20%20%20%20%20%20%20%20var%20circle_128cd086966449a1ac8dededc967960d%20%3D%20L.circle%28%0A%20%20%20%20%20%20%20%20%20%20%20%20%20%20%20%20%5B45.8170668%2C%20-121.1525716%5D%2C%0A%20%20%20%20%20%20%20%20%20%20%20%20%20%20%20%20%7B%22bubblingMouseEvents%22%3A%20true%2C%20%22color%22%3A%20%22blue%22%2C%20%22dashArray%22%3A%20null%2C%20%22dashOffset%22%3A%20null%2C%20%22fill%22%3A%20true%2C%20%22fillColor%22%3A%20%22crimson%22%2C%20%22fillOpacity%22%3A%200.2%2C%20%22fillRule%22%3A%20%22evenodd%22%2C%20%22lineCap%22%3A%20%22round%22%2C%20%22lineJoin%22%3A%20%22round%22%2C%20%22opacity%22%3A%201.0%2C%20%22radius%22%3A%201452.0%2C%20%22stroke%22%3A%20true%2C%20%22weight%22%3A%203%7D%0A%20%20%20%20%20%20%20%20%20%20%20%20%29.addTo%28map_8cccd35df9b6419ab9587e9862ee93df%29%3B%0A%20%20%20%20%20%20%20%20%0A%20%20%20%20%0A%20%20%20%20%20%20%20%20var%20popup_9a159ba20a8c46d9a0c879267ea1e644%20%3D%20L.popup%28%7B%22maxWidth%22%3A%20%22100%25%22%7D%29%3B%0A%0A%20%20%20%20%20%20%20%20%0A%20%20%20%20%20%20%20%20%20%20%20%20var%20html_2898fb89452246798cc7532e57710222%20%3D%20%24%28%60%3Cdiv%20id%3D%22html_2898fb89452246798cc7532e57710222%22%20style%3D%22width%3A%20100.0%25%3B%20height%3A%20100.0%25%3B%22%3EKlickitat%3C/div%3E%60%29%5B0%5D%3B%0A%20%20%20%20%20%20%20%20%20%20%20%20popup_9a159ba20a8c46d9a0c879267ea1e644.setContent%28html_2898fb89452246798cc7532e57710222%29%3B%0A%20%20%20%20%20%20%20%20%0A%0A%20%20%20%20%20%20%20%20circle_128cd086966449a1ac8dededc967960d.bindPopup%28popup_9a159ba20a8c46d9a0c879267ea1e644%29%0A%20%20%20%20%20%20%20%20%3B%0A%0A%20%20%20%20%20%20%20%20%0A%20%20%20%20%0A%20%20%20%20%0A%20%20%20%20%20%20%20%20%20%20%20%20var%20circle_0b2b8640f2ac4f23af04d4809547a1f0%20%3D%20L.circle%28%0A%20%20%20%20%20%20%20%20%20%20%20%20%20%20%20%20%5B37.2255965%2C%20-95.7162345%5D%2C%0A%20%20%20%20%20%20%20%20%20%20%20%20%20%20%20%20%7B%22bubblingMouseEvents%22%3A%20true%2C%20%22color%22%3A%20%22blue%22%2C%20%22dashArray%22%3A%20null%2C%20%22dashOffset%22%3A%20null%2C%20%22fill%22%3A%20true%2C%20%22fillColor%22%3A%20%22crimson%22%2C%20%22fillOpacity%22%3A%200.2%2C%20%22fillRule%22%3A%20%22evenodd%22%2C%20%22lineCap%22%3A%20%22round%22%2C%20%22lineJoin%22%3A%20%22round%22%2C%20%22opacity%22%3A%201.0%2C%20%22radius%22%3A%20744.0%2C%20%22stroke%22%3A%20true%2C%20%22weight%22%3A%203%7D%0A%20%20%20%20%20%20%20%20%20%20%20%20%29.addTo%28map_8cccd35df9b6419ab9587e9862ee93df%29%3B%0A%20%20%20%20%20%20%20%20%0A%20%20%20%20%0A%20%20%20%20%20%20%20%20var%20popup_6e1d38cde708484e94c1d355b12a2c7d%20%3D%20L.popup%28%7B%22maxWidth%22%3A%20%22100%25%22%7D%29%3B%0A%0A%20%20%20%20%20%20%20%20%0A%20%20%20%20%20%20%20%20%20%20%20%20var%20html_12fb886e1f924652832de2bf376864df%20%3D%20%24%28%60%3Cdiv%20id%3D%22html_12fb886e1f924652832de2bf376864df%22%20style%3D%22width%3A%20100.0%25%3B%20height%3A%20100.0%25%3B%22%3ELewis%3C/div%3E%60%29%5B0%5D%3B%0A%20%20%20%20%20%20%20%20%20%20%20%20popup_6e1d38cde708484e94c1d355b12a2c7d.setContent%28html_12fb886e1f924652832de2bf376864df%29%3B%0A%20%20%20%20%20%20%20%20%0A%0A%20%20%20%20%20%20%20%20circle_0b2b8640f2ac4f23af04d4809547a1f0.bindPopup%28popup_6e1d38cde708484e94c1d355b12a2c7d%29%0A%20%20%20%20%20%20%20%20%3B%0A%0A%20%20%20%20%20%20%20%20%0A%20%20%20%20%0A%20%20%20%20%0A%20%20%20%20%20%20%20%20%20%20%20%20var%20circle_5072e58f8f9b42278e4e51fc138511da%20%3D%20L.circle%28%0A%20%20%20%20%20%20%20%20%20%20%20%20%20%20%20%20%5B39.3600586%2C%20-84.309939%5D%2C%0A%20%20%20%20%20%20%20%20%20%20%20%20%20%20%20%20%7B%22bubblingMouseEvents%22%3A%20true%2C%20%22color%22%3A%20%22blue%22%2C%20%22dashArray%22%3A%20null%2C%20%22dashOffset%22%3A%20null%2C%20%22fill%22%3A%20true%2C%20%22fillColor%22%3A%20%22crimson%22%2C%20%22fillOpacity%22%3A%200.2%2C%20%22fillRule%22%3A%20%22evenodd%22%2C%20%22lineCap%22%3A%20%22round%22%2C%20%22lineJoin%22%3A%20%22round%22%2C%20%22opacity%22%3A%201.0%2C%20%22radius%22%3A%20276.0%2C%20%22stroke%22%3A%20true%2C%20%22weight%22%3A%203%7D%0A%20%20%20%20%20%20%20%20%20%20%20%20%29.addTo%28map_8cccd35df9b6419ab9587e9862ee93df%29%3B%0A%20%20%20%20%20%20%20%20%0A%20%20%20%20%0A%20%20%20%20%20%20%20%20var%20popup_26946aa1cccf4ec6b1241b961e29a641%20%3D%20L.popup%28%7B%22maxWidth%22%3A%20%22100%25%22%7D%29%3B%0A%0A%20%20%20%20%20%20%20%20%0A%20%20%20%20%20%20%20%20%20%20%20%20var%20html_9aefdef95cb8444cb26729731848b3b2%20%3D%20%24%28%60%3Cdiv%20id%3D%22html_9aefdef95cb8444cb26729731848b3b2%22%20style%3D%22width%3A%20100.0%25%3B%20height%3A%20100.0%25%3B%22%3EMason%3C/div%3E%60%29%5B0%5D%3B%0A%20%20%20%20%20%20%20%20%20%20%20%20popup_26946aa1cccf4ec6b1241b961e29a641.setContent%28html_9aefdef95cb8444cb26729731848b3b2%29%3B%0A%20%20%20%20%20%20%20%20%0A%0A%20%20%20%20%20%20%20%20circle_5072e58f8f9b42278e4e51fc138511da.bindPopup%28popup_26946aa1cccf4ec6b1241b961e29a641%29%0A%20%20%20%20%20%20%20%20%3B%0A%0A%20%20%20%20%20%20%20%20%0A%20%20%20%20%0A%20%20%20%20%0A%20%20%20%20%20%20%20%20%20%20%20%20var%20circle_bbb1a6a87cbb4e2d8e1733b9a1d99fce%20%3D%20L.circle%28%0A%20%20%20%20%20%20%20%20%20%20%20%20%20%20%20%20%5B48.361262%2C%20-119.5833869%5D%2C%0A%20%20%20%20%20%20%20%20%20%20%20%20%20%20%20%20%7B%22bubblingMouseEvents%22%3A%20true%2C%20%22color%22%3A%20%22blue%22%2C%20%22dashArray%22%3A%20null%2C%20%22dashOffset%22%3A%20null%2C%20%22fill%22%3A%20true%2C%20%22fillColor%22%3A%20%22crimson%22%2C%20%22fillOpacity%22%3A%200.2%2C%20%22fillRule%22%3A%20%22evenodd%22%2C%20%22lineCap%22%3A%20%22round%22%2C%20%22lineJoin%22%3A%20%22round%22%2C%20%22opacity%22%3A%201.0%2C%20%22stroke%22%3A%20true%2C%20%22weight%22%3A%203%7D%0A%20%20%20%20%20%20%20%20%20%20%20%20%29.addTo%28map_8cccd35df9b6419ab9587e9862ee93df%29%3B%0A%20%20%20%20%20%20%20%20%0A%20%20%20%20%0A%20%20%20%20%20%20%20%20var%20popup_3e6670798e08469787f563408ecb8019%20%3D%20L.popup%28%7B%22maxWidth%22%3A%20%22100%25%22%7D%29%3B%0A%0A%20%20%20%20%20%20%20%20%0A%20%20%20%20%20%20%20%20%20%20%20%20var%20html_13dca2a845cd40e2a7989d1384f14624%20%3D%20%24%28%60%3Cdiv%20id%3D%22html_13dca2a845cd40e2a7989d1384f14624%22%20style%3D%22width%3A%20100.0%25%3B%20height%3A%20100.0%25%3B%22%3EOkanogan%3C/div%3E%60%29%5B0%5D%3B%0A%20%20%20%20%20%20%20%20%20%20%20%20popup_3e6670798e08469787f563408ecb8019.setContent%28html_13dca2a845cd40e2a7989d1384f14624%29%3B%0A%20%20%20%20%20%20%20%20%0A%0A%20%20%20%20%20%20%20%20circle_bbb1a6a87cbb4e2d8e1733b9a1d99fce.bindPopup%28popup_3e6670798e08469787f563408ecb8019%29%0A%20%20%20%20%20%20%20%20%3B%0A%0A%20%20%20%20%20%20%20%20%0A%20%20%20%20%0A%20%20%20%20%0A%20%20%20%20%20%20%20%20%20%20%20%20var%20circle_9d31ba043a934bed8d83342d01f309fd%20%3D%20L.circle%28%0A%20%20%20%20%20%20%20%20%20%20%20%20%20%20%20%20%5B-8.783195%2C%20-124.508523%5D%2C%0A%20%20%20%20%20%20%20%20%20%20%20%20%20%20%20%20%7B%22bubblingMouseEvents%22%3A%20true%2C%20%22color%22%3A%20%22blue%22%2C%20%22dashArray%22%3A%20null%2C%20%22dashOffset%22%3A%20null%2C%20%22fill%22%3A%20true%2C%20%22fillColor%22%3A%20%22crimson%22%2C%20%22fillOpacity%22%3A%200.2%2C%20%22fillRule%22%3A%20%22evenodd%22%2C%20%22lineCap%22%3A%20%22round%22%2C%20%22lineJoin%22%3A%20%22round%22%2C%20%22opacity%22%3A%201.0%2C%20%22radius%22%3A%201128.0%2C%20%22stroke%22%3A%20true%2C%20%22weight%22%3A%203%7D%0A%20%20%20%20%20%20%20%20%20%20%20%20%29.addTo%28map_8cccd35df9b6419ab9587e9862ee93df%29%3B%0A%20%20%20%20%20%20%20%20%0A%20%20%20%20%0A%20%20%20%20%20%20%20%20var%20popup_c0d8903f878f4bc7956cf57b3bea6379%20%3D%20L.popup%28%7B%22maxWidth%22%3A%20%22100%25%22%7D%29%3B%0A%0A%20%20%20%20%20%20%20%20%0A%20%20%20%20%20%20%20%20%20%20%20%20var%20html_f2f43158251f41eab60fd52be93a1e0e%20%3D%20%24%28%60%3Cdiv%20id%3D%22html_f2f43158251f41eab60fd52be93a1e0e%22%20style%3D%22width%3A%20100.0%25%3B%20height%3A%20100.0%25%3B%22%3EPacific%3C/div%3E%60%29%5B0%5D%3B%0A%20%20%20%20%20%20%20%20%20%20%20%20popup_c0d8903f878f4bc7956cf57b3bea6379.setContent%28html_f2f43158251f41eab60fd52be93a1e0e%29%3B%0A%20%20%20%20%20%20%20%20%0A%0A%20%20%20%20%20%20%20%20circle_9d31ba043a934bed8d83342d01f309fd.bindPopup%28popup_c0d8903f878f4bc7956cf57b3bea6379%29%0A%20%20%20%20%20%20%20%20%3B%0A%0A%20%20%20%20%20%20%20%20%0A%20%20%20%20%0A%20%20%20%20%0A%20%20%20%20%20%20%20%20%20%20%20%20var%20circle_05a6b602df4b41a7988c6ac80380c94c%20%3D%20L.circle%28%0A%20%20%20%20%20%20%20%20%20%20%20%20%20%20%20%20%5B34.1844597%2C%20-118.5791524%5D%2C%0A%20%20%20%20%20%20%20%20%20%20%20%20%20%20%20%20%7B%22bubblingMouseEvents%22%3A%20true%2C%20%22color%22%3A%20%22blue%22%2C%20%22dashArray%22%3A%20null%2C%20%22dashOffset%22%3A%20null%2C%20%22fill%22%3A%20true%2C%20%22fillColor%22%3A%20%22crimson%22%2C%20%22fillOpacity%22%3A%200.2%2C%20%22fillRule%22%3A%20%22evenodd%22%2C%20%22lineCap%22%3A%20%22round%22%2C%20%22lineJoin%22%3A%20%22round%22%2C%20%22opacity%22%3A%201.0%2C%20%22radius%22%3A%2024600.0%2C%20%22stroke%22%3A%20true%2C%20%22weight%22%3A%203%7D%0A%20%20%20%20%20%20%20%20%20%20%20%20%29.addTo%28map_8cccd35df9b6419ab9587e9862ee93df%29%3B%0A%20%20%20%20%20%20%20%20%0A%20%20%20%20%0A%20%20%20%20%20%20%20%20var%20popup_84f87a0de97a4b80ace49764ced3d3ef%20%3D%20L.popup%28%7B%22maxWidth%22%3A%20%22100%25%22%7D%29%3B%0A%0A%20%20%20%20%20%20%20%20%0A%20%20%20%20%20%20%20%20%20%20%20%20var%20html_7a84faaf136e460ca5b2ddcf1a3bad1c%20%3D%20%24%28%60%3Cdiv%20id%3D%22html_7a84faaf136e460ca5b2ddcf1a3bad1c%22%20style%3D%22width%3A%20100.0%25%3B%20height%3A%20100.0%25%3B%22%3EPierce%3C/div%3E%60%29%5B0%5D%3B%0A%20%20%20%20%20%20%20%20%20%20%20%20popup_84f87a0de97a4b80ace49764ced3d3ef.setContent%28html_7a84faaf136e460ca5b2ddcf1a3bad1c%29%3B%0A%20%20%20%20%20%20%20%20%0A%0A%20%20%20%20%20%20%20%20circle_05a6b602df4b41a7988c6ac80380c94c.bindPopup%28popup_84f87a0de97a4b80ace49764ced3d3ef%29%0A%20%20%20%20%20%20%20%20%3B%0A%0A%20%20%20%20%20%20%20%20%0A%20%20%20%20%0A%20%20%20%20%0A%20%20%20%20%20%20%20%20%20%20%20%20var%20circle_1bc4259258a645dea5478f0469a223a5%20%3D%20L.circle%28%0A%20%20%20%20%20%20%20%20%20%20%20%20%20%20%20%20%5B18.4655394%2C%20-66.1057355%5D%2C%0A%20%20%20%20%20%20%20%20%20%20%20%20%20%20%20%20%7B%22bubblingMouseEvents%22%3A%20true%2C%20%22color%22%3A%20%22blue%22%2C%20%22dashArray%22%3A%20null%2C%20%22dashOffset%22%3A%20null%2C%20%22fill%22%3A%20true%2C%20%22fillColor%22%3A%20%22crimson%22%2C%20%22fillOpacity%22%3A%200.2%2C%20%22fillRule%22%3A%20%22evenodd%22%2C%20%22lineCap%22%3A%20%22round%22%2C%20%22lineJoin%22%3A%20%22round%22%2C%20%22opacity%22%3A%201.0%2C%20%22radius%22%3A%2024.0%2C%20%22stroke%22%3A%20true%2C%20%22weight%22%3A%203%7D%0A%20%20%20%20%20%20%20%20%20%20%20%20%29.addTo%28map_8cccd35df9b6419ab9587e9862ee93df%29%3B%0A%20%20%20%20%20%20%20%20%0A%20%20%20%20%0A%20%20%20%20%20%20%20%20var%20popup_4064fc6fe8d94b96a756c4e48e60f525%20%3D%20L.popup%28%7B%22maxWidth%22%3A%20%22100%25%22%7D%29%3B%0A%0A%20%20%20%20%20%20%20%20%0A%20%20%20%20%20%20%20%20%20%20%20%20var%20html_cc00bf73267042ea8c0124c9a821d881%20%3D%20%24%28%60%3Cdiv%20id%3D%22html_cc00bf73267042ea8c0124c9a821d881%22%20style%3D%22width%3A%20100.0%25%3B%20height%3A%20100.0%25%3B%22%3ESan%20Juan%3C/div%3E%60%29%5B0%5D%3B%0A%20%20%20%20%20%20%20%20%20%20%20%20popup_4064fc6fe8d94b96a756c4e48e60f525.setContent%28html_cc00bf73267042ea8c0124c9a821d881%29%3B%0A%20%20%20%20%20%20%20%20%0A%0A%20%20%20%20%20%20%20%20circle_1bc4259258a645dea5478f0469a223a5.bindPopup%28popup_4064fc6fe8d94b96a756c4e48e60f525%29%0A%20%20%20%20%20%20%20%20%3B%0A%0A%20%20%20%20%20%20%20%20%0A%20%20%20%20%0A%20%20%20%20%0A%20%20%20%20%20%20%20%20%20%20%20%20var%20circle_877359a5e2f048b4b929d5ad6f6422b9%20%3D%20L.circle%28%0A%20%20%20%20%20%20%20%20%20%20%20%20%20%20%20%20%5B48.4241961%2C%20-121.7114362%5D%2C%0A%20%20%20%20%20%20%20%20%20%20%20%20%20%20%20%20%7B%22bubblingMouseEvents%22%3A%20true%2C%20%22color%22%3A%20%22blue%22%2C%20%22dashArray%22%3A%20null%2C%20%22dashOffset%22%3A%20null%2C%20%22fill%22%3A%20true%2C%20%22fillColor%22%3A%20%22crimson%22%2C%20%22fillOpacity%22%3A%200.2%2C%20%22fillRule%22%3A%20%22evenodd%22%2C%20%22lineCap%22%3A%20%22round%22%2C%20%22lineJoin%22%3A%20%22round%22%2C%20%22opacity%22%3A%201.0%2C%20%22radius%22%3A%20792.0%2C%20%22stroke%22%3A%20true%2C%20%22weight%22%3A%203%7D%0A%20%20%20%20%20%20%20%20%20%20%20%20%29.addTo%28map_8cccd35df9b6419ab9587e9862ee93df%29%3B%0A%20%20%20%20%20%20%20%20%0A%20%20%20%20%0A%20%20%20%20%20%20%20%20var%20popup_92fecd77e83a41a2a7c6c6a7fb268806%20%3D%20L.popup%28%7B%22maxWidth%22%3A%20%22100%25%22%7D%29%3B%0A%0A%20%20%20%20%20%20%20%20%0A%20%20%20%20%20%20%20%20%20%20%20%20var%20html_a3674cb7777e422a81b5ef1c8b347a8f%20%3D%20%24%28%60%3Cdiv%20id%3D%22html_a3674cb7777e422a81b5ef1c8b347a8f%22%20style%3D%22width%3A%20100.0%25%3B%20height%3A%20100.0%25%3B%22%3ESkagit%3C/div%3E%60%29%5B0%5D%3B%0A%20%20%20%20%20%20%20%20%20%20%20%20popup_92fecd77e83a41a2a7c6c6a7fb268806.setContent%28html_a3674cb7777e422a81b5ef1c8b347a8f%29%3B%0A%20%20%20%20%20%20%20%20%0A%0A%20%20%20%20%20%20%20%20circle_877359a5e2f048b4b929d5ad6f6422b9.bindPopup%28popup_92fecd77e83a41a2a7c6c6a7fb268806%29%0A%20%20%20%20%20%20%20%20%3B%0A%0A%20%20%20%20%20%20%20%20%0A%20%20%20%20%0A%20%20%20%20%0A%20%20%20%20%20%20%20%20%20%20%20%20var%20circle_28458a4914ed4473973131f6dccccef6%20%3D%20L.circle%28%0A%20%20%20%20%20%20%20%20%20%20%20%20%20%20%20%20%5B45.6176095%2C%20-122.0488678%5D%2C%0A%20%20%20%20%20%20%20%20%20%20%20%20%20%20%20%20%7B%22bubblingMouseEvents%22%3A%20true%2C%20%22color%22%3A%20%22blue%22%2C%20%22dashArray%22%3A%20null%2C%20%22dashOffset%22%3A%20null%2C%20%22fill%22%3A%20true%2C%20%22fillColor%22%3A%20%22crimson%22%2C%20%22fillOpacity%22%3A%200.2%2C%20%22fillRule%22%3A%20%22evenodd%22%2C%20%22lineCap%22%3A%20%22round%22%2C%20%22lineJoin%22%3A%20%22round%22%2C%20%22opacity%22%3A%201.0%2C%20%22radius%22%3A%2048.0%2C%20%22stroke%22%3A%20true%2C%20%22weight%22%3A%203%7D%0A%20%20%20%20%20%20%20%20%20%20%20%20%29.addTo%28map_8cccd35df9b6419ab9587e9862ee93df%29%3B%0A%20%20%20%20%20%20%20%20%0A%20%20%20%20%0A%20%20%20%20%20%20%20%20var%20popup_4f5eb5ac9f64468a9b550eda431fdede%20%3D%20L.popup%28%7B%22maxWidth%22%3A%20%22100%25%22%7D%29%3B%0A%0A%20%20%20%20%20%20%20%20%0A%20%20%20%20%20%20%20%20%20%20%20%20var%20html_e6f50c5b7f8c412b8cd952f65a9d693a%20%3D%20%24%28%60%3Cdiv%20id%3D%22html_e6f50c5b7f8c412b8cd952f65a9d693a%22%20style%3D%22width%3A%20100.0%25%3B%20height%3A%20100.0%25%3B%22%3ESkamania%3C/div%3E%60%29%5B0%5D%3B%0A%20%20%20%20%20%20%20%20%20%20%20%20popup_4f5eb5ac9f64468a9b550eda431fdede.setContent%28html_e6f50c5b7f8c412b8cd952f65a9d693a%29%3B%0A%20%20%20%20%20%20%20%20%0A%0A%20%20%20%20%20%20%20%20circle_28458a4914ed4473973131f6dccccef6.bindPopup%28popup_4f5eb5ac9f64468a9b550eda431fdede%29%0A%20%20%20%20%20%20%20%20%3B%0A%0A%20%20%20%20%20%20%20%20%0A%20%20%20%20%0A%20%20%20%20%0A%20%20%20%20%20%20%20%20%20%20%20%20var%20circle_b78bde43f2114ba59c9e26e7b0ebcc5b%20%3D%20L.circle%28%0A%20%20%20%20%20%20%20%20%20%20%20%20%20%20%20%20%5B47.9128756%2C%20-122.0981847%5D%2C%0A%20%20%20%20%20%20%20%20%20%20%20%20%20%20%20%20%7B%22bubblingMouseEvents%22%3A%20true%2C%20%22color%22%3A%20%22blue%22%2C%20%22dashArray%22%3A%20null%2C%20%22dashOffset%22%3A%20null%2C%20%22fill%22%3A%20true%2C%20%22fillColor%22%3A%20%22crimson%22%2C%20%22fillOpacity%22%3A%200.2%2C%20%22fillRule%22%3A%20%22evenodd%22%2C%20%22lineCap%22%3A%20%22round%22%2C%20%22lineJoin%22%3A%20%22round%22%2C%20%22opacity%22%3A%201.0%2C%20%22radius%22%3A%20684.0%2C%20%22stroke%22%3A%20true%2C%20%22weight%22%3A%203%7D%0A%20%20%20%20%20%20%20%20%20%20%20%20%29.addTo%28map_8cccd35df9b6419ab9587e9862ee93df%29%3B%0A%20%20%20%20%20%20%20%20%0A%20%20%20%20%0A%20%20%20%20%20%20%20%20var%20popup_02ca5d1632884326ad67440de67b5dc7%20%3D%20L.popup%28%7B%22maxWidth%22%3A%20%22100%25%22%7D%29%3B%0A%0A%20%20%20%20%20%20%20%20%0A%20%20%20%20%20%20%20%20%20%20%20%20var%20html_9650d2bb82dd4cda91adc0d2af1e7a7c%20%3D%20%24%28%60%3Cdiv%20id%3D%22html_9650d2bb82dd4cda91adc0d2af1e7a7c%22%20style%3D%22width%3A%20100.0%25%3B%20height%3A%20100.0%25%3B%22%3ESnohomish%3C/div%3E%60%29%5B0%5D%3B%0A%20%20%20%20%20%20%20%20%20%20%20%20popup_02ca5d1632884326ad67440de67b5dc7.setContent%28html_9650d2bb82dd4cda91adc0d2af1e7a7c%29%3B%0A%20%20%20%20%20%20%20%20%0A%0A%20%20%20%20%20%20%20%20circle_b78bde43f2114ba59c9e26e7b0ebcc5b.bindPopup%28popup_02ca5d1632884326ad67440de67b5dc7%29%0A%20%20%20%20%20%20%20%20%3B%0A%0A%20%20%20%20%20%20%20%20%0A%20%20%20%20%0A%20%20%20%20%0A%20%20%20%20%20%20%20%20%20%20%20%20var%20circle_a9dbeaa909d04a1499d688d1b5dc6cc6%20%3D%20L.circle%28%0A%20%20%20%20%20%20%20%20%20%20%20%20%20%20%20%20%5B46.8645747%2C%20-122.7695986%5D%2C%0A%20%20%20%20%20%20%20%20%20%20%20%20%20%20%20%20%7B%22bubblingMouseEvents%22%3A%20true%2C%20%22color%22%3A%20%22blue%22%2C%20%22dashArray%22%3A%20null%2C%20%22dashOffset%22%3A%20null%2C%20%22fill%22%3A%20true%2C%20%22fillColor%22%3A%20%22crimson%22%2C%20%22fillOpacity%22%3A%200.2%2C%20%22fillRule%22%3A%20%22evenodd%22%2C%20%22lineCap%22%3A%20%22round%22%2C%20%22lineJoin%22%3A%20%22round%22%2C%20%22opacity%22%3A%201.0%2C%20%22radius%22%3A%201080.0%2C%20%22stroke%22%3A%20true%2C%20%22weight%22%3A%203%7D%0A%20%20%20%20%20%20%20%20%20%20%20%20%29.addTo%28map_8cccd35df9b6419ab9587e9862ee93df%29%3B%0A%20%20%20%20%20%20%20%20%0A%20%20%20%20%0A%20%20%20%20%20%20%20%20var%20popup_c28eaf92618147a5b026fde7c1e63788%20%3D%20L.popup%28%7B%22maxWidth%22%3A%20%22100%25%22%7D%29%3B%0A%0A%20%20%20%20%20%20%20%20%0A%20%20%20%20%20%20%20%20%20%20%20%20var%20html_db30d36fcdd64b38a0b01417e0991e0d%20%3D%20%24%28%60%3Cdiv%20id%3D%22html_db30d36fcdd64b38a0b01417e0991e0d%22%20style%3D%22width%3A%20100.0%25%3B%20height%3A%20100.0%25%3B%22%3EThurston%3C/div%3E%60%29%5B0%5D%3B%0A%20%20%20%20%20%20%20%20%20%20%20%20popup_c28eaf92618147a5b026fde7c1e63788.setContent%28html_db30d36fcdd64b38a0b01417e0991e0d%29%3B%0A%20%20%20%20%20%20%20%20%0A%0A%20%20%20%20%20%20%20%20circle_a9dbeaa909d04a1499d688d1b5dc6cc6.bindPopup%28popup_c28eaf92618147a5b026fde7c1e63788%29%0A%20%20%20%20%20%20%20%20%3B%0A%0A%20%20%20%20%20%20%20%20%0A%20%20%20%20%0A%20%20%20%20%0A%20%20%20%20%20%20%20%20%20%20%20%20var%20circle_d4d9c4d32c2046fd8f87e7632499a205%20%3D%20L.circle%28%0A%20%20%20%20%20%20%20%20%20%20%20%20%20%20%20%20%5B48.7946887%2C%20-122.4927431%5D%2C%0A%20%20%20%20%20%20%20%20%20%20%20%20%20%20%20%20%7B%22bubblingMouseEvents%22%3A%20true%2C%20%22color%22%3A%20%22blue%22%2C%20%22dashArray%22%3A%20null%2C%20%22dashOffset%22%3A%20null%2C%20%22fill%22%3A%20true%2C%20%22fillColor%22%3A%20%22crimson%22%2C%20%22fillOpacity%22%3A%200.2%2C%20%22fillRule%22%3A%20%22evenodd%22%2C%20%22lineCap%22%3A%20%22round%22%2C%20%22lineJoin%22%3A%20%22round%22%2C%20%22opacity%22%3A%201.0%2C%20%22radius%22%3A%20336.0%2C%20%22stroke%22%3A%20true%2C%20%22weight%22%3A%203%7D%0A%20%20%20%20%20%20%20%20%20%20%20%20%29.addTo%28map_8cccd35df9b6419ab9587e9862ee93df%29%3B%0A%20%20%20%20%20%20%20%20%0A%20%20%20%20%0A%20%20%20%20%20%20%20%20var%20popup_c77d5c8ec36c43cba0d95f814c160200%20%3D%20L.popup%28%7B%22maxWidth%22%3A%20%22100%25%22%7D%29%3B%0A%0A%20%20%20%20%20%20%20%20%0A%20%20%20%20%20%20%20%20%20%20%20%20var%20html_f181f911c91c4f4fb67c52a9e87f5747%20%3D%20%24%28%60%3Cdiv%20id%3D%22html_f181f911c91c4f4fb67c52a9e87f5747%22%20style%3D%22width%3A%20100.0%25%3B%20height%3A%20100.0%25%3B%22%3EWhatcom%3C/div%3E%60%29%5B0%5D%3B%0A%20%20%20%20%20%20%20%20%20%20%20%20popup_c77d5c8ec36c43cba0d95f814c160200.setContent%28html_f181f911c91c4f4fb67c52a9e87f5747%29%3B%0A%20%20%20%20%20%20%20%20%0A%0A%20%20%20%20%20%20%20%20circle_d4d9c4d32c2046fd8f87e7632499a205.bindPopup%28popup_c77d5c8ec36c43cba0d95f814c160200%29%0A%20%20%20%20%20%20%20%20%3B%0A%0A%20%20%20%20%20%20%20%20%0A%20%20%20%20%0A%20%20%20%20%0A%20%20%20%20%20%20%20%20%20%20%20%20var%20circle_6c860e4bc94f4d7d8a0d00757dc39698%20%3D%20L.circle%28%0A%20%20%20%20%20%20%20%20%20%20%20%20%20%20%20%20%5B46.6020711%2C%20-120.5058987%5D%2C%0A%20%20%20%20%20%20%20%20%20%20%20%20%20%20%20%20%7B%22bubblingMouseEvents%22%3A%20true%2C%20%22color%22%3A%20%22blue%22%2C%20%22dashArray%22%3A%20null%2C%20%22dashOffset%22%3A%20null%2C%20%22fill%22%3A%20true%2C%20%22fillColor%22%3A%20%22crimson%22%2C%20%22fillOpacity%22%3A%200.2%2C%20%22fillRule%22%3A%20%22evenodd%22%2C%20%22lineCap%22%3A%20%22round%22%2C%20%22lineJoin%22%3A%20%22round%22%2C%20%22opacity%22%3A%201.0%2C%20%22radius%22%3A%209768.0%2C%20%22stroke%22%3A%20true%2C%20%22weight%22%3A%203%7D%0A%20%20%20%20%20%20%20%20%20%20%20%20%29.addTo%28map_8cccd35df9b6419ab9587e9862ee93df%29%3B%0A%20%20%20%20%20%20%20%20%0A%20%20%20%20%0A%20%20%20%20%20%20%20%20var%20popup_7c52d64509df46c9b2e89afb32b52271%20%3D%20L.popup%28%7B%22maxWidth%22%3A%20%22100%25%22%7D%29%3B%0A%0A%20%20%20%20%20%20%20%20%0A%20%20%20%20%20%20%20%20%20%20%20%20var%20html_30cb3eb592a64d698b5d72537699cf56%20%3D%20%24%28%60%3Cdiv%20id%3D%22html_30cb3eb592a64d698b5d72537699cf56%22%20style%3D%22width%3A%20100.0%25%3B%20height%3A%20100.0%25%3B%22%3EYakima%3C/div%3E%60%29%5B0%5D%3B%0A%20%20%20%20%20%20%20%20%20%20%20%20popup_7c52d64509df46c9b2e89afb32b52271.setContent%28html_30cb3eb592a64d698b5d72537699cf56%29%3B%0A%20%20%20%20%20%20%20%20%0A%0A%20%20%20%20%20%20%20%20circle_6c860e4bc94f4d7d8a0d00757dc39698.bindPopup%28popup_7c52d64509df46c9b2e89afb32b52271%29%0A%20%20%20%20%20%20%20%20%3B%0A%0A%20%20%20%20%20%20%20%20%0A%20%20%20%20%0A%3C/script%3E onload=\"this.contentDocument.open();this.contentDocument.write(    decodeURIComponent(this.getAttribute('data-html')));this.contentDocument.close();\" allowfullscreen webkitallowfullscreen mozallowfullscreen></iframe></div></div>"
      ],
      "text/plain": [
       "<folium.folium.Map at 0x12c762f20>"
      ]
     },
     "execution_count": 23,
     "metadata": {},
     "output_type": "execute_result"
    }
   ],
   "source": [
    "m = folium.Map(location=[36.733300, -100.766700], zoom_start=4)\n",
    "tooltip = 'Click me!'\n",
    "for i in range(0,len(population1940_1945)):\n",
    "    folium.Circle(\n",
    "      location = (population1940_1945.iloc[i]['Latitude'], population1940_1945.iloc[i]['Longitude']),\n",
    "      popup = population1940_1945.iloc[i]['County'],\n",
    "      radius = float(population1940_1945.iloc[i]['1940']) *12,\n",
    "      color = 'blue',\n",
    "      fill = True,\n",
    "      fill_color = 'crimson').add_to(m)\n",
    "m"
   ]
  },
  {
   "cell_type": "code",
   "execution_count": 24,
   "metadata": {
    "execution": {
     "iopub.execute_input": "2022-10-25T20:55:28.066047Z",
     "iopub.status.busy": "2022-10-25T20:55:28.064918Z",
     "iopub.status.idle": "2022-10-25T20:55:28.356178Z",
     "shell.execute_reply": "2022-10-25T20:55:28.353517Z",
     "shell.execute_reply.started": "2022-10-25T20:55:28.066018Z"
    }
   },
   "outputs": [
    {
     "data": {
      "text/html": [
       "<div style=\"width:100%;\"><div style=\"position:relative;width:100%;height:0;padding-bottom:60%;\"><span style=\"color:#565656\">Make this Notebook Trusted to load map: File -> Trust Notebook</span><iframe src=\"about:blank\" style=\"position:absolute;width:100%;height:100%;left:0;top:0;border:none !important;\" data-html=%3C%21DOCTYPE%20html%3E%0A%3Chead%3E%20%20%20%20%0A%20%20%20%20%3Cmeta%20http-equiv%3D%22content-type%22%20content%3D%22text/html%3B%20charset%3DUTF-8%22%20/%3E%0A%20%20%20%20%0A%20%20%20%20%20%20%20%20%3Cscript%3E%0A%20%20%20%20%20%20%20%20%20%20%20%20L_NO_TOUCH%20%3D%20false%3B%0A%20%20%20%20%20%20%20%20%20%20%20%20L_DISABLE_3D%20%3D%20false%3B%0A%20%20%20%20%20%20%20%20%3C/script%3E%0A%20%20%20%20%0A%20%20%20%20%3Cstyle%3Ehtml%2C%20body%20%7Bwidth%3A%20100%25%3Bheight%3A%20100%25%3Bmargin%3A%200%3Bpadding%3A%200%3B%7D%3C/style%3E%0A%20%20%20%20%3Cstyle%3E%23map%20%7Bposition%3Aabsolute%3Btop%3A0%3Bbottom%3A0%3Bright%3A0%3Bleft%3A0%3B%7D%3C/style%3E%0A%20%20%20%20%3Cscript%20src%3D%22https%3A//cdn.jsdelivr.net/npm/leaflet%401.6.0/dist/leaflet.js%22%3E%3C/script%3E%0A%20%20%20%20%3Cscript%20src%3D%22https%3A//code.jquery.com/jquery-1.12.4.min.js%22%3E%3C/script%3E%0A%20%20%20%20%3Cscript%20src%3D%22https%3A//maxcdn.bootstrapcdn.com/bootstrap/3.2.0/js/bootstrap.min.js%22%3E%3C/script%3E%0A%20%20%20%20%3Cscript%20src%3D%22https%3A//cdnjs.cloudflare.com/ajax/libs/Leaflet.awesome-markers/2.0.2/leaflet.awesome-markers.js%22%3E%3C/script%3E%0A%20%20%20%20%3Clink%20rel%3D%22stylesheet%22%20href%3D%22https%3A//cdn.jsdelivr.net/npm/leaflet%401.6.0/dist/leaflet.css%22/%3E%0A%20%20%20%20%3Clink%20rel%3D%22stylesheet%22%20href%3D%22https%3A//maxcdn.bootstrapcdn.com/bootstrap/3.2.0/css/bootstrap.min.css%22/%3E%0A%20%20%20%20%3Clink%20rel%3D%22stylesheet%22%20href%3D%22https%3A//maxcdn.bootstrapcdn.com/bootstrap/3.2.0/css/bootstrap-theme.min.css%22/%3E%0A%20%20%20%20%3Clink%20rel%3D%22stylesheet%22%20href%3D%22https%3A//maxcdn.bootstrapcdn.com/font-awesome/4.6.3/css/font-awesome.min.css%22/%3E%0A%20%20%20%20%3Clink%20rel%3D%22stylesheet%22%20href%3D%22https%3A//cdnjs.cloudflare.com/ajax/libs/Leaflet.awesome-markers/2.0.2/leaflet.awesome-markers.css%22/%3E%0A%20%20%20%20%3Clink%20rel%3D%22stylesheet%22%20href%3D%22https%3A//cdn.jsdelivr.net/gh/python-visualization/folium/folium/templates/leaflet.awesome.rotate.min.css%22/%3E%0A%20%20%20%20%0A%20%20%20%20%20%20%20%20%20%20%20%20%3Cmeta%20name%3D%22viewport%22%20content%3D%22width%3Ddevice-width%2C%0A%20%20%20%20%20%20%20%20%20%20%20%20%20%20%20%20initial-scale%3D1.0%2C%20maximum-scale%3D1.0%2C%20user-scalable%3Dno%22%20/%3E%0A%20%20%20%20%20%20%20%20%20%20%20%20%3Cstyle%3E%0A%20%20%20%20%20%20%20%20%20%20%20%20%20%20%20%20%23map_b0683b1b6eda4a649165f8152e11b377%20%7B%0A%20%20%20%20%20%20%20%20%20%20%20%20%20%20%20%20%20%20%20%20position%3A%20relative%3B%0A%20%20%20%20%20%20%20%20%20%20%20%20%20%20%20%20%20%20%20%20width%3A%20100.0%25%3B%0A%20%20%20%20%20%20%20%20%20%20%20%20%20%20%20%20%20%20%20%20height%3A%20100.0%25%3B%0A%20%20%20%20%20%20%20%20%20%20%20%20%20%20%20%20%20%20%20%20left%3A%200.0%25%3B%0A%20%20%20%20%20%20%20%20%20%20%20%20%20%20%20%20%20%20%20%20top%3A%200.0%25%3B%0A%20%20%20%20%20%20%20%20%20%20%20%20%20%20%20%20%7D%0A%20%20%20%20%20%20%20%20%20%20%20%20%3C/style%3E%0A%20%20%20%20%20%20%20%20%0A%3C/head%3E%0A%3Cbody%3E%20%20%20%20%0A%20%20%20%20%0A%20%20%20%20%20%20%20%20%20%20%20%20%3Cdiv%20class%3D%22folium-map%22%20id%3D%22map_b0683b1b6eda4a649165f8152e11b377%22%20%3E%3C/div%3E%0A%20%20%20%20%20%20%20%20%0A%3C/body%3E%0A%3Cscript%3E%20%20%20%20%0A%20%20%20%20%0A%20%20%20%20%20%20%20%20%20%20%20%20var%20map_b0683b1b6eda4a649165f8152e11b377%20%3D%20L.map%28%0A%20%20%20%20%20%20%20%20%20%20%20%20%20%20%20%20%22map_b0683b1b6eda4a649165f8152e11b377%22%2C%0A%20%20%20%20%20%20%20%20%20%20%20%20%20%20%20%20%7B%0A%20%20%20%20%20%20%20%20%20%20%20%20%20%20%20%20%20%20%20%20center%3A%20%5B36.7333%2C%20-100.7667%5D%2C%0A%20%20%20%20%20%20%20%20%20%20%20%20%20%20%20%20%20%20%20%20crs%3A%20L.CRS.EPSG3857%2C%0A%20%20%20%20%20%20%20%20%20%20%20%20%20%20%20%20%20%20%20%20zoom%3A%204%2C%0A%20%20%20%20%20%20%20%20%20%20%20%20%20%20%20%20%20%20%20%20zoomControl%3A%20true%2C%0A%20%20%20%20%20%20%20%20%20%20%20%20%20%20%20%20%20%20%20%20preferCanvas%3A%20false%2C%0A%20%20%20%20%20%20%20%20%20%20%20%20%20%20%20%20%7D%0A%20%20%20%20%20%20%20%20%20%20%20%20%29%3B%0A%0A%20%20%20%20%20%20%20%20%20%20%20%20%0A%0A%20%20%20%20%20%20%20%20%0A%20%20%20%20%0A%20%20%20%20%20%20%20%20%20%20%20%20var%20tile_layer_3a7144b6f96d42f6be2652aa4a318dd3%20%3D%20L.tileLayer%28%0A%20%20%20%20%20%20%20%20%20%20%20%20%20%20%20%20%22https%3A//%7Bs%7D.tile.openstreetmap.org/%7Bz%7D/%7Bx%7D/%7By%7D.png%22%2C%0A%20%20%20%20%20%20%20%20%20%20%20%20%20%20%20%20%7B%22attribution%22%3A%20%22Data%20by%20%5Cu0026copy%3B%20%5Cu003ca%20href%3D%5C%22http%3A//openstreetmap.org%5C%22%5Cu003eOpenStreetMap%5Cu003c/a%5Cu003e%2C%20under%20%5Cu003ca%20href%3D%5C%22http%3A//www.openstreetmap.org/copyright%5C%22%5Cu003eODbL%5Cu003c/a%5Cu003e.%22%2C%20%22detectRetina%22%3A%20false%2C%20%22maxNativeZoom%22%3A%2018%2C%20%22maxZoom%22%3A%2018%2C%20%22minZoom%22%3A%200%2C%20%22noWrap%22%3A%20false%2C%20%22opacity%22%3A%201%2C%20%22subdomains%22%3A%20%22abc%22%2C%20%22tms%22%3A%20false%7D%0A%20%20%20%20%20%20%20%20%20%20%20%20%29.addTo%28map_b0683b1b6eda4a649165f8152e11b377%29%3B%0A%20%20%20%20%20%20%20%20%0A%20%20%20%20%0A%20%20%20%20%20%20%20%20%20%20%20%20var%20circle_marker_b691bb368df643c5a2829dcfeaafefca%20%3D%20L.circleMarker%28%0A%20%20%20%20%20%20%20%20%20%20%20%20%20%20%20%20%5B37.7798721%2C%20-122.2821855%5D%2C%0A%20%20%20%20%20%20%20%20%20%20%20%20%20%20%20%20%7B%22bubblingMouseEvents%22%3A%20true%2C%20%22color%22%3A%20%22orange%22%2C%20%22dashArray%22%3A%20null%2C%20%22dashOffset%22%3A%20null%2C%20%22fill%22%3A%20false%2C%20%22fillColor%22%3A%20%22orange%22%2C%20%22fillOpacity%22%3A%200.2%2C%20%22fillRule%22%3A%20%22evenodd%22%2C%20%22lineCap%22%3A%20%22round%22%2C%20%22lineJoin%22%3A%20%22round%22%2C%20%22opacity%22%3A%201.0%2C%20%22radius%22%3A%201%2C%20%22stroke%22%3A%20true%2C%20%22weight%22%3A%203%7D%0A%20%20%20%20%20%20%20%20%20%20%20%20%29.addTo%28map_b0683b1b6eda4a649165f8152e11b377%29%3B%0A%20%20%20%20%20%20%20%20%0A%20%20%20%20%0A%20%20%20%20%20%20%20%20var%20popup_f5db46aa859e428bb38f1e2dcd22d3f7%20%3D%20L.popup%28%7B%22maxWidth%22%3A%20%22100%25%22%7D%29%3B%0A%0A%20%20%20%20%20%20%20%20%0A%20%20%20%20%20%20%20%20%20%20%20%20var%20html_dcbc74849f00499b9806d20231ebb29d%20%3D%20%24%28%60%3Cdiv%20id%3D%22html_dcbc74849f00499b9806d20231ebb29d%22%20style%3D%22width%3A%20100.0%25%3B%20height%3A%20100.0%25%3B%22%3EAlameda%3C/div%3E%60%29%5B0%5D%3B%0A%20%20%20%20%20%20%20%20%20%20%20%20popup_f5db46aa859e428bb38f1e2dcd22d3f7.setContent%28html_dcbc74849f00499b9806d20231ebb29d%29%3B%0A%20%20%20%20%20%20%20%20%0A%0A%20%20%20%20%20%20%20%20circle_marker_b691bb368df643c5a2829dcfeaafefca.bindPopup%28popup_f5db46aa859e428bb38f1e2dcd22d3f7%29%0A%20%20%20%20%20%20%20%20%3B%0A%0A%20%20%20%20%20%20%20%20%0A%20%20%20%20%0A%20%20%20%20%0A%20%20%20%20%20%20%20%20%20%20%20%20var%20circle_marker_ad621231b0dc4fb0bfafb21f4f59c6d3%20%3D%20L.circleMarker%28%0A%20%20%20%20%20%20%20%20%20%20%20%20%20%20%20%20%5B37.6679098%2C%20-121.8739141%5D%2C%0A%20%20%20%20%20%20%20%20%20%20%20%20%20%20%20%20%7B%22bubblingMouseEvents%22%3A%20true%2C%20%22color%22%3A%20%22green%22%2C%20%22dashArray%22%3A%20null%2C%20%22dashOffset%22%3A%20null%2C%20%22fill%22%3A%20false%2C%20%22fillColor%22%3A%20%22green%22%2C%20%22fillOpacity%22%3A%200.2%2C%20%22fillRule%22%3A%20%22evenodd%22%2C%20%22lineCap%22%3A%20%22round%22%2C%20%22lineJoin%22%3A%20%22round%22%2C%20%22opacity%22%3A%201.0%2C%20%22radius%22%3A%201%2C%20%22stroke%22%3A%20true%2C%20%22weight%22%3A%203%7D%0A%20%20%20%20%20%20%20%20%20%20%20%20%29.addTo%28map_b0683b1b6eda4a649165f8152e11b377%29%3B%0A%20%20%20%20%20%20%20%20%0A%20%20%20%20%0A%20%20%20%20%20%20%20%20var%20popup_1a606f134c8b44318465a1fd11ef4cb6%20%3D%20L.popup%28%7B%22maxWidth%22%3A%20%22100%25%22%7D%29%3B%0A%0A%20%20%20%20%20%20%20%20%0A%20%20%20%20%20%20%20%20%20%20%20%20var%20html_8fb5403fb64740569fe1b33bf33b9087%20%3D%20%24%28%60%3Cdiv%20id%3D%22html_8fb5403fb64740569fe1b33bf33b9087%22%20style%3D%22width%3A%20100.0%25%3B%20height%3A%20100.0%25%3B%22%3EAmador%3C/div%3E%60%29%5B0%5D%3B%0A%20%20%20%20%20%20%20%20%20%20%20%20popup_1a606f134c8b44318465a1fd11ef4cb6.setContent%28html_8fb5403fb64740569fe1b33bf33b9087%29%3B%0A%20%20%20%20%20%20%20%20%0A%0A%20%20%20%20%20%20%20%20circle_marker_ad621231b0dc4fb0bfafb21f4f59c6d3.bindPopup%28popup_1a606f134c8b44318465a1fd11ef4cb6%29%0A%20%20%20%20%20%20%20%20%3B%0A%0A%20%20%20%20%20%20%20%20%0A%20%20%20%20%0A%20%20%20%20%0A%20%20%20%20%20%20%20%20%20%20%20%20var%20circle_marker_99c66567deeb4d3ea5e85f5bc7abf73e%20%3D%20L.circleMarker%28%0A%20%20%20%20%20%20%20%20%20%20%20%20%20%20%20%20%5B46.0038232%2C%20-112.5347775%5D%2C%0A%20%20%20%20%20%20%20%20%20%20%20%20%20%20%20%20%7B%22bubblingMouseEvents%22%3A%20true%2C%20%22color%22%3A%20%22green%22%2C%20%22dashArray%22%3A%20null%2C%20%22dashOffset%22%3A%20null%2C%20%22fill%22%3A%20false%2C%20%22fillColor%22%3A%20%22green%22%2C%20%22fillOpacity%22%3A%200.2%2C%20%22fillRule%22%3A%20%22evenodd%22%2C%20%22lineCap%22%3A%20%22round%22%2C%20%22lineJoin%22%3A%20%22round%22%2C%20%22opacity%22%3A%201.0%2C%20%22radius%22%3A%201%2C%20%22stroke%22%3A%20true%2C%20%22weight%22%3A%203%7D%0A%20%20%20%20%20%20%20%20%20%20%20%20%29.addTo%28map_b0683b1b6eda4a649165f8152e11b377%29%3B%0A%20%20%20%20%20%20%20%20%0A%20%20%20%20%0A%20%20%20%20%20%20%20%20var%20popup_ee9a5ae1c5df44d29ccdf1e82f8221ce%20%3D%20L.popup%28%7B%22maxWidth%22%3A%20%22100%25%22%7D%29%3B%0A%0A%20%20%20%20%20%20%20%20%0A%20%20%20%20%20%20%20%20%20%20%20%20var%20html_894f3e2f34a24bba94872c93cf8ab691%20%3D%20%24%28%60%3Cdiv%20id%3D%22html_894f3e2f34a24bba94872c93cf8ab691%22%20style%3D%22width%3A%20100.0%25%3B%20height%3A%20100.0%25%3B%22%3EButte%3C/div%3E%60%29%5B0%5D%3B%0A%20%20%20%20%20%20%20%20%20%20%20%20popup_ee9a5ae1c5df44d29ccdf1e82f8221ce.setContent%28html_894f3e2f34a24bba94872c93cf8ab691%29%3B%0A%20%20%20%20%20%20%20%20%0A%0A%20%20%20%20%20%20%20%20circle_marker_99c66567deeb4d3ea5e85f5bc7abf73e.bindPopup%28popup_ee9a5ae1c5df44d29ccdf1e82f8221ce%29%0A%20%20%20%20%20%20%20%20%3B%0A%0A%20%20%20%20%20%20%20%20%0A%20%20%20%20%0A%20%20%20%20%0A%20%20%20%20%20%20%20%20%20%20%20%20var%20circle_marker_8526904bd5774fb49166fadf2c83c588%20%3D%20L.circleMarker%28%0A%20%20%20%20%20%20%20%20%20%20%20%20%20%20%20%20%5B36.1597065%2C%20-95.958341%5D%2C%0A%20%20%20%20%20%20%20%20%20%20%20%20%20%20%20%20%7B%22bubblingMouseEvents%22%3A%20true%2C%20%22color%22%3A%20%22green%22%2C%20%22dashArray%22%3A%20null%2C%20%22dashOffset%22%3A%20null%2C%20%22fill%22%3A%20false%2C%20%22fillColor%22%3A%20%22green%22%2C%20%22fillOpacity%22%3A%200.2%2C%20%22fillRule%22%3A%20%22evenodd%22%2C%20%22lineCap%22%3A%20%22round%22%2C%20%22lineJoin%22%3A%20%22round%22%2C%20%22opacity%22%3A%201.0%2C%20%22radius%22%3A%201%2C%20%22stroke%22%3A%20true%2C%20%22weight%22%3A%203%7D%0A%20%20%20%20%20%20%20%20%20%20%20%20%29.addTo%28map_b0683b1b6eda4a649165f8152e11b377%29%3B%0A%20%20%20%20%20%20%20%20%0A%20%20%20%20%0A%20%20%20%20%20%20%20%20var%20popup_40942a9688934f71933a5f27bd2a8213%20%3D%20L.popup%28%7B%22maxWidth%22%3A%20%22100%25%22%7D%29%3B%0A%0A%20%20%20%20%20%20%20%20%0A%20%20%20%20%20%20%20%20%20%20%20%20var%20html_0303a6d11b2041f980e4058df0f10b89%20%3D%20%24%28%60%3Cdiv%20id%3D%22html_0303a6d11b2041f980e4058df0f10b89%22%20style%3D%22width%3A%20100.0%25%3B%20height%3A%20100.0%25%3B%22%3ECalaveras%3C/div%3E%60%29%5B0%5D%3B%0A%20%20%20%20%20%20%20%20%20%20%20%20popup_40942a9688934f71933a5f27bd2a8213.setContent%28html_0303a6d11b2041f980e4058df0f10b89%29%3B%0A%20%20%20%20%20%20%20%20%0A%0A%20%20%20%20%20%20%20%20circle_marker_8526904bd5774fb49166fadf2c83c588.bindPopup%28popup_40942a9688934f71933a5f27bd2a8213%29%0A%20%20%20%20%20%20%20%20%3B%0A%0A%20%20%20%20%20%20%20%20%0A%20%20%20%20%0A%20%20%20%20%0A%20%20%20%20%20%20%20%20%20%20%20%20var%20circle_marker_902385716bf04b609dcb0dd59f465135%20%3D%20L.circleMarker%28%0A%20%20%20%20%20%20%20%20%20%20%20%20%20%20%20%20%5B39.2143343%2C%20-122.0094175%5D%2C%0A%20%20%20%20%20%20%20%20%20%20%20%20%20%20%20%20%7B%22bubblingMouseEvents%22%3A%20true%2C%20%22color%22%3A%20%22green%22%2C%20%22dashArray%22%3A%20null%2C%20%22dashOffset%22%3A%20null%2C%20%22fill%22%3A%20false%2C%20%22fillColor%22%3A%20%22green%22%2C%20%22fillOpacity%22%3A%200.2%2C%20%22fillRule%22%3A%20%22evenodd%22%2C%20%22lineCap%22%3A%20%22round%22%2C%20%22lineJoin%22%3A%20%22round%22%2C%20%22opacity%22%3A%201.0%2C%20%22radius%22%3A%201%2C%20%22stroke%22%3A%20true%2C%20%22weight%22%3A%203%7D%0A%20%20%20%20%20%20%20%20%20%20%20%20%29.addTo%28map_b0683b1b6eda4a649165f8152e11b377%29%3B%0A%20%20%20%20%20%20%20%20%0A%20%20%20%20%0A%20%20%20%20%20%20%20%20var%20popup_7b3013f06d814863b52615da335f65d5%20%3D%20L.popup%28%7B%22maxWidth%22%3A%20%22100%25%22%7D%29%3B%0A%0A%20%20%20%20%20%20%20%20%0A%20%20%20%20%20%20%20%20%20%20%20%20var%20html_0b54d15e8a8e479ea43810456f716d19%20%3D%20%24%28%60%3Cdiv%20id%3D%22html_0b54d15e8a8e479ea43810456f716d19%22%20style%3D%22width%3A%20100.0%25%3B%20height%3A%20100.0%25%3B%22%3EColusa%3C/div%3E%60%29%5B0%5D%3B%0A%20%20%20%20%20%20%20%20%20%20%20%20popup_7b3013f06d814863b52615da335f65d5.setContent%28html_0b54d15e8a8e479ea43810456f716d19%29%3B%0A%20%20%20%20%20%20%20%20%0A%0A%20%20%20%20%20%20%20%20circle_marker_902385716bf04b609dcb0dd59f465135.bindPopup%28popup_7b3013f06d814863b52615da335f65d5%29%0A%20%20%20%20%20%20%20%20%3B%0A%0A%20%20%20%20%20%20%20%20%0A%20%20%20%20%0A%20%20%20%20%0A%20%20%20%20%20%20%20%20%20%20%20%20var%20circle_marker_fd00ea06b89e4f3aa424ebaf691787f0%20%3D%20L.circleMarker%28%0A%20%20%20%20%20%20%20%20%20%20%20%20%20%20%20%20%5B37.8534093%2C%20-121.9017954%5D%2C%0A%20%20%20%20%20%20%20%20%20%20%20%20%20%20%20%20%7B%22bubblingMouseEvents%22%3A%20true%2C%20%22color%22%3A%20%22green%22%2C%20%22dashArray%22%3A%20null%2C%20%22dashOffset%22%3A%20null%2C%20%22fill%22%3A%20false%2C%20%22fillColor%22%3A%20%22green%22%2C%20%22fillOpacity%22%3A%200.2%2C%20%22fillRule%22%3A%20%22evenodd%22%2C%20%22lineCap%22%3A%20%22round%22%2C%20%22lineJoin%22%3A%20%22round%22%2C%20%22opacity%22%3A%201.0%2C%20%22radius%22%3A%201%2C%20%22stroke%22%3A%20true%2C%20%22weight%22%3A%203%7D%0A%20%20%20%20%20%20%20%20%20%20%20%20%29.addTo%28map_b0683b1b6eda4a649165f8152e11b377%29%3B%0A%20%20%20%20%20%20%20%20%0A%20%20%20%20%0A%20%20%20%20%20%20%20%20var%20popup_b42a5ec0d5b947f1978d71d1214c1fbd%20%3D%20L.popup%28%7B%22maxWidth%22%3A%20%22100%25%22%7D%29%3B%0A%0A%20%20%20%20%20%20%20%20%0A%20%20%20%20%20%20%20%20%20%20%20%20var%20html_4c78e517f1264eb392457ae5edf66367%20%3D%20%24%28%60%3Cdiv%20id%3D%22html_4c78e517f1264eb392457ae5edf66367%22%20style%3D%22width%3A%20100.0%25%3B%20height%3A%20100.0%25%3B%22%3EContra%20Costa%3C/div%3E%60%29%5B0%5D%3B%0A%20%20%20%20%20%20%20%20%20%20%20%20popup_b42a5ec0d5b947f1978d71d1214c1fbd.setContent%28html_4c78e517f1264eb392457ae5edf66367%29%3B%0A%20%20%20%20%20%20%20%20%0A%0A%20%20%20%20%20%20%20%20circle_marker_fd00ea06b89e4f3aa424ebaf691787f0.bindPopup%28popup_b42a5ec0d5b947f1978d71d1214c1fbd%29%0A%20%20%20%20%20%20%20%20%3B%0A%0A%20%20%20%20%20%20%20%20%0A%20%20%20%20%0A%20%20%20%20%0A%20%20%20%20%20%20%20%20%20%20%20%20var%20circle_marker_e388f3e1c862449ea64c31e1a5e3bdc6%20%3D%20L.circleMarker%28%0A%20%20%20%20%20%20%20%20%20%20%20%20%20%20%20%20%5B37.8167564%2C%20-96.8869965%5D%2C%0A%20%20%20%20%20%20%20%20%20%20%20%20%20%20%20%20%7B%22bubblingMouseEvents%22%3A%20true%2C%20%22color%22%3A%20%22green%22%2C%20%22dashArray%22%3A%20null%2C%20%22dashOffset%22%3A%20null%2C%20%22fill%22%3A%20false%2C%20%22fillColor%22%3A%20%22green%22%2C%20%22fillOpacity%22%3A%200.2%2C%20%22fillRule%22%3A%20%22evenodd%22%2C%20%22lineCap%22%3A%20%22round%22%2C%20%22lineJoin%22%3A%20%22round%22%2C%20%22opacity%22%3A%201.0%2C%20%22radius%22%3A%201%2C%20%22stroke%22%3A%20true%2C%20%22weight%22%3A%203%7D%0A%20%20%20%20%20%20%20%20%20%20%20%20%29.addTo%28map_b0683b1b6eda4a649165f8152e11b377%29%3B%0A%20%20%20%20%20%20%20%20%0A%20%20%20%20%0A%20%20%20%20%20%20%20%20var%20popup_406e383aaed64ffeaf6ecf38762493b8%20%3D%20L.popup%28%7B%22maxWidth%22%3A%20%22100%25%22%7D%29%3B%0A%0A%20%20%20%20%20%20%20%20%0A%20%20%20%20%20%20%20%20%20%20%20%20var%20html_f54fa4675de44e36b71b186add20389b%20%3D%20%24%28%60%3Cdiv%20id%3D%22html_f54fa4675de44e36b71b186add20389b%22%20style%3D%22width%3A%20100.0%25%3B%20height%3A%20100.0%25%3B%22%3EEl%20Dorado%3C/div%3E%60%29%5B0%5D%3B%0A%20%20%20%20%20%20%20%20%20%20%20%20popup_406e383aaed64ffeaf6ecf38762493b8.setContent%28html_f54fa4675de44e36b71b186add20389b%29%3B%0A%20%20%20%20%20%20%20%20%0A%0A%20%20%20%20%20%20%20%20circle_marker_e388f3e1c862449ea64c31e1a5e3bdc6.bindPopup%28popup_406e383aaed64ffeaf6ecf38762493b8%29%0A%20%20%20%20%20%20%20%20%3B%0A%0A%20%20%20%20%20%20%20%20%0A%20%20%20%20%0A%20%20%20%20%0A%20%20%20%20%20%20%20%20%20%20%20%20var%20circle_marker_7c63933142ab449a811f3051ae806741%20%3D%20L.circleMarker%28%0A%20%20%20%20%20%20%20%20%20%20%20%20%20%20%20%20%5B36.7377981%2C%20-119.7871247%5D%2C%0A%20%20%20%20%20%20%20%20%20%20%20%20%20%20%20%20%7B%22bubblingMouseEvents%22%3A%20true%2C%20%22color%22%3A%20%22blue%22%2C%20%22dashArray%22%3A%20null%2C%20%22dashOffset%22%3A%20null%2C%20%22fill%22%3A%20false%2C%20%22fillColor%22%3A%20%22blue%22%2C%20%22fillOpacity%22%3A%200.2%2C%20%22fillRule%22%3A%20%22evenodd%22%2C%20%22lineCap%22%3A%20%22round%22%2C%20%22lineJoin%22%3A%20%22round%22%2C%20%22opacity%22%3A%201.0%2C%20%22radius%22%3A%201%2C%20%22stroke%22%3A%20true%2C%20%22weight%22%3A%203%7D%0A%20%20%20%20%20%20%20%20%20%20%20%20%29.addTo%28map_b0683b1b6eda4a649165f8152e11b377%29%3B%0A%20%20%20%20%20%20%20%20%0A%20%20%20%20%0A%20%20%20%20%20%20%20%20var%20popup_d9135225e8604676a3aba1ea4a966739%20%3D%20L.popup%28%7B%22maxWidth%22%3A%20%22100%25%22%7D%29%3B%0A%0A%20%20%20%20%20%20%20%20%0A%20%20%20%20%20%20%20%20%20%20%20%20var%20html_4e3796f4e7bb4c96a609b90b42f1a59f%20%3D%20%24%28%60%3Cdiv%20id%3D%22html_4e3796f4e7bb4c96a609b90b42f1a59f%22%20style%3D%22width%3A%20100.0%25%3B%20height%3A%20100.0%25%3B%22%3EFresno%3C/div%3E%60%29%5B0%5D%3B%0A%20%20%20%20%20%20%20%20%20%20%20%20popup_d9135225e8604676a3aba1ea4a966739.setContent%28html_4e3796f4e7bb4c96a609b90b42f1a59f%29%3B%0A%20%20%20%20%20%20%20%20%0A%0A%20%20%20%20%20%20%20%20circle_marker_7c63933142ab449a811f3051ae806741.bindPopup%28popup_d9135225e8604676a3aba1ea4a966739%29%0A%20%20%20%20%20%20%20%20%3B%0A%0A%20%20%20%20%20%20%20%20%0A%20%20%20%20%0A%20%20%20%20%0A%20%20%20%20%20%20%20%20%20%20%20%20var%20circle_marker_ffe894cbce674c29a753fb768286bc42%20%3D%20L.circleMarker%28%0A%20%20%20%20%20%20%20%20%20%20%20%20%20%20%20%20%5B33.7570198%2C%20-84.3930412%5D%2C%0A%20%20%20%20%20%20%20%20%20%20%20%20%20%20%20%20%7B%22bubblingMouseEvents%22%3A%20true%2C%20%22color%22%3A%20%22green%22%2C%20%22dashArray%22%3A%20null%2C%20%22dashOffset%22%3A%20null%2C%20%22fill%22%3A%20false%2C%20%22fillColor%22%3A%20%22green%22%2C%20%22fillOpacity%22%3A%200.2%2C%20%22fillRule%22%3A%20%22evenodd%22%2C%20%22lineCap%22%3A%20%22round%22%2C%20%22lineJoin%22%3A%20%22round%22%2C%20%22opacity%22%3A%201.0%2C%20%22radius%22%3A%201%2C%20%22stroke%22%3A%20true%2C%20%22weight%22%3A%203%7D%0A%20%20%20%20%20%20%20%20%20%20%20%20%29.addTo%28map_b0683b1b6eda4a649165f8152e11b377%29%3B%0A%20%20%20%20%20%20%20%20%0A%20%20%20%20%0A%20%20%20%20%20%20%20%20var%20popup_cc3461213b2a490a836258abce2940c4%20%3D%20L.popup%28%7B%22maxWidth%22%3A%20%22100%25%22%7D%29%3B%0A%0A%20%20%20%20%20%20%20%20%0A%20%20%20%20%20%20%20%20%20%20%20%20var%20html_aea6d7afbe954514aa41ea3e4d88aa7c%20%3D%20%24%28%60%3Cdiv%20id%3D%22html_aea6d7afbe954514aa41ea3e4d88aa7c%22%20style%3D%22width%3A%20100.0%25%3B%20height%3A%20100.0%25%3B%22%3EGlenn%3C/div%3E%60%29%5B0%5D%3B%0A%20%20%20%20%20%20%20%20%20%20%20%20popup_cc3461213b2a490a836258abce2940c4.setContent%28html_aea6d7afbe954514aa41ea3e4d88aa7c%29%3B%0A%20%20%20%20%20%20%20%20%0A%0A%20%20%20%20%20%20%20%20circle_marker_ffe894cbce674c29a753fb768286bc42.bindPopup%28popup_cc3461213b2a490a836258abce2940c4%29%0A%20%20%20%20%20%20%20%20%3B%0A%0A%20%20%20%20%20%20%20%20%0A%20%20%20%20%0A%20%20%20%20%0A%20%20%20%20%20%20%20%20%20%20%20%20var%20circle_marker_73a43dfff71a493c909c37d1d828b346%20%3D%20L.circleMarker%28%0A%20%20%20%20%20%20%20%20%20%20%20%20%20%20%20%20%5B40.7450055%2C%20-123.8695086%5D%2C%0A%20%20%20%20%20%20%20%20%20%20%20%20%20%20%20%20%7B%22bubblingMouseEvents%22%3A%20true%2C%20%22color%22%3A%20%22green%22%2C%20%22dashArray%22%3A%20null%2C%20%22dashOffset%22%3A%20null%2C%20%22fill%22%3A%20false%2C%20%22fillColor%22%3A%20%22green%22%2C%20%22fillOpacity%22%3A%200.2%2C%20%22fillRule%22%3A%20%22evenodd%22%2C%20%22lineCap%22%3A%20%22round%22%2C%20%22lineJoin%22%3A%20%22round%22%2C%20%22opacity%22%3A%201.0%2C%20%22radius%22%3A%201%2C%20%22stroke%22%3A%20true%2C%20%22weight%22%3A%203%7D%0A%20%20%20%20%20%20%20%20%20%20%20%20%29.addTo%28map_b0683b1b6eda4a649165f8152e11b377%29%3B%0A%20%20%20%20%20%20%20%20%0A%20%20%20%20%0A%20%20%20%20%20%20%20%20var%20popup_b526c58df21f40689bc8e90b9a8f28b1%20%3D%20L.popup%28%7B%22maxWidth%22%3A%20%22100%25%22%7D%29%3B%0A%0A%20%20%20%20%20%20%20%20%0A%20%20%20%20%20%20%20%20%20%20%20%20var%20html_565160cca3c74ae59d5d9e98aca59508%20%3D%20%24%28%60%3Cdiv%20id%3D%22html_565160cca3c74ae59d5d9e98aca59508%22%20style%3D%22width%3A%20100.0%25%3B%20height%3A%20100.0%25%3B%22%3EHumboldt%3C/div%3E%60%29%5B0%5D%3B%0A%20%20%20%20%20%20%20%20%20%20%20%20popup_b526c58df21f40689bc8e90b9a8f28b1.setContent%28html_565160cca3c74ae59d5d9e98aca59508%29%3B%0A%20%20%20%20%20%20%20%20%0A%0A%20%20%20%20%20%20%20%20circle_marker_73a43dfff71a493c909c37d1d828b346.bindPopup%28popup_b526c58df21f40689bc8e90b9a8f28b1%29%0A%20%20%20%20%20%20%20%20%3B%0A%0A%20%20%20%20%20%20%20%20%0A%20%20%20%20%0A%20%20%20%20%0A%20%20%20%20%20%20%20%20%20%20%20%20var%20circle_marker_e038047e8e5e4932ac78489fbcd3900f%20%3D%20L.circleMarker%28%0A%20%20%20%20%20%20%20%20%20%20%20%20%20%20%20%20%5B36.185074%2C%20-95.870191%5D%2C%0A%20%20%20%20%20%20%20%20%20%20%20%20%20%20%20%20%7B%22bubblingMouseEvents%22%3A%20true%2C%20%22color%22%3A%20%22blue%22%2C%20%22dashArray%22%3A%20null%2C%20%22dashOffset%22%3A%20null%2C%20%22fill%22%3A%20false%2C%20%22fillColor%22%3A%20%22blue%22%2C%20%22fillOpacity%22%3A%200.2%2C%20%22fillRule%22%3A%20%22evenodd%22%2C%20%22lineCap%22%3A%20%22round%22%2C%20%22lineJoin%22%3A%20%22round%22%2C%20%22opacity%22%3A%201.0%2C%20%22radius%22%3A%201%2C%20%22stroke%22%3A%20true%2C%20%22weight%22%3A%203%7D%0A%20%20%20%20%20%20%20%20%20%20%20%20%29.addTo%28map_b0683b1b6eda4a649165f8152e11b377%29%3B%0A%20%20%20%20%20%20%20%20%0A%20%20%20%20%0A%20%20%20%20%20%20%20%20var%20popup_fd85e0cf15924a16a96941450c6f3b8e%20%3D%20L.popup%28%7B%22maxWidth%22%3A%20%22100%25%22%7D%29%3B%0A%0A%20%20%20%20%20%20%20%20%0A%20%20%20%20%20%20%20%20%20%20%20%20var%20html_d2271cb281c04358a711b75b91aa2797%20%3D%20%24%28%60%3Cdiv%20id%3D%22html_d2271cb281c04358a711b75b91aa2797%22%20style%3D%22width%3A%20100.0%25%3B%20height%3A%20100.0%25%3B%22%3EImperial%3C/div%3E%60%29%5B0%5D%3B%0A%20%20%20%20%20%20%20%20%20%20%20%20popup_fd85e0cf15924a16a96941450c6f3b8e.setContent%28html_d2271cb281c04358a711b75b91aa2797%29%3B%0A%20%20%20%20%20%20%20%20%0A%0A%20%20%20%20%20%20%20%20circle_marker_e038047e8e5e4932ac78489fbcd3900f.bindPopup%28popup_fd85e0cf15924a16a96941450c6f3b8e%29%0A%20%20%20%20%20%20%20%20%3B%0A%0A%20%20%20%20%20%20%20%20%0A%20%20%20%20%0A%20%20%20%20%0A%20%20%20%20%20%20%20%20%20%20%20%20var%20circle_marker_a83ac3811bbc44ea86f7bbea555690ff%20%3D%20L.circleMarker%28%0A%20%20%20%20%20%20%20%20%20%20%20%20%20%20%20%20%5B36.3091865%2C%20-117.5495846%5D%2C%0A%20%20%20%20%20%20%20%20%20%20%20%20%20%20%20%20%7B%22bubblingMouseEvents%22%3A%20true%2C%20%22color%22%3A%20%22green%22%2C%20%22dashArray%22%3A%20null%2C%20%22dashOffset%22%3A%20null%2C%20%22fill%22%3A%20false%2C%20%22fillColor%22%3A%20%22green%22%2C%20%22fillOpacity%22%3A%200.2%2C%20%22fillRule%22%3A%20%22evenodd%22%2C%20%22lineCap%22%3A%20%22round%22%2C%20%22lineJoin%22%3A%20%22round%22%2C%20%22opacity%22%3A%201.0%2C%20%22radius%22%3A%201%2C%20%22stroke%22%3A%20true%2C%20%22weight%22%3A%203%7D%0A%20%20%20%20%20%20%20%20%20%20%20%20%29.addTo%28map_b0683b1b6eda4a649165f8152e11b377%29%3B%0A%20%20%20%20%20%20%20%20%0A%20%20%20%20%0A%20%20%20%20%20%20%20%20var%20popup_da5aa8ca2b8f4682b6d5f316c0163c78%20%3D%20L.popup%28%7B%22maxWidth%22%3A%20%22100%25%22%7D%29%3B%0A%0A%20%20%20%20%20%20%20%20%0A%20%20%20%20%20%20%20%20%20%20%20%20var%20html_3b4f91e60ac9478b94723f15683c0185%20%3D%20%24%28%60%3Cdiv%20id%3D%22html_3b4f91e60ac9478b94723f15683c0185%22%20style%3D%22width%3A%20100.0%25%3B%20height%3A%20100.0%25%3B%22%3EInyo%3C/div%3E%60%29%5B0%5D%3B%0A%20%20%20%20%20%20%20%20%20%20%20%20popup_da5aa8ca2b8f4682b6d5f316c0163c78.setContent%28html_3b4f91e60ac9478b94723f15683c0185%29%3B%0A%20%20%20%20%20%20%20%20%0A%0A%20%20%20%20%20%20%20%20circle_marker_a83ac3811bbc44ea86f7bbea555690ff.bindPopup%28popup_da5aa8ca2b8f4682b6d5f316c0163c78%29%0A%20%20%20%20%20%20%20%20%3B%0A%0A%20%20%20%20%20%20%20%20%0A%20%20%20%20%0A%20%20%20%20%0A%20%20%20%20%20%20%20%20%20%20%20%20var%20circle_marker_9baf5736638d487780c484e60b5eb134%20%3D%20L.circleMarker%28%0A%20%20%20%20%20%20%20%20%20%20%20%20%20%20%20%20%5B35.4937274%2C%20-118.8596804%5D%2C%0A%20%20%20%20%20%20%20%20%20%20%20%20%20%20%20%20%7B%22bubblingMouseEvents%22%3A%20true%2C%20%22color%22%3A%20%22green%22%2C%20%22dashArray%22%3A%20null%2C%20%22dashOffset%22%3A%20null%2C%20%22fill%22%3A%20false%2C%20%22fillColor%22%3A%20%22green%22%2C%20%22fillOpacity%22%3A%200.2%2C%20%22fillRule%22%3A%20%22evenodd%22%2C%20%22lineCap%22%3A%20%22round%22%2C%20%22lineJoin%22%3A%20%22round%22%2C%20%22opacity%22%3A%201.0%2C%20%22radius%22%3A%201%2C%20%22stroke%22%3A%20true%2C%20%22weight%22%3A%203%7D%0A%20%20%20%20%20%20%20%20%20%20%20%20%29.addTo%28map_b0683b1b6eda4a649165f8152e11b377%29%3B%0A%20%20%20%20%20%20%20%20%0A%20%20%20%20%0A%20%20%20%20%20%20%20%20var%20popup_63121a0f0802432baeedeb40dc6c7434%20%3D%20L.popup%28%7B%22maxWidth%22%3A%20%22100%25%22%7D%29%3B%0A%0A%20%20%20%20%20%20%20%20%0A%20%20%20%20%20%20%20%20%20%20%20%20var%20html_6cd6f80659324118976f6f7e70b7f928%20%3D%20%24%28%60%3Cdiv%20id%3D%22html_6cd6f80659324118976f6f7e70b7f928%22%20style%3D%22width%3A%20100.0%25%3B%20height%3A%20100.0%25%3B%22%3EKern%3C/div%3E%60%29%5B0%5D%3B%0A%20%20%20%20%20%20%20%20%20%20%20%20popup_63121a0f0802432baeedeb40dc6c7434.setContent%28html_6cd6f80659324118976f6f7e70b7f928%29%3B%0A%20%20%20%20%20%20%20%20%0A%0A%20%20%20%20%20%20%20%20circle_marker_9baf5736638d487780c484e60b5eb134.bindPopup%28popup_63121a0f0802432baeedeb40dc6c7434%29%0A%20%20%20%20%20%20%20%20%3B%0A%0A%20%20%20%20%20%20%20%20%0A%20%20%20%20%0A%20%20%20%20%0A%20%20%20%20%20%20%20%20%20%20%20%20var%20circle_marker_bdf16dbc49c345d3be59486e1706622b%20%3D%20L.circleMarker%28%0A%20%20%20%20%20%20%20%20%20%20%20%20%20%20%20%20%5B37.919235%2C%20-95.408867%5D%2C%0A%20%20%20%20%20%20%20%20%20%20%20%20%20%20%20%20%7B%22bubblingMouseEvents%22%3A%20true%2C%20%22color%22%3A%20%22green%22%2C%20%22dashArray%22%3A%20null%2C%20%22dashOffset%22%3A%20null%2C%20%22fill%22%3A%20false%2C%20%22fillColor%22%3A%20%22green%22%2C%20%22fillOpacity%22%3A%200.2%2C%20%22fillRule%22%3A%20%22evenodd%22%2C%20%22lineCap%22%3A%20%22round%22%2C%20%22lineJoin%22%3A%20%22round%22%2C%20%22opacity%22%3A%201.0%2C%20%22radius%22%3A%201%2C%20%22stroke%22%3A%20true%2C%20%22weight%22%3A%203%7D%0A%20%20%20%20%20%20%20%20%20%20%20%20%29.addTo%28map_b0683b1b6eda4a649165f8152e11b377%29%3B%0A%20%20%20%20%20%20%20%20%0A%20%20%20%20%0A%20%20%20%20%20%20%20%20var%20popup_49345e3796e7462b8752d212ad90b525%20%3D%20L.popup%28%7B%22maxWidth%22%3A%20%22100%25%22%7D%29%3B%0A%0A%20%20%20%20%20%20%20%20%0A%20%20%20%20%20%20%20%20%20%20%20%20var%20html_185a37a6156b48fa85adca32619acb6b%20%3D%20%24%28%60%3Cdiv%20id%3D%22html_185a37a6156b48fa85adca32619acb6b%22%20style%3D%22width%3A%20100.0%25%3B%20height%3A%20100.0%25%3B%22%3EKings%3C/div%3E%60%29%5B0%5D%3B%0A%20%20%20%20%20%20%20%20%20%20%20%20popup_49345e3796e7462b8752d212ad90b525.setContent%28html_185a37a6156b48fa85adca32619acb6b%29%3B%0A%20%20%20%20%20%20%20%20%0A%0A%20%20%20%20%20%20%20%20circle_marker_bdf16dbc49c345d3be59486e1706622b.bindPopup%28popup_49345e3796e7462b8752d212ad90b525%29%0A%20%20%20%20%20%20%20%20%3B%0A%0A%20%20%20%20%20%20%20%20%0A%20%20%20%20%0A%20%20%20%20%0A%20%20%20%20%20%20%20%20%20%20%20%20var%20circle_marker_7909f19f77bd4869bfae9fba7c4a6234%20%3D%20L.circleMarker%28%0A%20%20%20%20%20%20%20%20%20%20%20%20%20%20%20%20%5B37.1628255%2C%20-95.6911623%5D%2C%0A%20%20%20%20%20%20%20%20%20%20%20%20%20%20%20%20%7B%22bubblingMouseEvents%22%3A%20true%2C%20%22color%22%3A%20%22green%22%2C%20%22dashArray%22%3A%20null%2C%20%22dashOffset%22%3A%20null%2C%20%22fill%22%3A%20false%2C%20%22fillColor%22%3A%20%22green%22%2C%20%22fillOpacity%22%3A%200.2%2C%20%22fillRule%22%3A%20%22evenodd%22%2C%20%22lineCap%22%3A%20%22round%22%2C%20%22lineJoin%22%3A%20%22round%22%2C%20%22opacity%22%3A%201.0%2C%20%22radius%22%3A%201%2C%20%22stroke%22%3A%20true%2C%20%22weight%22%3A%203%7D%0A%20%20%20%20%20%20%20%20%20%20%20%20%29.addTo%28map_b0683b1b6eda4a649165f8152e11b377%29%3B%0A%20%20%20%20%20%20%20%20%0A%20%20%20%20%0A%20%20%20%20%20%20%20%20var%20popup_7a9e5f8f8ef94eefac0f0283ba7442fb%20%3D%20L.popup%28%7B%22maxWidth%22%3A%20%22100%25%22%7D%29%3B%0A%0A%20%20%20%20%20%20%20%20%0A%20%20%20%20%20%20%20%20%20%20%20%20var%20html_c60f045c28b74a47b651a32e6b322ca7%20%3D%20%24%28%60%3Cdiv%20id%3D%22html_c60f045c28b74a47b651a32e6b322ca7%22%20style%3D%22width%3A%20100.0%25%3B%20height%3A%20100.0%25%3B%22%3ELake%3C/div%3E%60%29%5B0%5D%3B%0A%20%20%20%20%20%20%20%20%20%20%20%20popup_7a9e5f8f8ef94eefac0f0283ba7442fb.setContent%28html_c60f045c28b74a47b651a32e6b322ca7%29%3B%0A%20%20%20%20%20%20%20%20%0A%0A%20%20%20%20%20%20%20%20circle_marker_7909f19f77bd4869bfae9fba7c4a6234.bindPopup%28popup_7a9e5f8f8ef94eefac0f0283ba7442fb%29%0A%20%20%20%20%20%20%20%20%3B%0A%0A%20%20%20%20%20%20%20%20%0A%20%20%20%20%0A%20%20%20%20%0A%20%20%20%20%20%20%20%20%20%20%20%20var%20circle_marker_f45b3d5f30ff490db2184d04e673d550%20%3D%20L.circleMarker%28%0A%20%20%20%20%20%20%20%20%20%20%20%20%20%20%20%20%5B34.0522342%2C%20-118.2436849%5D%2C%0A%20%20%20%20%20%20%20%20%20%20%20%20%20%20%20%20%7B%22bubblingMouseEvents%22%3A%20true%2C%20%22color%22%3A%20%22red%22%2C%20%22dashArray%22%3A%20null%2C%20%22dashOffset%22%3A%20null%2C%20%22fill%22%3A%20false%2C%20%22fillColor%22%3A%20%22red%22%2C%20%22fillOpacity%22%3A%200.2%2C%20%22fillRule%22%3A%20%22evenodd%22%2C%20%22lineCap%22%3A%20%22round%22%2C%20%22lineJoin%22%3A%20%22round%22%2C%20%22opacity%22%3A%201.0%2C%20%22radius%22%3A%201%2C%20%22stroke%22%3A%20true%2C%20%22weight%22%3A%203%7D%0A%20%20%20%20%20%20%20%20%20%20%20%20%29.addTo%28map_b0683b1b6eda4a649165f8152e11b377%29%3B%0A%20%20%20%20%20%20%20%20%0A%20%20%20%20%0A%20%20%20%20%20%20%20%20var%20popup_c7b83e1e54bc4e0fb8f138de6e385b9f%20%3D%20L.popup%28%7B%22maxWidth%22%3A%20%22100%25%22%7D%29%3B%0A%0A%20%20%20%20%20%20%20%20%0A%20%20%20%20%20%20%20%20%20%20%20%20var%20html_e04241a9403741ae98862a2952d0397f%20%3D%20%24%28%60%3Cdiv%20id%3D%22html_e04241a9403741ae98862a2952d0397f%22%20style%3D%22width%3A%20100.0%25%3B%20height%3A%20100.0%25%3B%22%3ELos%20Angeles%3C/div%3E%60%29%5B0%5D%3B%0A%20%20%20%20%20%20%20%20%20%20%20%20popup_c7b83e1e54bc4e0fb8f138de6e385b9f.setContent%28html_e04241a9403741ae98862a2952d0397f%29%3B%0A%20%20%20%20%20%20%20%20%0A%0A%20%20%20%20%20%20%20%20circle_marker_f45b3d5f30ff490db2184d04e673d550.bindPopup%28popup_c7b83e1e54bc4e0fb8f138de6e385b9f%29%0A%20%20%20%20%20%20%20%20%3B%0A%0A%20%20%20%20%20%20%20%20%0A%20%20%20%20%0A%20%20%20%20%0A%20%20%20%20%20%20%20%20%20%20%20%20var%20circle_marker_e396b43ced66426185a042a8c07ea474%20%3D%20L.circleMarker%28%0A%20%20%20%20%20%20%20%20%20%20%20%20%20%20%20%20%5B36.9613356%2C%20-120.0607176%5D%2C%0A%20%20%20%20%20%20%20%20%20%20%20%20%20%20%20%20%7B%22bubblingMouseEvents%22%3A%20true%2C%20%22color%22%3A%20%22green%22%2C%20%22dashArray%22%3A%20null%2C%20%22dashOffset%22%3A%20null%2C%20%22fill%22%3A%20false%2C%20%22fillColor%22%3A%20%22green%22%2C%20%22fillOpacity%22%3A%200.2%2C%20%22fillRule%22%3A%20%22evenodd%22%2C%20%22lineCap%22%3A%20%22round%22%2C%20%22lineJoin%22%3A%20%22round%22%2C%20%22opacity%22%3A%201.0%2C%20%22radius%22%3A%201%2C%20%22stroke%22%3A%20true%2C%20%22weight%22%3A%203%7D%0A%20%20%20%20%20%20%20%20%20%20%20%20%29.addTo%28map_b0683b1b6eda4a649165f8152e11b377%29%3B%0A%20%20%20%20%20%20%20%20%0A%20%20%20%20%0A%20%20%20%20%20%20%20%20var%20popup_48f10d9795e9460a8f8490ed5f7accb0%20%3D%20L.popup%28%7B%22maxWidth%22%3A%20%22100%25%22%7D%29%3B%0A%0A%20%20%20%20%20%20%20%20%0A%20%20%20%20%20%20%20%20%20%20%20%20var%20html_bfb306ba1591450a96d14dff236971fd%20%3D%20%24%28%60%3Cdiv%20id%3D%22html_bfb306ba1591450a96d14dff236971fd%22%20style%3D%22width%3A%20100.0%25%3B%20height%3A%20100.0%25%3B%22%3EMadera%3C/div%3E%60%29%5B0%5D%3B%0A%20%20%20%20%20%20%20%20%20%20%20%20popup_48f10d9795e9460a8f8490ed5f7accb0.setContent%28html_bfb306ba1591450a96d14dff236971fd%29%3B%0A%20%20%20%20%20%20%20%20%0A%0A%20%20%20%20%20%20%20%20circle_marker_e396b43ced66426185a042a8c07ea474.bindPopup%28popup_48f10d9795e9460a8f8490ed5f7accb0%29%0A%20%20%20%20%20%20%20%20%3B%0A%0A%20%20%20%20%20%20%20%20%0A%20%20%20%20%0A%20%20%20%20%0A%20%20%20%20%20%20%20%20%20%20%20%20var%20circle_marker_1a41ea5a9b1f462e9c58bd2dd220daa2%20%3D%20L.circleMarker%28%0A%20%20%20%20%20%20%20%20%20%20%20%20%20%20%20%20%5B38.083403%2C%20-122.7633036%5D%2C%0A%20%20%20%20%20%20%20%20%20%20%20%20%20%20%20%20%7B%22bubblingMouseEvents%22%3A%20true%2C%20%22color%22%3A%20%22green%22%2C%20%22dashArray%22%3A%20null%2C%20%22dashOffset%22%3A%20null%2C%20%22fill%22%3A%20false%2C%20%22fillColor%22%3A%20%22green%22%2C%20%22fillOpacity%22%3A%200.2%2C%20%22fillRule%22%3A%20%22evenodd%22%2C%20%22lineCap%22%3A%20%22round%22%2C%20%22lineJoin%22%3A%20%22round%22%2C%20%22opacity%22%3A%201.0%2C%20%22radius%22%3A%201%2C%20%22stroke%22%3A%20true%2C%20%22weight%22%3A%203%7D%0A%20%20%20%20%20%20%20%20%20%20%20%20%29.addTo%28map_b0683b1b6eda4a649165f8152e11b377%29%3B%0A%20%20%20%20%20%20%20%20%0A%20%20%20%20%0A%20%20%20%20%20%20%20%20var%20popup_e6b31b60875d4a1d8baf40baa2b96749%20%3D%20L.popup%28%7B%22maxWidth%22%3A%20%22100%25%22%7D%29%3B%0A%0A%20%20%20%20%20%20%20%20%0A%20%20%20%20%20%20%20%20%20%20%20%20var%20html_905d8192d00044fbb7dc9b2da95083e0%20%3D%20%24%28%60%3Cdiv%20id%3D%22html_905d8192d00044fbb7dc9b2da95083e0%22%20style%3D%22width%3A%20100.0%25%3B%20height%3A%20100.0%25%3B%22%3EMarin%3C/div%3E%60%29%5B0%5D%3B%0A%20%20%20%20%20%20%20%20%20%20%20%20popup_e6b31b60875d4a1d8baf40baa2b96749.setContent%28html_905d8192d00044fbb7dc9b2da95083e0%29%3B%0A%20%20%20%20%20%20%20%20%0A%0A%20%20%20%20%20%20%20%20circle_marker_1a41ea5a9b1f462e9c58bd2dd220daa2.bindPopup%28popup_e6b31b60875d4a1d8baf40baa2b96749%29%0A%20%20%20%20%20%20%20%20%3B%0A%0A%20%20%20%20%20%20%20%20%0A%20%20%20%20%0A%20%20%20%20%0A%20%20%20%20%20%20%20%20%20%20%20%20var%20circle_marker_59121717b759499bac43454d5187f110%20%3D%20L.circleMarker%28%0A%20%20%20%20%20%20%20%20%20%20%20%20%20%20%20%20%5B39.3076744%2C%20-123.7994591%5D%2C%0A%20%20%20%20%20%20%20%20%20%20%20%20%20%20%20%20%7B%22bubblingMouseEvents%22%3A%20true%2C%20%22color%22%3A%20%22green%22%2C%20%22dashArray%22%3A%20null%2C%20%22dashOffset%22%3A%20null%2C%20%22fill%22%3A%20false%2C%20%22fillColor%22%3A%20%22green%22%2C%20%22fillOpacity%22%3A%200.2%2C%20%22fillRule%22%3A%20%22evenodd%22%2C%20%22lineCap%22%3A%20%22round%22%2C%20%22lineJoin%22%3A%20%22round%22%2C%20%22opacity%22%3A%201.0%2C%20%22radius%22%3A%201%2C%20%22stroke%22%3A%20true%2C%20%22weight%22%3A%203%7D%0A%20%20%20%20%20%20%20%20%20%20%20%20%29.addTo%28map_b0683b1b6eda4a649165f8152e11b377%29%3B%0A%20%20%20%20%20%20%20%20%0A%20%20%20%20%0A%20%20%20%20%20%20%20%20var%20popup_962305bcc696403a83028e685194a23c%20%3D%20L.popup%28%7B%22maxWidth%22%3A%20%22100%25%22%7D%29%3B%0A%0A%20%20%20%20%20%20%20%20%0A%20%20%20%20%20%20%20%20%20%20%20%20var%20html_fa9adfebdf8a4af2b88ec606ce87cadc%20%3D%20%24%28%60%3Cdiv%20id%3D%22html_fa9adfebdf8a4af2b88ec606ce87cadc%22%20style%3D%22width%3A%20100.0%25%3B%20height%3A%20100.0%25%3B%22%3EMendocino%3C/div%3E%60%29%5B0%5D%3B%0A%20%20%20%20%20%20%20%20%20%20%20%20popup_962305bcc696403a83028e685194a23c.setContent%28html_fa9adfebdf8a4af2b88ec606ce87cadc%29%3B%0A%20%20%20%20%20%20%20%20%0A%0A%20%20%20%20%20%20%20%20circle_marker_59121717b759499bac43454d5187f110.bindPopup%28popup_962305bcc696403a83028e685194a23c%29%0A%20%20%20%20%20%20%20%20%3B%0A%0A%20%20%20%20%20%20%20%20%0A%20%20%20%20%0A%20%20%20%20%0A%20%20%20%20%20%20%20%20%20%20%20%20var%20circle_marker_b5d34c428f374323bfd611508ec31ebb%20%3D%20L.circleMarker%28%0A%20%20%20%20%20%20%20%20%20%20%20%20%20%20%20%20%5B37.3021632%2C%20-120.4829677%5D%2C%0A%20%20%20%20%20%20%20%20%20%20%20%20%20%20%20%20%7B%22bubblingMouseEvents%22%3A%20true%2C%20%22color%22%3A%20%22green%22%2C%20%22dashArray%22%3A%20null%2C%20%22dashOffset%22%3A%20null%2C%20%22fill%22%3A%20false%2C%20%22fillColor%22%3A%20%22green%22%2C%20%22fillOpacity%22%3A%200.2%2C%20%22fillRule%22%3A%20%22evenodd%22%2C%20%22lineCap%22%3A%20%22round%22%2C%20%22lineJoin%22%3A%20%22round%22%2C%20%22opacity%22%3A%201.0%2C%20%22radius%22%3A%201%2C%20%22stroke%22%3A%20true%2C%20%22weight%22%3A%203%7D%0A%20%20%20%20%20%20%20%20%20%20%20%20%29.addTo%28map_b0683b1b6eda4a649165f8152e11b377%29%3B%0A%20%20%20%20%20%20%20%20%0A%20%20%20%20%0A%20%20%20%20%20%20%20%20var%20popup_e08e2fd207374d10bfad5b84a44632e9%20%3D%20L.popup%28%7B%22maxWidth%22%3A%20%22100%25%22%7D%29%3B%0A%0A%20%20%20%20%20%20%20%20%0A%20%20%20%20%20%20%20%20%20%20%20%20var%20html_dd8fe27446554cafacbef9c56742a657%20%3D%20%24%28%60%3Cdiv%20id%3D%22html_dd8fe27446554cafacbef9c56742a657%22%20style%3D%22width%3A%20100.0%25%3B%20height%3A%20100.0%25%3B%22%3EMerced%3C/div%3E%60%29%5B0%5D%3B%0A%20%20%20%20%20%20%20%20%20%20%20%20popup_e08e2fd207374d10bfad5b84a44632e9.setContent%28html_dd8fe27446554cafacbef9c56742a657%29%3B%0A%20%20%20%20%20%20%20%20%0A%0A%20%20%20%20%20%20%20%20circle_marker_b5d34c428f374323bfd611508ec31ebb.bindPopup%28popup_e08e2fd207374d10bfad5b84a44632e9%29%0A%20%20%20%20%20%20%20%20%3B%0A%0A%20%20%20%20%20%20%20%20%0A%20%20%20%20%0A%20%20%20%20%0A%20%20%20%20%20%20%20%20%20%20%20%20var%20circle_marker_385ba979274f41e1b107262e7794e764%20%3D%20L.circleMarker%28%0A%20%20%20%20%20%20%20%20%20%20%20%20%20%20%20%20%5B41.4565165%2C%20-120.629366%5D%2C%0A%20%20%20%20%20%20%20%20%20%20%20%20%20%20%20%20%7B%22bubblingMouseEvents%22%3A%20true%2C%20%22color%22%3A%20%22green%22%2C%20%22dashArray%22%3A%20null%2C%20%22dashOffset%22%3A%20null%2C%20%22fill%22%3A%20false%2C%20%22fillColor%22%3A%20%22green%22%2C%20%22fillOpacity%22%3A%200.2%2C%20%22fillRule%22%3A%20%22evenodd%22%2C%20%22lineCap%22%3A%20%22round%22%2C%20%22lineJoin%22%3A%20%22round%22%2C%20%22opacity%22%3A%201.0%2C%20%22radius%22%3A%201%2C%20%22stroke%22%3A%20true%2C%20%22weight%22%3A%203%7D%0A%20%20%20%20%20%20%20%20%20%20%20%20%29.addTo%28map_b0683b1b6eda4a649165f8152e11b377%29%3B%0A%20%20%20%20%20%20%20%20%0A%20%20%20%20%0A%20%20%20%20%20%20%20%20var%20popup_7bc3d76021c0449c8bf5fde88d29abfa%20%3D%20L.popup%28%7B%22maxWidth%22%3A%20%22100%25%22%7D%29%3B%0A%0A%20%20%20%20%20%20%20%20%0A%20%20%20%20%20%20%20%20%20%20%20%20var%20html_1647a98d4c5c4e4fa7dafaee8a892cf9%20%3D%20%24%28%60%3Cdiv%20id%3D%22html_1647a98d4c5c4e4fa7dafaee8a892cf9%22%20style%3D%22width%3A%20100.0%25%3B%20height%3A%20100.0%25%3B%22%3EModoc%3C/div%3E%60%29%5B0%5D%3B%0A%20%20%20%20%20%20%20%20%20%20%20%20popup_7bc3d76021c0449c8bf5fde88d29abfa.setContent%28html_1647a98d4c5c4e4fa7dafaee8a892cf9%29%3B%0A%20%20%20%20%20%20%20%20%0A%0A%20%20%20%20%20%20%20%20circle_marker_385ba979274f41e1b107262e7794e764.bindPopup%28popup_7bc3d76021c0449c8bf5fde88d29abfa%29%0A%20%20%20%20%20%20%20%20%3B%0A%0A%20%20%20%20%20%20%20%20%0A%20%20%20%20%0A%20%20%20%20%0A%20%20%20%20%20%20%20%20%20%20%20%20var%20circle_marker_e10fd7780ebe4edbaf7ad2a71ee95f98%20%3D%20L.circleMarker%28%0A%20%20%20%20%20%20%20%20%20%20%20%20%20%20%20%20%5B36.6002378%2C%20-121.8946761%5D%2C%0A%20%20%20%20%20%20%20%20%20%20%20%20%20%20%20%20%7B%22bubblingMouseEvents%22%3A%20true%2C%20%22color%22%3A%20%22blue%22%2C%20%22dashArray%22%3A%20null%2C%20%22dashOffset%22%3A%20null%2C%20%22fill%22%3A%20false%2C%20%22fillColor%22%3A%20%22blue%22%2C%20%22fillOpacity%22%3A%200.2%2C%20%22fillRule%22%3A%20%22evenodd%22%2C%20%22lineCap%22%3A%20%22round%22%2C%20%22lineJoin%22%3A%20%22round%22%2C%20%22opacity%22%3A%201.0%2C%20%22radius%22%3A%201%2C%20%22stroke%22%3A%20true%2C%20%22weight%22%3A%203%7D%0A%20%20%20%20%20%20%20%20%20%20%20%20%29.addTo%28map_b0683b1b6eda4a649165f8152e11b377%29%3B%0A%20%20%20%20%20%20%20%20%0A%20%20%20%20%0A%20%20%20%20%20%20%20%20var%20popup_34d5b2f6a3e44d74bffb829fba94fe27%20%3D%20L.popup%28%7B%22maxWidth%22%3A%20%22100%25%22%7D%29%3B%0A%0A%20%20%20%20%20%20%20%20%0A%20%20%20%20%20%20%20%20%20%20%20%20var%20html_03f4d43ba33c4008b0e2a395cb3f89c7%20%3D%20%24%28%60%3Cdiv%20id%3D%22html_03f4d43ba33c4008b0e2a395cb3f89c7%22%20style%3D%22width%3A%20100.0%25%3B%20height%3A%20100.0%25%3B%22%3EMonterey%3C/div%3E%60%29%5B0%5D%3B%0A%20%20%20%20%20%20%20%20%20%20%20%20popup_34d5b2f6a3e44d74bffb829fba94fe27.setContent%28html_03f4d43ba33c4008b0e2a395cb3f89c7%29%3B%0A%20%20%20%20%20%20%20%20%0A%0A%20%20%20%20%20%20%20%20circle_marker_e10fd7780ebe4edbaf7ad2a71ee95f98.bindPopup%28popup_34d5b2f6a3e44d74bffb829fba94fe27%29%0A%20%20%20%20%20%20%20%20%3B%0A%0A%20%20%20%20%20%20%20%20%0A%20%20%20%20%0A%20%20%20%20%0A%20%20%20%20%20%20%20%20%20%20%20%20var%20circle_marker_5cccb3f60f434f36ac54a96fd0ec8914%20%3D%20L.circleMarker%28%0A%20%20%20%20%20%20%20%20%20%20%20%20%20%20%20%20%5B36.7567292%2C%20-95.9373265%5D%2C%0A%20%20%20%20%20%20%20%20%20%20%20%20%20%20%20%20%7B%22bubblingMouseEvents%22%3A%20true%2C%20%22color%22%3A%20%22green%22%2C%20%22dashArray%22%3A%20null%2C%20%22dashOffset%22%3A%20null%2C%20%22fill%22%3A%20false%2C%20%22fillColor%22%3A%20%22green%22%2C%20%22fillOpacity%22%3A%200.2%2C%20%22fillRule%22%3A%20%22evenodd%22%2C%20%22lineCap%22%3A%20%22round%22%2C%20%22lineJoin%22%3A%20%22round%22%2C%20%22opacity%22%3A%201.0%2C%20%22radius%22%3A%201%2C%20%22stroke%22%3A%20true%2C%20%22weight%22%3A%203%7D%0A%20%20%20%20%20%20%20%20%20%20%20%20%29.addTo%28map_b0683b1b6eda4a649165f8152e11b377%29%3B%0A%20%20%20%20%20%20%20%20%0A%20%20%20%20%0A%20%20%20%20%20%20%20%20var%20popup_ac6a8fef45fb434eb8108a0a9b74b8fe%20%3D%20L.popup%28%7B%22maxWidth%22%3A%20%22100%25%22%7D%29%3B%0A%0A%20%20%20%20%20%20%20%20%0A%20%20%20%20%20%20%20%20%20%20%20%20var%20html_9652492da5974b7a9e78a78c172fe4ed%20%3D%20%24%28%60%3Cdiv%20id%3D%22html_9652492da5974b7a9e78a78c172fe4ed%22%20style%3D%22width%3A%20100.0%25%3B%20height%3A%20100.0%25%3B%22%3ENapa%3C/div%3E%60%29%5B0%5D%3B%0A%20%20%20%20%20%20%20%20%20%20%20%20popup_ac6a8fef45fb434eb8108a0a9b74b8fe.setContent%28html_9652492da5974b7a9e78a78c172fe4ed%29%3B%0A%20%20%20%20%20%20%20%20%0A%0A%20%20%20%20%20%20%20%20circle_marker_5cccb3f60f434f36ac54a96fd0ec8914.bindPopup%28popup_ac6a8fef45fb434eb8108a0a9b74b8fe%29%0A%20%20%20%20%20%20%20%20%3B%0A%0A%20%20%20%20%20%20%20%20%0A%20%20%20%20%0A%20%20%20%20%0A%20%20%20%20%20%20%20%20%20%20%20%20var%20circle_marker_f8274ebee21540d5bb4b21c526126bbf%20%3D%20L.circleMarker%28%0A%20%20%20%20%20%20%20%20%20%20%20%20%20%20%20%20%5B38.8026097%2C%20-116.419389%5D%2C%0A%20%20%20%20%20%20%20%20%20%20%20%20%20%20%20%20%7B%22bubblingMouseEvents%22%3A%20true%2C%20%22color%22%3A%20%22green%22%2C%20%22dashArray%22%3A%20null%2C%20%22dashOffset%22%3A%20null%2C%20%22fill%22%3A%20false%2C%20%22fillColor%22%3A%20%22green%22%2C%20%22fillOpacity%22%3A%200.2%2C%20%22fillRule%22%3A%20%22evenodd%22%2C%20%22lineCap%22%3A%20%22round%22%2C%20%22lineJoin%22%3A%20%22round%22%2C%20%22opacity%22%3A%201.0%2C%20%22radius%22%3A%201%2C%20%22stroke%22%3A%20true%2C%20%22weight%22%3A%203%7D%0A%20%20%20%20%20%20%20%20%20%20%20%20%29.addTo%28map_b0683b1b6eda4a649165f8152e11b377%29%3B%0A%20%20%20%20%20%20%20%20%0A%20%20%20%20%0A%20%20%20%20%20%20%20%20var%20popup_442dac804e5f4bd08a7c69dabfe08e5d%20%3D%20L.popup%28%7B%22maxWidth%22%3A%20%22100%25%22%7D%29%3B%0A%0A%20%20%20%20%20%20%20%20%0A%20%20%20%20%20%20%20%20%20%20%20%20var%20html_8c32a29fa6614fc984049520e512984a%20%3D%20%24%28%60%3Cdiv%20id%3D%22html_8c32a29fa6614fc984049520e512984a%22%20style%3D%22width%3A%20100.0%25%3B%20height%3A%20100.0%25%3B%22%3ENevada%3C/div%3E%60%29%5B0%5D%3B%0A%20%20%20%20%20%20%20%20%20%20%20%20popup_442dac804e5f4bd08a7c69dabfe08e5d.setContent%28html_8c32a29fa6614fc984049520e512984a%29%3B%0A%20%20%20%20%20%20%20%20%0A%0A%20%20%20%20%20%20%20%20circle_marker_f8274ebee21540d5bb4b21c526126bbf.bindPopup%28popup_442dac804e5f4bd08a7c69dabfe08e5d%29%0A%20%20%20%20%20%20%20%20%3B%0A%0A%20%20%20%20%20%20%20%20%0A%20%20%20%20%0A%20%20%20%20%0A%20%20%20%20%20%20%20%20%20%20%20%20var%20circle_marker_c3511ba8e884416cb6e05d5f328064c6%20%3D%20L.circleMarker%28%0A%20%20%20%20%20%20%20%20%20%20%20%20%20%20%20%20%5B33.7879139%2C%20-117.8531007%5D%2C%0A%20%20%20%20%20%20%20%20%20%20%20%20%20%20%20%20%7B%22bubblingMouseEvents%22%3A%20true%2C%20%22color%22%3A%20%22blue%22%2C%20%22dashArray%22%3A%20null%2C%20%22dashOffset%22%3A%20null%2C%20%22fill%22%3A%20false%2C%20%22fillColor%22%3A%20%22blue%22%2C%20%22fillOpacity%22%3A%200.2%2C%20%22fillRule%22%3A%20%22evenodd%22%2C%20%22lineCap%22%3A%20%22round%22%2C%20%22lineJoin%22%3A%20%22round%22%2C%20%22opacity%22%3A%201.0%2C%20%22radius%22%3A%201%2C%20%22stroke%22%3A%20true%2C%20%22weight%22%3A%203%7D%0A%20%20%20%20%20%20%20%20%20%20%20%20%29.addTo%28map_b0683b1b6eda4a649165f8152e11b377%29%3B%0A%20%20%20%20%20%20%20%20%0A%20%20%20%20%0A%20%20%20%20%20%20%20%20var%20popup_e444dc6a48b64a12a4fc842bc3364ec2%20%3D%20L.popup%28%7B%22maxWidth%22%3A%20%22100%25%22%7D%29%3B%0A%0A%20%20%20%20%20%20%20%20%0A%20%20%20%20%20%20%20%20%20%20%20%20var%20html_b8000f89d7e74c8ea210371ba0b9aafa%20%3D%20%24%28%60%3Cdiv%20id%3D%22html_b8000f89d7e74c8ea210371ba0b9aafa%22%20style%3D%22width%3A%20100.0%25%3B%20height%3A%20100.0%25%3B%22%3EOrange%3C/div%3E%60%29%5B0%5D%3B%0A%20%20%20%20%20%20%20%20%20%20%20%20popup_e444dc6a48b64a12a4fc842bc3364ec2.setContent%28html_b8000f89d7e74c8ea210371ba0b9aafa%29%3B%0A%20%20%20%20%20%20%20%20%0A%0A%20%20%20%20%20%20%20%20circle_marker_c3511ba8e884416cb6e05d5f328064c6.bindPopup%28popup_e444dc6a48b64a12a4fc842bc3364ec2%29%0A%20%20%20%20%20%20%20%20%3B%0A%0A%20%20%20%20%20%20%20%20%0A%20%20%20%20%0A%20%20%20%20%0A%20%20%20%20%20%20%20%20%20%20%20%20var%20circle_marker_1bade1f50dd74fffb4b7eba5f92cf494%20%3D%20L.circleMarker%28%0A%20%20%20%20%20%20%20%20%20%20%20%20%20%20%20%20%5B39.0915751%2C%20-120.8039474%5D%2C%0A%20%20%20%20%20%20%20%20%20%20%20%20%20%20%20%20%7B%22bubblingMouseEvents%22%3A%20true%2C%20%22color%22%3A%20%22blue%22%2C%20%22dashArray%22%3A%20null%2C%20%22dashOffset%22%3A%20null%2C%20%22fill%22%3A%20false%2C%20%22fillColor%22%3A%20%22blue%22%2C%20%22fillOpacity%22%3A%200.2%2C%20%22fillRule%22%3A%20%22evenodd%22%2C%20%22lineCap%22%3A%20%22round%22%2C%20%22lineJoin%22%3A%20%22round%22%2C%20%22opacity%22%3A%201.0%2C%20%22radius%22%3A%201%2C%20%22stroke%22%3A%20true%2C%20%22weight%22%3A%203%7D%0A%20%20%20%20%20%20%20%20%20%20%20%20%29.addTo%28map_b0683b1b6eda4a649165f8152e11b377%29%3B%0A%20%20%20%20%20%20%20%20%0A%20%20%20%20%0A%20%20%20%20%20%20%20%20var%20popup_07ca5353f6e844d59cc2392959cc37e9%20%3D%20L.popup%28%7B%22maxWidth%22%3A%20%22100%25%22%7D%29%3B%0A%0A%20%20%20%20%20%20%20%20%0A%20%20%20%20%20%20%20%20%20%20%20%20var%20html_c363eb92751d43ac88e519747407773b%20%3D%20%24%28%60%3Cdiv%20id%3D%22html_c363eb92751d43ac88e519747407773b%22%20style%3D%22width%3A%20100.0%25%3B%20height%3A%20100.0%25%3B%22%3EPlacer%3C/div%3E%60%29%5B0%5D%3B%0A%20%20%20%20%20%20%20%20%20%20%20%20popup_07ca5353f6e844d59cc2392959cc37e9.setContent%28html_c363eb92751d43ac88e519747407773b%29%3B%0A%20%20%20%20%20%20%20%20%0A%0A%20%20%20%20%20%20%20%20circle_marker_1bade1f50dd74fffb4b7eba5f92cf494.bindPopup%28popup_07ca5353f6e844d59cc2392959cc37e9%29%0A%20%20%20%20%20%20%20%20%3B%0A%0A%20%20%20%20%20%20%20%20%0A%20%20%20%20%0A%20%20%20%20%0A%20%20%20%20%20%20%20%20%20%20%20%20var%20circle_marker_9a370f3369bd44aa89f0512261b6024b%20%3D%20L.circleMarker%28%0A%20%20%20%20%20%20%20%20%20%20%20%20%20%20%20%20%5B39.9926832%2C%20-120.8039474%5D%2C%0A%20%20%20%20%20%20%20%20%20%20%20%20%20%20%20%20%7B%22bubblingMouseEvents%22%3A%20true%2C%20%22color%22%3A%20%22green%22%2C%20%22dashArray%22%3A%20null%2C%20%22dashOffset%22%3A%20null%2C%20%22fill%22%3A%20false%2C%20%22fillColor%22%3A%20%22green%22%2C%20%22fillOpacity%22%3A%200.2%2C%20%22fillRule%22%3A%20%22evenodd%22%2C%20%22lineCap%22%3A%20%22round%22%2C%20%22lineJoin%22%3A%20%22round%22%2C%20%22opacity%22%3A%201.0%2C%20%22radius%22%3A%201%2C%20%22stroke%22%3A%20true%2C%20%22weight%22%3A%203%7D%0A%20%20%20%20%20%20%20%20%20%20%20%20%29.addTo%28map_b0683b1b6eda4a649165f8152e11b377%29%3B%0A%20%20%20%20%20%20%20%20%0A%20%20%20%20%0A%20%20%20%20%20%20%20%20var%20popup_adfc628b33ef4057ae5b3479efdf9ed6%20%3D%20L.popup%28%7B%22maxWidth%22%3A%20%22100%25%22%7D%29%3B%0A%0A%20%20%20%20%20%20%20%20%0A%20%20%20%20%20%20%20%20%20%20%20%20var%20html_95fb90014e8d43e88896c950759c06cc%20%3D%20%24%28%60%3Cdiv%20id%3D%22html_95fb90014e8d43e88896c950759c06cc%22%20style%3D%22width%3A%20100.0%25%3B%20height%3A%20100.0%25%3B%22%3EPlumas%3C/div%3E%60%29%5B0%5D%3B%0A%20%20%20%20%20%20%20%20%20%20%20%20popup_adfc628b33ef4057ae5b3479efdf9ed6.setContent%28html_95fb90014e8d43e88896c950759c06cc%29%3B%0A%20%20%20%20%20%20%20%20%0A%0A%20%20%20%20%20%20%20%20circle_marker_9a370f3369bd44aa89f0512261b6024b.bindPopup%28popup_adfc628b33ef4057ae5b3479efdf9ed6%29%0A%20%20%20%20%20%20%20%20%3B%0A%0A%20%20%20%20%20%20%20%20%0A%20%20%20%20%0A%20%20%20%20%0A%20%20%20%20%20%20%20%20%20%20%20%20var%20circle_marker_158efa22ada74c41b278b730f8fbeb3f%20%3D%20L.circleMarker%28%0A%20%20%20%20%20%20%20%20%20%20%20%20%20%20%20%20%5B33.9806005%2C%20-117.3754942%5D%2C%0A%20%20%20%20%20%20%20%20%20%20%20%20%20%20%20%20%7B%22bubblingMouseEvents%22%3A%20true%2C%20%22color%22%3A%20%22green%22%2C%20%22dashArray%22%3A%20null%2C%20%22dashOffset%22%3A%20null%2C%20%22fill%22%3A%20false%2C%20%22fillColor%22%3A%20%22green%22%2C%20%22fillOpacity%22%3A%200.2%2C%20%22fillRule%22%3A%20%22evenodd%22%2C%20%22lineCap%22%3A%20%22round%22%2C%20%22lineJoin%22%3A%20%22round%22%2C%20%22opacity%22%3A%201.0%2C%20%22radius%22%3A%201%2C%20%22stroke%22%3A%20true%2C%20%22weight%22%3A%203%7D%0A%20%20%20%20%20%20%20%20%20%20%20%20%29.addTo%28map_b0683b1b6eda4a649165f8152e11b377%29%3B%0A%20%20%20%20%20%20%20%20%0A%20%20%20%20%0A%20%20%20%20%20%20%20%20var%20popup_4a1504d94927427aa21c7dfd3f7cf749%20%3D%20L.popup%28%7B%22maxWidth%22%3A%20%22100%25%22%7D%29%3B%0A%0A%20%20%20%20%20%20%20%20%0A%20%20%20%20%20%20%20%20%20%20%20%20var%20html_67a2e8812d6e4182a7ee38a258b7a2af%20%3D%20%24%28%60%3Cdiv%20id%3D%22html_67a2e8812d6e4182a7ee38a258b7a2af%22%20style%3D%22width%3A%20100.0%25%3B%20height%3A%20100.0%25%3B%22%3ERiverside%3C/div%3E%60%29%5B0%5D%3B%0A%20%20%20%20%20%20%20%20%20%20%20%20popup_4a1504d94927427aa21c7dfd3f7cf749.setContent%28html_67a2e8812d6e4182a7ee38a258b7a2af%29%3B%0A%20%20%20%20%20%20%20%20%0A%0A%20%20%20%20%20%20%20%20circle_marker_158efa22ada74c41b278b730f8fbeb3f.bindPopup%28popup_4a1504d94927427aa21c7dfd3f7cf749%29%0A%20%20%20%20%20%20%20%20%3B%0A%0A%20%20%20%20%20%20%20%20%0A%20%20%20%20%0A%20%20%20%20%0A%20%20%20%20%20%20%20%20%20%20%20%20var%20circle_marker_ac35bcdb46174897a453af42353481eb%20%3D%20L.circleMarker%28%0A%20%20%20%20%20%20%20%20%20%20%20%20%20%20%20%20%5B38.5815719%2C%20-121.4943996%5D%2C%0A%20%20%20%20%20%20%20%20%20%20%20%20%20%20%20%20%7B%22bubblingMouseEvents%22%3A%20true%2C%20%22color%22%3A%20%22orange%22%2C%20%22dashArray%22%3A%20null%2C%20%22dashOffset%22%3A%20null%2C%20%22fill%22%3A%20false%2C%20%22fillColor%22%3A%20%22orange%22%2C%20%22fillOpacity%22%3A%200.2%2C%20%22fillRule%22%3A%20%22evenodd%22%2C%20%22lineCap%22%3A%20%22round%22%2C%20%22lineJoin%22%3A%20%22round%22%2C%20%22opacity%22%3A%201.0%2C%20%22radius%22%3A%201%2C%20%22stroke%22%3A%20true%2C%20%22weight%22%3A%203%7D%0A%20%20%20%20%20%20%20%20%20%20%20%20%29.addTo%28map_b0683b1b6eda4a649165f8152e11b377%29%3B%0A%20%20%20%20%20%20%20%20%0A%20%20%20%20%0A%20%20%20%20%20%20%20%20var%20popup_6ec087c6b92a4a24a002dd872cd38b1d%20%3D%20L.popup%28%7B%22maxWidth%22%3A%20%22100%25%22%7D%29%3B%0A%0A%20%20%20%20%20%20%20%20%0A%20%20%20%20%20%20%20%20%20%20%20%20var%20html_4c5624f404724a78b128474c61b67ac7%20%3D%20%24%28%60%3Cdiv%20id%3D%22html_4c5624f404724a78b128474c61b67ac7%22%20style%3D%22width%3A%20100.0%25%3B%20height%3A%20100.0%25%3B%22%3ESacramento%3C/div%3E%60%29%5B0%5D%3B%0A%20%20%20%20%20%20%20%20%20%20%20%20popup_6ec087c6b92a4a24a002dd872cd38b1d.setContent%28html_4c5624f404724a78b128474c61b67ac7%29%3B%0A%20%20%20%20%20%20%20%20%0A%0A%20%20%20%20%20%20%20%20circle_marker_ac35bcdb46174897a453af42353481eb.bindPopup%28popup_6ec087c6b92a4a24a002dd872cd38b1d%29%0A%20%20%20%20%20%20%20%20%3B%0A%0A%20%20%20%20%20%20%20%20%0A%20%20%20%20%0A%20%20%20%20%0A%20%20%20%20%20%20%20%20%20%20%20%20var%20circle_marker_f433a1285e874dbf8122eb53aa33032e%20%3D%20L.circleMarker%28%0A%20%20%20%20%20%20%20%20%20%20%20%20%20%20%20%20%5B26.132576%2C%20-97.6311006%5D%2C%0A%20%20%20%20%20%20%20%20%20%20%20%20%20%20%20%20%7B%22bubblingMouseEvents%22%3A%20true%2C%20%22color%22%3A%20%22green%22%2C%20%22dashArray%22%3A%20null%2C%20%22dashOffset%22%3A%20null%2C%20%22fill%22%3A%20false%2C%20%22fillColor%22%3A%20%22green%22%2C%20%22fillOpacity%22%3A%200.2%2C%20%22fillRule%22%3A%20%22evenodd%22%2C%20%22lineCap%22%3A%20%22round%22%2C%20%22lineJoin%22%3A%20%22round%22%2C%20%22opacity%22%3A%201.0%2C%20%22radius%22%3A%201%2C%20%22stroke%22%3A%20true%2C%20%22weight%22%3A%203%7D%0A%20%20%20%20%20%20%20%20%20%20%20%20%29.addTo%28map_b0683b1b6eda4a649165f8152e11b377%29%3B%0A%20%20%20%20%20%20%20%20%0A%20%20%20%20%0A%20%20%20%20%20%20%20%20var%20popup_accf3df3efff4375b1cba61f6f78eeb8%20%3D%20L.popup%28%7B%22maxWidth%22%3A%20%22100%25%22%7D%29%3B%0A%0A%20%20%20%20%20%20%20%20%0A%20%20%20%20%20%20%20%20%20%20%20%20var%20html_04153191b1ea4169ac39a43f26e5f7a4%20%3D%20%24%28%60%3Cdiv%20id%3D%22html_04153191b1ea4169ac39a43f26e5f7a4%22%20style%3D%22width%3A%20100.0%25%3B%20height%3A%20100.0%25%3B%22%3ESan%20Benito%3C/div%3E%60%29%5B0%5D%3B%0A%20%20%20%20%20%20%20%20%20%20%20%20popup_accf3df3efff4375b1cba61f6f78eeb8.setContent%28html_04153191b1ea4169ac39a43f26e5f7a4%29%3B%0A%20%20%20%20%20%20%20%20%0A%0A%20%20%20%20%20%20%20%20circle_marker_f433a1285e874dbf8122eb53aa33032e.bindPopup%28popup_accf3df3efff4375b1cba61f6f78eeb8%29%0A%20%20%20%20%20%20%20%20%3B%0A%0A%20%20%20%20%20%20%20%20%0A%20%20%20%20%0A%20%20%20%20%0A%20%20%20%20%20%20%20%20%20%20%20%20var%20circle_marker_abb614a1efe94397963dede74bfeaceb%20%3D%20L.circleMarker%28%0A%20%20%20%20%20%20%20%20%20%20%20%20%20%20%20%20%5B34.1083449%2C%20-117.2897652%5D%2C%0A%20%20%20%20%20%20%20%20%20%20%20%20%20%20%20%20%7B%22bubblingMouseEvents%22%3A%20true%2C%20%22color%22%3A%20%22green%22%2C%20%22dashArray%22%3A%20null%2C%20%22dashOffset%22%3A%20null%2C%20%22fill%22%3A%20false%2C%20%22fillColor%22%3A%20%22green%22%2C%20%22fillOpacity%22%3A%200.2%2C%20%22fillRule%22%3A%20%22evenodd%22%2C%20%22lineCap%22%3A%20%22round%22%2C%20%22lineJoin%22%3A%20%22round%22%2C%20%22opacity%22%3A%201.0%2C%20%22radius%22%3A%201%2C%20%22stroke%22%3A%20true%2C%20%22weight%22%3A%203%7D%0A%20%20%20%20%20%20%20%20%20%20%20%20%29.addTo%28map_b0683b1b6eda4a649165f8152e11b377%29%3B%0A%20%20%20%20%20%20%20%20%0A%20%20%20%20%0A%20%20%20%20%20%20%20%20var%20popup_0dfe0f90d715470b985fcb8ef331ca49%20%3D%20L.popup%28%7B%22maxWidth%22%3A%20%22100%25%22%7D%29%3B%0A%0A%20%20%20%20%20%20%20%20%0A%20%20%20%20%20%20%20%20%20%20%20%20var%20html_a58303a55c644c608632b82ac38bc148%20%3D%20%24%28%60%3Cdiv%20id%3D%22html_a58303a55c644c608632b82ac38bc148%22%20style%3D%22width%3A%20100.0%25%3B%20height%3A%20100.0%25%3B%22%3ESan%20Bernardino%3C/div%3E%60%29%5B0%5D%3B%0A%20%20%20%20%20%20%20%20%20%20%20%20popup_0dfe0f90d715470b985fcb8ef331ca49.setContent%28html_a58303a55c644c608632b82ac38bc148%29%3B%0A%20%20%20%20%20%20%20%20%0A%0A%20%20%20%20%20%20%20%20circle_marker_abb614a1efe94397963dede74bfeaceb.bindPopup%28popup_0dfe0f90d715470b985fcb8ef331ca49%29%0A%20%20%20%20%20%20%20%20%3B%0A%0A%20%20%20%20%20%20%20%20%0A%20%20%20%20%0A%20%20%20%20%0A%20%20%20%20%20%20%20%20%20%20%20%20var%20circle_marker_51d9ac1ee165439eafeb3572df017a28%20%3D%20L.circleMarker%28%0A%20%20%20%20%20%20%20%20%20%20%20%20%20%20%20%20%5B32.715738%2C%20-117.1610838%5D%2C%0A%20%20%20%20%20%20%20%20%20%20%20%20%20%20%20%20%7B%22bubblingMouseEvents%22%3A%20true%2C%20%22color%22%3A%20%22blue%22%2C%20%22dashArray%22%3A%20null%2C%20%22dashOffset%22%3A%20null%2C%20%22fill%22%3A%20false%2C%20%22fillColor%22%3A%20%22blue%22%2C%20%22fillOpacity%22%3A%200.2%2C%20%22fillRule%22%3A%20%22evenodd%22%2C%20%22lineCap%22%3A%20%22round%22%2C%20%22lineJoin%22%3A%20%22round%22%2C%20%22opacity%22%3A%201.0%2C%20%22radius%22%3A%201%2C%20%22stroke%22%3A%20true%2C%20%22weight%22%3A%203%7D%0A%20%20%20%20%20%20%20%20%20%20%20%20%29.addTo%28map_b0683b1b6eda4a649165f8152e11b377%29%3B%0A%20%20%20%20%20%20%20%20%0A%20%20%20%20%0A%20%20%20%20%20%20%20%20var%20popup_c84c852613c94760b83bb9d11c8a2ff8%20%3D%20L.popup%28%7B%22maxWidth%22%3A%20%22100%25%22%7D%29%3B%0A%0A%20%20%20%20%20%20%20%20%0A%20%20%20%20%20%20%20%20%20%20%20%20var%20html_247873be71864f8ca97534974af07224%20%3D%20%24%28%60%3Cdiv%20id%3D%22html_247873be71864f8ca97534974af07224%22%20style%3D%22width%3A%20100.0%25%3B%20height%3A%20100.0%25%3B%22%3ESan%20Diego%3C/div%3E%60%29%5B0%5D%3B%0A%20%20%20%20%20%20%20%20%20%20%20%20popup_c84c852613c94760b83bb9d11c8a2ff8.setContent%28html_247873be71864f8ca97534974af07224%29%3B%0A%20%20%20%20%20%20%20%20%0A%0A%20%20%20%20%20%20%20%20circle_marker_51d9ac1ee165439eafeb3572df017a28.bindPopup%28popup_c84c852613c94760b83bb9d11c8a2ff8%29%0A%20%20%20%20%20%20%20%20%3B%0A%0A%20%20%20%20%20%20%20%20%0A%20%20%20%20%0A%20%20%20%20%0A%20%20%20%20%20%20%20%20%20%20%20%20var%20circle_marker_175df9861396431bbdeda87df0e17e86%20%3D%20L.circleMarker%28%0A%20%20%20%20%20%20%20%20%20%20%20%20%20%20%20%20%5B37.7749295%2C%20-122.4194155%5D%2C%0A%20%20%20%20%20%20%20%20%20%20%20%20%20%20%20%20%7B%22bubblingMouseEvents%22%3A%20true%2C%20%22color%22%3A%20%22orange%22%2C%20%22dashArray%22%3A%20null%2C%20%22dashOffset%22%3A%20null%2C%20%22fill%22%3A%20false%2C%20%22fillColor%22%3A%20%22orange%22%2C%20%22fillOpacity%22%3A%200.2%2C%20%22fillRule%22%3A%20%22evenodd%22%2C%20%22lineCap%22%3A%20%22round%22%2C%20%22lineJoin%22%3A%20%22round%22%2C%20%22opacity%22%3A%201.0%2C%20%22radius%22%3A%201%2C%20%22stroke%22%3A%20true%2C%20%22weight%22%3A%203%7D%0A%20%20%20%20%20%20%20%20%20%20%20%20%29.addTo%28map_b0683b1b6eda4a649165f8152e11b377%29%3B%0A%20%20%20%20%20%20%20%20%0A%20%20%20%20%0A%20%20%20%20%20%20%20%20var%20popup_ca00ed740e3543daabbbb4dd16af3a9a%20%3D%20L.popup%28%7B%22maxWidth%22%3A%20%22100%25%22%7D%29%3B%0A%0A%20%20%20%20%20%20%20%20%0A%20%20%20%20%20%20%20%20%20%20%20%20var%20html_7605c99e449e474fa8cdbd33dd3ed170%20%3D%20%24%28%60%3Cdiv%20id%3D%22html_7605c99e449e474fa8cdbd33dd3ed170%22%20style%3D%22width%3A%20100.0%25%3B%20height%3A%20100.0%25%3B%22%3ESan%20Francisco%3C/div%3E%60%29%5B0%5D%3B%0A%20%20%20%20%20%20%20%20%20%20%20%20popup_ca00ed740e3543daabbbb4dd16af3a9a.setContent%28html_7605c99e449e474fa8cdbd33dd3ed170%29%3B%0A%20%20%20%20%20%20%20%20%0A%0A%20%20%20%20%20%20%20%20circle_marker_175df9861396431bbdeda87df0e17e86.bindPopup%28popup_ca00ed740e3543daabbbb4dd16af3a9a%29%0A%20%20%20%20%20%20%20%20%3B%0A%0A%20%20%20%20%20%20%20%20%0A%20%20%20%20%0A%20%20%20%20%0A%20%20%20%20%20%20%20%20%20%20%20%20var%20circle_marker_309c73c2a1774d9684c31cb05ad59c48%20%3D%20L.circleMarker%28%0A%20%20%20%20%20%20%20%20%20%20%20%20%20%20%20%20%5B37.9175935%2C%20-121.1710389%5D%2C%0A%20%20%20%20%20%20%20%20%20%20%20%20%20%20%20%20%7B%22bubblingMouseEvents%22%3A%20true%2C%20%22color%22%3A%20%22blue%22%2C%20%22dashArray%22%3A%20null%2C%20%22dashOffset%22%3A%20null%2C%20%22fill%22%3A%20false%2C%20%22fillColor%22%3A%20%22blue%22%2C%20%22fillOpacity%22%3A%200.2%2C%20%22fillRule%22%3A%20%22evenodd%22%2C%20%22lineCap%22%3A%20%22round%22%2C%20%22lineJoin%22%3A%20%22round%22%2C%20%22opacity%22%3A%201.0%2C%20%22radius%22%3A%201%2C%20%22stroke%22%3A%20true%2C%20%22weight%22%3A%203%7D%0A%20%20%20%20%20%20%20%20%20%20%20%20%29.addTo%28map_b0683b1b6eda4a649165f8152e11b377%29%3B%0A%20%20%20%20%20%20%20%20%0A%20%20%20%20%0A%20%20%20%20%20%20%20%20var%20popup_b2811c2137ac4285b48159fbe78f475c%20%3D%20L.popup%28%7B%22maxWidth%22%3A%20%22100%25%22%7D%29%3B%0A%0A%20%20%20%20%20%20%20%20%0A%20%20%20%20%20%20%20%20%20%20%20%20var%20html_e8035faab6a045a7ae3c23ffe59c6d12%20%3D%20%24%28%60%3Cdiv%20id%3D%22html_e8035faab6a045a7ae3c23ffe59c6d12%22%20style%3D%22width%3A%20100.0%25%3B%20height%3A%20100.0%25%3B%22%3ESan%20Joaquin%3C/div%3E%60%29%5B0%5D%3B%0A%20%20%20%20%20%20%20%20%20%20%20%20popup_b2811c2137ac4285b48159fbe78f475c.setContent%28html_e8035faab6a045a7ae3c23ffe59c6d12%29%3B%0A%20%20%20%20%20%20%20%20%0A%0A%20%20%20%20%20%20%20%20circle_marker_309c73c2a1774d9684c31cb05ad59c48.bindPopup%28popup_b2811c2137ac4285b48159fbe78f475c%29%0A%20%20%20%20%20%20%20%20%3B%0A%0A%20%20%20%20%20%20%20%20%0A%20%20%20%20%0A%20%20%20%20%0A%20%20%20%20%20%20%20%20%20%20%20%20var%20circle_marker_c7903b1b37e64ab1af20305dec865a52%20%3D%20L.circleMarker%28%0A%20%20%20%20%20%20%20%20%20%20%20%20%20%20%20%20%5B35.2827524%2C%20-120.6596156%5D%2C%0A%20%20%20%20%20%20%20%20%20%20%20%20%20%20%20%20%7B%22bubblingMouseEvents%22%3A%20true%2C%20%22color%22%3A%20%22green%22%2C%20%22dashArray%22%3A%20null%2C%20%22dashOffset%22%3A%20null%2C%20%22fill%22%3A%20false%2C%20%22fillColor%22%3A%20%22green%22%2C%20%22fillOpacity%22%3A%200.2%2C%20%22fillRule%22%3A%20%22evenodd%22%2C%20%22lineCap%22%3A%20%22round%22%2C%20%22lineJoin%22%3A%20%22round%22%2C%20%22opacity%22%3A%201.0%2C%20%22radius%22%3A%201%2C%20%22stroke%22%3A%20true%2C%20%22weight%22%3A%203%7D%0A%20%20%20%20%20%20%20%20%20%20%20%20%29.addTo%28map_b0683b1b6eda4a649165f8152e11b377%29%3B%0A%20%20%20%20%20%20%20%20%0A%20%20%20%20%0A%20%20%20%20%20%20%20%20var%20popup_c9ca7e06bdcd4d6d94c42cc16928c32b%20%3D%20L.popup%28%7B%22maxWidth%22%3A%20%22100%25%22%7D%29%3B%0A%0A%20%20%20%20%20%20%20%20%0A%20%20%20%20%20%20%20%20%20%20%20%20var%20html_77030a5f770c431eabe8dfe3eb690e44%20%3D%20%24%28%60%3Cdiv%20id%3D%22html_77030a5f770c431eabe8dfe3eb690e44%22%20style%3D%22width%3A%20100.0%25%3B%20height%3A%20100.0%25%3B%22%3ESan%20Luis%20Obispo%3C/div%3E%60%29%5B0%5D%3B%0A%20%20%20%20%20%20%20%20%20%20%20%20popup_c9ca7e06bdcd4d6d94c42cc16928c32b.setContent%28html_77030a5f770c431eabe8dfe3eb690e44%29%3B%0A%20%20%20%20%20%20%20%20%0A%0A%20%20%20%20%20%20%20%20circle_marker_c7903b1b37e64ab1af20305dec865a52.bindPopup%28popup_c9ca7e06bdcd4d6d94c42cc16928c32b%29%0A%20%20%20%20%20%20%20%20%3B%0A%0A%20%20%20%20%20%20%20%20%0A%20%20%20%20%0A%20%20%20%20%0A%20%20%20%20%20%20%20%20%20%20%20%20var%20circle_marker_52bc757712ce482795806f50e8616de4%20%3D%20L.circleMarker%28%0A%20%20%20%20%20%20%20%20%20%20%20%20%20%20%20%20%5B37.5629917%2C%20-122.3255254%5D%2C%0A%20%20%20%20%20%20%20%20%20%20%20%20%20%20%20%20%7B%22bubblingMouseEvents%22%3A%20true%2C%20%22color%22%3A%20%22blue%22%2C%20%22dashArray%22%3A%20null%2C%20%22dashOffset%22%3A%20null%2C%20%22fill%22%3A%20false%2C%20%22fillColor%22%3A%20%22blue%22%2C%20%22fillOpacity%22%3A%200.2%2C%20%22fillRule%22%3A%20%22evenodd%22%2C%20%22lineCap%22%3A%20%22round%22%2C%20%22lineJoin%22%3A%20%22round%22%2C%20%22opacity%22%3A%201.0%2C%20%22radius%22%3A%201%2C%20%22stroke%22%3A%20true%2C%20%22weight%22%3A%203%7D%0A%20%20%20%20%20%20%20%20%20%20%20%20%29.addTo%28map_b0683b1b6eda4a649165f8152e11b377%29%3B%0A%20%20%20%20%20%20%20%20%0A%20%20%20%20%0A%20%20%20%20%20%20%20%20var%20popup_5718ae53ba524acda7ae092359ccc2f8%20%3D%20L.popup%28%7B%22maxWidth%22%3A%20%22100%25%22%7D%29%3B%0A%0A%20%20%20%20%20%20%20%20%0A%20%20%20%20%20%20%20%20%20%20%20%20var%20html_7b9b5a2d825c4d9db934ce0937fadbbc%20%3D%20%24%28%60%3Cdiv%20id%3D%22html_7b9b5a2d825c4d9db934ce0937fadbbc%22%20style%3D%22width%3A%20100.0%25%3B%20height%3A%20100.0%25%3B%22%3ESan%20Mateo%3C/div%3E%60%29%5B0%5D%3B%0A%20%20%20%20%20%20%20%20%20%20%20%20popup_5718ae53ba524acda7ae092359ccc2f8.setContent%28html_7b9b5a2d825c4d9db934ce0937fadbbc%29%3B%0A%20%20%20%20%20%20%20%20%0A%0A%20%20%20%20%20%20%20%20circle_marker_52bc757712ce482795806f50e8616de4.bindPopup%28popup_5718ae53ba524acda7ae092359ccc2f8%29%0A%20%20%20%20%20%20%20%20%3B%0A%0A%20%20%20%20%20%20%20%20%0A%20%20%20%20%0A%20%20%20%20%0A%20%20%20%20%20%20%20%20%20%20%20%20var%20circle_marker_41947695efbc46858bc6f62ccd3d231a%20%3D%20L.circleMarker%28%0A%20%20%20%20%20%20%20%20%20%20%20%20%20%20%20%20%5B34.4208305%2C%20-119.6981901%5D%2C%0A%20%20%20%20%20%20%20%20%20%20%20%20%20%20%20%20%7B%22bubblingMouseEvents%22%3A%20true%2C%20%22color%22%3A%20%22blue%22%2C%20%22dashArray%22%3A%20null%2C%20%22dashOffset%22%3A%20null%2C%20%22fill%22%3A%20false%2C%20%22fillColor%22%3A%20%22blue%22%2C%20%22fillOpacity%22%3A%200.2%2C%20%22fillRule%22%3A%20%22evenodd%22%2C%20%22lineCap%22%3A%20%22round%22%2C%20%22lineJoin%22%3A%20%22round%22%2C%20%22opacity%22%3A%201.0%2C%20%22radius%22%3A%201%2C%20%22stroke%22%3A%20true%2C%20%22weight%22%3A%203%7D%0A%20%20%20%20%20%20%20%20%20%20%20%20%29.addTo%28map_b0683b1b6eda4a649165f8152e11b377%29%3B%0A%20%20%20%20%20%20%20%20%0A%20%20%20%20%0A%20%20%20%20%20%20%20%20var%20popup_40cf6455d50e426d897c5144be8fdcf1%20%3D%20L.popup%28%7B%22maxWidth%22%3A%20%22100%25%22%7D%29%3B%0A%0A%20%20%20%20%20%20%20%20%0A%20%20%20%20%20%20%20%20%20%20%20%20var%20html_3f1cd93b0cc64277857f196fb5fd379c%20%3D%20%24%28%60%3Cdiv%20id%3D%22html_3f1cd93b0cc64277857f196fb5fd379c%22%20style%3D%22width%3A%20100.0%25%3B%20height%3A%20100.0%25%3B%22%3ESanta%20Barbara%3C/div%3E%60%29%5B0%5D%3B%0A%20%20%20%20%20%20%20%20%20%20%20%20popup_40cf6455d50e426d897c5144be8fdcf1.setContent%28html_3f1cd93b0cc64277857f196fb5fd379c%29%3B%0A%20%20%20%20%20%20%20%20%0A%0A%20%20%20%20%20%20%20%20circle_marker_41947695efbc46858bc6f62ccd3d231a.bindPopup%28popup_40cf6455d50e426d897c5144be8fdcf1%29%0A%20%20%20%20%20%20%20%20%3B%0A%0A%20%20%20%20%20%20%20%20%0A%20%20%20%20%0A%20%20%20%20%0A%20%20%20%20%20%20%20%20%20%20%20%20var%20circle_marker_0ff08d8795be40dfbfbfcc30c8203732%20%3D%20L.circleMarker%28%0A%20%20%20%20%20%20%20%20%20%20%20%20%20%20%20%20%5B37.3541079%2C%20-121.9552356%5D%2C%0A%20%20%20%20%20%20%20%20%20%20%20%20%20%20%20%20%7B%22bubblingMouseEvents%22%3A%20true%2C%20%22color%22%3A%20%22blue%22%2C%20%22dashArray%22%3A%20null%2C%20%22dashOffset%22%3A%20null%2C%20%22fill%22%3A%20false%2C%20%22fillColor%22%3A%20%22blue%22%2C%20%22fillOpacity%22%3A%200.2%2C%20%22fillRule%22%3A%20%22evenodd%22%2C%20%22lineCap%22%3A%20%22round%22%2C%20%22lineJoin%22%3A%20%22round%22%2C%20%22opacity%22%3A%201.0%2C%20%22radius%22%3A%201%2C%20%22stroke%22%3A%20true%2C%20%22weight%22%3A%203%7D%0A%20%20%20%20%20%20%20%20%20%20%20%20%29.addTo%28map_b0683b1b6eda4a649165f8152e11b377%29%3B%0A%20%20%20%20%20%20%20%20%0A%20%20%20%20%0A%20%20%20%20%20%20%20%20var%20popup_ba97bcd8a77947eeafbb9c61696ee0c4%20%3D%20L.popup%28%7B%22maxWidth%22%3A%20%22100%25%22%7D%29%3B%0A%0A%20%20%20%20%20%20%20%20%0A%20%20%20%20%20%20%20%20%20%20%20%20var%20html_1ca2d56c3e4245f6be56af54b3d6942b%20%3D%20%24%28%60%3Cdiv%20id%3D%22html_1ca2d56c3e4245f6be56af54b3d6942b%22%20style%3D%22width%3A%20100.0%25%3B%20height%3A%20100.0%25%3B%22%3ESanta%20Clara%3C/div%3E%60%29%5B0%5D%3B%0A%20%20%20%20%20%20%20%20%20%20%20%20popup_ba97bcd8a77947eeafbb9c61696ee0c4.setContent%28html_1ca2d56c3e4245f6be56af54b3d6942b%29%3B%0A%20%20%20%20%20%20%20%20%0A%0A%20%20%20%20%20%20%20%20circle_marker_0ff08d8795be40dfbfbfcc30c8203732.bindPopup%28popup_ba97bcd8a77947eeafbb9c61696ee0c4%29%0A%20%20%20%20%20%20%20%20%3B%0A%0A%20%20%20%20%20%20%20%20%0A%20%20%20%20%0A%20%20%20%20%0A%20%20%20%20%20%20%20%20%20%20%20%20var%20circle_marker_480a4e929c4f49f2a0ccb62a57bf64d1%20%3D%20L.circleMarker%28%0A%20%20%20%20%20%20%20%20%20%20%20%20%20%20%20%20%5B36.9741171%2C%20-122.0307963%5D%2C%0A%20%20%20%20%20%20%20%20%20%20%20%20%20%20%20%20%7B%22bubblingMouseEvents%22%3A%20true%2C%20%22color%22%3A%20%22blue%22%2C%20%22dashArray%22%3A%20null%2C%20%22dashOffset%22%3A%20null%2C%20%22fill%22%3A%20false%2C%20%22fillColor%22%3A%20%22blue%22%2C%20%22fillOpacity%22%3A%200.2%2C%20%22fillRule%22%3A%20%22evenodd%22%2C%20%22lineCap%22%3A%20%22round%22%2C%20%22lineJoin%22%3A%20%22round%22%2C%20%22opacity%22%3A%201.0%2C%20%22radius%22%3A%201%2C%20%22stroke%22%3A%20true%2C%20%22weight%22%3A%203%7D%0A%20%20%20%20%20%20%20%20%20%20%20%20%29.addTo%28map_b0683b1b6eda4a649165f8152e11b377%29%3B%0A%20%20%20%20%20%20%20%20%0A%20%20%20%20%0A%20%20%20%20%20%20%20%20var%20popup_06a5c10b0a1f4977b0dcc27923be7048%20%3D%20L.popup%28%7B%22maxWidth%22%3A%20%22100%25%22%7D%29%3B%0A%0A%20%20%20%20%20%20%20%20%0A%20%20%20%20%20%20%20%20%20%20%20%20var%20html_d56708111a5c494e81b875d793b66bf3%20%3D%20%24%28%60%3Cdiv%20id%3D%22html_d56708111a5c494e81b875d793b66bf3%22%20style%3D%22width%3A%20100.0%25%3B%20height%3A%20100.0%25%3B%22%3ESanta%20Cruz%3C/div%3E%60%29%5B0%5D%3B%0A%20%20%20%20%20%20%20%20%20%20%20%20popup_06a5c10b0a1f4977b0dcc27923be7048.setContent%28html_d56708111a5c494e81b875d793b66bf3%29%3B%0A%20%20%20%20%20%20%20%20%0A%0A%20%20%20%20%20%20%20%20circle_marker_480a4e929c4f49f2a0ccb62a57bf64d1.bindPopup%28popup_06a5c10b0a1f4977b0dcc27923be7048%29%0A%20%20%20%20%20%20%20%20%3B%0A%0A%20%20%20%20%20%20%20%20%0A%20%20%20%20%0A%20%20%20%20%0A%20%20%20%20%20%20%20%20%20%20%20%20var%20circle_marker_e8dcd0ef65974739bda5e328dca4ebc9%20%3D%20L.circleMarker%28%0A%20%20%20%20%20%20%20%20%20%20%20%20%20%20%20%20%5B40.7908864%2C%20-121.8474493%5D%2C%0A%20%20%20%20%20%20%20%20%20%20%20%20%20%20%20%20%7B%22bubblingMouseEvents%22%3A%20true%2C%20%22color%22%3A%20%22green%22%2C%20%22dashArray%22%3A%20null%2C%20%22dashOffset%22%3A%20null%2C%20%22fill%22%3A%20false%2C%20%22fillColor%22%3A%20%22green%22%2C%20%22fillOpacity%22%3A%200.2%2C%20%22fillRule%22%3A%20%22evenodd%22%2C%20%22lineCap%22%3A%20%22round%22%2C%20%22lineJoin%22%3A%20%22round%22%2C%20%22opacity%22%3A%201.0%2C%20%22radius%22%3A%201%2C%20%22stroke%22%3A%20true%2C%20%22weight%22%3A%203%7D%0A%20%20%20%20%20%20%20%20%20%20%20%20%29.addTo%28map_b0683b1b6eda4a649165f8152e11b377%29%3B%0A%20%20%20%20%20%20%20%20%0A%20%20%20%20%0A%20%20%20%20%20%20%20%20var%20popup_d7d5547859394b7fa6913b45c0fae15f%20%3D%20L.popup%28%7B%22maxWidth%22%3A%20%22100%25%22%7D%29%3B%0A%0A%20%20%20%20%20%20%20%20%0A%20%20%20%20%20%20%20%20%20%20%20%20var%20html_9f7a76c3cfa0416da6ed870a7dbc7d17%20%3D%20%24%28%60%3Cdiv%20id%3D%22html_9f7a76c3cfa0416da6ed870a7dbc7d17%22%20style%3D%22width%3A%20100.0%25%3B%20height%3A%20100.0%25%3B%22%3EShasta%3C/div%3E%60%29%5B0%5D%3B%0A%20%20%20%20%20%20%20%20%20%20%20%20popup_d7d5547859394b7fa6913b45c0fae15f.setContent%28html_9f7a76c3cfa0416da6ed870a7dbc7d17%29%3B%0A%20%20%20%20%20%20%20%20%0A%0A%20%20%20%20%20%20%20%20circle_marker_e8dcd0ef65974739bda5e328dca4ebc9.bindPopup%28popup_d7d5547859394b7fa6913b45c0fae15f%29%0A%20%20%20%20%20%20%20%20%3B%0A%0A%20%20%20%20%20%20%20%20%0A%20%20%20%20%0A%20%20%20%20%0A%20%20%20%20%20%20%20%20%20%20%20%20var%20circle_marker_867ebe0a503c4bdfad5095bf8831bec0%20%3D%20L.circleMarker%28%0A%20%20%20%20%20%20%20%20%20%20%20%20%20%20%20%20%5B41.7743261%2C%20-122.5770126%5D%2C%0A%20%20%20%20%20%20%20%20%20%20%20%20%20%20%20%20%7B%22bubblingMouseEvents%22%3A%20true%2C%20%22color%22%3A%20%22green%22%2C%20%22dashArray%22%3A%20null%2C%20%22dashOffset%22%3A%20null%2C%20%22fill%22%3A%20false%2C%20%22fillColor%22%3A%20%22green%22%2C%20%22fillOpacity%22%3A%200.2%2C%20%22fillRule%22%3A%20%22evenodd%22%2C%20%22lineCap%22%3A%20%22round%22%2C%20%22lineJoin%22%3A%20%22round%22%2C%20%22opacity%22%3A%201.0%2C%20%22radius%22%3A%201%2C%20%22stroke%22%3A%20true%2C%20%22weight%22%3A%203%7D%0A%20%20%20%20%20%20%20%20%20%20%20%20%29.addTo%28map_b0683b1b6eda4a649165f8152e11b377%29%3B%0A%20%20%20%20%20%20%20%20%0A%20%20%20%20%0A%20%20%20%20%20%20%20%20var%20popup_d487c11fadad45218ac3f9c5c7fe6175%20%3D%20L.popup%28%7B%22maxWidth%22%3A%20%22100%25%22%7D%29%3B%0A%0A%20%20%20%20%20%20%20%20%0A%20%20%20%20%20%20%20%20%20%20%20%20var%20html_cd5aea20d2e44a84a7270bc67c61afc3%20%3D%20%24%28%60%3Cdiv%20id%3D%22html_cd5aea20d2e44a84a7270bc67c61afc3%22%20style%3D%22width%3A%20100.0%25%3B%20height%3A%20100.0%25%3B%22%3ESiskiyou%3C/div%3E%60%29%5B0%5D%3B%0A%20%20%20%20%20%20%20%20%20%20%20%20popup_d487c11fadad45218ac3f9c5c7fe6175.setContent%28html_cd5aea20d2e44a84a7270bc67c61afc3%29%3B%0A%20%20%20%20%20%20%20%20%0A%0A%20%20%20%20%20%20%20%20circle_marker_867ebe0a503c4bdfad5095bf8831bec0.bindPopup%28popup_d487c11fadad45218ac3f9c5c7fe6175%29%0A%20%20%20%20%20%20%20%20%3B%0A%0A%20%20%20%20%20%20%20%20%0A%20%20%20%20%0A%20%20%20%20%0A%20%20%20%20%20%20%20%20%20%20%20%20var%20circle_marker_b6662010f83247328b0465863b2c29f0%20%3D%20L.circleMarker%28%0A%20%20%20%20%20%20%20%20%20%20%20%20%20%20%20%20%5B38.3104969%2C%20-121.9017954%5D%2C%0A%20%20%20%20%20%20%20%20%20%20%20%20%20%20%20%20%7B%22bubblingMouseEvents%22%3A%20true%2C%20%22color%22%3A%20%22green%22%2C%20%22dashArray%22%3A%20null%2C%20%22dashOffset%22%3A%20null%2C%20%22fill%22%3A%20false%2C%20%22fillColor%22%3A%20%22green%22%2C%20%22fillOpacity%22%3A%200.2%2C%20%22fillRule%22%3A%20%22evenodd%22%2C%20%22lineCap%22%3A%20%22round%22%2C%20%22lineJoin%22%3A%20%22round%22%2C%20%22opacity%22%3A%201.0%2C%20%22radius%22%3A%201%2C%20%22stroke%22%3A%20true%2C%20%22weight%22%3A%203%7D%0A%20%20%20%20%20%20%20%20%20%20%20%20%29.addTo%28map_b0683b1b6eda4a649165f8152e11b377%29%3B%0A%20%20%20%20%20%20%20%20%0A%20%20%20%20%0A%20%20%20%20%20%20%20%20var%20popup_82d22e4dffdc4c749e00577ea71f22e4%20%3D%20L.popup%28%7B%22maxWidth%22%3A%20%22100%25%22%7D%29%3B%0A%0A%20%20%20%20%20%20%20%20%0A%20%20%20%20%20%20%20%20%20%20%20%20var%20html_847f2516c5cc44dbacbd2146d61126ab%20%3D%20%24%28%60%3Cdiv%20id%3D%22html_847f2516c5cc44dbacbd2146d61126ab%22%20style%3D%22width%3A%20100.0%25%3B%20height%3A%20100.0%25%3B%22%3ESolano%3C/div%3E%60%29%5B0%5D%3B%0A%20%20%20%20%20%20%20%20%20%20%20%20popup_82d22e4dffdc4c749e00577ea71f22e4.setContent%28html_847f2516c5cc44dbacbd2146d61126ab%29%3B%0A%20%20%20%20%20%20%20%20%0A%0A%20%20%20%20%20%20%20%20circle_marker_b6662010f83247328b0465863b2c29f0.bindPopup%28popup_82d22e4dffdc4c749e00577ea71f22e4%29%0A%20%20%20%20%20%20%20%20%3B%0A%0A%20%20%20%20%20%20%20%20%0A%20%20%20%20%0A%20%20%20%20%0A%20%20%20%20%20%20%20%20%20%20%20%20var%20circle_marker_7528c1421a0c4739a7c1a928296081bf%20%3D%20L.circleMarker%28%0A%20%20%20%20%20%20%20%20%20%20%20%20%20%20%20%20%5B38.291859%2C%20-122.4580356%5D%2C%0A%20%20%20%20%20%20%20%20%20%20%20%20%20%20%20%20%7B%22bubblingMouseEvents%22%3A%20true%2C%20%22color%22%3A%20%22green%22%2C%20%22dashArray%22%3A%20null%2C%20%22dashOffset%22%3A%20null%2C%20%22fill%22%3A%20false%2C%20%22fillColor%22%3A%20%22green%22%2C%20%22fillOpacity%22%3A%200.2%2C%20%22fillRule%22%3A%20%22evenodd%22%2C%20%22lineCap%22%3A%20%22round%22%2C%20%22lineJoin%22%3A%20%22round%22%2C%20%22opacity%22%3A%201.0%2C%20%22radius%22%3A%201%2C%20%22stroke%22%3A%20true%2C%20%22weight%22%3A%203%7D%0A%20%20%20%20%20%20%20%20%20%20%20%20%29.addTo%28map_b0683b1b6eda4a649165f8152e11b377%29%3B%0A%20%20%20%20%20%20%20%20%0A%20%20%20%20%0A%20%20%20%20%20%20%20%20var%20popup_f598b74f581c40469234dcd3da3838ef%20%3D%20L.popup%28%7B%22maxWidth%22%3A%20%22100%25%22%7D%29%3B%0A%0A%20%20%20%20%20%20%20%20%0A%20%20%20%20%20%20%20%20%20%20%20%20var%20html_3655d3d9af7948b8b9c920f17ac9ba8d%20%3D%20%24%28%60%3Cdiv%20id%3D%22html_3655d3d9af7948b8b9c920f17ac9ba8d%22%20style%3D%22width%3A%20100.0%25%3B%20height%3A%20100.0%25%3B%22%3ESonoma%3C/div%3E%60%29%5B0%5D%3B%0A%20%20%20%20%20%20%20%20%20%20%20%20popup_f598b74f581c40469234dcd3da3838ef.setContent%28html_3655d3d9af7948b8b9c920f17ac9ba8d%29%3B%0A%20%20%20%20%20%20%20%20%0A%0A%20%20%20%20%20%20%20%20circle_marker_7528c1421a0c4739a7c1a928296081bf.bindPopup%28popup_f598b74f581c40469234dcd3da3838ef%29%0A%20%20%20%20%20%20%20%20%3B%0A%0A%20%20%20%20%20%20%20%20%0A%20%20%20%20%0A%20%20%20%20%0A%20%20%20%20%20%20%20%20%20%20%20%20var%20circle_marker_88f2a95e4c6940a8b6d93a3e6b2888ce%20%3D%20L.circleMarker%28%0A%20%20%20%20%20%20%20%20%20%20%20%20%20%20%20%20%5B37.5090711%2C%20-120.9876321%5D%2C%0A%20%20%20%20%20%20%20%20%20%20%20%20%20%20%20%20%7B%22bubblingMouseEvents%22%3A%20true%2C%20%22color%22%3A%20%22green%22%2C%20%22dashArray%22%3A%20null%2C%20%22dashOffset%22%3A%20null%2C%20%22fill%22%3A%20false%2C%20%22fillColor%22%3A%20%22green%22%2C%20%22fillOpacity%22%3A%200.2%2C%20%22fillRule%22%3A%20%22evenodd%22%2C%20%22lineCap%22%3A%20%22round%22%2C%20%22lineJoin%22%3A%20%22round%22%2C%20%22opacity%22%3A%201.0%2C%20%22radius%22%3A%201%2C%20%22stroke%22%3A%20true%2C%20%22weight%22%3A%203%7D%0A%20%20%20%20%20%20%20%20%20%20%20%20%29.addTo%28map_b0683b1b6eda4a649165f8152e11b377%29%3B%0A%20%20%20%20%20%20%20%20%0A%20%20%20%20%0A%20%20%20%20%20%20%20%20var%20popup_be0e821fc1e34c4aae9e1638e85f88bc%20%3D%20L.popup%28%7B%22maxWidth%22%3A%20%22100%25%22%7D%29%3B%0A%0A%20%20%20%20%20%20%20%20%0A%20%20%20%20%20%20%20%20%20%20%20%20var%20html_3b099ff91936492d80dae102573c6707%20%3D%20%24%28%60%3Cdiv%20id%3D%22html_3b099ff91936492d80dae102573c6707%22%20style%3D%22width%3A%20100.0%25%3B%20height%3A%20100.0%25%3B%22%3EStanislaus%3C/div%3E%60%29%5B0%5D%3B%0A%20%20%20%20%20%20%20%20%20%20%20%20popup_be0e821fc1e34c4aae9e1638e85f88bc.setContent%28html_3b099ff91936492d80dae102573c6707%29%3B%0A%20%20%20%20%20%20%20%20%0A%0A%20%20%20%20%20%20%20%20circle_marker_88f2a95e4c6940a8b6d93a3e6b2888ce.bindPopup%28popup_be0e821fc1e34c4aae9e1638e85f88bc%29%0A%20%20%20%20%20%20%20%20%3B%0A%0A%20%20%20%20%20%20%20%20%0A%20%20%20%20%0A%20%20%20%20%0A%20%20%20%20%20%20%20%20%20%20%20%20var%20circle_marker_0387d4434aa34383b85cfdcce06f9d5c%20%3D%20L.circleMarker%28%0A%20%20%20%20%20%20%20%20%20%20%20%20%20%20%20%20%5B38.9357576%2C%20-94.7433978%5D%2C%0A%20%20%20%20%20%20%20%20%20%20%20%20%20%20%20%20%7B%22bubblingMouseEvents%22%3A%20true%2C%20%22color%22%3A%20%22green%22%2C%20%22dashArray%22%3A%20null%2C%20%22dashOffset%22%3A%20null%2C%20%22fill%22%3A%20false%2C%20%22fillColor%22%3A%20%22green%22%2C%20%22fillOpacity%22%3A%200.2%2C%20%22fillRule%22%3A%20%22evenodd%22%2C%20%22lineCap%22%3A%20%22round%22%2C%20%22lineJoin%22%3A%20%22round%22%2C%20%22opacity%22%3A%201.0%2C%20%22radius%22%3A%201%2C%20%22stroke%22%3A%20true%2C%20%22weight%22%3A%203%7D%0A%20%20%20%20%20%20%20%20%20%20%20%20%29.addTo%28map_b0683b1b6eda4a649165f8152e11b377%29%3B%0A%20%20%20%20%20%20%20%20%0A%20%20%20%20%0A%20%20%20%20%20%20%20%20var%20popup_69f7e6a6b65541efb5c896d9cea72855%20%3D%20L.popup%28%7B%22maxWidth%22%3A%20%22100%25%22%7D%29%3B%0A%0A%20%20%20%20%20%20%20%20%0A%20%20%20%20%20%20%20%20%20%20%20%20var%20html_f25979c97e814834a4d9a8a78286c06e%20%3D%20%24%28%60%3Cdiv%20id%3D%22html_f25979c97e814834a4d9a8a78286c06e%22%20style%3D%22width%3A%20100.0%25%3B%20height%3A%20100.0%25%3B%22%3ESutter%3C/div%3E%60%29%5B0%5D%3B%0A%20%20%20%20%20%20%20%20%20%20%20%20popup_69f7e6a6b65541efb5c896d9cea72855.setContent%28html_f25979c97e814834a4d9a8a78286c06e%29%3B%0A%20%20%20%20%20%20%20%20%0A%0A%20%20%20%20%20%20%20%20circle_marker_0387d4434aa34383b85cfdcce06f9d5c.bindPopup%28popup_69f7e6a6b65541efb5c896d9cea72855%29%0A%20%20%20%20%20%20%20%20%3B%0A%0A%20%20%20%20%20%20%20%20%0A%20%20%20%20%0A%20%20%20%20%0A%20%20%20%20%20%20%20%20%20%20%20%20var%20circle_marker_9487dba6012f47b0b6b0f1829b0fb9b0%20%3D%20L.circleMarker%28%0A%20%20%20%20%20%20%20%20%20%20%20%20%20%20%20%20%5B40.0271015%2C%20-122.1233228%5D%2C%0A%20%20%20%20%20%20%20%20%20%20%20%20%20%20%20%20%7B%22bubblingMouseEvents%22%3A%20true%2C%20%22color%22%3A%20%22green%22%2C%20%22dashArray%22%3A%20null%2C%20%22dashOffset%22%3A%20null%2C%20%22fill%22%3A%20false%2C%20%22fillColor%22%3A%20%22green%22%2C%20%22fillOpacity%22%3A%200.2%2C%20%22fillRule%22%3A%20%22evenodd%22%2C%20%22lineCap%22%3A%20%22round%22%2C%20%22lineJoin%22%3A%20%22round%22%2C%20%22opacity%22%3A%201.0%2C%20%22radius%22%3A%201%2C%20%22stroke%22%3A%20true%2C%20%22weight%22%3A%203%7D%0A%20%20%20%20%20%20%20%20%20%20%20%20%29.addTo%28map_b0683b1b6eda4a649165f8152e11b377%29%3B%0A%20%20%20%20%20%20%20%20%0A%20%20%20%20%0A%20%20%20%20%20%20%20%20var%20popup_cade8df5891c479d9907a85210204558%20%3D%20L.popup%28%7B%22maxWidth%22%3A%20%22100%25%22%7D%29%3B%0A%0A%20%20%20%20%20%20%20%20%0A%20%20%20%20%20%20%20%20%20%20%20%20var%20html_63af7d9576e24b90899e42fa3bbd31d0%20%3D%20%24%28%60%3Cdiv%20id%3D%22html_63af7d9576e24b90899e42fa3bbd31d0%22%20style%3D%22width%3A%20100.0%25%3B%20height%3A%20100.0%25%3B%22%3ETehama%3C/div%3E%60%29%5B0%5D%3B%0A%20%20%20%20%20%20%20%20%20%20%20%20popup_cade8df5891c479d9907a85210204558.setContent%28html_63af7d9576e24b90899e42fa3bbd31d0%29%3B%0A%20%20%20%20%20%20%20%20%0A%0A%20%20%20%20%20%20%20%20circle_marker_9487dba6012f47b0b6b0f1829b0fb9b0.bindPopup%28popup_cade8df5891c479d9907a85210204558%29%0A%20%20%20%20%20%20%20%20%3B%0A%0A%20%20%20%20%20%20%20%20%0A%20%20%20%20%0A%20%20%20%20%0A%20%20%20%20%20%20%20%20%20%20%20%20var%20circle_marker_bced9942174d4a69b403a3861d82fbde%20%3D%20L.circleMarker%28%0A%20%20%20%20%20%20%20%20%20%20%20%20%20%20%20%20%5B36.2077288%2C%20-119.3473379%5D%2C%0A%20%20%20%20%20%20%20%20%20%20%20%20%20%20%20%20%7B%22bubblingMouseEvents%22%3A%20true%2C%20%22color%22%3A%20%22blue%22%2C%20%22dashArray%22%3A%20null%2C%20%22dashOffset%22%3A%20null%2C%20%22fill%22%3A%20false%2C%20%22fillColor%22%3A%20%22blue%22%2C%20%22fillOpacity%22%3A%200.2%2C%20%22fillRule%22%3A%20%22evenodd%22%2C%20%22lineCap%22%3A%20%22round%22%2C%20%22lineJoin%22%3A%20%22round%22%2C%20%22opacity%22%3A%201.0%2C%20%22radius%22%3A%201%2C%20%22stroke%22%3A%20true%2C%20%22weight%22%3A%203%7D%0A%20%20%20%20%20%20%20%20%20%20%20%20%29.addTo%28map_b0683b1b6eda4a649165f8152e11b377%29%3B%0A%20%20%20%20%20%20%20%20%0A%20%20%20%20%0A%20%20%20%20%20%20%20%20var%20popup_613846d18be947949a9a382e05df7bbe%20%3D%20L.popup%28%7B%22maxWidth%22%3A%20%22100%25%22%7D%29%3B%0A%0A%20%20%20%20%20%20%20%20%0A%20%20%20%20%20%20%20%20%20%20%20%20var%20html_f15ffbca05434a30af338008d5385bd6%20%3D%20%24%28%60%3Cdiv%20id%3D%22html_f15ffbca05434a30af338008d5385bd6%22%20style%3D%22width%3A%20100.0%25%3B%20height%3A%20100.0%25%3B%22%3ETulare%3C/div%3E%60%29%5B0%5D%3B%0A%20%20%20%20%20%20%20%20%20%20%20%20popup_613846d18be947949a9a382e05df7bbe.setContent%28html_f15ffbca05434a30af338008d5385bd6%29%3B%0A%20%20%20%20%20%20%20%20%0A%0A%20%20%20%20%20%20%20%20circle_marker_bced9942174d4a69b403a3861d82fbde.bindPopup%28popup_613846d18be947949a9a382e05df7bbe%29%0A%20%20%20%20%20%20%20%20%3B%0A%0A%20%20%20%20%20%20%20%20%0A%20%20%20%20%0A%20%20%20%20%0A%20%20%20%20%20%20%20%20%20%20%20%20var%20circle_marker_96e5ecf8a1c14bd39cb102fec2744cc3%20%3D%20L.circleMarker%28%0A%20%20%20%20%20%20%20%20%20%20%20%20%20%20%20%20%5B38.029655%2C%20-119.9740534%5D%2C%0A%20%20%20%20%20%20%20%20%20%20%20%20%20%20%20%20%7B%22bubblingMouseEvents%22%3A%20true%2C%20%22color%22%3A%20%22green%22%2C%20%22dashArray%22%3A%20null%2C%20%22dashOffset%22%3A%20null%2C%20%22fill%22%3A%20false%2C%20%22fillColor%22%3A%20%22green%22%2C%20%22fillOpacity%22%3A%200.2%2C%20%22fillRule%22%3A%20%22evenodd%22%2C%20%22lineCap%22%3A%20%22round%22%2C%20%22lineJoin%22%3A%20%22round%22%2C%20%22opacity%22%3A%201.0%2C%20%22radius%22%3A%201%2C%20%22stroke%22%3A%20true%2C%20%22weight%22%3A%203%7D%0A%20%20%20%20%20%20%20%20%20%20%20%20%29.addTo%28map_b0683b1b6eda4a649165f8152e11b377%29%3B%0A%20%20%20%20%20%20%20%20%0A%20%20%20%20%0A%20%20%20%20%20%20%20%20var%20popup_0b4b524b0f4b48119951e0a2419d56ce%20%3D%20L.popup%28%7B%22maxWidth%22%3A%20%22100%25%22%7D%29%3B%0A%0A%20%20%20%20%20%20%20%20%0A%20%20%20%20%20%20%20%20%20%20%20%20var%20html_f70d4b02647d4ad3b1f47bade700fa3c%20%3D%20%24%28%60%3Cdiv%20id%3D%22html_f70d4b02647d4ad3b1f47bade700fa3c%22%20style%3D%22width%3A%20100.0%25%3B%20height%3A%20100.0%25%3B%22%3ETuolumne%3C/div%3E%60%29%5B0%5D%3B%0A%20%20%20%20%20%20%20%20%20%20%20%20popup_0b4b524b0f4b48119951e0a2419d56ce.setContent%28html_f70d4b02647d4ad3b1f47bade700fa3c%29%3B%0A%20%20%20%20%20%20%20%20%0A%0A%20%20%20%20%20%20%20%20circle_marker_96e5ecf8a1c14bd39cb102fec2744cc3.bindPopup%28popup_0b4b524b0f4b48119951e0a2419d56ce%29%0A%20%20%20%20%20%20%20%20%3B%0A%0A%20%20%20%20%20%20%20%20%0A%20%20%20%20%0A%20%20%20%20%0A%20%20%20%20%20%20%20%20%20%20%20%20var%20circle_marker_7d8b1da5559e46a58c7b4b2415eb0ab8%20%3D%20L.circleMarker%28%0A%20%20%20%20%20%20%20%20%20%20%20%20%20%20%20%20%5B34.2804923%2C%20-119.2945199%5D%2C%0A%20%20%20%20%20%20%20%20%20%20%20%20%20%20%20%20%7B%22bubblingMouseEvents%22%3A%20true%2C%20%22color%22%3A%20%22green%22%2C%20%22dashArray%22%3A%20null%2C%20%22dashOffset%22%3A%20null%2C%20%22fill%22%3A%20false%2C%20%22fillColor%22%3A%20%22green%22%2C%20%22fillOpacity%22%3A%200.2%2C%20%22fillRule%22%3A%20%22evenodd%22%2C%20%22lineCap%22%3A%20%22round%22%2C%20%22lineJoin%22%3A%20%22round%22%2C%20%22opacity%22%3A%201.0%2C%20%22radius%22%3A%201%2C%20%22stroke%22%3A%20true%2C%20%22weight%22%3A%203%7D%0A%20%20%20%20%20%20%20%20%20%20%20%20%29.addTo%28map_b0683b1b6eda4a649165f8152e11b377%29%3B%0A%20%20%20%20%20%20%20%20%0A%20%20%20%20%0A%20%20%20%20%20%20%20%20var%20popup_e4c0c4617bd74aeeb9e68cee666b718b%20%3D%20L.popup%28%7B%22maxWidth%22%3A%20%22100%25%22%7D%29%3B%0A%0A%20%20%20%20%20%20%20%20%0A%20%20%20%20%20%20%20%20%20%20%20%20var%20html_7ac3a8accfca405799aeae554f7887ef%20%3D%20%24%28%60%3Cdiv%20id%3D%22html_7ac3a8accfca405799aeae554f7887ef%22%20style%3D%22width%3A%20100.0%25%3B%20height%3A%20100.0%25%3B%22%3EVentura%3C/div%3E%60%29%5B0%5D%3B%0A%20%20%20%20%20%20%20%20%20%20%20%20popup_e4c0c4617bd74aeeb9e68cee666b718b.setContent%28html_7ac3a8accfca405799aeae554f7887ef%29%3B%0A%20%20%20%20%20%20%20%20%0A%0A%20%20%20%20%20%20%20%20circle_marker_7d8b1da5559e46a58c7b4b2415eb0ab8.bindPopup%28popup_e4c0c4617bd74aeeb9e68cee666b718b%29%0A%20%20%20%20%20%20%20%20%3B%0A%0A%20%20%20%20%20%20%20%20%0A%20%20%20%20%0A%20%20%20%20%0A%20%20%20%20%20%20%20%20%20%20%20%20var%20circle_marker_df36027a8645431abcc187a34c2f38b5%20%3D%20L.circleMarker%28%0A%20%20%20%20%20%20%20%20%20%20%20%20%20%20%20%20%5B26.1196393%2C%20-80.1397279%5D%2C%0A%20%20%20%20%20%20%20%20%20%20%20%20%20%20%20%20%7B%22bubblingMouseEvents%22%3A%20true%2C%20%22color%22%3A%20%22blue%22%2C%20%22dashArray%22%3A%20null%2C%20%22dashOffset%22%3A%20null%2C%20%22fill%22%3A%20false%2C%20%22fillColor%22%3A%20%22blue%22%2C%20%22fillOpacity%22%3A%200.2%2C%20%22fillRule%22%3A%20%22evenodd%22%2C%20%22lineCap%22%3A%20%22round%22%2C%20%22lineJoin%22%3A%20%22round%22%2C%20%22opacity%22%3A%201.0%2C%20%22radius%22%3A%201%2C%20%22stroke%22%3A%20true%2C%20%22weight%22%3A%203%7D%0A%20%20%20%20%20%20%20%20%20%20%20%20%29.addTo%28map_b0683b1b6eda4a649165f8152e11b377%29%3B%0A%20%20%20%20%20%20%20%20%0A%20%20%20%20%0A%20%20%20%20%20%20%20%20var%20popup_4ef0fa057f334f949641d752ed1245d9%20%3D%20L.popup%28%7B%22maxWidth%22%3A%20%22100%25%22%7D%29%3B%0A%0A%20%20%20%20%20%20%20%20%0A%20%20%20%20%20%20%20%20%20%20%20%20var%20html_9fd7f71356834e41a8bc0503a1476b58%20%3D%20%24%28%60%3Cdiv%20id%3D%22html_9fd7f71356834e41a8bc0503a1476b58%22%20style%3D%22width%3A%20100.0%25%3B%20height%3A%20100.0%25%3B%22%3EYolo%3C/div%3E%60%29%5B0%5D%3B%0A%20%20%20%20%20%20%20%20%20%20%20%20popup_4ef0fa057f334f949641d752ed1245d9.setContent%28html_9fd7f71356834e41a8bc0503a1476b58%29%3B%0A%20%20%20%20%20%20%20%20%0A%0A%20%20%20%20%20%20%20%20circle_marker_df36027a8645431abcc187a34c2f38b5.bindPopup%28popup_4ef0fa057f334f949641d752ed1245d9%29%0A%20%20%20%20%20%20%20%20%3B%0A%0A%20%20%20%20%20%20%20%20%0A%20%20%20%20%0A%20%20%20%20%0A%20%20%20%20%20%20%20%20%20%20%20%20var%20circle_marker_d93d6c61a8b849fbb16fccb5aecc92bd%20%3D%20L.circleMarker%28%0A%20%20%20%20%20%20%20%20%20%20%20%20%20%20%20%20%5B39.2547027%2C%20-73.990051%5D%2C%0A%20%20%20%20%20%20%20%20%20%20%20%20%20%20%20%20%7B%22bubblingMouseEvents%22%3A%20true%2C%20%22color%22%3A%20%22green%22%2C%20%22dashArray%22%3A%20null%2C%20%22dashOffset%22%3A%20null%2C%20%22fill%22%3A%20false%2C%20%22fillColor%22%3A%20%22green%22%2C%20%22fillOpacity%22%3A%200.2%2C%20%22fillRule%22%3A%20%22evenodd%22%2C%20%22lineCap%22%3A%20%22round%22%2C%20%22lineJoin%22%3A%20%22round%22%2C%20%22opacity%22%3A%201.0%2C%20%22radius%22%3A%201%2C%20%22stroke%22%3A%20true%2C%20%22weight%22%3A%203%7D%0A%20%20%20%20%20%20%20%20%20%20%20%20%29.addTo%28map_b0683b1b6eda4a649165f8152e11b377%29%3B%0A%20%20%20%20%20%20%20%20%0A%20%20%20%20%0A%20%20%20%20%20%20%20%20var%20popup_b9ad9bfec35240e2ae486cefcf8cf7af%20%3D%20L.popup%28%7B%22maxWidth%22%3A%20%22100%25%22%7D%29%3B%0A%0A%20%20%20%20%20%20%20%20%0A%20%20%20%20%20%20%20%20%20%20%20%20var%20html_3aa913432e8541a992cda96ac2fa24cf%20%3D%20%24%28%60%3Cdiv%20id%3D%22html_3aa913432e8541a992cda96ac2fa24cf%22%20style%3D%22width%3A%20100.0%25%3B%20height%3A%20100.0%25%3B%22%3EYuba%3C/div%3E%60%29%5B0%5D%3B%0A%20%20%20%20%20%20%20%20%20%20%20%20popup_b9ad9bfec35240e2ae486cefcf8cf7af.setContent%28html_3aa913432e8541a992cda96ac2fa24cf%29%3B%0A%20%20%20%20%20%20%20%20%0A%0A%20%20%20%20%20%20%20%20circle_marker_d93d6c61a8b849fbb16fccb5aecc92bd.bindPopup%28popup_b9ad9bfec35240e2ae486cefcf8cf7af%29%0A%20%20%20%20%20%20%20%20%3B%0A%0A%20%20%20%20%20%20%20%20%0A%20%20%20%20%0A%20%20%20%20%0A%20%20%20%20%20%20%20%20%20%20%20%20var%20circle_marker_a2b718d466ea4ab9ac9651f698a283e4%20%3D%20L.circleMarker%28%0A%20%20%20%20%20%20%20%20%20%20%20%20%20%20%20%20%5B45.4076205%2C%20-122.5703692%5D%2C%0A%20%20%20%20%20%20%20%20%20%20%20%20%20%20%20%20%7B%22bubblingMouseEvents%22%3A%20true%2C%20%22color%22%3A%20%22green%22%2C%20%22dashArray%22%3A%20null%2C%20%22dashOffset%22%3A%20null%2C%20%22fill%22%3A%20false%2C%20%22fillColor%22%3A%20%22green%22%2C%20%22fillOpacity%22%3A%200.2%2C%20%22fillRule%22%3A%20%22evenodd%22%2C%20%22lineCap%22%3A%20%22round%22%2C%20%22lineJoin%22%3A%20%22round%22%2C%20%22opacity%22%3A%201.0%2C%20%22radius%22%3A%201%2C%20%22stroke%22%3A%20true%2C%20%22weight%22%3A%203%7D%0A%20%20%20%20%20%20%20%20%20%20%20%20%29.addTo%28map_b0683b1b6eda4a649165f8152e11b377%29%3B%0A%20%20%20%20%20%20%20%20%0A%20%20%20%20%0A%20%20%20%20%20%20%20%20var%20popup_13db832fb75e431bac04a7f4c8cbd6cc%20%3D%20L.popup%28%7B%22maxWidth%22%3A%20%22100%25%22%7D%29%3B%0A%0A%20%20%20%20%20%20%20%20%0A%20%20%20%20%20%20%20%20%20%20%20%20var%20html_ce8150cfc86b4b5aa32244bd46684247%20%3D%20%24%28%60%3Cdiv%20id%3D%22html_ce8150cfc86b4b5aa32244bd46684247%22%20style%3D%22width%3A%20100.0%25%3B%20height%3A%20100.0%25%3B%22%3EClackamas%3C/div%3E%60%29%5B0%5D%3B%0A%20%20%20%20%20%20%20%20%20%20%20%20popup_13db832fb75e431bac04a7f4c8cbd6cc.setContent%28html_ce8150cfc86b4b5aa32244bd46684247%29%3B%0A%20%20%20%20%20%20%20%20%0A%0A%20%20%20%20%20%20%20%20circle_marker_a2b718d466ea4ab9ac9651f698a283e4.bindPopup%28popup_13db832fb75e431bac04a7f4c8cbd6cc%29%0A%20%20%20%20%20%20%20%20%3B%0A%0A%20%20%20%20%20%20%20%20%0A%20%20%20%20%0A%20%20%20%20%0A%20%20%20%20%20%20%20%20%20%20%20%20var%20circle_marker_2f2e3fcbb4a64adfbdb60a796b6e4c72%20%3D%20L.circleMarker%28%0A%20%20%20%20%20%20%20%20%20%20%20%20%20%20%20%20%5B46.0210796%2C%20-123.7653042%5D%2C%0A%20%20%20%20%20%20%20%20%20%20%20%20%20%20%20%20%7B%22bubblingMouseEvents%22%3A%20true%2C%20%22color%22%3A%20%22green%22%2C%20%22dashArray%22%3A%20null%2C%20%22dashOffset%22%3A%20null%2C%20%22fill%22%3A%20false%2C%20%22fillColor%22%3A%20%22green%22%2C%20%22fillOpacity%22%3A%200.2%2C%20%22fillRule%22%3A%20%22evenodd%22%2C%20%22lineCap%22%3A%20%22round%22%2C%20%22lineJoin%22%3A%20%22round%22%2C%20%22opacity%22%3A%201.0%2C%20%22radius%22%3A%201%2C%20%22stroke%22%3A%20true%2C%20%22weight%22%3A%203%7D%0A%20%20%20%20%20%20%20%20%20%20%20%20%29.addTo%28map_b0683b1b6eda4a649165f8152e11b377%29%3B%0A%20%20%20%20%20%20%20%20%0A%20%20%20%20%0A%20%20%20%20%20%20%20%20var%20popup_278ce855c8734d9883a6a28bb2001943%20%3D%20L.popup%28%7B%22maxWidth%22%3A%20%22100%25%22%7D%29%3B%0A%0A%20%20%20%20%20%20%20%20%0A%20%20%20%20%20%20%20%20%20%20%20%20var%20html_3adbe5fcc47b4b279d00d84dc5cb9b76%20%3D%20%24%28%60%3Cdiv%20id%3D%22html_3adbe5fcc47b4b279d00d84dc5cb9b76%22%20style%3D%22width%3A%20100.0%25%3B%20height%3A%20100.0%25%3B%22%3EClatsop%3C/div%3E%60%29%5B0%5D%3B%0A%20%20%20%20%20%20%20%20%20%20%20%20popup_278ce855c8734d9883a6a28bb2001943.setContent%28html_3adbe5fcc47b4b279d00d84dc5cb9b76%29%3B%0A%20%20%20%20%20%20%20%20%0A%0A%20%20%20%20%20%20%20%20circle_marker_2f2e3fcbb4a64adfbdb60a796b6e4c72.bindPopup%28popup_278ce855c8734d9883a6a28bb2001943%29%0A%20%20%20%20%20%20%20%20%3B%0A%0A%20%20%20%20%20%20%20%20%0A%20%20%20%20%0A%20%20%20%20%0A%20%20%20%20%20%20%20%20%20%20%20%20var%20circle_marker_390fa1bb35304bdfbe95289ea25f308b%20%3D%20L.circleMarker%28%0A%20%20%20%20%20%20%20%20%20%20%20%20%20%20%20%20%5B35.4611664%2C%20-97.6502456%5D%2C%0A%20%20%20%20%20%20%20%20%20%20%20%20%20%20%20%20%7B%22bubblingMouseEvents%22%3A%20true%2C%20%22color%22%3A%20%22green%22%2C%20%22dashArray%22%3A%20null%2C%20%22dashOffset%22%3A%20null%2C%20%22fill%22%3A%20false%2C%20%22fillColor%22%3A%20%22green%22%2C%20%22fillOpacity%22%3A%200.2%2C%20%22fillRule%22%3A%20%22evenodd%22%2C%20%22lineCap%22%3A%20%22round%22%2C%20%22lineJoin%22%3A%20%22round%22%2C%20%22opacity%22%3A%201.0%2C%20%22radius%22%3A%201%2C%20%22stroke%22%3A%20true%2C%20%22weight%22%3A%203%7D%0A%20%20%20%20%20%20%20%20%20%20%20%20%29.addTo%28map_b0683b1b6eda4a649165f8152e11b377%29%3B%0A%20%20%20%20%20%20%20%20%0A%20%20%20%20%0A%20%20%20%20%20%20%20%20var%20popup_59cb5e01ac0842f6bf0e48dfe91daa12%20%3D%20L.popup%28%7B%22maxWidth%22%3A%20%22100%25%22%7D%29%3B%0A%0A%20%20%20%20%20%20%20%20%0A%20%20%20%20%20%20%20%20%20%20%20%20var%20html_01eb866e097a4e54a33d389773a0dd99%20%3D%20%24%28%60%3Cdiv%20id%3D%22html_01eb866e097a4e54a33d389773a0dd99%22%20style%3D%22width%3A%20100.0%25%3B%20height%3A%20100.0%25%3B%22%3EColumbia%3C/div%3E%60%29%5B0%5D%3B%0A%20%20%20%20%20%20%20%20%20%20%20%20popup_59cb5e01ac0842f6bf0e48dfe91daa12.setContent%28html_01eb866e097a4e54a33d389773a0dd99%29%3B%0A%20%20%20%20%20%20%20%20%0A%0A%20%20%20%20%20%20%20%20circle_marker_390fa1bb35304bdfbe95289ea25f308b.bindPopup%28popup_59cb5e01ac0842f6bf0e48dfe91daa12%29%0A%20%20%20%20%20%20%20%20%3B%0A%0A%20%20%20%20%20%20%20%20%0A%20%20%20%20%0A%20%20%20%20%0A%20%20%20%20%20%20%20%20%20%20%20%20var%20circle_marker_99cff672036d4a3d8e0597b0382ea714%20%3D%20L.circleMarker%28%0A%20%20%20%20%20%20%20%20%20%20%20%20%20%20%20%20%5B37.2705897%2C%20-79.9393534%5D%2C%0A%20%20%20%20%20%20%20%20%20%20%20%20%20%20%20%20%7B%22bubblingMouseEvents%22%3A%20true%2C%20%22color%22%3A%20%22green%22%2C%20%22dashArray%22%3A%20null%2C%20%22dashOffset%22%3A%20null%2C%20%22fill%22%3A%20false%2C%20%22fillColor%22%3A%20%22green%22%2C%20%22fillOpacity%22%3A%200.2%2C%20%22fillRule%22%3A%20%22evenodd%22%2C%20%22lineCap%22%3A%20%22round%22%2C%20%22lineJoin%22%3A%20%22round%22%2C%20%22opacity%22%3A%201.0%2C%20%22radius%22%3A%201%2C%20%22stroke%22%3A%20true%2C%20%22weight%22%3A%203%7D%0A%20%20%20%20%20%20%20%20%20%20%20%20%29.addTo%28map_b0683b1b6eda4a649165f8152e11b377%29%3B%0A%20%20%20%20%20%20%20%20%0A%20%20%20%20%0A%20%20%20%20%20%20%20%20var%20popup_f395b7deb8724a5da5ddda5d4e54b54d%20%3D%20L.popup%28%7B%22maxWidth%22%3A%20%22100%25%22%7D%29%3B%0A%0A%20%20%20%20%20%20%20%20%0A%20%20%20%20%20%20%20%20%20%20%20%20var%20html_695a61cfa5f148d488136088200dbe03%20%3D%20%24%28%60%3Cdiv%20id%3D%22html_695a61cfa5f148d488136088200dbe03%22%20style%3D%22width%3A%20100.0%25%3B%20height%3A%20100.0%25%3B%22%3EDeschutes%3C/div%3E%60%29%5B0%5D%3B%0A%20%20%20%20%20%20%20%20%20%20%20%20popup_f395b7deb8724a5da5ddda5d4e54b54d.setContent%28html_695a61cfa5f148d488136088200dbe03%29%3B%0A%20%20%20%20%20%20%20%20%0A%0A%20%20%20%20%20%20%20%20circle_marker_99cff672036d4a3d8e0597b0382ea714.bindPopup%28popup_f395b7deb8724a5da5ddda5d4e54b54d%29%0A%20%20%20%20%20%20%20%20%3B%0A%0A%20%20%20%20%20%20%20%20%0A%20%20%20%20%0A%20%20%20%20%0A%20%20%20%20%20%20%20%20%20%20%20%20var%20circle_marker_40cfbceade6742b4b510642cbc13432d%20%3D%20L.circleMarker%28%0A%20%20%20%20%20%20%20%20%20%20%20%20%20%20%20%20%5B45.7067985%2C%20-121.528087%5D%2C%0A%20%20%20%20%20%20%20%20%20%20%20%20%20%20%20%20%7B%22bubblingMouseEvents%22%3A%20true%2C%20%22color%22%3A%20%22green%22%2C%20%22dashArray%22%3A%20null%2C%20%22dashOffset%22%3A%20null%2C%20%22fill%22%3A%20false%2C%20%22fillColor%22%3A%20%22green%22%2C%20%22fillOpacity%22%3A%200.2%2C%20%22fillRule%22%3A%20%22evenodd%22%2C%20%22lineCap%22%3A%20%22round%22%2C%20%22lineJoin%22%3A%20%22round%22%2C%20%22opacity%22%3A%201.0%2C%20%22radius%22%3A%201%2C%20%22stroke%22%3A%20true%2C%20%22weight%22%3A%203%7D%0A%20%20%20%20%20%20%20%20%20%20%20%20%29.addTo%28map_b0683b1b6eda4a649165f8152e11b377%29%3B%0A%20%20%20%20%20%20%20%20%0A%20%20%20%20%0A%20%20%20%20%20%20%20%20var%20popup_49f961f6ee9a4a41b81fd1340fa41815%20%3D%20L.popup%28%7B%22maxWidth%22%3A%20%22100%25%22%7D%29%3B%0A%0A%20%20%20%20%20%20%20%20%0A%20%20%20%20%20%20%20%20%20%20%20%20var%20html_247e67c412c34905a2b7cd85b130df79%20%3D%20%24%28%60%3Cdiv%20id%3D%22html_247e67c412c34905a2b7cd85b130df79%22%20style%3D%22width%3A%20100.0%25%3B%20height%3A%20100.0%25%3B%22%3EHood%20River%3C/div%3E%60%29%5B0%5D%3B%0A%20%20%20%20%20%20%20%20%20%20%20%20popup_49f961f6ee9a4a41b81fd1340fa41815.setContent%28html_247e67c412c34905a2b7cd85b130df79%29%3B%0A%20%20%20%20%20%20%20%20%0A%0A%20%20%20%20%20%20%20%20circle_marker_40cfbceade6742b4b510642cbc13432d.bindPopup%28popup_49f961f6ee9a4a41b81fd1340fa41815%29%0A%20%20%20%20%20%20%20%20%3B%0A%0A%20%20%20%20%20%20%20%20%0A%20%20%20%20%0A%20%20%20%20%0A%20%20%20%20%20%20%20%20%20%20%20%20var%20circle_marker_58befcfd844e4bcd9094f3810c96c43d%20%3D%20L.circleMarker%28%0A%20%20%20%20%20%20%20%20%20%20%20%20%20%20%20%20%5B32.2987573%2C%20-90.1848103%5D%2C%0A%20%20%20%20%20%20%20%20%20%20%20%20%20%20%20%20%7B%22bubblingMouseEvents%22%3A%20true%2C%20%22color%22%3A%20%22green%22%2C%20%22dashArray%22%3A%20null%2C%20%22dashOffset%22%3A%20null%2C%20%22fill%22%3A%20false%2C%20%22fillColor%22%3A%20%22green%22%2C%20%22fillOpacity%22%3A%200.2%2C%20%22fillRule%22%3A%20%22evenodd%22%2C%20%22lineCap%22%3A%20%22round%22%2C%20%22lineJoin%22%3A%20%22round%22%2C%20%22opacity%22%3A%201.0%2C%20%22radius%22%3A%201%2C%20%22stroke%22%3A%20true%2C%20%22weight%22%3A%203%7D%0A%20%20%20%20%20%20%20%20%20%20%20%20%29.addTo%28map_b0683b1b6eda4a649165f8152e11b377%29%3B%0A%20%20%20%20%20%20%20%20%0A%20%20%20%20%0A%20%20%20%20%20%20%20%20var%20popup_e9885786d9b94a88981151d5e01a467d%20%3D%20L.popup%28%7B%22maxWidth%22%3A%20%22100%25%22%7D%29%3B%0A%0A%20%20%20%20%20%20%20%20%0A%20%20%20%20%20%20%20%20%20%20%20%20var%20html_436771e860894135a26155f7114d9ac2%20%3D%20%24%28%60%3Cdiv%20id%3D%22html_436771e860894135a26155f7114d9ac2%22%20style%3D%22width%3A%20100.0%25%3B%20height%3A%20100.0%25%3B%22%3EJackson%3C/div%3E%60%29%5B0%5D%3B%0A%20%20%20%20%20%20%20%20%20%20%20%20popup_e9885786d9b94a88981151d5e01a467d.setContent%28html_436771e860894135a26155f7114d9ac2%29%3B%0A%20%20%20%20%20%20%20%20%0A%0A%20%20%20%20%20%20%20%20circle_marker_58befcfd844e4bcd9094f3810c96c43d.bindPopup%28popup_e9885786d9b94a88981151d5e01a467d%29%0A%20%20%20%20%20%20%20%20%3B%0A%0A%20%20%20%20%20%20%20%20%0A%20%20%20%20%0A%20%20%20%20%0A%20%20%20%20%20%20%20%20%20%20%20%20var%20circle_marker_13b860fd901c47c39415dffb88daf13a%20%3D%20L.circleMarker%28%0A%20%20%20%20%20%20%20%20%20%20%20%20%20%20%20%20%5B37.1095843%2C%20-95.7625713%5D%2C%0A%20%20%20%20%20%20%20%20%20%20%20%20%20%20%20%20%7B%22bubblingMouseEvents%22%3A%20true%2C%20%22color%22%3A%20%22green%22%2C%20%22dashArray%22%3A%20null%2C%20%22dashOffset%22%3A%20null%2C%20%22fill%22%3A%20false%2C%20%22fillColor%22%3A%20%22green%22%2C%20%22fillOpacity%22%3A%200.2%2C%20%22fillRule%22%3A%20%22evenodd%22%2C%20%22lineCap%22%3A%20%22round%22%2C%20%22lineJoin%22%3A%20%22round%22%2C%20%22opacity%22%3A%201.0%2C%20%22radius%22%3A%201%2C%20%22stroke%22%3A%20true%2C%20%22weight%22%3A%203%7D%0A%20%20%20%20%20%20%20%20%20%20%20%20%29.addTo%28map_b0683b1b6eda4a649165f8152e11b377%29%3B%0A%20%20%20%20%20%20%20%20%0A%20%20%20%20%0A%20%20%20%20%20%20%20%20var%20popup_ac3a76dbc81f4ad4a01d5735f5ff23c1%20%3D%20L.popup%28%7B%22maxWidth%22%3A%20%22100%25%22%7D%29%3B%0A%0A%20%20%20%20%20%20%20%20%0A%20%20%20%20%20%20%20%20%20%20%20%20var%20html_871c97eb41e44a48a92c7923afa20b6f%20%3D%20%24%28%60%3Cdiv%20id%3D%22html_871c97eb41e44a48a92c7923afa20b6f%22%20style%3D%22width%3A%20100.0%25%3B%20height%3A%20100.0%25%3B%22%3EJefferson%3C/div%3E%60%29%5B0%5D%3B%0A%20%20%20%20%20%20%20%20%20%20%20%20popup_ac3a76dbc81f4ad4a01d5735f5ff23c1.setContent%28html_871c97eb41e44a48a92c7923afa20b6f%29%3B%0A%20%20%20%20%20%20%20%20%0A%0A%20%20%20%20%20%20%20%20circle_marker_13b860fd901c47c39415dffb88daf13a.bindPopup%28popup_ac3a76dbc81f4ad4a01d5735f5ff23c1%29%0A%20%20%20%20%20%20%20%20%3B%0A%0A%20%20%20%20%20%20%20%20%0A%20%20%20%20%0A%20%20%20%20%0A%20%20%20%20%20%20%20%20%20%20%20%20var%20circle_marker_503129bdc1e64f8fb2af97a99c3a96a8%20%3D%20L.circleMarker%28%0A%20%20%20%20%20%20%20%20%20%20%20%20%20%20%20%20%5B36.1267656%2C%20-86.7890555%5D%2C%0A%20%20%20%20%20%20%20%20%20%20%20%20%20%20%20%20%7B%22bubblingMouseEvents%22%3A%20true%2C%20%22color%22%3A%20%22green%22%2C%20%22dashArray%22%3A%20null%2C%20%22dashOffset%22%3A%20null%2C%20%22fill%22%3A%20false%2C%20%22fillColor%22%3A%20%22green%22%2C%20%22fillOpacity%22%3A%200.2%2C%20%22fillRule%22%3A%20%22evenodd%22%2C%20%22lineCap%22%3A%20%22round%22%2C%20%22lineJoin%22%3A%20%22round%22%2C%20%22opacity%22%3A%201.0%2C%20%22radius%22%3A%201%2C%20%22stroke%22%3A%20true%2C%20%22weight%22%3A%203%7D%0A%20%20%20%20%20%20%20%20%20%20%20%20%29.addTo%28map_b0683b1b6eda4a649165f8152e11b377%29%3B%0A%20%20%20%20%20%20%20%20%0A%20%20%20%20%0A%20%20%20%20%20%20%20%20var%20popup_a41728d8a532438fa2c0a4b889f91942%20%3D%20L.popup%28%7B%22maxWidth%22%3A%20%22100%25%22%7D%29%3B%0A%0A%20%20%20%20%20%20%20%20%0A%20%20%20%20%20%20%20%20%20%20%20%20var%20html_350521de058d43fe8b60555a2bbd3098%20%3D%20%24%28%60%3Cdiv%20id%3D%22html_350521de058d43fe8b60555a2bbd3098%22%20style%3D%22width%3A%20100.0%25%3B%20height%3A%20100.0%25%3B%22%3EJosephine%3C/div%3E%60%29%5B0%5D%3B%0A%20%20%20%20%20%20%20%20%20%20%20%20popup_a41728d8a532438fa2c0a4b889f91942.setContent%28html_350521de058d43fe8b60555a2bbd3098%29%3B%0A%20%20%20%20%20%20%20%20%0A%0A%20%20%20%20%20%20%20%20circle_marker_503129bdc1e64f8fb2af97a99c3a96a8.bindPopup%28popup_a41728d8a532438fa2c0a4b889f91942%29%0A%20%20%20%20%20%20%20%20%3B%0A%0A%20%20%20%20%20%20%20%20%0A%20%20%20%20%0A%20%20%20%20%0A%20%20%20%20%20%20%20%20%20%20%20%20var%20circle_marker_f25ac866981647f8b5e4912ad56d0ec5%20%3D%20L.circleMarker%28%0A%20%20%20%20%20%20%20%20%20%20%20%20%20%20%20%20%5B41.5265092%2C%20-124.0384069%5D%2C%0A%20%20%20%20%20%20%20%20%20%20%20%20%20%20%20%20%7B%22bubblingMouseEvents%22%3A%20true%2C%20%22color%22%3A%20%22green%22%2C%20%22dashArray%22%3A%20null%2C%20%22dashOffset%22%3A%20null%2C%20%22fill%22%3A%20false%2C%20%22fillColor%22%3A%20%22green%22%2C%20%22fillOpacity%22%3A%200.2%2C%20%22fillRule%22%3A%20%22evenodd%22%2C%20%22lineCap%22%3A%20%22round%22%2C%20%22lineJoin%22%3A%20%22round%22%2C%20%22opacity%22%3A%201.0%2C%20%22radius%22%3A%201%2C%20%22stroke%22%3A%20true%2C%20%22weight%22%3A%203%7D%0A%20%20%20%20%20%20%20%20%20%20%20%20%29.addTo%28map_b0683b1b6eda4a649165f8152e11b377%29%3B%0A%20%20%20%20%20%20%20%20%0A%20%20%20%20%0A%20%20%20%20%20%20%20%20var%20popup_e63689426576442aa46e3eb4eba2d74c%20%3D%20L.popup%28%7B%22maxWidth%22%3A%20%22100%25%22%7D%29%3B%0A%0A%20%20%20%20%20%20%20%20%0A%20%20%20%20%20%20%20%20%20%20%20%20var%20html_38c3df6d50aa4616a7b58bf3e8300f03%20%3D%20%24%28%60%3Cdiv%20id%3D%22html_38c3df6d50aa4616a7b58bf3e8300f03%22%20style%3D%22width%3A%20100.0%25%3B%20height%3A%20100.0%25%3B%22%3EKlamath%3C/div%3E%60%29%5B0%5D%3B%0A%20%20%20%20%20%20%20%20%20%20%20%20popup_e63689426576442aa46e3eb4eba2d74c.setContent%28html_38c3df6d50aa4616a7b58bf3e8300f03%29%3B%0A%20%20%20%20%20%20%20%20%0A%0A%20%20%20%20%20%20%20%20circle_marker_f25ac866981647f8b5e4912ad56d0ec5.bindPopup%28popup_e63689426576442aa46e3eb4eba2d74c%29%0A%20%20%20%20%20%20%20%20%3B%0A%0A%20%20%20%20%20%20%20%20%0A%20%20%20%20%0A%20%20%20%20%0A%20%20%20%20%20%20%20%20%20%20%20%20var%20circle_marker_4533f78e4b41468b85fcec908a8332dd%20%3D%20L.circleMarker%28%0A%20%20%20%20%20%20%20%20%20%20%20%20%20%20%20%20%5B37.2248658%2C%20-95.7064842%5D%2C%0A%20%20%20%20%20%20%20%20%20%20%20%20%20%20%20%20%7B%22bubblingMouseEvents%22%3A%20true%2C%20%22color%22%3A%20%22green%22%2C%20%22dashArray%22%3A%20null%2C%20%22dashOffset%22%3A%20null%2C%20%22fill%22%3A%20false%2C%20%22fillColor%22%3A%20%22green%22%2C%20%22fillOpacity%22%3A%200.2%2C%20%22fillRule%22%3A%20%22evenodd%22%2C%20%22lineCap%22%3A%20%22round%22%2C%20%22lineJoin%22%3A%20%22round%22%2C%20%22opacity%22%3A%201.0%2C%20%22radius%22%3A%201%2C%20%22stroke%22%3A%20true%2C%20%22weight%22%3A%203%7D%0A%20%20%20%20%20%20%20%20%20%20%20%20%29.addTo%28map_b0683b1b6eda4a649165f8152e11b377%29%3B%0A%20%20%20%20%20%20%20%20%0A%20%20%20%20%0A%20%20%20%20%20%20%20%20var%20popup_9ab35901d93644978843ccf5814ad909%20%3D%20L.popup%28%7B%22maxWidth%22%3A%20%22100%25%22%7D%29%3B%0A%0A%20%20%20%20%20%20%20%20%0A%20%20%20%20%20%20%20%20%20%20%20%20var%20html_759ce4955ddf44a4a8e4c171ba92c5f1%20%3D%20%24%28%60%3Cdiv%20id%3D%22html_759ce4955ddf44a4a8e4c171ba92c5f1%22%20style%3D%22width%3A%20100.0%25%3B%20height%3A%20100.0%25%3B%22%3ELane%3C/div%3E%60%29%5B0%5D%3B%0A%20%20%20%20%20%20%20%20%20%20%20%20popup_9ab35901d93644978843ccf5814ad909.setContent%28html_759ce4955ddf44a4a8e4c171ba92c5f1%29%3B%0A%20%20%20%20%20%20%20%20%0A%0A%20%20%20%20%20%20%20%20circle_marker_4533f78e4b41468b85fcec908a8332dd.bindPopup%28popup_9ab35901d93644978843ccf5814ad909%29%0A%20%20%20%20%20%20%20%20%3B%0A%0A%20%20%20%20%20%20%20%20%0A%20%20%20%20%0A%20%20%20%20%0A%20%20%20%20%20%20%20%20%20%20%20%20var%20circle_marker_4ea2556d4d4143998b7d241a1fcb1c62%20%3D%20L.circleMarker%28%0A%20%20%20%20%20%20%20%20%20%20%20%20%20%20%20%20%5B35.949526%2C%20-94.4235482%5D%2C%0A%20%20%20%20%20%20%20%20%20%20%20%20%20%20%20%20%7B%22bubblingMouseEvents%22%3A%20true%2C%20%22color%22%3A%20%22green%22%2C%20%22dashArray%22%3A%20null%2C%20%22dashOffset%22%3A%20null%2C%20%22fill%22%3A%20false%2C%20%22fillColor%22%3A%20%22green%22%2C%20%22fillOpacity%22%3A%200.2%2C%20%22fillRule%22%3A%20%22evenodd%22%2C%20%22lineCap%22%3A%20%22round%22%2C%20%22lineJoin%22%3A%20%22round%22%2C%20%22opacity%22%3A%201.0%2C%20%22radius%22%3A%201%2C%20%22stroke%22%3A%20true%2C%20%22weight%22%3A%203%7D%0A%20%20%20%20%20%20%20%20%20%20%20%20%29.addTo%28map_b0683b1b6eda4a649165f8152e11b377%29%3B%0A%20%20%20%20%20%20%20%20%0A%20%20%20%20%0A%20%20%20%20%20%20%20%20var%20popup_6cea92a6b289485198af63a92d29b6ea%20%3D%20L.popup%28%7B%22maxWidth%22%3A%20%22100%25%22%7D%29%3B%0A%0A%20%20%20%20%20%20%20%20%0A%20%20%20%20%20%20%20%20%20%20%20%20var%20html_7727a3dcd6fd46cd81b51035e80e6463%20%3D%20%24%28%60%3Cdiv%20id%3D%22html_7727a3dcd6fd46cd81b51035e80e6463%22%20style%3D%22width%3A%20100.0%25%3B%20height%3A%20100.0%25%3B%22%3ELincoln%3C/div%3E%60%29%5B0%5D%3B%0A%20%20%20%20%20%20%20%20%20%20%20%20popup_6cea92a6b289485198af63a92d29b6ea.setContent%28html_7727a3dcd6fd46cd81b51035e80e6463%29%3B%0A%20%20%20%20%20%20%20%20%0A%0A%20%20%20%20%20%20%20%20circle_marker_4ea2556d4d4143998b7d241a1fcb1c62.bindPopup%28popup_6cea92a6b289485198af63a92d29b6ea%29%0A%20%20%20%20%20%20%20%20%3B%0A%0A%20%20%20%20%20%20%20%20%0A%20%20%20%20%0A%20%20%20%20%0A%20%20%20%20%20%20%20%20%20%20%20%20var%20circle_marker_aeb4145d3112468fa2287396c2ed0285%20%3D%20L.circleMarker%28%0A%20%20%20%20%20%20%20%20%20%20%20%20%20%20%20%20%5B38.4858749%2C%20-91.8504515%5D%2C%0A%20%20%20%20%20%20%20%20%20%20%20%20%20%20%20%20%7B%22bubblingMouseEvents%22%3A%20true%2C%20%22color%22%3A%20%22green%22%2C%20%22dashArray%22%3A%20null%2C%20%22dashOffset%22%3A%20null%2C%20%22fill%22%3A%20false%2C%20%22fillColor%22%3A%20%22green%22%2C%20%22fillOpacity%22%3A%200.2%2C%20%22fillRule%22%3A%20%22evenodd%22%2C%20%22lineCap%22%3A%20%22round%22%2C%20%22lineJoin%22%3A%20%22round%22%2C%20%22opacity%22%3A%201.0%2C%20%22radius%22%3A%201%2C%20%22stroke%22%3A%20true%2C%20%22weight%22%3A%203%7D%0A%20%20%20%20%20%20%20%20%20%20%20%20%29.addTo%28map_b0683b1b6eda4a649165f8152e11b377%29%3B%0A%20%20%20%20%20%20%20%20%0A%20%20%20%20%0A%20%20%20%20%20%20%20%20var%20popup_2fb8a82176054893a8ee997eaceebed2%20%3D%20L.popup%28%7B%22maxWidth%22%3A%20%22100%25%22%7D%29%3B%0A%0A%20%20%20%20%20%20%20%20%0A%20%20%20%20%20%20%20%20%20%20%20%20var%20html_5673ba58045c4a42af170c7447a98b2c%20%3D%20%24%28%60%3Cdiv%20id%3D%22html_5673ba58045c4a42af170c7447a98b2c%22%20style%3D%22width%3A%20100.0%25%3B%20height%3A%20100.0%25%3B%22%3ELinn%3C/div%3E%60%29%5B0%5D%3B%0A%20%20%20%20%20%20%20%20%20%20%20%20popup_2fb8a82176054893a8ee997eaceebed2.setContent%28html_5673ba58045c4a42af170c7447a98b2c%29%3B%0A%20%20%20%20%20%20%20%20%0A%0A%20%20%20%20%20%20%20%20circle_marker_aeb4145d3112468fa2287396c2ed0285.bindPopup%28popup_2fb8a82176054893a8ee997eaceebed2%29%0A%20%20%20%20%20%20%20%20%3B%0A%0A%20%20%20%20%20%20%20%20%0A%20%20%20%20%0A%20%20%20%20%0A%20%20%20%20%20%20%20%20%20%20%20%20var%20circle_marker_cdc311d3a9244394a17cbd46b4018390%20%3D%20L.circleMarker%28%0A%20%20%20%20%20%20%20%20%20%20%20%20%20%20%20%20%5B35.6840131%2C%20-82.0092745%5D%2C%0A%20%20%20%20%20%20%20%20%20%20%20%20%20%20%20%20%7B%22bubblingMouseEvents%22%3A%20true%2C%20%22color%22%3A%20%22green%22%2C%20%22dashArray%22%3A%20null%2C%20%22dashOffset%22%3A%20null%2C%20%22fill%22%3A%20false%2C%20%22fillColor%22%3A%20%22green%22%2C%20%22fillOpacity%22%3A%200.2%2C%20%22fillRule%22%3A%20%22evenodd%22%2C%20%22lineCap%22%3A%20%22round%22%2C%20%22lineJoin%22%3A%20%22round%22%2C%20%22opacity%22%3A%201.0%2C%20%22radius%22%3A%201%2C%20%22stroke%22%3A%20true%2C%20%22weight%22%3A%203%7D%0A%20%20%20%20%20%20%20%20%20%20%20%20%29.addTo%28map_b0683b1b6eda4a649165f8152e11b377%29%3B%0A%20%20%20%20%20%20%20%20%0A%20%20%20%20%0A%20%20%20%20%20%20%20%20var%20popup_7df19c4183104d7dbd6a030a6e808e18%20%3D%20L.popup%28%7B%22maxWidth%22%3A%20%22100%25%22%7D%29%3B%0A%0A%20%20%20%20%20%20%20%20%0A%20%20%20%20%20%20%20%20%20%20%20%20var%20html_acdc7e69c0a04d5da20255b6f723b795%20%3D%20%24%28%60%3Cdiv%20id%3D%22html_acdc7e69c0a04d5da20255b6f723b795%22%20style%3D%22width%3A%20100.0%25%3B%20height%3A%20100.0%25%3B%22%3EMarion%3C/div%3E%60%29%5B0%5D%3B%0A%20%20%20%20%20%20%20%20%20%20%20%20popup_7df19c4183104d7dbd6a030a6e808e18.setContent%28html_acdc7e69c0a04d5da20255b6f723b795%29%3B%0A%20%20%20%20%20%20%20%20%0A%0A%20%20%20%20%20%20%20%20circle_marker_cdc311d3a9244394a17cbd46b4018390.bindPopup%28popup_7df19c4183104d7dbd6a030a6e808e18%29%0A%20%20%20%20%20%20%20%20%3B%0A%0A%20%20%20%20%20%20%20%20%0A%20%20%20%20%0A%20%20%20%20%0A%20%20%20%20%20%20%20%20%20%20%20%20var%20circle_marker_d3902ff1b2204bacb4cd046a6183edcd%20%3D%20L.circleMarker%28%0A%20%20%20%20%20%20%20%20%20%20%20%20%20%20%20%20%5B45.5145659%2C%20-122.5863211%5D%2C%0A%20%20%20%20%20%20%20%20%20%20%20%20%20%20%20%20%7B%22bubblingMouseEvents%22%3A%20true%2C%20%22color%22%3A%20%22blue%22%2C%20%22dashArray%22%3A%20null%2C%20%22dashOffset%22%3A%20null%2C%20%22fill%22%3A%20false%2C%20%22fillColor%22%3A%20%22blue%22%2C%20%22fillOpacity%22%3A%200.2%2C%20%22fillRule%22%3A%20%22evenodd%22%2C%20%22lineCap%22%3A%20%22round%22%2C%20%22lineJoin%22%3A%20%22round%22%2C%20%22opacity%22%3A%201.0%2C%20%22radius%22%3A%201%2C%20%22stroke%22%3A%20true%2C%20%22weight%22%3A%203%7D%0A%20%20%20%20%20%20%20%20%20%20%20%20%29.addTo%28map_b0683b1b6eda4a649165f8152e11b377%29%3B%0A%20%20%20%20%20%20%20%20%0A%20%20%20%20%0A%20%20%20%20%20%20%20%20var%20popup_f4cb861621c241eba40ee1e2988780a0%20%3D%20L.popup%28%7B%22maxWidth%22%3A%20%22100%25%22%7D%29%3B%0A%0A%20%20%20%20%20%20%20%20%0A%20%20%20%20%20%20%20%20%20%20%20%20var%20html_24055042ed6548f5b5fcc387467667e5%20%3D%20%24%28%60%3Cdiv%20id%3D%22html_24055042ed6548f5b5fcc387467667e5%22%20style%3D%22width%3A%20100.0%25%3B%20height%3A%20100.0%25%3B%22%3EMultnomah%3C/div%3E%60%29%5B0%5D%3B%0A%20%20%20%20%20%20%20%20%20%20%20%20popup_f4cb861621c241eba40ee1e2988780a0.setContent%28html_24055042ed6548f5b5fcc387467667e5%29%3B%0A%20%20%20%20%20%20%20%20%0A%0A%20%20%20%20%20%20%20%20circle_marker_d3902ff1b2204bacb4cd046a6183edcd.bindPopup%28popup_f4cb861621c241eba40ee1e2988780a0%29%0A%20%20%20%20%20%20%20%20%3B%0A%0A%20%20%20%20%20%20%20%20%0A%20%20%20%20%0A%20%20%20%20%0A%20%20%20%20%20%20%20%20%20%20%20%20var%20circle_marker_dfee9c4288ba4cf9a41fbc538e79de73%20%3D%20L.circleMarker%28%0A%20%20%20%20%20%20%20%20%20%20%20%20%20%20%20%20%5B27.8617347%2C%20-81.6911559%5D%2C%0A%20%20%20%20%20%20%20%20%20%20%20%20%20%20%20%20%7B%22bubblingMouseEvents%22%3A%20true%2C%20%22color%22%3A%20%22green%22%2C%20%22dashArray%22%3A%20null%2C%20%22dashOffset%22%3A%20null%2C%20%22fill%22%3A%20false%2C%20%22fillColor%22%3A%20%22green%22%2C%20%22fillOpacity%22%3A%200.2%2C%20%22fillRule%22%3A%20%22evenodd%22%2C%20%22lineCap%22%3A%20%22round%22%2C%20%22lineJoin%22%3A%20%22round%22%2C%20%22opacity%22%3A%201.0%2C%20%22radius%22%3A%201%2C%20%22stroke%22%3A%20true%2C%20%22weight%22%3A%203%7D%0A%20%20%20%20%20%20%20%20%20%20%20%20%29.addTo%28map_b0683b1b6eda4a649165f8152e11b377%29%3B%0A%20%20%20%20%20%20%20%20%0A%20%20%20%20%0A%20%20%20%20%20%20%20%20var%20popup_32f60e56995e4517820565031c386e39%20%3D%20L.popup%28%7B%22maxWidth%22%3A%20%22100%25%22%7D%29%3B%0A%0A%20%20%20%20%20%20%20%20%0A%20%20%20%20%20%20%20%20%20%20%20%20var%20html_ca5dbee509524ece9953209cd5b11c36%20%3D%20%24%28%60%3Cdiv%20id%3D%22html_ca5dbee509524ece9953209cd5b11c36%22%20style%3D%22width%3A%20100.0%25%3B%20height%3A%20100.0%25%3B%22%3EPolk%3C/div%3E%60%29%5B0%5D%3B%0A%20%20%20%20%20%20%20%20%20%20%20%20popup_32f60e56995e4517820565031c386e39.setContent%28html_ca5dbee509524ece9953209cd5b11c36%29%3B%0A%20%20%20%20%20%20%20%20%0A%0A%20%20%20%20%20%20%20%20circle_marker_dfee9c4288ba4cf9a41fbc538e79de73.bindPopup%28popup_32f60e56995e4517820565031c386e39%29%0A%20%20%20%20%20%20%20%20%3B%0A%0A%20%20%20%20%20%20%20%20%0A%20%20%20%20%0A%20%20%20%20%0A%20%20%20%20%20%20%20%20%20%20%20%20var%20circle_marker_bee8faf6e9014235b1a08b0dbd1abfdc%20%3D%20L.circleMarker%28%0A%20%20%20%20%20%20%20%20%20%20%20%20%20%20%20%20%5B33.6356618%2C%20-96.6088805%5D%2C%0A%20%20%20%20%20%20%20%20%20%20%20%20%20%20%20%20%7B%22bubblingMouseEvents%22%3A%20true%2C%20%22color%22%3A%20%22green%22%2C%20%22dashArray%22%3A%20null%2C%20%22dashOffset%22%3A%20null%2C%20%22fill%22%3A%20false%2C%20%22fillColor%22%3A%20%22green%22%2C%20%22fillOpacity%22%3A%200.2%2C%20%22fillRule%22%3A%20%22evenodd%22%2C%20%22lineCap%22%3A%20%22round%22%2C%20%22lineJoin%22%3A%20%22round%22%2C%20%22opacity%22%3A%201.0%2C%20%22radius%22%3A%201%2C%20%22stroke%22%3A%20true%2C%20%22weight%22%3A%203%7D%0A%20%20%20%20%20%20%20%20%20%20%20%20%29.addTo%28map_b0683b1b6eda4a649165f8152e11b377%29%3B%0A%20%20%20%20%20%20%20%20%0A%20%20%20%20%0A%20%20%20%20%20%20%20%20var%20popup_97be2bac70aa426c9cb0427b1cd443e9%20%3D%20L.popup%28%7B%22maxWidth%22%3A%20%22100%25%22%7D%29%3B%0A%0A%20%20%20%20%20%20%20%20%0A%20%20%20%20%20%20%20%20%20%20%20%20var%20html_dac4b114a6464344b5f9d6e54260fc76%20%3D%20%24%28%60%3Cdiv%20id%3D%22html_dac4b114a6464344b5f9d6e54260fc76%22%20style%3D%22width%3A%20100.0%25%3B%20height%3A%20100.0%25%3B%22%3ESherman%3C/div%3E%60%29%5B0%5D%3B%0A%20%20%20%20%20%20%20%20%20%20%20%20popup_97be2bac70aa426c9cb0427b1cd443e9.setContent%28html_dac4b114a6464344b5f9d6e54260fc76%29%3B%0A%20%20%20%20%20%20%20%20%0A%0A%20%20%20%20%20%20%20%20circle_marker_bee8faf6e9014235b1a08b0dbd1abfdc.bindPopup%28popup_97be2bac70aa426c9cb0427b1cd443e9%29%0A%20%20%20%20%20%20%20%20%3B%0A%0A%20%20%20%20%20%20%20%20%0A%20%20%20%20%0A%20%20%20%20%0A%20%20%20%20%20%20%20%20%20%20%20%20var%20circle_marker_be8dfb72100146aba046daf53182ab1c%20%3D%20L.circleMarker%28%0A%20%20%20%20%20%20%20%20%20%20%20%20%20%20%20%20%5B35.5941238%2C%20-119.3409457%5D%2C%0A%20%20%20%20%20%20%20%20%20%20%20%20%20%20%20%20%7B%22bubblingMouseEvents%22%3A%20true%2C%20%22color%22%3A%20%22green%22%2C%20%22dashArray%22%3A%20null%2C%20%22dashOffset%22%3A%20null%2C%20%22fill%22%3A%20false%2C%20%22fillColor%22%3A%20%22green%22%2C%20%22fillOpacity%22%3A%200.2%2C%20%22fillRule%22%3A%20%22evenodd%22%2C%20%22lineCap%22%3A%20%22round%22%2C%20%22lineJoin%22%3A%20%22round%22%2C%20%22opacity%22%3A%201.0%2C%20%22radius%22%3A%201%2C%20%22stroke%22%3A%20true%2C%20%22weight%22%3A%203%7D%0A%20%20%20%20%20%20%20%20%20%20%20%20%29.addTo%28map_b0683b1b6eda4a649165f8152e11b377%29%3B%0A%20%20%20%20%20%20%20%20%0A%20%20%20%20%0A%20%20%20%20%20%20%20%20var%20popup_623d484834f64395a4d7e55ae74ee7dc%20%3D%20L.popup%28%7B%22maxWidth%22%3A%20%22100%25%22%7D%29%3B%0A%0A%20%20%20%20%20%20%20%20%0A%20%20%20%20%20%20%20%20%20%20%20%20var%20html_bbbcf3426ae5432b973905f5ca461a8f%20%3D%20%24%28%60%3Cdiv%20id%3D%22html_bbbcf3426ae5432b973905f5ca461a8f%22%20style%3D%22width%3A%20100.0%25%3B%20height%3A%20100.0%25%3B%22%3EWasco%3C/div%3E%60%29%5B0%5D%3B%0A%20%20%20%20%20%20%20%20%20%20%20%20popup_623d484834f64395a4d7e55ae74ee7dc.setContent%28html_bbbcf3426ae5432b973905f5ca461a8f%29%3B%0A%20%20%20%20%20%20%20%20%0A%0A%20%20%20%20%20%20%20%20circle_marker_be8dfb72100146aba046daf53182ab1c.bindPopup%28popup_623d484834f64395a4d7e55ae74ee7dc%29%0A%20%20%20%20%20%20%20%20%3B%0A%0A%20%20%20%20%20%20%20%20%0A%20%20%20%20%0A%20%20%20%20%0A%20%20%20%20%20%20%20%20%20%20%20%20var%20circle_marker_b94d5bdd1d594399a76525bbac039dee%20%3D%20L.circleMarker%28%0A%20%20%20%20%20%20%20%20%20%20%20%20%20%20%20%20%5B47.7510741%2C%20-120.7401385%5D%2C%0A%20%20%20%20%20%20%20%20%20%20%20%20%20%20%20%20%7B%22bubblingMouseEvents%22%3A%20true%2C%20%22color%22%3A%20%22green%22%2C%20%22dashArray%22%3A%20null%2C%20%22dashOffset%22%3A%20null%2C%20%22fill%22%3A%20false%2C%20%22fillColor%22%3A%20%22green%22%2C%20%22fillOpacity%22%3A%200.2%2C%20%22fillRule%22%3A%20%22evenodd%22%2C%20%22lineCap%22%3A%20%22round%22%2C%20%22lineJoin%22%3A%20%22round%22%2C%20%22opacity%22%3A%201.0%2C%20%22radius%22%3A%201%2C%20%22stroke%22%3A%20true%2C%20%22weight%22%3A%203%7D%0A%20%20%20%20%20%20%20%20%20%20%20%20%29.addTo%28map_b0683b1b6eda4a649165f8152e11b377%29%3B%0A%20%20%20%20%20%20%20%20%0A%20%20%20%20%0A%20%20%20%20%20%20%20%20var%20popup_7a7d13ecb2f24232a4585d8807117752%20%3D%20L.popup%28%7B%22maxWidth%22%3A%20%22100%25%22%7D%29%3B%0A%0A%20%20%20%20%20%20%20%20%0A%20%20%20%20%20%20%20%20%20%20%20%20var%20html_7aa578ed19744655984b6cf2e00e9671%20%3D%20%24%28%60%3Cdiv%20id%3D%22html_7aa578ed19744655984b6cf2e00e9671%22%20style%3D%22width%3A%20100.0%25%3B%20height%3A%20100.0%25%3B%22%3EWashington%3C/div%3E%60%29%5B0%5D%3B%0A%20%20%20%20%20%20%20%20%20%20%20%20popup_7a7d13ecb2f24232a4585d8807117752.setContent%28html_7aa578ed19744655984b6cf2e00e9671%29%3B%0A%20%20%20%20%20%20%20%20%0A%0A%20%20%20%20%20%20%20%20circle_marker_b94d5bdd1d594399a76525bbac039dee.bindPopup%28popup_7a7d13ecb2f24232a4585d8807117752%29%0A%20%20%20%20%20%20%20%20%3B%0A%0A%20%20%20%20%20%20%20%20%0A%20%20%20%20%0A%20%20%20%20%0A%20%20%20%20%20%20%20%20%20%20%20%20var%20circle_marker_ee639e8f51834b728e066538f643fbc3%20%3D%20L.circleMarker%28%0A%20%20%20%20%20%20%20%20%20%20%20%20%20%20%20%20%5B45.3415045%2C%20-123.1878238%5D%2C%0A%20%20%20%20%20%20%20%20%20%20%20%20%20%20%20%20%7B%22bubblingMouseEvents%22%3A%20true%2C%20%22color%22%3A%20%22green%22%2C%20%22dashArray%22%3A%20null%2C%20%22dashOffset%22%3A%20null%2C%20%22fill%22%3A%20false%2C%20%22fillColor%22%3A%20%22green%22%2C%20%22fillOpacity%22%3A%200.2%2C%20%22fillRule%22%3A%20%22evenodd%22%2C%20%22lineCap%22%3A%20%22round%22%2C%20%22lineJoin%22%3A%20%22round%22%2C%20%22opacity%22%3A%201.0%2C%20%22radius%22%3A%201%2C%20%22stroke%22%3A%20true%2C%20%22weight%22%3A%203%7D%0A%20%20%20%20%20%20%20%20%20%20%20%20%29.addTo%28map_b0683b1b6eda4a649165f8152e11b377%29%3B%0A%20%20%20%20%20%20%20%20%0A%20%20%20%20%0A%20%20%20%20%20%20%20%20var%20popup_3686130412d24ebdba59375fe8bc37b8%20%3D%20L.popup%28%7B%22maxWidth%22%3A%20%22100%25%22%7D%29%3B%0A%0A%20%20%20%20%20%20%20%20%0A%20%20%20%20%20%20%20%20%20%20%20%20var%20html_a98277a01f6d4454bf61607aecd90d8c%20%3D%20%24%28%60%3Cdiv%20id%3D%22html_a98277a01f6d4454bf61607aecd90d8c%22%20style%3D%22width%3A%20100.0%25%3B%20height%3A%20100.0%25%3B%22%3EYamhill%3C/div%3E%60%29%5B0%5D%3B%0A%20%20%20%20%20%20%20%20%20%20%20%20popup_3686130412d24ebdba59375fe8bc37b8.setContent%28html_a98277a01f6d4454bf61607aecd90d8c%29%3B%0A%20%20%20%20%20%20%20%20%0A%0A%20%20%20%20%20%20%20%20circle_marker_ee639e8f51834b728e066538f643fbc3.bindPopup%28popup_3686130412d24ebdba59375fe8bc37b8%29%0A%20%20%20%20%20%20%20%20%3B%0A%0A%20%20%20%20%20%20%20%20%0A%20%20%20%20%0A%20%20%20%20%0A%20%20%20%20%20%20%20%20%20%20%20%20var%20circle_marker_4cbac1e757f245eabb3fa6c8548de1ba%20%3D%20L.circleMarker%28%0A%20%20%20%20%20%20%20%20%20%20%20%20%20%20%20%20%5B34.5645371%2C%20-92.586828%5D%2C%0A%20%20%20%20%20%20%20%20%20%20%20%20%20%20%20%20%7B%22bubblingMouseEvents%22%3A%20true%2C%20%22color%22%3A%20%22green%22%2C%20%22dashArray%22%3A%20null%2C%20%22dashOffset%22%3A%20null%2C%20%22fill%22%3A%20false%2C%20%22fillColor%22%3A%20%22green%22%2C%20%22fillOpacity%22%3A%200.2%2C%20%22fillRule%22%3A%20%22evenodd%22%2C%20%22lineCap%22%3A%20%22round%22%2C%20%22lineJoin%22%3A%20%22round%22%2C%20%22opacity%22%3A%201.0%2C%20%22radius%22%3A%201%2C%20%22stroke%22%3A%20true%2C%20%22weight%22%3A%203%7D%0A%20%20%20%20%20%20%20%20%20%20%20%20%29.addTo%28map_b0683b1b6eda4a649165f8152e11b377%29%3B%0A%20%20%20%20%20%20%20%20%0A%20%20%20%20%0A%20%20%20%20%20%20%20%20var%20popup_b5307ab8695c4228ac03cda2b99638b8%20%3D%20L.popup%28%7B%22maxWidth%22%3A%20%22100%25%22%7D%29%3B%0A%0A%20%20%20%20%20%20%20%20%0A%20%20%20%20%20%20%20%20%20%20%20%20var%20html_95d9bc06bd094e0194b00f4e58b8e1dc%20%3D%20%24%28%60%3Cdiv%20id%3D%22html_95d9bc06bd094e0194b00f4e58b8e1dc%22%20style%3D%22width%3A%20100.0%25%3B%20height%3A%20100.0%25%3B%22%3EBenton%3C/div%3E%60%29%5B0%5D%3B%0A%20%20%20%20%20%20%20%20%20%20%20%20popup_b5307ab8695c4228ac03cda2b99638b8.setContent%28html_95d9bc06bd094e0194b00f4e58b8e1dc%29%3B%0A%20%20%20%20%20%20%20%20%0A%0A%20%20%20%20%20%20%20%20circle_marker_4cbac1e757f245eabb3fa6c8548de1ba.bindPopup%28popup_b5307ab8695c4228ac03cda2b99638b8%29%0A%20%20%20%20%20%20%20%20%3B%0A%0A%20%20%20%20%20%20%20%20%0A%20%20%20%20%0A%20%20%20%20%0A%20%20%20%20%20%20%20%20%20%20%20%20var%20circle_marker_72f05b92ebd24f969599bd09c6e7a4c1%20%3D%20L.circleMarker%28%0A%20%20%20%20%20%20%20%20%20%20%20%20%20%20%20%20%5B47.8408323%2C%20-120.0168079%5D%2C%0A%20%20%20%20%20%20%20%20%20%20%20%20%20%20%20%20%7B%22bubblingMouseEvents%22%3A%20true%2C%20%22color%22%3A%20%22green%22%2C%20%22dashArray%22%3A%20null%2C%20%22dashOffset%22%3A%20null%2C%20%22fill%22%3A%20false%2C%20%22fillColor%22%3A%20%22green%22%2C%20%22fillOpacity%22%3A%200.2%2C%20%22fillRule%22%3A%20%22evenodd%22%2C%20%22lineCap%22%3A%20%22round%22%2C%20%22lineJoin%22%3A%20%22round%22%2C%20%22opacity%22%3A%201.0%2C%20%22radius%22%3A%201%2C%20%22stroke%22%3A%20true%2C%20%22weight%22%3A%203%7D%0A%20%20%20%20%20%20%20%20%20%20%20%20%29.addTo%28map_b0683b1b6eda4a649165f8152e11b377%29%3B%0A%20%20%20%20%20%20%20%20%0A%20%20%20%20%0A%20%20%20%20%20%20%20%20var%20popup_d0a27193843747069fa1ff3708fe3991%20%3D%20L.popup%28%7B%22maxWidth%22%3A%20%22100%25%22%7D%29%3B%0A%0A%20%20%20%20%20%20%20%20%0A%20%20%20%20%20%20%20%20%20%20%20%20var%20html_5ab86953923746bb86a4bcc63ccd4ec6%20%3D%20%24%28%60%3Cdiv%20id%3D%22html_5ab86953923746bb86a4bcc63ccd4ec6%22%20style%3D%22width%3A%20100.0%25%3B%20height%3A%20100.0%25%3B%22%3EChelan%3C/div%3E%60%29%5B0%5D%3B%0A%20%20%20%20%20%20%20%20%20%20%20%20popup_d0a27193843747069fa1ff3708fe3991.setContent%28html_5ab86953923746bb86a4bcc63ccd4ec6%29%3B%0A%20%20%20%20%20%20%20%20%0A%0A%20%20%20%20%20%20%20%20circle_marker_72f05b92ebd24f969599bd09c6e7a4c1.bindPopup%28popup_d0a27193843747069fa1ff3708fe3991%29%0A%20%20%20%20%20%20%20%20%3B%0A%0A%20%20%20%20%20%20%20%20%0A%20%20%20%20%0A%20%20%20%20%0A%20%20%20%20%20%20%20%20%20%20%20%20var%20circle_marker_151dda380d474f329b02a2a49a98fdf0%20%3D%20L.circleMarker%28%0A%20%20%20%20%20%20%20%20%20%20%20%20%20%20%20%20%5B48.0405122%2C%20-124.016766%5D%2C%0A%20%20%20%20%20%20%20%20%20%20%20%20%20%20%20%20%7B%22bubblingMouseEvents%22%3A%20true%2C%20%22color%22%3A%20%22green%22%2C%20%22dashArray%22%3A%20null%2C%20%22dashOffset%22%3A%20null%2C%20%22fill%22%3A%20false%2C%20%22fillColor%22%3A%20%22green%22%2C%20%22fillOpacity%22%3A%200.2%2C%20%22fillRule%22%3A%20%22evenodd%22%2C%20%22lineCap%22%3A%20%22round%22%2C%20%22lineJoin%22%3A%20%22round%22%2C%20%22opacity%22%3A%201.0%2C%20%22radius%22%3A%201%2C%20%22stroke%22%3A%20true%2C%20%22weight%22%3A%203%7D%0A%20%20%20%20%20%20%20%20%20%20%20%20%29.addTo%28map_b0683b1b6eda4a649165f8152e11b377%29%3B%0A%20%20%20%20%20%20%20%20%0A%20%20%20%20%0A%20%20%20%20%20%20%20%20var%20popup_0e47189c31c845cfb710af3fa406506b%20%3D%20L.popup%28%7B%22maxWidth%22%3A%20%22100%25%22%7D%29%3B%0A%0A%20%20%20%20%20%20%20%20%0A%20%20%20%20%20%20%20%20%20%20%20%20var%20html_f341276111ff47f7901a9ad3597069d0%20%3D%20%24%28%60%3Cdiv%20id%3D%22html_f341276111ff47f7901a9ad3597069d0%22%20style%3D%22width%3A%20100.0%25%3B%20height%3A%20100.0%25%3B%22%3EClallam%3C/div%3E%60%29%5B0%5D%3B%0A%20%20%20%20%20%20%20%20%20%20%20%20popup_0e47189c31c845cfb710af3fa406506b.setContent%28html_f341276111ff47f7901a9ad3597069d0%29%3B%0A%20%20%20%20%20%20%20%20%0A%0A%20%20%20%20%20%20%20%20circle_marker_151dda380d474f329b02a2a49a98fdf0.bindPopup%28popup_0e47189c31c845cfb710af3fa406506b%29%0A%20%20%20%20%20%20%20%20%3B%0A%0A%20%20%20%20%20%20%20%20%0A%20%20%20%20%0A%20%20%20%20%0A%20%20%20%20%20%20%20%20%20%20%20%20var%20circle_marker_34fda30d0cac4ad1b16c3411a1432566%20%3D%20L.circleMarker%28%0A%20%20%20%20%20%20%20%20%20%20%20%20%20%20%20%20%5B37.223312%2C%20-95.7021936%5D%2C%0A%20%20%20%20%20%20%20%20%20%20%20%20%20%20%20%20%7B%22bubblingMouseEvents%22%3A%20true%2C%20%22color%22%3A%20%22green%22%2C%20%22dashArray%22%3A%20null%2C%20%22dashOffset%22%3A%20null%2C%20%22fill%22%3A%20false%2C%20%22fillColor%22%3A%20%22green%22%2C%20%22fillOpacity%22%3A%200.2%2C%20%22fillRule%22%3A%20%22evenodd%22%2C%20%22lineCap%22%3A%20%22round%22%2C%20%22lineJoin%22%3A%20%22round%22%2C%20%22opacity%22%3A%201.0%2C%20%22radius%22%3A%201%2C%20%22stroke%22%3A%20true%2C%20%22weight%22%3A%203%7D%0A%20%20%20%20%20%20%20%20%20%20%20%20%29.addTo%28map_b0683b1b6eda4a649165f8152e11b377%29%3B%0A%20%20%20%20%20%20%20%20%0A%20%20%20%20%0A%20%20%20%20%20%20%20%20var%20popup_c8d2578dbb3748c7b64d87747670f317%20%3D%20L.popup%28%7B%22maxWidth%22%3A%20%22100%25%22%7D%29%3B%0A%0A%20%20%20%20%20%20%20%20%0A%20%20%20%20%20%20%20%20%20%20%20%20var%20html_113d8918ea9548e3b65feadd9e944ff8%20%3D%20%24%28%60%3Cdiv%20id%3D%22html_113d8918ea9548e3b65feadd9e944ff8%22%20style%3D%22width%3A%20100.0%25%3B%20height%3A%20100.0%25%3B%22%3EClark%3C/div%3E%60%29%5B0%5D%3B%0A%20%20%20%20%20%20%20%20%20%20%20%20popup_c8d2578dbb3748c7b64d87747670f317.setContent%28html_113d8918ea9548e3b65feadd9e944ff8%29%3B%0A%20%20%20%20%20%20%20%20%0A%0A%20%20%20%20%20%20%20%20circle_marker_34fda30d0cac4ad1b16c3411a1432566.bindPopup%28popup_c8d2578dbb3748c7b64d87747670f317%29%0A%20%20%20%20%20%20%20%20%3B%0A%0A%20%20%20%20%20%20%20%20%0A%20%20%20%20%0A%20%20%20%20%0A%20%20%20%20%20%20%20%20%20%20%20%20var%20circle_marker_3ccc8c39e9d741d3be03e25d860d7c11%20%3D%20L.circleMarker%28%0A%20%20%20%20%20%20%20%20%20%20%20%20%20%20%20%20%5B46.9953526%2C%20-123.7012468%5D%2C%0A%20%20%20%20%20%20%20%20%20%20%20%20%20%20%20%20%7B%22bubblingMouseEvents%22%3A%20true%2C%20%22color%22%3A%20%22green%22%2C%20%22dashArray%22%3A%20null%2C%20%22dashOffset%22%3A%20null%2C%20%22fill%22%3A%20false%2C%20%22fillColor%22%3A%20%22green%22%2C%20%22fillOpacity%22%3A%200.2%2C%20%22fillRule%22%3A%20%22evenodd%22%2C%20%22lineCap%22%3A%20%22round%22%2C%20%22lineJoin%22%3A%20%22round%22%2C%20%22opacity%22%3A%201.0%2C%20%22radius%22%3A%201%2C%20%22stroke%22%3A%20true%2C%20%22weight%22%3A%203%7D%0A%20%20%20%20%20%20%20%20%20%20%20%20%29.addTo%28map_b0683b1b6eda4a649165f8152e11b377%29%3B%0A%20%20%20%20%20%20%20%20%0A%20%20%20%20%0A%20%20%20%20%20%20%20%20var%20popup_616bc18bf2fa40c087e8ddb5af6e7d79%20%3D%20L.popup%28%7B%22maxWidth%22%3A%20%22100%25%22%7D%29%3B%0A%0A%20%20%20%20%20%20%20%20%0A%20%20%20%20%20%20%20%20%20%20%20%20var%20html_4f0cecd184dd4366a3e8e6e8dc2596a7%20%3D%20%24%28%60%3Cdiv%20id%3D%22html_4f0cecd184dd4366a3e8e6e8dc2596a7%22%20style%3D%22width%3A%20100.0%25%3B%20height%3A%20100.0%25%3B%22%3EGrays%20Harbor%3C/div%3E%60%29%5B0%5D%3B%0A%20%20%20%20%20%20%20%20%20%20%20%20popup_616bc18bf2fa40c087e8ddb5af6e7d79.setContent%28html_4f0cecd184dd4366a3e8e6e8dc2596a7%29%3B%0A%20%20%20%20%20%20%20%20%0A%0A%20%20%20%20%20%20%20%20circle_marker_3ccc8c39e9d741d3be03e25d860d7c11.bindPopup%28popup_616bc18bf2fa40c087e8ddb5af6e7d79%29%0A%20%20%20%20%20%20%20%20%3B%0A%0A%20%20%20%20%20%20%20%20%0A%20%20%20%20%0A%20%20%20%20%0A%20%20%20%20%20%20%20%20%20%20%20%20var%20circle_marker_6287575074f442129f621232252f0b83%20%3D%20L.circleMarker%28%0A%20%20%20%20%20%20%20%20%20%20%20%20%20%20%20%20%5B37.1095843%2C%20-95.7625713%5D%2C%0A%20%20%20%20%20%20%20%20%20%20%20%20%20%20%20%20%7B%22bubblingMouseEvents%22%3A%20true%2C%20%22color%22%3A%20%22green%22%2C%20%22dashArray%22%3A%20null%2C%20%22dashOffset%22%3A%20null%2C%20%22fill%22%3A%20false%2C%20%22fillColor%22%3A%20%22green%22%2C%20%22fillOpacity%22%3A%200.2%2C%20%22fillRule%22%3A%20%22evenodd%22%2C%20%22lineCap%22%3A%20%22round%22%2C%20%22lineJoin%22%3A%20%22round%22%2C%20%22opacity%22%3A%201.0%2C%20%22radius%22%3A%201%2C%20%22stroke%22%3A%20true%2C%20%22weight%22%3A%203%7D%0A%20%20%20%20%20%20%20%20%20%20%20%20%29.addTo%28map_b0683b1b6eda4a649165f8152e11b377%29%3B%0A%20%20%20%20%20%20%20%20%0A%20%20%20%20%0A%20%20%20%20%20%20%20%20var%20popup_81cc28284b3d402d8b2acd7f08a069b7%20%3D%20L.popup%28%7B%22maxWidth%22%3A%20%22100%25%22%7D%29%3B%0A%0A%20%20%20%20%20%20%20%20%0A%20%20%20%20%20%20%20%20%20%20%20%20var%20html_7a3c7db535584ae89207c35c33775e7b%20%3D%20%24%28%60%3Cdiv%20id%3D%22html_7a3c7db535584ae89207c35c33775e7b%22%20style%3D%22width%3A%20100.0%25%3B%20height%3A%20100.0%25%3B%22%3EJefferson%3C/div%3E%60%29%5B0%5D%3B%0A%20%20%20%20%20%20%20%20%20%20%20%20popup_81cc28284b3d402d8b2acd7f08a069b7.setContent%28html_7a3c7db535584ae89207c35c33775e7b%29%3B%0A%20%20%20%20%20%20%20%20%0A%0A%20%20%20%20%20%20%20%20circle_marker_6287575074f442129f621232252f0b83.bindPopup%28popup_81cc28284b3d402d8b2acd7f08a069b7%29%0A%20%20%20%20%20%20%20%20%3B%0A%0A%20%20%20%20%20%20%20%20%0A%20%20%20%20%0A%20%20%20%20%0A%20%20%20%20%20%20%20%20%20%20%20%20var%20circle_marker_d109861174134aeaaabfb092910da89e%20%3D%20L.circleMarker%28%0A%20%20%20%20%20%20%20%20%20%20%20%20%20%20%20%20%5B37.0373074%2C%20-95.6163664%5D%2C%0A%20%20%20%20%20%20%20%20%20%20%20%20%20%20%20%20%7B%22bubblingMouseEvents%22%3A%20true%2C%20%22color%22%3A%20%22orange%22%2C%20%22dashArray%22%3A%20null%2C%20%22dashOffset%22%3A%20null%2C%20%22fill%22%3A%20false%2C%20%22fillColor%22%3A%20%22orange%22%2C%20%22fillOpacity%22%3A%200.2%2C%20%22fillRule%22%3A%20%22evenodd%22%2C%20%22lineCap%22%3A%20%22round%22%2C%20%22lineJoin%22%3A%20%22round%22%2C%20%22opacity%22%3A%201.0%2C%20%22radius%22%3A%201%2C%20%22stroke%22%3A%20true%2C%20%22weight%22%3A%203%7D%0A%20%20%20%20%20%20%20%20%20%20%20%20%29.addTo%28map_b0683b1b6eda4a649165f8152e11b377%29%3B%0A%20%20%20%20%20%20%20%20%0A%20%20%20%20%0A%20%20%20%20%20%20%20%20var%20popup_43cbf60bbc3449bd8c0e03d7f310e4fb%20%3D%20L.popup%28%7B%22maxWidth%22%3A%20%22100%25%22%7D%29%3B%0A%0A%20%20%20%20%20%20%20%20%0A%20%20%20%20%20%20%20%20%20%20%20%20var%20html_854c9c591d574b85a5d0da4dd08776eb%20%3D%20%24%28%60%3Cdiv%20id%3D%22html_854c9c591d574b85a5d0da4dd08776eb%22%20style%3D%22width%3A%20100.0%25%3B%20height%3A%20100.0%25%3B%22%3EKing%3C/div%3E%60%29%5B0%5D%3B%0A%20%20%20%20%20%20%20%20%20%20%20%20popup_43cbf60bbc3449bd8c0e03d7f310e4fb.setContent%28html_854c9c591d574b85a5d0da4dd08776eb%29%3B%0A%20%20%20%20%20%20%20%20%0A%0A%20%20%20%20%20%20%20%20circle_marker_d109861174134aeaaabfb092910da89e.bindPopup%28popup_43cbf60bbc3449bd8c0e03d7f310e4fb%29%0A%20%20%20%20%20%20%20%20%3B%0A%0A%20%20%20%20%20%20%20%20%0A%20%20%20%20%0A%20%20%20%20%0A%20%20%20%20%20%20%20%20%20%20%20%20var%20circle_marker_6a357c3d0a50409ba2128485936b1c2a%20%3D%20L.circleMarker%28%0A%20%20%20%20%20%20%20%20%20%20%20%20%20%20%20%20%5B47.6476607%2C%20-122.6412583%5D%2C%0A%20%20%20%20%20%20%20%20%20%20%20%20%20%20%20%20%7B%22bubblingMouseEvents%22%3A%20true%2C%20%22color%22%3A%20%22green%22%2C%20%22dashArray%22%3A%20null%2C%20%22dashOffset%22%3A%20null%2C%20%22fill%22%3A%20false%2C%20%22fillColor%22%3A%20%22green%22%2C%20%22fillOpacity%22%3A%200.2%2C%20%22fillRule%22%3A%20%22evenodd%22%2C%20%22lineCap%22%3A%20%22round%22%2C%20%22lineJoin%22%3A%20%22round%22%2C%20%22opacity%22%3A%201.0%2C%20%22radius%22%3A%201%2C%20%22stroke%22%3A%20true%2C%20%22weight%22%3A%203%7D%0A%20%20%20%20%20%20%20%20%20%20%20%20%29.addTo%28map_b0683b1b6eda4a649165f8152e11b377%29%3B%0A%20%20%20%20%20%20%20%20%0A%20%20%20%20%0A%20%20%20%20%20%20%20%20var%20popup_e25a9c2bfef848fb92a3c79416451c29%20%3D%20L.popup%28%7B%22maxWidth%22%3A%20%22100%25%22%7D%29%3B%0A%0A%20%20%20%20%20%20%20%20%0A%20%20%20%20%20%20%20%20%20%20%20%20var%20html_9ec96c4d33ba40eaa2df4b76d8aeef21%20%3D%20%24%28%60%3Cdiv%20id%3D%22html_9ec96c4d33ba40eaa2df4b76d8aeef21%22%20style%3D%22width%3A%20100.0%25%3B%20height%3A%20100.0%25%3B%22%3EKitsap%3C/div%3E%60%29%5B0%5D%3B%0A%20%20%20%20%20%20%20%20%20%20%20%20popup_e25a9c2bfef848fb92a3c79416451c29.setContent%28html_9ec96c4d33ba40eaa2df4b76d8aeef21%29%3B%0A%20%20%20%20%20%20%20%20%0A%0A%20%20%20%20%20%20%20%20circle_marker_6a357c3d0a50409ba2128485936b1c2a.bindPopup%28popup_e25a9c2bfef848fb92a3c79416451c29%29%0A%20%20%20%20%20%20%20%20%3B%0A%0A%20%20%20%20%20%20%20%20%0A%20%20%20%20%0A%20%20%20%20%0A%20%20%20%20%20%20%20%20%20%20%20%20var%20circle_marker_d8570093182545e6965cda53467d71f0%20%3D%20L.circleMarker%28%0A%20%20%20%20%20%20%20%20%20%20%20%20%20%20%20%20%5B46.9831822%2C%20-120.4170102%5D%2C%0A%20%20%20%20%20%20%20%20%20%20%20%20%20%20%20%20%7B%22bubblingMouseEvents%22%3A%20true%2C%20%22color%22%3A%20%22green%22%2C%20%22dashArray%22%3A%20null%2C%20%22dashOffset%22%3A%20null%2C%20%22fill%22%3A%20false%2C%20%22fillColor%22%3A%20%22green%22%2C%20%22fillOpacity%22%3A%200.2%2C%20%22fillRule%22%3A%20%22evenodd%22%2C%20%22lineCap%22%3A%20%22round%22%2C%20%22lineJoin%22%3A%20%22round%22%2C%20%22opacity%22%3A%201.0%2C%20%22radius%22%3A%201%2C%20%22stroke%22%3A%20true%2C%20%22weight%22%3A%203%7D%0A%20%20%20%20%20%20%20%20%20%20%20%20%29.addTo%28map_b0683b1b6eda4a649165f8152e11b377%29%3B%0A%20%20%20%20%20%20%20%20%0A%20%20%20%20%0A%20%20%20%20%20%20%20%20var%20popup_4717f8abb7194632ad6b267552eb9f90%20%3D%20L.popup%28%7B%22maxWidth%22%3A%20%22100%25%22%7D%29%3B%0A%0A%20%20%20%20%20%20%20%20%0A%20%20%20%20%20%20%20%20%20%20%20%20var%20html_4c3a1c3bbd094bba8060f14fb297bf6c%20%3D%20%24%28%60%3Cdiv%20id%3D%22html_4c3a1c3bbd094bba8060f14fb297bf6c%22%20style%3D%22width%3A%20100.0%25%3B%20height%3A%20100.0%25%3B%22%3EKittitas%3C/div%3E%60%29%5B0%5D%3B%0A%20%20%20%20%20%20%20%20%20%20%20%20popup_4717f8abb7194632ad6b267552eb9f90.setContent%28html_4c3a1c3bbd094bba8060f14fb297bf6c%29%3B%0A%20%20%20%20%20%20%20%20%0A%0A%20%20%20%20%20%20%20%20circle_marker_d8570093182545e6965cda53467d71f0.bindPopup%28popup_4717f8abb7194632ad6b267552eb9f90%29%0A%20%20%20%20%20%20%20%20%3B%0A%0A%20%20%20%20%20%20%20%20%0A%20%20%20%20%0A%20%20%20%20%0A%20%20%20%20%20%20%20%20%20%20%20%20var%20circle_marker_fa915e6b3b5647de86b6bfa409fa7422%20%3D%20L.circleMarker%28%0A%20%20%20%20%20%20%20%20%20%20%20%20%20%20%20%20%5B45.8170668%2C%20-121.1525716%5D%2C%0A%20%20%20%20%20%20%20%20%20%20%20%20%20%20%20%20%7B%22bubblingMouseEvents%22%3A%20true%2C%20%22color%22%3A%20%22green%22%2C%20%22dashArray%22%3A%20null%2C%20%22dashOffset%22%3A%20null%2C%20%22fill%22%3A%20false%2C%20%22fillColor%22%3A%20%22green%22%2C%20%22fillOpacity%22%3A%200.2%2C%20%22fillRule%22%3A%20%22evenodd%22%2C%20%22lineCap%22%3A%20%22round%22%2C%20%22lineJoin%22%3A%20%22round%22%2C%20%22opacity%22%3A%201.0%2C%20%22radius%22%3A%201%2C%20%22stroke%22%3A%20true%2C%20%22weight%22%3A%203%7D%0A%20%20%20%20%20%20%20%20%20%20%20%20%29.addTo%28map_b0683b1b6eda4a649165f8152e11b377%29%3B%0A%20%20%20%20%20%20%20%20%0A%20%20%20%20%0A%20%20%20%20%20%20%20%20var%20popup_59d0d6e5dd4e4826a5bae07b8a0de282%20%3D%20L.popup%28%7B%22maxWidth%22%3A%20%22100%25%22%7D%29%3B%0A%0A%20%20%20%20%20%20%20%20%0A%20%20%20%20%20%20%20%20%20%20%20%20var%20html_a2b6106308a14aea91fa93517f95933c%20%3D%20%24%28%60%3Cdiv%20id%3D%22html_a2b6106308a14aea91fa93517f95933c%22%20style%3D%22width%3A%20100.0%25%3B%20height%3A%20100.0%25%3B%22%3EKlickitat%3C/div%3E%60%29%5B0%5D%3B%0A%20%20%20%20%20%20%20%20%20%20%20%20popup_59d0d6e5dd4e4826a5bae07b8a0de282.setContent%28html_a2b6106308a14aea91fa93517f95933c%29%3B%0A%20%20%20%20%20%20%20%20%0A%0A%20%20%20%20%20%20%20%20circle_marker_fa915e6b3b5647de86b6bfa409fa7422.bindPopup%28popup_59d0d6e5dd4e4826a5bae07b8a0de282%29%0A%20%20%20%20%20%20%20%20%3B%0A%0A%20%20%20%20%20%20%20%20%0A%20%20%20%20%0A%20%20%20%20%0A%20%20%20%20%20%20%20%20%20%20%20%20var%20circle_marker_eaa3550ef9cc4832815a58644f75a970%20%3D%20L.circleMarker%28%0A%20%20%20%20%20%20%20%20%20%20%20%20%20%20%20%20%5B37.2255965%2C%20-95.7162345%5D%2C%0A%20%20%20%20%20%20%20%20%20%20%20%20%20%20%20%20%7B%22bubblingMouseEvents%22%3A%20true%2C%20%22color%22%3A%20%22green%22%2C%20%22dashArray%22%3A%20null%2C%20%22dashOffset%22%3A%20null%2C%20%22fill%22%3A%20false%2C%20%22fillColor%22%3A%20%22green%22%2C%20%22fillOpacity%22%3A%200.2%2C%20%22fillRule%22%3A%20%22evenodd%22%2C%20%22lineCap%22%3A%20%22round%22%2C%20%22lineJoin%22%3A%20%22round%22%2C%20%22opacity%22%3A%201.0%2C%20%22radius%22%3A%201%2C%20%22stroke%22%3A%20true%2C%20%22weight%22%3A%203%7D%0A%20%20%20%20%20%20%20%20%20%20%20%20%29.addTo%28map_b0683b1b6eda4a649165f8152e11b377%29%3B%0A%20%20%20%20%20%20%20%20%0A%20%20%20%20%0A%20%20%20%20%20%20%20%20var%20popup_e68ccdddc468490186a3136f267b36aa%20%3D%20L.popup%28%7B%22maxWidth%22%3A%20%22100%25%22%7D%29%3B%0A%0A%20%20%20%20%20%20%20%20%0A%20%20%20%20%20%20%20%20%20%20%20%20var%20html_51c112ec072e4f22a3d1db87341ea3d4%20%3D%20%24%28%60%3Cdiv%20id%3D%22html_51c112ec072e4f22a3d1db87341ea3d4%22%20style%3D%22width%3A%20100.0%25%3B%20height%3A%20100.0%25%3B%22%3ELewis%3C/div%3E%60%29%5B0%5D%3B%0A%20%20%20%20%20%20%20%20%20%20%20%20popup_e68ccdddc468490186a3136f267b36aa.setContent%28html_51c112ec072e4f22a3d1db87341ea3d4%29%3B%0A%20%20%20%20%20%20%20%20%0A%0A%20%20%20%20%20%20%20%20circle_marker_eaa3550ef9cc4832815a58644f75a970.bindPopup%28popup_e68ccdddc468490186a3136f267b36aa%29%0A%20%20%20%20%20%20%20%20%3B%0A%0A%20%20%20%20%20%20%20%20%0A%20%20%20%20%0A%20%20%20%20%0A%20%20%20%20%20%20%20%20%20%20%20%20var%20circle_marker_55d1ef3aa6df4bb2b2eeeda150acc962%20%3D%20L.circleMarker%28%0A%20%20%20%20%20%20%20%20%20%20%20%20%20%20%20%20%5B39.3600586%2C%20-84.309939%5D%2C%0A%20%20%20%20%20%20%20%20%20%20%20%20%20%20%20%20%7B%22bubblingMouseEvents%22%3A%20true%2C%20%22color%22%3A%20%22green%22%2C%20%22dashArray%22%3A%20null%2C%20%22dashOffset%22%3A%20null%2C%20%22fill%22%3A%20false%2C%20%22fillColor%22%3A%20%22green%22%2C%20%22fillOpacity%22%3A%200.2%2C%20%22fillRule%22%3A%20%22evenodd%22%2C%20%22lineCap%22%3A%20%22round%22%2C%20%22lineJoin%22%3A%20%22round%22%2C%20%22opacity%22%3A%201.0%2C%20%22radius%22%3A%201%2C%20%22stroke%22%3A%20true%2C%20%22weight%22%3A%203%7D%0A%20%20%20%20%20%20%20%20%20%20%20%20%29.addTo%28map_b0683b1b6eda4a649165f8152e11b377%29%3B%0A%20%20%20%20%20%20%20%20%0A%20%20%20%20%0A%20%20%20%20%20%20%20%20var%20popup_becdd1de36f54d0a96306d3c251dec4d%20%3D%20L.popup%28%7B%22maxWidth%22%3A%20%22100%25%22%7D%29%3B%0A%0A%20%20%20%20%20%20%20%20%0A%20%20%20%20%20%20%20%20%20%20%20%20var%20html_95df233fd94f4d7386cbba8ab6dd6959%20%3D%20%24%28%60%3Cdiv%20id%3D%22html_95df233fd94f4d7386cbba8ab6dd6959%22%20style%3D%22width%3A%20100.0%25%3B%20height%3A%20100.0%25%3B%22%3EMason%3C/div%3E%60%29%5B0%5D%3B%0A%20%20%20%20%20%20%20%20%20%20%20%20popup_becdd1de36f54d0a96306d3c251dec4d.setContent%28html_95df233fd94f4d7386cbba8ab6dd6959%29%3B%0A%20%20%20%20%20%20%20%20%0A%0A%20%20%20%20%20%20%20%20circle_marker_55d1ef3aa6df4bb2b2eeeda150acc962.bindPopup%28popup_becdd1de36f54d0a96306d3c251dec4d%29%0A%20%20%20%20%20%20%20%20%3B%0A%0A%20%20%20%20%20%20%20%20%0A%20%20%20%20%0A%20%20%20%20%0A%20%20%20%20%20%20%20%20%20%20%20%20var%20circle_marker_2e830d213e1642faafb3748916a9f141%20%3D%20L.circleMarker%28%0A%20%20%20%20%20%20%20%20%20%20%20%20%20%20%20%20%5B48.361262%2C%20-119.5833869%5D%2C%0A%20%20%20%20%20%20%20%20%20%20%20%20%20%20%20%20%7B%22bubblingMouseEvents%22%3A%20true%2C%20%22color%22%3A%20%22green%22%2C%20%22dashArray%22%3A%20null%2C%20%22dashOffset%22%3A%20null%2C%20%22fill%22%3A%20false%2C%20%22fillColor%22%3A%20%22green%22%2C%20%22fillOpacity%22%3A%200.2%2C%20%22fillRule%22%3A%20%22evenodd%22%2C%20%22lineCap%22%3A%20%22round%22%2C%20%22lineJoin%22%3A%20%22round%22%2C%20%22opacity%22%3A%201.0%2C%20%22radius%22%3A%201%2C%20%22stroke%22%3A%20true%2C%20%22weight%22%3A%203%7D%0A%20%20%20%20%20%20%20%20%20%20%20%20%29.addTo%28map_b0683b1b6eda4a649165f8152e11b377%29%3B%0A%20%20%20%20%20%20%20%20%0A%20%20%20%20%0A%20%20%20%20%20%20%20%20var%20popup_1b97a479d29149b1a52a8d55474a7521%20%3D%20L.popup%28%7B%22maxWidth%22%3A%20%22100%25%22%7D%29%3B%0A%0A%20%20%20%20%20%20%20%20%0A%20%20%20%20%20%20%20%20%20%20%20%20var%20html_8f251dc09e374f13beb5b1be586441fa%20%3D%20%24%28%60%3Cdiv%20id%3D%22html_8f251dc09e374f13beb5b1be586441fa%22%20style%3D%22width%3A%20100.0%25%3B%20height%3A%20100.0%25%3B%22%3EOkanogan%3C/div%3E%60%29%5B0%5D%3B%0A%20%20%20%20%20%20%20%20%20%20%20%20popup_1b97a479d29149b1a52a8d55474a7521.setContent%28html_8f251dc09e374f13beb5b1be586441fa%29%3B%0A%20%20%20%20%20%20%20%20%0A%0A%20%20%20%20%20%20%20%20circle_marker_2e830d213e1642faafb3748916a9f141.bindPopup%28popup_1b97a479d29149b1a52a8d55474a7521%29%0A%20%20%20%20%20%20%20%20%3B%0A%0A%20%20%20%20%20%20%20%20%0A%20%20%20%20%0A%20%20%20%20%0A%20%20%20%20%20%20%20%20%20%20%20%20var%20circle_marker_c3e14e07806e46869e5f0d418f8cf847%20%3D%20L.circleMarker%28%0A%20%20%20%20%20%20%20%20%20%20%20%20%20%20%20%20%5B-8.783195%2C%20-124.508523%5D%2C%0A%20%20%20%20%20%20%20%20%20%20%20%20%20%20%20%20%7B%22bubblingMouseEvents%22%3A%20true%2C%20%22color%22%3A%20%22green%22%2C%20%22dashArray%22%3A%20null%2C%20%22dashOffset%22%3A%20null%2C%20%22fill%22%3A%20false%2C%20%22fillColor%22%3A%20%22green%22%2C%20%22fillOpacity%22%3A%200.2%2C%20%22fillRule%22%3A%20%22evenodd%22%2C%20%22lineCap%22%3A%20%22round%22%2C%20%22lineJoin%22%3A%20%22round%22%2C%20%22opacity%22%3A%201.0%2C%20%22radius%22%3A%201%2C%20%22stroke%22%3A%20true%2C%20%22weight%22%3A%203%7D%0A%20%20%20%20%20%20%20%20%20%20%20%20%29.addTo%28map_b0683b1b6eda4a649165f8152e11b377%29%3B%0A%20%20%20%20%20%20%20%20%0A%20%20%20%20%0A%20%20%20%20%20%20%20%20var%20popup_adef48ca04364192853822d56fef5111%20%3D%20L.popup%28%7B%22maxWidth%22%3A%20%22100%25%22%7D%29%3B%0A%0A%20%20%20%20%20%20%20%20%0A%20%20%20%20%20%20%20%20%20%20%20%20var%20html_f3bb6f899c604316a9a7b0ab69cf374f%20%3D%20%24%28%60%3Cdiv%20id%3D%22html_f3bb6f899c604316a9a7b0ab69cf374f%22%20style%3D%22width%3A%20100.0%25%3B%20height%3A%20100.0%25%3B%22%3EPacific%3C/div%3E%60%29%5B0%5D%3B%0A%20%20%20%20%20%20%20%20%20%20%20%20popup_adef48ca04364192853822d56fef5111.setContent%28html_f3bb6f899c604316a9a7b0ab69cf374f%29%3B%0A%20%20%20%20%20%20%20%20%0A%0A%20%20%20%20%20%20%20%20circle_marker_c3e14e07806e46869e5f0d418f8cf847.bindPopup%28popup_adef48ca04364192853822d56fef5111%29%0A%20%20%20%20%20%20%20%20%3B%0A%0A%20%20%20%20%20%20%20%20%0A%20%20%20%20%0A%20%20%20%20%0A%20%20%20%20%20%20%20%20%20%20%20%20var%20circle_marker_c8469711b96249acbc14c189e073df2e%20%3D%20L.circleMarker%28%0A%20%20%20%20%20%20%20%20%20%20%20%20%20%20%20%20%5B34.1844597%2C%20-118.5791524%5D%2C%0A%20%20%20%20%20%20%20%20%20%20%20%20%20%20%20%20%7B%22bubblingMouseEvents%22%3A%20true%2C%20%22color%22%3A%20%22blue%22%2C%20%22dashArray%22%3A%20null%2C%20%22dashOffset%22%3A%20null%2C%20%22fill%22%3A%20false%2C%20%22fillColor%22%3A%20%22blue%22%2C%20%22fillOpacity%22%3A%200.2%2C%20%22fillRule%22%3A%20%22evenodd%22%2C%20%22lineCap%22%3A%20%22round%22%2C%20%22lineJoin%22%3A%20%22round%22%2C%20%22opacity%22%3A%201.0%2C%20%22radius%22%3A%201%2C%20%22stroke%22%3A%20true%2C%20%22weight%22%3A%203%7D%0A%20%20%20%20%20%20%20%20%20%20%20%20%29.addTo%28map_b0683b1b6eda4a649165f8152e11b377%29%3B%0A%20%20%20%20%20%20%20%20%0A%20%20%20%20%0A%20%20%20%20%20%20%20%20var%20popup_320ef2674b3547b88c1142d82a011eb7%20%3D%20L.popup%28%7B%22maxWidth%22%3A%20%22100%25%22%7D%29%3B%0A%0A%20%20%20%20%20%20%20%20%0A%20%20%20%20%20%20%20%20%20%20%20%20var%20html_3605bd76f9404369b054dba8f9232e5a%20%3D%20%24%28%60%3Cdiv%20id%3D%22html_3605bd76f9404369b054dba8f9232e5a%22%20style%3D%22width%3A%20100.0%25%3B%20height%3A%20100.0%25%3B%22%3EPierce%3C/div%3E%60%29%5B0%5D%3B%0A%20%20%20%20%20%20%20%20%20%20%20%20popup_320ef2674b3547b88c1142d82a011eb7.setContent%28html_3605bd76f9404369b054dba8f9232e5a%29%3B%0A%20%20%20%20%20%20%20%20%0A%0A%20%20%20%20%20%20%20%20circle_marker_c8469711b96249acbc14c189e073df2e.bindPopup%28popup_320ef2674b3547b88c1142d82a011eb7%29%0A%20%20%20%20%20%20%20%20%3B%0A%0A%20%20%20%20%20%20%20%20%0A%20%20%20%20%0A%20%20%20%20%0A%20%20%20%20%20%20%20%20%20%20%20%20var%20circle_marker_98a15f32699841da98e32baca98411a0%20%3D%20L.circleMarker%28%0A%20%20%20%20%20%20%20%20%20%20%20%20%20%20%20%20%5B18.4655394%2C%20-66.1057355%5D%2C%0A%20%20%20%20%20%20%20%20%20%20%20%20%20%20%20%20%7B%22bubblingMouseEvents%22%3A%20true%2C%20%22color%22%3A%20%22green%22%2C%20%22dashArray%22%3A%20null%2C%20%22dashOffset%22%3A%20null%2C%20%22fill%22%3A%20false%2C%20%22fillColor%22%3A%20%22green%22%2C%20%22fillOpacity%22%3A%200.2%2C%20%22fillRule%22%3A%20%22evenodd%22%2C%20%22lineCap%22%3A%20%22round%22%2C%20%22lineJoin%22%3A%20%22round%22%2C%20%22opacity%22%3A%201.0%2C%20%22radius%22%3A%201%2C%20%22stroke%22%3A%20true%2C%20%22weight%22%3A%203%7D%0A%20%20%20%20%20%20%20%20%20%20%20%20%29.addTo%28map_b0683b1b6eda4a649165f8152e11b377%29%3B%0A%20%20%20%20%20%20%20%20%0A%20%20%20%20%0A%20%20%20%20%20%20%20%20var%20popup_fde41fbaff1f4ae39c0edfd1259bdb21%20%3D%20L.popup%28%7B%22maxWidth%22%3A%20%22100%25%22%7D%29%3B%0A%0A%20%20%20%20%20%20%20%20%0A%20%20%20%20%20%20%20%20%20%20%20%20var%20html_eb574fdd211c4b6283adeb7593f006a8%20%3D%20%24%28%60%3Cdiv%20id%3D%22html_eb574fdd211c4b6283adeb7593f006a8%22%20style%3D%22width%3A%20100.0%25%3B%20height%3A%20100.0%25%3B%22%3ESan%20Juan%3C/div%3E%60%29%5B0%5D%3B%0A%20%20%20%20%20%20%20%20%20%20%20%20popup_fde41fbaff1f4ae39c0edfd1259bdb21.setContent%28html_eb574fdd211c4b6283adeb7593f006a8%29%3B%0A%20%20%20%20%20%20%20%20%0A%0A%20%20%20%20%20%20%20%20circle_marker_98a15f32699841da98e32baca98411a0.bindPopup%28popup_fde41fbaff1f4ae39c0edfd1259bdb21%29%0A%20%20%20%20%20%20%20%20%3B%0A%0A%20%20%20%20%20%20%20%20%0A%20%20%20%20%0A%20%20%20%20%0A%20%20%20%20%20%20%20%20%20%20%20%20var%20circle_marker_8f9d611f11504aa28d55e2a4118119eb%20%3D%20L.circleMarker%28%0A%20%20%20%20%20%20%20%20%20%20%20%20%20%20%20%20%5B48.4241961%2C%20-121.7114362%5D%2C%0A%20%20%20%20%20%20%20%20%20%20%20%20%20%20%20%20%7B%22bubblingMouseEvents%22%3A%20true%2C%20%22color%22%3A%20%22green%22%2C%20%22dashArray%22%3A%20null%2C%20%22dashOffset%22%3A%20null%2C%20%22fill%22%3A%20false%2C%20%22fillColor%22%3A%20%22green%22%2C%20%22fillOpacity%22%3A%200.2%2C%20%22fillRule%22%3A%20%22evenodd%22%2C%20%22lineCap%22%3A%20%22round%22%2C%20%22lineJoin%22%3A%20%22round%22%2C%20%22opacity%22%3A%201.0%2C%20%22radius%22%3A%201%2C%20%22stroke%22%3A%20true%2C%20%22weight%22%3A%203%7D%0A%20%20%20%20%20%20%20%20%20%20%20%20%29.addTo%28map_b0683b1b6eda4a649165f8152e11b377%29%3B%0A%20%20%20%20%20%20%20%20%0A%20%20%20%20%0A%20%20%20%20%20%20%20%20var%20popup_7714299e1d854ae9a0791cf36bd0f3ce%20%3D%20L.popup%28%7B%22maxWidth%22%3A%20%22100%25%22%7D%29%3B%0A%0A%20%20%20%20%20%20%20%20%0A%20%20%20%20%20%20%20%20%20%20%20%20var%20html_28c7d1c43231406396b0603a3e95d928%20%3D%20%24%28%60%3Cdiv%20id%3D%22html_28c7d1c43231406396b0603a3e95d928%22%20style%3D%22width%3A%20100.0%25%3B%20height%3A%20100.0%25%3B%22%3ESkagit%3C/div%3E%60%29%5B0%5D%3B%0A%20%20%20%20%20%20%20%20%20%20%20%20popup_7714299e1d854ae9a0791cf36bd0f3ce.setContent%28html_28c7d1c43231406396b0603a3e95d928%29%3B%0A%20%20%20%20%20%20%20%20%0A%0A%20%20%20%20%20%20%20%20circle_marker_8f9d611f11504aa28d55e2a4118119eb.bindPopup%28popup_7714299e1d854ae9a0791cf36bd0f3ce%29%0A%20%20%20%20%20%20%20%20%3B%0A%0A%20%20%20%20%20%20%20%20%0A%20%20%20%20%0A%20%20%20%20%0A%20%20%20%20%20%20%20%20%20%20%20%20var%20circle_marker_800eb4ff0c1d450994477670cdce131d%20%3D%20L.circleMarker%28%0A%20%20%20%20%20%20%20%20%20%20%20%20%20%20%20%20%5B45.6176095%2C%20-122.0488678%5D%2C%0A%20%20%20%20%20%20%20%20%20%20%20%20%20%20%20%20%7B%22bubblingMouseEvents%22%3A%20true%2C%20%22color%22%3A%20%22green%22%2C%20%22dashArray%22%3A%20null%2C%20%22dashOffset%22%3A%20null%2C%20%22fill%22%3A%20false%2C%20%22fillColor%22%3A%20%22green%22%2C%20%22fillOpacity%22%3A%200.2%2C%20%22fillRule%22%3A%20%22evenodd%22%2C%20%22lineCap%22%3A%20%22round%22%2C%20%22lineJoin%22%3A%20%22round%22%2C%20%22opacity%22%3A%201.0%2C%20%22radius%22%3A%201%2C%20%22stroke%22%3A%20true%2C%20%22weight%22%3A%203%7D%0A%20%20%20%20%20%20%20%20%20%20%20%20%29.addTo%28map_b0683b1b6eda4a649165f8152e11b377%29%3B%0A%20%20%20%20%20%20%20%20%0A%20%20%20%20%0A%20%20%20%20%20%20%20%20var%20popup_2570361c43e74b7abe88c735de818189%20%3D%20L.popup%28%7B%22maxWidth%22%3A%20%22100%25%22%7D%29%3B%0A%0A%20%20%20%20%20%20%20%20%0A%20%20%20%20%20%20%20%20%20%20%20%20var%20html_2ef1f24694b54c2fb3e59afb279fff76%20%3D%20%24%28%60%3Cdiv%20id%3D%22html_2ef1f24694b54c2fb3e59afb279fff76%22%20style%3D%22width%3A%20100.0%25%3B%20height%3A%20100.0%25%3B%22%3ESkamania%3C/div%3E%60%29%5B0%5D%3B%0A%20%20%20%20%20%20%20%20%20%20%20%20popup_2570361c43e74b7abe88c735de818189.setContent%28html_2ef1f24694b54c2fb3e59afb279fff76%29%3B%0A%20%20%20%20%20%20%20%20%0A%0A%20%20%20%20%20%20%20%20circle_marker_800eb4ff0c1d450994477670cdce131d.bindPopup%28popup_2570361c43e74b7abe88c735de818189%29%0A%20%20%20%20%20%20%20%20%3B%0A%0A%20%20%20%20%20%20%20%20%0A%20%20%20%20%0A%20%20%20%20%0A%20%20%20%20%20%20%20%20%20%20%20%20var%20circle_marker_7f33782b7e1248d9819ae62b340be220%20%3D%20L.circleMarker%28%0A%20%20%20%20%20%20%20%20%20%20%20%20%20%20%20%20%5B47.9128756%2C%20-122.0981847%5D%2C%0A%20%20%20%20%20%20%20%20%20%20%20%20%20%20%20%20%7B%22bubblingMouseEvents%22%3A%20true%2C%20%22color%22%3A%20%22green%22%2C%20%22dashArray%22%3A%20null%2C%20%22dashOffset%22%3A%20null%2C%20%22fill%22%3A%20false%2C%20%22fillColor%22%3A%20%22green%22%2C%20%22fillOpacity%22%3A%200.2%2C%20%22fillRule%22%3A%20%22evenodd%22%2C%20%22lineCap%22%3A%20%22round%22%2C%20%22lineJoin%22%3A%20%22round%22%2C%20%22opacity%22%3A%201.0%2C%20%22radius%22%3A%201%2C%20%22stroke%22%3A%20true%2C%20%22weight%22%3A%203%7D%0A%20%20%20%20%20%20%20%20%20%20%20%20%29.addTo%28map_b0683b1b6eda4a649165f8152e11b377%29%3B%0A%20%20%20%20%20%20%20%20%0A%20%20%20%20%0A%20%20%20%20%20%20%20%20var%20popup_86a90c9e336d4943a86663730e4e815d%20%3D%20L.popup%28%7B%22maxWidth%22%3A%20%22100%25%22%7D%29%3B%0A%0A%20%20%20%20%20%20%20%20%0A%20%20%20%20%20%20%20%20%20%20%20%20var%20html_42cf49973db74b699d8b753fc091ffb9%20%3D%20%24%28%60%3Cdiv%20id%3D%22html_42cf49973db74b699d8b753fc091ffb9%22%20style%3D%22width%3A%20100.0%25%3B%20height%3A%20100.0%25%3B%22%3ESnohomish%3C/div%3E%60%29%5B0%5D%3B%0A%20%20%20%20%20%20%20%20%20%20%20%20popup_86a90c9e336d4943a86663730e4e815d.setContent%28html_42cf49973db74b699d8b753fc091ffb9%29%3B%0A%20%20%20%20%20%20%20%20%0A%0A%20%20%20%20%20%20%20%20circle_marker_7f33782b7e1248d9819ae62b340be220.bindPopup%28popup_86a90c9e336d4943a86663730e4e815d%29%0A%20%20%20%20%20%20%20%20%3B%0A%0A%20%20%20%20%20%20%20%20%0A%20%20%20%20%0A%20%20%20%20%0A%20%20%20%20%20%20%20%20%20%20%20%20var%20circle_marker_417adfc6466540b6962423b6e2c7f2fd%20%3D%20L.circleMarker%28%0A%20%20%20%20%20%20%20%20%20%20%20%20%20%20%20%20%5B46.8645747%2C%20-122.7695986%5D%2C%0A%20%20%20%20%20%20%20%20%20%20%20%20%20%20%20%20%7B%22bubblingMouseEvents%22%3A%20true%2C%20%22color%22%3A%20%22green%22%2C%20%22dashArray%22%3A%20null%2C%20%22dashOffset%22%3A%20null%2C%20%22fill%22%3A%20false%2C%20%22fillColor%22%3A%20%22green%22%2C%20%22fillOpacity%22%3A%200.2%2C%20%22fillRule%22%3A%20%22evenodd%22%2C%20%22lineCap%22%3A%20%22round%22%2C%20%22lineJoin%22%3A%20%22round%22%2C%20%22opacity%22%3A%201.0%2C%20%22radius%22%3A%201%2C%20%22stroke%22%3A%20true%2C%20%22weight%22%3A%203%7D%0A%20%20%20%20%20%20%20%20%20%20%20%20%29.addTo%28map_b0683b1b6eda4a649165f8152e11b377%29%3B%0A%20%20%20%20%20%20%20%20%0A%20%20%20%20%0A%20%20%20%20%20%20%20%20var%20popup_08a92d1c06884ac29ce89bb343a2f808%20%3D%20L.popup%28%7B%22maxWidth%22%3A%20%22100%25%22%7D%29%3B%0A%0A%20%20%20%20%20%20%20%20%0A%20%20%20%20%20%20%20%20%20%20%20%20var%20html_88e2d0a854cb42c294bcbc5c67de8aa7%20%3D%20%24%28%60%3Cdiv%20id%3D%22html_88e2d0a854cb42c294bcbc5c67de8aa7%22%20style%3D%22width%3A%20100.0%25%3B%20height%3A%20100.0%25%3B%22%3EThurston%3C/div%3E%60%29%5B0%5D%3B%0A%20%20%20%20%20%20%20%20%20%20%20%20popup_08a92d1c06884ac29ce89bb343a2f808.setContent%28html_88e2d0a854cb42c294bcbc5c67de8aa7%29%3B%0A%20%20%20%20%20%20%20%20%0A%0A%20%20%20%20%20%20%20%20circle_marker_417adfc6466540b6962423b6e2c7f2fd.bindPopup%28popup_08a92d1c06884ac29ce89bb343a2f808%29%0A%20%20%20%20%20%20%20%20%3B%0A%0A%20%20%20%20%20%20%20%20%0A%20%20%20%20%0A%20%20%20%20%0A%20%20%20%20%20%20%20%20%20%20%20%20var%20circle_marker_30d6d12829234322ae0df8bd79c04891%20%3D%20L.circleMarker%28%0A%20%20%20%20%20%20%20%20%20%20%20%20%20%20%20%20%5B48.7946887%2C%20-122.4927431%5D%2C%0A%20%20%20%20%20%20%20%20%20%20%20%20%20%20%20%20%7B%22bubblingMouseEvents%22%3A%20true%2C%20%22color%22%3A%20%22green%22%2C%20%22dashArray%22%3A%20null%2C%20%22dashOffset%22%3A%20null%2C%20%22fill%22%3A%20false%2C%20%22fillColor%22%3A%20%22green%22%2C%20%22fillOpacity%22%3A%200.2%2C%20%22fillRule%22%3A%20%22evenodd%22%2C%20%22lineCap%22%3A%20%22round%22%2C%20%22lineJoin%22%3A%20%22round%22%2C%20%22opacity%22%3A%201.0%2C%20%22radius%22%3A%201%2C%20%22stroke%22%3A%20true%2C%20%22weight%22%3A%203%7D%0A%20%20%20%20%20%20%20%20%20%20%20%20%29.addTo%28map_b0683b1b6eda4a649165f8152e11b377%29%3B%0A%20%20%20%20%20%20%20%20%0A%20%20%20%20%0A%20%20%20%20%20%20%20%20var%20popup_45ea41d37f87478aa8e877446174b17a%20%3D%20L.popup%28%7B%22maxWidth%22%3A%20%22100%25%22%7D%29%3B%0A%0A%20%20%20%20%20%20%20%20%0A%20%20%20%20%20%20%20%20%20%20%20%20var%20html_fdab9216083a4aaea6e673a44a5f29ad%20%3D%20%24%28%60%3Cdiv%20id%3D%22html_fdab9216083a4aaea6e673a44a5f29ad%22%20style%3D%22width%3A%20100.0%25%3B%20height%3A%20100.0%25%3B%22%3EWhatcom%3C/div%3E%60%29%5B0%5D%3B%0A%20%20%20%20%20%20%20%20%20%20%20%20popup_45ea41d37f87478aa8e877446174b17a.setContent%28html_fdab9216083a4aaea6e673a44a5f29ad%29%3B%0A%20%20%20%20%20%20%20%20%0A%0A%20%20%20%20%20%20%20%20circle_marker_30d6d12829234322ae0df8bd79c04891.bindPopup%28popup_45ea41d37f87478aa8e877446174b17a%29%0A%20%20%20%20%20%20%20%20%3B%0A%0A%20%20%20%20%20%20%20%20%0A%20%20%20%20%0A%20%20%20%20%0A%20%20%20%20%20%20%20%20%20%20%20%20var%20circle_marker_198e616eaa774cd4832f6039e20224d4%20%3D%20L.circleMarker%28%0A%20%20%20%20%20%20%20%20%20%20%20%20%20%20%20%20%5B46.6020711%2C%20-120.5058987%5D%2C%0A%20%20%20%20%20%20%20%20%20%20%20%20%20%20%20%20%7B%22bubblingMouseEvents%22%3A%20true%2C%20%22color%22%3A%20%22green%22%2C%20%22dashArray%22%3A%20null%2C%20%22dashOffset%22%3A%20null%2C%20%22fill%22%3A%20false%2C%20%22fillColor%22%3A%20%22green%22%2C%20%22fillOpacity%22%3A%200.2%2C%20%22fillRule%22%3A%20%22evenodd%22%2C%20%22lineCap%22%3A%20%22round%22%2C%20%22lineJoin%22%3A%20%22round%22%2C%20%22opacity%22%3A%201.0%2C%20%22radius%22%3A%201%2C%20%22stroke%22%3A%20true%2C%20%22weight%22%3A%203%7D%0A%20%20%20%20%20%20%20%20%20%20%20%20%29.addTo%28map_b0683b1b6eda4a649165f8152e11b377%29%3B%0A%20%20%20%20%20%20%20%20%0A%20%20%20%20%0A%20%20%20%20%20%20%20%20var%20popup_906c795c98714977ac1d33fd7664bc91%20%3D%20L.popup%28%7B%22maxWidth%22%3A%20%22100%25%22%7D%29%3B%0A%0A%20%20%20%20%20%20%20%20%0A%20%20%20%20%20%20%20%20%20%20%20%20var%20html_26c167e94a5843d6994a0cd27d277ff2%20%3D%20%24%28%60%3Cdiv%20id%3D%22html_26c167e94a5843d6994a0cd27d277ff2%22%20style%3D%22width%3A%20100.0%25%3B%20height%3A%20100.0%25%3B%22%3EYakima%3C/div%3E%60%29%5B0%5D%3B%0A%20%20%20%20%20%20%20%20%20%20%20%20popup_906c795c98714977ac1d33fd7664bc91.setContent%28html_26c167e94a5843d6994a0cd27d277ff2%29%3B%0A%20%20%20%20%20%20%20%20%0A%0A%20%20%20%20%20%20%20%20circle_marker_198e616eaa774cd4832f6039e20224d4.bindPopup%28popup_906c795c98714977ac1d33fd7664bc91%29%0A%20%20%20%20%20%20%20%20%3B%0A%0A%20%20%20%20%20%20%20%20%0A%20%20%20%20%0A%3C/script%3E onload=\"this.contentDocument.open();this.contentDocument.write(    decodeURIComponent(this.getAttribute('data-html')));this.contentDocument.close();\" allowfullscreen webkitallowfullscreen mozallowfullscreen></iframe></div></div>"
      ],
      "text/plain": [
       "<folium.folium.Map at 0x12c5c9330>"
      ]
     },
     "execution_count": 24,
     "metadata": {},
     "output_type": "execute_result"
    }
   ],
   "source": [
    "m = folium.Map(location=[36.733300, -100.766700], zoom_start=4)\n",
    "tooltip = 'Click me!'\n",
    "\n",
    "def color(pop): \n",
    "    if pop in range(0,1000): \n",
    "        col = 'green'\n",
    "    elif pop in range(1001,4999): \n",
    "        col = 'blue'\n",
    "    elif pop in range(5000,10000): \n",
    "        col = 'orange'\n",
    "    else: \n",
    "        col='red'\n",
    "    return col \n",
    "\n",
    "population1940_1945['marker_color'] = [color(pop) for pop in population1940_1945['1940'].tolist()]\n",
    "\n",
    "for i in range(0,len(population1940_1945)):\n",
    "    folium.CircleMarker(\n",
    "        location = (population1940_1945.iloc[i]['Latitude'], population1940_1945.iloc[i]['Longitude']),\n",
    "        radius = 1,\n",
    "        popup = population1940_1945.iloc[i]['County'],\n",
    "        color = population1940_1945.iloc[i]['marker_color'],\n",
    "    ).add_to(m)\n",
    "m\n",
    "\n"
   ]
  },
  {
   "cell_type": "markdown",
   "metadata": {},
   "source": [
    "<!-- BEGIN QUESTION -->\n",
    "\n",
    "<div class=\"alert alert-block alert-info\">\n",
    "<b>Question 5a:</b> The two visualizations above map the same data, but do so in two different ways. What are the differences between the two maps? What does each visualization draw attention to and what does it obscure?\n",
    "</div>\n",
    "  \n",
    "<!--\n",
    "BEGIN QUESTION\n",
    "name: q5a\n",
    "points: 1\n",
    "manual: true\n",
    "-->"
   ]
  },
  {
   "cell_type": "markdown",
   "metadata": {},
   "source": [
    "**Answer:** YOUR ANSWER HERE "
   ]
  },
  {
   "cell_type": "markdown",
   "metadata": {
    "#student": false
   },
   "source": [
    "<!-- END QUESTION -->\n",
    "\n",
    "### Location of Detainees After the War\n",
    "\n",
    "This table shows the number of Japanese Americans in each county after the war. This data was self-reported by evacuees."
   ]
  },
  {
   "cell_type": "code",
   "execution_count": 26,
   "metadata": {
    "#student": false,
    "execution": {
     "iopub.execute_input": "2022-10-25T20:55:40.143655Z",
     "iopub.status.busy": "2022-10-25T20:55:40.143125Z",
     "iopub.status.idle": "2022-10-25T20:55:40.167752Z",
     "shell.execute_reply": "2022-10-25T20:55:40.166624Z",
     "shell.execute_reply.started": "2022-10-25T20:55:40.143622Z"
    },
    "tags": []
   },
   "outputs": [
    {
     "data": {
      "text/html": [
       "<div>\n",
       "<style scoped>\n",
       "    .dataframe tbody tr th:only-of-type {\n",
       "        vertical-align: middle;\n",
       "    }\n",
       "\n",
       "    .dataframe tbody tr th {\n",
       "        vertical-align: top;\n",
       "    }\n",
       "\n",
       "    .dataframe thead th {\n",
       "        text-align: right;\n",
       "    }\n",
       "</style>\n",
       "<table border=\"1\" class=\"dataframe\">\n",
       "  <thead>\n",
       "    <tr style=\"text-align: right;\">\n",
       "      <th></th>\n",
       "      <th>City</th>\n",
       "      <th>State</th>\n",
       "      <th>People</th>\n",
       "      <th>Latitude</th>\n",
       "      <th>Longitude</th>\n",
       "    </tr>\n",
       "  </thead>\n",
       "  <tbody>\n",
       "    <tr>\n",
       "      <th>0</th>\n",
       "      <td>Glendale</td>\n",
       "      <td>AZ</td>\n",
       "      <td>487.0</td>\n",
       "      <td>34.142508</td>\n",
       "      <td>-118.255075</td>\n",
       "    </tr>\n",
       "    <tr>\n",
       "      <th>1</th>\n",
       "      <td>Alameda</td>\n",
       "      <td>CA</td>\n",
       "      <td>211.0</td>\n",
       "      <td>37.779872</td>\n",
       "      <td>-122.282185</td>\n",
       "    </tr>\n",
       "    <tr>\n",
       "      <th>2</th>\n",
       "      <td>Berkely</td>\n",
       "      <td>CA</td>\n",
       "      <td>844.0</td>\n",
       "      <td>37.871523</td>\n",
       "      <td>-122.273042</td>\n",
       "    </tr>\n",
       "    <tr>\n",
       "      <th>3</th>\n",
       "      <td>Burbank</td>\n",
       "      <td>CA</td>\n",
       "      <td>228.0</td>\n",
       "      <td>34.180839</td>\n",
       "      <td>-118.308966</td>\n",
       "    </tr>\n",
       "    <tr>\n",
       "      <th>4</th>\n",
       "      <td>Dinuba</td>\n",
       "      <td>CA</td>\n",
       "      <td>201.0</td>\n",
       "      <td>36.543284</td>\n",
       "      <td>-119.387066</td>\n",
       "    </tr>\n",
       "  </tbody>\n",
       "</table>\n",
       "</div>"
      ],
      "text/plain": [
       "       City State  People   Latitude   Longitude\n",
       "0  Glendale    AZ   487.0  34.142508 -118.255075\n",
       "1   Alameda    CA   211.0  37.779872 -122.282185\n",
       "2   Berkely    CA   844.0  37.871523 -122.273042\n",
       "3   Burbank    CA   228.0  34.180839 -118.308966\n",
       "4    Dinuba    CA   201.0  36.543284 -119.387066"
      ]
     },
     "execution_count": 26,
     "metadata": {},
     "output_type": "execute_result"
    }
   ],
   "source": [
    "reloc_cities = pd.read_csv('data/RelocationDestinations_Cities_LL.csv')\n",
    "reloc_cities['People'] = reloc_cities['People'].astype(float)\n",
    "reloc_cities.head()"
   ]
  },
  {
   "cell_type": "markdown",
   "metadata": {
    "#student": false
   },
   "source": [
    "This table shows the number of Japanese-Americans in each county after the war. This data was self-reported by detainees.\n",
    "This map shows the cities that people relocated after the war. It allows us to visualize the extent people had to relocate from their original homes. We can see that a large population moved to the midwest (Chicago area) as well as the East Coast, Canada, and even Mexico City.\n"
   ]
  },
  {
   "cell_type": "code",
   "execution_count": 27,
   "metadata": {
    "#student": false,
    "execution": {
     "iopub.execute_input": "2022-10-25T20:55:41.549920Z",
     "iopub.status.busy": "2022-10-25T20:55:41.549138Z",
     "iopub.status.idle": "2022-10-25T20:55:41.866723Z",
     "shell.execute_reply": "2022-10-25T20:55:41.861997Z",
     "shell.execute_reply.started": "2022-10-25T20:55:41.549872Z"
    }
   },
   "outputs": [
    {
     "data": {
      "text/html": [
       "<div style=\"width:100%;\"><div style=\"position:relative;width:100%;height:0;padding-bottom:60%;\"><span style=\"color:#565656\">Make this Notebook Trusted to load map: File -> Trust Notebook</span><iframe src=\"about:blank\" style=\"position:absolute;width:100%;height:100%;left:0;top:0;border:none !important;\" data-html=%3C%21DOCTYPE%20html%3E%0A%3Chead%3E%20%20%20%20%0A%20%20%20%20%3Cmeta%20http-equiv%3D%22content-type%22%20content%3D%22text/html%3B%20charset%3DUTF-8%22%20/%3E%0A%20%20%20%20%0A%20%20%20%20%20%20%20%20%3Cscript%3E%0A%20%20%20%20%20%20%20%20%20%20%20%20L_NO_TOUCH%20%3D%20false%3B%0A%20%20%20%20%20%20%20%20%20%20%20%20L_DISABLE_3D%20%3D%20false%3B%0A%20%20%20%20%20%20%20%20%3C/script%3E%0A%20%20%20%20%0A%20%20%20%20%3Cstyle%3Ehtml%2C%20body%20%7Bwidth%3A%20100%25%3Bheight%3A%20100%25%3Bmargin%3A%200%3Bpadding%3A%200%3B%7D%3C/style%3E%0A%20%20%20%20%3Cstyle%3E%23map%20%7Bposition%3Aabsolute%3Btop%3A0%3Bbottom%3A0%3Bright%3A0%3Bleft%3A0%3B%7D%3C/style%3E%0A%20%20%20%20%3Cscript%20src%3D%22https%3A//cdn.jsdelivr.net/npm/leaflet%401.6.0/dist/leaflet.js%22%3E%3C/script%3E%0A%20%20%20%20%3Cscript%20src%3D%22https%3A//code.jquery.com/jquery-1.12.4.min.js%22%3E%3C/script%3E%0A%20%20%20%20%3Cscript%20src%3D%22https%3A//maxcdn.bootstrapcdn.com/bootstrap/3.2.0/js/bootstrap.min.js%22%3E%3C/script%3E%0A%20%20%20%20%3Cscript%20src%3D%22https%3A//cdnjs.cloudflare.com/ajax/libs/Leaflet.awesome-markers/2.0.2/leaflet.awesome-markers.js%22%3E%3C/script%3E%0A%20%20%20%20%3Clink%20rel%3D%22stylesheet%22%20href%3D%22https%3A//cdn.jsdelivr.net/npm/leaflet%401.6.0/dist/leaflet.css%22/%3E%0A%20%20%20%20%3Clink%20rel%3D%22stylesheet%22%20href%3D%22https%3A//maxcdn.bootstrapcdn.com/bootstrap/3.2.0/css/bootstrap.min.css%22/%3E%0A%20%20%20%20%3Clink%20rel%3D%22stylesheet%22%20href%3D%22https%3A//maxcdn.bootstrapcdn.com/bootstrap/3.2.0/css/bootstrap-theme.min.css%22/%3E%0A%20%20%20%20%3Clink%20rel%3D%22stylesheet%22%20href%3D%22https%3A//maxcdn.bootstrapcdn.com/font-awesome/4.6.3/css/font-awesome.min.css%22/%3E%0A%20%20%20%20%3Clink%20rel%3D%22stylesheet%22%20href%3D%22https%3A//cdnjs.cloudflare.com/ajax/libs/Leaflet.awesome-markers/2.0.2/leaflet.awesome-markers.css%22/%3E%0A%20%20%20%20%3Clink%20rel%3D%22stylesheet%22%20href%3D%22https%3A//cdn.jsdelivr.net/gh/python-visualization/folium/folium/templates/leaflet.awesome.rotate.min.css%22/%3E%0A%20%20%20%20%0A%20%20%20%20%20%20%20%20%20%20%20%20%3Cmeta%20name%3D%22viewport%22%20content%3D%22width%3Ddevice-width%2C%0A%20%20%20%20%20%20%20%20%20%20%20%20%20%20%20%20initial-scale%3D1.0%2C%20maximum-scale%3D1.0%2C%20user-scalable%3Dno%22%20/%3E%0A%20%20%20%20%20%20%20%20%20%20%20%20%3Cstyle%3E%0A%20%20%20%20%20%20%20%20%20%20%20%20%20%20%20%20%23map_9ccdc0a9479e4f9e93a22196f6a8d941%20%7B%0A%20%20%20%20%20%20%20%20%20%20%20%20%20%20%20%20%20%20%20%20position%3A%20relative%3B%0A%20%20%20%20%20%20%20%20%20%20%20%20%20%20%20%20%20%20%20%20width%3A%20100.0%25%3B%0A%20%20%20%20%20%20%20%20%20%20%20%20%20%20%20%20%20%20%20%20height%3A%20100.0%25%3B%0A%20%20%20%20%20%20%20%20%20%20%20%20%20%20%20%20%20%20%20%20left%3A%200.0%25%3B%0A%20%20%20%20%20%20%20%20%20%20%20%20%20%20%20%20%20%20%20%20top%3A%200.0%25%3B%0A%20%20%20%20%20%20%20%20%20%20%20%20%20%20%20%20%7D%0A%20%20%20%20%20%20%20%20%20%20%20%20%3C/style%3E%0A%20%20%20%20%20%20%20%20%0A%3C/head%3E%0A%3Cbody%3E%20%20%20%20%0A%20%20%20%20%0A%20%20%20%20%20%20%20%20%20%20%20%20%3Cdiv%20class%3D%22folium-map%22%20id%3D%22map_9ccdc0a9479e4f9e93a22196f6a8d941%22%20%3E%3C/div%3E%0A%20%20%20%20%20%20%20%20%0A%3C/body%3E%0A%3Cscript%3E%20%20%20%20%0A%20%20%20%20%0A%20%20%20%20%20%20%20%20%20%20%20%20var%20map_9ccdc0a9479e4f9e93a22196f6a8d941%20%3D%20L.map%28%0A%20%20%20%20%20%20%20%20%20%20%20%20%20%20%20%20%22map_9ccdc0a9479e4f9e93a22196f6a8d941%22%2C%0A%20%20%20%20%20%20%20%20%20%20%20%20%20%20%20%20%7B%0A%20%20%20%20%20%20%20%20%20%20%20%20%20%20%20%20%20%20%20%20center%3A%20%5B36.7333%2C%20-100.7667%5D%2C%0A%20%20%20%20%20%20%20%20%20%20%20%20%20%20%20%20%20%20%20%20crs%3A%20L.CRS.EPSG3857%2C%0A%20%20%20%20%20%20%20%20%20%20%20%20%20%20%20%20%20%20%20%20zoom%3A%204%2C%0A%20%20%20%20%20%20%20%20%20%20%20%20%20%20%20%20%20%20%20%20zoomControl%3A%20true%2C%0A%20%20%20%20%20%20%20%20%20%20%20%20%20%20%20%20%20%20%20%20preferCanvas%3A%20false%2C%0A%20%20%20%20%20%20%20%20%20%20%20%20%20%20%20%20%7D%0A%20%20%20%20%20%20%20%20%20%20%20%20%29%3B%0A%0A%20%20%20%20%20%20%20%20%20%20%20%20%0A%0A%20%20%20%20%20%20%20%20%0A%20%20%20%20%0A%20%20%20%20%20%20%20%20%20%20%20%20var%20tile_layer_8c84725f27a54528bbe12b74c9530c65%20%3D%20L.tileLayer%28%0A%20%20%20%20%20%20%20%20%20%20%20%20%20%20%20%20%22https%3A//%7Bs%7D.tile.openstreetmap.org/%7Bz%7D/%7Bx%7D/%7By%7D.png%22%2C%0A%20%20%20%20%20%20%20%20%20%20%20%20%20%20%20%20%7B%22attribution%22%3A%20%22Data%20by%20%5Cu0026copy%3B%20%5Cu003ca%20href%3D%5C%22http%3A//openstreetmap.org%5C%22%5Cu003eOpenStreetMap%5Cu003c/a%5Cu003e%2C%20under%20%5Cu003ca%20href%3D%5C%22http%3A//www.openstreetmap.org/copyright%5C%22%5Cu003eODbL%5Cu003c/a%5Cu003e.%22%2C%20%22detectRetina%22%3A%20false%2C%20%22maxNativeZoom%22%3A%2018%2C%20%22maxZoom%22%3A%2018%2C%20%22minZoom%22%3A%200%2C%20%22noWrap%22%3A%20false%2C%20%22opacity%22%3A%201%2C%20%22subdomains%22%3A%20%22abc%22%2C%20%22tms%22%3A%20false%7D%0A%20%20%20%20%20%20%20%20%20%20%20%20%29.addTo%28map_9ccdc0a9479e4f9e93a22196f6a8d941%29%3B%0A%20%20%20%20%20%20%20%20%0A%20%20%20%20%0A%20%20%20%20%20%20%20%20%20%20%20%20var%20circle_8eb0be87bfb3401a9aac7e2494f29628%20%3D%20L.circle%28%0A%20%20%20%20%20%20%20%20%20%20%20%20%20%20%20%20%5B34.1425078%2C%20-118.255075%5D%2C%0A%20%20%20%20%20%20%20%20%20%20%20%20%20%20%20%20%7B%22bubblingMouseEvents%22%3A%20true%2C%20%22color%22%3A%20%22blue%22%2C%20%22dashArray%22%3A%20null%2C%20%22dashOffset%22%3A%20null%2C%20%22fill%22%3A%20true%2C%20%22fillColor%22%3A%20%22red%22%2C%20%22fillOpacity%22%3A%200.2%2C%20%22fillRule%22%3A%20%22evenodd%22%2C%20%22lineCap%22%3A%20%22round%22%2C%20%22lineJoin%22%3A%20%22round%22%2C%20%22opacity%22%3A%201.0%2C%20%22radius%22%3A%205844.0%2C%20%22stroke%22%3A%20true%2C%20%22weight%22%3A%203%7D%0A%20%20%20%20%20%20%20%20%20%20%20%20%29.addTo%28map_9ccdc0a9479e4f9e93a22196f6a8d941%29%3B%0A%20%20%20%20%20%20%20%20%0A%20%20%20%20%0A%20%20%20%20%20%20%20%20var%20popup_265860e2b87e4ead9551987606d57dd7%20%3D%20L.popup%28%7B%22maxWidth%22%3A%20%22100%25%22%7D%29%3B%0A%0A%20%20%20%20%20%20%20%20%0A%20%20%20%20%20%20%20%20%20%20%20%20var%20html_1a129acea5d44267a607c507764d9164%20%3D%20%24%28%60%3Cdiv%20id%3D%22html_1a129acea5d44267a607c507764d9164%22%20style%3D%22width%3A%20100.0%25%3B%20height%3A%20100.0%25%3B%22%3EGlendale%3C/div%3E%60%29%5B0%5D%3B%0A%20%20%20%20%20%20%20%20%20%20%20%20popup_265860e2b87e4ead9551987606d57dd7.setContent%28html_1a129acea5d44267a607c507764d9164%29%3B%0A%20%20%20%20%20%20%20%20%0A%0A%20%20%20%20%20%20%20%20circle_8eb0be87bfb3401a9aac7e2494f29628.bindPopup%28popup_265860e2b87e4ead9551987606d57dd7%29%0A%20%20%20%20%20%20%20%20%3B%0A%0A%20%20%20%20%20%20%20%20%0A%20%20%20%20%0A%20%20%20%20%0A%20%20%20%20%20%20%20%20%20%20%20%20var%20circle_7477d8fc6ea745e2babfb86a172ba88d%20%3D%20L.circle%28%0A%20%20%20%20%20%20%20%20%20%20%20%20%20%20%20%20%5B37.7798721%2C%20-122.2821855%5D%2C%0A%20%20%20%20%20%20%20%20%20%20%20%20%20%20%20%20%7B%22bubblingMouseEvents%22%3A%20true%2C%20%22color%22%3A%20%22blue%22%2C%20%22dashArray%22%3A%20null%2C%20%22dashOffset%22%3A%20null%2C%20%22fill%22%3A%20true%2C%20%22fillColor%22%3A%20%22red%22%2C%20%22fillOpacity%22%3A%200.2%2C%20%22fillRule%22%3A%20%22evenodd%22%2C%20%22lineCap%22%3A%20%22round%22%2C%20%22lineJoin%22%3A%20%22round%22%2C%20%22opacity%22%3A%201.0%2C%20%22radius%22%3A%202532.0%2C%20%22stroke%22%3A%20true%2C%20%22weight%22%3A%203%7D%0A%20%20%20%20%20%20%20%20%20%20%20%20%29.addTo%28map_9ccdc0a9479e4f9e93a22196f6a8d941%29%3B%0A%20%20%20%20%20%20%20%20%0A%20%20%20%20%0A%20%20%20%20%20%20%20%20var%20popup_a936250b25b84f00ae5c26021251b733%20%3D%20L.popup%28%7B%22maxWidth%22%3A%20%22100%25%22%7D%29%3B%0A%0A%20%20%20%20%20%20%20%20%0A%20%20%20%20%20%20%20%20%20%20%20%20var%20html_1f8b97b9746443f3b900201edee0deb2%20%3D%20%24%28%60%3Cdiv%20id%3D%22html_1f8b97b9746443f3b900201edee0deb2%22%20style%3D%22width%3A%20100.0%25%3B%20height%3A%20100.0%25%3B%22%3EAlameda%3C/div%3E%60%29%5B0%5D%3B%0A%20%20%20%20%20%20%20%20%20%20%20%20popup_a936250b25b84f00ae5c26021251b733.setContent%28html_1f8b97b9746443f3b900201edee0deb2%29%3B%0A%20%20%20%20%20%20%20%20%0A%0A%20%20%20%20%20%20%20%20circle_7477d8fc6ea745e2babfb86a172ba88d.bindPopup%28popup_a936250b25b84f00ae5c26021251b733%29%0A%20%20%20%20%20%20%20%20%3B%0A%0A%20%20%20%20%20%20%20%20%0A%20%20%20%20%0A%20%20%20%20%0A%20%20%20%20%20%20%20%20%20%20%20%20var%20circle_49392e0fb522429ba736144abdf7b8fb%20%3D%20L.circle%28%0A%20%20%20%20%20%20%20%20%20%20%20%20%20%20%20%20%5B37.8715226%2C%20-122.273042%5D%2C%0A%20%20%20%20%20%20%20%20%20%20%20%20%20%20%20%20%7B%22bubblingMouseEvents%22%3A%20true%2C%20%22color%22%3A%20%22blue%22%2C%20%22dashArray%22%3A%20null%2C%20%22dashOffset%22%3A%20null%2C%20%22fill%22%3A%20true%2C%20%22fillColor%22%3A%20%22red%22%2C%20%22fillOpacity%22%3A%200.2%2C%20%22fillRule%22%3A%20%22evenodd%22%2C%20%22lineCap%22%3A%20%22round%22%2C%20%22lineJoin%22%3A%20%22round%22%2C%20%22opacity%22%3A%201.0%2C%20%22radius%22%3A%2010128.0%2C%20%22stroke%22%3A%20true%2C%20%22weight%22%3A%203%7D%0A%20%20%20%20%20%20%20%20%20%20%20%20%29.addTo%28map_9ccdc0a9479e4f9e93a22196f6a8d941%29%3B%0A%20%20%20%20%20%20%20%20%0A%20%20%20%20%0A%20%20%20%20%20%20%20%20var%20popup_5334a6ba72ef4199bdff4f64cecb994e%20%3D%20L.popup%28%7B%22maxWidth%22%3A%20%22100%25%22%7D%29%3B%0A%0A%20%20%20%20%20%20%20%20%0A%20%20%20%20%20%20%20%20%20%20%20%20var%20html_8ff1c769407a4654894d9c1a6bc38691%20%3D%20%24%28%60%3Cdiv%20id%3D%22html_8ff1c769407a4654894d9c1a6bc38691%22%20style%3D%22width%3A%20100.0%25%3B%20height%3A%20100.0%25%3B%22%3EBerkely%3C/div%3E%60%29%5B0%5D%3B%0A%20%20%20%20%20%20%20%20%20%20%20%20popup_5334a6ba72ef4199bdff4f64cecb994e.setContent%28html_8ff1c769407a4654894d9c1a6bc38691%29%3B%0A%20%20%20%20%20%20%20%20%0A%0A%20%20%20%20%20%20%20%20circle_49392e0fb522429ba736144abdf7b8fb.bindPopup%28popup_5334a6ba72ef4199bdff4f64cecb994e%29%0A%20%20%20%20%20%20%20%20%3B%0A%0A%20%20%20%20%20%20%20%20%0A%20%20%20%20%0A%20%20%20%20%0A%20%20%20%20%20%20%20%20%20%20%20%20var%20circle_0a439d2795254556b12735c2397b6d5e%20%3D%20L.circle%28%0A%20%20%20%20%20%20%20%20%20%20%20%20%20%20%20%20%5B34.1808392%2C%20-118.3089661%5D%2C%0A%20%20%20%20%20%20%20%20%20%20%20%20%20%20%20%20%7B%22bubblingMouseEvents%22%3A%20true%2C%20%22color%22%3A%20%22blue%22%2C%20%22dashArray%22%3A%20null%2C%20%22dashOffset%22%3A%20null%2C%20%22fill%22%3A%20true%2C%20%22fillColor%22%3A%20%22red%22%2C%20%22fillOpacity%22%3A%200.2%2C%20%22fillRule%22%3A%20%22evenodd%22%2C%20%22lineCap%22%3A%20%22round%22%2C%20%22lineJoin%22%3A%20%22round%22%2C%20%22opacity%22%3A%201.0%2C%20%22radius%22%3A%202736.0%2C%20%22stroke%22%3A%20true%2C%20%22weight%22%3A%203%7D%0A%20%20%20%20%20%20%20%20%20%20%20%20%29.addTo%28map_9ccdc0a9479e4f9e93a22196f6a8d941%29%3B%0A%20%20%20%20%20%20%20%20%0A%20%20%20%20%0A%20%20%20%20%20%20%20%20var%20popup_26bc87e3a8da496bae509d74d2b9eadb%20%3D%20L.popup%28%7B%22maxWidth%22%3A%20%22100%25%22%7D%29%3B%0A%0A%20%20%20%20%20%20%20%20%0A%20%20%20%20%20%20%20%20%20%20%20%20var%20html_f3fd72d015514ae6bc4839b5d85b5b90%20%3D%20%24%28%60%3Cdiv%20id%3D%22html_f3fd72d015514ae6bc4839b5d85b5b90%22%20style%3D%22width%3A%20100.0%25%3B%20height%3A%20100.0%25%3B%22%3EBurbank%3C/div%3E%60%29%5B0%5D%3B%0A%20%20%20%20%20%20%20%20%20%20%20%20popup_26bc87e3a8da496bae509d74d2b9eadb.setContent%28html_f3fd72d015514ae6bc4839b5d85b5b90%29%3B%0A%20%20%20%20%20%20%20%20%0A%0A%20%20%20%20%20%20%20%20circle_0a439d2795254556b12735c2397b6d5e.bindPopup%28popup_26bc87e3a8da496bae509d74d2b9eadb%29%0A%20%20%20%20%20%20%20%20%3B%0A%0A%20%20%20%20%20%20%20%20%0A%20%20%20%20%0A%20%20%20%20%0A%20%20%20%20%20%20%20%20%20%20%20%20var%20circle_7c48f57b032049969133803f313a8f89%20%3D%20L.circle%28%0A%20%20%20%20%20%20%20%20%20%20%20%20%20%20%20%20%5B36.5432837%2C%20-119.3870656%5D%2C%0A%20%20%20%20%20%20%20%20%20%20%20%20%20%20%20%20%7B%22bubblingMouseEvents%22%3A%20true%2C%20%22color%22%3A%20%22blue%22%2C%20%22dashArray%22%3A%20null%2C%20%22dashOffset%22%3A%20null%2C%20%22fill%22%3A%20true%2C%20%22fillColor%22%3A%20%22red%22%2C%20%22fillOpacity%22%3A%200.2%2C%20%22fillRule%22%3A%20%22evenodd%22%2C%20%22lineCap%22%3A%20%22round%22%2C%20%22lineJoin%22%3A%20%22round%22%2C%20%22opacity%22%3A%201.0%2C%20%22radius%22%3A%202412.0%2C%20%22stroke%22%3A%20true%2C%20%22weight%22%3A%203%7D%0A%20%20%20%20%20%20%20%20%20%20%20%20%29.addTo%28map_9ccdc0a9479e4f9e93a22196f6a8d941%29%3B%0A%20%20%20%20%20%20%20%20%0A%20%20%20%20%0A%20%20%20%20%20%20%20%20var%20popup_34b0197b16a046dcbc5cc51c68eb4bf6%20%3D%20L.popup%28%7B%22maxWidth%22%3A%20%22100%25%22%7D%29%3B%0A%0A%20%20%20%20%20%20%20%20%0A%20%20%20%20%20%20%20%20%20%20%20%20var%20html_9e8f0782cdc241fa9016ddda4eb4b0ab%20%3D%20%24%28%60%3Cdiv%20id%3D%22html_9e8f0782cdc241fa9016ddda4eb4b0ab%22%20style%3D%22width%3A%20100.0%25%3B%20height%3A%20100.0%25%3B%22%3EDinuba%3C/div%3E%60%29%5B0%5D%3B%0A%20%20%20%20%20%20%20%20%20%20%20%20popup_34b0197b16a046dcbc5cc51c68eb4bf6.setContent%28html_9e8f0782cdc241fa9016ddda4eb4b0ab%29%3B%0A%20%20%20%20%20%20%20%20%0A%0A%20%20%20%20%20%20%20%20circle_7c48f57b032049969133803f313a8f89.bindPopup%28popup_34b0197b16a046dcbc5cc51c68eb4bf6%29%0A%20%20%20%20%20%20%20%20%3B%0A%0A%20%20%20%20%20%20%20%20%0A%20%20%20%20%0A%20%20%20%20%0A%20%20%20%20%20%20%20%20%20%20%20%20var%20circle_65564c06e7dc47b48532168ff52212fa%20%3D%20L.circle%28%0A%20%20%20%20%20%20%20%20%20%20%20%20%20%20%20%20%5B38.4960187%2C%20-121.4088416%5D%2C%0A%20%20%20%20%20%20%20%20%20%20%20%20%20%20%20%20%7B%22bubblingMouseEvents%22%3A%20true%2C%20%22color%22%3A%20%22blue%22%2C%20%22dashArray%22%3A%20null%2C%20%22dashOffset%22%3A%20null%2C%20%22fill%22%3A%20true%2C%20%22fillColor%22%3A%20%22red%22%2C%20%22fillOpacity%22%3A%200.2%2C%20%22fillRule%22%3A%20%22evenodd%22%2C%20%22lineCap%22%3A%20%22round%22%2C%20%22lineJoin%22%3A%20%22round%22%2C%20%22opacity%22%3A%201.0%2C%20%22radius%22%3A%203528.0%2C%20%22stroke%22%3A%20true%2C%20%22weight%22%3A%203%7D%0A%20%20%20%20%20%20%20%20%20%20%20%20%29.addTo%28map_9ccdc0a9479e4f9e93a22196f6a8d941%29%3B%0A%20%20%20%20%20%20%20%20%0A%20%20%20%20%0A%20%20%20%20%20%20%20%20var%20popup_b6c4a8c2bb7241da980d1aa6d72757f6%20%3D%20L.popup%28%7B%22maxWidth%22%3A%20%22100%25%22%7D%29%3B%0A%0A%20%20%20%20%20%20%20%20%0A%20%20%20%20%20%20%20%20%20%20%20%20var%20html_5023c6e7dacf406f828d9e90d07df8f6%20%3D%20%24%28%60%3Cdiv%20id%3D%22html_5023c6e7dacf406f828d9e90d07df8f6%22%20style%3D%22width%3A%20100.0%25%3B%20height%3A%20100.0%25%3B%22%3EFlorin%3C/div%3E%60%29%5B0%5D%3B%0A%20%20%20%20%20%20%20%20%20%20%20%20popup_b6c4a8c2bb7241da980d1aa6d72757f6.setContent%28html_5023c6e7dacf406f828d9e90d07df8f6%29%3B%0A%20%20%20%20%20%20%20%20%0A%0A%20%20%20%20%20%20%20%20circle_65564c06e7dc47b48532168ff52212fa.bindPopup%28popup_b6c4a8c2bb7241da980d1aa6d72757f6%29%0A%20%20%20%20%20%20%20%20%3B%0A%0A%20%20%20%20%20%20%20%20%0A%20%20%20%20%0A%20%20%20%20%0A%20%20%20%20%20%20%20%20%20%20%20%20var%20circle_bd7e0cbc934549558af8d7f29fde8bcc%20%3D%20L.circle%28%0A%20%20%20%20%20%20%20%20%20%20%20%20%20%20%20%20%5B36.6305058%2C%20-119.6784697%5D%2C%0A%20%20%20%20%20%20%20%20%20%20%20%20%20%20%20%20%7B%22bubblingMouseEvents%22%3A%20true%2C%20%22color%22%3A%20%22blue%22%2C%20%22dashArray%22%3A%20null%2C%20%22dashOffset%22%3A%20null%2C%20%22fill%22%3A%20true%2C%20%22fillColor%22%3A%20%22red%22%2C%20%22fillOpacity%22%3A%200.2%2C%20%22fillRule%22%3A%20%22evenodd%22%2C%20%22lineCap%22%3A%20%22round%22%2C%20%22lineJoin%22%3A%20%22round%22%2C%20%22opacity%22%3A%201.0%2C%20%22radius%22%3A%203948.0%2C%20%22stroke%22%3A%20true%2C%20%22weight%22%3A%203%7D%0A%20%20%20%20%20%20%20%20%20%20%20%20%29.addTo%28map_9ccdc0a9479e4f9e93a22196f6a8d941%29%3B%0A%20%20%20%20%20%20%20%20%0A%20%20%20%20%0A%20%20%20%20%20%20%20%20var%20popup_454929b58adc4689824268948c1c0e80%20%3D%20L.popup%28%7B%22maxWidth%22%3A%20%22100%25%22%7D%29%3B%0A%0A%20%20%20%20%20%20%20%20%0A%20%20%20%20%20%20%20%20%20%20%20%20var%20html_567e2e46b2b14375bfaf417cea992988%20%3D%20%24%28%60%3Cdiv%20id%3D%22html_567e2e46b2b14375bfaf417cea992988%22%20style%3D%22width%3A%20100.0%25%3B%20height%3A%20100.0%25%3B%22%3EFowler%3C/div%3E%60%29%5B0%5D%3B%0A%20%20%20%20%20%20%20%20%20%20%20%20popup_454929b58adc4689824268948c1c0e80.setContent%28html_567e2e46b2b14375bfaf417cea992988%29%3B%0A%20%20%20%20%20%20%20%20%0A%0A%20%20%20%20%20%20%20%20circle_bd7e0cbc934549558af8d7f29fde8bcc.bindPopup%28popup_454929b58adc4689824268948c1c0e80%29%0A%20%20%20%20%20%20%20%20%3B%0A%0A%20%20%20%20%20%20%20%20%0A%20%20%20%20%0A%20%20%20%20%0A%20%20%20%20%20%20%20%20%20%20%20%20var%20circle_2da62aae1d0943d2bfcf8e07f091b864%20%3D%20L.circle%28%0A%20%20%20%20%20%20%20%20%20%20%20%20%20%20%20%20%5B36.7377981%2C%20-119.7871247%5D%2C%0A%20%20%20%20%20%20%20%20%20%20%20%20%20%20%20%20%7B%22bubblingMouseEvents%22%3A%20true%2C%20%22color%22%3A%20%22blue%22%2C%20%22dashArray%22%3A%20null%2C%20%22dashOffset%22%3A%20null%2C%20%22fill%22%3A%20true%2C%20%22fillColor%22%3A%20%22red%22%2C%20%22fillOpacity%22%3A%200.2%2C%20%22fillRule%22%3A%20%22evenodd%22%2C%20%22lineCap%22%3A%20%22round%22%2C%20%22lineJoin%22%3A%20%22round%22%2C%20%22opacity%22%3A%201.0%2C%20%22radius%22%3A%2018384.0%2C%20%22stroke%22%3A%20true%2C%20%22weight%22%3A%203%7D%0A%20%20%20%20%20%20%20%20%20%20%20%20%29.addTo%28map_9ccdc0a9479e4f9e93a22196f6a8d941%29%3B%0A%20%20%20%20%20%20%20%20%0A%20%20%20%20%0A%20%20%20%20%20%20%20%20var%20popup_cfbc267f6c584f51beae948f45c0d766%20%3D%20L.popup%28%7B%22maxWidth%22%3A%20%22100%25%22%7D%29%3B%0A%0A%20%20%20%20%20%20%20%20%0A%20%20%20%20%20%20%20%20%20%20%20%20var%20html_30201c11851a457f85c9be2d7b5af0ab%20%3D%20%24%28%60%3Cdiv%20id%3D%22html_30201c11851a457f85c9be2d7b5af0ab%22%20style%3D%22width%3A%20100.0%25%3B%20height%3A%20100.0%25%3B%22%3EFresno%3C/div%3E%60%29%5B0%5D%3B%0A%20%20%20%20%20%20%20%20%20%20%20%20popup_cfbc267f6c584f51beae948f45c0d766.setContent%28html_30201c11851a457f85c9be2d7b5af0ab%29%3B%0A%20%20%20%20%20%20%20%20%0A%0A%20%20%20%20%20%20%20%20circle_2da62aae1d0943d2bfcf8e07f091b864.bindPopup%28popup_cfbc267f6c584f51beae948f45c0d766%29%0A%20%20%20%20%20%20%20%20%3B%0A%0A%20%20%20%20%20%20%20%20%0A%20%20%20%20%0A%20%20%20%20%0A%20%20%20%20%20%20%20%20%20%20%20%20var%20circle_ae0e847280544d19b0abfceb45db9f76%20%3D%20L.circle%28%0A%20%20%20%20%20%20%20%20%20%20%20%20%20%20%20%20%5B33.8883487%2C%20-118.3089624%5D%2C%0A%20%20%20%20%20%20%20%20%20%20%20%20%20%20%20%20%7B%22bubblingMouseEvents%22%3A%20true%2C%20%22color%22%3A%20%22blue%22%2C%20%22dashArray%22%3A%20null%2C%20%22dashOffset%22%3A%20null%2C%20%22fill%22%3A%20true%2C%20%22fillColor%22%3A%20%22red%22%2C%20%22fillOpacity%22%3A%200.2%2C%20%22fillRule%22%3A%20%22evenodd%22%2C%20%22lineCap%22%3A%20%22round%22%2C%20%22lineJoin%22%3A%20%22round%22%2C%20%22opacity%22%3A%201.0%2C%20%22radius%22%3A%204416.0%2C%20%22stroke%22%3A%20true%2C%20%22weight%22%3A%203%7D%0A%20%20%20%20%20%20%20%20%20%20%20%20%29.addTo%28map_9ccdc0a9479e4f9e93a22196f6a8d941%29%3B%0A%20%20%20%20%20%20%20%20%0A%20%20%20%20%0A%20%20%20%20%20%20%20%20var%20popup_5d959c80299b4b59ad8188aa1bd8c76f%20%3D%20L.popup%28%7B%22maxWidth%22%3A%20%22100%25%22%7D%29%3B%0A%0A%20%20%20%20%20%20%20%20%0A%20%20%20%20%20%20%20%20%20%20%20%20var%20html_f65fd1a8c47342b8b888fe72e7a52fd1%20%3D%20%24%28%60%3Cdiv%20id%3D%22html_f65fd1a8c47342b8b888fe72e7a52fd1%22%20style%3D%22width%3A%20100.0%25%3B%20height%3A%20100.0%25%3B%22%3EGardena%3C/div%3E%60%29%5B0%5D%3B%0A%20%20%20%20%20%20%20%20%20%20%20%20popup_5d959c80299b4b59ad8188aa1bd8c76f.setContent%28html_f65fd1a8c47342b8b888fe72e7a52fd1%29%3B%0A%20%20%20%20%20%20%20%20%0A%0A%20%20%20%20%20%20%20%20circle_ae0e847280544d19b0abfceb45db9f76.bindPopup%28popup_5d959c80299b4b59ad8188aa1bd8c76f%29%0A%20%20%20%20%20%20%20%20%3B%0A%0A%20%20%20%20%20%20%20%20%0A%20%20%20%20%0A%20%20%20%20%0A%20%20%20%20%20%20%20%20%20%20%20%20var%20circle_0ef3d9da1b4c4587b8031f9856cba64b%20%3D%20L.circle%28%0A%20%20%20%20%20%20%20%20%20%20%20%20%20%20%20%20%5B19.4848564%2C%20-99.1178624%5D%2C%0A%20%20%20%20%20%20%20%20%20%20%20%20%20%20%20%20%7B%22bubblingMouseEvents%22%3A%20true%2C%20%22color%22%3A%20%22blue%22%2C%20%22dashArray%22%3A%20null%2C%20%22dashOffset%22%3A%20null%2C%20%22fill%22%3A%20true%2C%20%22fillColor%22%3A%20%22red%22%2C%20%22fillOpacity%22%3A%200.2%2C%20%22fillRule%22%3A%20%22evenodd%22%2C%20%22lineCap%22%3A%20%22round%22%2C%20%22lineJoin%22%3A%20%22round%22%2C%20%22opacity%22%3A%201.0%2C%20%22radius%22%3A%203432.0%2C%20%22stroke%22%3A%20true%2C%20%22weight%22%3A%203%7D%0A%20%20%20%20%20%20%20%20%20%20%20%20%29.addTo%28map_9ccdc0a9479e4f9e93a22196f6a8d941%29%3B%0A%20%20%20%20%20%20%20%20%0A%20%20%20%20%0A%20%20%20%20%20%20%20%20var%20popup_cf631b892fc04046af1ae2f816349dab%20%3D%20L.popup%28%7B%22maxWidth%22%3A%20%22100%25%22%7D%29%3B%0A%0A%20%20%20%20%20%20%20%20%0A%20%20%20%20%20%20%20%20%20%20%20%20var%20html_ab6232a99de8453ba2a40b1d82bbb130%20%3D%20%24%28%60%3Cdiv%20id%3D%22html_ab6232a99de8453ba2a40b1d82bbb130%22%20style%3D%22width%3A%20100.0%25%3B%20height%3A%20100.0%25%3B%22%3EGuadalupe%3C/div%3E%60%29%5B0%5D%3B%0A%20%20%20%20%20%20%20%20%20%20%20%20popup_cf631b892fc04046af1ae2f816349dab.setContent%28html_ab6232a99de8453ba2a40b1d82bbb130%29%3B%0A%20%20%20%20%20%20%20%20%0A%0A%20%20%20%20%20%20%20%20circle_0ef3d9da1b4c4587b8031f9856cba64b.bindPopup%28popup_cf631b892fc04046af1ae2f816349dab%29%0A%20%20%20%20%20%20%20%20%3B%0A%0A%20%20%20%20%20%20%20%20%0A%20%20%20%20%0A%20%20%20%20%0A%20%20%20%20%20%20%20%20%20%20%20%20var%20circle_6fec0923e37c4b1b9c68a6b2e9982a11%20%3D%20L.circle%28%0A%20%20%20%20%20%20%20%20%20%20%20%20%20%20%20%20%5B38.1341477%2C%20-121.2722194%5D%2C%0A%20%20%20%20%20%20%20%20%20%20%20%20%20%20%20%20%7B%22bubblingMouseEvents%22%3A%20true%2C%20%22color%22%3A%20%22blue%22%2C%20%22dashArray%22%3A%20null%2C%20%22dashOffset%22%3A%20null%2C%20%22fill%22%3A%20true%2C%20%22fillColor%22%3A%20%22red%22%2C%20%22fillOpacity%22%3A%200.2%2C%20%22fillRule%22%3A%20%22evenodd%22%2C%20%22lineCap%22%3A%20%22round%22%2C%20%22lineJoin%22%3A%20%22round%22%2C%20%22opacity%22%3A%201.0%2C%20%22radius%22%3A%209348.0%2C%20%22stroke%22%3A%20true%2C%20%22weight%22%3A%203%7D%0A%20%20%20%20%20%20%20%20%20%20%20%20%29.addTo%28map_9ccdc0a9479e4f9e93a22196f6a8d941%29%3B%0A%20%20%20%20%20%20%20%20%0A%20%20%20%20%0A%20%20%20%20%20%20%20%20var%20popup_5bd4a472a7f24421b5df3e2eec6a23b5%20%3D%20L.popup%28%7B%22maxWidth%22%3A%20%22100%25%22%7D%29%3B%0A%0A%20%20%20%20%20%20%20%20%0A%20%20%20%20%20%20%20%20%20%20%20%20var%20html_bc5ad5c9ae9d4a0796a1bdff4ae97915%20%3D%20%24%28%60%3Cdiv%20id%3D%22html_bc5ad5c9ae9d4a0796a1bdff4ae97915%22%20style%3D%22width%3A%20100.0%25%3B%20height%3A%20100.0%25%3B%22%3ELodi%3C/div%3E%60%29%5B0%5D%3B%0A%20%20%20%20%20%20%20%20%20%20%20%20popup_5bd4a472a7f24421b5df3e2eec6a23b5.setContent%28html_bc5ad5c9ae9d4a0796a1bdff4ae97915%29%3B%0A%20%20%20%20%20%20%20%20%0A%0A%20%20%20%20%20%20%20%20circle_6fec0923e37c4b1b9c68a6b2e9982a11.bindPopup%28popup_5bd4a472a7f24421b5df3e2eec6a23b5%29%0A%20%20%20%20%20%20%20%20%3B%0A%0A%20%20%20%20%20%20%20%20%0A%20%20%20%20%0A%20%20%20%20%0A%20%20%20%20%20%20%20%20%20%20%20%20var%20circle_450ca08bdde448ed8721a67d556fd3d8%20%3D%20L.circle%28%0A%20%20%20%20%20%20%20%20%20%20%20%20%20%20%20%20%5B33.7922392%2C%20-118.3150722%5D%2C%0A%20%20%20%20%20%20%20%20%20%20%20%20%20%20%20%20%7B%22bubblingMouseEvents%22%3A%20true%2C%20%22color%22%3A%20%22blue%22%2C%20%22dashArray%22%3A%20null%2C%20%22dashOffset%22%3A%20null%2C%20%22fill%22%3A%20true%2C%20%22fillColor%22%3A%20%22red%22%2C%20%22fillOpacity%22%3A%200.2%2C%20%22fillRule%22%3A%20%22evenodd%22%2C%20%22lineCap%22%3A%20%22round%22%2C%20%22lineJoin%22%3A%20%22round%22%2C%20%22opacity%22%3A%201.0%2C%20%22radius%22%3A%202616.0%2C%20%22stroke%22%3A%20true%2C%20%22weight%22%3A%203%7D%0A%20%20%20%20%20%20%20%20%20%20%20%20%29.addTo%28map_9ccdc0a9479e4f9e93a22196f6a8d941%29%3B%0A%20%20%20%20%20%20%20%20%0A%20%20%20%20%0A%20%20%20%20%20%20%20%20var%20popup_bb3992c0503c4ba1afaeca9dd986a04b%20%3D%20L.popup%28%7B%22maxWidth%22%3A%20%22100%25%22%7D%29%3B%0A%0A%20%20%20%20%20%20%20%20%0A%20%20%20%20%20%20%20%20%20%20%20%20var%20html_00e90c35fc3b4d76a3ccb01839f91056%20%3D%20%24%28%60%3Cdiv%20id%3D%22html_00e90c35fc3b4d76a3ccb01839f91056%22%20style%3D%22width%3A%20100.0%25%3B%20height%3A%20100.0%25%3B%22%3ELomita%3C/div%3E%60%29%5B0%5D%3B%0A%20%20%20%20%20%20%20%20%20%20%20%20popup_bb3992c0503c4ba1afaeca9dd986a04b.setContent%28html_00e90c35fc3b4d76a3ccb01839f91056%29%3B%0A%20%20%20%20%20%20%20%20%0A%0A%20%20%20%20%20%20%20%20circle_450ca08bdde448ed8721a67d556fd3d8.bindPopup%28popup_bb3992c0503c4ba1afaeca9dd986a04b%29%0A%20%20%20%20%20%20%20%20%3B%0A%0A%20%20%20%20%20%20%20%20%0A%20%20%20%20%0A%20%20%20%20%0A%20%20%20%20%20%20%20%20%20%20%20%20var%20circle_5d2d121bc0704f21b21c118adfb64596%20%3D%20L.circle%28%0A%20%20%20%20%20%20%20%20%20%20%20%20%20%20%20%20%5B33.7700504%2C%20-118.1937395%5D%2C%0A%20%20%20%20%20%20%20%20%20%20%20%20%20%20%20%20%7B%22bubblingMouseEvents%22%3A%20true%2C%20%22color%22%3A%20%22blue%22%2C%20%22dashArray%22%3A%20null%2C%20%22dashOffset%22%3A%20null%2C%20%22fill%22%3A%20true%2C%20%22fillColor%22%3A%20%22red%22%2C%20%22fillOpacity%22%3A%200.2%2C%20%22fillRule%22%3A%20%22evenodd%22%2C%20%22lineCap%22%3A%20%22round%22%2C%20%22lineJoin%22%3A%20%22round%22%2C%20%22opacity%22%3A%201.0%2C%20%22radius%22%3A%2012168.0%2C%20%22stroke%22%3A%20true%2C%20%22weight%22%3A%203%7D%0A%20%20%20%20%20%20%20%20%20%20%20%20%29.addTo%28map_9ccdc0a9479e4f9e93a22196f6a8d941%29%3B%0A%20%20%20%20%20%20%20%20%0A%20%20%20%20%0A%20%20%20%20%20%20%20%20var%20popup_92cd7c3c6c5747e2ade1ed5f6d3acd38%20%3D%20L.popup%28%7B%22maxWidth%22%3A%20%22100%25%22%7D%29%3B%0A%0A%20%20%20%20%20%20%20%20%0A%20%20%20%20%20%20%20%20%20%20%20%20var%20html_a98a570531844f74b5de84b455e9d2d0%20%3D%20%24%28%60%3Cdiv%20id%3D%22html_a98a570531844f74b5de84b455e9d2d0%22%20style%3D%22width%3A%20100.0%25%3B%20height%3A%20100.0%25%3B%22%3ELong%20Beach%3C/div%3E%60%29%5B0%5D%3B%0A%20%20%20%20%20%20%20%20%20%20%20%20popup_92cd7c3c6c5747e2ade1ed5f6d3acd38.setContent%28html_a98a570531844f74b5de84b455e9d2d0%29%3B%0A%20%20%20%20%20%20%20%20%0A%0A%20%20%20%20%20%20%20%20circle_5d2d121bc0704f21b21c118adfb64596.bindPopup%28popup_92cd7c3c6c5747e2ade1ed5f6d3acd38%29%0A%20%20%20%20%20%20%20%20%3B%0A%0A%20%20%20%20%20%20%20%20%0A%20%20%20%20%0A%20%20%20%20%0A%20%20%20%20%20%20%20%20%20%20%20%20var%20circle_4f975cdbd6fb4efcb67f9ad16c57da76%20%3D%20L.circle%28%0A%20%20%20%20%20%20%20%20%20%20%20%20%20%20%20%20%5B37.692323%2C%20-97.325646%5D%2C%0A%20%20%20%20%20%20%20%20%20%20%20%20%20%20%20%20%7B%22bubblingMouseEvents%22%3A%20true%2C%20%22color%22%3A%20%22blue%22%2C%20%22dashArray%22%3A%20null%2C%20%22dashOffset%22%3A%20null%2C%20%22fill%22%3A%20true%2C%20%22fillColor%22%3A%20%22red%22%2C%20%22fillOpacity%22%3A%200.2%2C%20%22fillRule%22%3A%20%22evenodd%22%2C%20%22lineCap%22%3A%20%22round%22%2C%20%22lineJoin%22%3A%20%22round%22%2C%20%22opacity%22%3A%201.0%2C%20%22radius%22%3A%202532.0%2C%20%22stroke%22%3A%20true%2C%20%22weight%22%3A%203%7D%0A%20%20%20%20%20%20%20%20%20%20%20%20%29.addTo%28map_9ccdc0a9479e4f9e93a22196f6a8d941%29%3B%0A%20%20%20%20%20%20%20%20%0A%20%20%20%20%0A%20%20%20%20%20%20%20%20var%20popup_6cf6ea8d58e14a4d85e0f756d980d10b%20%3D%20L.popup%28%7B%22maxWidth%22%3A%20%22100%25%22%7D%29%3B%0A%0A%20%20%20%20%20%20%20%20%0A%20%20%20%20%20%20%20%20%20%20%20%20var%20html_23fb3f8c16664c1da182b2080c14b83c%20%3D%20%24%28%60%3Cdiv%20id%3D%22html_23fb3f8c16664c1da182b2080c14b83c%22%20style%3D%22width%3A%20100.0%25%3B%20height%3A%20100.0%25%3B%22%3ELoomis%3C/div%3E%60%29%5B0%5D%3B%0A%20%20%20%20%20%20%20%20%20%20%20%20popup_6cf6ea8d58e14a4d85e0f756d980d10b.setContent%28html_23fb3f8c16664c1da182b2080c14b83c%29%3B%0A%20%20%20%20%20%20%20%20%0A%0A%20%20%20%20%20%20%20%20circle_4f975cdbd6fb4efcb67f9ad16c57da76.bindPopup%28popup_6cf6ea8d58e14a4d85e0f756d980d10b%29%0A%20%20%20%20%20%20%20%20%3B%0A%0A%20%20%20%20%20%20%20%20%0A%20%20%20%20%0A%20%20%20%20%0A%20%20%20%20%20%20%20%20%20%20%20%20var%20circle_d75667ac4a6a4e93a83f7c5cb1c25c28%20%3D%20L.circle%28%0A%20%20%20%20%20%20%20%20%20%20%20%20%20%20%20%20%5B34.0522342%2C%20-118.2436849%5D%2C%0A%20%20%20%20%20%20%20%20%20%20%20%20%20%20%20%20%7B%22bubblingMouseEvents%22%3A%20true%2C%20%22color%22%3A%20%22blue%22%2C%20%22dashArray%22%3A%20null%2C%20%22dashOffset%22%3A%20null%2C%20%22fill%22%3A%20true%2C%20%22fillColor%22%3A%20%22red%22%2C%20%22fillOpacity%22%3A%200.2%2C%20%22fillRule%22%3A%20%22evenodd%22%2C%20%22lineCap%22%3A%20%22round%22%2C%20%22lineJoin%22%3A%20%22round%22%2C%20%22opacity%22%3A%201.0%2C%20%22radius%22%3A%20121548.0%2C%20%22stroke%22%3A%20true%2C%20%22weight%22%3A%203%7D%0A%20%20%20%20%20%20%20%20%20%20%20%20%29.addTo%28map_9ccdc0a9479e4f9e93a22196f6a8d941%29%3B%0A%20%20%20%20%20%20%20%20%0A%20%20%20%20%0A%20%20%20%20%20%20%20%20var%20popup_45dd20e13ed3434e9d581bf7ba7669bb%20%3D%20L.popup%28%7B%22maxWidth%22%3A%20%22100%25%22%7D%29%3B%0A%0A%20%20%20%20%20%20%20%20%0A%20%20%20%20%20%20%20%20%20%20%20%20var%20html_89b4e06938cf4fbba1a31240b64b783a%20%3D%20%24%28%60%3Cdiv%20id%3D%22html_89b4e06938cf4fbba1a31240b64b783a%22%20style%3D%22width%3A%20100.0%25%3B%20height%3A%20100.0%25%3B%22%3ELos%20Angeles%3C/div%3E%60%29%5B0%5D%3B%0A%20%20%20%20%20%20%20%20%20%20%20%20popup_45dd20e13ed3434e9d581bf7ba7669bb.setContent%28html_89b4e06938cf4fbba1a31240b64b783a%29%3B%0A%20%20%20%20%20%20%20%20%0A%0A%20%20%20%20%20%20%20%20circle_d75667ac4a6a4e93a83f7c5cb1c25c28.bindPopup%28popup_45dd20e13ed3434e9d581bf7ba7669bb%29%0A%20%20%20%20%20%20%20%20%3B%0A%0A%20%20%20%20%20%20%20%20%0A%20%20%20%20%0A%20%20%20%20%0A%20%20%20%20%20%20%20%20%20%20%20%20var%20circle_66a82bb05e7341d68e6655789715bb1c%20%3D%20L.circle%28%0A%20%20%20%20%20%20%20%20%20%20%20%20%20%20%20%20%5B36.6002378%2C%20-121.8946761%5D%2C%0A%20%20%20%20%20%20%20%20%20%20%20%20%20%20%20%20%7B%22bubblingMouseEvents%22%3A%20true%2C%20%22color%22%3A%20%22blue%22%2C%20%22dashArray%22%3A%20null%2C%20%22dashOffset%22%3A%20null%2C%20%22fill%22%3A%20true%2C%20%22fillColor%22%3A%20%22red%22%2C%20%22fillOpacity%22%3A%200.2%2C%20%22fillRule%22%3A%20%22evenodd%22%2C%20%22lineCap%22%3A%20%22round%22%2C%20%22lineJoin%22%3A%20%22round%22%2C%20%22opacity%22%3A%201.0%2C%20%22radius%22%3A%203756.0%2C%20%22stroke%22%3A%20true%2C%20%22weight%22%3A%203%7D%0A%20%20%20%20%20%20%20%20%20%20%20%20%29.addTo%28map_9ccdc0a9479e4f9e93a22196f6a8d941%29%3B%0A%20%20%20%20%20%20%20%20%0A%20%20%20%20%0A%20%20%20%20%20%20%20%20var%20popup_463e06369a52400c845ad94c6c1daffb%20%3D%20L.popup%28%7B%22maxWidth%22%3A%20%22100%25%22%7D%29%3B%0A%0A%20%20%20%20%20%20%20%20%0A%20%20%20%20%20%20%20%20%20%20%20%20var%20html_dc44e40138624a628f4604c390381252%20%3D%20%24%28%60%3Cdiv%20id%3D%22html_dc44e40138624a628f4604c390381252%22%20style%3D%22width%3A%20100.0%25%3B%20height%3A%20100.0%25%3B%22%3EMonterey%3C/div%3E%60%29%5B0%5D%3B%0A%20%20%20%20%20%20%20%20%20%20%20%20popup_463e06369a52400c845ad94c6c1daffb.setContent%28html_dc44e40138624a628f4604c390381252%29%3B%0A%20%20%20%20%20%20%20%20%0A%0A%20%20%20%20%20%20%20%20circle_66a82bb05e7341d68e6655789715bb1c.bindPopup%28popup_463e06369a52400c845ad94c6c1daffb%29%0A%20%20%20%20%20%20%20%20%3B%0A%0A%20%20%20%20%20%20%20%20%0A%20%20%20%20%0A%20%20%20%20%0A%20%20%20%20%20%20%20%20%20%20%20%20var%20circle_458202881b6e4b4abd40398a2c236887%20%3D%20L.circle%28%0A%20%20%20%20%20%20%20%20%20%20%20%20%20%20%20%20%5B37.3860517%2C%20-122.0838511%5D%2C%0A%20%20%20%20%20%20%20%20%20%20%20%20%20%20%20%20%7B%22bubblingMouseEvents%22%3A%20true%2C%20%22color%22%3A%20%22blue%22%2C%20%22dashArray%22%3A%20null%2C%20%22dashOffset%22%3A%20null%2C%20%22fill%22%3A%20true%2C%20%22fillColor%22%3A%20%22red%22%2C%20%22fillOpacity%22%3A%200.2%2C%20%22fillRule%22%3A%20%22evenodd%22%2C%20%22lineCap%22%3A%20%22round%22%2C%20%22lineJoin%22%3A%20%22round%22%2C%20%22opacity%22%3A%201.0%2C%20%22radius%22%3A%203492.0%2C%20%22stroke%22%3A%20true%2C%20%22weight%22%3A%203%7D%0A%20%20%20%20%20%20%20%20%20%20%20%20%29.addTo%28map_9ccdc0a9479e4f9e93a22196f6a8d941%29%3B%0A%20%20%20%20%20%20%20%20%0A%20%20%20%20%0A%20%20%20%20%20%20%20%20var%20popup_1d3e41cd23e54e968e800ddf7eca2886%20%3D%20L.popup%28%7B%22maxWidth%22%3A%20%22100%25%22%7D%29%3B%0A%0A%20%20%20%20%20%20%20%20%0A%20%20%20%20%20%20%20%20%20%20%20%20var%20html_e8da10834dbe4bb8a53e2d1829cf3f3e%20%3D%20%24%28%60%3Cdiv%20id%3D%22html_e8da10834dbe4bb8a53e2d1829cf3f3e%22%20style%3D%22width%3A%20100.0%25%3B%20height%3A%20100.0%25%3B%22%3EMountain%20View%3C/div%3E%60%29%5B0%5D%3B%0A%20%20%20%20%20%20%20%20%20%20%20%20popup_1d3e41cd23e54e968e800ddf7eca2886.setContent%28html_e8da10834dbe4bb8a53e2d1829cf3f3e%29%3B%0A%20%20%20%20%20%20%20%20%0A%0A%20%20%20%20%20%20%20%20circle_458202881b6e4b4abd40398a2c236887.bindPopup%28popup_1d3e41cd23e54e968e800ddf7eca2886%29%0A%20%20%20%20%20%20%20%20%3B%0A%0A%20%20%20%20%20%20%20%20%0A%20%20%20%20%0A%20%20%20%20%0A%20%20%20%20%20%20%20%20%20%20%20%20var%20circle_516011da13b04119bfee4ff81f070604%20%3D%20L.circle%28%0A%20%20%20%20%20%20%20%20%20%20%20%20%20%20%20%20%5B54.978252%2C%20-1.61778%5D%2C%0A%20%20%20%20%20%20%20%20%20%20%20%20%20%20%20%20%7B%22bubblingMouseEvents%22%3A%20true%2C%20%22color%22%3A%20%22blue%22%2C%20%22dashArray%22%3A%20null%2C%20%22dashOffset%22%3A%20null%2C%20%22fill%22%3A%20true%2C%20%22fillColor%22%3A%20%22red%22%2C%20%22fillOpacity%22%3A%200.2%2C%20%22fillRule%22%3A%20%22evenodd%22%2C%20%22lineCap%22%3A%20%22round%22%2C%20%22lineJoin%22%3A%20%22round%22%2C%20%22opacity%22%3A%201.0%2C%20%22radius%22%3A%202712.0%2C%20%22stroke%22%3A%20true%2C%20%22weight%22%3A%203%7D%0A%20%20%20%20%20%20%20%20%20%20%20%20%29.addTo%28map_9ccdc0a9479e4f9e93a22196f6a8d941%29%3B%0A%20%20%20%20%20%20%20%20%0A%20%20%20%20%0A%20%20%20%20%20%20%20%20var%20popup_79414e1786ea435d9018ff72a6208f4d%20%3D%20L.popup%28%7B%22maxWidth%22%3A%20%22100%25%22%7D%29%3B%0A%0A%20%20%20%20%20%20%20%20%0A%20%20%20%20%20%20%20%20%20%20%20%20var%20html_23385e261c3c440dadb7abf1a438bb2c%20%3D%20%24%28%60%3Cdiv%20id%3D%22html_23385e261c3c440dadb7abf1a438bb2c%22%20style%3D%22width%3A%20100.0%25%3B%20height%3A%20100.0%25%3B%22%3ENewcastle%3C/div%3E%60%29%5B0%5D%3B%0A%20%20%20%20%20%20%20%20%20%20%20%20popup_79414e1786ea435d9018ff72a6208f4d.setContent%28html_23385e261c3c440dadb7abf1a438bb2c%29%3B%0A%20%20%20%20%20%20%20%20%0A%0A%20%20%20%20%20%20%20%20circle_516011da13b04119bfee4ff81f070604.bindPopup%28popup_79414e1786ea435d9018ff72a6208f4d%29%0A%20%20%20%20%20%20%20%20%3B%0A%0A%20%20%20%20%20%20%20%20%0A%20%20%20%20%0A%20%20%20%20%0A%20%20%20%20%20%20%20%20%20%20%20%20var%20circle_0e1a839292e8457aaa8d459605d6077a%20%3D%20L.circle%28%0A%20%20%20%20%20%20%20%20%20%20%20%20%20%20%20%20%5B37.8043514%2C%20-122.2711639%5D%2C%0A%20%20%20%20%20%20%20%20%20%20%20%20%20%20%20%20%7B%22bubblingMouseEvents%22%3A%20true%2C%20%22color%22%3A%20%22blue%22%2C%20%22dashArray%22%3A%20null%2C%20%22dashOffset%22%3A%20null%2C%20%22fill%22%3A%20true%2C%20%22fillColor%22%3A%20%22red%22%2C%20%22fillOpacity%22%3A%200.2%2C%20%22fillRule%22%3A%20%22evenodd%22%2C%20%22lineCap%22%3A%20%22round%22%2C%20%22lineJoin%22%3A%20%22round%22%2C%20%22opacity%22%3A%201.0%2C%20%22radius%22%3A%209324.0%2C%20%22stroke%22%3A%20true%2C%20%22weight%22%3A%203%7D%0A%20%20%20%20%20%20%20%20%20%20%20%20%29.addTo%28map_9ccdc0a9479e4f9e93a22196f6a8d941%29%3B%0A%20%20%20%20%20%20%20%20%0A%20%20%20%20%0A%20%20%20%20%20%20%20%20var%20popup_42c6c395fd71494a847240b5abb7022c%20%3D%20L.popup%28%7B%22maxWidth%22%3A%20%22100%25%22%7D%29%3B%0A%0A%20%20%20%20%20%20%20%20%0A%20%20%20%20%20%20%20%20%20%20%20%20var%20html_7b2fb0e8d8884406b84810172609dc94%20%3D%20%24%28%60%3Cdiv%20id%3D%22html_7b2fb0e8d8884406b84810172609dc94%22%20style%3D%22width%3A%20100.0%25%3B%20height%3A%20100.0%25%3B%22%3EOakland%3C/div%3E%60%29%5B0%5D%3B%0A%20%20%20%20%20%20%20%20%20%20%20%20popup_42c6c395fd71494a847240b5abb7022c.setContent%28html_7b2fb0e8d8884406b84810172609dc94%29%3B%0A%20%20%20%20%20%20%20%20%0A%0A%20%20%20%20%20%20%20%20circle_0e1a839292e8457aaa8d459605d6077a.bindPopup%28popup_42c6c395fd71494a847240b5abb7022c%29%0A%20%20%20%20%20%20%20%20%3B%0A%0A%20%20%20%20%20%20%20%20%0A%20%20%20%20%0A%20%20%20%20%0A%20%20%20%20%20%20%20%20%20%20%20%20var%20circle_b76217160bfe48f9a1a0fde2ef6ef1aa%20%3D%20L.circle%28%0A%20%20%20%20%20%20%20%20%20%20%20%20%20%20%20%20%5B37.4418834%2C%20-122.1430195%5D%2C%0A%20%20%20%20%20%20%20%20%20%20%20%20%20%20%20%20%7B%22bubblingMouseEvents%22%3A%20true%2C%20%22color%22%3A%20%22blue%22%2C%20%22dashArray%22%3A%20null%2C%20%22dashOffset%22%3A%20null%2C%20%22fill%22%3A%20true%2C%20%22fillColor%22%3A%20%22red%22%2C%20%22fillOpacity%22%3A%200.2%2C%20%22fillRule%22%3A%20%22evenodd%22%2C%20%22lineCap%22%3A%20%22round%22%2C%20%22lineJoin%22%3A%20%22round%22%2C%20%22opacity%22%3A%201.0%2C%20%22radius%22%3A%202940.0%2C%20%22stroke%22%3A%20true%2C%20%22weight%22%3A%203%7D%0A%20%20%20%20%20%20%20%20%20%20%20%20%29.addTo%28map_9ccdc0a9479e4f9e93a22196f6a8d941%29%3B%0A%20%20%20%20%20%20%20%20%0A%20%20%20%20%0A%20%20%20%20%20%20%20%20var%20popup_16ef9be63fad41fb98949753121b04ea%20%3D%20L.popup%28%7B%22maxWidth%22%3A%20%22100%25%22%7D%29%3B%0A%0A%20%20%20%20%20%20%20%20%0A%20%20%20%20%20%20%20%20%20%20%20%20var%20html_14b37aea4de7419091564c22a6990664%20%3D%20%24%28%60%3Cdiv%20id%3D%22html_14b37aea4de7419091564c22a6990664%22%20style%3D%22width%3A%20100.0%25%3B%20height%3A%20100.0%25%3B%22%3EPalo%20Alto%3C/div%3E%60%29%5B0%5D%3B%0A%20%20%20%20%20%20%20%20%20%20%20%20popup_16ef9be63fad41fb98949753121b04ea.setContent%28html_14b37aea4de7419091564c22a6990664%29%3B%0A%20%20%20%20%20%20%20%20%0A%0A%20%20%20%20%20%20%20%20circle_b76217160bfe48f9a1a0fde2ef6ef1aa.bindPopup%28popup_16ef9be63fad41fb98949753121b04ea%29%0A%20%20%20%20%20%20%20%20%3B%0A%0A%20%20%20%20%20%20%20%20%0A%20%20%20%20%0A%20%20%20%20%0A%20%20%20%20%20%20%20%20%20%20%20%20var%20circle_9e00cde39d1c4d03b5c88da913c379bd%20%3D%20L.circle%28%0A%20%20%20%20%20%20%20%20%20%20%20%20%20%20%20%20%5B36.6116174%2C%20-119.5270734%5D%2C%0A%20%20%20%20%20%20%20%20%20%20%20%20%20%20%20%20%7B%22bubblingMouseEvents%22%3A%20true%2C%20%22color%22%3A%20%22blue%22%2C%20%22dashArray%22%3A%20null%2C%20%22dashOffset%22%3A%20null%2C%20%22fill%22%3A%20true%2C%20%22fillColor%22%3A%20%22red%22%2C%20%22fillOpacity%22%3A%200.2%2C%20%22fillRule%22%3A%20%22evenodd%22%2C%20%22lineCap%22%3A%20%22round%22%2C%20%22lineJoin%22%3A%20%22round%22%2C%20%22opacity%22%3A%201.0%2C%20%22radius%22%3A%204692.0%2C%20%22stroke%22%3A%20true%2C%20%22weight%22%3A%203%7D%0A%20%20%20%20%20%20%20%20%20%20%20%20%29.addTo%28map_9ccdc0a9479e4f9e93a22196f6a8d941%29%3B%0A%20%20%20%20%20%20%20%20%0A%20%20%20%20%0A%20%20%20%20%20%20%20%20var%20popup_6b1da248174046668f25c21738bec6d8%20%3D%20L.popup%28%7B%22maxWidth%22%3A%20%22100%25%22%7D%29%3B%0A%0A%20%20%20%20%20%20%20%20%0A%20%20%20%20%20%20%20%20%20%20%20%20var%20html_16ce9d9635144f13a44a269ccbdbf574%20%3D%20%24%28%60%3Cdiv%20id%3D%22html_16ce9d9635144f13a44a269ccbdbf574%22%20style%3D%22width%3A%20100.0%25%3B%20height%3A%20100.0%25%3B%22%3EParlier%3C/div%3E%60%29%5B0%5D%3B%0A%20%20%20%20%20%20%20%20%20%20%20%20popup_6b1da248174046668f25c21738bec6d8.setContent%28html_16ce9d9635144f13a44a269ccbdbf574%29%3B%0A%20%20%20%20%20%20%20%20%0A%0A%20%20%20%20%20%20%20%20circle_9e00cde39d1c4d03b5c88da913c379bd.bindPopup%28popup_6b1da248174046668f25c21738bec6d8%29%0A%20%20%20%20%20%20%20%20%3B%0A%0A%20%20%20%20%20%20%20%20%0A%20%20%20%20%0A%20%20%20%20%0A%20%20%20%20%20%20%20%20%20%20%20%20var%20circle_e707e99ca10145baa8b697b5791ef44d%20%3D%20L.circle%28%0A%20%20%20%20%20%20%20%20%20%20%20%20%20%20%20%20%5B34.1477849%2C%20-118.1445155%5D%2C%0A%20%20%20%20%20%20%20%20%20%20%20%20%20%20%20%20%7B%22bubblingMouseEvents%22%3A%20true%2C%20%22color%22%3A%20%22blue%22%2C%20%22dashArray%22%3A%20null%2C%20%22dashOffset%22%3A%20null%2C%20%22fill%22%3A%20true%2C%20%22fillColor%22%3A%20%22red%22%2C%20%22fillOpacity%22%3A%200.2%2C%20%22fillRule%22%3A%20%22evenodd%22%2C%20%22lineCap%22%3A%20%22round%22%2C%20%22lineJoin%22%3A%20%22round%22%2C%20%22opacity%22%3A%201.0%2C%20%22radius%22%3A%207068.0%2C%20%22stroke%22%3A%20true%2C%20%22weight%22%3A%203%7D%0A%20%20%20%20%20%20%20%20%20%20%20%20%29.addTo%28map_9ccdc0a9479e4f9e93a22196f6a8d941%29%3B%0A%20%20%20%20%20%20%20%20%0A%20%20%20%20%0A%20%20%20%20%20%20%20%20var%20popup_15ce7e1af2094445b0f8a89b27275f05%20%3D%20L.popup%28%7B%22maxWidth%22%3A%20%22100%25%22%7D%29%3B%0A%0A%20%20%20%20%20%20%20%20%0A%20%20%20%20%20%20%20%20%20%20%20%20var%20html_35e8eb6e80e746b89b09ec8ede962ac3%20%3D%20%24%28%60%3Cdiv%20id%3D%22html_35e8eb6e80e746b89b09ec8ede962ac3%22%20style%3D%22width%3A%20100.0%25%3B%20height%3A%20100.0%25%3B%22%3EPasadena%3C/div%3E%60%29%5B0%5D%3B%0A%20%20%20%20%20%20%20%20%20%20%20%20popup_15ce7e1af2094445b0f8a89b27275f05.setContent%28html_35e8eb6e80e746b89b09ec8ede962ac3%29%3B%0A%20%20%20%20%20%20%20%20%0A%0A%20%20%20%20%20%20%20%20circle_e707e99ca10145baa8b697b5791ef44d.bindPopup%28popup_15ce7e1af2094445b0f8a89b27275f05%29%0A%20%20%20%20%20%20%20%20%3B%0A%0A%20%20%20%20%20%20%20%20%0A%20%20%20%20%0A%20%20%20%20%0A%20%20%20%20%20%20%20%20%20%20%20%20var%20circle_8b43ccd43d2b4ad082ea89c515cec26d%20%3D%20L.circle%28%0A%20%20%20%20%20%20%20%20%20%20%20%20%20%20%20%20%5B38.8519794%2C%20-121.1692868%5D%2C%0A%20%20%20%20%20%20%20%20%20%20%20%20%20%20%20%20%7B%22bubblingMouseEvents%22%3A%20true%2C%20%22color%22%3A%20%22blue%22%2C%20%22dashArray%22%3A%20null%2C%20%22dashOffset%22%3A%20null%2C%20%22fill%22%3A%20true%2C%20%22fillColor%22%3A%20%22red%22%2C%20%22fillOpacity%22%3A%200.2%2C%20%22fillRule%22%3A%20%22evenodd%22%2C%20%22lineCap%22%3A%20%22round%22%2C%20%22lineJoin%22%3A%20%22round%22%2C%20%22opacity%22%3A%201.0%2C%20%22radius%22%3A%205088.0%2C%20%22stroke%22%3A%20true%2C%20%22weight%22%3A%203%7D%0A%20%20%20%20%20%20%20%20%20%20%20%20%29.addTo%28map_9ccdc0a9479e4f9e93a22196f6a8d941%29%3B%0A%20%20%20%20%20%20%20%20%0A%20%20%20%20%0A%20%20%20%20%20%20%20%20var%20popup_79ca9e5a69c94f37bad012da5afabfad%20%3D%20L.popup%28%7B%22maxWidth%22%3A%20%22100%25%22%7D%29%3B%0A%0A%20%20%20%20%20%20%20%20%0A%20%20%20%20%20%20%20%20%20%20%20%20var%20html_769e55cf4c164b0182d31ce0fce54b02%20%3D%20%24%28%60%3Cdiv%20id%3D%22html_769e55cf4c164b0182d31ce0fce54b02%22%20style%3D%22width%3A%20100.0%25%3B%20height%3A%20100.0%25%3B%22%3EPenryn%3C/div%3E%60%29%5B0%5D%3B%0A%20%20%20%20%20%20%20%20%20%20%20%20popup_79ca9e5a69c94f37bad012da5afabfad.setContent%28html_769e55cf4c164b0182d31ce0fce54b02%29%3B%0A%20%20%20%20%20%20%20%20%0A%0A%20%20%20%20%20%20%20%20circle_8b43ccd43d2b4ad082ea89c515cec26d.bindPopup%28popup_79ca9e5a69c94f37bad012da5afabfad%29%0A%20%20%20%20%20%20%20%20%3B%0A%0A%20%20%20%20%20%20%20%20%0A%20%20%20%20%0A%20%20%20%20%0A%20%20%20%20%20%20%20%20%20%20%20%20var%20circle_48da72c6b6e34a369a4573873ca69ce7%20%3D%20L.circle%28%0A%20%20%20%20%20%20%20%20%20%20%20%20%20%20%20%20%5B36.5963395%2C%20-119.4504029%5D%2C%0A%20%20%20%20%20%20%20%20%20%20%20%20%20%20%20%20%7B%22bubblingMouseEvents%22%3A%20true%2C%20%22color%22%3A%20%22blue%22%2C%20%22dashArray%22%3A%20null%2C%20%22dashOffset%22%3A%20null%2C%20%22fill%22%3A%20true%2C%20%22fillColor%22%3A%20%22red%22%2C%20%22fillOpacity%22%3A%200.2%2C%20%22fillRule%22%3A%20%22evenodd%22%2C%20%22lineCap%22%3A%20%22round%22%2C%20%22lineJoin%22%3A%20%22round%22%2C%20%22opacity%22%3A%201.0%2C%20%22radius%22%3A%205316.0%2C%20%22stroke%22%3A%20true%2C%20%22weight%22%3A%203%7D%0A%20%20%20%20%20%20%20%20%20%20%20%20%29.addTo%28map_9ccdc0a9479e4f9e93a22196f6a8d941%29%3B%0A%20%20%20%20%20%20%20%20%0A%20%20%20%20%0A%20%20%20%20%20%20%20%20var%20popup_e9f873f58a8f47c79f59c59a3515cffe%20%3D%20L.popup%28%7B%22maxWidth%22%3A%20%22100%25%22%7D%29%3B%0A%0A%20%20%20%20%20%20%20%20%0A%20%20%20%20%20%20%20%20%20%20%20%20var%20html_56ec270f17c64150b2385985d0b0d751%20%3D%20%24%28%60%3Cdiv%20id%3D%22html_56ec270f17c64150b2385985d0b0d751%22%20style%3D%22width%3A%20100.0%25%3B%20height%3A%20100.0%25%3B%22%3EReedley%3C/div%3E%60%29%5B0%5D%3B%0A%20%20%20%20%20%20%20%20%20%20%20%20popup_e9f873f58a8f47c79f59c59a3515cffe.setContent%28html_56ec270f17c64150b2385985d0b0d751%29%3B%0A%20%20%20%20%20%20%20%20%0A%0A%20%20%20%20%20%20%20%20circle_48da72c6b6e34a369a4573873ca69ce7.bindPopup%28popup_e9f873f58a8f47c79f59c59a3515cffe%29%0A%20%20%20%20%20%20%20%20%3B%0A%0A%20%20%20%20%20%20%20%20%0A%20%20%20%20%0A%20%20%20%20%0A%20%20%20%20%20%20%20%20%20%20%20%20var%20circle_9eed6c48848949b987152e61ba1aaffa%20%3D%20L.circle%28%0A%20%20%20%20%20%20%20%20%20%20%20%20%20%20%20%20%5B37.5407246%2C%20-77.4360481%5D%2C%0A%20%20%20%20%20%20%20%20%20%20%20%20%20%20%20%20%7B%22bubblingMouseEvents%22%3A%20true%2C%20%22color%22%3A%20%22blue%22%2C%20%22dashArray%22%3A%20null%2C%20%22dashOffset%22%3A%20null%2C%20%22fill%22%3A%20true%2C%20%22fillColor%22%3A%20%22red%22%2C%20%22fillOpacity%22%3A%200.2%2C%20%22fillRule%22%3A%20%22evenodd%22%2C%20%22lineCap%22%3A%20%22round%22%2C%20%22lineJoin%22%3A%20%22round%22%2C%20%22opacity%22%3A%201.0%2C%20%22radius%22%3A%203132.0%2C%20%22stroke%22%3A%20true%2C%20%22weight%22%3A%203%7D%0A%20%20%20%20%20%20%20%20%20%20%20%20%29.addTo%28map_9ccdc0a9479e4f9e93a22196f6a8d941%29%3B%0A%20%20%20%20%20%20%20%20%0A%20%20%20%20%0A%20%20%20%20%20%20%20%20var%20popup_e35ceefac05f4e409c6304d9cecde1f4%20%3D%20L.popup%28%7B%22maxWidth%22%3A%20%22100%25%22%7D%29%3B%0A%0A%20%20%20%20%20%20%20%20%0A%20%20%20%20%20%20%20%20%20%20%20%20var%20html_06030d2508c547d29d1bde5363d0a60d%20%3D%20%24%28%60%3Cdiv%20id%3D%22html_06030d2508c547d29d1bde5363d0a60d%22%20style%3D%22width%3A%20100.0%25%3B%20height%3A%20100.0%25%3B%22%3ERichmond%3C/div%3E%60%29%5B0%5D%3B%0A%20%20%20%20%20%20%20%20%20%20%20%20popup_e35ceefac05f4e409c6304d9cecde1f4.setContent%28html_06030d2508c547d29d1bde5363d0a60d%29%3B%0A%20%20%20%20%20%20%20%20%0A%0A%20%20%20%20%20%20%20%20circle_9eed6c48848949b987152e61ba1aaffa.bindPopup%28popup_e35ceefac05f4e409c6304d9cecde1f4%29%0A%20%20%20%20%20%20%20%20%3B%0A%0A%20%20%20%20%20%20%20%20%0A%20%20%20%20%0A%20%20%20%20%0A%20%20%20%20%20%20%20%20%20%20%20%20var%20circle_ab66d0e022ed48d8b064ff0fc0ce6282%20%3D%20L.circle%28%0A%20%20%20%20%20%20%20%20%20%20%20%20%20%20%20%20%5B38.5815719%2C%20-121.4943996%5D%2C%0A%20%20%20%20%20%20%20%20%20%20%20%20%20%20%20%20%7B%22bubblingMouseEvents%22%3A%20true%2C%20%22color%22%3A%20%22blue%22%2C%20%22dashArray%22%3A%20null%2C%20%22dashOffset%22%3A%20null%2C%20%22fill%22%3A%20true%2C%20%22fillColor%22%3A%20%22red%22%2C%20%22fillOpacity%22%3A%200.2%2C%20%22fillRule%22%3A%20%22evenodd%22%2C%20%22lineCap%22%3A%20%22round%22%2C%20%22lineJoin%22%3A%20%22round%22%2C%20%22opacity%22%3A%201.0%2C%20%22radius%22%3A%2033228.0%2C%20%22stroke%22%3A%20true%2C%20%22weight%22%3A%203%7D%0A%20%20%20%20%20%20%20%20%20%20%20%20%29.addTo%28map_9ccdc0a9479e4f9e93a22196f6a8d941%29%3B%0A%20%20%20%20%20%20%20%20%0A%20%20%20%20%0A%20%20%20%20%20%20%20%20var%20popup_c351ddad29b94a5abe04092f4c0b84a0%20%3D%20L.popup%28%7B%22maxWidth%22%3A%20%22100%25%22%7D%29%3B%0A%0A%20%20%20%20%20%20%20%20%0A%20%20%20%20%20%20%20%20%20%20%20%20var%20html_ab7159658a634c2da7427c8e15d2a900%20%3D%20%24%28%60%3Cdiv%20id%3D%22html_ab7159658a634c2da7427c8e15d2a900%22%20style%3D%22width%3A%20100.0%25%3B%20height%3A%20100.0%25%3B%22%3ESacramento%3C/div%3E%60%29%5B0%5D%3B%0A%20%20%20%20%20%20%20%20%20%20%20%20popup_c351ddad29b94a5abe04092f4c0b84a0.setContent%28html_ab7159658a634c2da7427c8e15d2a900%29%3B%0A%20%20%20%20%20%20%20%20%0A%0A%20%20%20%20%20%20%20%20circle_ab66d0e022ed48d8b064ff0fc0ce6282.bindPopup%28popup_c351ddad29b94a5abe04092f4c0b84a0%29%0A%20%20%20%20%20%20%20%20%3B%0A%0A%20%20%20%20%20%20%20%20%0A%20%20%20%20%0A%20%20%20%20%0A%20%20%20%20%20%20%20%20%20%20%20%20var%20circle_ee38c5b0402f45c88c06b74699448cc4%20%3D%20L.circle%28%0A%20%20%20%20%20%20%20%20%20%20%20%20%20%20%20%20%5B32.715738%2C%20-117.1610838%5D%2C%0A%20%20%20%20%20%20%20%20%20%20%20%20%20%20%20%20%7B%22bubblingMouseEvents%22%3A%20true%2C%20%22color%22%3A%20%22blue%22%2C%20%22dashArray%22%3A%20null%2C%20%22dashOffset%22%3A%20null%2C%20%22fill%22%3A%20true%2C%20%22fillColor%22%3A%20%22red%22%2C%20%22fillOpacity%22%3A%200.2%2C%20%22fillRule%22%3A%20%22evenodd%22%2C%20%22lineCap%22%3A%20%22round%22%2C%20%22lineJoin%22%3A%20%22round%22%2C%20%22opacity%22%3A%201.0%2C%20%22radius%22%3A%206012.0%2C%20%22stroke%22%3A%20true%2C%20%22weight%22%3A%203%7D%0A%20%20%20%20%20%20%20%20%20%20%20%20%29.addTo%28map_9ccdc0a9479e4f9e93a22196f6a8d941%29%3B%0A%20%20%20%20%20%20%20%20%0A%20%20%20%20%0A%20%20%20%20%20%20%20%20var%20popup_ac5fd51e798b4a2ab7aa2a8745df513d%20%3D%20L.popup%28%7B%22maxWidth%22%3A%20%22100%25%22%7D%29%3B%0A%0A%20%20%20%20%20%20%20%20%0A%20%20%20%20%20%20%20%20%20%20%20%20var%20html_5b94eeddb38a4b748c85ac91f9f057a4%20%3D%20%24%28%60%3Cdiv%20id%3D%22html_5b94eeddb38a4b748c85ac91f9f057a4%22%20style%3D%22width%3A%20100.0%25%3B%20height%3A%20100.0%25%3B%22%3ESan%20Diego%3C/div%3E%60%29%5B0%5D%3B%0A%20%20%20%20%20%20%20%20%20%20%20%20popup_ac5fd51e798b4a2ab7aa2a8745df513d.setContent%28html_5b94eeddb38a4b748c85ac91f9f057a4%29%3B%0A%20%20%20%20%20%20%20%20%0A%0A%20%20%20%20%20%20%20%20circle_ee38c5b0402f45c88c06b74699448cc4.bindPopup%28popup_ac5fd51e798b4a2ab7aa2a8745df513d%29%0A%20%20%20%20%20%20%20%20%3B%0A%0A%20%20%20%20%20%20%20%20%0A%20%20%20%20%0A%20%20%20%20%0A%20%20%20%20%20%20%20%20%20%20%20%20var%20circle_b579f7aa5fe14966943676038ea752f9%20%3D%20L.circle%28%0A%20%20%20%20%20%20%20%20%20%20%20%20%20%20%20%20%5B37.7749295%2C%20-122.4194155%5D%2C%0A%20%20%20%20%20%20%20%20%20%20%20%20%20%20%20%20%7B%22bubblingMouseEvents%22%3A%20true%2C%20%22color%22%3A%20%22blue%22%2C%20%22dashArray%22%3A%20null%2C%20%22dashOffset%22%3A%20null%2C%20%22fill%22%3A%20true%2C%20%22fillColor%22%3A%20%22red%22%2C%20%22fillOpacity%22%3A%200.2%2C%20%22fillRule%22%3A%20%22evenodd%22%2C%20%22lineCap%22%3A%20%22round%22%2C%20%22lineJoin%22%3A%20%22round%22%2C%20%22opacity%22%3A%201.0%2C%20%22radius%22%3A%2034140.0%2C%20%22stroke%22%3A%20true%2C%20%22weight%22%3A%203%7D%0A%20%20%20%20%20%20%20%20%20%20%20%20%29.addTo%28map_9ccdc0a9479e4f9e93a22196f6a8d941%29%3B%0A%20%20%20%20%20%20%20%20%0A%20%20%20%20%0A%20%20%20%20%20%20%20%20var%20popup_b7eccce843214e728944ebc9eba8bfde%20%3D%20L.popup%28%7B%22maxWidth%22%3A%20%22100%25%22%7D%29%3B%0A%0A%20%20%20%20%20%20%20%20%0A%20%20%20%20%20%20%20%20%20%20%20%20var%20html_15f1f87a2fc048a792419e50ca26bb6e%20%3D%20%24%28%60%3Cdiv%20id%3D%22html_15f1f87a2fc048a792419e50ca26bb6e%22%20style%3D%22width%3A%20100.0%25%3B%20height%3A%20100.0%25%3B%22%3ESan%20Francisco%3C/div%3E%60%29%5B0%5D%3B%0A%20%20%20%20%20%20%20%20%20%20%20%20popup_b7eccce843214e728944ebc9eba8bfde.setContent%28html_15f1f87a2fc048a792419e50ca26bb6e%29%3B%0A%20%20%20%20%20%20%20%20%0A%0A%20%20%20%20%20%20%20%20circle_b579f7aa5fe14966943676038ea752f9.bindPopup%28popup_b7eccce843214e728944ebc9eba8bfde%29%0A%20%20%20%20%20%20%20%20%3B%0A%0A%20%20%20%20%20%20%20%20%0A%20%20%20%20%0A%20%20%20%20%0A%20%20%20%20%20%20%20%20%20%20%20%20var%20circle_44e74558d55b431da81a36b4090b3b87%20%3D%20L.circle%28%0A%20%20%20%20%20%20%20%20%20%20%20%20%20%20%20%20%5B33.3631705%2C%20-97.1739027%5D%2C%0A%20%20%20%20%20%20%20%20%20%20%20%20%20%20%20%20%7B%22bubblingMouseEvents%22%3A%20true%2C%20%22color%22%3A%20%22blue%22%2C%20%22dashArray%22%3A%20null%2C%20%22dashOffset%22%3A%20null%2C%20%22fill%22%3A%20true%2C%20%22fillColor%22%3A%20%22red%22%2C%20%22fillOpacity%22%3A%200.2%2C%20%22fillRule%22%3A%20%22evenodd%22%2C%20%22lineCap%22%3A%20%22round%22%2C%20%22lineJoin%22%3A%20%22round%22%2C%20%22opacity%22%3A%201.0%2C%20%22radius%22%3A%204224.0%2C%20%22stroke%22%3A%20true%2C%20%22weight%22%3A%203%7D%0A%20%20%20%20%20%20%20%20%20%20%20%20%29.addTo%28map_9ccdc0a9479e4f9e93a22196f6a8d941%29%3B%0A%20%20%20%20%20%20%20%20%0A%20%20%20%20%0A%20%20%20%20%20%20%20%20var%20popup_090285a2f87c4388a2701c60dd048cc4%20%3D%20L.popup%28%7B%22maxWidth%22%3A%20%22100%25%22%7D%29%3B%0A%0A%20%20%20%20%20%20%20%20%0A%20%20%20%20%20%20%20%20%20%20%20%20var%20html_384a2c13d01f48d590b307f6bb28e9ef%20%3D%20%24%28%60%3Cdiv%20id%3D%22html_384a2c13d01f48d590b307f6bb28e9ef%22%20style%3D%22width%3A%20100.0%25%3B%20height%3A%20100.0%25%3B%22%3ESanger%3C/div%3E%60%29%5B0%5D%3B%0A%20%20%20%20%20%20%20%20%20%20%20%20popup_090285a2f87c4388a2701c60dd048cc4.setContent%28html_384a2c13d01f48d590b307f6bb28e9ef%29%3B%0A%20%20%20%20%20%20%20%20%0A%0A%20%20%20%20%20%20%20%20circle_44e74558d55b431da81a36b4090b3b87.bindPopup%28popup_090285a2f87c4388a2701c60dd048cc4%29%0A%20%20%20%20%20%20%20%20%3B%0A%0A%20%20%20%20%20%20%20%20%0A%20%20%20%20%0A%20%20%20%20%0A%20%20%20%20%20%20%20%20%20%20%20%20var%20circle_b2e68cbb503d4c48a2f542fe9aa5054d%20%3D%20L.circle%28%0A%20%20%20%20%20%20%20%20%20%20%20%20%20%20%20%20%5B37.3382082%2C%20-121.8863286%5D%2C%0A%20%20%20%20%20%20%20%20%20%20%20%20%20%20%20%20%7B%22bubblingMouseEvents%22%3A%20true%2C%20%22color%22%3A%20%22blue%22%2C%20%22dashArray%22%3A%20null%2C%20%22dashOffset%22%3A%20null%2C%20%22fill%22%3A%20true%2C%20%22fillColor%22%3A%20%22red%22%2C%20%22fillOpacity%22%3A%200.2%2C%20%22fillRule%22%3A%20%22evenodd%22%2C%20%22lineCap%22%3A%20%22round%22%2C%20%22lineJoin%22%3A%20%22round%22%2C%20%22opacity%22%3A%201.0%2C%20%22radius%22%3A%2020544.0%2C%20%22stroke%22%3A%20true%2C%20%22weight%22%3A%203%7D%0A%20%20%20%20%20%20%20%20%20%20%20%20%29.addTo%28map_9ccdc0a9479e4f9e93a22196f6a8d941%29%3B%0A%20%20%20%20%20%20%20%20%0A%20%20%20%20%0A%20%20%20%20%20%20%20%20var%20popup_9cb1719b1a5e444f8d358509cbbd363f%20%3D%20L.popup%28%7B%22maxWidth%22%3A%20%22100%25%22%7D%29%3B%0A%0A%20%20%20%20%20%20%20%20%0A%20%20%20%20%20%20%20%20%20%20%20%20var%20html_78fa916fa43e4c06a52648f18ac16b98%20%3D%20%24%28%60%3Cdiv%20id%3D%22html_78fa916fa43e4c06a52648f18ac16b98%22%20style%3D%22width%3A%20100.0%25%3B%20height%3A%20100.0%25%3B%22%3ESan%20Jose%3C/div%3E%60%29%5B0%5D%3B%0A%20%20%20%20%20%20%20%20%20%20%20%20popup_9cb1719b1a5e444f8d358509cbbd363f.setContent%28html_78fa916fa43e4c06a52648f18ac16b98%29%3B%0A%20%20%20%20%20%20%20%20%0A%0A%20%20%20%20%20%20%20%20circle_b2e68cbb503d4c48a2f542fe9aa5054d.bindPopup%28popup_9cb1719b1a5e444f8d358509cbbd363f%29%0A%20%20%20%20%20%20%20%20%3B%0A%0A%20%20%20%20%20%20%20%20%0A%20%20%20%20%0A%20%20%20%20%0A%20%20%20%20%20%20%20%20%20%20%20%20var%20circle_85c3fceb26b74359baa61a3b92e28995%20%3D%20L.circle%28%0A%20%20%20%20%20%20%20%20%20%20%20%20%20%20%20%20%5B37.5629917%2C%20-122.3255254%5D%2C%0A%20%20%20%20%20%20%20%20%20%20%20%20%20%20%20%20%7B%22bubblingMouseEvents%22%3A%20true%2C%20%22color%22%3A%20%22blue%22%2C%20%22dashArray%22%3A%20null%2C%20%22dashOffset%22%3A%20null%2C%20%22fill%22%3A%20true%2C%20%22fillColor%22%3A%20%22red%22%2C%20%22fillOpacity%22%3A%200.2%2C%20%22fillRule%22%3A%20%22evenodd%22%2C%20%22lineCap%22%3A%20%22round%22%2C%20%22lineJoin%22%3A%20%22round%22%2C%20%22opacity%22%3A%201.0%2C%20%22radius%22%3A%204008.0%2C%20%22stroke%22%3A%20true%2C%20%22weight%22%3A%203%7D%0A%20%20%20%20%20%20%20%20%20%20%20%20%29.addTo%28map_9ccdc0a9479e4f9e93a22196f6a8d941%29%3B%0A%20%20%20%20%20%20%20%20%0A%20%20%20%20%0A%20%20%20%20%20%20%20%20var%20popup_36a9550d428543af993ba982ef0d387a%20%3D%20L.popup%28%7B%22maxWidth%22%3A%20%22100%25%22%7D%29%3B%0A%0A%20%20%20%20%20%20%20%20%0A%20%20%20%20%20%20%20%20%20%20%20%20var%20html_a6dd9641d4364ae29e30706266807ffc%20%3D%20%24%28%60%3Cdiv%20id%3D%22html_a6dd9641d4364ae29e30706266807ffc%22%20style%3D%22width%3A%20100.0%25%3B%20height%3A%20100.0%25%3B%22%3ESan%20Mateo%3C/div%3E%60%29%5B0%5D%3B%0A%20%20%20%20%20%20%20%20%20%20%20%20popup_36a9550d428543af993ba982ef0d387a.setContent%28html_a6dd9641d4364ae29e30706266807ffc%29%3B%0A%20%20%20%20%20%20%20%20%0A%0A%20%20%20%20%20%20%20%20circle_85c3fceb26b74359baa61a3b92e28995.bindPopup%28popup_36a9550d428543af993ba982ef0d387a%29%0A%20%20%20%20%20%20%20%20%3B%0A%0A%20%20%20%20%20%20%20%20%0A%20%20%20%20%0A%20%20%20%20%0A%20%20%20%20%20%20%20%20%20%20%20%20var%20circle_1580075df5da497383249b855912dcfc%20%3D%20L.circle%28%0A%20%20%20%20%20%20%20%20%20%20%20%20%20%20%20%20%5B33.7454725%2C%20-117.867653%5D%2C%0A%20%20%20%20%20%20%20%20%20%20%20%20%20%20%20%20%7B%22bubblingMouseEvents%22%3A%20true%2C%20%22color%22%3A%20%22blue%22%2C%20%22dashArray%22%3A%20null%2C%20%22dashOffset%22%3A%20null%2C%20%22fill%22%3A%20true%2C%20%22fillColor%22%3A%20%22red%22%2C%20%22fillOpacity%22%3A%200.2%2C%20%22fillRule%22%3A%20%22evenodd%22%2C%20%22lineCap%22%3A%20%22round%22%2C%20%22lineJoin%22%3A%20%22round%22%2C%20%22opacity%22%3A%201.0%2C%20%22radius%22%3A%202964.0%2C%20%22stroke%22%3A%20true%2C%20%22weight%22%3A%203%7D%0A%20%20%20%20%20%20%20%20%20%20%20%20%29.addTo%28map_9ccdc0a9479e4f9e93a22196f6a8d941%29%3B%0A%20%20%20%20%20%20%20%20%0A%20%20%20%20%0A%20%20%20%20%20%20%20%20var%20popup_28a25748863447268a402758f3e19f3f%20%3D%20L.popup%28%7B%22maxWidth%22%3A%20%22100%25%22%7D%29%3B%0A%0A%20%20%20%20%20%20%20%20%0A%20%20%20%20%20%20%20%20%20%20%20%20var%20html_e343a3fb45864bdb929e4e5d593e9ea2%20%3D%20%24%28%60%3Cdiv%20id%3D%22html_e343a3fb45864bdb929e4e5d593e9ea2%22%20style%3D%22width%3A%20100.0%25%3B%20height%3A%20100.0%25%3B%22%3ESanta%20Ana%3C/div%3E%60%29%5B0%5D%3B%0A%20%20%20%20%20%20%20%20%20%20%20%20popup_28a25748863447268a402758f3e19f3f.setContent%28html_e343a3fb45864bdb929e4e5d593e9ea2%29%3B%0A%20%20%20%20%20%20%20%20%0A%0A%20%20%20%20%20%20%20%20circle_1580075df5da497383249b855912dcfc.bindPopup%28popup_28a25748863447268a402758f3e19f3f%29%0A%20%20%20%20%20%20%20%20%3B%0A%0A%20%20%20%20%20%20%20%20%0A%20%20%20%20%0A%20%20%20%20%0A%20%20%20%20%20%20%20%20%20%20%20%20var%20circle_9e0064bceb6c429ebd6f668e529e5ab7%20%3D%20L.circle%28%0A%20%20%20%20%20%20%20%20%20%20%20%20%20%20%20%20%5B34.4208305%2C%20-119.6981901%5D%2C%0A%20%20%20%20%20%20%20%20%20%20%20%20%20%20%20%20%7B%22bubblingMouseEvents%22%3A%20true%2C%20%22color%22%3A%20%22blue%22%2C%20%22dashArray%22%3A%20null%2C%20%22dashOffset%22%3A%20null%2C%20%22fill%22%3A%20true%2C%20%22fillColor%22%3A%20%22red%22%2C%20%22fillOpacity%22%3A%200.2%2C%20%22fillRule%22%3A%20%22evenodd%22%2C%20%22lineCap%22%3A%20%22round%22%2C%20%22lineJoin%22%3A%20%22round%22%2C%20%22opacity%22%3A%201.0%2C%20%22radius%22%3A%203120.0%2C%20%22stroke%22%3A%20true%2C%20%22weight%22%3A%203%7D%0A%20%20%20%20%20%20%20%20%20%20%20%20%29.addTo%28map_9ccdc0a9479e4f9e93a22196f6a8d941%29%3B%0A%20%20%20%20%20%20%20%20%0A%20%20%20%20%0A%20%20%20%20%20%20%20%20var%20popup_ced262362d5d456480c4b9ac8002fe95%20%3D%20L.popup%28%7B%22maxWidth%22%3A%20%22100%25%22%7D%29%3B%0A%0A%20%20%20%20%20%20%20%20%0A%20%20%20%20%20%20%20%20%20%20%20%20var%20html_847f71aff9b748e081ea919ea1a870e3%20%3D%20%24%28%60%3Cdiv%20id%3D%22html_847f71aff9b748e081ea919ea1a870e3%22%20style%3D%22width%3A%20100.0%25%3B%20height%3A%20100.0%25%3B%22%3ESanta%20Barbara%3C/div%3E%60%29%5B0%5D%3B%0A%20%20%20%20%20%20%20%20%20%20%20%20popup_ced262362d5d456480c4b9ac8002fe95.setContent%28html_847f71aff9b748e081ea919ea1a870e3%29%3B%0A%20%20%20%20%20%20%20%20%0A%0A%20%20%20%20%20%20%20%20circle_9e0064bceb6c429ebd6f668e529e5ab7.bindPopup%28popup_ced262362d5d456480c4b9ac8002fe95%29%0A%20%20%20%20%20%20%20%20%3B%0A%0A%20%20%20%20%20%20%20%20%0A%20%20%20%20%0A%20%20%20%20%0A%20%20%20%20%20%20%20%20%20%20%20%20var%20circle_80484918f017403c8d06a0c6a318826c%20%3D%20L.circle%28%0A%20%20%20%20%20%20%20%20%20%20%20%20%20%20%20%20%5B32.4073589%2C%20-87.0211007%5D%2C%0A%20%20%20%20%20%20%20%20%20%20%20%20%20%20%20%20%7B%22bubblingMouseEvents%22%3A%20true%2C%20%22color%22%3A%20%22blue%22%2C%20%22dashArray%22%3A%20null%2C%20%22dashOffset%22%3A%20null%2C%20%22fill%22%3A%20true%2C%20%22fillColor%22%3A%20%22red%22%2C%20%22fillOpacity%22%3A%200.2%2C%20%22fillRule%22%3A%20%22evenodd%22%2C%20%22lineCap%22%3A%20%22round%22%2C%20%22lineJoin%22%3A%20%22round%22%2C%20%22opacity%22%3A%201.0%2C%20%22radius%22%3A%203828.0%2C%20%22stroke%22%3A%20true%2C%20%22weight%22%3A%203%7D%0A%20%20%20%20%20%20%20%20%20%20%20%20%29.addTo%28map_9ccdc0a9479e4f9e93a22196f6a8d941%29%3B%0A%20%20%20%20%20%20%20%20%0A%20%20%20%20%0A%20%20%20%20%20%20%20%20var%20popup_62abc538c11f479096cee8e711a174dd%20%3D%20L.popup%28%7B%22maxWidth%22%3A%20%22100%25%22%7D%29%3B%0A%0A%20%20%20%20%20%20%20%20%0A%20%20%20%20%20%20%20%20%20%20%20%20var%20html_25fee1246bb649ddb273c3a90ba84171%20%3D%20%24%28%60%3Cdiv%20id%3D%22html_25fee1246bb649ddb273c3a90ba84171%22%20style%3D%22width%3A%20100.0%25%3B%20height%3A%20100.0%25%3B%22%3ESelma%3C/div%3E%60%29%5B0%5D%3B%0A%20%20%20%20%20%20%20%20%20%20%20%20popup_62abc538c11f479096cee8e711a174dd.setContent%28html_25fee1246bb649ddb273c3a90ba84171%29%3B%0A%20%20%20%20%20%20%20%20%0A%0A%20%20%20%20%20%20%20%20circle_80484918f017403c8d06a0c6a318826c.bindPopup%28popup_62abc538c11f479096cee8e711a174dd%29%0A%20%20%20%20%20%20%20%20%3B%0A%0A%20%20%20%20%20%20%20%20%0A%20%20%20%20%0A%20%20%20%20%0A%20%20%20%20%20%20%20%20%20%20%20%20var%20circle_8097c6e1df314c5e949e23eb34f0ceec%20%3D%20L.circle%28%0A%20%20%20%20%20%20%20%20%20%20%20%20%20%20%20%20%5B37.9577016%2C%20-121.2907796%5D%2C%0A%20%20%20%20%20%20%20%20%20%20%20%20%20%20%20%20%7B%22bubblingMouseEvents%22%3A%20true%2C%20%22color%22%3A%20%22blue%22%2C%20%22dashArray%22%3A%20null%2C%20%22dashOffset%22%3A%20null%2C%20%22fill%22%3A%20true%2C%20%22fillColor%22%3A%20%22red%22%2C%20%22fillOpacity%22%3A%200.2%2C%20%22fillRule%22%3A%20%22evenodd%22%2C%20%22lineCap%22%3A%20%22round%22%2C%20%22lineJoin%22%3A%20%22round%22%2C%20%22opacity%22%3A%201.0%2C%20%22radius%22%3A%2018888.0%2C%20%22stroke%22%3A%20true%2C%20%22weight%22%3A%203%7D%0A%20%20%20%20%20%20%20%20%20%20%20%20%29.addTo%28map_9ccdc0a9479e4f9e93a22196f6a8d941%29%3B%0A%20%20%20%20%20%20%20%20%0A%20%20%20%20%0A%20%20%20%20%20%20%20%20var%20popup_e4379a4fa4ad470ca849ac07183af1b7%20%3D%20L.popup%28%7B%22maxWidth%22%3A%20%22100%25%22%7D%29%3B%0A%0A%20%20%20%20%20%20%20%20%0A%20%20%20%20%20%20%20%20%20%20%20%20var%20html_039ca51646d440c3ab274a94c6e1b772%20%3D%20%24%28%60%3Cdiv%20id%3D%22html_039ca51646d440c3ab274a94c6e1b772%22%20style%3D%22width%3A%20100.0%25%3B%20height%3A%20100.0%25%3B%22%3EStockton%3C/div%3E%60%29%5B0%5D%3B%0A%20%20%20%20%20%20%20%20%20%20%20%20popup_e4379a4fa4ad470ca849ac07183af1b7.setContent%28html_039ca51646d440c3ab274a94c6e1b772%29%3B%0A%20%20%20%20%20%20%20%20%0A%0A%20%20%20%20%20%20%20%20circle_8097c6e1df314c5e949e23eb34f0ceec.bindPopup%28popup_e4379a4fa4ad470ca849ac07183af1b7%29%0A%20%20%20%20%20%20%20%20%3B%0A%0A%20%20%20%20%20%20%20%20%0A%20%20%20%20%0A%20%20%20%20%0A%20%20%20%20%20%20%20%20%20%20%20%20var%20circle_e9718b535d3649d3998ad312ba5402c0%20%3D%20L.circle%28%0A%20%20%20%20%20%20%20%20%20%20%20%20%20%20%20%20%5B45.4408474%2C%2012.3155151%5D%2C%0A%20%20%20%20%20%20%20%20%20%20%20%20%20%20%20%20%7B%22bubblingMouseEvents%22%3A%20true%2C%20%22color%22%3A%20%22blue%22%2C%20%22dashArray%22%3A%20null%2C%20%22dashOffset%22%3A%20null%2C%20%22fill%22%3A%20true%2C%20%22fillColor%22%3A%20%22red%22%2C%20%22fillOpacity%22%3A%200.2%2C%20%22fillRule%22%3A%20%22evenodd%22%2C%20%22lineCap%22%3A%20%22round%22%2C%20%22lineJoin%22%3A%20%22round%22%2C%20%22opacity%22%3A%201.0%2C%20%22radius%22%3A%202676.0%2C%20%22stroke%22%3A%20true%2C%20%22weight%22%3A%203%7D%0A%20%20%20%20%20%20%20%20%20%20%20%20%29.addTo%28map_9ccdc0a9479e4f9e93a22196f6a8d941%29%3B%0A%20%20%20%20%20%20%20%20%0A%20%20%20%20%0A%20%20%20%20%20%20%20%20var%20popup_4daa78a754df4e1186a833bfcad71c95%20%3D%20L.popup%28%7B%22maxWidth%22%3A%20%22100%25%22%7D%29%3B%0A%0A%20%20%20%20%20%20%20%20%0A%20%20%20%20%20%20%20%20%20%20%20%20var%20html_b5e3664d58114776bdad263176348a2c%20%3D%20%24%28%60%3Cdiv%20id%3D%22html_b5e3664d58114776bdad263176348a2c%22%20style%3D%22width%3A%20100.0%25%3B%20height%3A%20100.0%25%3B%22%3EVenice%3C/div%3E%60%29%5B0%5D%3B%0A%20%20%20%20%20%20%20%20%20%20%20%20popup_4daa78a754df4e1186a833bfcad71c95.setContent%28html_b5e3664d58114776bdad263176348a2c%29%3B%0A%20%20%20%20%20%20%20%20%0A%0A%20%20%20%20%20%20%20%20circle_e9718b535d3649d3998ad312ba5402c0.bindPopup%28popup_4daa78a754df4e1186a833bfcad71c95%29%0A%20%20%20%20%20%20%20%20%3B%0A%0A%20%20%20%20%20%20%20%20%0A%20%20%20%20%0A%20%20%20%20%0A%20%20%20%20%20%20%20%20%20%20%20%20var%20circle_0ccd62bcb79148a9927d483258703217%20%3D%20L.circle%28%0A%20%20%20%20%20%20%20%20%20%20%20%20%20%20%20%20%5B44.2230691%2C%20-95.4696578%5D%2C%0A%20%20%20%20%20%20%20%20%20%20%20%20%20%20%20%20%7B%22bubblingMouseEvents%22%3A%20true%2C%20%22color%22%3A%20%22blue%22%2C%20%22dashArray%22%3A%20null%2C%20%22dashOffset%22%3A%20null%2C%20%22fill%22%3A%20true%2C%20%22fillColor%22%3A%20%22red%22%2C%20%22fillOpacity%22%3A%200.2%2C%20%22fillRule%22%3A%20%22evenodd%22%2C%20%22lineCap%22%3A%20%22round%22%2C%20%22lineJoin%22%3A%20%22round%22%2C%20%22opacity%22%3A%201.0%2C%20%22radius%22%3A%207104.0%2C%20%22stroke%22%3A%20true%2C%20%22weight%22%3A%203%7D%0A%20%20%20%20%20%20%20%20%20%20%20%20%29.addTo%28map_9ccdc0a9479e4f9e93a22196f6a8d941%29%3B%0A%20%20%20%20%20%20%20%20%0A%20%20%20%20%0A%20%20%20%20%20%20%20%20var%20popup_2be3e81a13034f2e8682ac7e16f35bf0%20%3D%20L.popup%28%7B%22maxWidth%22%3A%20%22100%25%22%7D%29%3B%0A%0A%20%20%20%20%20%20%20%20%0A%20%20%20%20%20%20%20%20%20%20%20%20var%20html_ca6bd5baac32451bbd54db2a26e87ac2%20%3D%20%24%28%60%3Cdiv%20id%3D%22html_ca6bd5baac32451bbd54db2a26e87ac2%22%20style%3D%22width%3A%20100.0%25%3B%20height%3A%20100.0%25%3B%22%3EWalnut%20Grove%3C/div%3E%60%29%5B0%5D%3B%0A%20%20%20%20%20%20%20%20%20%20%20%20popup_2be3e81a13034f2e8682ac7e16f35bf0.setContent%28html_ca6bd5baac32451bbd54db2a26e87ac2%29%3B%0A%20%20%20%20%20%20%20%20%0A%0A%20%20%20%20%20%20%20%20circle_0ccd62bcb79148a9927d483258703217.bindPopup%28popup_2be3e81a13034f2e8682ac7e16f35bf0%29%0A%20%20%20%20%20%20%20%20%3B%0A%0A%20%20%20%20%20%20%20%20%0A%20%20%20%20%0A%20%20%20%20%0A%20%20%20%20%20%20%20%20%20%20%20%20var%20circle_3296d4deeb1447fb966f13ad9839800c%20%3D%20L.circle%28%0A%20%20%20%20%20%20%20%20%20%20%20%20%20%20%20%20%5B36.910231%2C%20-121.7568946%5D%2C%0A%20%20%20%20%20%20%20%20%20%20%20%20%20%20%20%20%7B%22bubblingMouseEvents%22%3A%20true%2C%20%22color%22%3A%20%22blue%22%2C%20%22dashArray%22%3A%20null%2C%20%22dashOffset%22%3A%20null%2C%20%22fill%22%3A%20true%2C%20%22fillColor%22%3A%20%22red%22%2C%20%22fillOpacity%22%3A%200.2%2C%20%22fillRule%22%3A%20%22evenodd%22%2C%20%22lineCap%22%3A%20%22round%22%2C%20%22lineJoin%22%3A%20%22round%22%2C%20%22opacity%22%3A%201.0%2C%20%22radius%22%3A%204536.0%2C%20%22stroke%22%3A%20true%2C%20%22weight%22%3A%203%7D%0A%20%20%20%20%20%20%20%20%20%20%20%20%29.addTo%28map_9ccdc0a9479e4f9e93a22196f6a8d941%29%3B%0A%20%20%20%20%20%20%20%20%0A%20%20%20%20%0A%20%20%20%20%20%20%20%20var%20popup_307f738f82fe4b99ad585cba9cced3e5%20%3D%20L.popup%28%7B%22maxWidth%22%3A%20%22100%25%22%7D%29%3B%0A%0A%20%20%20%20%20%20%20%20%0A%20%20%20%20%20%20%20%20%20%20%20%20var%20html_f12f75035e7645688ca36814d0c96058%20%3D%20%24%28%60%3Cdiv%20id%3D%22html_f12f75035e7645688ca36814d0c96058%22%20style%3D%22width%3A%20100.0%25%3B%20height%3A%20100.0%25%3B%22%3EWatsonville%3C/div%3E%60%29%5B0%5D%3B%0A%20%20%20%20%20%20%20%20%20%20%20%20popup_307f738f82fe4b99ad585cba9cced3e5.setContent%28html_f12f75035e7645688ca36814d0c96058%29%3B%0A%20%20%20%20%20%20%20%20%0A%0A%20%20%20%20%20%20%20%20circle_3296d4deeb1447fb966f13ad9839800c.bindPopup%28popup_307f738f82fe4b99ad585cba9cced3e5%29%0A%20%20%20%20%20%20%20%20%3B%0A%0A%20%20%20%20%20%20%20%20%0A%20%20%20%20%0A%20%20%20%20%0A%20%20%20%20%20%20%20%20%20%20%20%20var%20circle_468421c6c38c4b63b31bda32f884261c%20%3D%20L.circle%28%0A%20%20%20%20%20%20%20%20%20%20%20%20%20%20%20%20%5B40.0149856%2C%20-105.2705456%5D%2C%0A%20%20%20%20%20%20%20%20%20%20%20%20%20%20%20%20%7B%22bubblingMouseEvents%22%3A%20true%2C%20%22color%22%3A%20%22blue%22%2C%20%22dashArray%22%3A%20null%2C%20%22dashOffset%22%3A%20null%2C%20%22fill%22%3A%20true%2C%20%22fillColor%22%3A%20%22red%22%2C%20%22fillOpacity%22%3A%200.2%2C%20%22fillRule%22%3A%20%22evenodd%22%2C%20%22lineCap%22%3A%20%22round%22%2C%20%22lineJoin%22%3A%20%22round%22%2C%20%22opacity%22%3A%201.0%2C%20%22radius%22%3A%202868.0%2C%20%22stroke%22%3A%20true%2C%20%22weight%22%3A%203%7D%0A%20%20%20%20%20%20%20%20%20%20%20%20%29.addTo%28map_9ccdc0a9479e4f9e93a22196f6a8d941%29%3B%0A%20%20%20%20%20%20%20%20%0A%20%20%20%20%0A%20%20%20%20%20%20%20%20var%20popup_f599859175db4fcfa73222018b8d2a32%20%3D%20L.popup%28%7B%22maxWidth%22%3A%20%22100%25%22%7D%29%3B%0A%0A%20%20%20%20%20%20%20%20%0A%20%20%20%20%20%20%20%20%20%20%20%20var%20html_97e2304ecde94b86995132820d27c210%20%3D%20%24%28%60%3Cdiv%20id%3D%22html_97e2304ecde94b86995132820d27c210%22%20style%3D%22width%3A%20100.0%25%3B%20height%3A%20100.0%25%3B%22%3EBoulder%3C/div%3E%60%29%5B0%5D%3B%0A%20%20%20%20%20%20%20%20%20%20%20%20popup_f599859175db4fcfa73222018b8d2a32.setContent%28html_97e2304ecde94b86995132820d27c210%29%3B%0A%20%20%20%20%20%20%20%20%0A%0A%20%20%20%20%20%20%20%20circle_468421c6c38c4b63b31bda32f884261c.bindPopup%28popup_f599859175db4fcfa73222018b8d2a32%29%0A%20%20%20%20%20%20%20%20%3B%0A%0A%20%20%20%20%20%20%20%20%0A%20%20%20%20%0A%20%20%20%20%0A%20%20%20%20%20%20%20%20%20%20%20%20var%20circle_0ce6b3bb1a0f4103b4883721f5dd6edc%20%3D%20L.circle%28%0A%20%20%20%20%20%20%20%20%20%20%20%20%20%20%20%20%5B39.7392358%2C%20-104.990251%5D%2C%0A%20%20%20%20%20%20%20%20%20%20%20%20%20%20%20%20%7B%22bubblingMouseEvents%22%3A%20true%2C%20%22color%22%3A%20%22blue%22%2C%20%22dashArray%22%3A%20null%2C%20%22dashOffset%22%3A%20null%2C%20%22fill%22%3A%20true%2C%20%22fillColor%22%3A%20%22red%22%2C%20%22fillOpacity%22%3A%200.2%2C%20%22fillRule%22%3A%20%22evenodd%22%2C%20%22lineCap%22%3A%20%22round%22%2C%20%22lineJoin%22%3A%20%22round%22%2C%20%22opacity%22%3A%201.0%2C%20%22radius%22%3A%2037488.0%2C%20%22stroke%22%3A%20true%2C%20%22weight%22%3A%203%7D%0A%20%20%20%20%20%20%20%20%20%20%20%20%29.addTo%28map_9ccdc0a9479e4f9e93a22196f6a8d941%29%3B%0A%20%20%20%20%20%20%20%20%0A%20%20%20%20%0A%20%20%20%20%20%20%20%20var%20popup_922546bcaae648969b1d2b36d4204d52%20%3D%20L.popup%28%7B%22maxWidth%22%3A%20%22100%25%22%7D%29%3B%0A%0A%20%20%20%20%20%20%20%20%0A%20%20%20%20%20%20%20%20%20%20%20%20var%20html_33605ee63a694625b51e745a4ddfee66%20%3D%20%24%28%60%3Cdiv%20id%3D%22html_33605ee63a694625b51e745a4ddfee66%22%20style%3D%22width%3A%20100.0%25%3B%20height%3A%20100.0%25%3B%22%3EDenver%3C/div%3E%60%29%5B0%5D%3B%0A%20%20%20%20%20%20%20%20%20%20%20%20popup_922546bcaae648969b1d2b36d4204d52.setContent%28html_33605ee63a694625b51e745a4ddfee66%29%3B%0A%20%20%20%20%20%20%20%20%0A%0A%20%20%20%20%20%20%20%20circle_0ce6b3bb1a0f4103b4883721f5dd6edc.bindPopup%28popup_922546bcaae648969b1d2b36d4204d52%29%0A%20%20%20%20%20%20%20%20%3B%0A%0A%20%20%20%20%20%20%20%20%0A%20%20%20%20%0A%20%20%20%20%0A%20%20%20%20%20%20%20%20%20%20%20%20var%20circle_00ccd8a62e6344ca964c28a7775530a4%20%3D%20L.circle%28%0A%20%20%20%20%20%20%20%20%20%20%20%20%20%20%20%20%5B39.0638705%2C%20-108.5506486%5D%2C%0A%20%20%20%20%20%20%20%20%20%20%20%20%20%20%20%20%7B%22bubblingMouseEvents%22%3A%20true%2C%20%22color%22%3A%20%22blue%22%2C%20%22dashArray%22%3A%20null%2C%20%22dashOffset%22%3A%20null%2C%20%22fill%22%3A%20true%2C%20%22fillColor%22%3A%20%22red%22%2C%20%22fillOpacity%22%3A%200.2%2C%20%22fillRule%22%3A%20%22evenodd%22%2C%20%22lineCap%22%3A%20%22round%22%2C%20%22lineJoin%22%3A%20%22round%22%2C%20%22opacity%22%3A%201.0%2C%20%22radius%22%3A%202424.0%2C%20%22stroke%22%3A%20true%2C%20%22weight%22%3A%203%7D%0A%20%20%20%20%20%20%20%20%20%20%20%20%29.addTo%28map_9ccdc0a9479e4f9e93a22196f6a8d941%29%3B%0A%20%20%20%20%20%20%20%20%0A%20%20%20%20%0A%20%20%20%20%20%20%20%20var%20popup_996641924ded4864b4c60e27a0aabdf3%20%3D%20L.popup%28%7B%22maxWidth%22%3A%20%22100%25%22%7D%29%3B%0A%0A%20%20%20%20%20%20%20%20%0A%20%20%20%20%20%20%20%20%20%20%20%20var%20html_a7931f41cebb4cdc900a0b424bce3339%20%3D%20%24%28%60%3Cdiv%20id%3D%22html_a7931f41cebb4cdc900a0b424bce3339%22%20style%3D%22width%3A%20100.0%25%3B%20height%3A%20100.0%25%3B%22%3EGrand%20Junction%3C/div%3E%60%29%5B0%5D%3B%0A%20%20%20%20%20%20%20%20%20%20%20%20popup_996641924ded4864b4c60e27a0aabdf3.setContent%28html_a7931f41cebb4cdc900a0b424bce3339%29%3B%0A%20%20%20%20%20%20%20%20%0A%0A%20%20%20%20%20%20%20%20circle_00ccd8a62e6344ca964c28a7775530a4.bindPopup%28popup_996641924ded4864b4c60e27a0aabdf3%29%0A%20%20%20%20%20%20%20%20%3B%0A%0A%20%20%20%20%20%20%20%20%0A%20%20%20%20%0A%20%20%20%20%0A%20%20%20%20%20%20%20%20%20%20%20%20var%20circle_7dab22b9122c4e7ba52403fec07d4439%20%3D%20L.circle%28%0A%20%20%20%20%20%20%20%20%20%20%20%20%20%20%20%20%5B43.6150186%2C%20-116.2023137%5D%2C%0A%20%20%20%20%20%20%20%20%20%20%20%20%20%20%20%20%7B%22bubblingMouseEvents%22%3A%20true%2C%20%22color%22%3A%20%22blue%22%2C%20%22dashArray%22%3A%20null%2C%20%22dashOffset%22%3A%20null%2C%20%22fill%22%3A%20true%2C%20%22fillColor%22%3A%20%22red%22%2C%20%22fillOpacity%22%3A%200.2%2C%20%22fillRule%22%3A%20%22evenodd%22%2C%20%22lineCap%22%3A%20%22round%22%2C%20%22lineJoin%22%3A%20%22round%22%2C%20%22opacity%22%3A%201.0%2C%20%22radius%22%3A%203468.0%2C%20%22stroke%22%3A%20true%2C%20%22weight%22%3A%203%7D%0A%20%20%20%20%20%20%20%20%20%20%20%20%29.addTo%28map_9ccdc0a9479e4f9e93a22196f6a8d941%29%3B%0A%20%20%20%20%20%20%20%20%0A%20%20%20%20%0A%20%20%20%20%20%20%20%20var%20popup_28f27d13cc474ceb94acd524a4266e4c%20%3D%20L.popup%28%7B%22maxWidth%22%3A%20%22100%25%22%7D%29%3B%0A%0A%20%20%20%20%20%20%20%20%0A%20%20%20%20%20%20%20%20%20%20%20%20var%20html_9fb67525a6ae43478aae9114ce6d6cf7%20%3D%20%24%28%60%3Cdiv%20id%3D%22html_9fb67525a6ae43478aae9114ce6d6cf7%22%20style%3D%22width%3A%20100.0%25%3B%20height%3A%20100.0%25%3B%22%3EBoise%3C/div%3E%60%29%5B0%5D%3B%0A%20%20%20%20%20%20%20%20%20%20%20%20popup_28f27d13cc474ceb94acd524a4266e4c.setContent%28html_9fb67525a6ae43478aae9114ce6d6cf7%29%3B%0A%20%20%20%20%20%20%20%20%0A%0A%20%20%20%20%20%20%20%20circle_7dab22b9122c4e7ba52403fec07d4439.bindPopup%28popup_28f27d13cc474ceb94acd524a4266e4c%29%0A%20%20%20%20%20%20%20%20%3B%0A%0A%20%20%20%20%20%20%20%20%0A%20%20%20%20%0A%20%20%20%20%0A%20%20%20%20%20%20%20%20%20%20%20%20var%20circle_0261b9f63fca4ed2b8decff2f3634e6a%20%3D%20L.circle%28%0A%20%20%20%20%20%20%20%20%20%20%20%20%20%20%20%20%5B43.6629384%2C%20-116.6873596%5D%2C%0A%20%20%20%20%20%20%20%20%20%20%20%20%20%20%20%20%7B%22bubblingMouseEvents%22%3A%20true%2C%20%22color%22%3A%20%22blue%22%2C%20%22dashArray%22%3A%20null%2C%20%22dashOffset%22%3A%20null%2C%20%22fill%22%3A%20true%2C%20%22fillColor%22%3A%20%22red%22%2C%20%22fillOpacity%22%3A%200.2%2C%20%22fillRule%22%3A%20%22evenodd%22%2C%20%22lineCap%22%3A%20%22round%22%2C%20%22lineJoin%22%3A%20%22round%22%2C%20%22opacity%22%3A%201.0%2C%20%22radius%22%3A%205484.0%2C%20%22stroke%22%3A%20true%2C%20%22weight%22%3A%203%7D%0A%20%20%20%20%20%20%20%20%20%20%20%20%29.addTo%28map_9ccdc0a9479e4f9e93a22196f6a8d941%29%3B%0A%20%20%20%20%20%20%20%20%0A%20%20%20%20%0A%20%20%20%20%20%20%20%20var%20popup_e377f647275c45cc830c4644d01bb8bf%20%3D%20L.popup%28%7B%22maxWidth%22%3A%20%22100%25%22%7D%29%3B%0A%0A%20%20%20%20%20%20%20%20%0A%20%20%20%20%20%20%20%20%20%20%20%20var%20html_e5426fa31c4c445388cc26c0c431cb9b%20%3D%20%24%28%60%3Cdiv%20id%3D%22html_e5426fa31c4c445388cc26c0c431cb9b%22%20style%3D%22width%3A%20100.0%25%3B%20height%3A%20100.0%25%3B%22%3ECaldwell%3C/div%3E%60%29%5B0%5D%3B%0A%20%20%20%20%20%20%20%20%20%20%20%20popup_e377f647275c45cc830c4644d01bb8bf.setContent%28html_e5426fa31c4c445388cc26c0c431cb9b%29%3B%0A%20%20%20%20%20%20%20%20%0A%0A%20%20%20%20%20%20%20%20circle_0261b9f63fca4ed2b8decff2f3634e6a.bindPopup%28popup_e377f647275c45cc830c4644d01bb8bf%29%0A%20%20%20%20%20%20%20%20%3B%0A%0A%20%20%20%20%20%20%20%20%0A%20%20%20%20%0A%20%20%20%20%0A%20%20%20%20%20%20%20%20%20%20%20%20var%20circle_480d6503f9ad4028b5e7accc42879bf1%20%3D%20L.circle%28%0A%20%20%20%20%20%20%20%20%20%20%20%20%20%20%20%20%5B42.3532702%2C%20-71.0525559%5D%2C%0A%20%20%20%20%20%20%20%20%20%20%20%20%20%20%20%20%7B%22bubblingMouseEvents%22%3A%20true%2C%20%22color%22%3A%20%22blue%22%2C%20%22dashArray%22%3A%20null%2C%20%22dashOffset%22%3A%20null%2C%20%22fill%22%3A%20true%2C%20%22fillColor%22%3A%20%22red%22%2C%20%22fillOpacity%22%3A%200.2%2C%20%22fillRule%22%3A%20%22evenodd%22%2C%20%22lineCap%22%3A%20%22round%22%2C%20%22lineJoin%22%3A%20%22round%22%2C%20%22opacity%22%3A%201.0%2C%20%22radius%22%3A%204476.0%2C%20%22stroke%22%3A%20true%2C%20%22weight%22%3A%203%7D%0A%20%20%20%20%20%20%20%20%20%20%20%20%29.addTo%28map_9ccdc0a9479e4f9e93a22196f6a8d941%29%3B%0A%20%20%20%20%20%20%20%20%0A%20%20%20%20%0A%20%20%20%20%20%20%20%20var%20popup_5cfd836ae3eb4518a10f96406210b51f%20%3D%20L.popup%28%7B%22maxWidth%22%3A%20%22100%25%22%7D%29%3B%0A%0A%20%20%20%20%20%20%20%20%0A%20%20%20%20%20%20%20%20%20%20%20%20var%20html_22b7b47b14f5476a9c0a4b950fecc793%20%3D%20%24%28%60%3Cdiv%20id%3D%22html_22b7b47b14f5476a9c0a4b950fecc793%22%20style%3D%22width%3A%20100.0%25%3B%20height%3A%20100.0%25%3B%22%3EPayette%3C/div%3E%60%29%5B0%5D%3B%0A%20%20%20%20%20%20%20%20%20%20%20%20popup_5cfd836ae3eb4518a10f96406210b51f.setContent%28html_22b7b47b14f5476a9c0a4b950fecc793%29%3B%0A%20%20%20%20%20%20%20%20%0A%0A%20%20%20%20%20%20%20%20circle_480d6503f9ad4028b5e7accc42879bf1.bindPopup%28popup_5cfd836ae3eb4518a10f96406210b51f%29%0A%20%20%20%20%20%20%20%20%3B%0A%0A%20%20%20%20%20%20%20%20%0A%20%20%20%20%0A%20%20%20%20%0A%20%20%20%20%20%20%20%20%20%20%20%20var%20circle_442748f0e6fc4fb582986d616578600f%20%3D%20L.circle%28%0A%20%20%20%20%20%20%20%20%20%20%20%20%20%20%20%20%5B42.5558381%2C%20-114.4700518%5D%2C%0A%20%20%20%20%20%20%20%20%20%20%20%20%20%20%20%20%7B%22bubblingMouseEvents%22%3A%20true%2C%20%22color%22%3A%20%22blue%22%2C%20%22dashArray%22%3A%20null%2C%20%22dashOffset%22%3A%20null%2C%20%22fill%22%3A%20true%2C%20%22fillColor%22%3A%20%22red%22%2C%20%22fillOpacity%22%3A%200.2%2C%20%22fillRule%22%3A%20%22evenodd%22%2C%20%22lineCap%22%3A%20%22round%22%2C%20%22lineJoin%22%3A%20%22round%22%2C%20%22opacity%22%3A%201.0%2C%20%22radius%22%3A%204056.0%2C%20%22stroke%22%3A%20true%2C%20%22weight%22%3A%203%7D%0A%20%20%20%20%20%20%20%20%20%20%20%20%29.addTo%28map_9ccdc0a9479e4f9e93a22196f6a8d941%29%3B%0A%20%20%20%20%20%20%20%20%0A%20%20%20%20%0A%20%20%20%20%20%20%20%20var%20popup_51c36e9da7354394a71f5fae3d597710%20%3D%20L.popup%28%7B%22maxWidth%22%3A%20%22100%25%22%7D%29%3B%0A%0A%20%20%20%20%20%20%20%20%0A%20%20%20%20%20%20%20%20%20%20%20%20var%20html_99cf3b5786fc48e2b11f3a14d85cdbba%20%3D%20%24%28%60%3Cdiv%20id%3D%22html_99cf3b5786fc48e2b11f3a14d85cdbba%22%20style%3D%22width%3A%20100.0%25%3B%20height%3A%20100.0%25%3B%22%3ETwin%20Falls%3C/div%3E%60%29%5B0%5D%3B%0A%20%20%20%20%20%20%20%20%20%20%20%20popup_51c36e9da7354394a71f5fae3d597710.setContent%28html_99cf3b5786fc48e2b11f3a14d85cdbba%29%3B%0A%20%20%20%20%20%20%20%20%0A%0A%20%20%20%20%20%20%20%20circle_442748f0e6fc4fb582986d616578600f.bindPopup%28popup_51c36e9da7354394a71f5fae3d597710%29%0A%20%20%20%20%20%20%20%20%3B%0A%0A%20%20%20%20%20%20%20%20%0A%20%20%20%20%0A%20%20%20%20%0A%20%20%20%20%20%20%20%20%20%20%20%20var%20circle_acbcc6a378dc44d183fd33d734c73cb9%20%3D%20L.circle%28%0A%20%20%20%20%20%20%20%20%20%20%20%20%20%20%20%20%5B44.2509976%2C%20-116.9693327%5D%2C%0A%20%20%20%20%20%20%20%20%20%20%20%20%20%20%20%20%7B%22bubblingMouseEvents%22%3A%20true%2C%20%22color%22%3A%20%22blue%22%2C%20%22dashArray%22%3A%20null%2C%20%22dashOffset%22%3A%20null%2C%20%22fill%22%3A%20true%2C%20%22fillColor%22%3A%20%22red%22%2C%20%22fillOpacity%22%3A%200.2%2C%20%22fillRule%22%3A%20%22evenodd%22%2C%20%22lineCap%22%3A%20%22round%22%2C%20%22lineJoin%22%3A%20%22round%22%2C%20%22opacity%22%3A%201.0%2C%20%22radius%22%3A%203684.0%2C%20%22stroke%22%3A%20true%2C%20%22weight%22%3A%203%7D%0A%20%20%20%20%20%20%20%20%20%20%20%20%29.addTo%28map_9ccdc0a9479e4f9e93a22196f6a8d941%29%3B%0A%20%20%20%20%20%20%20%20%0A%20%20%20%20%0A%20%20%20%20%20%20%20%20var%20popup_4be1d6b0178744bd8a0d5ede71cd41df%20%3D%20L.popup%28%7B%22maxWidth%22%3A%20%22100%25%22%7D%29%3B%0A%0A%20%20%20%20%20%20%20%20%0A%20%20%20%20%20%20%20%20%20%20%20%20var%20html_a3cb12a5c11445e6ac719f77a7065587%20%3D%20%24%28%60%3Cdiv%20id%3D%22html_a3cb12a5c11445e6ac719f77a7065587%22%20style%3D%22width%3A%20100.0%25%3B%20height%3A%20100.0%25%3B%22%3EWeiser%3C/div%3E%60%29%5B0%5D%3B%0A%20%20%20%20%20%20%20%20%20%20%20%20popup_4be1d6b0178744bd8a0d5ede71cd41df.setContent%28html_a3cb12a5c11445e6ac719f77a7065587%29%3B%0A%20%20%20%20%20%20%20%20%0A%0A%20%20%20%20%20%20%20%20circle_acbcc6a378dc44d183fd33d734c73cb9.bindPopup%28popup_4be1d6b0178744bd8a0d5ede71cd41df%29%0A%20%20%20%20%20%20%20%20%3B%0A%0A%20%20%20%20%20%20%20%20%0A%20%20%20%20%0A%20%20%20%20%0A%20%20%20%20%20%20%20%20%20%20%20%20var%20circle_3ed2fbb49dcf4de8bfb4ae446eafb901%20%3D%20L.circle%28%0A%20%20%20%20%20%20%20%20%20%20%20%20%20%20%20%20%5B41.8781136%2C%20-87.6297982%5D%2C%0A%20%20%20%20%20%20%20%20%20%20%20%20%20%20%20%20%7B%22bubblingMouseEvents%22%3A%20true%2C%20%22color%22%3A%20%22blue%22%2C%20%22dashArray%22%3A%20null%2C%20%22dashOffset%22%3A%20null%2C%20%22fill%22%3A%20true%2C%20%22fillColor%22%3A%20%22red%22%2C%20%22fillOpacity%22%3A%200.2%2C%20%22fillRule%22%3A%20%22evenodd%22%2C%20%22lineCap%22%3A%20%22round%22%2C%20%22lineJoin%22%3A%20%22round%22%2C%20%22opacity%22%3A%201.0%2C%20%22radius%22%3A%20135708.0%2C%20%22stroke%22%3A%20true%2C%20%22weight%22%3A%203%7D%0A%20%20%20%20%20%20%20%20%20%20%20%20%29.addTo%28map_9ccdc0a9479e4f9e93a22196f6a8d941%29%3B%0A%20%20%20%20%20%20%20%20%0A%20%20%20%20%0A%20%20%20%20%20%20%20%20var%20popup_ea0c629111a44755ac58d7b5ac1605af%20%3D%20L.popup%28%7B%22maxWidth%22%3A%20%22100%25%22%7D%29%3B%0A%0A%20%20%20%20%20%20%20%20%0A%20%20%20%20%20%20%20%20%20%20%20%20var%20html_0a31c9acfeef45688f90e7140054b7a1%20%3D%20%24%28%60%3Cdiv%20id%3D%22html_0a31c9acfeef45688f90e7140054b7a1%22%20style%3D%22width%3A%20100.0%25%3B%20height%3A%20100.0%25%3B%22%3EChicago%3C/div%3E%60%29%5B0%5D%3B%0A%20%20%20%20%20%20%20%20%20%20%20%20popup_ea0c629111a44755ac58d7b5ac1605af.setContent%28html_0a31c9acfeef45688f90e7140054b7a1%29%3B%0A%20%20%20%20%20%20%20%20%0A%0A%20%20%20%20%20%20%20%20circle_3ed2fbb49dcf4de8bfb4ae446eafb901.bindPopup%28popup_ea0c629111a44755ac58d7b5ac1605af%29%0A%20%20%20%20%20%20%20%20%3B%0A%0A%20%20%20%20%20%20%20%20%0A%20%20%20%20%0A%20%20%20%20%0A%20%20%20%20%20%20%20%20%20%20%20%20var%20circle_5e0ce05394d34e759878aa29bae13ea7%20%3D%20L.circle%28%0A%20%20%20%20%20%20%20%20%20%20%20%20%20%20%20%20%5B41.5868353%2C%20-93.6249593%5D%2C%0A%20%20%20%20%20%20%20%20%20%20%20%20%20%20%20%20%7B%22bubblingMouseEvents%22%3A%20true%2C%20%22color%22%3A%20%22blue%22%2C%20%22dashArray%22%3A%20null%2C%20%22dashOffset%22%3A%20null%2C%20%22fill%22%3A%20true%2C%20%22fillColor%22%3A%20%22red%22%2C%20%22fillOpacity%22%3A%200.2%2C%20%22fillRule%22%3A%20%22evenodd%22%2C%20%22lineCap%22%3A%20%22round%22%2C%20%22lineJoin%22%3A%20%22round%22%2C%20%22opacity%22%3A%201.0%2C%20%22radius%22%3A%204536.0%2C%20%22stroke%22%3A%20true%2C%20%22weight%22%3A%203%7D%0A%20%20%20%20%20%20%20%20%20%20%20%20%29.addTo%28map_9ccdc0a9479e4f9e93a22196f6a8d941%29%3B%0A%20%20%20%20%20%20%20%20%0A%20%20%20%20%0A%20%20%20%20%20%20%20%20var%20popup_241b46d23446467fa0c6666fe6ee2872%20%3D%20L.popup%28%7B%22maxWidth%22%3A%20%22100%25%22%7D%29%3B%0A%0A%20%20%20%20%20%20%20%20%0A%20%20%20%20%20%20%20%20%20%20%20%20var%20html_91e44596678a40f7a55b1fe8b19ec23d%20%3D%20%24%28%60%3Cdiv%20id%3D%22html_91e44596678a40f7a55b1fe8b19ec23d%22%20style%3D%22width%3A%20100.0%25%3B%20height%3A%20100.0%25%3B%22%3EDes%20Moines%3C/div%3E%60%29%5B0%5D%3B%0A%20%20%20%20%20%20%20%20%20%20%20%20popup_241b46d23446467fa0c6666fe6ee2872.setContent%28html_91e44596678a40f7a55b1fe8b19ec23d%29%3B%0A%20%20%20%20%20%20%20%20%0A%0A%20%20%20%20%20%20%20%20circle_5e0ce05394d34e759878aa29bae13ea7.bindPopup%28popup_241b46d23446467fa0c6666fe6ee2872%29%0A%20%20%20%20%20%20%20%20%3B%0A%0A%20%20%20%20%20%20%20%20%0A%20%20%20%20%0A%20%20%20%20%0A%20%20%20%20%20%20%20%20%20%20%20%20var%20circle_9a7ab3186c054a888c2e808501672d26%20%3D%20L.circle%28%0A%20%20%20%20%20%20%20%20%20%20%20%20%20%20%20%20%5B42.2808256%2C%20-83.7430378%5D%2C%0A%20%20%20%20%20%20%20%20%20%20%20%20%20%20%20%20%7B%22bubblingMouseEvents%22%3A%20true%2C%20%22color%22%3A%20%22blue%22%2C%20%22dashArray%22%3A%20null%2C%20%22dashOffset%22%3A%20null%2C%20%22fill%22%3A%20true%2C%20%22fillColor%22%3A%20%22red%22%2C%20%22fillOpacity%22%3A%200.2%2C%20%22fillRule%22%3A%20%22evenodd%22%2C%20%22lineCap%22%3A%20%22round%22%2C%20%22lineJoin%22%3A%20%22round%22%2C%20%22opacity%22%3A%201.0%2C%20%22radius%22%3A%206408.0%2C%20%22stroke%22%3A%20true%2C%20%22weight%22%3A%203%7D%0A%20%20%20%20%20%20%20%20%20%20%20%20%29.addTo%28map_9ccdc0a9479e4f9e93a22196f6a8d941%29%3B%0A%20%20%20%20%20%20%20%20%0A%20%20%20%20%0A%20%20%20%20%20%20%20%20var%20popup_a7cdf5119af44571abcdb8f97280e43a%20%3D%20L.popup%28%7B%22maxWidth%22%3A%20%22100%25%22%7D%29%3B%0A%0A%20%20%20%20%20%20%20%20%0A%20%20%20%20%20%20%20%20%20%20%20%20var%20html_8a9b7bdd77ae4d6db609eb776ac04f1c%20%3D%20%24%28%60%3Cdiv%20id%3D%22html_8a9b7bdd77ae4d6db609eb776ac04f1c%22%20style%3D%22width%3A%20100.0%25%3B%20height%3A%20100.0%25%3B%22%3EAnn%20Arbor%3C/div%3E%60%29%5B0%5D%3B%0A%20%20%20%20%20%20%20%20%20%20%20%20popup_a7cdf5119af44571abcdb8f97280e43a.setContent%28html_8a9b7bdd77ae4d6db609eb776ac04f1c%29%3B%0A%20%20%20%20%20%20%20%20%0A%0A%20%20%20%20%20%20%20%20circle_9a7ab3186c054a888c2e808501672d26.bindPopup%28popup_a7cdf5119af44571abcdb8f97280e43a%29%0A%20%20%20%20%20%20%20%20%3B%0A%0A%20%20%20%20%20%20%20%20%0A%20%20%20%20%0A%20%20%20%20%0A%20%20%20%20%20%20%20%20%20%20%20%20var%20circle_d36d951f22af4bc484ec1368e04f8964%20%3D%20L.circle%28%0A%20%20%20%20%20%20%20%20%20%20%20%20%20%20%20%20%5B42.331427%2C%20-83.0457538%5D%2C%0A%20%20%20%20%20%20%20%20%20%20%20%20%20%20%20%20%7B%22bubblingMouseEvents%22%3A%20true%2C%20%22color%22%3A%20%22blue%22%2C%20%22dashArray%22%3A%20null%2C%20%22dashOffset%22%3A%20null%2C%20%22fill%22%3A%20true%2C%20%22fillColor%22%3A%20%22red%22%2C%20%22fillOpacity%22%3A%200.2%2C%20%22fillRule%22%3A%20%22evenodd%22%2C%20%22lineCap%22%3A%20%22round%22%2C%20%22lineJoin%22%3A%20%22round%22%2C%20%22opacity%22%3A%201.0%2C%20%22radius%22%3A%2019788.0%2C%20%22stroke%22%3A%20true%2C%20%22weight%22%3A%203%7D%0A%20%20%20%20%20%20%20%20%20%20%20%20%29.addTo%28map_9ccdc0a9479e4f9e93a22196f6a8d941%29%3B%0A%20%20%20%20%20%20%20%20%0A%20%20%20%20%0A%20%20%20%20%20%20%20%20var%20popup_b8eb738b9be744a39eab243e5e36eaec%20%3D%20L.popup%28%7B%22maxWidth%22%3A%20%22100%25%22%7D%29%3B%0A%0A%20%20%20%20%20%20%20%20%0A%20%20%20%20%20%20%20%20%20%20%20%20var%20html_985099ae6dd54c6dbd126f702d8b574a%20%3D%20%24%28%60%3Cdiv%20id%3D%22html_985099ae6dd54c6dbd126f702d8b574a%22%20style%3D%22width%3A%20100.0%25%3B%20height%3A%20100.0%25%3B%22%3EDetroit%3C/div%3E%60%29%5B0%5D%3B%0A%20%20%20%20%20%20%20%20%20%20%20%20popup_b8eb738b9be744a39eab243e5e36eaec.setContent%28html_985099ae6dd54c6dbd126f702d8b574a%29%3B%0A%20%20%20%20%20%20%20%20%0A%0A%20%20%20%20%20%20%20%20circle_d36d951f22af4bc484ec1368e04f8964.bindPopup%28popup_b8eb738b9be744a39eab243e5e36eaec%29%0A%20%20%20%20%20%20%20%20%3B%0A%0A%20%20%20%20%20%20%20%20%0A%20%20%20%20%0A%20%20%20%20%0A%20%20%20%20%20%20%20%20%20%20%20%20var%20circle_c31ab726e518408691c3d1e9952c9b52%20%3D%20L.circle%28%0A%20%20%20%20%20%20%20%20%20%20%20%20%20%20%20%20%5B44.977753%2C%20-93.2650108%5D%2C%0A%20%20%20%20%20%20%20%20%20%20%20%20%20%20%20%20%7B%22bubblingMouseEvents%22%3A%20true%2C%20%22color%22%3A%20%22blue%22%2C%20%22dashArray%22%3A%20null%2C%20%22dashOffset%22%3A%20null%2C%20%22fill%22%3A%20true%2C%20%22fillColor%22%3A%20%22red%22%2C%20%22fillOpacity%22%3A%200.2%2C%20%22fillRule%22%3A%20%22evenodd%22%2C%20%22lineCap%22%3A%20%22round%22%2C%20%22lineJoin%22%3A%20%22round%22%2C%20%22opacity%22%3A%201.0%2C%20%22radius%22%3A%2016248.0%2C%20%22stroke%22%3A%20true%2C%20%22weight%22%3A%203%7D%0A%20%20%20%20%20%20%20%20%20%20%20%20%29.addTo%28map_9ccdc0a9479e4f9e93a22196f6a8d941%29%3B%0A%20%20%20%20%20%20%20%20%0A%20%20%20%20%0A%20%20%20%20%20%20%20%20var%20popup_0527df397305466aabd4827e267f064b%20%3D%20L.popup%28%7B%22maxWidth%22%3A%20%22100%25%22%7D%29%3B%0A%0A%20%20%20%20%20%20%20%20%0A%20%20%20%20%20%20%20%20%20%20%20%20var%20html_ac80a2de7c3f4cc58521d8745bbe6578%20%3D%20%24%28%60%3Cdiv%20id%3D%22html_ac80a2de7c3f4cc58521d8745bbe6578%22%20style%3D%22width%3A%20100.0%25%3B%20height%3A%20100.0%25%3B%22%3EMinneapolis%3C/div%3E%60%29%5B0%5D%3B%0A%20%20%20%20%20%20%20%20%20%20%20%20popup_0527df397305466aabd4827e267f064b.setContent%28html_ac80a2de7c3f4cc58521d8745bbe6578%29%3B%0A%20%20%20%20%20%20%20%20%0A%0A%20%20%20%20%20%20%20%20circle_c31ab726e518408691c3d1e9952c9b52.bindPopup%28popup_0527df397305466aabd4827e267f064b%29%0A%20%20%20%20%20%20%20%20%3B%0A%0A%20%20%20%20%20%20%20%20%0A%20%20%20%20%0A%20%20%20%20%0A%20%20%20%20%20%20%20%20%20%20%20%20var%20circle_6f57972f3dff413186726f0cb200c885%20%3D%20L.circle%28%0A%20%20%20%20%20%20%20%20%20%20%20%20%20%20%20%20%5B44.9537029%2C%20-93.0899578%5D%2C%0A%20%20%20%20%20%20%20%20%20%20%20%20%20%20%20%20%7B%22bubblingMouseEvents%22%3A%20true%2C%20%22color%22%3A%20%22blue%22%2C%20%22dashArray%22%3A%20null%2C%20%22dashOffset%22%3A%20null%2C%20%22fill%22%3A%20true%2C%20%22fillColor%22%3A%20%22red%22%2C%20%22fillOpacity%22%3A%200.2%2C%20%22fillRule%22%3A%20%22evenodd%22%2C%20%22lineCap%22%3A%20%22round%22%2C%20%22lineJoin%22%3A%20%22round%22%2C%20%22opacity%22%3A%201.0%2C%20%22radius%22%3A%203384.0%2C%20%22stroke%22%3A%20true%2C%20%22weight%22%3A%203%7D%0A%20%20%20%20%20%20%20%20%20%20%20%20%29.addTo%28map_9ccdc0a9479e4f9e93a22196f6a8d941%29%3B%0A%20%20%20%20%20%20%20%20%0A%20%20%20%20%0A%20%20%20%20%20%20%20%20var%20popup_7fa44449c4a14fabac2de56b0178bf3b%20%3D%20L.popup%28%7B%22maxWidth%22%3A%20%22100%25%22%7D%29%3B%0A%0A%20%20%20%20%20%20%20%20%0A%20%20%20%20%20%20%20%20%20%20%20%20var%20html_5b9802a9fb564a07b253548a2349dd11%20%3D%20%24%28%60%3Cdiv%20id%3D%22html_5b9802a9fb564a07b253548a2349dd11%22%20style%3D%22width%3A%20100.0%25%3B%20height%3A%20100.0%25%3B%22%3ESt.%20Paul%3C/div%3E%60%29%5B0%5D%3B%0A%20%20%20%20%20%20%20%20%20%20%20%20popup_7fa44449c4a14fabac2de56b0178bf3b.setContent%28html_5b9802a9fb564a07b253548a2349dd11%29%3B%0A%20%20%20%20%20%20%20%20%0A%0A%20%20%20%20%20%20%20%20circle_6f57972f3dff413186726f0cb200c885.bindPopup%28popup_7fa44449c4a14fabac2de56b0178bf3b%29%0A%20%20%20%20%20%20%20%20%3B%0A%0A%20%20%20%20%20%20%20%20%0A%20%20%20%20%0A%20%20%20%20%0A%20%20%20%20%20%20%20%20%20%20%20%20var%20circle_922ebbf8719040f0bb9ad824397ba117%20%3D%20L.circle%28%0A%20%20%20%20%20%20%20%20%20%20%20%20%20%20%20%20%5B39.0997265%2C%20-94.5785667%5D%2C%0A%20%20%20%20%20%20%20%20%20%20%20%20%20%20%20%20%7B%22bubblingMouseEvents%22%3A%20true%2C%20%22color%22%3A%20%22blue%22%2C%20%22dashArray%22%3A%20null%2C%20%22dashOffset%22%3A%20null%2C%20%22fill%22%3A%20true%2C%20%22fillColor%22%3A%20%22red%22%2C%20%22fillOpacity%22%3A%200.2%2C%20%22fillRule%22%3A%20%22evenodd%22%2C%20%22lineCap%22%3A%20%22round%22%2C%20%22lineJoin%22%3A%20%22round%22%2C%20%22opacity%22%3A%201.0%2C%20%22radius%22%3A%204152.0%2C%20%22stroke%22%3A%20true%2C%20%22weight%22%3A%203%7D%0A%20%20%20%20%20%20%20%20%20%20%20%20%29.addTo%28map_9ccdc0a9479e4f9e93a22196f6a8d941%29%3B%0A%20%20%20%20%20%20%20%20%0A%20%20%20%20%0A%20%20%20%20%20%20%20%20var%20popup_533cb8f64b3c46f6b8630795f6def151%20%3D%20L.popup%28%7B%22maxWidth%22%3A%20%22100%25%22%7D%29%3B%0A%0A%20%20%20%20%20%20%20%20%0A%20%20%20%20%20%20%20%20%20%20%20%20var%20html_66339193ccf34f8a8784dcd56549c9a1%20%3D%20%24%28%60%3Cdiv%20id%3D%22html_66339193ccf34f8a8784dcd56549c9a1%22%20style%3D%22width%3A%20100.0%25%3B%20height%3A%20100.0%25%3B%22%3EKansas%20City%3C/div%3E%60%29%5B0%5D%3B%0A%20%20%20%20%20%20%20%20%20%20%20%20popup_533cb8f64b3c46f6b8630795f6def151.setContent%28html_66339193ccf34f8a8784dcd56549c9a1%29%3B%0A%20%20%20%20%20%20%20%20%0A%0A%20%20%20%20%20%20%20%20circle_922ebbf8719040f0bb9ad824397ba117.bindPopup%28popup_533cb8f64b3c46f6b8630795f6def151%29%0A%20%20%20%20%20%20%20%20%3B%0A%0A%20%20%20%20%20%20%20%20%0A%20%20%20%20%0A%20%20%20%20%0A%20%20%20%20%20%20%20%20%20%20%20%20var%20circle_3683f5549b164611a701a860aaa649c2%20%3D%20L.circle%28%0A%20%20%20%20%20%20%20%20%20%20%20%20%20%20%20%20%5B38.6270025%2C%20-90.1994042%5D%2C%0A%20%20%20%20%20%20%20%20%20%20%20%20%20%20%20%20%7B%22bubblingMouseEvents%22%3A%20true%2C%20%22color%22%3A%20%22blue%22%2C%20%22dashArray%22%3A%20null%2C%20%22dashOffset%22%3A%20null%2C%20%22fill%22%3A%20true%2C%20%22fillColor%22%3A%20%22red%22%2C%20%22fillOpacity%22%3A%200.2%2C%20%22fillRule%22%3A%20%22evenodd%22%2C%20%22lineCap%22%3A%20%22round%22%2C%20%22lineJoin%22%3A%20%22round%22%2C%20%22opacity%22%3A%201.0%2C%20%22radius%22%3A%205628.0%2C%20%22stroke%22%3A%20true%2C%20%22weight%22%3A%203%7D%0A%20%20%20%20%20%20%20%20%20%20%20%20%29.addTo%28map_9ccdc0a9479e4f9e93a22196f6a8d941%29%3B%0A%20%20%20%20%20%20%20%20%0A%20%20%20%20%0A%20%20%20%20%20%20%20%20var%20popup_3acb8c80f8f14012a566921d310deb08%20%3D%20L.popup%28%7B%22maxWidth%22%3A%20%22100%25%22%7D%29%3B%0A%0A%20%20%20%20%20%20%20%20%0A%20%20%20%20%20%20%20%20%20%20%20%20var%20html_66a3870ce79841c18ee7531c72e1ae49%20%3D%20%24%28%60%3Cdiv%20id%3D%22html_66a3870ce79841c18ee7531c72e1ae49%22%20style%3D%22width%3A%20100.0%25%3B%20height%3A%20100.0%25%3B%22%3ESt.%20Louis%3C/div%3E%60%29%5B0%5D%3B%0A%20%20%20%20%20%20%20%20%20%20%20%20popup_3acb8c80f8f14012a566921d310deb08.setContent%28html_66a3870ce79841c18ee7531c72e1ae49%29%3B%0A%20%20%20%20%20%20%20%20%0A%0A%20%20%20%20%20%20%20%20circle_3683f5549b164611a701a860aaa649c2.bindPopup%28popup_3acb8c80f8f14012a566921d310deb08%29%0A%20%20%20%20%20%20%20%20%3B%0A%0A%20%20%20%20%20%20%20%20%0A%20%20%20%20%0A%20%20%20%20%0A%20%20%20%20%20%20%20%20%20%20%20%20var%20circle_a953a7bd0a2d4949aabf97d98154d8fe%20%3D%20L.circle%28%0A%20%20%20%20%20%20%20%20%20%20%20%20%20%20%20%20%5B41.2565369%2C%20-95.9345034%5D%2C%0A%20%20%20%20%20%20%20%20%20%20%20%20%20%20%20%20%7B%22bubblingMouseEvents%22%3A%20true%2C%20%22color%22%3A%20%22blue%22%2C%20%22dashArray%22%3A%20null%2C%20%22dashOffset%22%3A%20null%2C%20%22fill%22%3A%20true%2C%20%22fillColor%22%3A%20%22red%22%2C%20%22fillOpacity%22%3A%200.2%2C%20%22fillRule%22%3A%20%22evenodd%22%2C%20%22lineCap%22%3A%20%22round%22%2C%20%22lineJoin%22%3A%20%22round%22%2C%20%22opacity%22%3A%201.0%2C%20%22radius%22%3A%202652.0%2C%20%22stroke%22%3A%20true%2C%20%22weight%22%3A%203%7D%0A%20%20%20%20%20%20%20%20%20%20%20%20%29.addTo%28map_9ccdc0a9479e4f9e93a22196f6a8d941%29%3B%0A%20%20%20%20%20%20%20%20%0A%20%20%20%20%0A%20%20%20%20%20%20%20%20var%20popup_41fdaf4398bd4ff5b2b01c12de966255%20%3D%20L.popup%28%7B%22maxWidth%22%3A%20%22100%25%22%7D%29%3B%0A%0A%20%20%20%20%20%20%20%20%0A%20%20%20%20%20%20%20%20%20%20%20%20var%20html_22958499528c498a890c93a91e850edd%20%3D%20%24%28%60%3Cdiv%20id%3D%22html_22958499528c498a890c93a91e850edd%22%20style%3D%22width%3A%20100.0%25%3B%20height%3A%20100.0%25%3B%22%3EOmaha%3C/div%3E%60%29%5B0%5D%3B%0A%20%20%20%20%20%20%20%20%20%20%20%20popup_41fdaf4398bd4ff5b2b01c12de966255.setContent%28html_22958499528c498a890c93a91e850edd%29%3B%0A%20%20%20%20%20%20%20%20%0A%0A%20%20%20%20%20%20%20%20circle_a953a7bd0a2d4949aabf97d98154d8fe.bindPopup%28popup_41fdaf4398bd4ff5b2b01c12de966255%29%0A%20%20%20%20%20%20%20%20%3B%0A%0A%20%20%20%20%20%20%20%20%0A%20%20%20%20%0A%20%20%20%20%0A%20%20%20%20%20%20%20%20%20%20%20%20var%20circle_c1740106faf84dc1840c4d643633a0a7%20%3D%20L.circle%28%0A%20%20%20%20%20%20%20%20%20%20%20%20%20%20%20%20%5B39.427337%2C%20-75.2340768%5D%2C%0A%20%20%20%20%20%20%20%20%20%20%20%20%20%20%20%20%7B%22bubblingMouseEvents%22%3A%20true%2C%20%22color%22%3A%20%22blue%22%2C%20%22dashArray%22%3A%20null%2C%20%22dashOffset%22%3A%20null%2C%20%22fill%22%3A%20true%2C%20%22fillColor%22%3A%20%22red%22%2C%20%22fillOpacity%22%3A%200.2%2C%20%22fillRule%22%3A%20%22evenodd%22%2C%20%22lineCap%22%3A%20%22round%22%2C%20%22lineJoin%22%3A%20%22round%22%2C%20%22opacity%22%3A%201.0%2C%20%22radius%22%3A%2023640.0%2C%20%22stroke%22%3A%20true%2C%20%22weight%22%3A%203%7D%0A%20%20%20%20%20%20%20%20%20%20%20%20%29.addTo%28map_9ccdc0a9479e4f9e93a22196f6a8d941%29%3B%0A%20%20%20%20%20%20%20%20%0A%20%20%20%20%0A%20%20%20%20%20%20%20%20var%20popup_d50eb012e3d74216ad69e87e9c59d696%20%3D%20L.popup%28%7B%22maxWidth%22%3A%20%22100%25%22%7D%29%3B%0A%0A%20%20%20%20%20%20%20%20%0A%20%20%20%20%20%20%20%20%20%20%20%20var%20html_e20b85b8f40641f2943372a091b32b98%20%3D%20%24%28%60%3Cdiv%20id%3D%22html_e20b85b8f40641f2943372a091b32b98%22%20style%3D%22width%3A%20100.0%25%3B%20height%3A%20100.0%25%3B%22%3EBridgeton%3C/div%3E%60%29%5B0%5D%3B%0A%20%20%20%20%20%20%20%20%20%20%20%20popup_d50eb012e3d74216ad69e87e9c59d696.setContent%28html_e20b85b8f40641f2943372a091b32b98%29%3B%0A%20%20%20%20%20%20%20%20%0A%0A%20%20%20%20%20%20%20%20circle_c1740106faf84dc1840c4d643633a0a7.bindPopup%28popup_d50eb012e3d74216ad69e87e9c59d696%29%0A%20%20%20%20%20%20%20%20%3B%0A%0A%20%20%20%20%20%20%20%20%0A%20%20%20%20%0A%20%20%20%20%0A%20%20%20%20%20%20%20%20%20%20%20%20var%20circle_5bdfc9f01ee24a318fdbe50362327c04%20%3D%20L.circle%28%0A%20%20%20%20%20%20%20%20%20%20%20%20%20%20%20%20%5B40.7127753%2C%20-74.0059728%5D%2C%0A%20%20%20%20%20%20%20%20%20%20%20%20%20%20%20%20%7B%22bubblingMouseEvents%22%3A%20true%2C%20%22color%22%3A%20%22blue%22%2C%20%22dashArray%22%3A%20null%2C%20%22dashOffset%22%3A%20null%2C%20%22fill%22%3A%20true%2C%20%22fillColor%22%3A%20%22red%22%2C%20%22fillOpacity%22%3A%200.2%2C%20%22fillRule%22%3A%20%22evenodd%22%2C%20%22lineCap%22%3A%20%22round%22%2C%20%22lineJoin%22%3A%20%22round%22%2C%20%22opacity%22%3A%201.0%2C%20%22radius%22%3A%2024432.0%2C%20%22stroke%22%3A%20true%2C%20%22weight%22%3A%203%7D%0A%20%20%20%20%20%20%20%20%20%20%20%20%29.addTo%28map_9ccdc0a9479e4f9e93a22196f6a8d941%29%3B%0A%20%20%20%20%20%20%20%20%0A%20%20%20%20%0A%20%20%20%20%20%20%20%20var%20popup_8c80606761f24e639fec3a0dc2414702%20%3D%20L.popup%28%7B%22maxWidth%22%3A%20%22100%25%22%7D%29%3B%0A%0A%20%20%20%20%20%20%20%20%0A%20%20%20%20%20%20%20%20%20%20%20%20var%20html_6b8a629c61064c2aa23c030bb74882df%20%3D%20%24%28%60%3Cdiv%20id%3D%22html_6b8a629c61064c2aa23c030bb74882df%22%20style%3D%22width%3A%20100.0%25%3B%20height%3A%20100.0%25%3B%22%3ENew%20York%3C/div%3E%60%29%5B0%5D%3B%0A%20%20%20%20%20%20%20%20%20%20%20%20popup_8c80606761f24e639fec3a0dc2414702.setContent%28html_6b8a629c61064c2aa23c030bb74882df%29%3B%0A%20%20%20%20%20%20%20%20%0A%0A%20%20%20%20%20%20%20%20circle_5bdfc9f01ee24a318fdbe50362327c04.bindPopup%28popup_8c80606761f24e639fec3a0dc2414702%29%0A%20%20%20%20%20%20%20%20%3B%0A%0A%20%20%20%20%20%20%20%20%0A%20%20%20%20%0A%20%20%20%20%0A%20%20%20%20%20%20%20%20%20%20%20%20var%20circle_ed36b23ea0bc4073addbe82c4828009d%20%3D%20L.circle%28%0A%20%20%20%20%20%20%20%20%20%20%20%20%20%20%20%20%5B39.1031182%2C%20-84.5120196%5D%2C%0A%20%20%20%20%20%20%20%20%20%20%20%20%20%20%20%20%7B%22bubblingMouseEvents%22%3A%20true%2C%20%22color%22%3A%20%22blue%22%2C%20%22dashArray%22%3A%20null%2C%20%22dashOffset%22%3A%20null%2C%20%22fill%22%3A%20true%2C%20%22fillColor%22%3A%20%22red%22%2C%20%22fillOpacity%22%3A%200.2%2C%20%22fillRule%22%3A%20%22evenodd%22%2C%20%22lineCap%22%3A%20%22round%22%2C%20%22lineJoin%22%3A%20%22round%22%2C%20%22opacity%22%3A%201.0%2C%20%22radius%22%3A%207392.0%2C%20%22stroke%22%3A%20true%2C%20%22weight%22%3A%203%7D%0A%20%20%20%20%20%20%20%20%20%20%20%20%29.addTo%28map_9ccdc0a9479e4f9e93a22196f6a8d941%29%3B%0A%20%20%20%20%20%20%20%20%0A%20%20%20%20%0A%20%20%20%20%20%20%20%20var%20popup_372b0a2fc8da41d5b24aa3c286b34420%20%3D%20L.popup%28%7B%22maxWidth%22%3A%20%22100%25%22%7D%29%3B%0A%0A%20%20%20%20%20%20%20%20%0A%20%20%20%20%20%20%20%20%20%20%20%20var%20html_8f88f855862a473290f179e2ce3cf6a3%20%3D%20%24%28%60%3Cdiv%20id%3D%22html_8f88f855862a473290f179e2ce3cf6a3%22%20style%3D%22width%3A%20100.0%25%3B%20height%3A%20100.0%25%3B%22%3ECincinnati%3C/div%3E%60%29%5B0%5D%3B%0A%20%20%20%20%20%20%20%20%20%20%20%20popup_372b0a2fc8da41d5b24aa3c286b34420.setContent%28html_8f88f855862a473290f179e2ce3cf6a3%29%3B%0A%20%20%20%20%20%20%20%20%0A%0A%20%20%20%20%20%20%20%20circle_ed36b23ea0bc4073addbe82c4828009d.bindPopup%28popup_372b0a2fc8da41d5b24aa3c286b34420%29%0A%20%20%20%20%20%20%20%20%3B%0A%0A%20%20%20%20%20%20%20%20%0A%20%20%20%20%0A%20%20%20%20%0A%20%20%20%20%20%20%20%20%20%20%20%20var%20circle_78bd824a73104565b817343cf64b2c3a%20%3D%20L.circle%28%0A%20%20%20%20%20%20%20%20%20%20%20%20%20%20%20%20%5B41.49932%2C%20-81.6943605%5D%2C%0A%20%20%20%20%20%20%20%20%20%20%20%20%20%20%20%20%7B%22bubblingMouseEvents%22%3A%20true%2C%20%22color%22%3A%20%22blue%22%2C%20%22dashArray%22%3A%20null%2C%20%22dashOffset%22%3A%20null%2C%20%22fill%22%3A%20true%2C%20%22fillColor%22%3A%20%22red%22%2C%20%22fillOpacity%22%3A%200.2%2C%20%22fillRule%22%3A%20%22evenodd%22%2C%20%22lineCap%22%3A%20%22round%22%2C%20%22lineJoin%22%3A%20%22round%22%2C%20%22opacity%22%3A%201.0%2C%20%22radius%22%3A%2037068.0%2C%20%22stroke%22%3A%20true%2C%20%22weight%22%3A%203%7D%0A%20%20%20%20%20%20%20%20%20%20%20%20%29.addTo%28map_9ccdc0a9479e4f9e93a22196f6a8d941%29%3B%0A%20%20%20%20%20%20%20%20%0A%20%20%20%20%0A%20%20%20%20%20%20%20%20var%20popup_ae1f759e43e345278775d550d71211eb%20%3D%20L.popup%28%7B%22maxWidth%22%3A%20%22100%25%22%7D%29%3B%0A%0A%20%20%20%20%20%20%20%20%0A%20%20%20%20%20%20%20%20%20%20%20%20var%20html_fc16b2de25194c88a229c518dbc516a2%20%3D%20%24%28%60%3Cdiv%20id%3D%22html_fc16b2de25194c88a229c518dbc516a2%22%20style%3D%22width%3A%20100.0%25%3B%20height%3A%20100.0%25%3B%22%3ECleveland%3C/div%3E%60%29%5B0%5D%3B%0A%20%20%20%20%20%20%20%20%20%20%20%20popup_ae1f759e43e345278775d550d71211eb.setContent%28html_fc16b2de25194c88a229c518dbc516a2%29%3B%0A%20%20%20%20%20%20%20%20%0A%0A%20%20%20%20%20%20%20%20circle_78bd824a73104565b817343cf64b2c3a.bindPopup%28popup_ae1f759e43e345278775d550d71211eb%29%0A%20%20%20%20%20%20%20%20%3B%0A%0A%20%20%20%20%20%20%20%20%0A%20%20%20%20%0A%20%20%20%20%0A%20%20%20%20%20%20%20%20%20%20%20%20var%20circle_e87c6235b7494d829efb4f422c10ef0d%20%3D%20L.circle%28%0A%20%20%20%20%20%20%20%20%20%20%20%20%20%20%20%20%5B43.8768289%2C%20-116.9948804%5D%2C%0A%20%20%20%20%20%20%20%20%20%20%20%20%20%20%20%20%7B%22bubblingMouseEvents%22%3A%20true%2C%20%22color%22%3A%20%22blue%22%2C%20%22dashArray%22%3A%20null%2C%20%22dashOffset%22%3A%20null%2C%20%22fill%22%3A%20true%2C%20%22fillColor%22%3A%20%22red%22%2C%20%22fillOpacity%22%3A%200.2%2C%20%22fillRule%22%3A%20%22evenodd%22%2C%20%22lineCap%22%3A%20%22round%22%2C%20%22lineJoin%22%3A%20%22round%22%2C%20%22opacity%22%3A%201.0%2C%20%22radius%22%3A%203792.0%2C%20%22stroke%22%3A%20true%2C%20%22weight%22%3A%203%7D%0A%20%20%20%20%20%20%20%20%20%20%20%20%29.addTo%28map_9ccdc0a9479e4f9e93a22196f6a8d941%29%3B%0A%20%20%20%20%20%20%20%20%0A%20%20%20%20%0A%20%20%20%20%20%20%20%20var%20popup_1e3f4674fa594584b8d2173a5d2dbe1c%20%3D%20L.popup%28%7B%22maxWidth%22%3A%20%22100%25%22%7D%29%3B%0A%0A%20%20%20%20%20%20%20%20%0A%20%20%20%20%20%20%20%20%20%20%20%20var%20html_f88b748ef1534022a999adeffa68ae3a%20%3D%20%24%28%60%3Cdiv%20id%3D%22html_f88b748ef1534022a999adeffa68ae3a%22%20style%3D%22width%3A%20100.0%25%3B%20height%3A%20100.0%25%3B%22%3ENyssa%3C/div%3E%60%29%5B0%5D%3B%0A%20%20%20%20%20%20%20%20%20%20%20%20popup_1e3f4674fa594584b8d2173a5d2dbe1c.setContent%28html_f88b748ef1534022a999adeffa68ae3a%29%3B%0A%20%20%20%20%20%20%20%20%0A%0A%20%20%20%20%20%20%20%20circle_e87c6235b7494d829efb4f422c10ef0d.bindPopup%28popup_1e3f4674fa594584b8d2173a5d2dbe1c%29%0A%20%20%20%20%20%20%20%20%3B%0A%0A%20%20%20%20%20%20%20%20%0A%20%20%20%20%0A%20%20%20%20%0A%20%20%20%20%20%20%20%20%20%20%20%20var%20circle_c5745ec223e545538e9d31d13a1c82f9%20%3D%20L.circle%28%0A%20%20%20%20%20%20%20%20%20%20%20%20%20%20%20%20%5B51.253775%2C%20-85.323214%5D%2C%0A%20%20%20%20%20%20%20%20%20%20%20%20%20%20%20%20%7B%22bubblingMouseEvents%22%3A%20true%2C%20%22color%22%3A%20%22blue%22%2C%20%22dashArray%22%3A%20null%2C%20%22dashOffset%22%3A%20null%2C%20%22fill%22%3A%20true%2C%20%22fillColor%22%3A%20%22red%22%2C%20%22fillOpacity%22%3A%200.2%2C%20%22fillRule%22%3A%20%22evenodd%22%2C%20%22lineCap%22%3A%20%22round%22%2C%20%22lineJoin%22%3A%20%22round%22%2C%20%22opacity%22%3A%201.0%2C%20%22radius%22%3A%206792.0%2C%20%22stroke%22%3A%20true%2C%20%22weight%22%3A%203%7D%0A%20%20%20%20%20%20%20%20%20%20%20%20%29.addTo%28map_9ccdc0a9479e4f9e93a22196f6a8d941%29%3B%0A%20%20%20%20%20%20%20%20%0A%20%20%20%20%0A%20%20%20%20%20%20%20%20var%20popup_8e92ace9cf004852a983f8cff1d8833d%20%3D%20L.popup%28%7B%22maxWidth%22%3A%20%22100%25%22%7D%29%3B%0A%0A%20%20%20%20%20%20%20%20%0A%20%20%20%20%20%20%20%20%20%20%20%20var%20html_748fc0b4eb734dc28882585ae77ed05c%20%3D%20%24%28%60%3Cdiv%20id%3D%22html_748fc0b4eb734dc28882585ae77ed05c%22%20style%3D%22width%3A%20100.0%25%3B%20height%3A%20100.0%25%3B%22%3EOntario%3C/div%3E%60%29%5B0%5D%3B%0A%20%20%20%20%20%20%20%20%20%20%20%20popup_8e92ace9cf004852a983f8cff1d8833d.setContent%28html_748fc0b4eb734dc28882585ae77ed05c%29%3B%0A%20%20%20%20%20%20%20%20%0A%0A%20%20%20%20%20%20%20%20circle_c5745ec223e545538e9d31d13a1c82f9.bindPopup%28popup_8e92ace9cf004852a983f8cff1d8833d%29%0A%20%20%20%20%20%20%20%20%3B%0A%0A%20%20%20%20%20%20%20%20%0A%20%20%20%20%0A%20%20%20%20%0A%20%20%20%20%20%20%20%20%20%20%20%20var%20circle_1227d37b724a4fc4bb2e7b843acd19f2%20%3D%20L.circle%28%0A%20%20%20%20%20%20%20%20%20%20%20%20%20%20%20%20%5B45.5051064%2C%20-122.6750261%5D%2C%0A%20%20%20%20%20%20%20%20%20%20%20%20%20%20%20%20%7B%22bubblingMouseEvents%22%3A%20true%2C%20%22color%22%3A%20%22blue%22%2C%20%22dashArray%22%3A%20null%2C%20%22dashOffset%22%3A%20null%2C%20%22fill%22%3A%20true%2C%20%22fillColor%22%3A%20%22red%22%2C%20%22fillOpacity%22%3A%200.2%2C%20%22fillRule%22%3A%20%22evenodd%22%2C%20%22lineCap%22%3A%20%22round%22%2C%20%22lineJoin%22%3A%20%22round%22%2C%20%22opacity%22%3A%201.0%2C%20%22radius%22%3A%2010308.0%2C%20%22stroke%22%3A%20true%2C%20%22weight%22%3A%203%7D%0A%20%20%20%20%20%20%20%20%20%20%20%20%29.addTo%28map_9ccdc0a9479e4f9e93a22196f6a8d941%29%3B%0A%20%20%20%20%20%20%20%20%0A%20%20%20%20%0A%20%20%20%20%20%20%20%20var%20popup_410904bc29f9485897b0e52ce8c66a5e%20%3D%20L.popup%28%7B%22maxWidth%22%3A%20%22100%25%22%7D%29%3B%0A%0A%20%20%20%20%20%20%20%20%0A%20%20%20%20%20%20%20%20%20%20%20%20var%20html_32514cd23f5b4f9fb308282a7426c812%20%3D%20%24%28%60%3Cdiv%20id%3D%22html_32514cd23f5b4f9fb308282a7426c812%22%20style%3D%22width%3A%20100.0%25%3B%20height%3A%20100.0%25%3B%22%3EPortland%3C/div%3E%60%29%5B0%5D%3B%0A%20%20%20%20%20%20%20%20%20%20%20%20popup_410904bc29f9485897b0e52ce8c66a5e.setContent%28html_32514cd23f5b4f9fb308282a7426c812%29%3B%0A%20%20%20%20%20%20%20%20%0A%0A%20%20%20%20%20%20%20%20circle_1227d37b724a4fc4bb2e7b843acd19f2.bindPopup%28popup_410904bc29f9485897b0e52ce8c66a5e%29%0A%20%20%20%20%20%20%20%20%3B%0A%0A%20%20%20%20%20%20%20%20%0A%20%20%20%20%0A%20%20%20%20%0A%20%20%20%20%20%20%20%20%20%20%20%20var%20circle_07dc2b89380b4d9c96adf3120dcc8227%20%3D%20L.circle%28%0A%20%20%20%20%20%20%20%20%20%20%20%20%20%20%20%20%5B37.1055984%2C%20-96.5005776%5D%2C%0A%20%20%20%20%20%20%20%20%20%20%20%20%20%20%20%20%7B%22bubblingMouseEvents%22%3A%20true%2C%20%22color%22%3A%20%22blue%22%2C%20%22dashArray%22%3A%20null%2C%20%22dashOffset%22%3A%20null%2C%20%22fill%22%3A%20true%2C%20%22fillColor%22%3A%20%22red%22%2C%20%22fillOpacity%22%3A%200.2%2C%20%22fillRule%22%3A%20%22evenodd%22%2C%20%22lineCap%22%3A%20%22round%22%2C%20%22lineJoin%22%3A%20%22round%22%2C%20%22opacity%22%3A%201.0%2C%20%22radius%22%3A%202472.0%2C%20%22stroke%22%3A%20true%2C%20%22weight%22%3A%203%7D%0A%20%20%20%20%20%20%20%20%20%20%20%20%29.addTo%28map_9ccdc0a9479e4f9e93a22196f6a8d941%29%3B%0A%20%20%20%20%20%20%20%20%0A%20%20%20%20%0A%20%20%20%20%20%20%20%20var%20popup_500d2a76deb44582a4cc91001102cc78%20%3D%20L.popup%28%7B%22maxWidth%22%3A%20%22100%25%22%7D%29%3B%0A%0A%20%20%20%20%20%20%20%20%0A%20%20%20%20%20%20%20%20%20%20%20%20var%20html_b296e068d16b4bc6aa281f4b43d2506e%20%3D%20%24%28%60%3Cdiv%20id%3D%22html_b296e068d16b4bc6aa281f4b43d2506e%22%20style%3D%22width%3A%20100.0%25%3B%20height%3A%20100.0%25%3B%22%3EVale%3C/div%3E%60%29%5B0%5D%3B%0A%20%20%20%20%20%20%20%20%20%20%20%20popup_500d2a76deb44582a4cc91001102cc78.setContent%28html_b296e068d16b4bc6aa281f4b43d2506e%29%3B%0A%20%20%20%20%20%20%20%20%0A%0A%20%20%20%20%20%20%20%20circle_07dc2b89380b4d9c96adf3120dcc8227.bindPopup%28popup_500d2a76deb44582a4cc91001102cc78%29%0A%20%20%20%20%20%20%20%20%3B%0A%0A%20%20%20%20%20%20%20%20%0A%20%20%20%20%0A%20%20%20%20%0A%20%20%20%20%20%20%20%20%20%20%20%20var%20circle_174a073df7dd4fc2bcd2b162f63d6ed0%20%3D%20L.circle%28%0A%20%20%20%20%20%20%20%20%20%20%20%20%20%20%20%20%5B39.9525839%2C%20-75.1652215%5D%2C%0A%20%20%20%20%20%20%20%20%20%20%20%20%20%20%20%20%7B%22bubblingMouseEvents%22%3A%20true%2C%20%22color%22%3A%20%22blue%22%2C%20%22dashArray%22%3A%20null%2C%20%22dashOffset%22%3A%20null%2C%20%22fill%22%3A%20true%2C%20%22fillColor%22%3A%20%22red%22%2C%20%22fillOpacity%22%3A%200.2%2C%20%22fillRule%22%3A%20%22evenodd%22%2C%20%22lineCap%22%3A%20%22round%22%2C%20%22lineJoin%22%3A%20%22round%22%2C%20%22opacity%22%3A%201.0%2C%20%22radius%22%3A%208880.0%2C%20%22stroke%22%3A%20true%2C%20%22weight%22%3A%203%7D%0A%20%20%20%20%20%20%20%20%20%20%20%20%29.addTo%28map_9ccdc0a9479e4f9e93a22196f6a8d941%29%3B%0A%20%20%20%20%20%20%20%20%0A%20%20%20%20%0A%20%20%20%20%20%20%20%20var%20popup_c50ac699356f4191819aa8cfcf9ff3b3%20%3D%20L.popup%28%7B%22maxWidth%22%3A%20%22100%25%22%7D%29%3B%0A%0A%20%20%20%20%20%20%20%20%0A%20%20%20%20%20%20%20%20%20%20%20%20var%20html_7083f446dbd54e5fb5a36b0823f47654%20%3D%20%24%28%60%3Cdiv%20id%3D%22html_7083f446dbd54e5fb5a36b0823f47654%22%20style%3D%22width%3A%20100.0%25%3B%20height%3A%20100.0%25%3B%22%3EPhiladelphia%3C/div%3E%60%29%5B0%5D%3B%0A%20%20%20%20%20%20%20%20%20%20%20%20popup_c50ac699356f4191819aa8cfcf9ff3b3.setContent%28html_7083f446dbd54e5fb5a36b0823f47654%29%3B%0A%20%20%20%20%20%20%20%20%0A%0A%20%20%20%20%20%20%20%20circle_174a073df7dd4fc2bcd2b162f63d6ed0.bindPopup%28popup_c50ac699356f4191819aa8cfcf9ff3b3%29%0A%20%20%20%20%20%20%20%20%3B%0A%0A%20%20%20%20%20%20%20%20%0A%20%20%20%20%0A%20%20%20%20%0A%20%20%20%20%20%20%20%20%20%20%20%20var%20circle_ac9de8083b6d4bb092f039af1445c834%20%3D%20L.circle%28%0A%20%20%20%20%20%20%20%20%20%20%20%20%20%20%20%20%5B41.5102129%2C%20-112.0155015%5D%2C%0A%20%20%20%20%20%20%20%20%20%20%20%20%20%20%20%20%7B%22bubblingMouseEvents%22%3A%20true%2C%20%22color%22%3A%20%22blue%22%2C%20%22dashArray%22%3A%20null%2C%20%22dashOffset%22%3A%20null%2C%20%22fill%22%3A%20true%2C%20%22fillColor%22%3A%20%22red%22%2C%20%22fillOpacity%22%3A%200.2%2C%20%22fillRule%22%3A%20%22evenodd%22%2C%20%22lineCap%22%3A%20%22round%22%2C%20%22lineJoin%22%3A%20%22round%22%2C%20%22opacity%22%3A%201.0%2C%20%22radius%22%3A%204212.0%2C%20%22stroke%22%3A%20true%2C%20%22weight%22%3A%203%7D%0A%20%20%20%20%20%20%20%20%20%20%20%20%29.addTo%28map_9ccdc0a9479e4f9e93a22196f6a8d941%29%3B%0A%20%20%20%20%20%20%20%20%0A%20%20%20%20%0A%20%20%20%20%20%20%20%20var%20popup_4a0a947520174ffb8f6c7a04b8ef92d7%20%3D%20L.popup%28%7B%22maxWidth%22%3A%20%22100%25%22%7D%29%3B%0A%0A%20%20%20%20%20%20%20%20%0A%20%20%20%20%20%20%20%20%20%20%20%20var%20html_1e2994753d144cef9f57ed1412cdb8dc%20%3D%20%24%28%60%3Cdiv%20id%3D%22html_1e2994753d144cef9f57ed1412cdb8dc%22%20style%3D%22width%3A%20100.0%25%3B%20height%3A%20100.0%25%3B%22%3EBrigham%20City%3C/div%3E%60%29%5B0%5D%3B%0A%20%20%20%20%20%20%20%20%20%20%20%20popup_4a0a947520174ffb8f6c7a04b8ef92d7.setContent%28html_1e2994753d144cef9f57ed1412cdb8dc%29%3B%0A%20%20%20%20%20%20%20%20%0A%0A%20%20%20%20%20%20%20%20circle_ac9de8083b6d4bb092f039af1445c834.bindPopup%28popup_4a0a947520174ffb8f6c7a04b8ef92d7%29%0A%20%20%20%20%20%20%20%20%3B%0A%0A%20%20%20%20%20%20%20%20%0A%20%20%20%20%0A%20%20%20%20%0A%20%20%20%20%20%20%20%20%20%20%20%20var%20circle_9c69daef7fe7439cb0b5be465aaac311%20%3D%20L.circle%28%0A%20%20%20%20%20%20%20%20%20%20%20%20%20%20%20%20%5B41.1107771%2C%20-112.0260538%5D%2C%0A%20%20%20%20%20%20%20%20%20%20%20%20%20%20%20%20%7B%22bubblingMouseEvents%22%3A%20true%2C%20%22color%22%3A%20%22blue%22%2C%20%22dashArray%22%3A%20null%2C%20%22dashOffset%22%3A%20null%2C%20%22fill%22%3A%20true%2C%20%22fillColor%22%3A%20%22red%22%2C%20%22fillOpacity%22%3A%200.2%2C%20%22fillRule%22%3A%20%22evenodd%22%2C%20%22lineCap%22%3A%20%22round%22%2C%20%22lineJoin%22%3A%20%22round%22%2C%20%22opacity%22%3A%201.0%2C%20%22radius%22%3A%203336.0%2C%20%22stroke%22%3A%20true%2C%20%22weight%22%3A%203%7D%0A%20%20%20%20%20%20%20%20%20%20%20%20%29.addTo%28map_9ccdc0a9479e4f9e93a22196f6a8d941%29%3B%0A%20%20%20%20%20%20%20%20%0A%20%20%20%20%0A%20%20%20%20%20%20%20%20var%20popup_bfd5b232249f499fb90ee5db73df6962%20%3D%20L.popup%28%7B%22maxWidth%22%3A%20%22100%25%22%7D%29%3B%0A%0A%20%20%20%20%20%20%20%20%0A%20%20%20%20%20%20%20%20%20%20%20%20var%20html_f946f04a6e174bbea7e2ec46074de5ec%20%3D%20%24%28%60%3Cdiv%20id%3D%22html_f946f04a6e174bbea7e2ec46074de5ec%22%20style%3D%22width%3A%20100.0%25%3B%20height%3A%20100.0%25%3B%22%3EClearfield%3C/div%3E%60%29%5B0%5D%3B%0A%20%20%20%20%20%20%20%20%20%20%20%20popup_bfd5b232249f499fb90ee5db73df6962.setContent%28html_f946f04a6e174bbea7e2ec46074de5ec%29%3B%0A%20%20%20%20%20%20%20%20%0A%0A%20%20%20%20%20%20%20%20circle_9c69daef7fe7439cb0b5be465aaac311.bindPopup%28popup_bfd5b232249f499fb90ee5db73df6962%29%0A%20%20%20%20%20%20%20%20%3B%0A%0A%20%20%20%20%20%20%20%20%0A%20%20%20%20%0A%20%20%20%20%0A%20%20%20%20%20%20%20%20%20%20%20%20var%20circle_c81a05257fae49c295109ada3744f698%20%3D%20L.circle%28%0A%20%20%20%20%20%20%20%20%20%20%20%20%20%20%20%20%5B41.223%2C%20-111.9738304%5D%2C%0A%20%20%20%20%20%20%20%20%20%20%20%20%20%20%20%20%7B%22bubblingMouseEvents%22%3A%20true%2C%20%22color%22%3A%20%22blue%22%2C%20%22dashArray%22%3A%20null%2C%20%22dashOffset%22%3A%20null%2C%20%22fill%22%3A%20true%2C%20%22fillColor%22%3A%20%22red%22%2C%20%22fillOpacity%22%3A%200.2%2C%20%22fillRule%22%3A%20%22evenodd%22%2C%20%22lineCap%22%3A%20%22round%22%2C%20%22lineJoin%22%3A%20%22round%22%2C%20%22opacity%22%3A%201.0%2C%20%22radius%22%3A%2010800.0%2C%20%22stroke%22%3A%20true%2C%20%22weight%22%3A%203%7D%0A%20%20%20%20%20%20%20%20%20%20%20%20%29.addTo%28map_9ccdc0a9479e4f9e93a22196f6a8d941%29%3B%0A%20%20%20%20%20%20%20%20%0A%20%20%20%20%0A%20%20%20%20%20%20%20%20var%20popup_8c90ed2dd93349039a58c469eaa8e528%20%3D%20L.popup%28%7B%22maxWidth%22%3A%20%22100%25%22%7D%29%3B%0A%0A%20%20%20%20%20%20%20%20%0A%20%20%20%20%20%20%20%20%20%20%20%20var%20html_b2442d33ce754f5fbe0815a38bb4bc73%20%3D%20%24%28%60%3Cdiv%20id%3D%22html_b2442d33ce754f5fbe0815a38bb4bc73%22%20style%3D%22width%3A%20100.0%25%3B%20height%3A%20100.0%25%3B%22%3EOgden%3C/div%3E%60%29%5B0%5D%3B%0A%20%20%20%20%20%20%20%20%20%20%20%20popup_8c90ed2dd93349039a58c469eaa8e528.setContent%28html_b2442d33ce754f5fbe0815a38bb4bc73%29%3B%0A%20%20%20%20%20%20%20%20%0A%0A%20%20%20%20%20%20%20%20circle_c81a05257fae49c295109ada3744f698.bindPopup%28popup_8c90ed2dd93349039a58c469eaa8e528%29%0A%20%20%20%20%20%20%20%20%3B%0A%0A%20%20%20%20%20%20%20%20%0A%20%20%20%20%0A%20%20%20%20%0A%20%20%20%20%20%20%20%20%20%20%20%20var%20circle_28e1caa88eea42e8af2c90e898e28d33%20%3D%20L.circle%28%0A%20%20%20%20%20%20%20%20%20%20%20%20%20%20%20%20%5B40.7607793%2C%20-111.8910474%5D%2C%0A%20%20%20%20%20%20%20%20%20%20%20%20%20%20%20%20%7B%22bubblingMouseEvents%22%3A%20true%2C%20%22color%22%3A%20%22blue%22%2C%20%22dashArray%22%3A%20null%2C%20%22dashOffset%22%3A%20null%2C%20%22fill%22%3A%20true%2C%20%22fillColor%22%3A%20%22red%22%2C%20%22fillOpacity%22%3A%200.2%2C%20%22fillRule%22%3A%20%22evenodd%22%2C%20%22lineCap%22%3A%20%22round%22%2C%20%22lineJoin%22%3A%20%22round%22%2C%20%22opacity%22%3A%201.0%2C%20%22radius%22%3A%2024024.0%2C%20%22stroke%22%3A%20true%2C%20%22weight%22%3A%203%7D%0A%20%20%20%20%20%20%20%20%20%20%20%20%29.addTo%28map_9ccdc0a9479e4f9e93a22196f6a8d941%29%3B%0A%20%20%20%20%20%20%20%20%0A%20%20%20%20%0A%20%20%20%20%20%20%20%20var%20popup_06e2d2189f014d918edd5118127cf904%20%3D%20L.popup%28%7B%22maxWidth%22%3A%20%22100%25%22%7D%29%3B%0A%0A%20%20%20%20%20%20%20%20%0A%20%20%20%20%20%20%20%20%20%20%20%20var%20html_fa33c952e6d8419e8dac131176514bef%20%3D%20%24%28%60%3Cdiv%20id%3D%22html_fa33c952e6d8419e8dac131176514bef%22%20style%3D%22width%3A%20100.0%25%3B%20height%3A%20100.0%25%3B%22%3ESalt%20Lake%20City%3C/div%3E%60%29%5B0%5D%3B%0A%20%20%20%20%20%20%20%20%20%20%20%20popup_06e2d2189f014d918edd5118127cf904.setContent%28html_fa33c952e6d8419e8dac131176514bef%29%3B%0A%20%20%20%20%20%20%20%20%0A%0A%20%20%20%20%20%20%20%20circle_28e1caa88eea42e8af2c90e898e28d33.bindPopup%28popup_06e2d2189f014d918edd5118127cf904%29%0A%20%20%20%20%20%20%20%20%3B%0A%0A%20%20%20%20%20%20%20%20%0A%20%20%20%20%0A%20%20%20%20%0A%20%20%20%20%20%20%20%20%20%20%20%20var%20circle_ae0c819b31c7400e95ea120b0984bf20%20%3D%20L.circle%28%0A%20%20%20%20%20%20%20%20%20%20%20%20%20%20%20%20%5B40.5307776%2C%20-112.29828%5D%2C%0A%20%20%20%20%20%20%20%20%20%20%20%20%20%20%20%20%7B%22bubblingMouseEvents%22%3A%20true%2C%20%22color%22%3A%20%22blue%22%2C%20%22dashArray%22%3A%20null%2C%20%22dashOffset%22%3A%20null%2C%20%22fill%22%3A%20true%2C%20%22fillColor%22%3A%20%22red%22%2C%20%22fillOpacity%22%3A%200.2%2C%20%22fillRule%22%3A%20%22evenodd%22%2C%20%22lineCap%22%3A%20%22round%22%2C%20%22lineJoin%22%3A%20%22round%22%2C%20%22opacity%22%3A%201.0%2C%20%22radius%22%3A%202892.0%2C%20%22stroke%22%3A%20true%2C%20%22weight%22%3A%203%7D%0A%20%20%20%20%20%20%20%20%20%20%20%20%29.addTo%28map_9ccdc0a9479e4f9e93a22196f6a8d941%29%3B%0A%20%20%20%20%20%20%20%20%0A%20%20%20%20%0A%20%20%20%20%20%20%20%20var%20popup_b37c594c80de44d2ae7b542f177dc775%20%3D%20L.popup%28%7B%22maxWidth%22%3A%20%22100%25%22%7D%29%3B%0A%0A%20%20%20%20%20%20%20%20%0A%20%20%20%20%20%20%20%20%20%20%20%20var%20html_6d468b7966d844b1bf47f78337a3a74c%20%3D%20%24%28%60%3Cdiv%20id%3D%22html_6d468b7966d844b1bf47f78337a3a74c%22%20style%3D%22width%3A%20100.0%25%3B%20height%3A%20100.0%25%3B%22%3ETooele%3C/div%3E%60%29%5B0%5D%3B%0A%20%20%20%20%20%20%20%20%20%20%20%20popup_b37c594c80de44d2ae7b542f177dc775.setContent%28html_6d468b7966d844b1bf47f78337a3a74c%29%3B%0A%20%20%20%20%20%20%20%20%0A%0A%20%20%20%20%20%20%20%20circle_ae0c819b31c7400e95ea120b0984bf20.bindPopup%28popup_b37c594c80de44d2ae7b542f177dc775%29%0A%20%20%20%20%20%20%20%20%3B%0A%0A%20%20%20%20%20%20%20%20%0A%20%20%20%20%0A%20%20%20%20%0A%20%20%20%20%20%20%20%20%20%20%20%20var%20circle_1c7bcd3d73a44bbf9e377ba56c7b03e6%20%3D%20L.circle%28%0A%20%20%20%20%20%20%20%20%20%20%20%20%20%20%20%20%5B47.6062095%2C%20-122.3320708%5D%2C%0A%20%20%20%20%20%20%20%20%20%20%20%20%20%20%20%20%7B%22bubblingMouseEvents%22%3A%20true%2C%20%22color%22%3A%20%22blue%22%2C%20%22dashArray%22%3A%20null%2C%20%22dashOffset%22%3A%20null%2C%20%22fill%22%3A%20true%2C%20%22fillColor%22%3A%20%22red%22%2C%20%22fillOpacity%22%3A%200.2%2C%20%22fillRule%22%3A%20%22evenodd%22%2C%20%22lineCap%22%3A%20%22round%22%2C%20%22lineJoin%22%3A%20%22round%22%2C%20%22opacity%22%3A%201.0%2C%20%22radius%22%3A%2033120.0%2C%20%22stroke%22%3A%20true%2C%20%22weight%22%3A%203%7D%0A%20%20%20%20%20%20%20%20%20%20%20%20%29.addTo%28map_9ccdc0a9479e4f9e93a22196f6a8d941%29%3B%0A%20%20%20%20%20%20%20%20%0A%20%20%20%20%0A%20%20%20%20%20%20%20%20var%20popup_7b4ffa7e5c154c7cb79acb469b6f0a8e%20%3D%20L.popup%28%7B%22maxWidth%22%3A%20%22100%25%22%7D%29%3B%0A%0A%20%20%20%20%20%20%20%20%0A%20%20%20%20%20%20%20%20%20%20%20%20var%20html_04cc4dcec96c4875a2348d6c02444433%20%3D%20%24%28%60%3Cdiv%20id%3D%22html_04cc4dcec96c4875a2348d6c02444433%22%20style%3D%22width%3A%20100.0%25%3B%20height%3A%20100.0%25%3B%22%3ESeattle%3C/div%3E%60%29%5B0%5D%3B%0A%20%20%20%20%20%20%20%20%20%20%20%20popup_7b4ffa7e5c154c7cb79acb469b6f0a8e.setContent%28html_04cc4dcec96c4875a2348d6c02444433%29%3B%0A%20%20%20%20%20%20%20%20%0A%0A%20%20%20%20%20%20%20%20circle_1c7bcd3d73a44bbf9e377ba56c7b03e6.bindPopup%28popup_7b4ffa7e5c154c7cb79acb469b6f0a8e%29%0A%20%20%20%20%20%20%20%20%3B%0A%0A%20%20%20%20%20%20%20%20%0A%20%20%20%20%0A%20%20%20%20%0A%20%20%20%20%20%20%20%20%20%20%20%20var%20circle_11fc57438bce4d65b7c15db4a3eab5be%20%3D%20L.circle%28%0A%20%20%20%20%20%20%20%20%20%20%20%20%20%20%20%20%5B47.6587802%2C%20-117.4260465%5D%2C%0A%20%20%20%20%20%20%20%20%20%20%20%20%20%20%20%20%7B%22bubblingMouseEvents%22%3A%20true%2C%20%22color%22%3A%20%22blue%22%2C%20%22dashArray%22%3A%20null%2C%20%22dashOffset%22%3A%20null%2C%20%22fill%22%3A%20true%2C%20%22fillColor%22%3A%20%22red%22%2C%20%22fillOpacity%22%3A%200.2%2C%20%22fillRule%22%3A%20%22evenodd%22%2C%20%22lineCap%22%3A%20%22round%22%2C%20%22lineJoin%22%3A%20%22round%22%2C%20%22opacity%22%3A%201.0%2C%20%22radius%22%3A%2015528.0%2C%20%22stroke%22%3A%20true%2C%20%22weight%22%3A%203%7D%0A%20%20%20%20%20%20%20%20%20%20%20%20%29.addTo%28map_9ccdc0a9479e4f9e93a22196f6a8d941%29%3B%0A%20%20%20%20%20%20%20%20%0A%20%20%20%20%0A%20%20%20%20%20%20%20%20var%20popup_3f0cbeb864154dc9bb13aa1b3f69bd97%20%3D%20L.popup%28%7B%22maxWidth%22%3A%20%22100%25%22%7D%29%3B%0A%0A%20%20%20%20%20%20%20%20%0A%20%20%20%20%20%20%20%20%20%20%20%20var%20html_b42a0d36e6a148cfb8faa4053a4bec8f%20%3D%20%24%28%60%3Cdiv%20id%3D%22html_b42a0d36e6a148cfb8faa4053a4bec8f%22%20style%3D%22width%3A%20100.0%25%3B%20height%3A%20100.0%25%3B%22%3ESpokane%3C/div%3E%60%29%5B0%5D%3B%0A%20%20%20%20%20%20%20%20%20%20%20%20popup_3f0cbeb864154dc9bb13aa1b3f69bd97.setContent%28html_b42a0d36e6a148cfb8faa4053a4bec8f%29%3B%0A%20%20%20%20%20%20%20%20%0A%0A%20%20%20%20%20%20%20%20circle_11fc57438bce4d65b7c15db4a3eab5be.bindPopup%28popup_3f0cbeb864154dc9bb13aa1b3f69bd97%29%0A%20%20%20%20%20%20%20%20%3B%0A%0A%20%20%20%20%20%20%20%20%0A%20%20%20%20%0A%20%20%20%20%0A%20%20%20%20%20%20%20%20%20%20%20%20var%20circle_d7cf0bc6a66046d79cf4ab13dcad7971%20%3D%20L.circle%28%0A%20%20%20%20%20%20%20%20%20%20%20%20%20%20%20%20%5B47.2528768%2C%20-122.4442906%5D%2C%0A%20%20%20%20%20%20%20%20%20%20%20%20%20%20%20%20%7B%22bubblingMouseEvents%22%3A%20true%2C%20%22color%22%3A%20%22blue%22%2C%20%22dashArray%22%3A%20null%2C%20%22dashOffset%22%3A%20null%2C%20%22fill%22%3A%20true%2C%20%22fillColor%22%3A%20%22red%22%2C%20%22fillOpacity%22%3A%200.2%2C%20%22fillRule%22%3A%20%22evenodd%22%2C%20%22lineCap%22%3A%20%22round%22%2C%20%22lineJoin%22%3A%20%22round%22%2C%20%22opacity%22%3A%201.0%2C%20%22radius%22%3A%202748.0%2C%20%22stroke%22%3A%20true%2C%20%22weight%22%3A%203%7D%0A%20%20%20%20%20%20%20%20%20%20%20%20%29.addTo%28map_9ccdc0a9479e4f9e93a22196f6a8d941%29%3B%0A%20%20%20%20%20%20%20%20%0A%20%20%20%20%0A%20%20%20%20%20%20%20%20var%20popup_d1dba19252be4c21b2c0d94678c8ccb0%20%3D%20L.popup%28%7B%22maxWidth%22%3A%20%22100%25%22%7D%29%3B%0A%0A%20%20%20%20%20%20%20%20%0A%20%20%20%20%20%20%20%20%20%20%20%20var%20html_6ca40618079b418aa24c94da14113d2b%20%3D%20%24%28%60%3Cdiv%20id%3D%22html_6ca40618079b418aa24c94da14113d2b%22%20style%3D%22width%3A%20100.0%25%3B%20height%3A%20100.0%25%3B%22%3ETacoma%3C/div%3E%60%29%5B0%5D%3B%0A%20%20%20%20%20%20%20%20%20%20%20%20popup_d1dba19252be4c21b2c0d94678c8ccb0.setContent%28html_6ca40618079b418aa24c94da14113d2b%29%3B%0A%20%20%20%20%20%20%20%20%0A%0A%20%20%20%20%20%20%20%20circle_d7cf0bc6a66046d79cf4ab13dcad7971.bindPopup%28popup_d1dba19252be4c21b2c0d94678c8ccb0%29%0A%20%20%20%20%20%20%20%20%3B%0A%0A%20%20%20%20%20%20%20%20%0A%20%20%20%20%0A%20%20%20%20%0A%20%20%20%20%20%20%20%20%20%20%20%20var%20circle_380c969c5185445a88e1a14c93e27e9d%20%3D%20L.circle%28%0A%20%20%20%20%20%20%20%20%20%20%20%20%20%20%20%20%5B43.0389025%2C%20-87.9064736%5D%2C%0A%20%20%20%20%20%20%20%20%20%20%20%20%20%20%20%20%7B%22bubblingMouseEvents%22%3A%20true%2C%20%22color%22%3A%20%22blue%22%2C%20%22dashArray%22%3A%20null%2C%20%22dashOffset%22%3A%20null%2C%20%22fill%22%3A%20true%2C%20%22fillColor%22%3A%20%22red%22%2C%20%22fillOpacity%22%3A%200.2%2C%20%22fillRule%22%3A%20%22evenodd%22%2C%20%22lineCap%22%3A%20%22round%22%2C%20%22lineJoin%22%3A%20%22round%22%2C%20%22opacity%22%3A%201.0%2C%20%22radius%22%3A%2012480.0%2C%20%22stroke%22%3A%20true%2C%20%22weight%22%3A%203%7D%0A%20%20%20%20%20%20%20%20%20%20%20%20%29.addTo%28map_9ccdc0a9479e4f9e93a22196f6a8d941%29%3B%0A%20%20%20%20%20%20%20%20%0A%20%20%20%20%0A%20%20%20%20%20%20%20%20var%20popup_8f777840b52c4ebbaf0b3a42fffcaf38%20%3D%20L.popup%28%7B%22maxWidth%22%3A%20%22100%25%22%7D%29%3B%0A%0A%20%20%20%20%20%20%20%20%0A%20%20%20%20%20%20%20%20%20%20%20%20var%20html_5970d5b39b074c77a224001407421478%20%3D%20%24%28%60%3Cdiv%20id%3D%22html_5970d5b39b074c77a224001407421478%22%20style%3D%22width%3A%20100.0%25%3B%20height%3A%20100.0%25%3B%22%3EMilwaukee%3C/div%3E%60%29%5B0%5D%3B%0A%20%20%20%20%20%20%20%20%20%20%20%20popup_8f777840b52c4ebbaf0b3a42fffcaf38.setContent%28html_5970d5b39b074c77a224001407421478%29%3B%0A%20%20%20%20%20%20%20%20%0A%0A%20%20%20%20%20%20%20%20circle_380c969c5185445a88e1a14c93e27e9d.bindPopup%28popup_8f777840b52c4ebbaf0b3a42fffcaf38%29%0A%20%20%20%20%20%20%20%20%3B%0A%0A%20%20%20%20%20%20%20%20%0A%20%20%20%20%0A%3C/script%3E onload=\"this.contentDocument.open();this.contentDocument.write(    decodeURIComponent(this.getAttribute('data-html')));this.contentDocument.close();\" allowfullscreen webkitallowfullscreen mozallowfullscreen></iframe></div></div>"
      ],
      "text/plain": [
       "<folium.folium.Map at 0x12c25c190>"
      ]
     },
     "execution_count": 27,
     "metadata": {},
     "output_type": "execute_result"
    }
   ],
   "source": [
    "m = folium.Map(location=[36.733300, -100.766700], zoom_start=4)\n",
    "tooltip = 'Click me!'\n",
    "for i in range(0,len(reloc_cities)):\n",
    "    folium.Circle(\n",
    "      location=(reloc_cities.iloc[i]['Latitude'], reloc_cities.iloc[i]['Longitude']),\n",
    "      popup=reloc_cities.iloc[i]['City'],\n",
    "      radius=reloc_cities.iloc[i]['People'] * 12,\n",
    "      color='blue',\n",
    "      fill=True,\n",
    "      fill_color='red').add_to(m)\n",
    "m"
   ]
  },
  {
   "cell_type": "markdown",
   "metadata": {},
   "source": [
    "<!-- BEGIN QUESTION -->\n",
    "\n",
    "<div class=\"alert alert-block alert-info\">\n",
    "<b>Question 5b:</b> As was mentioned above, this data is self reported by detainees. What effect does the fact that the data is self-reported have on the data collected and the conclusions made?\n",
    "</div>\n",
    "  \n",
    "<!--\n",
    "BEGIN QUESTION\n",
    "name: q5b\n",
    "points: 1\n",
    "manual: true\n",
    "-->"
   ]
  },
  {
   "cell_type": "markdown",
   "metadata": {},
   "source": [
    "**Answer:** YOUR ANSWER HERE"
   ]
  },
  {
   "cell_type": "markdown",
   "metadata": {},
   "source": [
    "<!-- END QUESTION -->\n",
    "\n",
    "<!-- BEGIN QUESTION -->\n",
    "<div class=\"alert alert-block alert-info\">\n",
    "<b>Question 5c:</b> Given our work with the data and the context surrounding it (question 2a), what does it mean to be doing data analysis on these two datasets together? How is the context transformed through the act of your analysis?\n",
    "</div>\n",
    "\n",
    "<!--\n",
    "BEGIN QUESTION\n",
    "name: q5c\n",
    "points: 1\n",
    "manual: true\n",
    "-->"
   ]
  },
  {
   "cell_type": "markdown",
   "metadata": {},
   "source": [
    "**Answer:** YOUR ANSWER HERE"
   ]
  },
  {
   "cell_type": "markdown",
   "metadata": {},
   "source": [
    "<!-- END QUESTION -->\n",
    "\n",
    "<!-- BEGIN QUESTION -->\n",
    "\n",
    "<div class=\"alert alert-block alert-info\">\n",
    "<b>Labor Question:</b> How much time did you spend completing this module? Did you find outside resources that helped you? if so what were they?\n",
    "</div>\n",
    "\n",
    "\n",
    "<!--\n",
    "BEGIN QUESTION\n",
    "name: QL\n",
    "points: 1\n",
    "manual: true\n",
    "-->\n"
   ]
  },
  {
   "cell_type": "markdown",
   "metadata": {},
   "source": [
    "**Answer here** *Double click to edit this markdown cell with your answer*"
   ]
  },
  {
   "cell_type": "markdown",
   "metadata": {},
   "source": [
    "<!-- END QUESTION -->\n",
    "\n",
    "#### Feedback Survey\n",
    "Please consider filling out this [survey](https://docs.google.com/forms/d/e/1FAIpQLScd1q8VqvOMuVvLfhbVswckYKg1HFVwVu_bTF5NWbVZr4qWhw/viewform?usp=sf_link) to help us improve this module.\n"
   ]
  },
  {
   "cell_type": "markdown",
   "metadata": {},
   "source": [
    "Save your notebook first, then run this cell to export your submission.\n",
    "\n",
    "Download the zip file, which contains a copy of your notebook and your written responses."
   ]
  },
  {
   "cell_type": "code",
   "execution_count": null,
   "metadata": {},
   "outputs": [],
   "source": [
    "generator.export(\"notebook2.ipynb\")"
   ]
  },
  {
   "cell_type": "markdown",
   "metadata": {
    "#student": false
   },
   "source": [
    "---\n"
   ]
  }
 ],
 "metadata": {
  "anaconda-cloud": {},
  "checksums": [
   "7d62f2d8fa9df9782dabafaf29f6be0b",
   "bf3feb850b5e1bd76ebcd7c07e4125a4",
   "9ccdd9fe0060bd3ab7328387f1a35413",
   "a22cdadfe7c74bd821ea894f242bab88",
   "3d3282284ee18c6a2fd069444fde3217",
   "c5063f438aba580d73b3fc8f015801be",
   "bb574c420b608257b5fc9f647c3eb81c",
   "2846119dbb959fc17c459eafab13dcb5",
   "e01f007aa5443efb9900bd44d13dd7c7",
   "b804469a98fe20f770090a7acc360a31",
   "a46e8d57f8644009ee6351df0927f2bf",
   "c9decc56cff48e3fd4fb28e48a7ba110",
   "1508a0313a4e1c0923287b9327cb6a80",
   "bdab940058951e88de397a485186a5de",
   "62c34e40515edab6c4225ccf15087052",
   "0fd80a084c06e3f7653144df829c2e3d",
   "5344dc57314f63d6ea2455f0c2a27d30",
   "6c521a0f63dbf362aaaf744085cf5b4d",
   "f7cbedf950e5a0393fa8414ec591073c",
   "690c6779b8184c6b3f7b44b28258a1c9",
   "a23b90f9b02415da624c64c700cd983c",
   "1a89c04b14ffca9f33ba99754b16bc05",
   "135645a8e6de40583293478107705afb",
   "4500e0043480e3b5ee091f37fa8c6f2b",
   "989ef4f9e0df1c73b2e59d8a21acdaa9",
   "e682d5808dd16a1e8e787c15da5093c0",
   "7a7210ab4f95ccb7a3ce5d78bb87b92b",
   "6fa6c6038ba08d3c2973c03c4f222cf3",
   "9efc314b65237d5d646e1b817372afc6",
   "6a1eee6a000db38bf48e3c7c8313c2ed",
   "99193259bf8cb447d9c11ef80a2d517a",
   "be412606d0ab971baafe92a2aceddabd",
   "1d93fa85a37e8a9a4ed56e0e42a5e388",
   "13c86accb3f14a7504c1443b3b85b17b",
   "8b8bd628f67be024162e121a028737d5",
   "deda54df303d85c87084d4c7934124f2",
   "343c55190c6e01f3a21869185435318b",
   "b9f9b50487bc24ced9e9be3181b107c8",
   "2c628b07d1bc8678a879f1b182dfea22",
   "40a3a18785bcf172b3f5bffc70e2204a",
   "1be47a1c3314182c8741fb78645afc4c",
   "1a4743083d499b807c0f310cf851dd3f",
   "9d45946f137dcbd9b0bb25635216ec88",
   "af1b20ba747adc76da8d13147e160754",
   "c45b863a08254980e2804d24899d6712",
   "659c5ba16081070bc38a02d0d963063f",
   "646d6bf77641e96b7cd5772a8d1a10ad",
   "6fa6c6038ba08d3c2973c03c4f222cf3",
   "4b7233c8a0f8c12db1a1fcd5a9b445fc",
   "6357eb980f2ec54eaebb96dc7e3e1f7b",
   "23b2e187b60113dbb89807ca8d37030a"
  ],
  "history": [
   {
    "code": "# Run this cell!\nimport otter\nfrom IPython.display import HTML\nimport pandas as pd\nimport numpy as np\nimport matplotlib.pyplot as plt\nimport seaborn as sns\nimport folium\nimport plotly.express as px\nimport ipywidgets as widgets\nfrom ipywidgets import interact, interactive, fixed, interact_manual\n\ngenerator = otter.Notebook()\n\nrelocations_cities = pd.read_csv(\"data/RelocationDestinations_Cities_LL.csv\", error_bad_lines = False)",
    "id": "2240f21c7c724cf285ed63015e91935b",
    "idx": 1,
    "time": "2021-02-11T20:54:28.698Z",
    "type": "execution"
   },
   {
    "id": "2240f21c7c724cf285ed63015e91935b",
    "time": "2021-02-11T20:54:32.811Z",
    "type": "completion"
   },
   {
    "code": "# Run this cell!\nimport otter\nfrom IPython.display import HTML\nimport pandas as pd\nimport numpy as np\nimport matplotlib.pyplot as plt\nimport seaborn as sns\nimport folium\nimport plotly.express as px\nimport ipywidgets as widgets\nfrom ipywidgets import interact, interactive, fixed, interact_manual\n\ngenerator = otter.Notebook()\n\nrelocations_cities = pd.read_csv(\"data/RelocationDestinations_Cities_LL.csv\", error_bad_lines = False)",
    "id": "2240f21c7c724cf285ed63015e91935b",
    "idx": 1,
    "time": "2021-02-11T22:40:06.254Z",
    "type": "execution"
   },
   {
    "id": "2240f21c7c724cf285ed63015e91935b",
    "time": "2021-02-11T22:40:09.671Z",
    "type": "completion"
   },
   {
    "code": "# Save your notebook first, then run this cell to export your submission.\ngrader.export(\"nb2.ipynb\")",
    "id": "fb652f50162a47ceaf8a5c2c8babf8e8",
    "idx": 54,
    "time": "2021-02-16T03:47:22.598Z",
    "type": "execution"
   },
   {
    "id": "fb652f50162a47ceaf8a5c2c8babf8e8",
    "time": "2021-02-16T03:47:22.775Z",
    "type": "completion"
   },
   {
    "code": "# Run this cell!\nimport otter\nfrom IPython.display import HTML\nimport pandas as pd\nimport numpy as np\nimport matplotlib.pyplot as plt\nimport seaborn as sns\nimport folium\nimport plotly.express as px\nimport ipywidgets as widgets\nfrom ipywidgets import interact, interactive, fixed, interact_manual\n\ngenerator = otter.Notebook()\n\nrelocations_cities = pd.read_csv(\"data/RelocationDestinations_Cities_LL.csv\", error_bad_lines = False)",
    "id": "0a2405f5e06641e787b2787525f61c47",
    "idx": 1,
    "time": "2021-02-16T03:47:28.860Z",
    "type": "execution"
   },
   {
    "code": "# Save your notebook first, then run this cell to export your submission.\ngrader.export(\"nb2.ipynb\")",
    "id": "fb652f50162a47ceaf8a5c2c8babf8e8",
    "idx": 54,
    "time": "2021-02-16T03:47:31.473Z",
    "type": "execution"
   },
   {
    "id": "0a2405f5e06641e787b2787525f61c47",
    "time": "2021-02-16T03:47:32.426Z",
    "type": "completion"
   },
   {
    "id": "fb652f50162a47ceaf8a5c2c8babf8e8",
    "time": "2021-02-16T03:47:32.582Z",
    "type": "completion"
   },
   {
    "code": "# Save your notebook first, then run this cell to export your submission.\ngenerator.export(\"nb2.ipynb\")",
    "id": "fb652f50162a47ceaf8a5c2c8babf8e8",
    "idx": 54,
    "time": "2021-02-16T03:47:44.150Z",
    "type": "execution"
   },
   {
    "id": "fb652f50162a47ceaf8a5c2c8babf8e8",
    "time": "2021-02-16T03:47:44.287Z",
    "type": "completion"
   },
   {
    "code": "# Save your notebook first, then run this cell to export your submission.\ngenerator.export(\"notebook2.ipynb\")",
    "id": "fb652f50162a47ceaf8a5c2c8babf8e8",
    "idx": 54,
    "time": "2021-02-16T03:47:51.362Z",
    "type": "execution"
   },
   {
    "id": "fb652f50162a47ceaf8a5c2c8babf8e8",
    "time": "2021-02-16T03:47:59.200Z",
    "type": "completion"
   },
   {
    "code": "# Save your notebook first, then run this cell to export your submission.\ngenerator.export_notebook(\"notebook2.ipynb\")",
    "id": "fb652f50162a47ceaf8a5c2c8babf8e8",
    "idx": 54,
    "time": "2021-02-16T03:49:29.554Z",
    "type": "execution"
   },
   {
    "id": "fb652f50162a47ceaf8a5c2c8babf8e8",
    "time": "2021-02-16T03:49:29.662Z",
    "type": "completion"
   },
   {
    "code": "# Save your notebook first, then run this cell to export your submission.\ngenerator.export(\"notebook2.ipynb\")",
    "id": "fb652f50162a47ceaf8a5c2c8babf8e8",
    "idx": 54,
    "time": "2021-02-16T03:50:21.723Z",
    "type": "execution"
   },
   {
    "id": "fb652f50162a47ceaf8a5c2c8babf8e8",
    "time": "2021-02-16T03:50:31.178Z",
    "type": "completion"
   }
  ],
  "kernelspec": {
   "display_name": "Python 3 (ipykernel)",
   "language": "python",
   "name": "python3"
  },
  "language_info": {
   "codemirror_mode": {
    "name": "ipython",
    "version": 3
   },
   "file_extension": ".py",
   "mimetype": "text/x-python",
   "name": "python",
   "nbconvert_exporter": "python",
   "pygments_lexer": "ipython3",
   "version": "3.10.1 (v3.10.1:2cd268a3a9, Dec  6 2021, 14:28:59) [Clang 13.0.0 (clang-1300.0.29.3)]"
  },
  "number_of_pagebreaks": 0,
  "vscode": {
   "interpreter": {
    "hash": "aee8b7b246df8f9039afb4144a1f6fd8d2ca17a180786b69acc140d282b71a49"
   }
  },
  "widgets": {
   "application/vnd.jupyter.widget-state+json": {
    "state": {
     "2b7b00908eb44cb5b0014af99da71c88": {
      "model_module": "@jupyter-widgets/controls",
      "model_module_version": "1.5.0",
      "model_name": "DescriptionStyleModel",
      "state": {
       "description_width": ""
      }
     },
     "34c0ac2972704965800d0dd61eece359": {
      "model_module": "@jupyter-widgets/base",
      "model_module_version": "1.2.0",
      "model_name": "LayoutModel",
      "state": {}
     },
     "36f6f4b16a2043beba8e1a7440a45fec": {
      "model_module": "@jupyter-widgets/base",
      "model_module_version": "1.2.0",
      "model_name": "LayoutModel",
      "state": {}
     },
     "3f87b5baa3a845f1a1f50c2f75087432": {
      "model_module": "@jupyter-widgets/controls",
      "model_module_version": "1.5.0",
      "model_name": "VBoxModel",
      "state": {
       "_dom_classes": [
        "widget-interact"
       ],
       "children": [
        "IPY_MODEL_511ea88cef1c425baf034c4e779fc7b7",
        "IPY_MODEL_a65695e0440241329b6f99d994c4c738"
       ],
       "layout": "IPY_MODEL_36f6f4b16a2043beba8e1a7440a45fec"
      }
     },
     "511ea88cef1c425baf034c4e779fc7b7": {
      "model_module": "@jupyter-widgets/controls",
      "model_module_version": "1.5.0",
      "model_name": "DropdownModel",
      "state": {
       "_options_labels": [
        "Gila River Relocation Center",
        "Poston Relocation Center",
        "Jerome Relocation Center",
        "Rohwer Relocation Center",
        "Manzanar Relocation Center",
        "Tule Lake Relocation Center",
        "Granada Relocation Center",
        "Minidoka Relocation Center",
        "Topaz Relocation Center",
        "Heart Mountain Relocation Center"
       ],
       "description": "location",
       "index": 4,
       "layout": "IPY_MODEL_b0f39bde2e9747f2bf5af4443e7b6249",
       "style": "IPY_MODEL_2b7b00908eb44cb5b0014af99da71c88"
      }
     },
     "58ea973162c84a558968a4966bd89886": {
      "model_module": "@jupyter-widgets/controls",
      "model_module_version": "1.5.0",
      "model_name": "VBoxModel",
      "state": {
       "_dom_classes": [
        "widget-interact"
       ],
       "children": [
        "IPY_MODEL_d45cc91e6a344ce5854d1b9c7810bccf",
        "IPY_MODEL_8243b694f8ff43e48bf54b9fa9b133e0"
       ],
       "layout": "IPY_MODEL_9c91d91ed4ce471cb90bf86380ce51f2"
      }
     },
     "5c40898272b7411a9d4cbd64aea9d6de": {
      "model_module": "@jupyter-widgets/controls",
      "model_module_version": "1.5.0",
      "model_name": "DescriptionStyleModel",
      "state": {
       "description_width": ""
      }
     },
     "8243b694f8ff43e48bf54b9fa9b133e0": {
      "model_module": "@jupyter-widgets/output",
      "model_module_version": "1.0.0",
      "model_name": "OutputModel",
      "state": {
       "layout": "IPY_MODEL_987c4a6f95f842468e8ac100a7370ee8",
       "outputs": [
        {
         "data": {
          "image/png": "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\n",
          "text/plain": "<Figure size 1500x1000 with 1 Axes>"
         },
         "metadata": {},
         "output_type": "display_data"
        }
       ]
      }
     },
     "987c4a6f95f842468e8ac100a7370ee8": {
      "model_module": "@jupyter-widgets/base",
      "model_module_version": "1.2.0",
      "model_name": "LayoutModel",
      "state": {}
     },
     "9c91d91ed4ce471cb90bf86380ce51f2": {
      "model_module": "@jupyter-widgets/base",
      "model_module_version": "1.2.0",
      "model_name": "LayoutModel",
      "state": {}
     },
     "a65695e0440241329b6f99d994c4c738": {
      "model_module": "@jupyter-widgets/output",
      "model_module_version": "1.0.0",
      "model_name": "OutputModel",
      "state": {
       "layout": "IPY_MODEL_34c0ac2972704965800d0dd61eece359",
       "outputs": [
        {
         "ename": "KeyError",
         "evalue": "0",
         "output_type": "error",
         "traceback": [
          "\u001b[0;31m---------------------------------------------------------------------------\u001b[0m",
          "\u001b[0;31mKeyError\u001b[0m                                  Traceback (most recent call last)",
          "\u001b[0;32m/Library/Frameworks/Python.framework/Versions/3.10/lib/python3.10/site-packages/pandas/core/indexes/base.py\u001b[0m in \u001b[0;36mget_loc\u001b[0;34m(self, key, method, tolerance)\u001b[0m\n\u001b[1;32m   3360\u001b[0m             \u001b[0;32mtry\u001b[0m\u001b[0;34m:\u001b[0m\u001b[0;34m\u001b[0m\u001b[0;34m\u001b[0m\u001b[0m\n\u001b[0;32m-> 3361\u001b[0;31m                 \u001b[0;32mreturn\u001b[0m \u001b[0mself\u001b[0m\u001b[0;34m.\u001b[0m\u001b[0m_engine\u001b[0m\u001b[0;34m.\u001b[0m\u001b[0mget_loc\u001b[0m\u001b[0;34m(\u001b[0m\u001b[0mcasted_key\u001b[0m\u001b[0;34m)\u001b[0m\u001b[0;34m\u001b[0m\u001b[0;34m\u001b[0m\u001b[0m\n\u001b[0m\u001b[1;32m   3362\u001b[0m             \u001b[0;32mexcept\u001b[0m \u001b[0mKeyError\u001b[0m \u001b[0;32mas\u001b[0m \u001b[0merr\u001b[0m\u001b[0;34m:\u001b[0m\u001b[0;34m\u001b[0m\u001b[0;34m\u001b[0m\u001b[0m\n",
          "\u001b[0;32m/Library/Frameworks/Python.framework/Versions/3.10/lib/python3.10/site-packages/pandas/_libs/index.pyx\u001b[0m in \u001b[0;36mpandas._libs.index.IndexEngine.get_loc\u001b[0;34m()\u001b[0m\n",
          "\u001b[0;32m/Library/Frameworks/Python.framework/Versions/3.10/lib/python3.10/site-packages/pandas/_libs/index.pyx\u001b[0m in \u001b[0;36mpandas._libs.index.IndexEngine.get_loc\u001b[0;34m()\u001b[0m\n",
          "\u001b[0;32mpandas/_libs/hashtable_class_helper.pxi\u001b[0m in \u001b[0;36mpandas._libs.hashtable.Int64HashTable.get_item\u001b[0;34m()\u001b[0m\n",
          "\u001b[0;32mpandas/_libs/hashtable_class_helper.pxi\u001b[0m in \u001b[0;36mpandas._libs.hashtable.Int64HashTable.get_item\u001b[0;34m()\u001b[0m\n",
          "\u001b[0;31mKeyError\u001b[0m: 0",
          "\nThe above exception was the direct cause of the following exception:\n",
          "\u001b[0;31mKeyError\u001b[0m                                  Traceback (most recent call last)",
          "\u001b[0;32m/Library/Frameworks/Python.framework/Versions/3.10/lib/python3.10/site-packages/ipywidgets/widgets/interaction.py\u001b[0m in \u001b[0;36mupdate\u001b[0;34m(self, *args)\u001b[0m\n\u001b[1;32m    255\u001b[0m                     \u001b[0mvalue\u001b[0m \u001b[0;34m=\u001b[0m \u001b[0mwidget\u001b[0m\u001b[0;34m.\u001b[0m\u001b[0mget_interact_value\u001b[0m\u001b[0;34m(\u001b[0m\u001b[0;34m)\u001b[0m\u001b[0;34m\u001b[0m\u001b[0;34m\u001b[0m\u001b[0m\n\u001b[1;32m    256\u001b[0m                     \u001b[0mself\u001b[0m\u001b[0;34m.\u001b[0m\u001b[0mkwargs\u001b[0m\u001b[0;34m[\u001b[0m\u001b[0mwidget\u001b[0m\u001b[0;34m.\u001b[0m\u001b[0m_kwarg\u001b[0m\u001b[0;34m]\u001b[0m \u001b[0;34m=\u001b[0m \u001b[0mvalue\u001b[0m\u001b[0;34m\u001b[0m\u001b[0;34m\u001b[0m\u001b[0m\n\u001b[0;32m--> 257\u001b[0;31m                 \u001b[0mself\u001b[0m\u001b[0;34m.\u001b[0m\u001b[0mresult\u001b[0m \u001b[0;34m=\u001b[0m \u001b[0mself\u001b[0m\u001b[0;34m.\u001b[0m\u001b[0mf\u001b[0m\u001b[0;34m(\u001b[0m\u001b[0;34m**\u001b[0m\u001b[0mself\u001b[0m\u001b[0;34m.\u001b[0m\u001b[0mkwargs\u001b[0m\u001b[0;34m)\u001b[0m\u001b[0;34m\u001b[0m\u001b[0;34m\u001b[0m\u001b[0m\n\u001b[0m\u001b[1;32m    258\u001b[0m                 \u001b[0mshow_inline_matplotlib_plots\u001b[0m\u001b[0;34m(\u001b[0m\u001b[0;34m)\u001b[0m\u001b[0;34m\u001b[0m\u001b[0;34m\u001b[0m\u001b[0m\n\u001b[1;32m    259\u001b[0m                 \u001b[0;32mif\u001b[0m \u001b[0mself\u001b[0m\u001b[0;34m.\u001b[0m\u001b[0mauto_display\u001b[0m \u001b[0;32mand\u001b[0m \u001b[0mself\u001b[0m\u001b[0;34m.\u001b[0m\u001b[0mresult\u001b[0m \u001b[0;32mis\u001b[0m \u001b[0;32mnot\u001b[0m \u001b[0;32mNone\u001b[0m\u001b[0;34m:\u001b[0m\u001b[0;34m\u001b[0m\u001b[0;34m\u001b[0m\u001b[0m\n",
          "\u001b[0;32m/var/folders/3k/k6qjt0ds37g89ylq_8dq2wwh0000gn/T/ipykernel_10249/3606954792.py\u001b[0m in \u001b[0;36mpop_diff\u001b[0;34m(location)\u001b[0m\n\u001b[1;32m     13\u001b[0m     \u001b[0msns\u001b[0m\u001b[0;34m.\u001b[0m\u001b[0mset\u001b[0m\u001b[0;34m(\u001b[0m\u001b[0mfont_scale\u001b[0m\u001b[0;34m=\u001b[0m\u001b[0;36m.8\u001b[0m\u001b[0;34m)\u001b[0m\u001b[0;34m\u001b[0m\u001b[0;34m\u001b[0m\u001b[0m\n\u001b[1;32m     14\u001b[0m     \u001b[0mpbm_max\u001b[0m \u001b[0;34m=\u001b[0m \u001b[0mpop_by_month\u001b[0m\u001b[0;34m[\u001b[0m\u001b[0mlocation_dict\u001b[0m\u001b[0;34m[\u001b[0m\u001b[0mlocation\u001b[0m\u001b[0;34m]\u001b[0m\u001b[0;34m]\u001b[0m\u001b[0;34m.\u001b[0m\u001b[0mmax\u001b[0m\u001b[0;34m(\u001b[0m\u001b[0;34m)\u001b[0m\u001b[0;34m\u001b[0m\u001b[0;34m\u001b[0m\u001b[0m\n\u001b[0;32m---> 15\u001b[0;31m     \u001b[0mcamps_max\u001b[0m \u001b[0;34m=\u001b[0m \u001b[0mcamps\u001b[0m\u001b[0;34m[\u001b[0m\u001b[0mcamps\u001b[0m\u001b[0;34m[\u001b[0m\u001b[0;34m'Internment Camp Name'\u001b[0m\u001b[0;34m]\u001b[0m \u001b[0;34m==\u001b[0m \u001b[0mlocation\u001b[0m\u001b[0;34m]\u001b[0m\u001b[0;34m[\u001b[0m\u001b[0;34m'Maximum Population'\u001b[0m\u001b[0;34m]\u001b[0m\u001b[0;34m[\u001b[0m\u001b[0;36m0\u001b[0m\u001b[0;34m]\u001b[0m\u001b[0;34m\u001b[0m\u001b[0;34m\u001b[0m\u001b[0m\n\u001b[0m\u001b[1;32m     16\u001b[0m     \u001b[0mbar\u001b[0m \u001b[0;34m=\u001b[0m \u001b[0msns\u001b[0m\u001b[0;34m.\u001b[0m\u001b[0mbarplot\u001b[0m\u001b[0;34m(\u001b[0m\u001b[0mx\u001b[0m \u001b[0;34m=\u001b[0m\u001b[0;34m[\u001b[0m\u001b[0;34m'camps df'\u001b[0m\u001b[0;34m,\u001b[0m \u001b[0;34m'pop_by_month df'\u001b[0m\u001b[0;34m]\u001b[0m\u001b[0;34m,\u001b[0m \u001b[0my\u001b[0m\u001b[0;34m=\u001b[0m\u001b[0;34m[\u001b[0m\u001b[0mcamps_max\u001b[0m\u001b[0;34m,\u001b[0m \u001b[0mpbm_max\u001b[0m\u001b[0;34m]\u001b[0m\u001b[0;34m)\u001b[0m\u001b[0;34m;\u001b[0m\u001b[0;34m\u001b[0m\u001b[0;34m\u001b[0m\u001b[0m\n\u001b[1;32m     17\u001b[0m \u001b[0;34m\u001b[0m\u001b[0m\n",
          "\u001b[0;32m/Library/Frameworks/Python.framework/Versions/3.10/lib/python3.10/site-packages/pandas/core/series.py\u001b[0m in \u001b[0;36m__getitem__\u001b[0;34m(self, key)\u001b[0m\n\u001b[1;32m    940\u001b[0m \u001b[0;34m\u001b[0m\u001b[0m\n\u001b[1;32m    941\u001b[0m         \u001b[0;32melif\u001b[0m \u001b[0mkey_is_scalar\u001b[0m\u001b[0;34m:\u001b[0m\u001b[0;34m\u001b[0m\u001b[0;34m\u001b[0m\u001b[0m\n\u001b[0;32m--> 942\u001b[0;31m             \u001b[0;32mreturn\u001b[0m \u001b[0mself\u001b[0m\u001b[0;34m.\u001b[0m\u001b[0m_get_value\u001b[0m\u001b[0;34m(\u001b[0m\u001b[0mkey\u001b[0m\u001b[0;34m)\u001b[0m\u001b[0;34m\u001b[0m\u001b[0;34m\u001b[0m\u001b[0m\n\u001b[0m\u001b[1;32m    943\u001b[0m \u001b[0;34m\u001b[0m\u001b[0m\n\u001b[1;32m    944\u001b[0m         \u001b[0;32mif\u001b[0m \u001b[0mis_hashable\u001b[0m\u001b[0;34m(\u001b[0m\u001b[0mkey\u001b[0m\u001b[0;34m)\u001b[0m\u001b[0;34m:\u001b[0m\u001b[0;34m\u001b[0m\u001b[0;34m\u001b[0m\u001b[0m\n",
          "\u001b[0;32m/Library/Frameworks/Python.framework/Versions/3.10/lib/python3.10/site-packages/pandas/core/series.py\u001b[0m in \u001b[0;36m_get_value\u001b[0;34m(self, label, takeable)\u001b[0m\n\u001b[1;32m   1049\u001b[0m \u001b[0;34m\u001b[0m\u001b[0m\n\u001b[1;32m   1050\u001b[0m         \u001b[0;31m# Similar to Index.get_value, but we do not fall back to positional\u001b[0m\u001b[0;34m\u001b[0m\u001b[0;34m\u001b[0m\u001b[0m\n\u001b[0;32m-> 1051\u001b[0;31m         \u001b[0mloc\u001b[0m \u001b[0;34m=\u001b[0m \u001b[0mself\u001b[0m\u001b[0;34m.\u001b[0m\u001b[0mindex\u001b[0m\u001b[0;34m.\u001b[0m\u001b[0mget_loc\u001b[0m\u001b[0;34m(\u001b[0m\u001b[0mlabel\u001b[0m\u001b[0;34m)\u001b[0m\u001b[0;34m\u001b[0m\u001b[0;34m\u001b[0m\u001b[0m\n\u001b[0m\u001b[1;32m   1052\u001b[0m         \u001b[0;32mreturn\u001b[0m \u001b[0mself\u001b[0m\u001b[0;34m.\u001b[0m\u001b[0mindex\u001b[0m\u001b[0;34m.\u001b[0m\u001b[0m_get_values_for_loc\u001b[0m\u001b[0;34m(\u001b[0m\u001b[0mself\u001b[0m\u001b[0;34m,\u001b[0m \u001b[0mloc\u001b[0m\u001b[0;34m,\u001b[0m \u001b[0mlabel\u001b[0m\u001b[0;34m)\u001b[0m\u001b[0;34m\u001b[0m\u001b[0;34m\u001b[0m\u001b[0m\n\u001b[1;32m   1053\u001b[0m \u001b[0;34m\u001b[0m\u001b[0m\n",
          "\u001b[0;32m/Library/Frameworks/Python.framework/Versions/3.10/lib/python3.10/site-packages/pandas/core/indexes/base.py\u001b[0m in \u001b[0;36mget_loc\u001b[0;34m(self, key, method, tolerance)\u001b[0m\n\u001b[1;32m   3361\u001b[0m                 \u001b[0;32mreturn\u001b[0m \u001b[0mself\u001b[0m\u001b[0;34m.\u001b[0m\u001b[0m_engine\u001b[0m\u001b[0;34m.\u001b[0m\u001b[0mget_loc\u001b[0m\u001b[0;34m(\u001b[0m\u001b[0mcasted_key\u001b[0m\u001b[0;34m)\u001b[0m\u001b[0;34m\u001b[0m\u001b[0;34m\u001b[0m\u001b[0m\n\u001b[1;32m   3362\u001b[0m             \u001b[0;32mexcept\u001b[0m \u001b[0mKeyError\u001b[0m \u001b[0;32mas\u001b[0m \u001b[0merr\u001b[0m\u001b[0;34m:\u001b[0m\u001b[0;34m\u001b[0m\u001b[0;34m\u001b[0m\u001b[0m\n\u001b[0;32m-> 3363\u001b[0;31m                 \u001b[0;32mraise\u001b[0m \u001b[0mKeyError\u001b[0m\u001b[0;34m(\u001b[0m\u001b[0mkey\u001b[0m\u001b[0;34m)\u001b[0m \u001b[0;32mfrom\u001b[0m \u001b[0merr\u001b[0m\u001b[0;34m\u001b[0m\u001b[0;34m\u001b[0m\u001b[0m\n\u001b[0m\u001b[1;32m   3364\u001b[0m \u001b[0;34m\u001b[0m\u001b[0m\n\u001b[1;32m   3365\u001b[0m         \u001b[0;32mif\u001b[0m \u001b[0mis_scalar\u001b[0m\u001b[0;34m(\u001b[0m\u001b[0mkey\u001b[0m\u001b[0;34m)\u001b[0m \u001b[0;32mand\u001b[0m \u001b[0misna\u001b[0m\u001b[0;34m(\u001b[0m\u001b[0mkey\u001b[0m\u001b[0;34m)\u001b[0m \u001b[0;32mand\u001b[0m \u001b[0;32mnot\u001b[0m \u001b[0mself\u001b[0m\u001b[0;34m.\u001b[0m\u001b[0mhasnans\u001b[0m\u001b[0;34m:\u001b[0m\u001b[0;34m\u001b[0m\u001b[0;34m\u001b[0m\u001b[0m\n",
          "\u001b[0;31mKeyError\u001b[0m: 0"
         ]
        }
       ]
      }
     },
     "b0f39bde2e9747f2bf5af4443e7b6249": {
      "model_module": "@jupyter-widgets/base",
      "model_module_version": "1.2.0",
      "model_name": "LayoutModel",
      "state": {}
     },
     "d45cc91e6a344ce5854d1b9c7810bccf": {
      "model_module": "@jupyter-widgets/controls",
      "model_module_version": "1.5.0",
      "model_name": "DropdownModel",
      "state": {
       "_options_labels": [
        "Gila River Relocation Center",
        "Poston Relocation Center",
        "Jerome Relocation Center",
        "Rohwer Relocation Center",
        "Manzanar Relocation Center",
        "Tule Lake Relocation Center",
        "Granada Relocation Center",
        "Minidoka Relocation Center",
        "Topaz Relocation Center",
        "Heart Mountain Relocation Center"
       ],
       "description": "location",
       "index": 8,
       "layout": "IPY_MODEL_dae3d4c81ace47acb9289e9a85d33fff",
       "style": "IPY_MODEL_5c40898272b7411a9d4cbd64aea9d6de"
      }
     },
     "dae3d4c81ace47acb9289e9a85d33fff": {
      "model_module": "@jupyter-widgets/base",
      "model_module_version": "1.2.0",
      "model_name": "LayoutModel",
      "state": {}
     }
    },
    "version_major": 2,
    "version_minor": 0
   }
  }
 },
 "nbformat": 4,
 "nbformat_minor": 4
}
